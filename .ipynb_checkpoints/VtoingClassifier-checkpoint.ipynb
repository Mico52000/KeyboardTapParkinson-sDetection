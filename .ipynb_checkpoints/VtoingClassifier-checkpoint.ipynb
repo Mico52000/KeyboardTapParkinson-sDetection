{
 "cells": [
  {
   "cell_type": "code",
   "execution_count": 3,
   "metadata": {
    "id": "vO1HIPYCVDe9"
   },
   "outputs": [],
   "source": [
    "# import the libraries \n",
    "import tensorflow as tf\n",
    "import pandas as pd\n",
    "from keras.wrappers.scikit_learn import KerasClassifier\n",
    "from sklearn.model_selection import GridSearchCV\n",
    "from sklearn.preprocessing import StandardScaler\n",
    "import statsmodels.api as sm\n",
    "from sklearn.pipeline import Pipeline\n",
    "from sklearn.model_selection import KFold"
   ]
  },
  {
   "cell_type": "code",
   "execution_count": 4,
   "metadata": {
    "id": "9MFsraNBVdxm"
   },
   "outputs": [],
   "source": [
    "from sklearn.model_selection import train_test_split\n",
    "dataframe = pd.read_csv('KeyboardData2.csv')\n",
    "X = dataframe.iloc[:,:-1].values\n",
    "y = dataframe.iloc[:,-1].values\n",
    "\n",
    "X_train,X_test,y_train,y_test = train_test_split(X,y,test_size = 0.2,stratify=y)"
   ]
  },
  {
   "cell_type": "code",
   "execution_count": null,
   "metadata": {
    "id": "3WQACMOfVsgD"
   },
   "outputs": [],
   "source": [
    "from sklearn.pipeline import Pipeline\n",
    "from sklearn.model_selection import KFold\n",
    "from sklearn.neighbors import KNeighborsClassifier\n",
    "from sklearn.model_selection import GridSearchCV\n",
    "from sklearn.metrics import classification_report\n",
    "from sklearn.discriminant_analysis import LinearDiscriminantAnalysis\n",
    "from sklearn.decomposition import PCA\n",
    "from sklearn.ensemble import VotingClassifier\n",
    "from sklearn.naive_bayes import GaussianNB\n",
    "from sklearn.linear_model import LogisticRegression\n",
    "from sklearn.svm import SVC\n",
    "from sklearn.neural_network import MLPClassifier\n",
    "from sklearn.ensemble import AdaBoostClassifier\n",
    "from sklearn.ensemble import RandomForestClassifier\n",
    "import warnings\n",
    "\n",
    "warnings.filterwarnings(\"ignore\")\n",
    "#Define an instance of PCA \n",
    "pca = PCA()\n",
    "# Define a Standard Scaler to normalize inputs\n",
    "scaler = StandardScaler()\n",
    "estimator = []\n",
    "\n",
    "estimator.append(('lr', \n",
    "                  LogisticRegression( )))\n",
    "estimator.append(('svm', SVC( probability = True)))\n",
    "estimator.append(('GNB',GaussianNB()))\n",
    "estimator.append(('kn',KNeighborsClassifier()))\n",
    "estimator.append(('lda',LinearDiscriminantAnalysis()))\n",
    "estimator.append(('mlp',MLPClassifier()))\n",
    "\n",
    "vot_hard = VotingClassifier(estimators = estimator)\n",
    "\n",
    "\n",
    "\n",
    "pipe = Pipeline([\n",
    "    ('scaler', scaler),\n",
    "    (\"pca\", pca),\n",
    "    ('vot_hard', vot_hard )\n",
    "])\n",
    "\n",
    "params = {\n",
    "            'pca__n_components' : [6,7,8],\n",
    "            'vot_hard__lr__C': [0.01,0.1,0.5,1.0, 100.0],\n",
    "          'vot_hard__svm__C': [0.01,0.1,2,3,4],\n",
    "          'vot_hard__svm__gamma' : [1,0.1,0.01,0.001],\n",
    "          'vot_hard__kn__n_neighbors': [5,10,15,20,25],\n",
    "          'vot_hard__mlp__hidden_layer_sizes': [(5,5,5),(6,6,6),(6,6),(7,7,7),(8,8)],\n",
    "        'vot_hard__voting':['hard','soft']\n",
    "         \n",
    "         }\n",
    "grid = GridSearchCV(pipe, params, refit = True, verbose = 0,cv=5)\n",
    "grid.fit(X_train,y_train)\n",
    "\n",
    "# print best parameter after tuning\n",
    "print(grid.best_params_)\n",
    " \n",
    "# print how our model looks after hyper-parameter tuning\n",
    "print(grid.best_estimator_)\n",
    "\n",
    "\n",
    "grid_predictions = grid.predict(X_test)\n",
    " \n",
    "# print classification report\n",
    "print(classification_report(y_test, grid_predictions))"
   ]
  }
 ],
 "metadata": {
  "colab": {
   "name": "VtoingClassifier.ipynb",
   "provenance": []
  },
  "kernelspec": {
   "display_name": "Python 3 (ipykernel)",
   "language": "python",
   "name": "python3"
  },
  "language_info": {
   "codemirror_mode": {
    "name": "ipython",
    "version": 3
   },
   "file_extension": ".py",
   "mimetype": "text/x-python",
   "name": "python",
   "nbconvert_exporter": "python",
   "pygments_lexer": "ipython3",
   "version": "3.10.0"
  }
 },
 "nbformat": 4,
 "nbformat_minor": 1
}
