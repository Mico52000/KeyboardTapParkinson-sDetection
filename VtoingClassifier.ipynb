{
 "cells": [
  {
   "cell_type": "code",
   "execution_count": 18,
   "metadata": {
    "id": "vO1HIPYCVDe9"
   },
   "outputs": [],
   "source": [
    "# import the libraries \n",
    "import tensorflow as tf\n",
    "import pandas as pd\n",
    "from keras.wrappers.scikit_learn import KerasClassifier\n",
    "from sklearn.model_selection import GridSearchCV\n",
    "from sklearn.preprocessing import StandardScaler\n",
    "import statsmodels.api as sm\n",
    "from sklearn.pipeline import Pipeline\n",
    "from sklearn.model_selection import KFold\n",
    "import matplotlib.pyplot as plt\n",
    "from numpy import mean\n",
    "from numpy import std\n",
    "from sklearn.datasets import make_classification\n",
    "from sklearn.model_selection import cross_val_score\n",
    "from sklearn.model_selection import RepeatedStratifiedKFold\n",
    "from sklearn.neighbors import KNeighborsClassifier\n",
    "from sklearn.ensemble import VotingClassifier\n",
    "from matplotlib import pyplot\n"
   ]
  },
  {
   "cell_type": "code",
   "execution_count": 19,
   "metadata": {},
   "outputs": [],
   "source": [
    "def evaluate_model(model, X, y):\n",
    "    cv = RepeatedStratifiedKFold(n_splits=10, n_repeats=3, random_state=1)\n",
    "    scores = cross_val_score(model, X, y, scoring='accuracy', cv=cv, n_jobs=-1, error_score='raise')\n",
    "    return scores"
   ]
  },
  {
   "cell_type": "code",
   "execution_count": 20,
   "metadata": {},
   "outputs": [],
   "source": [
    "from sklearn.metrics import ConfusionMatrixDisplay,accuracy_score\n",
    "from sklearn.model_selection import cross_val_score\n",
    "from sklearn.model_selection import KFold\n",
    "\n",
    "def testClassifier(classifier,X_test,y_test):\n",
    "    y_pred =  classifier.predict(X_test)\n",
    "    titles_options = [\n",
    "    (\"Confusion matrix, without normalization\", None),\n",
    "    (\"Normalized confusion matrix\", \"true\"),]\n",
    "    for title, normalize in titles_options:\n",
    "        disp = ConfusionMatrixDisplay.from_estimator(\n",
    "            classifier,\n",
    "            X_test,\n",
    "            y_test,\n",
    "            display_labels=None ,\n",
    "            cmap=plt.cm.Blues,\n",
    "            normalize=normalize,\n",
    "        )\n",
    "        disp.ax_.set_title(title)\n",
    "\n",
    "        print(title)\n",
    "        print(disp.confusion_matrix)\n",
    "\n",
    "    plt.show()\n",
    "    print(\"Accuracy score : \" + str(accuracy_score(y_test, y_pred,  normalize=True, sample_weight=None)))\n",
    "#     X = np.concatenate((X_train, X_test), axis=0) \n",
    "#     y = np.concatenate((y_train, y_test), axis=0)\n",
    "#     scores = cross_val_score(classifier,X,y,cv=5)\n",
    "#     print(\"Mean accuracy of 5 fold cross validation test : \"+ str(scores.mean()))\n",
    "#     print(\"with a maximum accuracy of \" + str(scores.max()))\n",
    "#     scores = cross_val_score(classifier,X,y,cv=10)\n",
    "#     print(\"Mean accuracy of 10 fold cross validation test : \"+ str(scores.mean()))\n",
    "#     print(\"with a maximum accuracy of \" + str(scores.max()))\n",
    "#     scores = cross_val_score(classifier,X,y,cv=KFold(85))\n",
    "#     print(\"Mean accuracy of n fold cross validation test : \"+ str(scores.mean()))\n",
    "#     print(\"with a maximum accuracy of \" + str(scores.max()))\n",
    "#     scores = cross_val_score(classifier,X,y,cv=KFold())\n",
    "#     print(\"Mean accuracy of n fold cross validation test : \"+ str(scores.mean()))\n",
    "#     print(\"with a maximum accuracy of \" + str(scores.max()))"
   ]
  },
  {
   "cell_type": "code",
   "execution_count": 39,
   "metadata": {
    "id": "9MFsraNBVdxm"
   },
   "outputs": [],
   "source": [
    "from sklearn.model_selection import train_test_split\n",
    "dataframe = pd.read_csv('KeyboardData.csv')\n",
    "X = dataframe.iloc[:,:-1].values\n",
    "y = dataframe.iloc[:,-1].values\n",
    "\n",
    "X_train,X_test,y_train,y_test = train_test_split(X,y,test_size = 0.2,stratify=y)"
   ]
  },
  {
   "cell_type": "code",
   "execution_count": 22,
   "metadata": {
    "id": "3WQACMOfVsgD",
    "scrolled": true
   },
   "outputs": [
    {
     "name": "stdout",
     "output_type": "stream",
     "text": [
      "{'pca__n_components': 8, 'vot_hard__kn__n_neighbors': 8, 'vot_hard__svm__C': 4, 'vot_hard__svm__gamma': 0.01, 'vot_hard__voting': 'hard'}\n",
      "Pipeline(steps=[('scaler', StandardScaler()), ('pca', PCA(n_components=8)),\n",
      "                ('vot_hard',\n",
      "                 VotingClassifier(estimators=[('svm',\n",
      "                                               SVC(C=4, gamma=0.01,\n",
      "                                                   probability=True)),\n",
      "                                              ('GNB', GaussianNB()),\n",
      "                                              ('kn',\n",
      "                                               KNeighborsClassifier(n_neighbors=8)),\n",
      "                                              ('lda',\n",
      "                                               LinearDiscriminantAnalysis())]))])\n",
      "              precision    recall  f1-score   support\n",
      "\n",
      "           0       0.75      1.00      0.86         9\n",
      "           1       1.00      0.62      0.77         8\n",
      "\n",
      "    accuracy                           0.82        17\n",
      "   macro avg       0.88      0.81      0.81        17\n",
      "weighted avg       0.87      0.82      0.82        17\n",
      "\n"
     ]
    }
   ],
   "source": [
    "from sklearn.pipeline import Pipeline\n",
    "from sklearn.model_selection import KFold\n",
    "from sklearn.neighbors import KNeighborsClassifier\n",
    "from sklearn.model_selection import GridSearchCV\n",
    "from sklearn.metrics import classification_report\n",
    "from sklearn.discriminant_analysis import LinearDiscriminantAnalysis\n",
    "from sklearn.decomposition import PCA\n",
    "from sklearn.ensemble import VotingClassifier\n",
    "from sklearn.naive_bayes import GaussianNB\n",
    "from sklearn.linear_model import LogisticRegression\n",
    "from sklearn.svm import SVC\n",
    "from sklearn.neural_network import MLPClassifier\n",
    "from sklearn.ensemble import AdaBoostClassifier\n",
    "from sklearn.ensemble import RandomForestClassifier\n",
    "import warnings\n",
    "\n",
    "warnings.filterwarnings(\"ignore\")\n",
    "#Define an instance of PCA \n",
    "pca = PCA()\n",
    "# Define a Standard Scaler to normalize inputs\n",
    "scaler = StandardScaler()\n",
    "estimator = []\n",
    "\n",
    "estimator.append(('svm', SVC( probability = True)))\n",
    "estimator.append(('GNB',GaussianNB()))\n",
    "estimator.append(('kn',KNeighborsClassifier()))\n",
    "estimator.append(('lda',LinearDiscriminantAnalysis()))\n",
    "\n",
    "vot_hard = VotingClassifier(estimators = estimator)\n",
    "\n",
    "\n",
    "\n",
    "pipe = Pipeline([\n",
    "    ('scaler', scaler),\n",
    "    (\"pca\", pca),\n",
    "    ('vot_hard', vot_hard )\n",
    "])\n",
    "\n",
    "params = {\n",
    "            'pca__n_components' : [7,8],\n",
    "          'vot_hard__svm__C': [0.094,2,3,4],\n",
    "          'vot_hard__svm__gamma' : [1,0.1,0.01,0.052],\n",
    "          'vot_hard__kn__n_neighbors': [7,8,9,10],\n",
    "        'vot_hard__voting':['hard','soft']\n",
    "         \n",
    "         }\n",
    "gridvoting = GridSearchCV(pipe, params, refit = True, verbose = 0,cv=10)\n",
    "grid_voting_result=gridvoting.fit(X_train,y_train)\n",
    "\n",
    "# print best parameter after tuning\n",
    "print(grid_voting_result.best_params_)\n",
    " \n",
    "# print how our model looks after hyper-parameter tuning\n",
    "print(grid_voting_result.best_estimator_)\n",
    "\n",
    "\n",
    "grid_predictions = grid_voting_result.predict(X_test)\n",
    " \n",
    "# print classification report\n",
    "print(classification_report(y_test, grid_predictions))\n",
    "scores_voting = evaluate_model(grid_voting_result.best_estimator_,X,y)"
   ]
  },
  {
   "cell_type": "code",
   "execution_count": 23,
   "metadata": {},
   "outputs": [
    {
     "name": "stdout",
     "output_type": "stream",
     "text": [
      "Confusion matrix, without normalization\n",
      "[[9 0]\n",
      " [3 5]]\n",
      "Normalized confusion matrix\n",
      "[[1.    0.   ]\n",
      " [0.375 0.625]]\n"
     ]
    },
    {
     "data": {
      "image/png": "[encoded data removed]",
      "text/plain": [
       "<Figure size 432x288 with 2 Axes>"
      ]
     },
     "metadata": {
      "needs_background": "light"
     },
     "output_type": "display_data"
    },
    {
     "data": {
      "image/png": "[encoded data removed]",
      "text/plain": [
       "<Figure size 432x288 with 2 Axes>"
      ]
     },
     "metadata": {
      "needs_background": "light"
     },
     "output_type": "display_data"
    },
    {
     "name": "stdout",
     "output_type": "stream",
     "text": [
      "Accuracy score : 0.8235294117647058\n"
     ]
    }
   ],
   "source": [
    "testClassifier(grid_voting_result.best_estimator_,X_test,y_test)"
   ]
  },
  {
   "cell_type": "code",
   "execution_count": 24,
   "metadata": {
    "scrolled": false
   },
   "outputs": [
    {
     "name": "stdout",
     "output_type": "stream",
     "text": [
      "Fitting 5 folds for each of 108 candidates, totalling 540 fits\n",
      "Pipeline(steps=[('scaler', StandardScaler()), ('pca', PCA(n_components=6)),\n",
      "                ('model',\n",
      "                 BaggingClassifier(base_estimator=SVC(C=2), n_estimators=1))])\n",
      "              precision    recall  f1-score   support\n",
      "\n",
      "           0       0.64      0.78      0.70         9\n",
      "           1       0.67      0.50      0.57         8\n",
      "\n",
      "    accuracy                           0.65        17\n",
      "   macro avg       0.65      0.64      0.64        17\n",
      "weighted avg       0.65      0.65      0.64        17\n",
      "\n",
      "Best: 0.721978 using {'model__base_estimator__C': 2, 'model__bootstrap': True, 'model__n_estimators': 1, 'pca__n_components': 6}\n"
     ]
    }
   ],
   "source": [
    "from sklearn.pipeline import Pipeline\n",
    "from sklearn.model_selection import KFold\n",
    "from sklearn.neighbors import KNeighborsClassifier\n",
    "from sklearn.model_selection import GridSearchCV\n",
    "from sklearn.metrics import classification_report\n",
    "from sklearn.discriminant_analysis import LinearDiscriminantAnalysis\n",
    "from sklearn.decomposition import PCA\n",
    "from sklearn.ensemble import VotingClassifier\n",
    "from sklearn.naive_bayes import GaussianNB\n",
    "from sklearn.linear_model import LogisticRegression\n",
    "from sklearn.svm import SVC\n",
    "import warnings\n",
    "\n",
    "warnings.filterwarnings(\"ignore\")\n",
    "#Define an instance of PCA \n",
    "pca = PCA()\n",
    "# Define a Standard Scaler to normalize inputs\n",
    "scaler = StandardScaler()\n",
    "estimator = []\n",
    "from sklearn.ensemble import BaggingClassifier\n",
    "from sklearn.svm import SVC\n",
    "\n",
    "\n",
    "\n",
    "\n",
    "pipe = Pipeline([\n",
    "    ('scaler', scaler),\n",
    "    (\"pca\", pca),\n",
    "    ('model',BaggingClassifier(base_estimator=SVC()))\n",
    "   \n",
    "])\n",
    "\n",
    "params = {\n",
    "            'pca__n_components' : [6,7,8],\n",
    "            'model__n_estimators': [1 ,10,100],\n",
    "            'model__base_estimator__C': [0.001,0.01,0.1,2,3,4],\n",
    "            'model__bootstrap': [True, False],\n",
    "            \n",
    "           \n",
    "         }\n",
    "grid3 = GridSearchCV(pipe, params, verbose = 1,cv=5)\n",
    "grid_result3= grid3.fit(X_train,y_train)\n",
    "\n",
    "\n",
    " \n",
    "# print how our model looks after hyper-parameter tuning\n",
    "print(grid_result3.best_estimator_)\n",
    "\n",
    "\n",
    "grid_predictions = grid3.predict(X_test)\n",
    " \n",
    "# print classification report\n",
    "print(classification_report(y_test, grid_predictions))\n",
    "\n",
    "print(\"Best: %f using %s\" % (grid_result3.best_score_, grid_result3.best_params_))\n",
    "means = grid_result3.cv_results_['mean_test_score']\n",
    "stds = grid_result3.cv_results_['std_test_score']\n",
    "params = grid_result3.cv_results_['params']\n",
    "# for mean, stdev, param in zip(means, stds, params):\n",
    "#     print(\"%f (%f) with: %r\" % (mean, stdev, param))"
   ]
  },
  {
   "cell_type": "code",
   "execution_count": 25,
   "metadata": {},
   "outputs": [
    {
     "name": "stdout",
     "output_type": "stream",
     "text": [
      "Pipeline(steps=[('scaler', StandardScaler()), ('pca', PCA(n_components=8)),\n",
      "                ('gbm',\n",
      "                 GradientBoostingClassifier(learning_rate=0.01,\n",
      "                                            min_samples_split=0.390909090909091,\n",
      "                                            n_estimators=1000))])\n",
      "              precision    recall  f1-score   support\n",
      "\n",
      "           0       0.70      0.78      0.74         9\n",
      "           1       0.71      0.62      0.67         8\n",
      "\n",
      "    accuracy                           0.71        17\n",
      "   macro avg       0.71      0.70      0.70        17\n",
      "weighted avg       0.71      0.71      0.70        17\n",
      "\n",
      "Best: 0.733333 using {'gbm__criterion': 'friedman_mse', 'gbm__learning_rate': 0.01, 'gbm__min_samples_split': 0.390909090909091, 'gbm__n_estimators': 1000, 'pca__n_components': 8}\n"
     ]
    }
   ],
   "source": [
    "from sklearn.ensemble import GradientBoostingClassifier\n",
    "import numpy as np\n",
    "import warnings\n",
    "from sklearn.model_selection import train_test_split\n",
    "dataframe = pd.read_csv('KeyboardData.csv')\n",
    "X = dataframe.iloc[:,:-1].values\n",
    "y = dataframe.iloc[:,-1].values\n",
    "\n",
    "X_train,X_test,y_train,y_test = train_test_split(X,y,random_state=0,test_size = 0.2,stratify=y)\n",
    "warnings.filterwarnings(\"ignore\")\n",
    "\n",
    "pca = PCA()\n",
    "# Define a Standard Scaler to normalize inputs\n",
    "scaler = StandardScaler()\n",
    "gbm = GradientBoostingClassifier()\n",
    "pipe = Pipeline([\n",
    "    ('scaler', scaler),\n",
    "    (\"pca\", pca),\n",
    "    ('gbm', gbm )\n",
    "])\n",
    "param_grid = {\n",
    "    'pca__n_components' : [6,7,8,9],\n",
    "    'gbm__learning_rate': [0.001,0.01],\n",
    "    'gbm__n_estimators': [1000,2000],\n",
    "    'gbm__criterion': ['friedman_mse', 'squared_error'],\n",
    "#     \"gbm__max_features\":[\"log2\",\"sqrt\"],\n",
    "    \"gbm__min_samples_split\": np.linspace(0.1, 0.5, 12),\n",
    "#     \"gbm__max_depth\":[3,5,8],\n",
    "    \n",
    "             }\n",
    " \n",
    "grid2 = GridSearchCV(pipe, param_grid, verbose = 0,cv=10)\n",
    "# fitting the model for grid search\n",
    "grid_result2= grid2.fit(X_train,y_train)\n",
    "\n",
    "\n",
    " \n",
    "# print how our model looks after hyper-parameter tuning\n",
    "print(grid_result2.best_estimator_)\n",
    "\n",
    "\n",
    "grid_predictions = grid2.predict(X_test)\n",
    " \n",
    "# print classification report\n",
    "print(classification_report(y_test, grid_predictions))\n",
    "\n",
    "print(\"Best: %f using %s\" % (grid_result2.best_score_, grid_result2.best_params_))\n",
    "means = grid_result2.cv_results_['mean_test_score']\n",
    "stds = grid_result2.cv_results_['std_test_score']\n",
    "params = grid_result2.cv_results_['params']"
   ]
  },
  {
   "cell_type": "code",
   "execution_count": 26,
   "metadata": {},
   "outputs": [
    {
     "name": "stdout",
     "output_type": "stream",
     "text": [
      "[0.66666667 0.66666667 0.66666667 0.66666667 0.77777778 0.625\n",
      " 0.625      0.5        0.625      0.125      0.77777778 0.44444444\n",
      " 0.88888889 0.88888889 0.77777778 0.625      0.75       0.875\n",
      " 0.5        0.625      1.         0.77777778 0.66666667 0.44444444\n",
      " 0.44444444 0.75       0.625      0.875      0.875      0.625     ]\n"
     ]
    }
   ],
   "source": [
    "scores3=evaluate_model(grid_result2.best_estimator_,X,y)\n",
    "print(scores3)"
   ]
  },
  {
   "cell_type": "code",
   "execution_count": 27,
   "metadata": {},
   "outputs": [
    {
     "name": "stdout",
     "output_type": "stream",
     "text": [
      "Confusion matrix, without normalization\n",
      "[[7 2]\n",
      " [3 5]]\n",
      "Normalized confusion matrix\n",
      "[[0.77777778 0.22222222]\n",
      " [0.375      0.625     ]]\n"
     ]
    },
    {
     "data": {
      "image/png": "[encoded data removed]",
      "text/plain": [
       "<Figure size 432x288 with 2 Axes>"
      ]
     },
     "metadata": {
      "needs_background": "light"
     },
     "output_type": "display_data"
    },
    {
     "data": {
      "image/png": "[encoded data removed]",
      "text/plain": [
       "<Figure size 432x288 with 2 Axes>"
      ]
     },
     "metadata": {
      "needs_background": "light"
     },
     "output_type": "display_data"
    },
    {
     "name": "stdout",
     "output_type": "stream",
     "text": [
      "Accuracy score : 0.7058823529411765\n"
     ]
    }
   ],
   "source": [
    "testClassifier(grid_result2.best_estimator_,X_test,y_test)"
   ]
  },
  {
   "cell_type": "code",
   "execution_count": null,
   "metadata": {
    "scrolled": false
   },
   "outputs": [],
   "source": []
  },
  {
   "cell_type": "code",
   "execution_count": 28,
   "metadata": {},
   "outputs": [
    {
     "name": "stdout",
     "output_type": "stream",
     "text": [
      "[0.66666667 0.66666667 0.66666667 0.66666667 0.66666667 0.625\n",
      " 0.625      0.5        0.625      0.125      0.77777778 0.44444444\n",
      " 0.88888889 0.88888889 0.77777778 0.625      0.75       0.875\n",
      " 0.5        0.625      1.         0.77777778 0.66666667 0.44444444\n",
      " 0.44444444 0.75       0.625      0.875      0.875      0.625     ]\n"
     ]
    }
   ],
   "source": [
    "scores2=evaluate_model(grid_result2.best_estimator_,X,y)\n",
    "print(scores2)"
   ]
  },
  {
   "cell_type": "code",
   "execution_count": 29,
   "metadata": {},
   "outputs": [
    {
     "name": "stdout",
     "output_type": "stream",
     "text": [
      "Confusion matrix, without normalization\n",
      "[[7 2]\n",
      " [3 5]]\n",
      "Normalized confusion matrix\n",
      "[[0.77777778 0.22222222]\n",
      " [0.375      0.625     ]]\n"
     ]
    },
    {
     "data": {
      "image/png": "[encoded data removed]",
      "text/plain": [
       "<Figure size 432x288 with 2 Axes>"
      ]
     },
     "metadata": {
      "needs_background": "light"
     },
     "output_type": "display_data"
    },
    {
     "data": {
      "image/png": "[encoded data removed]",
      "text/plain": [
       "<Figure size 432x288 with 2 Axes>"
      ]
     },
     "metadata": {
      "needs_background": "light"
     },
     "output_type": "display_data"
    },
    {
     "name": "stdout",
     "output_type": "stream",
     "text": [
      "Accuracy score : 0.7058823529411765\n"
     ]
    }
   ],
   "source": [
    "testClassifier(grid_result2.best_estimator_,X_test,y_test)"
   ]
  },
  {
   "cell_type": "code",
   "execution_count": 33,
   "metadata": {},
   "outputs": [
    {
     "name": "stdout",
     "output_type": "stream",
     "text": [
      "{'pca__n_components': 8, 'vot_hard__kn__n_neighbors': 8, 'vot_hard__svm__C': 4, 'vot_hard__svm__gamma': 0.01, 'vot_hard__voting': 'soft'}\n",
      "Pipeline(steps=[('scaler', StandardScaler()), ('pca', PCA(n_components=8)),\n",
      "                ('vot_hard',\n",
      "                 VotingClassifier(estimators=[('svm',\n",
      "                                               SVC(C=4, gamma=0.01,\n",
      "                                                   probability=True)),\n",
      "                                              ('kn',\n",
      "                                               KNeighborsClassifier(n_neighbors=8)),\n",
      "                                              ('lda',\n",
      "                                               LinearDiscriminantAnalysis()),\n",
      "                                              ('GNB', GaussianNB())],\n",
      "                                  voting='soft'))])\n",
      "              precision    recall  f1-score   support\n",
      "\n",
      "           0       0.82      1.00      0.90         9\n",
      "           1       1.00      0.75      0.86         8\n",
      "\n",
      "    accuracy                           0.88        17\n",
      "   macro avg       0.91      0.88      0.88        17\n",
      "weighted avg       0.90      0.88      0.88        17\n",
      "\n"
     ]
    }
   ],
   "source": [
    "from sklearn.pipeline import Pipeline\n",
    "from sklearn.model_selection import KFold\n",
    "from sklearn.neighbors import KNeighborsClassifier\n",
    "from sklearn.model_selection import GridSearchCV\n",
    "from sklearn.metrics import classification_report\n",
    "from sklearn.discriminant_analysis import LinearDiscriminantAnalysis\n",
    "from sklearn.decomposition import PCA\n",
    "from sklearn.ensemble import VotingClassifier\n",
    "from sklearn.naive_bayes import GaussianNB\n",
    "from sklearn.linear_model import LogisticRegression\n",
    "from sklearn.svm import SVC\n",
    "from sklearn.neural_network import MLPClassifier\n",
    "from sklearn.ensemble import AdaBoostClassifier\n",
    "from sklearn.ensemble import RandomForestClassifier\n",
    "import warnings\n",
    "\n",
    "warnings.filterwarnings(\"ignore\")\n",
    "#Define an instance of PCA \n",
    "pca = PCA()\n",
    "# Define a Standard Scaler to normalize inputs\n",
    "scaler = StandardScaler()\n",
    "estimator = []\n",
    "\n",
    "estimator.append(('svm', SVC( probability = True)))\n",
    "estimator.append(('kn',KNeighborsClassifier()))\n",
    "estimator.append(('lda',LinearDiscriminantAnalysis()))\n",
    "estimator.append(('GNB',GaussianNB()))\n",
    "# estimator.append(('lr', LogisticRegression( )))\n",
    "# estimator.append(('gbm', GradientBoostingClassifier() ))\n",
    "\n",
    "vot_hard = VotingClassifier(estimators = estimator)\n",
    "\n",
    "\n",
    "\n",
    "pipe = Pipeline([\n",
    "    ('scaler', scaler),\n",
    "    (\"pca\", pca),\n",
    "    ('vot_hard', vot_hard )\n",
    "])\n",
    "\n",
    "params = {\n",
    "            'pca__n_components' : [8],\n",
    "          'vot_hard__svm__C': [4],\n",
    "#             'vot_hard__lr__C': [0.01,0.1,0.5,1.0, 100.0],\n",
    "          'vot_hard__svm__gamma' : [0.01],\n",
    "          'vot_hard__kn__n_neighbors': [8],\n",
    "        'vot_hard__voting':['soft']\n",
    "         \n",
    "         }\n",
    "grid1 = GridSearchCV(pipe, params, refit = True, verbose = 0,cv=10)\n",
    "grid_results1=grid1.fit(X_train,y_train)\n",
    "\n",
    "# print best parameter after tuning\n",
    "print(grid1.best_params_)\n",
    " \n",
    "# print how our model looks after hyper-parameter tuning\n",
    "print(grid1.best_estimator_)\n",
    "\n",
    "\n",
    "grid_predictions = grid1.predict(X_test)\n",
    "# print classification report\n",
    "print(classification_report(y_test, grid_predictions))"
   ]
  },
  {
   "cell_type": "code",
   "execution_count": 49,
   "metadata": {},
   "outputs": [
    {
     "name": "stdout",
     "output_type": "stream",
     "text": [
      "[[0.85955584 0.14044416]\n",
      " [0.73449279 0.26550721]\n",
      " [0.17059116 0.82940884]\n",
      " [0.21538823 0.78461177]\n",
      " [0.79573906 0.20426094]\n",
      " [0.72270619 0.27729381]\n",
      " [0.85954956 0.14045044]\n",
      " [0.05600514 0.94399486]\n",
      " [0.607526   0.392474  ]\n",
      " [0.4148093  0.5851907 ]\n",
      " [0.35559556 0.64440444]\n",
      " [0.57311891 0.42688109]\n",
      " [0.81930605 0.18069395]\n",
      " [0.37224765 0.62775235]\n",
      " [0.75178449 0.24821551]\n",
      " [0.78139701 0.21860299]\n",
      " [0.31819384 0.68180616]]\n"
     ]
    },
    {
     "data": {
      "image/png": "[encoded data removed]",
      "text/plain": [
       "<Figure size 864x432 with 1 Axes>"
      ]
     },
     "metadata": {
      "needs_background": "light"
     },
     "output_type": "display_data"
    }
   ],
   "source": [
    "import scikitplot as skplt\n",
    "X_train,X_test,y_train,y_test = train_test_split(X,y,test_size = 0.2,stratify=y)\n",
    "Y_test_probs = grid1.predict_proba(X_test)\n",
    "print(Y_test_probs)\n",
    "skplt.metrics.plot_roc_curve(y_test, Y_test_probs,\n",
    "                       title=\" ROC Curve\", figsize=(12,6));"
   ]
  },
  {
   "cell_type": "code",
   "execution_count": null,
   "metadata": {},
   "outputs": [],
   "source": [
    "testClassifier(grid_results1.best_estimator_,X_test,y_test)"
   ]
  },
  {
   "cell_type": "code",
   "execution_count": null,
   "metadata": {},
   "outputs": [],
   "source": [
    "# compare hard voting to standalone classifiers\n",
    "from numpy import mean\n",
    "from numpy import std\n",
    "from sklearn.datasets import make_classification\n",
    "from sklearn.model_selection import cross_val_score\n",
    "from sklearn.model_selection import RepeatedStratifiedKFold\n",
    "from sklearn.neighbors import KNeighborsClassifier\n",
    "from sklearn.ensemble import VotingClassifier\n",
    "from matplotlib import pyplot\n",
    "\n"
   ]
  },
  {
   "cell_type": "code",
   "execution_count": null,
   "metadata": {},
   "outputs": [],
   "source": [
    "scores1=evaluate_model(grid_results1.best_estimator_,X,y)"
   ]
  },
  {
   "cell_type": "code",
   "execution_count": null,
   "metadata": {},
   "outputs": [],
   "source": []
  },
  {
   "cell_type": "code",
   "execution_count": null,
   "metadata": {
    "scrolled": true
   },
   "outputs": [],
   "source": [
    "print(scores1)"
   ]
  },
  {
   "cell_type": "code",
   "execution_count": null,
   "metadata": {},
   "outputs": [],
   "source": [
    "print(scores2)"
   ]
  },
  {
   "cell_type": "code",
   "execution_count": null,
   "metadata": {},
   "outputs": [],
   "source": [
    "scores1 = [0.88888889, 0.88888889, 0.88888889, 0.77777778, 1.0,         0.875,\n",
    " 0.625,      0.875,      0.875,      0.25,       1.0,         0.44444444,\n",
    " 0.77777778, 0.77777778, 1.0,         0.625,      0.875,      0.875,\n",
    " 0.875,      0.625,      0.88888889, 0.88888889, 0.77777778, 0.77777778,\n",
    " 0.77777778, 0.75 ,      0.75,       1.,         0.75,       0.5,       ]"
   ]
  },
  {
   "cell_type": "code",
   "execution_count": 73,
   "metadata": {},
   "outputs": [
    {
     "name": "stdout",
     "output_type": "stream",
     "text": [
      "0.7098518526666667\n",
      "0.1482802607450038\n"
     ]
    }
   ],
   "source": [
    "scores3=[0.5, 0.5, 0.66666667, 0.77777778, 0.94, 0.625,\n",
    " 0.75,       0.75,       0.875,      0.5,      0.66666667, 0.44444444,\n",
    " 0.77777778, 0.77777778, 0.88888889, 0.625  ,    0.875 ,     0.75,\n",
    " 1.0,         0.5     ,   0.88888889 ,0.66666667, 0.55555556 ,0.66666667,\n",
    " 0.77777778, 0.5  ,      0.8   ,   0.875  ,    0.75  ,     0.625     ]\n",
    "print(np.mean(scores3))\n",
    "print(np.std(scores3))"
   ]
  },
  {
   "cell_type": "code",
   "execution_count": null,
   "metadata": {},
   "outputs": [],
   "source": [
    "results = [scores1,scores3,scores2]\n",
    "pyplot.boxplot(results, labels=[\"Voting classifier\",'Bagging classifier','gbm'], showmeans=True)\n",
    "pyplot.show()"
   ]
  },
  {
   "cell_type": "code",
   "execution_count": 72,
   "metadata": {},
   "outputs": [
    {
     "name": "stdout",
     "output_type": "stream",
     "text": [
      "0.7773180079310343\n",
      "0.12977606784690568\n"
     ]
    }
   ],
   "source": [
    "scores4 = [1, 0.77777778, 0.94, 0.94, 0.6, 0.75,\n",
    " 0.625,      0.625,      0.75,0.875, 0.8,\n",
    " 0.66, 0.77777778, 0.88888889, 0.5,        0.625,      0.75,\n",
    " 0.75,       0.80,      1.0,         0.77777778, 0.825, 0.90,\n",
    " 0.7, 0.625,      0.7,      1.0,         0.7,      0.88,     ]\n",
    "print(np.mean(scores4))\n",
    "print(np.std(scores4))"
   ]
  },
  {
   "cell_type": "code",
   "execution_count": 71,
   "metadata": {
    "scrolled": true
   },
   "outputs": [
    {
     "data": {
      "image/png": "[encoded data removed]",
      "text/plain": [
       "<Figure size 432x288 with 1 Axes>"
      ]
     },
     "metadata": {
      "needs_background": "light"
     },
     "output_type": "display_data"
    }
   ],
   "source": [
    "results = [scores3,scores4]\n",
    "pyplot.boxplot(results, labels=[\"Single headed CNN\",'Multi-headed CNN'], showmeans=True)\n",
    "pyplot.show()"
   ]
  },
  {
   "cell_type": "code",
   "execution_count": null,
   "metadata": {},
   "outputs": [],
   "source": [
    "results = [scores1,scores3,scores_voting]\n",
    "pyplot.boxplot(results, labels=[\"Voting classifier\",'Bagging classifier','Gradient Boosting'], showmeans=True)\n",
    "pyplot.show()"
   ]
  }
 ],
 "metadata": {
  "colab": {
   "name": "VtoingClassifier.ipynb",
   "provenance": []
  },
  "kernelspec": {
   "display_name": "Python 3 (ipykernel)",
   "language": "python",
   "name": "python3"
  },
  "language_info": {
   "codemirror_mode": {
    "name": "ipython",
    "version": 3
   },
   "file_extension": ".py",
   "mimetype": "text/x-python",
   "name": "python",
   "nbconvert_exporter": "python",
   "pygments_lexer": "ipython3",
   "version": "3.9.12"
  }
 },
 "nbformat": 4,
 "nbformat_minor": 1
}
