{
 "cells": [
  {
   "cell_type": "code",
   "execution_count": 70,
   "id": "08662266",
   "metadata": {},
   "outputs": [],
   "source": [
    "import numpy as np\n",
    "import matplotlib.pyplot as plt\n",
    "import pandas as pd\n",
    "import nqDataLoader as nq #data loading library"
   ]
  },
  {
   "cell_type": "markdown",
   "id": "27874526",
   "metadata": {},
   "source": [
    "## importing the early_stage data set "
   ]
  },
  {
   "cell_type": "code",
   "execution_count": 71,
   "id": "e52590d5",
   "metadata": {},
   "outputs": [
    {
     "data": {
      "text/html": [
       "<div>\n",
       "<style scoped>\n",
       "    .dataframe tbody tr th:only-of-type {\n",
       "        vertical-align: middle;\n",
       "    }\n",
       "\n",
       "    .dataframe tbody tr th {\n",
       "        vertical-align: top;\n",
       "    }\n",
       "\n",
       "    .dataframe thead th {\n",
       "        text-align: right;\n",
       "    }\n",
       "</style>\n",
       "<table border=\"1\" class=\"dataframe\">\n",
       "  <thead>\n",
       "    <tr style=\"text-align: right;\">\n",
       "      <th></th>\n",
       "      <th>pID</th>\n",
       "      <th>gt</th>\n",
       "      <th>updrs108</th>\n",
       "      <th>afTap</th>\n",
       "      <th>sTap</th>\n",
       "      <th>nqScore</th>\n",
       "      <th>typingSpeed</th>\n",
       "      <th>file_1</th>\n",
       "    </tr>\n",
       "  </thead>\n",
       "  <tbody>\n",
       "    <tr>\n",
       "      <th>0</th>\n",
       "      <td>1000</td>\n",
       "      <td>True</td>\n",
       "      <td>27</td>\n",
       "      <td>79.0</td>\n",
       "      <td>184.5</td>\n",
       "      <td>0.107179</td>\n",
       "      <td>56.866667</td>\n",
       "      <td>1424946827.1000_001_014.csv</td>\n",
       "    </tr>\n",
       "    <tr>\n",
       "      <th>1</th>\n",
       "      <td>1001</td>\n",
       "      <td>True</td>\n",
       "      <td>16</td>\n",
       "      <td>96.5</td>\n",
       "      <td>189.0</td>\n",
       "      <td>0.056286</td>\n",
       "      <td>118.000000</td>\n",
       "      <td>1427279751.1001_001_014.csv</td>\n",
       "    </tr>\n",
       "    <tr>\n",
       "      <th>2</th>\n",
       "      <td>1002</td>\n",
       "      <td>False</td>\n",
       "      <td>5</td>\n",
       "      <td>140.0</td>\n",
       "      <td>158.0</td>\n",
       "      <td>0.039519</td>\n",
       "      <td>119.037037</td>\n",
       "      <td>1426676689.1002_001_014.csv</td>\n",
       "    </tr>\n",
       "    <tr>\n",
       "      <th>3</th>\n",
       "      <td>1004</td>\n",
       "      <td>True</td>\n",
       "      <td>22</td>\n",
       "      <td>83.5</td>\n",
       "      <td>191.5</td>\n",
       "      <td>0.034853</td>\n",
       "      <td>74.266667</td>\n",
       "      <td>1429866367.1004_001_014.csv</td>\n",
       "    </tr>\n",
       "    <tr>\n",
       "      <th>4</th>\n",
       "      <td>1005</td>\n",
       "      <td>True</td>\n",
       "      <td>17</td>\n",
       "      <td>68.0</td>\n",
       "      <td>150.0</td>\n",
       "      <td>0.048307</td>\n",
       "      <td>74.969697</td>\n",
       "      <td>1430134526.1005_001_014.csv</td>\n",
       "    </tr>\n",
       "  </tbody>\n",
       "</table>\n",
       "</div>"
      ],
      "text/plain": [
       "    pID     gt  updrs108  afTap   sTap   nqScore  typingSpeed  \\\n",
       "0  1000   True        27   79.0  184.5  0.107179    56.866667   \n",
       "1  1001   True        16   96.5  189.0  0.056286   118.000000   \n",
       "2  1002  False         5  140.0  158.0  0.039519   119.037037   \n",
       "3  1004   True        22   83.5  191.5  0.034853    74.266667   \n",
       "4  1005   True        17   68.0  150.0  0.048307    74.969697   \n",
       "\n",
       "                        file_1  \n",
       "0  1424946827.1000_001_014.csv  \n",
       "1  1427279751.1001_001_014.csv  \n",
       "2  1426676689.1002_001_014.csv  \n",
       "3  1429866367.1004_001_014.csv  \n",
       "4  1430134526.1005_001_014.csv  "
      ]
     },
     "execution_count": 71,
     "metadata": {},
     "output_type": "execute_result"
    }
   ],
   "source": [
    "## importing the early stage dataset \n",
    "early_stage = pd.read_csv('GT_DataPD_MIT-CS2PD.csv')\n",
    "# X = dataset.iloc[:, :-1].values\n",
    "# y = dataset.iloc[:, -1].values\n",
    "early_stage.head()"
   ]
  },
  {
   "cell_type": "markdown",
   "id": "11e1260f",
   "metadata": {},
   "source": [
    "## Calculating the SDI for early stage dataset "
   ]
  },
  {
   "cell_type": "code",
   "execution_count": 72,
   "id": "576670b0",
   "metadata": {},
   "outputs": [],
   "source": [
    "SD_index = []\n",
    "for index, row in early_stage.iterrows():\n",
    "    fileloc = row.file_1\n",
    "    keyPressed, htArr, pressArr, releaseArr =  nq.getDataFiltHelper( \"data_MIT-CS2PD/\" + early_stage.loc[index]['file_1'])\n",
    "    fluctuations = []\n",
    "    for i in range(0,len(htArr)-1):\n",
    "        row1 = htArr[i]\n",
    "        row2 = htArr[i+1]\n",
    "        temp1 = np.log(row1)\n",
    "        temp2 = np.log(row2)\n",
    "        result = temp2-temp1\n",
    "        fluctuations.append(result)\n",
    "    npFluctuations = np.array(fluctuations)\n",
    "    sd_index_score = npFluctuations.std()\n",
    "    SD_index.append(sd_index_score) \n",
    "    \n",
    "    \n",
    "early_stage[\"SDi\"] = SD_index "
   ]
  },
  {
   "cell_type": "markdown",
   "id": "9305c96f",
   "metadata": {},
   "source": [
    "## preparing the dataset to only have SDi as a feature and the gt as the dependant variable"
   ]
  },
  {
   "cell_type": "code",
   "execution_count": 73,
   "id": "30aef855",
   "metadata": {},
   "outputs": [
    {
     "name": "stdout",
     "output_type": "stream",
     "text": [
      "54\n"
     ]
    },
    {
     "data": {
      "text/html": [
       "<div>\n",
       "<style scoped>\n",
       "    .dataframe tbody tr th:only-of-type {\n",
       "        vertical-align: middle;\n",
       "    }\n",
       "\n",
       "    .dataframe tbody tr th {\n",
       "        vertical-align: top;\n",
       "    }\n",
       "\n",
       "    .dataframe thead th {\n",
       "        text-align: right;\n",
       "    }\n",
       "</style>\n",
       "<table border=\"1\" class=\"dataframe\">\n",
       "  <thead>\n",
       "    <tr style=\"text-align: right;\">\n",
       "      <th></th>\n",
       "      <th>SDi</th>\n",
       "      <th>gt</th>\n",
       "    </tr>\n",
       "  </thead>\n",
       "  <tbody>\n",
       "    <tr>\n",
       "      <th>0</th>\n",
       "      <td>0.380584</td>\n",
       "      <td>1</td>\n",
       "    </tr>\n",
       "    <tr>\n",
       "      <th>1</th>\n",
       "      <td>0.378429</td>\n",
       "      <td>1</td>\n",
       "    </tr>\n",
       "    <tr>\n",
       "      <th>2</th>\n",
       "      <td>0.349012</td>\n",
       "      <td>0</td>\n",
       "    </tr>\n",
       "    <tr>\n",
       "      <th>3</th>\n",
       "      <td>0.354817</td>\n",
       "      <td>1</td>\n",
       "    </tr>\n",
       "    <tr>\n",
       "      <th>4</th>\n",
       "      <td>0.236304</td>\n",
       "      <td>1</td>\n",
       "    </tr>\n",
       "  </tbody>\n",
       "</table>\n",
       "</div>"
      ],
      "text/plain": [
       "        SDi  gt\n",
       "0  0.380584   1\n",
       "1  0.378429   1\n",
       "2  0.349012   0\n",
       "3  0.354817   1\n",
       "4  0.236304   1"
      ]
     },
     "execution_count": 73,
     "metadata": {},
     "output_type": "execute_result"
    }
   ],
   "source": [
    "early_stage[\"gt\"] = early_stage[\"gt\"].astype(int)\n",
    "\n",
    "early_stage.drop([\"pID\",'updrs108','afTap','sTap','nqScore','typingSpeed','file_1'], axis=1, inplace=True)\n",
    "early_stage = early_stage[['SDi','gt']]\n",
    "print(len(early_stage))\n",
    "early_stage.head()\n"
   ]
  },
  {
   "cell_type": "markdown",
   "id": "53e8bce3",
   "metadata": {},
   "source": [
    "## importing the de_novo dataset"
   ]
  },
  {
   "cell_type": "code",
   "execution_count": 74,
   "id": "4e955ab9",
   "metadata": {},
   "outputs": [
    {
     "name": "stdout",
     "output_type": "stream",
     "text": [
      "31\n"
     ]
    },
    {
     "data": {
      "text/html": [
       "<div>\n",
       "<style scoped>\n",
       "    .dataframe tbody tr th:only-of-type {\n",
       "        vertical-align: middle;\n",
       "    }\n",
       "\n",
       "    .dataframe tbody tr th {\n",
       "        vertical-align: top;\n",
       "    }\n",
       "\n",
       "    .dataframe thead th {\n",
       "        text-align: right;\n",
       "    }\n",
       "</style>\n",
       "<table border=\"1\" class=\"dataframe\">\n",
       "  <thead>\n",
       "    <tr style=\"text-align: right;\">\n",
       "      <th></th>\n",
       "      <th>pID</th>\n",
       "      <th>gt</th>\n",
       "      <th>updrs108</th>\n",
       "      <th>afTap</th>\n",
       "      <th>sTap</th>\n",
       "      <th>nqScore</th>\n",
       "      <th>typingSpeed</th>\n",
       "      <th>file_1</th>\n",
       "      <th>file_2</th>\n",
       "    </tr>\n",
       "  </thead>\n",
       "  <tbody>\n",
       "    <tr>\n",
       "      <th>0</th>\n",
       "      <td>11</td>\n",
       "      <td>True</td>\n",
       "      <td>14.25</td>\n",
       "      <td>NaN</td>\n",
       "      <td>162.25</td>\n",
       "      <td>0.117543</td>\n",
       "      <td>189.372549</td>\n",
       "      <td>1402930351.011_001_014.csv</td>\n",
       "      <td>1403706430.011_003_014.csv</td>\n",
       "    </tr>\n",
       "    <tr>\n",
       "      <th>1</th>\n",
       "      <td>60</td>\n",
       "      <td>False</td>\n",
       "      <td>2.00</td>\n",
       "      <td>NaN</td>\n",
       "      <td>162.25</td>\n",
       "      <td>0.070350</td>\n",
       "      <td>60.533333</td>\n",
       "      <td>1402932300.060_001_014.csv</td>\n",
       "      <td>1403708258.060_003_014.csv</td>\n",
       "    </tr>\n",
       "    <tr>\n",
       "      <th>2</th>\n",
       "      <td>67</td>\n",
       "      <td>True</td>\n",
       "      <td>25.25</td>\n",
       "      <td>NaN</td>\n",
       "      <td>133.75</td>\n",
       "      <td>0.223411</td>\n",
       "      <td>54.333333</td>\n",
       "      <td>1401117235.067_001_014.csv</td>\n",
       "      <td>1401978395.067_003_014.csv</td>\n",
       "    </tr>\n",
       "    <tr>\n",
       "      <th>3</th>\n",
       "      <td>68</td>\n",
       "      <td>False</td>\n",
       "      <td>6.00</td>\n",
       "      <td>NaN</td>\n",
       "      <td>159.00</td>\n",
       "      <td>0.074973</td>\n",
       "      <td>71.800000</td>\n",
       "      <td>1401114972.068_001_014.csv</td>\n",
       "      <td>1401980765.068_003_014.csv</td>\n",
       "    </tr>\n",
       "    <tr>\n",
       "      <th>4</th>\n",
       "      <td>70</td>\n",
       "      <td>True</td>\n",
       "      <td>26.25</td>\n",
       "      <td>NaN</td>\n",
       "      <td>113.50</td>\n",
       "      <td>0.175751</td>\n",
       "      <td>39.614035</td>\n",
       "      <td>1404311419.070_001_014.csv</td>\n",
       "      <td>1404743687.070_003_014.csv</td>\n",
       "    </tr>\n",
       "  </tbody>\n",
       "</table>\n",
       "</div>"
      ],
      "text/plain": [
       "   pID     gt  updrs108  afTap    sTap   nqScore  typingSpeed  \\\n",
       "0   11   True     14.25    NaN  162.25  0.117543   189.372549   \n",
       "1   60  False      2.00    NaN  162.25  0.070350    60.533333   \n",
       "2   67   True     25.25    NaN  133.75  0.223411    54.333333   \n",
       "3   68  False      6.00    NaN  159.00  0.074973    71.800000   \n",
       "4   70   True     26.25    NaN  113.50  0.175751    39.614035   \n",
       "\n",
       "                       file_1                      file_2  \n",
       "0  1402930351.011_001_014.csv  1403706430.011_003_014.csv  \n",
       "1  1402932300.060_001_014.csv  1403708258.060_003_014.csv  \n",
       "2  1401117235.067_001_014.csv  1401978395.067_003_014.csv  \n",
       "3  1401114972.068_001_014.csv  1401980765.068_003_014.csv  \n",
       "4  1404311419.070_001_014.csv  1404743687.070_003_014.csv  "
      ]
     },
     "execution_count": 74,
     "metadata": {},
     "output_type": "execute_result"
    }
   ],
   "source": [
    "## importing the de-novo dataset \n",
    "de_novo = pd.read_csv('GT_DataPD_MIT-CS1PD.csv')\n",
    "# X = dataset.iloc[:, :-1].values\n",
    "# y = dataset.iloc[:, -1].values\n",
    "print(len(de_novo))\n",
    "de_novo.head()"
   ]
  },
  {
   "cell_type": "markdown",
   "id": "7c106a12",
   "metadata": {},
   "source": [
    "## calculating the SDi for the de_novo dataset "
   ]
  },
  {
   "cell_type": "code",
   "execution_count": 75,
   "id": "1b14f0e4",
   "metadata": {},
   "outputs": [
    {
     "name": "stdout",
     "output_type": "stream",
     "text": [
      "31\n"
     ]
    },
    {
     "name": "stderr",
     "output_type": "stream",
     "text": [
      "C:\\Users\\micoa\\AppData\\Local\\Temp\\ipykernel_13080\\49630516.py:5: FutureWarning: The frame.append method is deprecated and will be removed from pandas in a future version. Use pandas.concat instead.\n",
      "  de_novo = de_novo.append(newrow,ignore_index = True)\n",
      "C:\\Users\\micoa\\AppData\\Local\\Temp\\ipykernel_13080\\49630516.py:5: FutureWarning: The frame.append method is deprecated and will be removed from pandas in a future version. Use pandas.concat instead.\n",
      "  de_novo = de_novo.append(newrow,ignore_index = True)\n",
      "C:\\Users\\micoa\\AppData\\Local\\Temp\\ipykernel_13080\\49630516.py:5: FutureWarning: The frame.append method is deprecated and will be removed from pandas in a future version. Use pandas.concat instead.\n",
      "  de_novo = de_novo.append(newrow,ignore_index = True)\n",
      "C:\\Users\\micoa\\AppData\\Local\\Temp\\ipykernel_13080\\49630516.py:5: FutureWarning: The frame.append method is deprecated and will be removed from pandas in a future version. Use pandas.concat instead.\n",
      "  de_novo = de_novo.append(newrow,ignore_index = True)\n",
      "C:\\Users\\micoa\\AppData\\Local\\Temp\\ipykernel_13080\\49630516.py:5: FutureWarning: The frame.append method is deprecated and will be removed from pandas in a future version. Use pandas.concat instead.\n",
      "  de_novo = de_novo.append(newrow,ignore_index = True)\n",
      "C:\\Users\\micoa\\AppData\\Local\\Temp\\ipykernel_13080\\49630516.py:5: FutureWarning: The frame.append method is deprecated and will be removed from pandas in a future version. Use pandas.concat instead.\n",
      "  de_novo = de_novo.append(newrow,ignore_index = True)\n",
      "C:\\Users\\micoa\\AppData\\Local\\Temp\\ipykernel_13080\\49630516.py:5: FutureWarning: The frame.append method is deprecated and will be removed from pandas in a future version. Use pandas.concat instead.\n",
      "  de_novo = de_novo.append(newrow,ignore_index = True)\n",
      "C:\\Users\\micoa\\AppData\\Local\\Temp\\ipykernel_13080\\49630516.py:5: FutureWarning: The frame.append method is deprecated and will be removed from pandas in a future version. Use pandas.concat instead.\n",
      "  de_novo = de_novo.append(newrow,ignore_index = True)\n",
      "C:\\Users\\micoa\\AppData\\Local\\Temp\\ipykernel_13080\\49630516.py:5: FutureWarning: The frame.append method is deprecated and will be removed from pandas in a future version. Use pandas.concat instead.\n",
      "  de_novo = de_novo.append(newrow,ignore_index = True)\n",
      "C:\\Users\\micoa\\AppData\\Local\\Temp\\ipykernel_13080\\49630516.py:5: FutureWarning: The frame.append method is deprecated and will be removed from pandas in a future version. Use pandas.concat instead.\n",
      "  de_novo = de_novo.append(newrow,ignore_index = True)\n",
      "C:\\Users\\micoa\\AppData\\Local\\Temp\\ipykernel_13080\\49630516.py:5: FutureWarning: The frame.append method is deprecated and will be removed from pandas in a future version. Use pandas.concat instead.\n",
      "  de_novo = de_novo.append(newrow,ignore_index = True)\n",
      "C:\\Users\\micoa\\AppData\\Local\\Temp\\ipykernel_13080\\49630516.py:5: FutureWarning: The frame.append method is deprecated and will be removed from pandas in a future version. Use pandas.concat instead.\n",
      "  de_novo = de_novo.append(newrow,ignore_index = True)\n",
      "C:\\Users\\micoa\\AppData\\Local\\Temp\\ipykernel_13080\\49630516.py:5: FutureWarning: The frame.append method is deprecated and will be removed from pandas in a future version. Use pandas.concat instead.\n",
      "  de_novo = de_novo.append(newrow,ignore_index = True)\n",
      "C:\\Users\\micoa\\AppData\\Local\\Temp\\ipykernel_13080\\49630516.py:5: FutureWarning: The frame.append method is deprecated and will be removed from pandas in a future version. Use pandas.concat instead.\n",
      "  de_novo = de_novo.append(newrow,ignore_index = True)\n",
      "C:\\Users\\micoa\\AppData\\Local\\Temp\\ipykernel_13080\\49630516.py:5: FutureWarning: The frame.append method is deprecated and will be removed from pandas in a future version. Use pandas.concat instead.\n",
      "  de_novo = de_novo.append(newrow,ignore_index = True)\n",
      "C:\\Users\\micoa\\AppData\\Local\\Temp\\ipykernel_13080\\49630516.py:5: FutureWarning: The frame.append method is deprecated and will be removed from pandas in a future version. Use pandas.concat instead.\n",
      "  de_novo = de_novo.append(newrow,ignore_index = True)\n",
      "C:\\Users\\micoa\\AppData\\Local\\Temp\\ipykernel_13080\\49630516.py:5: FutureWarning: The frame.append method is deprecated and will be removed from pandas in a future version. Use pandas.concat instead.\n",
      "  de_novo = de_novo.append(newrow,ignore_index = True)\n",
      "C:\\Users\\micoa\\AppData\\Local\\Temp\\ipykernel_13080\\49630516.py:5: FutureWarning: The frame.append method is deprecated and will be removed from pandas in a future version. Use pandas.concat instead.\n",
      "  de_novo = de_novo.append(newrow,ignore_index = True)\n",
      "C:\\Users\\micoa\\AppData\\Local\\Temp\\ipykernel_13080\\49630516.py:5: FutureWarning: The frame.append method is deprecated and will be removed from pandas in a future version. Use pandas.concat instead.\n",
      "  de_novo = de_novo.append(newrow,ignore_index = True)\n",
      "C:\\Users\\micoa\\AppData\\Local\\Temp\\ipykernel_13080\\49630516.py:5: FutureWarning: The frame.append method is deprecated and will be removed from pandas in a future version. Use pandas.concat instead.\n",
      "  de_novo = de_novo.append(newrow,ignore_index = True)\n",
      "C:\\Users\\micoa\\AppData\\Local\\Temp\\ipykernel_13080\\49630516.py:5: FutureWarning: The frame.append method is deprecated and will be removed from pandas in a future version. Use pandas.concat instead.\n",
      "  de_novo = de_novo.append(newrow,ignore_index = True)\n"
     ]
    },
    {
     "name": "stdout",
     "output_type": "stream",
     "text": [
      "62\n"
     ]
    },
    {
     "name": "stderr",
     "output_type": "stream",
     "text": [
      "C:\\Users\\micoa\\AppData\\Local\\Temp\\ipykernel_13080\\49630516.py:5: FutureWarning: The frame.append method is deprecated and will be removed from pandas in a future version. Use pandas.concat instead.\n",
      "  de_novo = de_novo.append(newrow,ignore_index = True)\n",
      "C:\\Users\\micoa\\AppData\\Local\\Temp\\ipykernel_13080\\49630516.py:5: FutureWarning: The frame.append method is deprecated and will be removed from pandas in a future version. Use pandas.concat instead.\n",
      "  de_novo = de_novo.append(newrow,ignore_index = True)\n",
      "C:\\Users\\micoa\\AppData\\Local\\Temp\\ipykernel_13080\\49630516.py:5: FutureWarning: The frame.append method is deprecated and will be removed from pandas in a future version. Use pandas.concat instead.\n",
      "  de_novo = de_novo.append(newrow,ignore_index = True)\n",
      "C:\\Users\\micoa\\AppData\\Local\\Temp\\ipykernel_13080\\49630516.py:5: FutureWarning: The frame.append method is deprecated and will be removed from pandas in a future version. Use pandas.concat instead.\n",
      "  de_novo = de_novo.append(newrow,ignore_index = True)\n",
      "C:\\Users\\micoa\\AppData\\Local\\Temp\\ipykernel_13080\\49630516.py:5: FutureWarning: The frame.append method is deprecated and will be removed from pandas in a future version. Use pandas.concat instead.\n",
      "  de_novo = de_novo.append(newrow,ignore_index = True)\n",
      "C:\\Users\\micoa\\AppData\\Local\\Temp\\ipykernel_13080\\49630516.py:5: FutureWarning: The frame.append method is deprecated and will be removed from pandas in a future version. Use pandas.concat instead.\n",
      "  de_novo = de_novo.append(newrow,ignore_index = True)\n",
      "C:\\Users\\micoa\\AppData\\Local\\Temp\\ipykernel_13080\\49630516.py:5: FutureWarning: The frame.append method is deprecated and will be removed from pandas in a future version. Use pandas.concat instead.\n",
      "  de_novo = de_novo.append(newrow,ignore_index = True)\n",
      "C:\\Users\\micoa\\AppData\\Local\\Temp\\ipykernel_13080\\49630516.py:5: FutureWarning: The frame.append method is deprecated and will be removed from pandas in a future version. Use pandas.concat instead.\n",
      "  de_novo = de_novo.append(newrow,ignore_index = True)\n",
      "C:\\Users\\micoa\\AppData\\Local\\Temp\\ipykernel_13080\\49630516.py:5: FutureWarning: The frame.append method is deprecated and will be removed from pandas in a future version. Use pandas.concat instead.\n",
      "  de_novo = de_novo.append(newrow,ignore_index = True)\n",
      "C:\\Users\\micoa\\AppData\\Local\\Temp\\ipykernel_13080\\49630516.py:5: FutureWarning: The frame.append method is deprecated and will be removed from pandas in a future version. Use pandas.concat instead.\n",
      "  de_novo = de_novo.append(newrow,ignore_index = True)\n"
     ]
    }
   ],
   "source": [
    "print(len(de_novo))\n",
    "for index,row in de_novo.iterrows():\n",
    "    newrow = row \n",
    "    newrow['file_1']  = row['file_2']\n",
    "    de_novo = de_novo.append(newrow,ignore_index = True)\n",
    "print(len(de_novo))\n",
    "de_novo.drop(['file_2'],axis= 1,inplace=True)"
   ]
  },
  {
   "cell_type": "markdown",
   "id": "41488425",
   "metadata": {},
   "source": []
  },
  {
   "cell_type": "code",
   "execution_count": 76,
   "id": "67eccf8c",
   "metadata": {},
   "outputs": [],
   "source": [
    "SD_index = []\n",
    "for index, row in de_novo.iterrows():\n",
    "    fileloc = row.file_1\n",
    "    keyPressed, htArr, pressArr, releaseArr =  nq.getDataFiltHelper( \"data_MIT-CS1PD/\" + de_novo.loc[index]['file_1'])\n",
    "    fluctuations = []\n",
    "    for i in range(0,len(htArr)-1):\n",
    "        row1 = htArr[i]\n",
    "        row2 = htArr[i+1]\n",
    "        temp1 = np.log(row1)\n",
    "        temp2 = np.log(row2)\n",
    "        result = temp2-temp1\n",
    "        fluctuations.append(result)\n",
    "    npFluctuations = np.array(fluctuations)\n",
    "    sd_index_score = npFluctuations.std()\n",
    "    SD_index.append(sd_index_score) \n",
    "    \n",
    "    \n",
    "de_novo[\"SDi\"] = SD_index "
   ]
  },
  {
   "cell_type": "markdown",
   "id": "979ae0e3",
   "metadata": {},
   "source": [
    "## trimming the de_novo dataset to contain only the SDi as a feature and the gt as the target variable "
   ]
  },
  {
   "cell_type": "code",
   "execution_count": 77,
   "id": "5a736f40",
   "metadata": {},
   "outputs": [
    {
     "data": {
      "text/html": [
       "<div>\n",
       "<style scoped>\n",
       "    .dataframe tbody tr th:only-of-type {\n",
       "        vertical-align: middle;\n",
       "    }\n",
       "\n",
       "    .dataframe tbody tr th {\n",
       "        vertical-align: top;\n",
       "    }\n",
       "\n",
       "    .dataframe thead th {\n",
       "        text-align: right;\n",
       "    }\n",
       "</style>\n",
       "<table border=\"1\" class=\"dataframe\">\n",
       "  <thead>\n",
       "    <tr style=\"text-align: right;\">\n",
       "      <th></th>\n",
       "      <th>SDi</th>\n",
       "      <th>gt</th>\n",
       "    </tr>\n",
       "  </thead>\n",
       "  <tbody>\n",
       "    <tr>\n",
       "      <th>0</th>\n",
       "      <td>0.547913</td>\n",
       "      <td>1</td>\n",
       "    </tr>\n",
       "    <tr>\n",
       "      <th>1</th>\n",
       "      <td>0.433125</td>\n",
       "      <td>0</td>\n",
       "    </tr>\n",
       "    <tr>\n",
       "      <th>2</th>\n",
       "      <td>0.446439</td>\n",
       "      <td>1</td>\n",
       "    </tr>\n",
       "    <tr>\n",
       "      <th>3</th>\n",
       "      <td>0.221828</td>\n",
       "      <td>0</td>\n",
       "    </tr>\n",
       "    <tr>\n",
       "      <th>4</th>\n",
       "      <td>0.335328</td>\n",
       "      <td>1</td>\n",
       "    </tr>\n",
       "  </tbody>\n",
       "</table>\n",
       "</div>"
      ],
      "text/plain": [
       "        SDi  gt\n",
       "0  0.547913   1\n",
       "1  0.433125   0\n",
       "2  0.446439   1\n",
       "3  0.221828   0\n",
       "4  0.335328   1"
      ]
     },
     "execution_count": 77,
     "metadata": {},
     "output_type": "execute_result"
    }
   ],
   "source": [
    "de_novo[\"gt\"] = de_novo[\"gt\"].astype(int)\n",
    "\n",
    "de_novo.drop([\"pID\",'updrs108','afTap','sTap','nqScore','typingSpeed','file_1'], axis=1, inplace=True)\n",
    "de_novo = de_novo[['SDi','gt']]\n",
    "de_novo.head()"
   ]
  },
  {
   "cell_type": "markdown",
   "id": "0aede7ab",
   "metadata": {},
   "source": [
    "## splitting the de_novo patients to double the dataset size by considering file_2 of a patient a different "
   ]
  },
  {
   "cell_type": "code",
   "execution_count": null,
   "id": "77ae06e3",
   "metadata": {},
   "outputs": [],
   "source": []
  },
  {
   "cell_type": "markdown",
   "id": "c4e9b7a0",
   "metadata": {},
   "source": [
    "## appending the datasets together"
   ]
  },
  {
   "cell_type": "code",
   "execution_count": 78,
   "id": "98250a9f",
   "metadata": {},
   "outputs": [
    {
     "name": "stdout",
     "output_type": "stream",
     "text": [
      "54\n",
      "62\n",
      "116\n"
     ]
    },
    {
     "name": "stderr",
     "output_type": "stream",
     "text": [
      "C:\\Users\\micoa\\AppData\\Local\\Temp\\ipykernel_13080\\344074529.py:3: FutureWarning: The frame.append method is deprecated and will be removed from pandas in a future version. Use pandas.concat instead.\n",
      "  early_stage = early_stage.append(de_novo, ignore_index=True)\n"
     ]
    }
   ],
   "source": [
    "print(len(early_stage))\n",
    "print(len(de_novo))\n",
    "early_stage = early_stage.append(de_novo, ignore_index=True)\n",
    "print(len(early_stage))"
   ]
  },
  {
   "cell_type": "markdown",
   "id": "db533f19",
   "metadata": {},
   "source": [
    "## splitting the data into features and dependant variable and further splitting into train and testing data"
   ]
  },
  {
   "cell_type": "code",
   "execution_count": 79,
   "id": "ccb2f6fe",
   "metadata": {},
   "outputs": [],
   "source": [
    "X = early_stage.iloc[:, :-1].values\n",
    "y = early_stage.iloc[:, -1].values"
   ]
  },
  {
   "cell_type": "code",
   "execution_count": 80,
   "id": "3e774c2c",
   "metadata": {},
   "outputs": [],
   "source": [
    "from sklearn.model_selection import train_test_split\n",
    "X_train,X_test,y_train,y_test = train_test_split(X,y,test_size=0.2,random_state = 0)"
   ]
  },
  {
   "cell_type": "code",
   "execution_count": 81,
   "id": "c45feb01",
   "metadata": {},
   "outputs": [
    {
     "data": {
      "text/plain": [
       "LogisticRegression(random_state=0)"
      ]
     },
     "execution_count": 81,
     "metadata": {},
     "output_type": "execute_result"
    }
   ],
   "source": [
    "from sklearn.linear_model import LogisticRegression\n",
    "classifier = LogisticRegression(random_state=0)\n",
    "classifier.fit(X_train,y_train)"
   ]
  },
  {
   "cell_type": "code",
   "execution_count": 82,
   "id": "b40bfcc0",
   "metadata": {},
   "outputs": [
    {
     "name": "stdout",
     "output_type": "stream",
     "text": [
      "[[0 0]\n",
      " [0 1]\n",
      " [1 1]\n",
      " [0 1]\n",
      " [0 1]\n",
      " [1 1]\n",
      " [1 1]\n",
      " [0 1]\n",
      " [0 1]\n",
      " [1 1]\n",
      " [1 0]\n",
      " [0 0]\n",
      " [0 1]\n",
      " [1 1]\n",
      " [0 0]\n",
      " [0 0]\n",
      " [0 0]\n",
      " [1 0]\n",
      " [1 1]\n",
      " [1 1]\n",
      " [1 1]\n",
      " [0 0]\n",
      " [0 0]\n",
      " [1 0]]\n"
     ]
    }
   ],
   "source": [
    "y_pred =  classifier.predict(X_test)\n",
    "print(np.concatenate((y_pred.reshape(len(y_pred),1),y_test.reshape(len(y_test),1)),1))"
   ]
  },
  {
   "cell_type": "code",
   "execution_count": 83,
   "id": "feffb899",
   "metadata": {},
   "outputs": [
    {
     "name": "stdout",
     "output_type": "stream",
     "text": [
      "Confusion matrix, without normalization\n",
      "[[7 3]\n",
      " [6 8]]\n",
      "Normalized confusion matrix\n",
      "[[0.7        0.3       ]\n",
      " [0.42857143 0.57142857]]\n"
     ]
    },
    {
     "data": {
      "image/png": "[encoded data removed]",
      "text/plain": [
       "<Figure size 432x288 with 2 Axes>"
      ]
     },
     "metadata": {
      "needs_background": "light"
     },
     "output_type": "display_data"
    },
    {
     "data": {
      "image/png": "[encoded data removed]",
      "text/plain": [
       "<Figure size 432x288 with 2 Axes>"
      ]
     },
     "metadata": {
      "needs_background": "light"
     },
     "output_type": "display_data"
    },
    {
     "name": "stdout",
     "output_type": "stream",
     "text": [
      "Accuracy score : 0.625\n"
     ]
    }
   ],
   "source": [
    "from sklearn.metrics import ConfusionMatrixDisplay,accuracy_score\n",
    "\n",
    "titles_options = [\n",
    "    (\"Confusion matrix, without normalization\", None),\n",
    "    (\"Normalized confusion matrix\", \"true\"),\n",
    "]\n",
    "for title, normalize in titles_options:\n",
    "    disp = ConfusionMatrixDisplay.from_estimator(\n",
    "        classifier,\n",
    "        X_test,\n",
    "        y_test,\n",
    "        display_labels=None ,\n",
    "        cmap=plt.cm.Blues,\n",
    "        normalize=normalize,\n",
    "    )\n",
    "    disp.ax_.set_title(title)\n",
    "\n",
    "    print(title)\n",
    "    print(disp.confusion_matrix)\n",
    "\n",
    "plt.show()\n",
    "print(\"Accuracy score : \" + str(accuracy_score(y_test, y_pred,  normalize=True, sample_weight=None)))"
   ]
  },
  {
   "cell_type": "markdown",
   "id": "e80b3ee1",
   "metadata": {},
   "source": [
    "## attempting to use K-neighrest neighbour "
   ]
  },
  {
   "cell_type": "code",
   "execution_count": 84,
   "id": "6a02f5b4",
   "metadata": {},
   "outputs": [
    {
     "data": {
      "text/plain": [
       "KNeighborsClassifier(n_neighbors=15)"
      ]
     },
     "execution_count": 84,
     "metadata": {},
     "output_type": "execute_result"
    }
   ],
   "source": [
    "from sklearn.neighbors import KNeighborsClassifier\n",
    "classifier = KNeighborsClassifier(n_neighbors=15)\n",
    "classifier.fit(X_train,y_train)"
   ]
  },
  {
   "cell_type": "code",
   "execution_count": 85,
   "id": "8a9a0897",
   "metadata": {},
   "outputs": [
    {
     "name": "stdout",
     "output_type": "stream",
     "text": [
      "[[0 0]\n",
      " [1 1]\n",
      " [0 1]\n",
      " [1 1]\n",
      " [1 1]\n",
      " [1 1]\n",
      " [1 1]\n",
      " [0 1]\n",
      " [0 1]\n",
      " [0 1]\n",
      " [0 0]\n",
      " [1 0]\n",
      " [0 1]\n",
      " [1 1]\n",
      " [1 0]\n",
      " [0 0]\n",
      " [0 0]\n",
      " [1 0]\n",
      " [1 1]\n",
      " [0 1]\n",
      " [1 1]\n",
      " [0 0]\n",
      " [0 0]\n",
      " [0 0]]\n"
     ]
    }
   ],
   "source": [
    "y_pred = classifier.predict(X_test)\n",
    "print(np.concatenate((y_pred.reshape(len(y_pred),1), y_test.reshape(len(y_test),1)),1))"
   ]
  },
  {
   "cell_type": "code",
   "execution_count": 86,
   "id": "d482873c",
   "metadata": {},
   "outputs": [
    {
     "name": "stdout",
     "output_type": "stream",
     "text": [
      "Confusion matrix, without normalization\n",
      "[[7 3]\n",
      " [6 8]]\n",
      "Normalized confusion matrix\n",
      "[[0.7        0.3       ]\n",
      " [0.42857143 0.57142857]]\n"
     ]
    },
    {
     "data": {
      "image/png": "[encoded data removed]",
      "text/plain": [
       "<Figure size 432x288 with 2 Axes>"
      ]
     },
     "metadata": {
      "needs_background": "light"
     },
     "output_type": "display_data"
    },
    {
     "data": {
      "image/png": "[encoded data removed]",
      "text/plain": [
       "<Figure size 432x288 with 2 Axes>"
      ]
     },
     "metadata": {
      "needs_background": "light"
     },
     "output_type": "display_data"
    },
    {
     "name": "stdout",
     "output_type": "stream",
     "text": [
      "Accuracy Score : 0.625\n"
     ]
    }
   ],
   "source": [
    "from sklearn.metrics import ConfusionMatrixDisplay,accuracy_score\n",
    "\n",
    "titles_options = [\n",
    "    (\"Confusion matrix, without normalization\", None),\n",
    "    (\"Normalized confusion matrix\", \"true\"),\n",
    "]\n",
    "for title, normalize in titles_options:\n",
    "    disp = ConfusionMatrixDisplay.from_estimator(\n",
    "        classifier,\n",
    "        X_test,\n",
    "        y_test,\n",
    "        display_labels=None ,\n",
    "        cmap=plt.cm.Blues,\n",
    "        normalize=normalize,\n",
    "    )\n",
    "    disp.ax_.set_title(title)\n",
    "\n",
    "    print(title)\n",
    "    print(disp.confusion_matrix)\n",
    "\n",
    "plt.show()\n",
    "print(\"Accuracy Score : \" + str(accuracy_score(y_test, y_pred,  normalize=True, sample_weight=None)))"
   ]
  },
  {
   "cell_type": "code",
   "execution_count": 87,
   "id": "10699e2c",
   "metadata": {},
   "outputs": [
    {
     "data": {
      "text/plain": [
       "SVC(random_state=0)"
      ]
     },
     "execution_count": 87,
     "metadata": {},
     "output_type": "execute_result"
    }
   ],
   "source": [
    "from sklearn.svm import SVC\n",
    "classifier = SVC(kernel = 'rbf',random_state=0)\n",
    "classifier.fit(X_train,y_train)"
   ]
  },
  {
   "cell_type": "code",
   "execution_count": 88,
   "id": "24c8d44f",
   "metadata": {},
   "outputs": [
    {
     "name": "stdout",
     "output_type": "stream",
     "text": [
      "[[0 0]\n",
      " [0 1]\n",
      " [0 1]\n",
      " [0 1]\n",
      " [0 1]\n",
      " [1 1]\n",
      " [1 1]\n",
      " [0 1]\n",
      " [0 1]\n",
      " [1 1]\n",
      " [0 0]\n",
      " [0 0]\n",
      " [0 1]\n",
      " [1 1]\n",
      " [0 0]\n",
      " [0 0]\n",
      " [0 0]\n",
      " [1 0]\n",
      " [1 1]\n",
      " [1 1]\n",
      " [1 1]\n",
      " [0 0]\n",
      " [0 0]\n",
      " [0 0]]\n"
     ]
    }
   ],
   "source": [
    "y_pred =  classifier.predict(X_test)\n",
    "print(np.concatenate((y_pred.reshape(len(y_pred),1),y_test.reshape(len(y_test),1)),1))"
   ]
  },
  {
   "cell_type": "code",
   "execution_count": 89,
   "id": "17467e78",
   "metadata": {
    "scrolled": true
   },
   "outputs": [
    {
     "name": "stdout",
     "output_type": "stream",
     "text": [
      "Confusion matrix, without normalization\n",
      "[[9 1]\n",
      " [7 7]]\n",
      "Normalized confusion matrix\n",
      "[[0.9 0.1]\n",
      " [0.5 0.5]]\n"
     ]
    },
    {
     "data": {
      "image/png": "[encoded data removed]",
      "text/plain": [
       "<Figure size 432x288 with 2 Axes>"
      ]
     },
     "metadata": {
      "needs_background": "light"
     },
     "output_type": "display_data"
    },
    {
     "data": {
      "image/png": "[encoded data removed]",
      "text/plain": [
       "<Figure size 432x288 with 2 Axes>"
      ]
     },
     "metadata": {
      "needs_background": "light"
     },
     "output_type": "display_data"
    },
    {
     "name": "stdout",
     "output_type": "stream",
     "text": [
      "Accuracy score : 0.6666666666666666\n"
     ]
    }
   ],
   "source": [
    "from sklearn.metrics import ConfusionMatrixDisplay,accuracy_score\n",
    "\n",
    "titles_options = [\n",
    "    (\"Confusion matrix, without normalization\", None),\n",
    "    (\"Normalized confusion matrix\", \"true\"),\n",
    "]\n",
    "for title, normalize in titles_options:\n",
    "    disp = ConfusionMatrixDisplay.from_estimator(\n",
    "        classifier,\n",
    "        X_test,\n",
    "        y_test,\n",
    "        display_labels=None ,\n",
    "        cmap=plt.cm.Blues,\n",
    "        normalize=normalize,\n",
    "    )\n",
    "    disp.ax_.set_title(title)\n",
    "\n",
    "    print(title)\n",
    "    print(disp.confusion_matrix)\n",
    "\n",
    "plt.show()\n",
    "print(\"Accuracy score : \" + str(accuracy_score(y_test, y_pred,  normalize=True, sample_weight=None)))"
   ]
  },
  {
   "cell_type": "code",
   "execution_count": 90,
   "id": "a44d5c2a",
   "metadata": {},
   "outputs": [
    {
     "data": {
      "text/plain": [
       "RandomForestClassifier(criterion='entropy', n_estimators=1000)"
      ]
     },
     "execution_count": 90,
     "metadata": {},
     "output_type": "execute_result"
    }
   ],
   "source": [
    "from sklearn.ensemble import RandomForestClassifier\n",
    "classifier = RandomForestClassifier(n_estimators = 1000, criterion = 'entropy')\n",
    "classifier.fit(X_train,y_train)"
   ]
  },
  {
   "cell_type": "code",
   "execution_count": 91,
   "id": "1ad29758",
   "metadata": {},
   "outputs": [
    {
     "name": "stdout",
     "output_type": "stream",
     "text": [
      "[[0 0]\n",
      " [0 1]\n",
      " [0 1]\n",
      " [0 1]\n",
      " [0 1]\n",
      " [1 1]\n",
      " [1 1]\n",
      " [1 1]\n",
      " [0 1]\n",
      " [1 1]\n",
      " [0 0]\n",
      " [0 0]\n",
      " [0 1]\n",
      " [1 1]\n",
      " [1 0]\n",
      " [0 0]\n",
      " [1 0]\n",
      " [1 0]\n",
      " [1 1]\n",
      " [1 1]\n",
      " [1 1]\n",
      " [1 0]\n",
      " [1 0]\n",
      " [0 0]]\n"
     ]
    }
   ],
   "source": [
    "y_pred = classifier.predict(X_test)\n",
    "print(np.concatenate((y_pred.reshape(len(y_pred),1), y_test.reshape(len(y_test),1)),1))"
   ]
  },
  {
   "cell_type": "code",
   "execution_count": 92,
   "id": "44dd6fa7",
   "metadata": {
    "scrolled": false
   },
   "outputs": [
    {
     "name": "stdout",
     "output_type": "stream",
     "text": [
      "Confusion matrix, without normalization\n",
      "[[5 5]\n",
      " [6 8]]\n",
      "Normalized confusion matrix\n",
      "[[0.5        0.5       ]\n",
      " [0.42857143 0.57142857]]\n"
     ]
    },
    {
     "data": {
      "image/png": "[encoded data removed]",
      "text/plain": [
       "<Figure size 432x288 with 2 Axes>"
      ]
     },
     "metadata": {
      "needs_background": "light"
     },
     "output_type": "display_data"
    },
    {
     "data": {
      "image/png": "[encoded data removed]",
      "text/plain": [
       "<Figure size 432x288 with 2 Axes>"
      ]
     },
     "metadata": {
      "needs_background": "light"
     },
     "output_type": "display_data"
    },
    {
     "name": "stdout",
     "output_type": "stream",
     "text": [
      "Accuracy score : 0.5416666666666666\n"
     ]
    }
   ],
   "source": [
    "from sklearn.metrics import ConfusionMatrixDisplay,accuracy_score\n",
    "\n",
    "titles_options = [\n",
    "    (\"Confusion matrix, without normalization\", None),\n",
    "    (\"Normalized confusion matrix\", \"true\"),\n",
    "]\n",
    "for title, normalize in titles_options:\n",
    "    disp = ConfusionMatrixDisplay.from_estimator(\n",
    "        classifier,\n",
    "        X_test,\n",
    "        y_test,\n",
    "        display_labels=None ,\n",
    "        cmap=plt.cm.Blues,\n",
    "        normalize=normalize,\n",
    "    )\n",
    "    disp.ax_.set_title(title)\n",
    "\n",
    "    print(title)\n",
    "    print(disp.confusion_matrix)\n",
    "\n",
    "plt.show()\n",
    "print(\"Accuracy score : \" + str(accuracy_score(y_test, y_pred,  normalize=True, sample_weight=None)))"
   ]
  }
 ],
 "metadata": {
  "kernelspec": {
   "display_name": "Python 3 (ipykernel)",
   "language": "python",
   "name": "python3"
  },
  "language_info": {
   "codemirror_mode": {
    "name": "ipython",
    "version": 3
   },
   "file_extension": ".py",
   "mimetype": "text/x-python",
   "name": "python",
   "nbconvert_exporter": "python",
   "pygments_lexer": "ipython3",
   "version": "3.10.0"
  }
 },
 "nbformat": 4,
 "nbformat_minor": 5
}
