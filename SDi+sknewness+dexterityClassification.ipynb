{
 "cells": [
  {
   "cell_type": "code",
   "execution_count": 476,
   "id": "08662266",
   "metadata": {},
   "outputs": [],
   "source": [
    "import numpy as np\n",
    "import matplotlib.pyplot as plt\n",
    "import pandas as pd\n",
    "import nqDataLoader as nq #data loading library"
   ]
  },
  {
   "cell_type": "code",
   "execution_count": 477,
   "id": "07059d18",
   "metadata": {},
   "outputs": [],
   "source": [
    "from sklearn.metrics import ConfusionMatrixDisplay,accuracy_score\n",
    "from sklearn.model_selection import cross_val_score\n",
    "def testClassifier(classifier,X_train,X_test,y_train,y_test):\n",
    "    classifier.fit(X_train,y_train)\n",
    "    y_pred =  classifier.predict(X_test)\n",
    "    titles_options = [\n",
    "    (\"Confusion matrix, without normalization\", None),\n",
    "    (\"Normalized confusion matrix\", \"true\"),]\n",
    "    for title, normalize in titles_options:\n",
    "        disp = ConfusionMatrixDisplay.from_estimator(\n",
    "            classifier,\n",
    "            X_test,\n",
    "            y_test,\n",
    "            display_labels=None ,\n",
    "            cmap=plt.cm.Blues,\n",
    "            normalize=normalize,\n",
    "        )\n",
    "        disp.ax_.set_title(title)\n",
    "\n",
    "        print(title)\n",
    "        print(disp.confusion_matrix)\n",
    "\n",
    "    plt.show()\n",
    "    print(\"Accuracy score : \" + str(accuracy_score(y_test, y_pred,  normalize=True, sample_weight=None)))\n",
    "    X = np.concatenate((X_train, X_test), axis=0) \n",
    "    y = np.concatenate((y_train, y_test), axis=0)\n",
    "    scores = cross_val_score(classifier,X,y,cv=30)\n",
    "    print(\"Mean accuracy of 30 fold cross validation test : \"+ str(scores.mean()))\n",
    "    print(\"with a maximum accuracy of \" + str(scores.max()))"
   ]
  },
  {
   "cell_type": "markdown",
   "id": "27874526",
   "metadata": {},
   "source": [
    "## importing the early_stage data set "
   ]
  },
  {
   "cell_type": "code",
   "execution_count": 478,
   "id": "e52590d5",
   "metadata": {},
   "outputs": [
    {
     "data": {
      "text/html": [
       "<div>\n",
       "<style scoped>\n",
       "    .dataframe tbody tr th:only-of-type {\n",
       "        vertical-align: middle;\n",
       "    }\n",
       "\n",
       "    .dataframe tbody tr th {\n",
       "        vertical-align: top;\n",
       "    }\n",
       "\n",
       "    .dataframe thead th {\n",
       "        text-align: right;\n",
       "    }\n",
       "</style>\n",
       "<table border=\"1\" class=\"dataframe\">\n",
       "  <thead>\n",
       "    <tr style=\"text-align: right;\">\n",
       "      <th></th>\n",
       "      <th>pID</th>\n",
       "      <th>gt</th>\n",
       "      <th>updrs108</th>\n",
       "      <th>afTap</th>\n",
       "      <th>sTap</th>\n",
       "      <th>nqScore</th>\n",
       "      <th>typingSpeed</th>\n",
       "      <th>file_1</th>\n",
       "    </tr>\n",
       "  </thead>\n",
       "  <tbody>\n",
       "    <tr>\n",
       "      <th>0</th>\n",
       "      <td>1000</td>\n",
       "      <td>True</td>\n",
       "      <td>27</td>\n",
       "      <td>79.0</td>\n",
       "      <td>184.5</td>\n",
       "      <td>0.107179</td>\n",
       "      <td>56.866667</td>\n",
       "      <td>1424946827.1000_001_014.csv</td>\n",
       "    </tr>\n",
       "    <tr>\n",
       "      <th>1</th>\n",
       "      <td>1001</td>\n",
       "      <td>True</td>\n",
       "      <td>16</td>\n",
       "      <td>96.5</td>\n",
       "      <td>189.0</td>\n",
       "      <td>0.056286</td>\n",
       "      <td>118.000000</td>\n",
       "      <td>1427279751.1001_001_014.csv</td>\n",
       "    </tr>\n",
       "    <tr>\n",
       "      <th>2</th>\n",
       "      <td>1002</td>\n",
       "      <td>False</td>\n",
       "      <td>5</td>\n",
       "      <td>140.0</td>\n",
       "      <td>158.0</td>\n",
       "      <td>0.039519</td>\n",
       "      <td>119.037037</td>\n",
       "      <td>1426676689.1002_001_014.csv</td>\n",
       "    </tr>\n",
       "    <tr>\n",
       "      <th>3</th>\n",
       "      <td>1004</td>\n",
       "      <td>True</td>\n",
       "      <td>22</td>\n",
       "      <td>83.5</td>\n",
       "      <td>191.5</td>\n",
       "      <td>0.034853</td>\n",
       "      <td>74.266667</td>\n",
       "      <td>1429866367.1004_001_014.csv</td>\n",
       "    </tr>\n",
       "    <tr>\n",
       "      <th>4</th>\n",
       "      <td>1005</td>\n",
       "      <td>True</td>\n",
       "      <td>17</td>\n",
       "      <td>68.0</td>\n",
       "      <td>150.0</td>\n",
       "      <td>0.048307</td>\n",
       "      <td>74.969697</td>\n",
       "      <td>1430134526.1005_001_014.csv</td>\n",
       "    </tr>\n",
       "  </tbody>\n",
       "</table>\n",
       "</div>"
      ],
      "text/plain": [
       "    pID     gt  updrs108  afTap   sTap   nqScore  typingSpeed  \\\n",
       "0  1000   True        27   79.0  184.5  0.107179    56.866667   \n",
       "1  1001   True        16   96.5  189.0  0.056286   118.000000   \n",
       "2  1002  False         5  140.0  158.0  0.039519   119.037037   \n",
       "3  1004   True        22   83.5  191.5  0.034853    74.266667   \n",
       "4  1005   True        17   68.0  150.0  0.048307    74.969697   \n",
       "\n",
       "                        file_1  \n",
       "0  1424946827.1000_001_014.csv  \n",
       "1  1427279751.1001_001_014.csv  \n",
       "2  1426676689.1002_001_014.csv  \n",
       "3  1429866367.1004_001_014.csv  \n",
       "4  1430134526.1005_001_014.csv  "
      ]
     },
     "execution_count": 478,
     "metadata": {},
     "output_type": "execute_result"
    }
   ],
   "source": [
    "## importing the early stage dataset \n",
    "early_stage = pd.read_csv('GT_DataPD_MIT-CS2PD.csv')\n",
    "# X = dataset.iloc[:, :-1].values\n",
    "# y = dataset.iloc[:, -1].values\n",
    "early_stage.head()"
   ]
  },
  {
   "cell_type": "markdown",
   "id": "11e1260f",
   "metadata": {},
   "source": [
    "## Calculating the SDI for early stage dataset "
   ]
  },
  {
   "cell_type": "code",
   "execution_count": 479,
   "id": "b3787bc2",
   "metadata": {},
   "outputs": [],
   "source": [
    "def is_outlier(value, p25, p75):\n",
    "    \"\"\"Check if value is an outlier\n",
    "    \"\"\"\n",
    "    lower = p25 - 1.5 * (p75 - p25)\n",
    "    upper = p75 + 1.5 * (p75 - p25)\n",
    "    return value <= lower or value >= upper"
   ]
  },
  {
   "cell_type": "code",
   "execution_count": 480,
   "id": "576670b0",
   "metadata": {},
   "outputs": [],
   "source": [
    "SD_index = []\n",
    "outlier_count = []\n",
    "for index, row in early_stage.iterrows():\n",
    "    fileloc = row.file_1\n",
    "    keyPressed, htArr, pressArr, releaseArr =  nq.getDataFiltHelper( \"data_MIT-CS2PD/\" + early_stage.loc[index]['file_1'])\n",
    "    fluctuations = []\n",
    "    for i in range(0,len(htArr)-1):\n",
    "        row1 = htArr[i]\n",
    "        row2 = htArr[i+1]\n",
    "        temp1 = np.log(row1)\n",
    "        temp2 = np.log(row2)\n",
    "        result = temp2-temp1\n",
    "        fluctuations.append(result)\n",
    "    npFluctuations = np.array(fluctuations)\n",
    "    ## getting outlier count \n",
    "    nphtArr = np.array(htArr)\n",
    "    outliers = []\n",
    "    p25 = np.percentile(nphtArr, 25)\n",
    "    p75 = np.percentile(nphtArr, 75)\n",
    "    for ind, value in enumerate(nphtArr):\n",
    "        if is_outlier(value, p25, p75):\n",
    "            outliers.append(value) \n",
    "    \n",
    "    sd_index_score = npFluctuations.std()\n",
    "    SD_index.append(sd_index_score)\n",
    "    npoutliers = np.array(outliers)\n",
    "    outlier_count.append(npoutliers.std())\n",
    "    \n",
    "    \n",
    "early_stage[\"SDi\"] = SD_index\n",
    "early_stage['htArrOutliers'] = outlier_count"
   ]
  },
  {
   "cell_type": "code",
   "execution_count": 481,
   "id": "c70bda45",
   "metadata": {},
   "outputs": [],
   "source": [
    "from scipy.stats import skew\n",
    "TypingSkew =[]\n",
    "for index, row in early_stage.iterrows():\n",
    "    keyPressed, htArr, pressArr, releaseArr =  nq.getDataFiltHelper( 'data_MIT-CS2PD/' + early_stage.loc[index]['file_1'])\n",
    "    skew1 = skew(htArr)\n",
    "    TypingSkew.append(skew1)\n",
    "   \n",
    "    \n",
    "    \n",
    "\n",
    "early_stage['TypingSkew'] =TypingSkew"
   ]
  },
  {
   "cell_type": "code",
   "execution_count": 482,
   "id": "52f92cc6",
   "metadata": {},
   "outputs": [],
   "source": [
    "dexterityMetric = []\n",
    "for index, row in early_stage.iterrows():\n",
    "    fileloc1 = row.file_1\n",
    "    keyPressed, htArr, pressArr, releaseArr =  nq.getDataFiltHelper( 'data_MIT-CS2PD/' + early_stage.loc[index]['file_1'])\n",
    "    \n",
    "    dexterity = []\n",
    "    for i in range(0,len(keyPressed)-1):\n",
    "        d1 = releaseArr[i]\n",
    "        p2 = pressArr[i+1]\n",
    "        result = 0 if (d1-p2 < 0) else (d1-p2)\n",
    "        dexterity.append(result)\n",
    "    npdexterity = np.array(dexterity)\n",
    "    dexterityMetric.append(npdexterity.std())\n",
    "    \n",
    "\n",
    "early_stage[\"Dexterity\"] = dexterityMetric"
   ]
  },
  {
   "cell_type": "markdown",
   "id": "9305c96f",
   "metadata": {},
   "source": [
    "## preparing the dataset to only have SDi as a feature and the gt as the dependant variable"
   ]
  },
  {
   "cell_type": "code",
   "execution_count": 483,
   "id": "30aef855",
   "metadata": {},
   "outputs": [
    {
     "name": "stdout",
     "output_type": "stream",
     "text": [
      "54\n"
     ]
    },
    {
     "data": {
      "text/plain": [
       "<bound method NDFrame.head of          SDi  TypingSkew  Dexterity  htArrOutliers  gt\n",
       "0   0.380584    8.366899   0.001368       0.232053   1\n",
       "1   0.378429    3.633781   0.021848       0.095549   1\n",
       "2   0.349012    3.924409   0.000713       0.040351   0\n",
       "3   0.354817    0.901742   0.000000       0.048479   1\n",
       "4   0.236304    0.843820   0.001078       0.040148   1\n",
       "5   0.430976    1.656628   0.006776       0.021711   1\n",
       "6   0.585704    1.025214   0.012554       0.014129   1\n",
       "7   0.366079    0.735420   0.006436       0.106657   1\n",
       "8   0.296538    0.907131   0.009804       0.035505   0\n",
       "9   0.321620    0.791279   0.006682       0.053050   0\n",
       "10  0.269081    0.964474   0.000252       0.029937   0\n",
       "11  0.328355   20.828231   0.017663       0.231070   0\n",
       "12  0.566683    2.285284   0.024966       0.123105   1\n",
       "13  0.251682    1.643379   0.000000       0.049625   0\n",
       "14  0.431035    1.106798   0.005423       0.012650   0\n",
       "15  0.346295    0.611531   0.000000       0.134855   1\n",
       "16  0.483142    0.995571   0.013287       0.029961   1\n",
       "17  0.458441   10.762495   0.010433       0.248997   1\n",
       "18  0.266964    1.586755   0.000000       0.030606   0\n",
       "19  0.385446    0.871475   0.017018       0.035603   0\n",
       "20  0.484715    5.903518   0.012950       0.088161   1\n",
       "21  0.371893    1.036867   0.008985       0.078993   1\n",
       "22  0.696366    0.727953   0.000000       0.003100   1\n",
       "23  0.478368    1.027263   0.005224       0.028359   1\n",
       "24  0.344518    7.719638   0.003657       0.173718   0\n",
       "25  0.367110    0.634417   0.016090       0.066861   0\n",
       "26  0.379150    0.653626   0.006446       0.015903   0\n",
       "27  0.397291    9.782452   0.004721       0.135169   0\n",
       "28  0.410902    2.040900   0.003208       0.027288   0\n",
       "29  0.322225    1.137719   0.008713       0.040265   1\n",
       "30  0.392788    0.233735   0.000000       0.129245   0\n",
       "31  0.518041    1.004598   0.001310       0.017207   1\n",
       "32  0.260729    1.400403   0.001261       0.047614   0\n",
       "33  0.319986    1.576505   0.004340       0.077306   1\n",
       "34  0.317147    0.592409   0.011737       0.053270   0\n",
       "35  0.223316    1.684712   0.002612       0.028777   0\n",
       "36  0.335964    1.074193   0.003114       0.014013   0\n",
       "37  0.491948    1.419688   0.005313       0.060404   1\n",
       "38  0.279828    2.164469   0.000053       0.029207   0\n",
       "39  0.224216    0.528548   0.000000       0.041017   0\n",
       "40  0.278100    1.728854   0.000000       0.086062   0\n",
       "41  0.421842    1.064863   0.009887       0.050966   1\n",
       "42  0.233508    0.437954   0.000000       0.095040   0\n",
       "43  0.320161    1.219473   0.000000       0.035487   0\n",
       "44  0.403545    0.711338   0.019054       0.078509   0\n",
       "45  0.199802    0.452571   0.000000       0.007291   0\n",
       "46  0.324108    2.993943   0.004402       0.046669   1\n",
       "47  0.281319   19.715187   0.000000       0.128260   0\n",
       "48  0.306041   29.583842   0.000885       0.221058   0\n",
       "49  0.490038   -0.013107   0.004958       0.000000   0\n",
       "50  0.460811    0.833472   0.016902       0.032856   1\n",
       "51  0.320874    0.066563   0.005907       0.083438   1\n",
       "52  0.255045    0.860828   0.000000       0.053810   1\n",
       "53  0.411065    0.783054   0.000000       0.021704   0>"
      ]
     },
     "execution_count": 483,
     "metadata": {},
     "output_type": "execute_result"
    }
   ],
   "source": [
    "early_stage[\"gt\"] = early_stage[\"gt\"].astype(int)\n",
    "\n",
    "early_stage.drop([\"pID\",'updrs108','afTap','sTap','nqScore','typingSpeed','file_1'], axis=1, inplace=True)\n",
    "early_stage = early_stage[['SDi','TypingSkew','Dexterity','htArrOutliers','gt']]\n",
    "print(len(early_stage))\n",
    "early_stage.head\n"
   ]
  },
  {
   "cell_type": "markdown",
   "id": "53e8bce3",
   "metadata": {},
   "source": [
    "## importing the de_novo dataset"
   ]
  },
  {
   "cell_type": "code",
   "execution_count": 484,
   "id": "4e955ab9",
   "metadata": {},
   "outputs": [
    {
     "name": "stdout",
     "output_type": "stream",
     "text": [
      "31\n"
     ]
    },
    {
     "data": {
      "text/html": [
       "<div>\n",
       "<style scoped>\n",
       "    .dataframe tbody tr th:only-of-type {\n",
       "        vertical-align: middle;\n",
       "    }\n",
       "\n",
       "    .dataframe tbody tr th {\n",
       "        vertical-align: top;\n",
       "    }\n",
       "\n",
       "    .dataframe thead th {\n",
       "        text-align: right;\n",
       "    }\n",
       "</style>\n",
       "<table border=\"1\" class=\"dataframe\">\n",
       "  <thead>\n",
       "    <tr style=\"text-align: right;\">\n",
       "      <th></th>\n",
       "      <th>pID</th>\n",
       "      <th>gt</th>\n",
       "      <th>updrs108</th>\n",
       "      <th>afTap</th>\n",
       "      <th>sTap</th>\n",
       "      <th>nqScore</th>\n",
       "      <th>typingSpeed</th>\n",
       "      <th>file_1</th>\n",
       "      <th>file_2</th>\n",
       "    </tr>\n",
       "  </thead>\n",
       "  <tbody>\n",
       "    <tr>\n",
       "      <th>0</th>\n",
       "      <td>11</td>\n",
       "      <td>True</td>\n",
       "      <td>14.25</td>\n",
       "      <td>NaN</td>\n",
       "      <td>162.25</td>\n",
       "      <td>0.117543</td>\n",
       "      <td>189.372549</td>\n",
       "      <td>1402930351.011_001_014.csv</td>\n",
       "      <td>1403706430.011_003_014.csv</td>\n",
       "    </tr>\n",
       "    <tr>\n",
       "      <th>1</th>\n",
       "      <td>60</td>\n",
       "      <td>False</td>\n",
       "      <td>2.00</td>\n",
       "      <td>NaN</td>\n",
       "      <td>162.25</td>\n",
       "      <td>0.070350</td>\n",
       "      <td>60.533333</td>\n",
       "      <td>1402932300.060_001_014.csv</td>\n",
       "      <td>1403708258.060_003_014.csv</td>\n",
       "    </tr>\n",
       "    <tr>\n",
       "      <th>2</th>\n",
       "      <td>67</td>\n",
       "      <td>True</td>\n",
       "      <td>25.25</td>\n",
       "      <td>NaN</td>\n",
       "      <td>133.75</td>\n",
       "      <td>0.223411</td>\n",
       "      <td>54.333333</td>\n",
       "      <td>1401117235.067_001_014.csv</td>\n",
       "      <td>1401978395.067_003_014.csv</td>\n",
       "    </tr>\n",
       "    <tr>\n",
       "      <th>3</th>\n",
       "      <td>68</td>\n",
       "      <td>False</td>\n",
       "      <td>6.00</td>\n",
       "      <td>NaN</td>\n",
       "      <td>159.00</td>\n",
       "      <td>0.074973</td>\n",
       "      <td>71.800000</td>\n",
       "      <td>1401114972.068_001_014.csv</td>\n",
       "      <td>1401980765.068_003_014.csv</td>\n",
       "    </tr>\n",
       "    <tr>\n",
       "      <th>4</th>\n",
       "      <td>70</td>\n",
       "      <td>True</td>\n",
       "      <td>26.25</td>\n",
       "      <td>NaN</td>\n",
       "      <td>113.50</td>\n",
       "      <td>0.175751</td>\n",
       "      <td>39.614035</td>\n",
       "      <td>1404311419.070_001_014.csv</td>\n",
       "      <td>1404743687.070_003_014.csv</td>\n",
       "    </tr>\n",
       "  </tbody>\n",
       "</table>\n",
       "</div>"
      ],
      "text/plain": [
       "   pID     gt  updrs108  afTap    sTap   nqScore  typingSpeed  \\\n",
       "0   11   True     14.25    NaN  162.25  0.117543   189.372549   \n",
       "1   60  False      2.00    NaN  162.25  0.070350    60.533333   \n",
       "2   67   True     25.25    NaN  133.75  0.223411    54.333333   \n",
       "3   68  False      6.00    NaN  159.00  0.074973    71.800000   \n",
       "4   70   True     26.25    NaN  113.50  0.175751    39.614035   \n",
       "\n",
       "                       file_1                      file_2  \n",
       "0  1402930351.011_001_014.csv  1403706430.011_003_014.csv  \n",
       "1  1402932300.060_001_014.csv  1403708258.060_003_014.csv  \n",
       "2  1401117235.067_001_014.csv  1401978395.067_003_014.csv  \n",
       "3  1401114972.068_001_014.csv  1401980765.068_003_014.csv  \n",
       "4  1404311419.070_001_014.csv  1404743687.070_003_014.csv  "
      ]
     },
     "execution_count": 484,
     "metadata": {},
     "output_type": "execute_result"
    }
   ],
   "source": [
    "## importing the de-novo dataset \n",
    "de_novo = pd.read_csv('GT_DataPD_MIT-CS1PD.csv')\n",
    "# X = dataset.iloc[:, :-1].values\n",
    "# y = dataset.iloc[:, -1].values\n",
    "print(len(de_novo))\n",
    "de_novo.head()"
   ]
  },
  {
   "cell_type": "markdown",
   "id": "7c106a12",
   "metadata": {},
   "source": [
    "## calculating the SDi for the de_novo dataset "
   ]
  },
  {
   "cell_type": "code",
   "execution_count": 485,
   "id": "67eccf8c",
   "metadata": {},
   "outputs": [
    {
     "name": "stderr",
     "output_type": "stream",
     "text": [
      "C:\\Python310\\lib\\site-packages\\numpy\\core\\_methods.py:264: RuntimeWarning: Degrees of freedom <= 0 for slice\n",
      "  ret = _var(a, axis=axis, dtype=dtype, out=out, ddof=ddof,\n",
      "C:\\Python310\\lib\\site-packages\\numpy\\core\\_methods.py:222: RuntimeWarning: invalid value encountered in true_divide\n",
      "  arrmean = um.true_divide(arrmean, div, out=arrmean, casting='unsafe',\n",
      "C:\\Python310\\lib\\site-packages\\numpy\\core\\_methods.py:256: RuntimeWarning: invalid value encountered in double_scalars\n",
      "  ret = ret.dtype.type(ret / rcount)\n"
     ]
    },
    {
     "data": {
      "text/html": [
       "<div>\n",
       "<style scoped>\n",
       "    .dataframe tbody tr th:only-of-type {\n",
       "        vertical-align: middle;\n",
       "    }\n",
       "\n",
       "    .dataframe tbody tr th {\n",
       "        vertical-align: top;\n",
       "    }\n",
       "\n",
       "    .dataframe thead th {\n",
       "        text-align: right;\n",
       "    }\n",
       "</style>\n",
       "<table border=\"1\" class=\"dataframe\">\n",
       "  <thead>\n",
       "    <tr style=\"text-align: right;\">\n",
       "      <th></th>\n",
       "      <th>pID</th>\n",
       "      <th>gt</th>\n",
       "      <th>updrs108</th>\n",
       "      <th>afTap</th>\n",
       "      <th>sTap</th>\n",
       "      <th>nqScore</th>\n",
       "      <th>typingSpeed</th>\n",
       "      <th>file_1</th>\n",
       "      <th>file_2</th>\n",
       "      <th>SDi</th>\n",
       "      <th>htArrOutliers</th>\n",
       "    </tr>\n",
       "  </thead>\n",
       "  <tbody>\n",
       "    <tr>\n",
       "      <th>0</th>\n",
       "      <td>11</td>\n",
       "      <td>True</td>\n",
       "      <td>14.25</td>\n",
       "      <td>NaN</td>\n",
       "      <td>162.25</td>\n",
       "      <td>0.117543</td>\n",
       "      <td>189.372549</td>\n",
       "      <td>1402930351.011_001_014.csv</td>\n",
       "      <td>1403706430.011_003_014.csv</td>\n",
       "      <td>0.564521</td>\n",
       "      <td>0.114139</td>\n",
       "    </tr>\n",
       "    <tr>\n",
       "      <th>1</th>\n",
       "      <td>60</td>\n",
       "      <td>False</td>\n",
       "      <td>2.00</td>\n",
       "      <td>NaN</td>\n",
       "      <td>162.25</td>\n",
       "      <td>0.070350</td>\n",
       "      <td>60.533333</td>\n",
       "      <td>1402932300.060_001_014.csv</td>\n",
       "      <td>1403708258.060_003_014.csv</td>\n",
       "      <td>0.421491</td>\n",
       "      <td>0.102949</td>\n",
       "    </tr>\n",
       "    <tr>\n",
       "      <th>2</th>\n",
       "      <td>67</td>\n",
       "      <td>True</td>\n",
       "      <td>25.25</td>\n",
       "      <td>NaN</td>\n",
       "      <td>133.75</td>\n",
       "      <td>0.223411</td>\n",
       "      <td>54.333333</td>\n",
       "      <td>1401117235.067_001_014.csv</td>\n",
       "      <td>1401978395.067_003_014.csv</td>\n",
       "      <td>0.448163</td>\n",
       "      <td>0.032978</td>\n",
       "    </tr>\n",
       "    <tr>\n",
       "      <th>3</th>\n",
       "      <td>68</td>\n",
       "      <td>False</td>\n",
       "      <td>6.00</td>\n",
       "      <td>NaN</td>\n",
       "      <td>159.00</td>\n",
       "      <td>0.074973</td>\n",
       "      <td>71.800000</td>\n",
       "      <td>1401114972.068_001_014.csv</td>\n",
       "      <td>1401980765.068_003_014.csv</td>\n",
       "      <td>0.229087</td>\n",
       "      <td>0.019914</td>\n",
       "    </tr>\n",
       "    <tr>\n",
       "      <th>4</th>\n",
       "      <td>70</td>\n",
       "      <td>True</td>\n",
       "      <td>26.25</td>\n",
       "      <td>NaN</td>\n",
       "      <td>113.50</td>\n",
       "      <td>0.175751</td>\n",
       "      <td>39.614035</td>\n",
       "      <td>1404311419.070_001_014.csv</td>\n",
       "      <td>1404743687.070_003_014.csv</td>\n",
       "      <td>0.319824</td>\n",
       "      <td>0.089441</td>\n",
       "    </tr>\n",
       "  </tbody>\n",
       "</table>\n",
       "</div>"
      ],
      "text/plain": [
       "   pID     gt  updrs108  afTap    sTap   nqScore  typingSpeed  \\\n",
       "0   11   True     14.25    NaN  162.25  0.117543   189.372549   \n",
       "1   60  False      2.00    NaN  162.25  0.070350    60.533333   \n",
       "2   67   True     25.25    NaN  133.75  0.223411    54.333333   \n",
       "3   68  False      6.00    NaN  159.00  0.074973    71.800000   \n",
       "4   70   True     26.25    NaN  113.50  0.175751    39.614035   \n",
       "\n",
       "                       file_1                      file_2       SDi  \\\n",
       "0  1402930351.011_001_014.csv  1403706430.011_003_014.csv  0.564521   \n",
       "1  1402932300.060_001_014.csv  1403708258.060_003_014.csv  0.421491   \n",
       "2  1401117235.067_001_014.csv  1401978395.067_003_014.csv  0.448163   \n",
       "3  1401114972.068_001_014.csv  1401980765.068_003_014.csv  0.229087   \n",
       "4  1404311419.070_001_014.csv  1404743687.070_003_014.csv  0.319824   \n",
       "\n",
       "   htArrOutliers  \n",
       "0       0.114139  \n",
       "1       0.102949  \n",
       "2       0.032978  \n",
       "3       0.019914  \n",
       "4       0.089441  "
      ]
     },
     "execution_count": 485,
     "metadata": {},
     "output_type": "execute_result"
    }
   ],
   "source": [
    "##using both files \n",
    "SD_index = []\n",
    "outlier_count = []\n",
    "for index, row in de_novo.iterrows():\n",
    "    fileloc1 = row.file_1\n",
    "    keyPressed, htArr, pressArr, releaseArr =  nq.getDataFiltHelper( 'data_MIT-CS1PD/' + de_novo.loc[index]['file_1'])\n",
    "    nphtArr = np.array(htArr)\n",
    "    ##fiinding outliers\n",
    "    outliers = []\n",
    "    p25 = np.percentile(nphtArr, 25)\n",
    "    p75 = np.percentile(nphtArr, 75)\n",
    "    for ind, value in enumerate(nphtArr):\n",
    "        if is_outlier(value, p25, p75):\n",
    "            outliers.append(value) \n",
    "    fluctuations = []\n",
    "    for i in range(0,len(htArr)-1):\n",
    "        row1 = htArr[i]\n",
    "        row2 = htArr[i+1]\n",
    "        temp1 = np.log(row1)\n",
    "        temp2 = np.log(row2)\n",
    "        result = temp2-temp1\n",
    "        fluctuations.append(result)\n",
    "    \n",
    "    fileloc2 = row.file_2\n",
    "    keyPressed, htArr, pressArr, releaseArr =  nq.getDataFiltHelper( 'data_MIT-CS1PD/' + de_novo.loc[index]['file_2'])\n",
    "    nphtArr = np.array(htArr)\n",
    "    p25 = np.percentile(nphtArr, 25)\n",
    "    p75 = np.percentile(nphtArr, 75)\n",
    "    for ind, value in enumerate(nphtArr):\n",
    "        if is_outlier(value, p25, p75):\n",
    "            outliers.append(value) \n",
    "    for i in range(0,len(htArr)-1):\n",
    "        row1 = htArr[i]\n",
    "        row2 = htArr[i+1]\n",
    "        temp1 = np.log(row1)\n",
    "        temp2 = np.log(row2)\n",
    "        result = temp2-temp1\n",
    "        fluctuations.append(result)  \n",
    "    npFluctuations = np.array(fluctuations)\n",
    "    sd_index_score = npFluctuations.std()\n",
    "    SD_index.append(sd_index_score)\n",
    "    npoutliers = np.array(outliers)\n",
    "    outlier_count.append(npoutliers.std())\n",
    "    \n",
    "de_novo[\"SDi\"] = SD_index\n",
    "de_novo['htArrOutliers'] = outlier_count\n",
    "de_novo.head()"
   ]
  },
  {
   "cell_type": "code",
   "execution_count": 486,
   "id": "11b15270",
   "metadata": {},
   "outputs": [],
   "source": [
    "dexterityMetric = []\n",
    "for index, row in de_novo.iterrows():\n",
    "    fileloc1 = row.file_1\n",
    "    keyPressed, htArr, pressArr, releaseArr =  nq.getDataFiltHelper( 'data_MIT-CS1PD/' + de_novo.loc[index]['file_1'])\n",
    "    \n",
    "    dexterity = []\n",
    "    for i in range(0,len(keyPressed)-1):\n",
    "        d1 = releaseArr[i]\n",
    "        p2 = pressArr[i+1]\n",
    "        result = 0 if (d1-p2 < 0) else (d1-p2)\n",
    "        dexterity.append(result)\n",
    "    keyPressed, htArr, pressArr, releaseArr =  nq.getDataFiltHelper( 'data_MIT-CS1PD/' + de_novo.loc[index]['file_2'])\n",
    "    htArrFirst = htArr[0]\n",
    "    fluctuations.append(result)\n",
    "    for i in range(1,len(keyPressed)-1):\n",
    "        d1 = releaseArr[i]\n",
    "        p2 = pressArr[i+1]\n",
    "        result = 0 if (d1-p2 < 0) else (d1-p2)\n",
    "        dexterity.append(result)\n",
    "    npdexterity = np.array(dexterity)\n",
    "    dexterityMetric.append(npdexterity.std())\n",
    "    \n",
    "\n",
    "de_novo[\"Dexterity\"] = dexterityMetric"
   ]
  },
  {
   "cell_type": "code",
   "execution_count": 487,
   "id": "9e566a5e",
   "metadata": {},
   "outputs": [],
   "source": [
    "from scipy.stats import skew\n",
    "TypingSkew =[]\n",
    "for index, row in de_novo.iterrows():\n",
    "    keyPressed, htArr, pressArr, releaseArr =  nq.getDataFiltHelper( 'data_MIT-CS1PD/' + de_novo.loc[index]['file_1'])\n",
    "    skew1 = skew(htArr)\n",
    "    keyPressed, htArr, pressArr, releaseArr =  nq.getDataFiltHelper( 'data_MIT-CS1PD/' + de_novo.loc[index]['file_2'])\n",
    "    skew2 = skew(htArr)\n",
    "    TypingSkew.append((skew1+skew2)/2.0)\n",
    "   \n",
    "    \n",
    "    \n",
    "\n",
    "de_novo['TypingSkew'] =TypingSkew"
   ]
  },
  {
   "cell_type": "markdown",
   "id": "979ae0e3",
   "metadata": {},
   "source": [
    "## trimming the de_novo dataset to contain only the SDi as a feature and the gt as the target variable "
   ]
  },
  {
   "cell_type": "code",
   "execution_count": 488,
   "id": "5a736f40",
   "metadata": {},
   "outputs": [
    {
     "data": {
      "text/html": [
       "<div>\n",
       "<style scoped>\n",
       "    .dataframe tbody tr th:only-of-type {\n",
       "        vertical-align: middle;\n",
       "    }\n",
       "\n",
       "    .dataframe tbody tr th {\n",
       "        vertical-align: top;\n",
       "    }\n",
       "\n",
       "    .dataframe thead th {\n",
       "        text-align: right;\n",
       "    }\n",
       "</style>\n",
       "<table border=\"1\" class=\"dataframe\">\n",
       "  <thead>\n",
       "    <tr style=\"text-align: right;\">\n",
       "      <th></th>\n",
       "      <th>SDi</th>\n",
       "      <th>TypingSkew</th>\n",
       "      <th>Dexterity</th>\n",
       "      <th>htArrOutliers</th>\n",
       "      <th>gt</th>\n",
       "    </tr>\n",
       "  </thead>\n",
       "  <tbody>\n",
       "    <tr>\n",
       "      <th>0</th>\n",
       "      <td>0.564521</td>\n",
       "      <td>4.721638</td>\n",
       "      <td>0.012277</td>\n",
       "      <td>0.114139</td>\n",
       "      <td>1</td>\n",
       "    </tr>\n",
       "    <tr>\n",
       "      <th>1</th>\n",
       "      <td>0.421491</td>\n",
       "      <td>2.103442</td>\n",
       "      <td>0.001475</td>\n",
       "      <td>0.102949</td>\n",
       "      <td>0</td>\n",
       "    </tr>\n",
       "    <tr>\n",
       "      <th>2</th>\n",
       "      <td>0.448163</td>\n",
       "      <td>0.905364</td>\n",
       "      <td>0.002181</td>\n",
       "      <td>0.032978</td>\n",
       "      <td>1</td>\n",
       "    </tr>\n",
       "    <tr>\n",
       "      <th>3</th>\n",
       "      <td>0.229087</td>\n",
       "      <td>0.586957</td>\n",
       "      <td>0.000000</td>\n",
       "      <td>0.019914</td>\n",
       "      <td>0</td>\n",
       "    </tr>\n",
       "    <tr>\n",
       "      <th>4</th>\n",
       "      <td>0.319824</td>\n",
       "      <td>0.608208</td>\n",
       "      <td>0.000000</td>\n",
       "      <td>0.089441</td>\n",
       "      <td>1</td>\n",
       "    </tr>\n",
       "  </tbody>\n",
       "</table>\n",
       "</div>"
      ],
      "text/plain": [
       "        SDi  TypingSkew  Dexterity  htArrOutliers  gt\n",
       "0  0.564521    4.721638   0.012277       0.114139   1\n",
       "1  0.421491    2.103442   0.001475       0.102949   0\n",
       "2  0.448163    0.905364   0.002181       0.032978   1\n",
       "3  0.229087    0.586957   0.000000       0.019914   0\n",
       "4  0.319824    0.608208   0.000000       0.089441   1"
      ]
     },
     "execution_count": 488,
     "metadata": {},
     "output_type": "execute_result"
    }
   ],
   "source": [
    "de_novo[\"gt\"] = de_novo[\"gt\"].astype(int)\n",
    "\n",
    "# de_novo.drop([\"pID\",'updrs108','afTap','sTap','nqScore','typingSpeed','file_1','file_2'], axis=1, inplace=True)\n",
    "de_novo = de_novo[['SDi','TypingSkew','Dexterity','htArrOutliers','gt']]\n",
    "de_novo.head()"
   ]
  },
  {
   "cell_type": "markdown",
   "id": "0aede7ab",
   "metadata": {},
   "source": [
    "## splitting the de_novo patients to double the dataset size by considering file_2 of a patient a different "
   ]
  },
  {
   "cell_type": "code",
   "execution_count": null,
   "id": "77ae06e3",
   "metadata": {},
   "outputs": [],
   "source": []
  },
  {
   "cell_type": "markdown",
   "id": "c4e9b7a0",
   "metadata": {},
   "source": [
    "## appending the datasets together"
   ]
  },
  {
   "cell_type": "code",
   "execution_count": 489,
   "id": "98250a9f",
   "metadata": {
    "scrolled": true
   },
   "outputs": [
    {
     "name": "stdout",
     "output_type": "stream",
     "text": [
      "54\n",
      "31\n",
      "85\n",
      "(4, 4)\n"
     ]
    },
    {
     "name": "stderr",
     "output_type": "stream",
     "text": [
      "C:\\Users\\micoa\\AppData\\Local\\Temp\\ipykernel_11468\\3982643381.py:9: SettingWithCopyWarning: \n",
      "A value is trying to be set on a copy of a slice from a DataFrame.\n",
      "Try using .loc[row_indexer,col_indexer] = value instead\n",
      "\n",
      "See the caveats in the documentation: https://pandas.pydata.org/pandas-docs/stable/user_guide/indexing.html#returning-a-view-versus-a-copy\n",
      "  dataframe[\"gt\"] =list(map(lambda x : 1 if x == True else 0 , dataframe[\"gt\"]))\n",
      "C:\\Users\\micoa\\AppData\\Local\\Temp\\ipykernel_11468\\3982643381.py:10: SettingWithCopyWarning: \n",
      "A value is trying to be set on a copy of a slice from a DataFrame.\n",
      "Try using .loc[row_indexer,col_indexer] = value instead\n",
      "\n",
      "See the caveats in the documentation: https://pandas.pydata.org/pandas-docs/stable/user_guide/indexing.html#returning-a-view-versus-a-copy\n",
      "  dataframe[['SDi','TypingSkew','Dexterity']] = sc.fit_transform(dataframe.iloc[:,:-1])\n"
     ]
    },
    {
     "data": {
      "image/png": "[encoded data removed]",
      "text/plain": [
       "<Figure size 432x288 with 2 Axes>"
      ]
     },
     "metadata": {
      "needs_background": "light"
     },
     "output_type": "display_data"
    }
   ],
   "source": [
    "print(len(early_stage))\n",
    "print(len(de_novo))\n",
    "early_stage = pd.concat([early_stage,de_novo])\n",
    "print(len(early_stage))\n",
    "import seaborn as sns\n",
    "from sklearn.preprocessing import StandardScaler\n",
    "sc = StandardScaler()\n",
    "dataframe = early_stage[['SDi','TypingSkew','Dexterity','gt']]\n",
    "dataframe[\"gt\"] =list(map(lambda x : 1 if x == True else 0 , dataframe[\"gt\"]))\n",
    "dataframe[['SDi','TypingSkew','Dexterity']] = sc.fit_transform(dataframe.iloc[:,:-1])\n",
    "cov = np.cov(dataframe.T, bias=True)\n",
    "labs = ['SDi', 'TypingSkew', 'Dexterity','gt']\n",
    "sns.heatmap(cov, annot=True, fmt='g', xticklabels=labs, yticklabels=labs)\n",
    "plt.title(\"Covariance Matrix\")\n",
    "print(np.shape(cov))\n",
    "\n"
   ]
  },
  {
   "cell_type": "code",
   "execution_count": 490,
   "id": "c8fbc0d6",
   "metadata": {},
   "outputs": [
    {
     "name": "stdout",
     "output_type": "stream",
     "text": [
      "85\n",
      "31\n",
      "116\n"
     ]
    },
    {
     "name": "stderr",
     "output_type": "stream",
     "text": [
      "C:\\Users\\micoa\\AppData\\Local\\Temp\\ipykernel_11468\\284066489.py:9: SettingWithCopyWarning: \n",
      "A value is trying to be set on a copy of a slice from a DataFrame.\n",
      "Try using .loc[row_indexer,col_indexer] = value instead\n",
      "\n",
      "See the caveats in the documentation: https://pandas.pydata.org/pandas-docs/stable/user_guide/indexing.html#returning-a-view-versus-a-copy\n",
      "  dataframe[\"gt\"] =list(map(lambda x : 1 if x == True else 0 , dataframe[\"gt\"]))\n"
     ]
    },
    {
     "name": "stdout",
     "output_type": "stream",
     "text": [
      "(4, 4)\n"
     ]
    },
    {
     "name": "stderr",
     "output_type": "stream",
     "text": [
      "C:\\Users\\micoa\\AppData\\Local\\Temp\\ipykernel_11468\\284066489.py:10: SettingWithCopyWarning: \n",
      "A value is trying to be set on a copy of a slice from a DataFrame.\n",
      "Try using .loc[row_indexer,col_indexer] = value instead\n",
      "\n",
      "See the caveats in the documentation: https://pandas.pydata.org/pandas-docs/stable/user_guide/indexing.html#returning-a-view-versus-a-copy\n",
      "  dataframe[['SDi','TypingSkew','Dexterity']] = sc.fit_transform(dataframe.iloc[:,:-1])\n",
      "C:\\Users\\micoa\\AppData\\Local\\Temp\\ipykernel_11468\\284066489.py:11: DeprecationWarning: bias and ddof have no effect and are deprecated\n",
      "  corrcoefs = np.corrcoef(dataframe.T, bias=True)\n"
     ]
    },
    {
     "data": {
      "image/png": "[encoded data removed]",
      "text/plain": [
       "<Figure size 432x288 with 2 Axes>"
      ]
     },
     "metadata": {
      "needs_background": "light"
     },
     "output_type": "display_data"
    }
   ],
   "source": [
    "print(len(early_stage))\n",
    "print(len(de_novo))\n",
    "early_stage = pd.concat([early_stage,de_novo])\n",
    "print(len(early_stage))\n",
    "import seaborn as sns\n",
    "from sklearn.preprocessing import StandardScaler\n",
    "sc = StandardScaler()\n",
    "dataframe = early_stage[['SDi','TypingSkew','Dexterity','gt']]\n",
    "dataframe[\"gt\"] =list(map(lambda x : 1 if x == True else 0 , dataframe[\"gt\"]))\n",
    "dataframe[['SDi','TypingSkew','Dexterity']] = sc.fit_transform(dataframe.iloc[:,:-1])\n",
    "corrcoefs = np.corrcoef(dataframe.T, bias=True)\n",
    "labs = ['SDi', 'TypingSkew', 'Dexterity','gt']\n",
    "sns.heatmap(corrcoefs, annot=True, fmt='g', xticklabels=labs, yticklabels=labs)\n",
    "plt.title(\"correlation Coefficients Matrix\")\n",
    "print(np.shape(corrcoefs))\n"
   ]
  },
  {
   "cell_type": "code",
   "execution_count": 491,
   "id": "08c7eb2b",
   "metadata": {},
   "outputs": [
    {
     "name": "stdout",
     "output_type": "stream",
     "text": [
      "Anova F: the variables are Non-Correlated (p-value: 0.434)\n"
     ]
    }
   ],
   "source": [
    "import statsmodels.formula.api as smf\n",
    "import statsmodels.api as sm\n",
    "cat, num = \"gt\", \"TypingSkew\"\n",
    "model = smf.ols(num+' ~ '+cat, data=early_stage).fit()\n",
    "table = sm.stats.anova_lm(model)\n",
    "p = table[\"PR(>F)\"][0]\n",
    "coeff, p = None, round(p, 3)\n",
    "conclusion = \"Correlated\" if p < 0.05 else \"Non-Correlated\"\n",
    "print(\"Anova F: the variables are\", conclusion, \"(p-value: \"+str(p)+\")\")"
   ]
  },
  {
   "cell_type": "code",
   "execution_count": 492,
   "id": "3bfd4d78",
   "metadata": {},
   "outputs": [
    {
     "name": "stdout",
     "output_type": "stream",
     "text": [
      "Anova F: the variables are Correlated (p-value: 0.003)\n"
     ]
    }
   ],
   "source": [
    "import statsmodels.formula.api as smf\n",
    "import statsmodels.api as sm\n",
    "cat, num = \"gt\", \"htArrOutliers\"\n",
    "model = smf.ols(num+' ~ '+cat, data=early_stage).fit()\n",
    "table = sm.stats.anova_lm(model)\n",
    "p = table[\"PR(>F)\"][0]\n",
    "coeff, p = None, round(p, 3)\n",
    "conclusion = \"Correlated\" if p < 0.05 else \"Non-Correlated\"\n",
    "print(\"Anova F: the variables are\", conclusion, \"(p-value: \"+str(p)+\")\")"
   ]
  },
  {
   "cell_type": "markdown",
   "id": "db533f19",
   "metadata": {},
   "source": [
    "## splitting the data into features and dependant variable and further splitting into train and testing data"
   ]
  },
  {
   "cell_type": "code",
   "execution_count": 493,
   "id": "ccb2f6fe",
   "metadata": {},
   "outputs": [],
   "source": [
    "early_stage.drop('TypingSkew',axis=1, inplace=True)\n",
    "early_stage.drop('htArrOutliers',axis=1, inplace=True)\n",
    "X = early_stage.iloc[:, :-1].values\n",
    "y = early_stage.iloc[:, -1].values"
   ]
  },
  {
   "cell_type": "code",
   "execution_count": null,
   "id": "b88f21f8",
   "metadata": {},
   "outputs": [],
   "source": []
  },
  {
   "cell_type": "code",
   "execution_count": 494,
   "id": "3e774c2c",
   "metadata": {},
   "outputs": [],
   "source": [
    "from sklearn.model_selection import train_test_split\n",
    "X_train,X_test,y_train,y_test = train_test_split(X,y,test_size=0.2)"
   ]
  },
  {
   "cell_type": "code",
   "execution_count": 495,
   "id": "e97c8932",
   "metadata": {},
   "outputs": [
    {
     "data": {
      "text/plain": [
       "array([[-0.36567256,  0.03085458],\n",
       "       [-0.65506966,  0.26027585],\n",
       "       [ 0.09500652,  0.47903131],\n",
       "       [ 0.66453597, -0.42780352],\n",
       "       [ 0.25968971, -0.56279091],\n",
       "       [-0.63968057, -0.3091873 ],\n",
       "       [-0.23138539,  1.66342191],\n",
       "       [-1.41606752, -0.890495  ],\n",
       "       [ 0.47727132,  1.34179575],\n",
       "       [ 0.29073059, -0.64597185],\n",
       "       [-0.45839985, -0.890495  ],\n",
       "       [ 0.37392344, -0.60251442],\n",
       "       [ 0.29073059, -0.64597185],\n",
       "       [-1.46322133, -0.54558856],\n",
       "       [ 0.73756195, -0.01621783],\n",
       "       [-0.83624189,  1.48730181],\n",
       "       [ 0.15886293,  0.4153102 ],\n",
       "       [-1.10658909, -0.890495  ],\n",
       "       [-0.67468384, -0.890495  ],\n",
       "       [ 0.15599845, -0.69571858],\n",
       "       [-0.22280067,  0.56846813],\n",
       "       [-0.0600093 ,  0.1531905 ],\n",
       "       [ 0.09500652,  0.47903131],\n",
       "       [-1.2314475 , -0.890495  ]])"
      ]
     },
     "execution_count": 495,
     "metadata": {},
     "output_type": "execute_result"
    }
   ],
   "source": [
    "from sklearn.preprocessing import StandardScaler\n",
    "sc = StandardScaler()\n",
    "sc.fit_transform(X_train)\n",
    "sc.transform(X_test)"
   ]
  },
  {
   "cell_type": "code",
   "execution_count": 496,
   "id": "c45feb01",
   "metadata": {},
   "outputs": [
    {
     "name": "stdout",
     "output_type": "stream",
     "text": [
      "Confusion matrix, without normalization\n",
      "[[6 4]\n",
      " [7 7]]\n",
      "Normalized confusion matrix\n",
      "[[0.6 0.4]\n",
      " [0.5 0.5]]\n"
     ]
    },
    {
     "data": {
      "image/png": "[encoded data removed]",
      "text/plain": [
       "<Figure size 432x288 with 2 Axes>"
      ]
     },
     "metadata": {
      "needs_background": "light"
     },
     "output_type": "display_data"
    },
    {
     "data": {
      "image/png": "[encoded data removed]",
      "text/plain": [
       "<Figure size 432x288 with 2 Axes>"
      ]
     },
     "metadata": {
      "needs_background": "light"
     },
     "output_type": "display_data"
    },
    {
     "name": "stdout",
     "output_type": "stream",
     "text": [
      "Accuracy score : 0.5416666666666666\n",
      "Mean accuracy of 30 fold cross validation test : 0.65\n",
      "with a maximum accuracy of 1.0\n"
     ]
    }
   ],
   "source": [
    "from sklearn.linear_model import LogisticRegression\n",
    "classifier = LogisticRegression(random_state=0)\n",
    "testClassifier(classifier,X_train,X_test,y_train,y_test)\n"
   ]
  },
  {
   "cell_type": "code",
   "execution_count": 497,
   "id": "b40bfcc0",
   "metadata": {},
   "outputs": [
    {
     "name": "stdout",
     "output_type": "stream",
     "text": [
      "[[0 0]\n",
      " [0 1]\n",
      " [1 1]\n",
      " [1 1]\n",
      " [1 0]\n",
      " [0 1]\n",
      " [0 0]\n",
      " [0 0]\n",
      " [1 1]\n",
      " [1 0]\n",
      " [0 1]\n",
      " [1 1]\n",
      " [1 0]\n",
      " [0 0]\n",
      " [1 1]\n",
      " [0 1]\n",
      " [1 1]\n",
      " [0 0]\n",
      " [0 1]\n",
      " [1 0]\n",
      " [0 1]\n",
      " [0 1]\n",
      " [1 1]\n",
      " [0 0]]\n"
     ]
    }
   ],
   "source": [
    "y_pred =  classifier.predict(X_test)\n",
    "print(np.concatenate((y_pred.reshape(len(y_pred),1),y_test.reshape(len(y_test),1)),1))"
   ]
  },
  {
   "cell_type": "code",
   "execution_count": null,
   "id": "feffb899",
   "metadata": {},
   "outputs": [],
   "source": []
  },
  {
   "cell_type": "markdown",
   "id": "e80b3ee1",
   "metadata": {},
   "source": [
    "## attempting to use K-neighrest neighbour "
   ]
  },
  {
   "cell_type": "code",
   "execution_count": 498,
   "id": "6a02f5b4",
   "metadata": {},
   "outputs": [
    {
     "name": "stdout",
     "output_type": "stream",
     "text": [
      "Confusion matrix, without normalization\n",
      "[[6 4]\n",
      " [9 5]]\n",
      "Normalized confusion matrix\n",
      "[[0.6        0.4       ]\n",
      " [0.64285714 0.35714286]]\n"
     ]
    },
    {
     "data": {
      "image/png": "[encoded data removed]",
      "text/plain": [
       "<Figure size 432x288 with 2 Axes>"
      ]
     },
     "metadata": {
      "needs_background": "light"
     },
     "output_type": "display_data"
    },
    {
     "data": {
      "image/png": "[encoded data removed]",
      "text/plain": [
       "<Figure size 432x288 with 2 Axes>"
      ]
     },
     "metadata": {
      "needs_background": "light"
     },
     "output_type": "display_data"
    },
    {
     "name": "stdout",
     "output_type": "stream",
     "text": [
      "Accuracy score : 0.4583333333333333\n",
      "Mean accuracy of 30 fold cross validation test : 0.6416666666666667\n",
      "with a maximum accuracy of 1.0\n"
     ]
    }
   ],
   "source": [
    "from sklearn.neighbors import KNeighborsClassifier\n",
    "classifier = KNeighborsClassifier(n_neighbors=50)\n",
    "testClassifier(classifier,X_train,X_test,y_train,y_test)"
   ]
  },
  {
   "cell_type": "code",
   "execution_count": 499,
   "id": "8a9a0897",
   "metadata": {},
   "outputs": [
    {
     "name": "stdout",
     "output_type": "stream",
     "text": [
      "[[0 0]\n",
      " [0 1]\n",
      " [0 1]\n",
      " [1 1]\n",
      " [1 0]\n",
      " [0 1]\n",
      " [0 0]\n",
      " [0 0]\n",
      " [1 1]\n",
      " [1 0]\n",
      " [0 1]\n",
      " [1 1]\n",
      " [1 0]\n",
      " [0 0]\n",
      " [1 1]\n",
      " [0 1]\n",
      " [1 1]\n",
      " [0 0]\n",
      " [0 1]\n",
      " [1 0]\n",
      " [0 1]\n",
      " [0 1]\n",
      " [0 1]\n",
      " [0 0]]\n"
     ]
    }
   ],
   "source": [
    "y_pred = classifier.predict(X_test)\n",
    "print(np.concatenate((y_pred.reshape(len(y_pred),1), y_test.reshape(len(y_test),1)),1))"
   ]
  },
  {
   "cell_type": "code",
   "execution_count": null,
   "id": "d482873c",
   "metadata": {},
   "outputs": [],
   "source": []
  },
  {
   "cell_type": "code",
   "execution_count": null,
   "id": "1d7cea5b",
   "metadata": {},
   "outputs": [],
   "source": []
  },
  {
   "cell_type": "code",
   "execution_count": null,
   "id": "702d9284",
   "metadata": {},
   "outputs": [],
   "source": []
  },
  {
   "cell_type": "code",
   "execution_count": 500,
   "id": "10699e2c",
   "metadata": {},
   "outputs": [
    {
     "name": "stdout",
     "output_type": "stream",
     "text": [
      "Confusion matrix, without normalization\n",
      "[[6 4]\n",
      " [9 5]]\n",
      "Normalized confusion matrix\n",
      "[[0.6        0.4       ]\n",
      " [0.64285714 0.35714286]]\n"
     ]
    },
    {
     "data": {
      "image/png": "[encoded data removed]",
      "text/plain": [
       "<Figure size 432x288 with 2 Axes>"
      ]
     },
     "metadata": {
      "needs_background": "light"
     },
     "output_type": "display_data"
    },
    {
     "data": {
      "image/png": "[encoded data removed]",
      "text/plain": [
       "<Figure size 432x288 with 2 Axes>"
      ]
     },
     "metadata": {
      "needs_background": "light"
     },
     "output_type": "display_data"
    },
    {
     "name": "stdout",
     "output_type": "stream",
     "text": [
      "Accuracy score : 0.4583333333333333\n",
      "Mean accuracy of 30 fold cross validation test : 0.6361111111111112\n",
      "with a maximum accuracy of 1.0\n"
     ]
    }
   ],
   "source": [
    "from sklearn.svm import SVC\n",
    "classifier = SVC(kernel = 'rbf')\n",
    "testClassifier(classifier,X_train,X_test,y_train,y_test)"
   ]
  },
  {
   "cell_type": "code",
   "execution_count": 501,
   "id": "9b21174c",
   "metadata": {},
   "outputs": [
    {
     "name": "stdout",
     "output_type": "stream",
     "text": [
      "[[0 0]\n",
      " [0 1]\n",
      " [0 1]\n",
      " [1 1]\n",
      " [1 0]\n",
      " [0 1]\n",
      " [0 0]\n",
      " [0 0]\n",
      " [1 1]\n",
      " [1 0]\n",
      " [0 1]\n",
      " [1 1]\n",
      " [1 0]\n",
      " [0 0]\n",
      " [1 1]\n",
      " [0 1]\n",
      " [1 1]\n",
      " [0 0]\n",
      " [0 1]\n",
      " [1 0]\n",
      " [0 1]\n",
      " [0 1]\n",
      " [0 1]\n",
      " [0 0]]\n"
     ]
    }
   ],
   "source": [
    "y_pred =  classifier.predict(X_test)\n",
    "print(np.concatenate((y_pred.reshape(len(y_pred),1),y_test.reshape(len(y_test),1)),1))"
   ]
  },
  {
   "cell_type": "code",
   "execution_count": null,
   "id": "6ed45550",
   "metadata": {},
   "outputs": [],
   "source": []
  },
  {
   "cell_type": "code",
   "execution_count": null,
   "id": "8f00c3c5",
   "metadata": {},
   "outputs": [],
   "source": []
  },
  {
   "cell_type": "code",
   "execution_count": 502,
   "id": "6ad81f08",
   "metadata": {},
   "outputs": [],
   "source": [
    "# import statsmodels.formula.api as smf\n",
    "# import statsmodels.api as sm\n",
    "# cat, num = \"gt\", \"htArrOutliers\"\n",
    "# model = smf.ols(num+' ~ '+cat, data=early_stage).fit()\n",
    "# table = sm.stats.anova_lm(model)\n",
    "# p = table[\"PR(>F)\"][0]\n",
    "# coeff, p = None, round(p, 3)\n",
    "# conclusion = \"Correlated\" if p < 0.05 else \"Non-Correlated\"\n",
    "# print(\"Anova F: the variables are\", conclusion, \"(p-value: \"+str(p)+\")\")"
   ]
  },
  {
   "cell_type": "code",
   "execution_count": 503,
   "id": "68e9e82b",
   "metadata": {},
   "outputs": [
    {
     "name": "stdout",
     "output_type": "stream",
     "text": [
      "Confusion matrix, without normalization\n",
      "[[9 1]\n",
      " [7 7]]\n",
      "Normalized confusion matrix\n",
      "[[0.9 0.1]\n",
      " [0.5 0.5]]\n"
     ]
    },
    {
     "data": {
      "image/png": "[encoded data removed]",
      "text/plain": [
       "<Figure size 432x288 with 2 Axes>"
      ]
     },
     "metadata": {
      "needs_background": "light"
     },
     "output_type": "display_data"
    },
    {
     "data": {
      "image/png": "[encoded data removed]",
      "text/plain": [
       "<Figure size 432x288 with 2 Axes>"
      ]
     },
     "metadata": {
      "needs_background": "light"
     },
     "output_type": "display_data"
    },
    {
     "name": "stdout",
     "output_type": "stream",
     "text": [
      "Accuracy score : 0.6666666666666666\n",
      "Mean accuracy of 30 fold cross validation test : 0.7\n",
      "with a maximum accuracy of 1.0\n"
     ]
    }
   ],
   "source": [
    "from sklearn.ensemble import BaggingClassifier\n",
    "from sklearn.svm import SVC\n",
    "from sklearn.naive_bayes import GaussianNB\n",
    "nb = GaussianNB()\n",
    "svc = SVC()\n",
    "classifier = BaggingClassifier(base_estimator=nb , n_estimators=10)\n",
    "testClassifier(classifier,X_train,X_test,y_train,y_test)"
   ]
  },
  {
   "cell_type": "code",
   "execution_count": 504,
   "id": "bf22fa86",
   "metadata": {
    "scrolled": true
   },
   "outputs": [
    {
     "name": "stdout",
     "output_type": "stream",
     "text": [
      "[[0 0]\n",
      " [0 1]\n",
      " [1 1]\n",
      " [1 1]\n",
      " [0 0]\n",
      " [0 1]\n",
      " [1 0]\n",
      " [0 0]\n",
      " [1 1]\n",
      " [0 0]\n",
      " [0 1]\n",
      " [0 1]\n",
      " [0 0]\n",
      " [0 0]\n",
      " [1 1]\n",
      " [1 1]\n",
      " [1 1]\n",
      " [0 0]\n",
      " [0 1]\n",
      " [0 0]\n",
      " [0 1]\n",
      " [0 1]\n",
      " [1 1]\n",
      " [0 0]]\n"
     ]
    }
   ],
   "source": [
    "y_pred = classifier.predict(X_test)\n",
    "print(np.concatenate((y_pred.reshape(len(y_pred),1), y_test.reshape(len(y_test),1)),1))"
   ]
  },
  {
   "cell_type": "code",
   "execution_count": null,
   "id": "3d376220",
   "metadata": {},
   "outputs": [],
   "source": []
  },
  {
   "cell_type": "code",
   "execution_count": 509,
   "id": "4e378f3b",
   "metadata": {
    "scrolled": true
   },
   "outputs": [
    {
     "name": "stdout",
     "output_type": "stream",
     "text": [
      "Confusion matrix, without normalization\n",
      "[[6 4]\n",
      " [5 9]]\n",
      "Normalized confusion matrix\n",
      "[[0.6        0.4       ]\n",
      " [0.35714286 0.64285714]]\n"
     ]
    },
    {
     "data": {
      "image/png": "[encoded data removed]",
      "text/plain": [
       "<Figure size 432x288 with 2 Axes>"
      ]
     },
     "metadata": {
      "needs_background": "light"
     },
     "output_type": "display_data"
    },
    {
     "data": {
      "image/png": "[encoded data removed]",
      "text/plain": [
       "<Figure size 432x288 with 2 Axes>"
      ]
     },
     "metadata": {
      "needs_background": "light"
     },
     "output_type": "display_data"
    },
    {
     "name": "stdout",
     "output_type": "stream",
     "text": [
      "Accuracy score : 0.625\n",
      "Mean accuracy of 30 fold cross validation test : 0.7194444444444446\n",
      "with a maximum accuracy of 1.0\n"
     ]
    }
   ],
   "source": [
    "from sklearn.discriminant_analysis import LinearDiscriminantAnalysis as LDA\n",
    "\n",
    "classifier = LDA(n_components=1)\n",
    "testClassifier(classifier,X_train,X_test,y_train,y_test)"
   ]
  },
  {
   "cell_type": "code",
   "execution_count": 506,
   "id": "9f61d7ad",
   "metadata": {
    "scrolled": true
   },
   "outputs": [
    {
     "data": {
      "text/html": [
       "<div>\n",
       "<style scoped>\n",
       "    .dataframe tbody tr th:only-of-type {\n",
       "        vertical-align: middle;\n",
       "    }\n",
       "\n",
       "    .dataframe tbody tr th {\n",
       "        vertical-align: top;\n",
       "    }\n",
       "\n",
       "    .dataframe thead th {\n",
       "        text-align: right;\n",
       "    }\n",
       "</style>\n",
       "<table border=\"1\" class=\"dataframe\">\n",
       "  <thead>\n",
       "    <tr style=\"text-align: right;\">\n",
       "      <th></th>\n",
       "      <th>SDi</th>\n",
       "      <th>TypingSkew</th>\n",
       "      <th>Dexterity</th>\n",
       "      <th>htArrOutliers</th>\n",
       "      <th>gt</th>\n",
       "    </tr>\n",
       "  </thead>\n",
       "  <tbody>\n",
       "    <tr>\n",
       "      <th>0</th>\n",
       "      <td>0.564521</td>\n",
       "      <td>4.721638</td>\n",
       "      <td>0.012277</td>\n",
       "      <td>0.114139</td>\n",
       "      <td>1</td>\n",
       "    </tr>\n",
       "    <tr>\n",
       "      <th>1</th>\n",
       "      <td>0.421491</td>\n",
       "      <td>2.103442</td>\n",
       "      <td>0.001475</td>\n",
       "      <td>0.102949</td>\n",
       "      <td>0</td>\n",
       "    </tr>\n",
       "    <tr>\n",
       "      <th>2</th>\n",
       "      <td>0.448163</td>\n",
       "      <td>0.905364</td>\n",
       "      <td>0.002181</td>\n",
       "      <td>0.032978</td>\n",
       "      <td>1</td>\n",
       "    </tr>\n",
       "    <tr>\n",
       "      <th>3</th>\n",
       "      <td>0.229087</td>\n",
       "      <td>0.586957</td>\n",
       "      <td>0.000000</td>\n",
       "      <td>0.019914</td>\n",
       "      <td>0</td>\n",
       "    </tr>\n",
       "    <tr>\n",
       "      <th>4</th>\n",
       "      <td>0.319824</td>\n",
       "      <td>0.608208</td>\n",
       "      <td>0.000000</td>\n",
       "      <td>0.089441</td>\n",
       "      <td>1</td>\n",
       "    </tr>\n",
       "    <tr>\n",
       "      <th>5</th>\n",
       "      <td>0.334962</td>\n",
       "      <td>2.113648</td>\n",
       "      <td>0.012832</td>\n",
       "      <td>0.105827</td>\n",
       "      <td>1</td>\n",
       "    </tr>\n",
       "    <tr>\n",
       "      <th>6</th>\n",
       "      <td>0.525508</td>\n",
       "      <td>3.024010</td>\n",
       "      <td>0.024994</td>\n",
       "      <td>0.159828</td>\n",
       "      <td>1</td>\n",
       "    </tr>\n",
       "    <tr>\n",
       "      <th>7</th>\n",
       "      <td>0.483731</td>\n",
       "      <td>2.521318</td>\n",
       "      <td>0.003503</td>\n",
       "      <td>0.048406</td>\n",
       "      <td>1</td>\n",
       "    </tr>\n",
       "    <tr>\n",
       "      <th>8</th>\n",
       "      <td>0.435598</td>\n",
       "      <td>1.771008</td>\n",
       "      <td>0.033744</td>\n",
       "      <td>0.094274</td>\n",
       "      <td>1</td>\n",
       "    </tr>\n",
       "    <tr>\n",
       "      <th>9</th>\n",
       "      <td>0.300051</td>\n",
       "      <td>0.934648</td>\n",
       "      <td>0.018004</td>\n",
       "      <td>0.111182</td>\n",
       "      <td>1</td>\n",
       "    </tr>\n",
       "    <tr>\n",
       "      <th>10</th>\n",
       "      <td>0.374079</td>\n",
       "      <td>0.854741</td>\n",
       "      <td>0.019338</td>\n",
       "      <td>0.039344</td>\n",
       "      <td>0</td>\n",
       "    </tr>\n",
       "    <tr>\n",
       "      <th>11</th>\n",
       "      <td>0.286098</td>\n",
       "      <td>1.631429</td>\n",
       "      <td>0.000000</td>\n",
       "      <td>0.019181</td>\n",
       "      <td>0</td>\n",
       "    </tr>\n",
       "    <tr>\n",
       "      <th>12</th>\n",
       "      <td>0.375130</td>\n",
       "      <td>1.389254</td>\n",
       "      <td>0.011047</td>\n",
       "      <td>0.131672</td>\n",
       "      <td>1</td>\n",
       "    </tr>\n",
       "    <tr>\n",
       "      <th>13</th>\n",
       "      <td>0.437981</td>\n",
       "      <td>1.097644</td>\n",
       "      <td>0.001851</td>\n",
       "      <td>0.015100</td>\n",
       "      <td>0</td>\n",
       "    </tr>\n",
       "    <tr>\n",
       "      <th>14</th>\n",
       "      <td>0.492668</td>\n",
       "      <td>1.065959</td>\n",
       "      <td>0.006620</td>\n",
       "      <td>0.168230</td>\n",
       "      <td>1</td>\n",
       "    </tr>\n",
       "    <tr>\n",
       "      <th>15</th>\n",
       "      <td>0.414588</td>\n",
       "      <td>0.913070</td>\n",
       "      <td>0.000390</td>\n",
       "      <td>0.074307</td>\n",
       "      <td>0</td>\n",
       "    </tr>\n",
       "    <tr>\n",
       "      <th>16</th>\n",
       "      <td>0.434017</td>\n",
       "      <td>2.360283</td>\n",
       "      <td>0.002111</td>\n",
       "      <td>0.054443</td>\n",
       "      <td>1</td>\n",
       "    </tr>\n",
       "    <tr>\n",
       "      <th>17</th>\n",
       "      <td>0.290417</td>\n",
       "      <td>1.092974</td>\n",
       "      <td>0.004626</td>\n",
       "      <td>0.038788</td>\n",
       "      <td>0</td>\n",
       "    </tr>\n",
       "    <tr>\n",
       "      <th>18</th>\n",
       "      <td>0.520528</td>\n",
       "      <td>0.374166</td>\n",
       "      <td>0.001440</td>\n",
       "      <td>NaN</td>\n",
       "      <td>1</td>\n",
       "    </tr>\n",
       "    <tr>\n",
       "      <th>19</th>\n",
       "      <td>0.496686</td>\n",
       "      <td>1.402976</td>\n",
       "      <td>0.000854</td>\n",
       "      <td>0.155210</td>\n",
       "      <td>0</td>\n",
       "    </tr>\n",
       "    <tr>\n",
       "      <th>20</th>\n",
       "      <td>0.317837</td>\n",
       "      <td>4.188372</td>\n",
       "      <td>0.000086</td>\n",
       "      <td>0.057248</td>\n",
       "      <td>1</td>\n",
       "    </tr>\n",
       "    <tr>\n",
       "      <th>21</th>\n",
       "      <td>0.357644</td>\n",
       "      <td>1.851738</td>\n",
       "      <td>0.006976</td>\n",
       "      <td>0.031487</td>\n",
       "      <td>0</td>\n",
       "    </tr>\n",
       "    <tr>\n",
       "      <th>22</th>\n",
       "      <td>0.395054</td>\n",
       "      <td>5.928215</td>\n",
       "      <td>0.007903</td>\n",
       "      <td>0.233518</td>\n",
       "      <td>1</td>\n",
       "    </tr>\n",
       "    <tr>\n",
       "      <th>23</th>\n",
       "      <td>0.316663</td>\n",
       "      <td>1.131922</td>\n",
       "      <td>0.005850</td>\n",
       "      <td>0.059151</td>\n",
       "      <td>0</td>\n",
       "    </tr>\n",
       "    <tr>\n",
       "      <th>24</th>\n",
       "      <td>0.867072</td>\n",
       "      <td>0.946178</td>\n",
       "      <td>0.009808</td>\n",
       "      <td>0.080459</td>\n",
       "      <td>1</td>\n",
       "    </tr>\n",
       "    <tr>\n",
       "      <th>25</th>\n",
       "      <td>0.436291</td>\n",
       "      <td>0.883615</td>\n",
       "      <td>0.007236</td>\n",
       "      <td>0.075485</td>\n",
       "      <td>1</td>\n",
       "    </tr>\n",
       "    <tr>\n",
       "      <th>26</th>\n",
       "      <td>0.434182</td>\n",
       "      <td>0.960848</td>\n",
       "      <td>0.002481</td>\n",
       "      <td>0.030689</td>\n",
       "      <td>0</td>\n",
       "    </tr>\n",
       "    <tr>\n",
       "      <th>27</th>\n",
       "      <td>0.447776</td>\n",
       "      <td>0.960935</td>\n",
       "      <td>0.009434</td>\n",
       "      <td>0.020940</td>\n",
       "      <td>0</td>\n",
       "    </tr>\n",
       "    <tr>\n",
       "      <th>28</th>\n",
       "      <td>0.414026</td>\n",
       "      <td>0.798247</td>\n",
       "      <td>0.010370</td>\n",
       "      <td>0.106579</td>\n",
       "      <td>1</td>\n",
       "    </tr>\n",
       "    <tr>\n",
       "      <th>29</th>\n",
       "      <td>0.631224</td>\n",
       "      <td>1.663081</td>\n",
       "      <td>0.003364</td>\n",
       "      <td>0.050447</td>\n",
       "      <td>1</td>\n",
       "    </tr>\n",
       "    <tr>\n",
       "      <th>30</th>\n",
       "      <td>0.278644</td>\n",
       "      <td>1.530615</td>\n",
       "      <td>0.003595</td>\n",
       "      <td>0.039186</td>\n",
       "      <td>0</td>\n",
       "    </tr>\n",
       "  </tbody>\n",
       "</table>\n",
       "</div>"
      ],
      "text/plain": [
       "         SDi  TypingSkew  Dexterity  htArrOutliers  gt\n",
       "0   0.564521    4.721638   0.012277       0.114139   1\n",
       "1   0.421491    2.103442   0.001475       0.102949   0\n",
       "2   0.448163    0.905364   0.002181       0.032978   1\n",
       "3   0.229087    0.586957   0.000000       0.019914   0\n",
       "4   0.319824    0.608208   0.000000       0.089441   1\n",
       "5   0.334962    2.113648   0.012832       0.105827   1\n",
       "6   0.525508    3.024010   0.024994       0.159828   1\n",
       "7   0.483731    2.521318   0.003503       0.048406   1\n",
       "8   0.435598    1.771008   0.033744       0.094274   1\n",
       "9   0.300051    0.934648   0.018004       0.111182   1\n",
       "10  0.374079    0.854741   0.019338       0.039344   0\n",
       "11  0.286098    1.631429   0.000000       0.019181   0\n",
       "12  0.375130    1.389254   0.011047       0.131672   1\n",
       "13  0.437981    1.097644   0.001851       0.015100   0\n",
       "14  0.492668    1.065959   0.006620       0.168230   1\n",
       "15  0.414588    0.913070   0.000390       0.074307   0\n",
       "16  0.434017    2.360283   0.002111       0.054443   1\n",
       "17  0.290417    1.092974   0.004626       0.038788   0\n",
       "18  0.520528    0.374166   0.001440            NaN   1\n",
       "19  0.496686    1.402976   0.000854       0.155210   0\n",
       "20  0.317837    4.188372   0.000086       0.057248   1\n",
       "21  0.357644    1.851738   0.006976       0.031487   0\n",
       "22  0.395054    5.928215   0.007903       0.233518   1\n",
       "23  0.316663    1.131922   0.005850       0.059151   0\n",
       "24  0.867072    0.946178   0.009808       0.080459   1\n",
       "25  0.436291    0.883615   0.007236       0.075485   1\n",
       "26  0.434182    0.960848   0.002481       0.030689   0\n",
       "27  0.447776    0.960935   0.009434       0.020940   0\n",
       "28  0.414026    0.798247   0.010370       0.106579   1\n",
       "29  0.631224    1.663081   0.003364       0.050447   1\n",
       "30  0.278644    1.530615   0.003595       0.039186   0"
      ]
     },
     "execution_count": 506,
     "metadata": {},
     "output_type": "execute_result"
    }
   ],
   "source": [
    "de_novo"
   ]
  },
  {
   "cell_type": "code",
   "execution_count": null,
   "id": "9765cc53",
   "metadata": {},
   "outputs": [],
   "source": []
  }
 ],
 "metadata": {
  "kernelspec": {
   "display_name": "Python 3 (ipykernel)",
   "language": "python",
   "name": "python3"
  },
  "language_info": {
   "codemirror_mode": {
    "name": "ipython",
    "version": 3
   },
   "file_extension": ".py",
   "mimetype": "text/x-python",
   "name": "python",
   "nbconvert_exporter": "python",
   "pygments_lexer": "ipython3",
   "version": "3.10.0"
  }
 },
 "nbformat": 4,
 "nbformat_minor": 5
}
