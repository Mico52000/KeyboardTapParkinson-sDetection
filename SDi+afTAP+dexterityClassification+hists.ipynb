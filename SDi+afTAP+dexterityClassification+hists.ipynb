{
 "cells": [
  {
   "cell_type": "code",
   "execution_count": 1021,
   "id": "08662266",
   "metadata": {},
   "outputs": [],
   "source": [
    "import numpy as np\n",
    "import matplotlib.pyplot as plt\n",
    "import pandas as pd\n",
    "import nqDataLoader as nq #data loading library\n",
    "from MFDFA import MFDFA\n",
    "from MFDFA import singspect"
   ]
  },
  {
   "cell_type": "code",
   "execution_count": 1022,
   "id": "397b5b67",
   "metadata": {},
   "outputs": [],
   "source": [
    "def range_with_floats(start, stop, step):\n",
    "    while stop > start:\n",
    "        yield start\n",
    "        start += step"
   ]
  },
  {
   "cell_type": "code",
   "execution_count": 1023,
   "id": "016187ee",
   "metadata": {},
   "outputs": [],
   "source": [
    "def is_outlier(value, p25, p75):\n",
    "    \"\"\"Check if value is an outlier\n",
    "    \"\"\"\n",
    "    lower = p25 - 1.5 * (p75 - p25)\n",
    "    upper = p75 + 1.5 * (p75 - p25)\n",
    "    return value <= lower or value >= upper"
   ]
  },
  {
   "cell_type": "markdown",
   "id": "27874526",
   "metadata": {},
   "source": [
    "## importing the early_stage data set "
   ]
  },
  {
   "cell_type": "code",
   "execution_count": 1024,
   "id": "e52590d5",
   "metadata": {},
   "outputs": [
    {
     "data": {
      "text/html": [
       "<div>\n",
       "<style scoped>\n",
       "    .dataframe tbody tr th:only-of-type {\n",
       "        vertical-align: middle;\n",
       "    }\n",
       "\n",
       "    .dataframe tbody tr th {\n",
       "        vertical-align: top;\n",
       "    }\n",
       "\n",
       "    .dataframe thead th {\n",
       "        text-align: right;\n",
       "    }\n",
       "</style>\n",
       "<table border=\"1\" class=\"dataframe\">\n",
       "  <thead>\n",
       "    <tr style=\"text-align: right;\">\n",
       "      <th></th>\n",
       "      <th>pID</th>\n",
       "      <th>gt</th>\n",
       "      <th>updrs108</th>\n",
       "      <th>afTap</th>\n",
       "      <th>sTap</th>\n",
       "      <th>nqScore</th>\n",
       "      <th>typingSpeed</th>\n",
       "      <th>file_1</th>\n",
       "    </tr>\n",
       "  </thead>\n",
       "  <tbody>\n",
       "    <tr>\n",
       "      <th>0</th>\n",
       "      <td>1000</td>\n",
       "      <td>True</td>\n",
       "      <td>27</td>\n",
       "      <td>79.0</td>\n",
       "      <td>184.5</td>\n",
       "      <td>0.107179</td>\n",
       "      <td>56.866667</td>\n",
       "      <td>1424946827.1000_001_014.csv</td>\n",
       "    </tr>\n",
       "    <tr>\n",
       "      <th>1</th>\n",
       "      <td>1001</td>\n",
       "      <td>True</td>\n",
       "      <td>16</td>\n",
       "      <td>96.5</td>\n",
       "      <td>189.0</td>\n",
       "      <td>0.056286</td>\n",
       "      <td>118.000000</td>\n",
       "      <td>1427279751.1001_001_014.csv</td>\n",
       "    </tr>\n",
       "    <tr>\n",
       "      <th>2</th>\n",
       "      <td>1002</td>\n",
       "      <td>False</td>\n",
       "      <td>5</td>\n",
       "      <td>140.0</td>\n",
       "      <td>158.0</td>\n",
       "      <td>0.039519</td>\n",
       "      <td>119.037037</td>\n",
       "      <td>1426676689.1002_001_014.csv</td>\n",
       "    </tr>\n",
       "    <tr>\n",
       "      <th>3</th>\n",
       "      <td>1004</td>\n",
       "      <td>True</td>\n",
       "      <td>22</td>\n",
       "      <td>83.5</td>\n",
       "      <td>191.5</td>\n",
       "      <td>0.034853</td>\n",
       "      <td>74.266667</td>\n",
       "      <td>1429866367.1004_001_014.csv</td>\n",
       "    </tr>\n",
       "    <tr>\n",
       "      <th>4</th>\n",
       "      <td>1005</td>\n",
       "      <td>True</td>\n",
       "      <td>17</td>\n",
       "      <td>68.0</td>\n",
       "      <td>150.0</td>\n",
       "      <td>0.048307</td>\n",
       "      <td>74.969697</td>\n",
       "      <td>1430134526.1005_001_014.csv</td>\n",
       "    </tr>\n",
       "  </tbody>\n",
       "</table>\n",
       "</div>"
      ],
      "text/plain": [
       "    pID     gt  updrs108  afTap   sTap   nqScore  typingSpeed  \\\n",
       "0  1000   True        27   79.0  184.5  0.107179    56.866667   \n",
       "1  1001   True        16   96.5  189.0  0.056286   118.000000   \n",
       "2  1002  False         5  140.0  158.0  0.039519   119.037037   \n",
       "3  1004   True        22   83.5  191.5  0.034853    74.266667   \n",
       "4  1005   True        17   68.0  150.0  0.048307    74.969697   \n",
       "\n",
       "                        file_1  \n",
       "0  1424946827.1000_001_014.csv  \n",
       "1  1427279751.1001_001_014.csv  \n",
       "2  1426676689.1002_001_014.csv  \n",
       "3  1429866367.1004_001_014.csv  \n",
       "4  1430134526.1005_001_014.csv  "
      ]
     },
     "execution_count": 1024,
     "metadata": {},
     "output_type": "execute_result"
    }
   ],
   "source": [
    "## importing the early stage dataset \n",
    "early_stage = pd.read_csv('GT_DataPD_MIT-CS2PD.csv')\n",
    "# X = dataset.iloc[:, :-1].values\n",
    "# y = dataset.iloc[:, -1].values\n",
    "early_stage.head()"
   ]
  },
  {
   "cell_type": "markdown",
   "id": "11e1260f",
   "metadata": {},
   "source": [
    "## Calculating the SDI for early stage dataset "
   ]
  },
  {
   "cell_type": "code",
   "execution_count": 1025,
   "id": "576670b0",
   "metadata": {},
   "outputs": [],
   "source": [
    "SD_index = []\n",
    "for index, row in early_stage.iterrows():\n",
    "    fileloc = row.file_1\n",
    "    keyPressed, htArr, pressArr, releaseArr =  nq.getDataFiltHelper( \"data_MIT-CS2PD/\" + early_stage.loc[index]['file_1'])\n",
    "    fluctuations = []\n",
    "    for i in range(0,len(htArr)-1):\n",
    "        row1 = htArr[i]\n",
    "        row2 = htArr[i+1]\n",
    "        temp1 = np.log(row1)\n",
    "        temp2 = np.log(row2)\n",
    "        result = temp2-temp1\n",
    "        fluctuations.append(result)\n",
    "    npFluctuations = np.array(fluctuations)\n",
    "    sd_index_score = npFluctuations.std()\n",
    "    SD_index.append(sd_index_score) \n",
    "    \n",
    "    \n",
    "early_stage[\"SDi\"] = SD_index "
   ]
  },
  {
   "cell_type": "code",
   "execution_count": 1026,
   "id": "c76d0952",
   "metadata": {},
   "outputs": [
    {
     "name": "stdout",
     "output_type": "stream",
     "text": [
      "0.27605838340722066\n",
      "0.3229097295803529\n"
     ]
    }
   ],
   "source": [
    "delta_alphas = []\n",
    "for index, row in early_stage.iterrows():\n",
    "    fileloc = row.file_1\n",
    "    keyPressed, htArr, pressArr, releaseArr =  nq.getDataFiltHelper( \"data_MIT-CS2PD/\" + early_stage.loc[index]['file_1'])\n",
    "    npHtArr = np.array(htArr)\n",
    "    #100lagspointsfrom3to1000\n",
    "    lag=np.logspace(1,2,300).astype(int)\n",
    "    lag=np.unique(lag)\n",
    "    #qpowervariations,removing0power\n",
    "    q=np.linspace(-3,3,61)\n",
    "    q=q[q!=0.0]\n",
    "    lag,fluct=MFDFA(npHtArr,lag=lag,q=q)\n",
    "    alpha,f = singspect.singularity_spectrum(lag,fluct,q)\n",
    "    delta_alphas.append(alpha.max()-alpha.min())\n",
    "    \n",
    "    \n",
    "\n",
    "print(np.mean(delta_alphas))\n",
    "early_stage['singularity_spectrum_wdith'] = delta_alphas\n",
    "early_stage_sick =early_stage[early_stage['gt']==1]\n",
    "print(early_stage_sick['singularity_spectrum_wdith'].mean())"
   ]
  },
  {
   "cell_type": "code",
   "execution_count": 1027,
   "id": "910a5676",
   "metadata": {},
   "outputs": [
    {
     "name": "stdout",
     "output_type": "stream",
     "text": [
      "[ 10  10  10  10  10  11  11  11  11  11  12  12  12  12  13  13  13  13\n",
      "  14  14  14  15  15  15  16  16  16  17  17  17  18  18  18  19  19  19\n",
      "  20  20  21  21  21  22  22  23  23  24  24  25  25  26  26  27  27  28\n",
      "  28  29  30  30  31  31  32  33  33  34  35  35  36  37  38  38  39  40\n",
      "  41  42  42  43  44  45  46  47  48  49  50  51  52  53  54  55  56  57\n",
      "  58  59  61  62  63  64  66  67  68  70  71  72  74  75  77  78  80  82\n",
      "  83  85  87  88  90  92  94  96  98 100]\n"
     ]
    }
   ],
   "source": [
    "print(np.logspace(1,2,118).astype(int))"
   ]
  },
  {
   "cell_type": "code",
   "execution_count": 1028,
   "id": "c9777655",
   "metadata": {},
   "outputs": [],
   "source": [
    "SD_index = []\n",
    "outlier_count = []\n",
    "for index, row in early_stage.iterrows():\n",
    "    fileloc = row.file_1\n",
    "    keyPressed, htArr, pressArr, releaseArr =  nq.getDataFiltHelper( \"data_MIT-CS2PD/\" + early_stage.loc[index]['file_1'])\n",
    "    fluctuations = []\n",
    "    for i in range(0,len(htArr)-1):\n",
    "        row1 = htArr[i]\n",
    "        row2 = htArr[i+1]\n",
    "        temp1 = np.log(row1)\n",
    "        temp2 = np.log(row2)\n",
    "        result = temp2-temp1\n",
    "        fluctuations.append(result)\n",
    "    npFluctuations = np.array(fluctuations)\n",
    "    ## getting outlier count \n",
    "    nphtArr = np.array(htArr)\n",
    "    outliers = []\n",
    "    p25 = np.percentile(nphtArr, 25)\n",
    "    p75 = np.percentile(nphtArr, 75)\n",
    "    for ind, value in enumerate(nphtArr):\n",
    "        if is_outlier(value, p25, p75):\n",
    "            outliers.append(value) \n",
    "    \n",
    "    sd_index_score = npFluctuations.std()\n",
    "    SD_index.append(sd_index_score)\n",
    "    npoutliers = np.array(outliers)\n",
    "    outlier_count.append(len(npoutliers))\n",
    "    \n",
    "    \n",
    "early_stage[\"SDi\"] = SD_index\n",
    "early_stage['htArrOutliers'] = outlier_count"
   ]
  },
  {
   "cell_type": "code",
   "execution_count": 1029,
   "id": "9e8f8b14",
   "metadata": {},
   "outputs": [],
   "source": [
    "dexterityMetric = []\n",
    "for index, row in early_stage.iterrows():\n",
    "    fileloc1 = row.file_1\n",
    "    keyPressed, htArr, pressArr, releaseArr =  nq.getDataFiltHelper( 'data_MIT-CS2PD/' + early_stage.loc[index]['file_1'])\n",
    "    \n",
    "    dexterity = []\n",
    "    for i in range(0,len(keyPressed)-1):\n",
    "        d1 = releaseArr[i]\n",
    "        p2 = pressArr[i+1]\n",
    "        result = 0 if (d1-p2 < 0) else (d1-p2)\n",
    "        dexterity.append(result)\n",
    "    npdexterity = np.array(dexterity)\n",
    "    dexterityMetric.append(npdexterity.std())\n",
    "    \n",
    "\n",
    "early_stage[\"Dexterity\"] = dexterityMetric"
   ]
  },
  {
   "cell_type": "code",
   "execution_count": 1030,
   "id": "f37b0f46",
   "metadata": {},
   "outputs": [],
   "source": [
    "InterQuartileRanges =[]\n",
    "for index,row in early_stage.iterrows():\n",
    "    keyPressed, htArr, pressArr, releaseArr =  nq.getDataFiltHelper( 'data_MIT-CS2PD/' + early_stage.loc[index]['file_1'])\n",
    "    nphtArr = np.array(htArr)\n",
    "    q3, q1 = np.percentile(htArr, [75 ,25])\n",
    "    iqr = q3 - q1\n",
    "    InterQuartileRanges.append(iqr)\n",
    "early_stage[\"InterQuartileRanges\"] = InterQuartileRanges"
   ]
  },
  {
   "cell_type": "code",
   "execution_count": 1031,
   "id": "b63d79e9",
   "metadata": {},
   "outputs": [],
   "source": [
    "Hist1 =[]\n",
    "Hist2 = []\n",
    "Hist3 =[]\n",
    "Hist4 = []\n",
    "for index,row in early_stage.iterrows():\n",
    "    keyPressed, htArr, pressArr, releaseArr =  nq.getDataFiltHelper( 'data_MIT-CS2PD/' + early_stage.loc[index]['file_1'])\n",
    "    Histogram = np.histogram(htArr,bins = 4)\n",
    "    Hist1.append(Histogram[0][0])\n",
    "    Hist2.append(Histogram[0][1])\n",
    "    Hist3.append(Histogram[0][2])\n",
    "    Hist4.append(Histogram[0][3])\n",
    "    \n",
    "early_stage[\"Hist1\"] = Hist1\n",
    "early_stage[\"Hist2\"] = Hist2\n",
    "early_stage[\"Hist3\"] = Hist3\n",
    "early_stage[\"Hist4\"] = Hist4"
   ]
  },
  {
   "cell_type": "markdown",
   "id": "9305c96f",
   "metadata": {},
   "source": [
    "## preparing the dataset to only have SDi as a feature and the gt as the dependant variable"
   ]
  },
  {
   "cell_type": "code",
   "execution_count": 1032,
   "id": "30aef855",
   "metadata": {},
   "outputs": [
    {
     "name": "stdout",
     "output_type": "stream",
     "text": [
      "54\n"
     ]
    },
    {
     "data": {
      "text/html": [
       "<div>\n",
       "<style scoped>\n",
       "    .dataframe tbody tr th:only-of-type {\n",
       "        vertical-align: middle;\n",
       "    }\n",
       "\n",
       "    .dataframe tbody tr th {\n",
       "        vertical-align: top;\n",
       "    }\n",
       "\n",
       "    .dataframe thead th {\n",
       "        text-align: right;\n",
       "    }\n",
       "</style>\n",
       "<table border=\"1\" class=\"dataframe\">\n",
       "  <thead>\n",
       "    <tr style=\"text-align: right;\">\n",
       "      <th></th>\n",
       "      <th>pID</th>\n",
       "      <th>gt</th>\n",
       "      <th>updrs108</th>\n",
       "      <th>afTap</th>\n",
       "      <th>sTap</th>\n",
       "      <th>nqScore</th>\n",
       "      <th>typingSpeed</th>\n",
       "      <th>file_1</th>\n",
       "      <th>SDi</th>\n",
       "      <th>singularity_spectrum_wdith</th>\n",
       "      <th>htArrOutliers</th>\n",
       "      <th>Dexterity</th>\n",
       "      <th>InterQuartileRanges</th>\n",
       "      <th>Hist1</th>\n",
       "      <th>Hist2</th>\n",
       "      <th>Hist3</th>\n",
       "      <th>Hist4</th>\n",
       "    </tr>\n",
       "  </thead>\n",
       "  <tbody>\n",
       "    <tr>\n",
       "      <th>0</th>\n",
       "      <td>1000</td>\n",
       "      <td>1</td>\n",
       "      <td>27</td>\n",
       "      <td>79.0</td>\n",
       "      <td>184.5</td>\n",
       "      <td>0.107179</td>\n",
       "      <td>56.866667</td>\n",
       "      <td>1424946827.1000_001_014.csv</td>\n",
       "      <td>0.380584</td>\n",
       "      <td>0.671041</td>\n",
       "      <td>28</td>\n",
       "      <td>0.001368</td>\n",
       "      <td>0.050800</td>\n",
       "      <td>847</td>\n",
       "      <td>7</td>\n",
       "      <td>0</td>\n",
       "      <td>1</td>\n",
       "    </tr>\n",
       "    <tr>\n",
       "      <th>1</th>\n",
       "      <td>1001</td>\n",
       "      <td>1</td>\n",
       "      <td>16</td>\n",
       "      <td>96.5</td>\n",
       "      <td>189.0</td>\n",
       "      <td>0.056286</td>\n",
       "      <td>118.000000</td>\n",
       "      <td>1427279751.1001_001_014.csv</td>\n",
       "      <td>0.378429</td>\n",
       "      <td>0.454651</td>\n",
       "      <td>50</td>\n",
       "      <td>0.021848</td>\n",
       "      <td>0.036200</td>\n",
       "      <td>1567</td>\n",
       "      <td>25</td>\n",
       "      <td>0</td>\n",
       "      <td>1</td>\n",
       "    </tr>\n",
       "    <tr>\n",
       "      <th>2</th>\n",
       "      <td>1002</td>\n",
       "      <td>0</td>\n",
       "      <td>5</td>\n",
       "      <td>140.0</td>\n",
       "      <td>158.0</td>\n",
       "      <td>0.039519</td>\n",
       "      <td>119.037037</td>\n",
       "      <td>1426676689.1002_001_014.csv</td>\n",
       "      <td>0.349012</td>\n",
       "      <td>0.171950</td>\n",
       "      <td>86</td>\n",
       "      <td>0.000713</td>\n",
       "      <td>0.021000</td>\n",
       "      <td>1565</td>\n",
       "      <td>41</td>\n",
       "      <td>0</td>\n",
       "      <td>1</td>\n",
       "    </tr>\n",
       "    <tr>\n",
       "      <th>3</th>\n",
       "      <td>1004</td>\n",
       "      <td>1</td>\n",
       "      <td>22</td>\n",
       "      <td>83.5</td>\n",
       "      <td>191.5</td>\n",
       "      <td>0.034853</td>\n",
       "      <td>74.266667</td>\n",
       "      <td>1429866367.1004_001_014.csv</td>\n",
       "      <td>0.354817</td>\n",
       "      <td>0.087694</td>\n",
       "      <td>8</td>\n",
       "      <td>0.000000</td>\n",
       "      <td>0.045775</td>\n",
       "      <td>581</td>\n",
       "      <td>515</td>\n",
       "      <td>17</td>\n",
       "      <td>1</td>\n",
       "    </tr>\n",
       "    <tr>\n",
       "      <th>4</th>\n",
       "      <td>1005</td>\n",
       "      <td>1</td>\n",
       "      <td>17</td>\n",
       "      <td>68.0</td>\n",
       "      <td>150.0</td>\n",
       "      <td>0.048307</td>\n",
       "      <td>74.969697</td>\n",
       "      <td>1430134526.1005_001_014.csv</td>\n",
       "      <td>0.236304</td>\n",
       "      <td>0.255949</td>\n",
       "      <td>43</td>\n",
       "      <td>0.001078</td>\n",
       "      <td>0.020200</td>\n",
       "      <td>55</td>\n",
       "      <td>955</td>\n",
       "      <td>212</td>\n",
       "      <td>15</td>\n",
       "    </tr>\n",
       "  </tbody>\n",
       "</table>\n",
       "</div>"
      ],
      "text/plain": [
       "    pID  gt  updrs108  afTap   sTap   nqScore  typingSpeed  \\\n",
       "0  1000   1        27   79.0  184.5  0.107179    56.866667   \n",
       "1  1001   1        16   96.5  189.0  0.056286   118.000000   \n",
       "2  1002   0         5  140.0  158.0  0.039519   119.037037   \n",
       "3  1004   1        22   83.5  191.5  0.034853    74.266667   \n",
       "4  1005   1        17   68.0  150.0  0.048307    74.969697   \n",
       "\n",
       "                        file_1       SDi  singularity_spectrum_wdith  \\\n",
       "0  1424946827.1000_001_014.csv  0.380584                    0.671041   \n",
       "1  1427279751.1001_001_014.csv  0.378429                    0.454651   \n",
       "2  1426676689.1002_001_014.csv  0.349012                    0.171950   \n",
       "3  1429866367.1004_001_014.csv  0.354817                    0.087694   \n",
       "4  1430134526.1005_001_014.csv  0.236304                    0.255949   \n",
       "\n",
       "   htArrOutliers  Dexterity  InterQuartileRanges  Hist1  Hist2  Hist3  Hist4  \n",
       "0             28   0.001368             0.050800    847      7      0      1  \n",
       "1             50   0.021848             0.036200   1567     25      0      1  \n",
       "2             86   0.000713             0.021000   1565     41      0      1  \n",
       "3              8   0.000000             0.045775    581    515     17      1  \n",
       "4             43   0.001078             0.020200     55    955    212     15  "
      ]
     },
     "execution_count": 1032,
     "metadata": {},
     "output_type": "execute_result"
    }
   ],
   "source": [
    "early_stage[\"gt\"] = early_stage[\"gt\"].astype(int)\n",
    "early_stage_features = early_stage[['SDi','afTap','Dexterity','InterQuartileRanges','gt']]\n",
    "early_stage_features = early_stage[['SDi','afTap','Dexterity','InterQuartileRanges','Hist1','Hist2','Hist3','Hist4','gt']]\n",
    "early_stage_features = early_stage[['SDi','Dexterity','InterQuartileRanges','htArrOutliers','Hist1','Hist2','Hist3','Hist4','singularity_spectrum_wdith','gt']]\n",
    "print(len(early_stage))\n",
    "early_stage.head()\n"
   ]
  },
  {
   "cell_type": "markdown",
   "id": "53e8bce3",
   "metadata": {},
   "source": [
    "## importing the de_novo dataset"
   ]
  },
  {
   "cell_type": "code",
   "execution_count": 1033,
   "id": "4e955ab9",
   "metadata": {},
   "outputs": [
    {
     "name": "stdout",
     "output_type": "stream",
     "text": [
      "31\n"
     ]
    },
    {
     "data": {
      "text/html": [
       "<div>\n",
       "<style scoped>\n",
       "    .dataframe tbody tr th:only-of-type {\n",
       "        vertical-align: middle;\n",
       "    }\n",
       "\n",
       "    .dataframe tbody tr th {\n",
       "        vertical-align: top;\n",
       "    }\n",
       "\n",
       "    .dataframe thead th {\n",
       "        text-align: right;\n",
       "    }\n",
       "</style>\n",
       "<table border=\"1\" class=\"dataframe\">\n",
       "  <thead>\n",
       "    <tr style=\"text-align: right;\">\n",
       "      <th></th>\n",
       "      <th>pID</th>\n",
       "      <th>gt</th>\n",
       "      <th>updrs108</th>\n",
       "      <th>afTap</th>\n",
       "      <th>sTap</th>\n",
       "      <th>nqScore</th>\n",
       "      <th>typingSpeed</th>\n",
       "      <th>file_1</th>\n",
       "      <th>file_2</th>\n",
       "    </tr>\n",
       "  </thead>\n",
       "  <tbody>\n",
       "    <tr>\n",
       "      <th>0</th>\n",
       "      <td>11</td>\n",
       "      <td>True</td>\n",
       "      <td>14.25</td>\n",
       "      <td>NaN</td>\n",
       "      <td>162.25</td>\n",
       "      <td>0.117543</td>\n",
       "      <td>189.372549</td>\n",
       "      <td>1402930351.011_001_014.csv</td>\n",
       "      <td>1403706430.011_003_014.csv</td>\n",
       "    </tr>\n",
       "    <tr>\n",
       "      <th>1</th>\n",
       "      <td>60</td>\n",
       "      <td>False</td>\n",
       "      <td>2.00</td>\n",
       "      <td>NaN</td>\n",
       "      <td>162.25</td>\n",
       "      <td>0.070350</td>\n",
       "      <td>60.533333</td>\n",
       "      <td>1402932300.060_001_014.csv</td>\n",
       "      <td>1403708258.060_003_014.csv</td>\n",
       "    </tr>\n",
       "    <tr>\n",
       "      <th>2</th>\n",
       "      <td>67</td>\n",
       "      <td>True</td>\n",
       "      <td>25.25</td>\n",
       "      <td>NaN</td>\n",
       "      <td>133.75</td>\n",
       "      <td>0.223411</td>\n",
       "      <td>54.333333</td>\n",
       "      <td>1401117235.067_001_014.csv</td>\n",
       "      <td>1401978395.067_003_014.csv</td>\n",
       "    </tr>\n",
       "    <tr>\n",
       "      <th>3</th>\n",
       "      <td>68</td>\n",
       "      <td>False</td>\n",
       "      <td>6.00</td>\n",
       "      <td>NaN</td>\n",
       "      <td>159.00</td>\n",
       "      <td>0.074973</td>\n",
       "      <td>71.800000</td>\n",
       "      <td>1401114972.068_001_014.csv</td>\n",
       "      <td>1401980765.068_003_014.csv</td>\n",
       "    </tr>\n",
       "    <tr>\n",
       "      <th>4</th>\n",
       "      <td>70</td>\n",
       "      <td>True</td>\n",
       "      <td>26.25</td>\n",
       "      <td>NaN</td>\n",
       "      <td>113.50</td>\n",
       "      <td>0.175751</td>\n",
       "      <td>39.614035</td>\n",
       "      <td>1404311419.070_001_014.csv</td>\n",
       "      <td>1404743687.070_003_014.csv</td>\n",
       "    </tr>\n",
       "  </tbody>\n",
       "</table>\n",
       "</div>"
      ],
      "text/plain": [
       "   pID     gt  updrs108  afTap    sTap   nqScore  typingSpeed  \\\n",
       "0   11   True     14.25    NaN  162.25  0.117543   189.372549   \n",
       "1   60  False      2.00    NaN  162.25  0.070350    60.533333   \n",
       "2   67   True     25.25    NaN  133.75  0.223411    54.333333   \n",
       "3   68  False      6.00    NaN  159.00  0.074973    71.800000   \n",
       "4   70   True     26.25    NaN  113.50  0.175751    39.614035   \n",
       "\n",
       "                       file_1                      file_2  \n",
       "0  1402930351.011_001_014.csv  1403706430.011_003_014.csv  \n",
       "1  1402932300.060_001_014.csv  1403708258.060_003_014.csv  \n",
       "2  1401117235.067_001_014.csv  1401978395.067_003_014.csv  \n",
       "3  1401114972.068_001_014.csv  1401980765.068_003_014.csv  \n",
       "4  1404311419.070_001_014.csv  1404743687.070_003_014.csv  "
      ]
     },
     "execution_count": 1033,
     "metadata": {},
     "output_type": "execute_result"
    }
   ],
   "source": [
    "## importing the de-novo dataset \n",
    "de_novo = pd.read_csv('GT_DataPD_MIT-CS1PD.csv')\n",
    "# X = dataset.iloc[:, :-1].values\n",
    "# y = dataset.iloc[:, -1].values\n",
    "print(len(de_novo))\n",
    "de_novo.head()"
   ]
  },
  {
   "cell_type": "markdown",
   "id": "7c106a12",
   "metadata": {},
   "source": [
    "## calculating the SDi for the de_novo dataset "
   ]
  },
  {
   "cell_type": "code",
   "execution_count": 1034,
   "id": "67eccf8c",
   "metadata": {},
   "outputs": [
    {
     "data": {
      "text/html": [
       "<div>\n",
       "<style scoped>\n",
       "    .dataframe tbody tr th:only-of-type {\n",
       "        vertical-align: middle;\n",
       "    }\n",
       "\n",
       "    .dataframe tbody tr th {\n",
       "        vertical-align: top;\n",
       "    }\n",
       "\n",
       "    .dataframe thead th {\n",
       "        text-align: right;\n",
       "    }\n",
       "</style>\n",
       "<table border=\"1\" class=\"dataframe\">\n",
       "  <thead>\n",
       "    <tr style=\"text-align: right;\">\n",
       "      <th></th>\n",
       "      <th>pID</th>\n",
       "      <th>gt</th>\n",
       "      <th>updrs108</th>\n",
       "      <th>afTap</th>\n",
       "      <th>sTap</th>\n",
       "      <th>nqScore</th>\n",
       "      <th>typingSpeed</th>\n",
       "      <th>file_1</th>\n",
       "      <th>file_2</th>\n",
       "      <th>SDi</th>\n",
       "    </tr>\n",
       "  </thead>\n",
       "  <tbody>\n",
       "    <tr>\n",
       "      <th>0</th>\n",
       "      <td>11</td>\n",
       "      <td>True</td>\n",
       "      <td>14.25</td>\n",
       "      <td>NaN</td>\n",
       "      <td>162.25</td>\n",
       "      <td>0.117543</td>\n",
       "      <td>189.372549</td>\n",
       "      <td>1402930351.011_001_014.csv</td>\n",
       "      <td>1403706430.011_003_014.csv</td>\n",
       "      <td>0.564521</td>\n",
       "    </tr>\n",
       "    <tr>\n",
       "      <th>1</th>\n",
       "      <td>60</td>\n",
       "      <td>False</td>\n",
       "      <td>2.00</td>\n",
       "      <td>NaN</td>\n",
       "      <td>162.25</td>\n",
       "      <td>0.070350</td>\n",
       "      <td>60.533333</td>\n",
       "      <td>1402932300.060_001_014.csv</td>\n",
       "      <td>1403708258.060_003_014.csv</td>\n",
       "      <td>0.421491</td>\n",
       "    </tr>\n",
       "    <tr>\n",
       "      <th>2</th>\n",
       "      <td>67</td>\n",
       "      <td>True</td>\n",
       "      <td>25.25</td>\n",
       "      <td>NaN</td>\n",
       "      <td>133.75</td>\n",
       "      <td>0.223411</td>\n",
       "      <td>54.333333</td>\n",
       "      <td>1401117235.067_001_014.csv</td>\n",
       "      <td>1401978395.067_003_014.csv</td>\n",
       "      <td>0.448163</td>\n",
       "    </tr>\n",
       "    <tr>\n",
       "      <th>3</th>\n",
       "      <td>68</td>\n",
       "      <td>False</td>\n",
       "      <td>6.00</td>\n",
       "      <td>NaN</td>\n",
       "      <td>159.00</td>\n",
       "      <td>0.074973</td>\n",
       "      <td>71.800000</td>\n",
       "      <td>1401114972.068_001_014.csv</td>\n",
       "      <td>1401980765.068_003_014.csv</td>\n",
       "      <td>0.229087</td>\n",
       "    </tr>\n",
       "    <tr>\n",
       "      <th>4</th>\n",
       "      <td>70</td>\n",
       "      <td>True</td>\n",
       "      <td>26.25</td>\n",
       "      <td>NaN</td>\n",
       "      <td>113.50</td>\n",
       "      <td>0.175751</td>\n",
       "      <td>39.614035</td>\n",
       "      <td>1404311419.070_001_014.csv</td>\n",
       "      <td>1404743687.070_003_014.csv</td>\n",
       "      <td>0.319824</td>\n",
       "    </tr>\n",
       "  </tbody>\n",
       "</table>\n",
       "</div>"
      ],
      "text/plain": [
       "   pID     gt  updrs108  afTap    sTap   nqScore  typingSpeed  \\\n",
       "0   11   True     14.25    NaN  162.25  0.117543   189.372549   \n",
       "1   60  False      2.00    NaN  162.25  0.070350    60.533333   \n",
       "2   67   True     25.25    NaN  133.75  0.223411    54.333333   \n",
       "3   68  False      6.00    NaN  159.00  0.074973    71.800000   \n",
       "4   70   True     26.25    NaN  113.50  0.175751    39.614035   \n",
       "\n",
       "                       file_1                      file_2       SDi  \n",
       "0  1402930351.011_001_014.csv  1403706430.011_003_014.csv  0.564521  \n",
       "1  1402932300.060_001_014.csv  1403708258.060_003_014.csv  0.421491  \n",
       "2  1401117235.067_001_014.csv  1401978395.067_003_014.csv  0.448163  \n",
       "3  1401114972.068_001_014.csv  1401980765.068_003_014.csv  0.229087  \n",
       "4  1404311419.070_001_014.csv  1404743687.070_003_014.csv  0.319824  "
      ]
     },
     "execution_count": 1034,
     "metadata": {},
     "output_type": "execute_result"
    }
   ],
   "source": [
    "##using both files \n",
    "SD_index = []\n",
    "for index, row in de_novo.iterrows():\n",
    "    fileloc1 = row.file_1\n",
    "    keyPressed, htArr, pressArr, releaseArr =  nq.getDataFiltHelper( 'data_MIT-CS1PD/' + de_novo.loc[index]['file_1'])\n",
    "    \n",
    "    fluctuations = []\n",
    "    for i in range(0,len(htArr)-1):\n",
    "        row1 = htArr[i]\n",
    "        row2 = htArr[i+1]\n",
    "        temp1 = np.log(row1)\n",
    "        temp2 = np.log(row2)\n",
    "        result = temp2-temp1\n",
    "        fluctuations.append(result)\n",
    "    \n",
    "    fileloc2 = row.file_2\n",
    "    keyPressed, htArr, pressArr, releaseArr =  nq.getDataFiltHelper( 'data_MIT-CS1PD/' + de_novo.loc[index]['file_2'])\n",
    "    for i in range(0,len(htArr)-1):\n",
    "        row1 = htArr[i]\n",
    "        row2 = htArr[i+1]\n",
    "        temp1 = np.log(row1)\n",
    "        temp2 = np.log(row2)\n",
    "        result = temp2-temp1\n",
    "        fluctuations.append(result)\n",
    "        \n",
    "    npFluctuations = np.array(fluctuations)\n",
    "    sd_index_score = npFluctuations.std()\n",
    "    SD_index.append(sd_index_score) \n",
    "    \n",
    "    \n",
    "de_novo[\"SDi\"] = SD_index \n",
    "de_novo.head()"
   ]
  },
  {
   "cell_type": "code",
   "execution_count": 1035,
   "id": "7e328625",
   "metadata": {},
   "outputs": [],
   "source": [
    "##using both files \n",
    "delta_alphas = []\n",
    "for index, row in de_novo.iterrows():\n",
    "    keyPressed, htArr, pressArr, releaseArr =  nq.getDataFiltHelper( 'data_MIT-CS1PD/' + de_novo.loc[index]['file_1']) \n",
    "    keyPressed2, htArr2, pressArr2, releaseArr2 =  nq.getDataFiltHelper( 'data_MIT-CS1PD/' + de_novo.loc[index]['file_2'])\n",
    "    htArr = [*htArr,*htArr2]\n",
    "    npHtArr = np.array(htArr)\n",
    "    #100lagspointsfrom3to1000\n",
    "    lag=np.logspace(1,2,300).astype(int)\n",
    "    lag=np.unique(lag)\n",
    "    #qpowervariations,removing0power\n",
    "    q=np.linspace(-3,3,61)\n",
    "    q=q[q!=0.0]\n",
    "    lag,fluct=MFDFA(npHtArr,lag=lag,q=q)\n",
    "    alpha,f = singspect.singularity_spectrum(lag,fluct,q)\n",
    "    delta_alphas.append(alpha.max()-alpha.min())\n",
    "   \n",
    "    \n",
    "    \n",
    "de_novo[\"singularity_spectrum_wdith\"] = delta_alphas\n"
   ]
  },
  {
   "cell_type": "code",
   "execution_count": 1036,
   "id": "46df9a37",
   "metadata": {},
   "outputs": [],
   "source": [
    "dexterityMetric = []\n",
    "for index, row in de_novo.iterrows():\n",
    "    fileloc1 = row.file_1\n",
    "    keyPressed, htArr, pressArr, releaseArr =  nq.getDataFiltHelper( 'data_MIT-CS1PD/' + de_novo.loc[index]['file_1'])\n",
    "    \n",
    "    dexterity = []\n",
    "    for i in range(0,len(keyPressed)-1):\n",
    "        d1 = releaseArr[i]\n",
    "        p2 = pressArr[i+1]\n",
    "        result = 0 if (d1-p2 < 0) else (d1-p2)\n",
    "        dexterity.append(result)\n",
    "    keyPressed, htArr, pressArr, releaseArr =  nq.getDataFiltHelper( 'data_MIT-CS1PD/' + de_novo.loc[index]['file_2'])\n",
    "    htArrFirst = htArr[0]\n",
    "    fluctuations.append(result)\n",
    "    for i in range(1,len(keyPressed)-1):\n",
    "        d1 = releaseArr[i]\n",
    "        p2 = pressArr[i+1]\n",
    "        result = 0 if (d1-p2 < 0) else (d1-p2)\n",
    "        dexterity.append(result)\n",
    "    npdexterity = np.array(dexterity)\n",
    "    dexterityMetric.append(npdexterity.std())\n",
    "    \n",
    "\n",
    "de_novo[\"Dexterity\"] = dexterityMetric"
   ]
  },
  {
   "cell_type": "code",
   "execution_count": 1037,
   "id": "6468366c",
   "metadata": {},
   "outputs": [],
   "source": [
    "InterQuartileRanges =[]\n",
    "for index,row in de_novo.iterrows():\n",
    "    keyPressed, htArr, pressArr, releaseArr =  nq.getDataFiltHelper( 'data_MIT-CS1PD/' + de_novo.loc[index]['file_1'])\n",
    "    \n",
    "    \n",
    "    \n",
    "    keyPressed, htArr2, pressArr, releaseArr =  nq.getDataFiltHelper( 'data_MIT-CS1PD/' + de_novo.loc[index]['file_2'])\n",
    "    npdata = np.append(htArr,htArr2,axis = 0 )\n",
    "        \n",
    "    q3, q1 = np.percentile(npdata, [75 ,25])\n",
    "    iqr = q3 - q1\n",
    "    InterQuartileRanges.append(iqr)\n",
    "de_novo[\"InterQuartileRanges\"] = InterQuartileRanges"
   ]
  },
  {
   "cell_type": "code",
   "execution_count": 1038,
   "id": "55b1489d",
   "metadata": {},
   "outputs": [],
   "source": [
    "Variances =[]\n",
    "for index,row in de_novo.iterrows():\n",
    "    keyPressed, htArr, pressArr, releaseArr =  nq.getDataFiltHelper( 'data_MIT-CS1PD/' + de_novo.loc[index]['file_1'])\n",
    "    \n",
    "    \n",
    "    \n",
    "    keyPressed, htArr2, pressArr, releaseArr =  nq.getDataFiltHelper( 'data_MIT-CS1PD/' + de_novo.loc[index]['file_2'])\n",
    "    npdata = np.append(htArr,htArr2,axis = 0 )\n",
    "    Variances.append(np.var(npdata))\n",
    "de_novo[\"Variance\"] = Variances"
   ]
  },
  {
   "cell_type": "code",
   "execution_count": 1039,
   "id": "5e8d261a",
   "metadata": {},
   "outputs": [],
   "source": [
    "Hist1 =[]\n",
    "Hist2 = []\n",
    "Hist3 =[]\n",
    "Hist4 = []\n",
    "for index,row in de_novo.iterrows():\n",
    "    keyPressed, htArr, pressArr, releaseArr =  nq.getDataFiltHelper( 'data_MIT-CS1PD/' + de_novo.loc[index]['file_1'])\n",
    "    \n",
    "    \n",
    "    \n",
    "    keyPressed, htArr2, pressArr, releaseArr =  nq.getDataFiltHelper( 'data_MIT-CS1PD/' + de_novo.loc[index]['file_2'])\n",
    "    npdata = np.append(htArr,htArr2,axis = 0 )\n",
    "    Histogram = np.histogram(npdata,bins =4)\n",
    "    Hist1.append(Histogram[0][0])\n",
    "    Hist2.append(Histogram[0][1])\n",
    "    Hist3.append(Histogram[0][2])\n",
    "    Hist4.append(Histogram[0][3])\n",
    "    \n",
    "de_novo[\"Hist1\"] = Hist1\n",
    "de_novo[\"Hist2\"] = Hist2\n",
    "de_novo[\"Hist3\"] = Hist3\n",
    "de_novo[\"Hist4\"] = Hist4"
   ]
  },
  {
   "cell_type": "code",
   "execution_count": 1040,
   "id": "3a102f48",
   "metadata": {},
   "outputs": [
    {
     "data": {
      "text/html": [
       "<div>\n",
       "<style scoped>\n",
       "    .dataframe tbody tr th:only-of-type {\n",
       "        vertical-align: middle;\n",
       "    }\n",
       "\n",
       "    .dataframe tbody tr th {\n",
       "        vertical-align: top;\n",
       "    }\n",
       "\n",
       "    .dataframe thead th {\n",
       "        text-align: right;\n",
       "    }\n",
       "</style>\n",
       "<table border=\"1\" class=\"dataframe\">\n",
       "  <thead>\n",
       "    <tr style=\"text-align: right;\">\n",
       "      <th></th>\n",
       "      <th>pID</th>\n",
       "      <th>gt</th>\n",
       "      <th>updrs108</th>\n",
       "      <th>afTap</th>\n",
       "      <th>sTap</th>\n",
       "      <th>nqScore</th>\n",
       "      <th>typingSpeed</th>\n",
       "      <th>file_1</th>\n",
       "      <th>file_2</th>\n",
       "      <th>SDi</th>\n",
       "      <th>singularity_spectrum_wdith</th>\n",
       "      <th>Dexterity</th>\n",
       "      <th>InterQuartileRanges</th>\n",
       "      <th>Variance</th>\n",
       "      <th>Hist1</th>\n",
       "      <th>Hist2</th>\n",
       "      <th>Hist3</th>\n",
       "      <th>Hist4</th>\n",
       "      <th>htArrOutliers</th>\n",
       "    </tr>\n",
       "  </thead>\n",
       "  <tbody>\n",
       "    <tr>\n",
       "      <th>0</th>\n",
       "      <td>11</td>\n",
       "      <td>True</td>\n",
       "      <td>14.25</td>\n",
       "      <td>NaN</td>\n",
       "      <td>162.25</td>\n",
       "      <td>0.117543</td>\n",
       "      <td>189.372549</td>\n",
       "      <td>1402930351.011_001_014.csv</td>\n",
       "      <td>1403706430.011_003_014.csv</td>\n",
       "      <td>0.564521</td>\n",
       "      <td>0.395982</td>\n",
       "      <td>0.012277</td>\n",
       "      <td>0.052500</td>\n",
       "      <td>0.002587</td>\n",
       "      <td>4816</td>\n",
       "      <td>9</td>\n",
       "      <td>3</td>\n",
       "      <td>1</td>\n",
       "      <td>168</td>\n",
       "    </tr>\n",
       "    <tr>\n",
       "      <th>1</th>\n",
       "      <td>60</td>\n",
       "      <td>False</td>\n",
       "      <td>2.00</td>\n",
       "      <td>NaN</td>\n",
       "      <td>162.25</td>\n",
       "      <td>0.070350</td>\n",
       "      <td>60.533333</td>\n",
       "      <td>1402932300.060_001_014.csv</td>\n",
       "      <td>1403708258.060_003_014.csv</td>\n",
       "      <td>0.421491</td>\n",
       "      <td>0.289706</td>\n",
       "      <td>0.001475</td>\n",
       "      <td>0.049800</td>\n",
       "      <td>0.001659</td>\n",
       "      <td>1791</td>\n",
       "      <td>27</td>\n",
       "      <td>2</td>\n",
       "      <td>1</td>\n",
       "      <td>26</td>\n",
       "    </tr>\n",
       "    <tr>\n",
       "      <th>2</th>\n",
       "      <td>67</td>\n",
       "      <td>True</td>\n",
       "      <td>25.25</td>\n",
       "      <td>NaN</td>\n",
       "      <td>133.75</td>\n",
       "      <td>0.223411</td>\n",
       "      <td>54.333333</td>\n",
       "      <td>1401117235.067_001_014.csv</td>\n",
       "      <td>1401978395.067_003_014.csv</td>\n",
       "      <td>0.448163</td>\n",
       "      <td>0.517114</td>\n",
       "      <td>0.002181</td>\n",
       "      <td>0.108200</td>\n",
       "      <td>0.005904</td>\n",
       "      <td>339</td>\n",
       "      <td>893</td>\n",
       "      <td>354</td>\n",
       "      <td>45</td>\n",
       "      <td>19</td>\n",
       "    </tr>\n",
       "    <tr>\n",
       "      <th>3</th>\n",
       "      <td>68</td>\n",
       "      <td>False</td>\n",
       "      <td>6.00</td>\n",
       "      <td>NaN</td>\n",
       "      <td>159.00</td>\n",
       "      <td>0.074973</td>\n",
       "      <td>71.800000</td>\n",
       "      <td>1401114972.068_001_014.csv</td>\n",
       "      <td>1401980765.068_003_014.csv</td>\n",
       "      <td>0.229087</td>\n",
       "      <td>0.120067</td>\n",
       "      <td>0.000000</td>\n",
       "      <td>0.032000</td>\n",
       "      <td>0.000640</td>\n",
       "      <td>898</td>\n",
       "      <td>1178</td>\n",
       "      <td>74</td>\n",
       "      <td>6</td>\n",
       "      <td>27</td>\n",
       "    </tr>\n",
       "    <tr>\n",
       "      <th>4</th>\n",
       "      <td>70</td>\n",
       "      <td>True</td>\n",
       "      <td>26.25</td>\n",
       "      <td>NaN</td>\n",
       "      <td>113.50</td>\n",
       "      <td>0.175751</td>\n",
       "      <td>39.614035</td>\n",
       "      <td>1404311419.070_001_014.csv</td>\n",
       "      <td>1404743687.070_003_014.csv</td>\n",
       "      <td>0.319824</td>\n",
       "      <td>0.058468</td>\n",
       "      <td>0.000000</td>\n",
       "      <td>0.053925</td>\n",
       "      <td>0.001793</td>\n",
       "      <td>116</td>\n",
       "      <td>739</td>\n",
       "      <td>267</td>\n",
       "      <td>28</td>\n",
       "      <td>28</td>\n",
       "    </tr>\n",
       "  </tbody>\n",
       "</table>\n",
       "</div>"
      ],
      "text/plain": [
       "   pID     gt  updrs108  afTap    sTap   nqScore  typingSpeed  \\\n",
       "0   11   True     14.25    NaN  162.25  0.117543   189.372549   \n",
       "1   60  False      2.00    NaN  162.25  0.070350    60.533333   \n",
       "2   67   True     25.25    NaN  133.75  0.223411    54.333333   \n",
       "3   68  False      6.00    NaN  159.00  0.074973    71.800000   \n",
       "4   70   True     26.25    NaN  113.50  0.175751    39.614035   \n",
       "\n",
       "                       file_1                      file_2       SDi  \\\n",
       "0  1402930351.011_001_014.csv  1403706430.011_003_014.csv  0.564521   \n",
       "1  1402932300.060_001_014.csv  1403708258.060_003_014.csv  0.421491   \n",
       "2  1401117235.067_001_014.csv  1401978395.067_003_014.csv  0.448163   \n",
       "3  1401114972.068_001_014.csv  1401980765.068_003_014.csv  0.229087   \n",
       "4  1404311419.070_001_014.csv  1404743687.070_003_014.csv  0.319824   \n",
       "\n",
       "   singularity_spectrum_wdith  Dexterity  InterQuartileRanges  Variance  \\\n",
       "0                    0.395982   0.012277             0.052500  0.002587   \n",
       "1                    0.289706   0.001475             0.049800  0.001659   \n",
       "2                    0.517114   0.002181             0.108200  0.005904   \n",
       "3                    0.120067   0.000000             0.032000  0.000640   \n",
       "4                    0.058468   0.000000             0.053925  0.001793   \n",
       "\n",
       "   Hist1  Hist2  Hist3  Hist4  htArrOutliers  \n",
       "0   4816      9      3      1            168  \n",
       "1   1791     27      2      1             26  \n",
       "2    339    893    354     45             19  \n",
       "3    898   1178     74      6             27  \n",
       "4    116    739    267     28             28  "
      ]
     },
     "execution_count": 1040,
     "metadata": {},
     "output_type": "execute_result"
    }
   ],
   "source": [
    "##using both files \n",
    "SD_index = []\n",
    "outlier_count = []\n",
    "for index, row in de_novo.iterrows():\n",
    "    fileloc1 = row.file_1\n",
    "    keyPressed, htArr, pressArr, releaseArr =  nq.getDataFiltHelper( 'data_MIT-CS1PD/' + de_novo.loc[index]['file_1'])\n",
    "    nphtArr = np.array(htArr)\n",
    "    ##fiinding outliers\n",
    "    outliers = []\n",
    "    p25 = np.percentile(nphtArr, 25)\n",
    "    p75 = np.percentile(nphtArr, 75)\n",
    "    for ind, value in enumerate(nphtArr):\n",
    "        if is_outlier(value, p25, p75):\n",
    "            outliers.append(value) \n",
    "    fluctuations = []\n",
    "    for i in range(0,len(htArr)-1):\n",
    "        row1 = htArr[i]\n",
    "        row2 = htArr[i+1]\n",
    "        temp1 = np.log(row1)\n",
    "        temp2 = np.log(row2)\n",
    "        result = temp2-temp1\n",
    "        fluctuations.append(result)\n",
    "    \n",
    "    fileloc2 = row.file_2\n",
    "    keyPressed, htArr, pressArr, releaseArr =  nq.getDataFiltHelper( 'data_MIT-CS1PD/' + de_novo.loc[index]['file_2'])\n",
    "    nphtArr = np.array(htArr)\n",
    "    p25 = np.percentile(nphtArr, 25)\n",
    "    p75 = np.percentile(nphtArr, 75)\n",
    "    for ind, value in enumerate(nphtArr):\n",
    "        if is_outlier(value, p25, p75):\n",
    "            outliers.append(value) \n",
    "    for i in range(0,len(htArr)-1):\n",
    "        row1 = htArr[i]\n",
    "        row2 = htArr[i+1]\n",
    "        temp1 = np.log(row1)\n",
    "        temp2 = np.log(row2)\n",
    "        result = temp2-temp1\n",
    "        fluctuations.append(result)  \n",
    "    npFluctuations = np.array(fluctuations)\n",
    "    sd_index_score = npFluctuations.std()\n",
    "    SD_index.append(sd_index_score)\n",
    "    npoutliers = np.array(outliers)\n",
    "    outlier_count.append(len(npoutliers))\n",
    "    \n",
    "de_novo[\"SDi\"] = SD_index\n",
    "de_novo['htArrOutliers'] = outlier_count\n",
    "de_novo.head()"
   ]
  },
  {
   "cell_type": "markdown",
   "id": "979ae0e3",
   "metadata": {},
   "source": [
    "## trimming the de_novo dataset to contain only the SDi as a feature and the gt as the target variable "
   ]
  },
  {
   "cell_type": "code",
   "execution_count": 1041,
   "id": "5a736f40",
   "metadata": {},
   "outputs": [
    {
     "data": {
      "text/html": [
       "<div>\n",
       "<style scoped>\n",
       "    .dataframe tbody tr th:only-of-type {\n",
       "        vertical-align: middle;\n",
       "    }\n",
       "\n",
       "    .dataframe tbody tr th {\n",
       "        vertical-align: top;\n",
       "    }\n",
       "\n",
       "    .dataframe thead th {\n",
       "        text-align: right;\n",
       "    }\n",
       "</style>\n",
       "<table border=\"1\" class=\"dataframe\">\n",
       "  <thead>\n",
       "    <tr style=\"text-align: right;\">\n",
       "      <th></th>\n",
       "      <th>pID</th>\n",
       "      <th>gt</th>\n",
       "      <th>updrs108</th>\n",
       "      <th>afTap</th>\n",
       "      <th>sTap</th>\n",
       "      <th>nqScore</th>\n",
       "      <th>typingSpeed</th>\n",
       "      <th>file_1</th>\n",
       "      <th>file_2</th>\n",
       "      <th>SDi</th>\n",
       "      <th>singularity_spectrum_wdith</th>\n",
       "      <th>Dexterity</th>\n",
       "      <th>InterQuartileRanges</th>\n",
       "      <th>Variance</th>\n",
       "      <th>Hist1</th>\n",
       "      <th>Hist2</th>\n",
       "      <th>Hist3</th>\n",
       "      <th>Hist4</th>\n",
       "      <th>htArrOutliers</th>\n",
       "    </tr>\n",
       "  </thead>\n",
       "  <tbody>\n",
       "    <tr>\n",
       "      <th>0</th>\n",
       "      <td>11</td>\n",
       "      <td>1</td>\n",
       "      <td>14.25</td>\n",
       "      <td>NaN</td>\n",
       "      <td>162.25</td>\n",
       "      <td>0.117543</td>\n",
       "      <td>189.372549</td>\n",
       "      <td>1402930351.011_001_014.csv</td>\n",
       "      <td>1403706430.011_003_014.csv</td>\n",
       "      <td>0.564521</td>\n",
       "      <td>0.395982</td>\n",
       "      <td>0.012277</td>\n",
       "      <td>0.052500</td>\n",
       "      <td>0.002587</td>\n",
       "      <td>4816</td>\n",
       "      <td>9</td>\n",
       "      <td>3</td>\n",
       "      <td>1</td>\n",
       "      <td>168</td>\n",
       "    </tr>\n",
       "    <tr>\n",
       "      <th>1</th>\n",
       "      <td>60</td>\n",
       "      <td>0</td>\n",
       "      <td>2.00</td>\n",
       "      <td>NaN</td>\n",
       "      <td>162.25</td>\n",
       "      <td>0.070350</td>\n",
       "      <td>60.533333</td>\n",
       "      <td>1402932300.060_001_014.csv</td>\n",
       "      <td>1403708258.060_003_014.csv</td>\n",
       "      <td>0.421491</td>\n",
       "      <td>0.289706</td>\n",
       "      <td>0.001475</td>\n",
       "      <td>0.049800</td>\n",
       "      <td>0.001659</td>\n",
       "      <td>1791</td>\n",
       "      <td>27</td>\n",
       "      <td>2</td>\n",
       "      <td>1</td>\n",
       "      <td>26</td>\n",
       "    </tr>\n",
       "    <tr>\n",
       "      <th>2</th>\n",
       "      <td>67</td>\n",
       "      <td>1</td>\n",
       "      <td>25.25</td>\n",
       "      <td>NaN</td>\n",
       "      <td>133.75</td>\n",
       "      <td>0.223411</td>\n",
       "      <td>54.333333</td>\n",
       "      <td>1401117235.067_001_014.csv</td>\n",
       "      <td>1401978395.067_003_014.csv</td>\n",
       "      <td>0.448163</td>\n",
       "      <td>0.517114</td>\n",
       "      <td>0.002181</td>\n",
       "      <td>0.108200</td>\n",
       "      <td>0.005904</td>\n",
       "      <td>339</td>\n",
       "      <td>893</td>\n",
       "      <td>354</td>\n",
       "      <td>45</td>\n",
       "      <td>19</td>\n",
       "    </tr>\n",
       "    <tr>\n",
       "      <th>3</th>\n",
       "      <td>68</td>\n",
       "      <td>0</td>\n",
       "      <td>6.00</td>\n",
       "      <td>NaN</td>\n",
       "      <td>159.00</td>\n",
       "      <td>0.074973</td>\n",
       "      <td>71.800000</td>\n",
       "      <td>1401114972.068_001_014.csv</td>\n",
       "      <td>1401980765.068_003_014.csv</td>\n",
       "      <td>0.229087</td>\n",
       "      <td>0.120067</td>\n",
       "      <td>0.000000</td>\n",
       "      <td>0.032000</td>\n",
       "      <td>0.000640</td>\n",
       "      <td>898</td>\n",
       "      <td>1178</td>\n",
       "      <td>74</td>\n",
       "      <td>6</td>\n",
       "      <td>27</td>\n",
       "    </tr>\n",
       "    <tr>\n",
       "      <th>4</th>\n",
       "      <td>70</td>\n",
       "      <td>1</td>\n",
       "      <td>26.25</td>\n",
       "      <td>NaN</td>\n",
       "      <td>113.50</td>\n",
       "      <td>0.175751</td>\n",
       "      <td>39.614035</td>\n",
       "      <td>1404311419.070_001_014.csv</td>\n",
       "      <td>1404743687.070_003_014.csv</td>\n",
       "      <td>0.319824</td>\n",
       "      <td>0.058468</td>\n",
       "      <td>0.000000</td>\n",
       "      <td>0.053925</td>\n",
       "      <td>0.001793</td>\n",
       "      <td>116</td>\n",
       "      <td>739</td>\n",
       "      <td>267</td>\n",
       "      <td>28</td>\n",
       "      <td>28</td>\n",
       "    </tr>\n",
       "  </tbody>\n",
       "</table>\n",
       "</div>"
      ],
      "text/plain": [
       "   pID  gt  updrs108  afTap    sTap   nqScore  typingSpeed  \\\n",
       "0   11   1     14.25    NaN  162.25  0.117543   189.372549   \n",
       "1   60   0      2.00    NaN  162.25  0.070350    60.533333   \n",
       "2   67   1     25.25    NaN  133.75  0.223411    54.333333   \n",
       "3   68   0      6.00    NaN  159.00  0.074973    71.800000   \n",
       "4   70   1     26.25    NaN  113.50  0.175751    39.614035   \n",
       "\n",
       "                       file_1                      file_2       SDi  \\\n",
       "0  1402930351.011_001_014.csv  1403706430.011_003_014.csv  0.564521   \n",
       "1  1402932300.060_001_014.csv  1403708258.060_003_014.csv  0.421491   \n",
       "2  1401117235.067_001_014.csv  1401978395.067_003_014.csv  0.448163   \n",
       "3  1401114972.068_001_014.csv  1401980765.068_003_014.csv  0.229087   \n",
       "4  1404311419.070_001_014.csv  1404743687.070_003_014.csv  0.319824   \n",
       "\n",
       "   singularity_spectrum_wdith  Dexterity  InterQuartileRanges  Variance  \\\n",
       "0                    0.395982   0.012277             0.052500  0.002587   \n",
       "1                    0.289706   0.001475             0.049800  0.001659   \n",
       "2                    0.517114   0.002181             0.108200  0.005904   \n",
       "3                    0.120067   0.000000             0.032000  0.000640   \n",
       "4                    0.058468   0.000000             0.053925  0.001793   \n",
       "\n",
       "   Hist1  Hist2  Hist3  Hist4  htArrOutliers  \n",
       "0   4816      9      3      1            168  \n",
       "1   1791     27      2      1             26  \n",
       "2    339    893    354     45             19  \n",
       "3    898   1178     74      6             27  \n",
       "4    116    739    267     28             28  "
      ]
     },
     "execution_count": 1041,
     "metadata": {},
     "output_type": "execute_result"
    }
   ],
   "source": [
    "de_novo[\"gt\"] = de_novo[\"gt\"].astype(int)\n",
    "\n",
    "de_novo_features = de_novo[['SDi','afTap','Dexterity','InterQuartileRanges','Variance','gt']]\n",
    "de_novo_features =de_novo[['SDi','afTap','Dexterity','InterQuartileRanges','gt']]\n",
    "de_novo_features =de_novo[['SDi','afTap','Dexterity','InterQuartileRanges','Hist1','Hist2','Hist3','Hist4','gt']]\n",
    "de_novo_features =de_novo[['SDi','Dexterity','InterQuartileRanges','Hist1','htArrOutliers','Hist2','Hist3','Hist4','singularity_spectrum_wdith','gt']]\n",
    "de_novo.head()"
   ]
  },
  {
   "cell_type": "markdown",
   "id": "0aede7ab",
   "metadata": {},
   "source": [
    "## splitting the de_novo patients to double the dataset size by considering file_2 of a patient a different "
   ]
  },
  {
   "cell_type": "code",
   "execution_count": null,
   "id": "b0781d52",
   "metadata": {},
   "outputs": [],
   "source": []
  },
  {
   "cell_type": "markdown",
   "id": "c4e9b7a0",
   "metadata": {},
   "source": [
    "## appending the datasets together"
   ]
  },
  {
   "cell_type": "code",
   "execution_count": 1042,
   "id": "98250a9f",
   "metadata": {
    "scrolled": true
   },
   "outputs": [
    {
     "name": "stdout",
     "output_type": "stream",
     "text": [
      "54\n",
      "31\n",
      "54\n"
     ]
    },
    {
     "name": "stderr",
     "output_type": "stream",
     "text": [
      "C:\\Users\\micoa\\AppData\\Local\\Temp\\ipykernel_15784\\838164722.py:3: FutureWarning: The frame.append method is deprecated and will be removed from pandas in a future version. Use pandas.concat instead.\n",
      "  Xy = early_stage_features.append(de_novo_features, ignore_index=True)\n"
     ]
    }
   ],
   "source": [
    "print(len(early_stage))\n",
    "print(len(de_novo))\n",
    "Xy = early_stage_features.append(de_novo_features, ignore_index=True)\n",
    "print(len(early_stage))\n"
   ]
  },
  {
   "cell_type": "code",
   "execution_count": 1043,
   "id": "bc8f8666",
   "metadata": {},
   "outputs": [
    {
     "name": "stdout",
     "output_type": "stream",
     "text": [
      "                                 SDi  Dexterity  InterQuartileRanges  \\\n",
      "SDi                         1.000000   0.295935             0.762871   \n",
      "Dexterity                   0.295935   1.000000             0.290355   \n",
      "InterQuartileRanges         0.762871   0.290355             1.000000   \n",
      "htArrOutliers              -0.009785   0.088081            -0.290704   \n",
      "Hist1                       0.272853   0.449161             0.086268   \n",
      "Hist2                      -0.162418   0.136585            -0.124963   \n",
      "Hist3                       0.110829  -0.119831             0.016193   \n",
      "Hist4                       0.131300  -0.134196             0.029702   \n",
      "singularity_spectrum_wdith  0.132203   0.133350             0.047590   \n",
      "gt                          0.443386   0.275469             0.477395   \n",
      "\n",
      "                            htArrOutliers     Hist1     Hist2     Hist3  \\\n",
      "SDi                             -0.009785  0.272853 -0.162418  0.110829   \n",
      "Dexterity                        0.088081  0.449161  0.136585 -0.119831   \n",
      "InterQuartileRanges             -0.290704  0.086268 -0.124963  0.016193   \n",
      "htArrOutliers                    1.000000  0.486388  0.127950 -0.142082   \n",
      "Hist1                            0.486388  1.000000 -0.152336 -0.334427   \n",
      "Hist2                            0.127950 -0.152336  1.000000  0.433411   \n",
      "Hist3                           -0.142082 -0.334427  0.433411  1.000000   \n",
      "Hist4                           -0.095484 -0.253501  0.269728  0.876268   \n",
      "singularity_spectrum_wdith       0.332906  0.309614 -0.353550 -0.226905   \n",
      "gt                               0.070200  0.123342 -0.229060 -0.071626   \n",
      "\n",
      "                               Hist4  singularity_spectrum_wdith        gt  \n",
      "SDi                         0.131300                    0.132203  0.443386  \n",
      "Dexterity                  -0.134196                    0.133350  0.275469  \n",
      "InterQuartileRanges         0.029702                    0.047590  0.477395  \n",
      "htArrOutliers              -0.095484                    0.332906  0.070200  \n",
      "Hist1                      -0.253501                    0.309614  0.123342  \n",
      "Hist2                       0.269728                   -0.353550 -0.229060  \n",
      "Hist3                       0.876268                   -0.226905 -0.071626  \n",
      "Hist4                       1.000000                   -0.148057  0.055517  \n",
      "singularity_spectrum_wdith -0.148057                    1.000000  0.210026  \n",
      "gt                          0.055517                    0.210026  1.000000  \n"
     ]
    }
   ],
   "source": [
    "print(Xy.corr())"
   ]
  },
  {
   "cell_type": "code",
   "execution_count": 1044,
   "id": "d0e7ca73",
   "metadata": {},
   "outputs": [
    {
     "name": "stdout",
     "output_type": "stream",
     "text": [
      "Anova F: the variables are Non-Correlated (p-value: 0.054)\n"
     ]
    }
   ],
   "source": [
    "import statsmodels.formula.api as smf\n",
    "import statsmodels.api as sm\n",
    "cat, num = \"gt\", \"singularity_spectrum_wdith\"\n",
    "model = smf.ols(num+' ~ '+cat, data=Xy).fit()\n",
    "table = sm.stats.anova_lm(model)\n",
    "p = table[\"PR(>F)\"][0]\n",
    "coeff, p = None, round(p, 3)\n",
    "conclusion = \"Correlated\" if p < 0.05 else \"Non-Correlated\"\n",
    "print(\"Anova F: the variables are\", conclusion, \"(p-value: \"+str(p)+\")\")"
   ]
  },
  {
   "cell_type": "code",
   "execution_count": 1045,
   "id": "5f0ef05f",
   "metadata": {},
   "outputs": [
    {
     "name": "stdout",
     "output_type": "stream",
     "text": [
      "Anova F: the variables are Correlated (p-value: 0.0)\n"
     ]
    }
   ],
   "source": [
    "import statsmodels.formula.api as smf\n",
    "import statsmodels.api as sm\n",
    "cat, num = \"gt\", \"afTap\"\n",
    "model = smf.ols(num+' ~ '+cat, data=early_stage).fit()\n",
    "table = sm.stats.anova_lm(model)\n",
    "p = table[\"PR(>F)\"][0]\n",
    "coeff, p = None, round(p, 3)\n",
    "conclusion = \"Correlated\" if p < 0.05 else \"Non-Correlated\"\n",
    "print(\"Anova F: the variables are\", conclusion, \"(p-value: \"+str(p)+\")\")"
   ]
  },
  {
   "cell_type": "code",
   "execution_count": null,
   "id": "c953f7d8",
   "metadata": {},
   "outputs": [],
   "source": []
  },
  {
   "cell_type": "markdown",
   "id": "db533f19",
   "metadata": {},
   "source": [
    "## splitting the data into features and dependant variable and further splitting into train and testing data"
   ]
  },
  {
   "cell_type": "code",
   "execution_count": 1046,
   "id": "ccb2f6fe",
   "metadata": {},
   "outputs": [],
   "source": [
    "\n",
    "X = Xy.iloc[:, :-1].values\n",
    "y = Xy.iloc[:, -1].values"
   ]
  },
  {
   "cell_type": "code",
   "execution_count": 1047,
   "id": "015fc332",
   "metadata": {},
   "outputs": [],
   "source": [
    "from sklearn.metrics import ConfusionMatrixDisplay,accuracy_score\n",
    "from sklearn.model_selection import cross_val_score\n",
    "from sklearn.model_selection import KFold\n",
    "from sklearn.pipeline import Pipeline\n",
    "def testClassifierRaw(classifier,X,y):\n",
    "    pipe = Pipeline([('scaler', StandardScaler()), ('classifer', classifier)])\n",
    "    X_train,X_test,y_train,y_test = train_test_split(X,y,test_size=0.2,stratify=y,random_state=0)\n",
    "    pipe.fit(X_train,y_train)\n",
    "    y_pred =  pipe.predict(X_test)\n",
    "    titles_options = [\n",
    "    (\"Confusion matrix, without normalization\", None),\n",
    "    (\"Normalized confusion matrix\", \"true\"),]\n",
    "    for title, normalize in titles_options:\n",
    "        disp = ConfusionMatrixDisplay.from_estimator(\n",
    "            pipe,\n",
    "            X_test,\n",
    "            y_test,\n",
    "            display_labels=None ,\n",
    "            cmap=plt.cm.Blues,\n",
    "            normalize=normalize,\n",
    "        )\n",
    "        disp.ax_.set_title(title)\n",
    "\n",
    "        print(title)\n",
    "        print(disp.confusion_matrix)\n",
    "\n",
    "    plt.show()\n",
    "    print(\"Accuracy score : \" + str(accuracy_score(y_test, y_pred,  normalize=True, sample_weight=None)))\n",
    "    X = np.concatenate((X_train, X_test), axis=0) \n",
    "    y = np.concatenate((y_train, y_test), axis=0)\n",
    "    scores = cross_val_score(pipe,X,y,cv=5)\n",
    "    print(\"Mean accuracy of 5 fold cross validation test : \"+ str(scores.mean()))\n",
    "    print(\"with a maximum accuracy of \" + str(scores.max()))\n",
    "    scores = cross_val_score(pipe,X,y,cv=10)\n",
    "    print(\"Mean accuracy of 10 fold cross validation test : \"+ str(scores.mean()))\n",
    "    print(\"with a maximum accuracy of \" + str(scores.max()))\n",
    "    scores = cross_val_score(pipe,X,y,cv=KFold(85))\n",
    "    print(\"Mean accuracy of n fold cross validation test : \"+ str(scores.mean()))\n",
    "    print(\"with a maximum accuracy of \" + str(scores.max()))\n",
    "    scores = cross_val_score(pipe,X,y,cv=KFold())\n",
    "    print(\"Mean accuracy of n fold cross validation test : \"+ str(scores.mean()))\n",
    "    print(\"with a maximum accuracy of \" + str(scores.max()))"
   ]
  },
  {
   "cell_type": "code",
   "execution_count": null,
   "id": "56faaa15",
   "metadata": {},
   "outputs": [],
   "source": []
  },
  {
   "cell_type": "code",
   "execution_count": 1048,
   "id": "78ca4a01",
   "metadata": {},
   "outputs": [
    {
     "name": "stdout",
     "output_type": "stream",
     "text": [
      "[[3.80584214e-01 1.36823497e-03 5.08000000e-02 2.80000000e+01\n",
      "  8.47000000e+02 7.00000000e+00 0.00000000e+00 1.00000000e+00\n",
      "  6.71040577e-01]\n",
      " [3.78428780e-01 2.18476127e-02 3.62000000e-02 5.00000000e+01\n",
      "  1.56700000e+03 2.50000000e+01 0.00000000e+00 1.00000000e+00\n",
      "  4.54650866e-01]\n",
      " [3.49012031e-01 7.12569236e-04 2.10000000e-02 8.60000000e+01\n",
      "  1.56500000e+03 4.10000000e+01 0.00000000e+00 1.00000000e+00\n",
      "  1.71950473e-01]\n",
      " [3.54816649e-01 0.00000000e+00 4.57750000e-02 8.00000000e+00\n",
      "  5.81000000e+02 5.15000000e+02 1.70000000e+01 1.00000000e+00\n",
      "  8.76935444e-02]\n",
      " [2.36303990e-01 1.07759165e-03 2.02000000e-02 4.30000000e+01\n",
      "  5.50000000e+01 9.55000000e+02 2.12000000e+02 1.50000000e+01\n",
      "  2.55948976e-01]\n",
      " [4.30975746e-01 6.77585959e-03 3.48000000e-02 4.20000000e+01\n",
      "  8.37000000e+02 4.59000000e+02 6.60000000e+01 1.20000000e+01\n",
      "  2.83575610e-01]\n",
      " [5.85703902e-01 1.25543177e-02 7.22000000e-02 1.30000000e+01\n",
      "  1.26000000e+03 6.03000000e+02 2.98000000e+02 3.10000000e+01\n",
      "  6.10817694e-01]\n",
      " [3.66078523e-01 6.43568120e-03 5.18500000e-02 2.70000000e+01\n",
      "  4.11000000e+02 6.46000000e+02 2.80000000e+01 2.00000000e+00\n",
      "  4.05281526e-01]\n",
      " [2.96537682e-01 9.80421165e-03 2.39000000e-02 6.30000000e+01\n",
      "  6.58000000e+02 1.33500000e+03 8.70000000e+01 5.00000000e+00\n",
      "  1.23044922e-01]\n",
      " [3.21619863e-01 6.68184704e-03 2.52000000e-02 3.50000000e+01\n",
      "  2.10000000e+02 1.25400000e+03 1.35000000e+02 5.00000000e+00\n",
      "  2.35783536e-01]\n",
      " [2.69081139e-01 2.52153314e-04 1.94000000e-02 5.00000000e+01\n",
      "  1.80000000e+02 1.40600000e+03 1.38000000e+02 1.00000000e+01\n",
      "  3.75449462e-01]\n",
      " [3.28354547e-01 1.76626867e-02 3.79500000e-02 6.10000000e+01\n",
      "  1.70100000e+03 0.00000000e+00 0.00000000e+00 1.00000000e+00\n",
      "  7.16781787e-01]\n",
      " [5.66683222e-01 2.49655386e-02 8.36000000e-02 2.50000000e+01\n",
      "  1.27500000e+03 7.70000000e+01 0.00000000e+00 1.00000000e+00\n",
      "  3.52254998e-01]\n",
      " [2.51682478e-01 0.00000000e+00 2.35750000e-02 4.80000000e+01\n",
      "  8.40000000e+02 2.35000000e+02 1.00000000e+01 1.00000000e+00\n",
      "  8.19735008e-02]\n",
      " [4.31034950e-01 5.42268635e-03 3.03500000e-02 7.40000000e+01\n",
      "  8.03000000e+02 1.05100000e+03 2.28000000e+02 2.10000000e+01\n",
      "  9.25373998e-02]\n",
      " [3.46295278e-01 0.00000000e+00 6.61000000e-02 1.10000000e+01\n",
      "  4.40000000e+01 3.59000000e+02 7.90000000e+01 3.00000000e+00\n",
      "  1.38174025e-01]\n",
      " [4.83142457e-01 1.32872349e-02 6.10500000e-02 3.90000000e+01\n",
      "  6.81000000e+02 8.14000000e+02 1.31000000e+02 1.40000000e+01\n",
      "  1.58881846e-01]\n",
      " [4.58440834e-01 1.04328971e-02 5.95500000e-02 4.10000000e+01\n",
      "  1.22000000e+03 1.00000000e+00 1.00000000e+00 1.00000000e+00\n",
      "  1.53091723e+00]\n",
      " [2.66963818e-01 0.00000000e+00 2.48000000e-02 5.10000000e+01\n",
      "  3.23000000e+02 7.90000000e+02 7.80000000e+01 5.00000000e+00\n",
      "  1.08473706e-01]\n",
      " [3.85446467e-01 1.70179943e-02 5.56000000e-02 1.90000000e+01\n",
      "  9.23000000e+02 6.20000000e+02 2.80000000e+01 1.00000000e+00\n",
      "  6.89248747e-02]\n",
      " [4.84715105e-01 1.29502917e-02 4.01500000e-02 1.00000000e+02\n",
      "  1.67500000e+03 5.00000000e+00 1.00000000e+00 1.00000000e+00\n",
      "  7.81594842e-01]\n",
      " [3.71893360e-01 8.98505249e-03 3.65000000e-02 5.00000000e+01\n",
      "  5.10000000e+02 1.24500000e+03 8.00000000e+01 6.00000000e+00\n",
      "  1.36769267e-01]\n",
      " [6.96365848e-01 0.00000000e+00 1.41200000e-01 2.00000000e+00\n",
      "  5.50000000e+02 2.72000000e+02 6.80000000e+01 3.00000000e+00\n",
      "  8.30574790e-02]\n",
      " [4.78367790e-01 5.22378381e-03 5.30500000e-02 1.80000000e+01\n",
      "  8.30000000e+02 5.47000000e+02 7.30000000e+01 8.00000000e+00\n",
      "  7.12497948e-02]\n",
      " [3.44517773e-01 3.65714312e-03 3.83000000e-02 2.50000000e+01\n",
      "  1.09300000e+03 6.00000000e+00 1.00000000e+00 1.00000000e+00\n",
      "  6.00418501e-01]\n",
      " [3.67109797e-01 1.60901429e-02 3.50000000e-02 3.90000000e+01\n",
      "  4.58000000e+02 1.49200000e+03 2.41000000e+02 1.10000000e+01\n",
      "  2.59539085e-01]\n",
      " [3.79150211e-01 6.44553269e-03 3.99000000e-02 2.80000000e+01\n",
      "  4.99000000e+02 1.67900000e+03 4.70000000e+02 2.70000000e+01\n",
      "  1.86749132e-01]\n",
      " [3.97290922e-01 4.72054813e-03 3.38000000e-02 2.70000000e+01\n",
      "  1.36600000e+03 2.00000000e+00 0.00000000e+00 1.00000000e+00\n",
      "  6.35334243e-01]\n",
      " [4.10902056e-01 3.20807629e-03 2.34500000e-02 5.40000000e+01\n",
      "  8.06000000e+02 3.12000000e+02 2.80000000e+01 5.00000000e+00\n",
      "  4.96811682e-02]\n",
      " [3.22224989e-01 8.71338135e-03 2.21250000e-02 5.30000000e+01\n",
      "  4.33000000e+02 1.06100000e+03 6.80000000e+01 1.00000000e+01\n",
      "  3.68760237e-01]\n",
      " [3.92787801e-01 0.00000000e+00 4.46000000e-02 3.00000000e+00\n",
      "  2.66000000e+02 1.29700000e+03 1.01000000e+02 1.00000000e+00\n",
      "  8.23994606e-02]\n",
      " [5.18041338e-01 1.31025384e-03 4.01750000e-02 4.70000000e+01\n",
      "  1.23200000e+03 7.88000000e+02 1.78000000e+02 8.00000000e+00\n",
      "  3.93079811e-02]\n",
      " [2.60728503e-01 1.26144137e-03 1.54000000e-02 5.40000000e+01\n",
      "  2.17300000e+03 6.38000000e+02 4.00000000e+00 1.00000000e+00\n",
      "  1.39916011e-01]\n",
      " [3.19985590e-01 4.33990694e-03 5.20000000e-02 2.80000000e+01\n",
      "  6.30000000e+01 5.41000000e+02 5.10000000e+01 1.10000000e+01\n",
      "  2.44083149e-01]\n",
      " [3.17146881e-01 1.17366450e-02 3.54000000e-02 4.80000000e+01\n",
      "  2.85000000e+02 2.58200000e+03 3.09000000e+02 4.00000000e+00\n",
      "  2.09150062e-01]\n",
      " [2.23315830e-01 2.61155499e-03 1.37000000e-02 4.20000000e+01\n",
      "  4.44000000e+02 7.60000000e+02 1.80000000e+01 3.00000000e+00\n",
      "  2.63214235e-01]\n",
      " [3.35964179e-01 3.11392463e-03 2.98750000e-02 4.80000000e+01\n",
      "  4.82000000e+02 1.09800000e+03 2.56000000e+02 2.20000000e+01\n",
      "  2.49825356e-01]\n",
      " [4.91947515e-01 5.31263342e-03 7.40750000e-02 2.20000000e+01\n",
      "  5.22000000e+02 3.54000000e+02 4.80000000e+01 4.00000000e+00\n",
      "  1.01920838e-01]\n",
      " [2.79827624e-01 5.33744885e-05 2.16250000e-02 9.00000000e+01\n",
      "  8.86000000e+02 5.90000000e+02 5.60000000e+01 1.60000000e+01\n",
      "  3.48000275e-01]\n",
      " [2.24216066e-01 0.00000000e+00 1.91500000e-02 2.60000000e+01\n",
      "  1.10000000e+01 4.57000000e+02 3.56000000e+02 2.00000000e+01\n",
      "  2.45265418e-02]\n",
      " [2.78100172e-01 0.00000000e+00 4.78000000e-02 1.20000000e+01\n",
      "  6.90000000e+01 2.83000000e+02 2.20000000e+01 3.00000000e+00\n",
      "  3.64512069e-01]\n",
      " [4.21841670e-01 9.88726701e-03 4.99500000e-02 5.20000000e+01\n",
      "  2.36000000e+02 1.30400000e+03 2.72000000e+02 3.50000000e+01\n",
      "  3.29613694e-01]\n",
      " [2.33508490e-01 0.00000000e+00 3.63000000e-02 1.00000000e+01\n",
      "  1.55000000e+02 4.82000000e+02 2.70000000e+01 1.00000000e+00\n",
      "  2.31246213e-01]\n",
      " [3.20161127e-01 0.00000000e+00 4.85500000e-02 8.00000000e+00\n",
      "  1.39000000e+02 1.36000000e+02 2.10000000e+01 3.00000000e+00\n",
      "  1.39884394e-01]\n",
      " [4.03545189e-01 1.90543656e-02 3.91000000e-02 6.10000000e+01\n",
      "  1.12100000e+03 1.92600000e+03 3.70000000e+01 2.00000000e+00\n",
      "  1.54337602e-01]\n",
      " [1.99801765e-01 0.00000000e+00 3.04750000e-02 8.00000000e+00\n",
      "  4.20000000e+01 1.85000000e+02 7.60000000e+01 1.90000000e+01\n",
      "  6.41861115e-02]\n",
      " [3.24108450e-01 4.40153278e-03 2.26000000e-02 1.04000000e+02\n",
      "  1.41200000e+03 2.18000000e+02 1.10000000e+01 5.00000000e+00\n",
      "  2.08878112e-01]\n",
      " [2.81318960e-01 0.00000000e+00 1.66000000e-02 4.10000000e+01\n",
      "  1.15500000e+03 1.00000000e+00 0.00000000e+00 1.00000000e+00\n",
      "  4.58282304e-01]\n",
      " [3.06040919e-01 8.85400547e-04 1.09000000e-02 4.90000000e+01\n",
      "  1.89500000e+03 0.00000000e+00 1.00000000e+00 1.00000000e+00\n",
      "  6.66022264e-01]\n",
      " [4.90037992e-01 4.95840086e-03 5.85500000e-02 1.00000000e+00\n",
      "  3.98000000e+02 6.82000000e+02 5.43000000e+02 2.40000000e+01\n",
      "  4.02342439e-02]\n",
      " [4.60811466e-01 1.69024099e-02 8.47750000e-02 2.10000000e+01\n",
      "  4.43000000e+02 8.19000000e+02 1.47000000e+02 1.30000000e+01\n",
      "  1.85305438e-01]\n",
      " [3.20874066e-01 5.90658732e-03 3.39500000e-02 3.50000000e+01\n",
      "  1.98000000e+02 1.32000000e+03 1.72000000e+02 4.00000000e+00\n",
      "  5.12017264e-02]\n",
      " [2.55045005e-01 0.00000000e+00 3.88500000e-02 1.70000000e+01\n",
      "  1.55000000e+02 5.18000000e+02 7.20000000e+01 6.00000000e+00\n",
      "  1.98854060e-01]\n",
      " [4.11064873e-01 0.00000000e+00 4.25000000e-02 7.00000000e+00\n",
      "  4.45000000e+02 3.36000000e+02 4.00000000e+01 4.00000000e+00\n",
      "  1.49402593e-02]\n",
      " [5.64520821e-01 1.22770497e-02 5.25000000e-02 1.68000000e+02\n",
      "  4.81600000e+03 9.00000000e+00 3.00000000e+00 1.00000000e+00\n",
      "  3.95981871e-01]\n",
      " [4.21491088e-01 1.47480374e-03 4.98000000e-02 2.60000000e+01\n",
      "  1.79100000e+03 2.70000000e+01 2.00000000e+00 1.00000000e+00\n",
      "  2.89706398e-01]\n",
      " [4.48162785e-01 2.18052498e-03 1.08200000e-01 1.90000000e+01\n",
      "  3.39000000e+02 8.93000000e+02 3.54000000e+02 4.50000000e+01\n",
      "  5.17114268e-01]\n",
      " [2.29086955e-01 0.00000000e+00 3.20000000e-02 2.70000000e+01\n",
      "  8.98000000e+02 1.17800000e+03 7.40000000e+01 6.00000000e+00\n",
      "  1.20066610e-01]\n",
      " [3.19824421e-01 0.00000000e+00 5.39250000e-02 2.80000000e+01\n",
      "  1.16000000e+02 7.39000000e+02 2.67000000e+02 2.80000000e+01\n",
      "  5.84680556e-02]\n",
      " [3.34962477e-01 1.28323983e-02 4.58000000e-02 9.10000000e+01\n",
      "  2.12700000e+03 5.65000000e+02 1.70000000e+01 2.00000000e+00\n",
      "  1.75132379e-01]\n",
      " [5.25507738e-01 2.49936888e-02 8.27000000e-02 7.70000000e+01\n",
      "  2.16700000e+03 8.00000000e+01 6.00000000e+00 2.00000000e+00\n",
      "  2.99397531e-01]\n",
      " [4.83730665e-01 3.50339715e-03 3.61000000e-02 1.91000000e+02\n",
      "  2.33700000e+03 3.90000000e+02 3.90000000e+01 7.00000000e+00\n",
      "  5.52257068e-01]\n",
      " [4.35597993e-01 3.37438100e-02 6.56000000e-02 5.40000000e+01\n",
      "  4.69900000e+03 4.50000000e+01 0.00000000e+00 1.00000000e+00\n",
      "  3.30295844e-01]\n",
      " [3.00051437e-01 1.80041495e-02 4.48000000e-02 1.04000000e+02\n",
      "  1.76700000e+03 2.71000000e+03 1.90000000e+01 5.00000000e+00\n",
      "  1.56227999e-01]\n",
      " [3.74079431e-01 1.93376917e-02 4.89250000e-02 7.30000000e+01\n",
      "  3.63000000e+03 2.68600000e+03 4.80000000e+01 4.00000000e+00\n",
      "  1.75140486e-01]\n",
      " [2.86097773e-01 0.00000000e+00 1.45000000e-02 1.63000000e+02\n",
      "  9.85000000e+02 1.26300000e+03 1.35000000e+02 9.00000000e+00\n",
      "  4.02983435e-01]\n",
      " [3.75130109e-01 1.10469449e-02 8.50000000e-02 6.80000000e+01\n",
      "  1.11800000e+03 1.16700000e+03 5.10000000e+01 5.00000000e+00\n",
      "  3.81156240e-01]\n",
      " [4.37980867e-01 1.85147495e-03 4.50250000e-02 7.80000000e+01\n",
      "  5.90000000e+02 1.28500000e+03 4.16000000e+02 6.10000000e+01\n",
      "  8.36640799e-02]\n",
      " [4.92668267e-01 6.61983254e-03 6.09000000e-02 6.10000000e+01\n",
      "  1.03200000e+03 1.04900000e+03 3.30000000e+01 7.00000000e+00\n",
      "  2.21561276e-01]\n",
      " [4.14588391e-01 3.89512055e-04 6.13000000e-02 6.00000000e+00\n",
      "  1.11300000e+03 6.31000000e+02 2.00000000e+00 2.00000000e+00\n",
      "  1.18913685e-01]\n",
      " [4.34017491e-01 2.11134423e-03 2.09750000e-02 1.40000000e+02\n",
      "  8.13000000e+02 1.38000000e+02 3.90000000e+01 1.60000000e+01\n",
      "  2.83640945e-01]\n",
      " [2.90417037e-01 4.62606829e-03 2.46000000e-02 1.11000000e+02\n",
      "  6.54000000e+02 1.98500000e+03 1.81000000e+02 5.00000000e+00\n",
      "  1.18288917e-01]\n",
      " [5.20527939e-01 1.44004832e-03 4.33000000e-02 0.00000000e+00\n",
      "  1.46000000e+02 1.37800000e+03 9.06000000e+02 1.18000000e+02\n",
      "  8.07841098e-02]\n",
      " [4.96685985e-01 8.54409140e-04 5.90000000e-02 3.00000000e+00\n",
      "  2.62800000e+03 2.50000000e+01 0.00000000e+00 1.00000000e+00\n",
      "  2.63118552e-01]\n",
      " [3.17836687e-01 8.57755210e-05 2.36000000e-02 1.89000000e+02\n",
      "  2.84300000e+03 3.40000000e+01 0.00000000e+00 1.00000000e+00\n",
      "  6.62647572e-01]\n",
      " [3.57644112e-01 6.97625439e-03 2.68000000e-02 1.68000000e+02\n",
      "  2.98700000e+03 1.43100000e+03 8.80000000e+01 9.00000000e+00\n",
      "  3.70968831e-01]\n",
      " [3.95054039e-01 7.90255486e-03 5.09750000e-02 6.40000000e+01\n",
      "  3.77400000e+03 8.00000000e+00 2.00000000e+00 2.00000000e+00\n",
      "  7.09315613e-01]\n",
      " [3.16662578e-01 5.84950609e-03 4.21000000e-02 7.40000000e+01\n",
      "  1.32800000e+03 2.16600000e+03 8.40000000e+01 6.00000000e+00\n",
      "  1.75705897e-01]\n",
      " [8.67071517e-01 9.80849452e-03 1.36800000e-01 7.00000000e+00\n",
      "  1.59700000e+03 6.53000000e+02 5.70000000e+01 2.00000000e+00\n",
      "  6.79259687e-02]\n",
      " [4.36290746e-01 7.23601272e-03 5.13000000e-02 5.90000000e+01\n",
      "  1.03700000e+03 1.20600000e+03 6.70000000e+01 3.00000000e+00\n",
      "  6.54749441e-02]\n",
      " [4.34181794e-01 2.48130259e-03 4.08000000e-02 4.70000000e+01\n",
      "  8.60000000e+02 1.15900000e+03 1.62000000e+02 8.00000000e+00\n",
      "  6.42750082e-02]\n",
      " [4.47776438e-01 9.43419287e-03 4.48750000e-02 1.05000000e+02\n",
      "  2.18900000e+03 2.42200000e+03 4.48000000e+02 3.90000000e+01\n",
      "  2.88021668e-01]\n",
      " [4.14026325e-01 1.03697491e-02 7.07000000e-02 9.00000000e+00\n",
      "  1.61700000e+03 8.77000000e+02 1.00000000e+00 2.00000000e+00\n",
      "  1.15880043e-01]\n",
      " [6.31224068e-01 3.36393233e-03 8.16750000e-02 1.90000000e+02\n",
      "  1.53200000e+03 3.51000000e+02 9.20000000e+01 3.00000000e+00\n",
      "  1.21509524e+00]\n",
      " [2.78643597e-01 3.59471545e-03 1.84750000e-02 1.26000000e+02\n",
      "  6.07000000e+02 1.78700000e+03 9.10000000e+01 9.00000000e+00\n",
      "  1.41818571e-01]]\n"
     ]
    }
   ],
   "source": [
    "from sklearn import impute\n",
    "from numpy.ma.core import mean\n",
    "#filling missing data with the average of the data around it \n",
    "from sklearn.impute import SimpleImputer\n",
    "imputer  = SimpleImputer(missing_values=np.nan, strategy=\"mean\")\n",
    "# imputer.fit(x[:,1:3])\n",
    "# x[:,1:3] = imputer.transform(x[:,1:3])\n",
    "#combines the two lines into one \n",
    "X[:,:-1] = imputer.fit_transform(X[:,:-1])\n",
    "print(X)"
   ]
  },
  {
   "cell_type": "code",
   "execution_count": 1049,
   "id": "2268c58a",
   "metadata": {},
   "outputs": [],
   "source": [
    "# from sklearn.decomposition import PCA\n",
    "# pca = PCA(1)\n",
    "# principalComponents = pca.fit_transform(X)\n",
    "# print(pca.n_components_)\n",
    "# print(np.array(X).shape)\n"
   ]
  },
  {
   "cell_type": "code",
   "execution_count": 1050,
   "id": "dde9fd9e",
   "metadata": {},
   "outputs": [
    {
     "data": {
      "text/plain": [
       "array([[1.        , 0.99996725],\n",
       "       [0.99996725, 1.        ]])"
      ]
     },
     "execution_count": 1050,
     "metadata": {},
     "output_type": "execute_result"
    }
   ],
   "source": [
    "np.corrcoef(X[0], X[1])"
   ]
  },
  {
   "cell_type": "code",
   "execution_count": 1051,
   "id": "d82068ca",
   "metadata": {},
   "outputs": [],
   "source": [
    "# import seaborn as sns\n",
    "# from sklearn.preprocessing import StandardScaler\n",
    "# sc = StandardScaler()\n",
    "# dataframe = X\n",
    "# dataframe[2]=y\n",
    "# dataframe['SDi','afTap'] = sc.fit_transform(X)\n",
    "# cov = np.cov(dataframe.T, bias=True)\n",
    "# labs = ['SDi', 'afTap']\n",
    "# sns.heatmap(cov, annot=True, fmt='g', xticklabels=labs, yticklabels=labs)\n",
    "# print(np.shape(cov))"
   ]
  },
  {
   "cell_type": "code",
   "execution_count": 1052,
   "id": "3e774c2c",
   "metadata": {},
   "outputs": [],
   "source": [
    "from sklearn.model_selection import train_test_split\n",
    "X_train,X_test,y_train,y_test = train_test_split(X,y,test_size=0.2,stratify=y,random_state=0)"
   ]
  },
  {
   "cell_type": "code",
   "execution_count": 1053,
   "id": "2d7428e4",
   "metadata": {},
   "outputs": [],
   "source": [
    "from sklearn.preprocessing import StandardScaler\n",
    "sc = StandardScaler()\n",
    "X_train = sc.fit_transform(X_train)\n",
    "X_test =  sc.transform(X_test)"
   ]
  },
  {
   "cell_type": "code",
   "execution_count": 1054,
   "id": "fe61db27",
   "metadata": {},
   "outputs": [
    {
     "name": "stdout",
     "output_type": "stream",
     "text": [
      "9\n",
      "(85, 9)\n"
     ]
    }
   ],
   "source": [
    "from sklearn.decomposition import PCA\n",
    "pca = PCA(0.99)\n",
    "principalComponents = pca.fit_transform(X_train)\n",
    "print(pca.n_components_)\n",
    "print(np.array(X).shape)\n",
    "X_train = pca.transform(X_train)\n",
    "X_test = pca.transform(X_test)"
   ]
  },
  {
   "cell_type": "code",
   "execution_count": 1055,
   "id": "c45feb01",
   "metadata": {},
   "outputs": [
    {
     "data": {
      "text/plain": [
       "LogisticRegression(random_state=0)"
      ]
     },
     "execution_count": 1055,
     "metadata": {},
     "output_type": "execute_result"
    }
   ],
   "source": [
    "from sklearn.linear_model import LogisticRegression\n",
    "classifier = LogisticRegression(random_state=0)\n",
    "classifier.fit(X_train,y_train)"
   ]
  },
  {
   "cell_type": "code",
   "execution_count": 1056,
   "id": "b40bfcc0",
   "metadata": {},
   "outputs": [
    {
     "name": "stdout",
     "output_type": "stream",
     "text": [
      "[[1 0]\n",
      " [1 0]\n",
      " [1 1]\n",
      " [0 0]\n",
      " [0 0]\n",
      " [0 1]\n",
      " [0 1]\n",
      " [0 0]\n",
      " [0 1]\n",
      " [1 1]\n",
      " [0 0]\n",
      " [0 0]\n",
      " [1 1]\n",
      " [1 1]\n",
      " [1 1]\n",
      " [0 0]\n",
      " [1 0]]\n",
      "17\n"
     ]
    }
   ],
   "source": [
    "y_pred =  classifier.predict(X_test)\n",
    "print(np.concatenate((y_pred.reshape(len(y_pred),1),y_test.reshape(len(y_test),1)),1))\n",
    "print(len(y_pred))"
   ]
  },
  {
   "cell_type": "code",
   "execution_count": 1057,
   "id": "feffb899",
   "metadata": {
    "scrolled": false
   },
   "outputs": [
    {
     "name": "stdout",
     "output_type": "stream",
     "text": [
      "Confusion matrix, without normalization\n",
      "[[6 3]\n",
      " [3 5]]\n",
      "Normalized confusion matrix\n",
      "[[0.66666667 0.33333333]\n",
      " [0.375      0.625     ]]\n"
     ]
    },
    {
     "data": {
      "image/png": "[encoded data removed]",
      "text/plain": [
       "<Figure size 432x288 with 2 Axes>"
      ]
     },
     "metadata": {
      "needs_background": "light"
     },
     "output_type": "display_data"
    },
    {
     "data": {
      "image/png": "[encoded data removed]",
      "text/plain": [
       "<Figure size 432x288 with 2 Axes>"
      ]
     },
     "metadata": {
      "needs_background": "light"
     },
     "output_type": "display_data"
    },
    {
     "name": "stdout",
     "output_type": "stream",
     "text": [
      "Accuracy score : 0.6470588235294118\n"
     ]
    }
   ],
   "source": [
    "from sklearn.metrics import ConfusionMatrixDisplay,accuracy_score\n",
    "\n",
    "titles_options = [\n",
    "    (\"Confusion matrix, without normalization\", None),\n",
    "    (\"Normalized confusion matrix\", \"true\"),\n",
    "]\n",
    "for title, normalize in titles_options:\n",
    "    disp = ConfusionMatrixDisplay.from_estimator(\n",
    "        classifier,\n",
    "        X_test,\n",
    "        y_test,\n",
    "        display_labels=None ,\n",
    "        cmap=plt.cm.Blues,\n",
    "        normalize=normalize,\n",
    "    )\n",
    "    disp.ax_.set_title(title)\n",
    "\n",
    "    print(title)\n",
    "    print(disp.confusion_matrix)\n",
    "\n",
    "plt.show()\n",
    "print(\"Accuracy score : \" + str(accuracy_score(y_test, y_pred,  normalize=True, sample_weight=None)))"
   ]
  },
  {
   "cell_type": "code",
   "execution_count": 1058,
   "id": "6be0ab6c",
   "metadata": {},
   "outputs": [],
   "source": [
    "# from matplotlib.colors import ListedColormap\n",
    "# X_set, y_set = sc.inverse_transform(X_train), y_train\n",
    "# X1, X2 = np.meshgrid(np.arange(start = X_set[:, 0].min() -0.1 , stop = X_set[:, 0].max() + 0.1 , step = 0.001),\n",
    "#                      np.arange(start = X_set[:, 1].min() - 10, stop = X_set[:, 1].max() + 10, step = 0.001))\n",
    "# plt.contourf(X1, X2, classifier.predict(sc.transform(np.array([X1.ravel(), X2.ravel()]).T)).reshape(X1.shape),\n",
    "#              alpha = 0.75, cmap = ListedColormap(('red', 'green')))\n",
    "# plt.xlim(X1.min(), X1.max())\n",
    "# plt.ylim(X2.min(), X2.max())\n",
    "# for i, j in enumerate(np.unique(y_set)):\n",
    "#     plt.scatter(X_set[y_set == j, 0], X_set[y_set == j, 1], c = ListedColormap(('red', 'green'))(i), label = j)\n",
    "# plt.title('Logistic regression  (Training set)')\n",
    "# plt.xlabel('SDi')\n",
    "# plt.ylabel('afTap')\n",
    "# plt.legend()\n",
    "# plt.show()"
   ]
  },
  {
   "cell_type": "code",
   "execution_count": 1059,
   "id": "181931dd",
   "metadata": {
    "scrolled": true
   },
   "outputs": [],
   "source": [
    "# from matplotlib.colors import ListedColormap\n",
    "# X_set, y_set = sc.inverse_transform(X_test), y_test\n",
    "# X1, X2 = np.meshgrid(np.arange(start = X_set[:, 0].min() - 0.1, stop = X_set[:, 0].max() + 0.1, step = 0.001),\n",
    "#                      np.arange(start = X_set[:, 1].min() - 10, stop = X_set[:, 1].max() + 10, step = 0.001))\n",
    "# plt.contourf(X1, X2, classifier.predict(sc.transform(np.array([X1.ravel(), X2.ravel()]).T)).reshape(X1.shape),\n",
    "#              alpha = 0.75, cmap = ListedColormap(('red', 'green')))\n",
    "# plt.xlim(X1.min(), X1.max())\n",
    "# plt.ylim(X2.min(), X2.max())\n",
    "# for i, j in enumerate(np.unique(y_set)):\n",
    "#     plt.scatter(X_set[y_set == j, 0], X_set[y_set == j, 1], c = ListedColormap(('red', 'green'))(i), label = j)\n",
    "# plt.title('Logistic Regression  (Test set)')\n",
    "# plt.xlabel('SDi')\n",
    "# plt.ylabel('afTap')\n",
    "# plt.legend()\n",
    "# plt.show()"
   ]
  },
  {
   "cell_type": "code",
   "execution_count": 1060,
   "id": "0a4b7f94",
   "metadata": {},
   "outputs": [
    {
     "name": "stderr",
     "output_type": "stream",
     "text": [
      "C:\\Python310\\lib\\site-packages\\sklearn\\utils\\deprecation.py:87: FutureWarning: Function plot_roc_curve is deprecated; This will be removed in v0.5.0. Please use scikitplot.metrics.plot_roc instead.\n",
      "  warnings.warn(msg, category=FutureWarning)\n"
     ]
    },
    {
     "data": {
      "image/png": "[encoded data removed]",
      "text/plain": [
       "<Figure size 864x432 with 1 Axes>"
      ]
     },
     "metadata": {
      "needs_background": "light"
     },
     "output_type": "display_data"
    }
   ],
   "source": [
    "import scikitplot as skplt\n",
    "Y_test_probs = classifier.predict_proba(X_test)\n",
    "\n",
    "skplt.metrics.plot_roc_curve(y_test, Y_test_probs,\n",
    "                       title=\" ROC Curve\", figsize=(12,6));"
   ]
  },
  {
   "cell_type": "markdown",
   "id": "e80b3ee1",
   "metadata": {},
   "source": [
    "## attempting to use K-neighrest neighbour "
   ]
  },
  {
   "cell_type": "code",
   "execution_count": 1061,
   "id": "6a02f5b4",
   "metadata": {},
   "outputs": [
    {
     "data": {
      "text/plain": [
       "KNeighborsClassifier(n_neighbors=10)"
      ]
     },
     "execution_count": 1061,
     "metadata": {},
     "output_type": "execute_result"
    }
   ],
   "source": [
    "from sklearn.neighbors import KNeighborsClassifier\n",
    "classifier = KNeighborsClassifier(n_neighbors=10)\n",
    "classifier.fit(X_train,y_train)"
   ]
  },
  {
   "cell_type": "code",
   "execution_count": 1062,
   "id": "8a9a0897",
   "metadata": {
    "scrolled": true
   },
   "outputs": [
    {
     "name": "stdout",
     "output_type": "stream",
     "text": [
      "[[0 0]\n",
      " [0 0]\n",
      " [1 1]\n",
      " [0 0]\n",
      " [0 0]\n",
      " [0 1]\n",
      " [0 1]\n",
      " [0 0]\n",
      " [0 1]\n",
      " [1 1]\n",
      " [0 0]\n",
      " [1 0]\n",
      " [1 1]\n",
      " [1 1]\n",
      " [1 1]\n",
      " [0 0]\n",
      " [0 0]]\n"
     ]
    }
   ],
   "source": [
    "y_pred = classifier.predict(X_test)\n",
    "print(np.concatenate((y_pred.reshape(len(y_pred),1), y_test.reshape(len(y_test),1)),1))"
   ]
  },
  {
   "cell_type": "code",
   "execution_count": 1063,
   "id": "d482873c",
   "metadata": {
    "scrolled": false
   },
   "outputs": [
    {
     "name": "stdout",
     "output_type": "stream",
     "text": [
      "Confusion matrix, without normalization\n",
      "[[8 1]\n",
      " [3 5]]\n",
      "Normalized confusion matrix\n",
      "[[0.88888889 0.11111111]\n",
      " [0.375      0.625     ]]\n"
     ]
    },
    {
     "data": {
      "image/png": "[encoded data removed]",
      "text/plain": [
       "<Figure size 432x288 with 2 Axes>"
      ]
     },
     "metadata": {
      "needs_background": "light"
     },
     "output_type": "display_data"
    },
    {
     "data": {
      "image/png": "[encoded data removed]",
      "text/plain": [
       "<Figure size 432x288 with 2 Axes>"
      ]
     },
     "metadata": {
      "needs_background": "light"
     },
     "output_type": "display_data"
    },
    {
     "name": "stdout",
     "output_type": "stream",
     "text": [
      "Accuracy Score : 0.7647058823529411\n"
     ]
    }
   ],
   "source": [
    "from sklearn.metrics import ConfusionMatrixDisplay,accuracy_score\n",
    "\n",
    "titles_options = [\n",
    "    (\"Confusion matrix, without normalization\", None),\n",
    "    (\"Normalized confusion matrix\", \"true\"),\n",
    "]\n",
    "for title, normalize in titles_options:\n",
    "    disp = ConfusionMatrixDisplay.from_estimator(\n",
    "        classifier,\n",
    "        X_test,\n",
    "        y_test,\n",
    "        display_labels=None ,\n",
    "        cmap=plt.cm.Blues,\n",
    "        normalize=normalize,\n",
    "    )\n",
    "    disp.ax_.set_title(title)\n",
    "\n",
    "    print(title)\n",
    "    print(disp.confusion_matrix)\n",
    "\n",
    "plt.show()\n",
    "print(\"Accuracy Score : \" + str(accuracy_score(y_test, y_pred,  normalize=True, sample_weight=None)))"
   ]
  },
  {
   "cell_type": "code",
   "execution_count": 1064,
   "id": "c77aebdc",
   "metadata": {},
   "outputs": [],
   "source": [
    "# from matplotlib.colors import ListedColormap\n",
    "# X_set, y_set = sc.inverse_transform(X_train), y_train\n",
    "# X1, X2 = np.meshgrid(np.arange(start = X_set[:, 0].min() - 0.1, stop = X_set[:, 0].max() + 0.1, step = 0.001),\n",
    "#                      np.arange(start = X_set[:, 1].min() - 10, stop = X_set[:, 1].max() + 10, step = 0.001))\n",
    "# plt.contourf(X1, X2, classifier.predict(sc.transform(np.array([X1.ravel(), X2.ravel()]).T)).reshape(X1.shape),\n",
    "#              alpha = 0.75, cmap = ListedColormap(('red', 'green')))\n",
    "# plt.xlim(X1.min(), X1.max())\n",
    "# plt.ylim(X2.min(), X2.max())\n",
    "# for i, j in enumerate(np.unique(y_set)):\n",
    "#     plt.scatter(X_set[y_set == j, 0], X_set[y_set == j, 1], c = ListedColormap(('red', 'green'))(i), label = j)\n",
    "# plt.title('K-NN  (Training set)')\n",
    "# plt.xlabel('SDi')\n",
    "# plt.ylabel('afTap')\n",
    "# plt.legend()\n",
    "# plt.show()"
   ]
  },
  {
   "cell_type": "code",
   "execution_count": null,
   "id": "6b17202d",
   "metadata": {},
   "outputs": [],
   "source": []
  },
  {
   "cell_type": "code",
   "execution_count": 1065,
   "id": "10699e2c",
   "metadata": {},
   "outputs": [
    {
     "data": {
      "text/plain": [
       "SVC(probability=True, random_state=0)"
      ]
     },
     "execution_count": 1065,
     "metadata": {},
     "output_type": "execute_result"
    }
   ],
   "source": [
    "from sklearn.svm import SVC\n",
    "classifier = SVC(kernel = 'rbf',random_state=0,probability=True)\n",
    "classifier.fit(X_train,y_train)"
   ]
  },
  {
   "cell_type": "code",
   "execution_count": 1066,
   "id": "9b21174c",
   "metadata": {
    "scrolled": true
   },
   "outputs": [
    {
     "name": "stdout",
     "output_type": "stream",
     "text": [
      "[[0 0]\n",
      " [0 0]\n",
      " [1 1]\n",
      " [0 0]\n",
      " [0 0]\n",
      " [0 1]\n",
      " [0 1]\n",
      " [0 0]\n",
      " [0 1]\n",
      " [1 1]\n",
      " [0 0]\n",
      " [0 0]\n",
      " [1 1]\n",
      " [1 1]\n",
      " [1 1]\n",
      " [0 0]\n",
      " [0 0]]\n"
     ]
    }
   ],
   "source": [
    "y_pred =  classifier.predict(X_test)\n",
    "print(np.concatenate((y_pred.reshape(len(y_pred),1),y_test.reshape(len(y_test),1)),1))"
   ]
  },
  {
   "cell_type": "code",
   "execution_count": 1067,
   "id": "6ed45550",
   "metadata": {
    "scrolled": true
   },
   "outputs": [
    {
     "name": "stdout",
     "output_type": "stream",
     "text": [
      "Confusion matrix, without normalization\n",
      "[[9 0]\n",
      " [3 5]]\n",
      "Normalized confusion matrix\n",
      "[[1.    0.   ]\n",
      " [0.375 0.625]]\n"
     ]
    },
    {
     "data": {
      "image/png": "[encoded data removed]",
      "text/plain": [
       "<Figure size 432x288 with 2 Axes>"
      ]
     },
     "metadata": {
      "needs_background": "light"
     },
     "output_type": "display_data"
    },
    {
     "data": {
      "image/png": "[encoded data removed]",
      "text/plain": [
       "<Figure size 432x288 with 2 Axes>"
      ]
     },
     "metadata": {
      "needs_background": "light"
     },
     "output_type": "display_data"
    },
    {
     "name": "stdout",
     "output_type": "stream",
     "text": [
      "Accuracy score : 0.8235294117647058\n"
     ]
    }
   ],
   "source": [
    "from sklearn.metrics import ConfusionMatrixDisplay,accuracy_score\n",
    "\n",
    "titles_options = [\n",
    "    (\"Confusion matrix, without normalization\", None),\n",
    "    (\"Normalized confusion matrix\", \"true\"),\n",
    "]\n",
    "for title, normalize in titles_options:\n",
    "    disp = ConfusionMatrixDisplay.from_estimator(\n",
    "        classifier,\n",
    "        X_test,\n",
    "        y_test,\n",
    "        display_labels=None ,\n",
    "        cmap=plt.cm.Blues,\n",
    "        normalize=normalize,\n",
    "    )\n",
    "    disp.ax_.set_title(title)\n",
    "\n",
    "    print(title)\n",
    "    print(disp.confusion_matrix)\n",
    "\n",
    "plt.show()\n",
    "print(\"Accuracy score : \" + str(accuracy_score(y_test, y_pred,  normalize=True, sample_weight=None)))"
   ]
  },
  {
   "cell_type": "code",
   "execution_count": 1068,
   "id": "a3cc1db6",
   "metadata": {},
   "outputs": [],
   "source": [
    "# from matplotlib.colors import ListedColormap\n",
    "# X_set, y_set = sc.inverse_transform(X_train), y_train\n",
    "# X1, X2 = np.meshgrid(np.arange(start = X_set[:, 0].min() - 0.1, stop = X_set[:, 0].max() + 0.1, step = 0.001),\n",
    "#                      np.arange(start = X_set[:, 1].min() - 10, stop = X_set[:, 1].max() + 10, step = 0.001))\n",
    "# plt.contourf(X1, X2, classifier.predict(sc.transform(np.array([X1.ravel(), X2.ravel()]).T)).reshape(X1.shape),\n",
    "#              alpha = 0.75, cmap = ListedColormap(('red', 'green')))\n",
    "# plt.xlim(X1.min(), X1.max())\n",
    "# plt.ylim(X2.min(), X2.max())\n",
    "# for i, j in enumerate(np.unique(y_set)):\n",
    "#     plt.scatter(X_set[y_set == j, 0], X_set[y_set == j, 1], c = ListedColormap(('red', 'green'))(i), label = j)\n",
    "# plt.title('SVC rbf kernel  (Training set)')\n",
    "# plt.xlabel('SDi')\n",
    "# plt.ylabel('afTap')\n",
    "# plt.legend()\n",
    "# plt.show()"
   ]
  },
  {
   "cell_type": "code",
   "execution_count": 1069,
   "id": "c9018537",
   "metadata": {
    "scrolled": true
   },
   "outputs": [],
   "source": [
    "# from matplotlib.colors import ListedColormap\n",
    "# X_set, y_set = sc.inverse_transform(X_test), y_test\n",
    "# X1, X2 = np.meshgrid(np.arange(start = X_set[:, 0].min() - 0.1, stop = X_set[:, 0].max() + 0.1, step = 0.001),\n",
    "#                      np.arange(start = X_set[:, 1].min() - 10, stop = X_set[:, 1].max() + 10, step = 0.001))\n",
    "# plt.contourf(X1, X2, classifier.predict(sc.transform(np.array([X1.ravel(), X2.ravel()]).T)).reshape(X1.shape),\n",
    "#              alpha = 0.75, cmap = ListedColormap(('red', 'green')))\n",
    "# plt.xlim(X1.min(), X1.max())\n",
    "# plt.ylim(X2.min(), X2.max())\n",
    "# for i, j in enumerate(np.unique(y_set)):\n",
    "#     plt.scatter(X_set[y_set == j, 0], X_set[y_set == j, 1], c = ListedColormap(('red', 'green'))(i), label = j)\n",
    "# plt.title('SVC rbf kernel (Test set)')\n",
    "# plt.xlabel('SDi')\n",
    "# plt.ylabel(' afTap')\n",
    "# plt.legend()\n",
    "# plt.show()"
   ]
  },
  {
   "cell_type": "code",
   "execution_count": 1070,
   "id": "e32f795f",
   "metadata": {},
   "outputs": [
    {
     "name": "stderr",
     "output_type": "stream",
     "text": [
      "C:\\Python310\\lib\\site-packages\\sklearn\\utils\\deprecation.py:87: FutureWarning: Function plot_roc_curve is deprecated; This will be removed in v0.5.0. Please use scikitplot.metrics.plot_roc instead.\n",
      "  warnings.warn(msg, category=FutureWarning)\n"
     ]
    },
    {
     "data": {
      "image/png": "[encoded data removed]",
      "text/plain": [
       "<Figure size 864x432 with 1 Axes>"
      ]
     },
     "metadata": {
      "needs_background": "light"
     },
     "output_type": "display_data"
    }
   ],
   "source": [
    "import scikitplot as skplt\n",
    "Y_test_probs = classifier.predict_proba(X_test)\n",
    "\n",
    "skplt.metrics.plot_roc_curve(y_test, Y_test_probs,\n",
    "                       title=\" ROC Curve\", figsize=(12,6));"
   ]
  },
  {
   "cell_type": "code",
   "execution_count": 1071,
   "id": "2fbad88f",
   "metadata": {},
   "outputs": [
    {
     "data": {
      "text/plain": [
       "GaussianNB()"
      ]
     },
     "execution_count": 1071,
     "metadata": {},
     "output_type": "execute_result"
    }
   ],
   "source": [
    "from sklearn.naive_bayes import GaussianNB\n",
    "classifier = GaussianNB()\n",
    "classifier.fit(X_train,y_train)"
   ]
  },
  {
   "cell_type": "code",
   "execution_count": 1072,
   "id": "9d2a102b",
   "metadata": {
    "scrolled": true
   },
   "outputs": [
    {
     "name": "stdout",
     "output_type": "stream",
     "text": [
      "[[0 0]\n",
      " [0 0]\n",
      " [1 1]\n",
      " [0 0]\n",
      " [0 0]\n",
      " [0 1]\n",
      " [1 1]\n",
      " [0 0]\n",
      " [0 1]\n",
      " [1 1]\n",
      " [0 0]\n",
      " [0 0]\n",
      " [1 1]\n",
      " [1 1]\n",
      " [1 1]\n",
      " [0 0]\n",
      " [0 0]]\n"
     ]
    }
   ],
   "source": [
    "y_pred = classifier.predict(X_test)\n",
    "print(np.concatenate((y_pred.reshape(len(y_pred),1), y_test.reshape(len(y_test),1)),1))"
   ]
  },
  {
   "cell_type": "code",
   "execution_count": 1073,
   "id": "b0d88ca5",
   "metadata": {
    "scrolled": false
   },
   "outputs": [
    {
     "name": "stdout",
     "output_type": "stream",
     "text": [
      "Confusion matrix, without normalization\n",
      "[[9 0]\n",
      " [2 6]]\n",
      "Normalized confusion matrix\n",
      "[[1.   0.  ]\n",
      " [0.25 0.75]]\n"
     ]
    },
    {
     "data": {
      "image/png": "[encoded data removed]",
      "text/plain": [
       "<Figure size 432x288 with 2 Axes>"
      ]
     },
     "metadata": {
      "needs_background": "light"
     },
     "output_type": "display_data"
    },
    {
     "data": {
      "image/png": "[encoded data removed]",
      "text/plain": [
       "<Figure size 432x288 with 2 Axes>"
      ]
     },
     "metadata": {
      "needs_background": "light"
     },
     "output_type": "display_data"
    },
    {
     "name": "stdout",
     "output_type": "stream",
     "text": [
      "Accuracy score : 0.8823529411764706\n"
     ]
    }
   ],
   "source": [
    "from sklearn.metrics import ConfusionMatrixDisplay,accuracy_score\n",
    "\n",
    "titles_options = [\n",
    "    (\"Confusion matrix, without normalization\", None),\n",
    "    (\"Normalized confusion matrix\", \"true\"),\n",
    "]\n",
    "for title, normalize in titles_options:\n",
    "    disp = ConfusionMatrixDisplay.from_estimator(\n",
    "        classifier,\n",
    "        X_test,\n",
    "        y_test,\n",
    "        display_labels=None ,\n",
    "        cmap=plt.cm.Blues,\n",
    "        normalize=normalize,\n",
    "    )\n",
    "    disp.ax_.set_title(title)\n",
    "\n",
    "    print(title)\n",
    "    print(disp.confusion_matrix)\n",
    "\n",
    "plt.show()\n",
    "print(\"Accuracy score : \" + str(accuracy_score(y_test, y_pred,  normalize=True, sample_weight=None)))"
   ]
  },
  {
   "cell_type": "code",
   "execution_count": 1074,
   "id": "8deb8db4",
   "metadata": {},
   "outputs": [],
   "source": [
    "# from matplotlib.colors import ListedColormap\n",
    "# X_set, y_set = sc.inverse_transform(X_train), y_train\n",
    "# X1, X2 = np.meshgrid(np.arange(start = X_set[:, 0].min() - 0.1, stop = X_set[:, 0].max() + 0.1, step = 0.001),\n",
    "#                      np.arange(start = X_set[:, 1].min() - 10, stop = X_set[:, 1].max() + 10, step = 0.001))\n",
    "# plt.contourf(X1, X2, classifier.predict(sc.transform(np.array([X1.ravel(), X2.ravel()]).T)).reshape(X1.shape),\n",
    "#              alpha = 0.75, cmap = ListedColormap(('red', 'green')))\n",
    "# plt.xlim(X1.min(), X1.max())\n",
    "# plt.ylim(X2.min(), X2.max())\n",
    "# for i, j in enumerate(np.unique(y_set)):\n",
    "#     plt.scatter(X_set[y_set == j, 0], X_set[y_set == j, 1], c = ListedColormap(('red', 'green'))(i), label = j)\n",
    "# plt.title('Naive Bayes (Training set)')\n",
    "# plt.xlabel('Age')\n",
    "# plt.ylabel('Estimated Salary')\n",
    "# plt.legend()\n",
    "# plt.show()"
   ]
  },
  {
   "cell_type": "code",
   "execution_count": 1075,
   "id": "5b052987",
   "metadata": {},
   "outputs": [],
   "source": [
    "# from matplotlib.colors import ListedColormap\n",
    "# X_set, y_set = sc.inverse_transform(X_test), y_test\n",
    "# X1, X2 = np.meshgrid(np.arange(start = X_set[:, 0].min() - 0.1, stop = X_set[:, 0].max() + 0.1, step = 0.001),\n",
    "#                      np.arange(start = X_set[:, 1].min() - 10, stop = X_set[:, 1].max() + 10, step = 0.001))\n",
    "# plt.contourf(X1, X2, classifier.predict(sc.transform(np.array([X1.ravel(), X2.ravel()]).T)).reshape(X1.shape),\n",
    "#              alpha = 0.75, cmap = ListedColormap(('red', 'green')))\n",
    "# plt.xlim(X1.min(), X1.max())\n",
    "# plt.ylim(X2.min(), X2.max())\n",
    "# for i, j in enumerate(np.unique(y_set)):\n",
    "#     plt.scatter(X_set[y_set == j, 0], X_set[y_set == j, 1], c = ListedColormap(('red', 'green'))(i), label = j)\n",
    "# plt.title('Naive Bayes (Test set)')\n",
    "# plt.xlabel('Age')\n",
    "# plt.ylabel('Estimated Salary')\n",
    "# plt.legend()\n",
    "# plt.show()"
   ]
  },
  {
   "cell_type": "code",
   "execution_count": 1076,
   "id": "634d94a4",
   "metadata": {},
   "outputs": [
    {
     "name": "stderr",
     "output_type": "stream",
     "text": [
      "C:\\Python310\\lib\\site-packages\\sklearn\\utils\\deprecation.py:87: FutureWarning: Function plot_roc_curve is deprecated; This will be removed in v0.5.0. Please use scikitplot.metrics.plot_roc instead.\n",
      "  warnings.warn(msg, category=FutureWarning)\n"
     ]
    },
    {
     "data": {
      "image/png": "[encoded data removed]",
      "text/plain": [
       "<Figure size 864x432 with 1 Axes>"
      ]
     },
     "metadata": {
      "needs_background": "light"
     },
     "output_type": "display_data"
    }
   ],
   "source": [
    "import scikitplot as skplt\n",
    "Y_test_probs = classifier.predict_proba(X_test)\n",
    "\n",
    "skplt.metrics.plot_roc_curve(y_test, Y_test_probs,\n",
    "                       title=\" ROC Curve\", figsize=(12,6));"
   ]
  },
  {
   "cell_type": "code",
   "execution_count": 1077,
   "id": "b8b1616c",
   "metadata": {},
   "outputs": [
    {
     "data": {
      "text/plain": [
       "RandomForestClassifier(criterion='entropy', n_estimators=6)"
      ]
     },
     "execution_count": 1077,
     "metadata": {},
     "output_type": "execute_result"
    }
   ],
   "source": [
    "from sklearn.ensemble import RandomForestClassifier\n",
    "classifier = RandomForestClassifier(n_estimators = 6, criterion = 'entropy')\n",
    "classifier.fit(X_train,y_train)"
   ]
  },
  {
   "cell_type": "code",
   "execution_count": 1078,
   "id": "e672d94e",
   "metadata": {},
   "outputs": [
    {
     "name": "stdout",
     "output_type": "stream",
     "text": [
      "[[1 0]\n",
      " [1 0]\n",
      " [0 1]\n",
      " [0 0]\n",
      " [0 0]\n",
      " [0 1]\n",
      " [1 1]\n",
      " [0 0]\n",
      " [0 1]\n",
      " [1 1]\n",
      " [0 0]\n",
      " [0 0]\n",
      " [0 1]\n",
      " [1 1]\n",
      " [1 1]\n",
      " [0 0]\n",
      " [1 0]]\n"
     ]
    }
   ],
   "source": [
    "y_pred = classifier.predict(X_test)\n",
    "print(np.concatenate((y_pred.reshape(len(y_pred),1), y_test.reshape(len(y_test),1)),1))"
   ]
  },
  {
   "cell_type": "code",
   "execution_count": 1079,
   "id": "ede9f38f",
   "metadata": {
    "scrolled": false
   },
   "outputs": [
    {
     "name": "stdout",
     "output_type": "stream",
     "text": [
      "Confusion matrix, without normalization\n",
      "[[6 3]\n",
      " [4 4]]\n",
      "Normalized confusion matrix\n",
      "[[0.66666667 0.33333333]\n",
      " [0.5        0.5       ]]\n"
     ]
    },
    {
     "data": {
      "image/png": "[encoded data removed]",
      "text/plain": [
       "<Figure size 432x288 with 2 Axes>"
      ]
     },
     "metadata": {
      "needs_background": "light"
     },
     "output_type": "display_data"
    },
    {
     "data": {
      "image/png": "[encoded data removed]",
      "text/plain": [
       "<Figure size 432x288 with 2 Axes>"
      ]
     },
     "metadata": {
      "needs_background": "light"
     },
     "output_type": "display_data"
    },
    {
     "name": "stdout",
     "output_type": "stream",
     "text": [
      "Accuracy score : 0.5882352941176471\n"
     ]
    }
   ],
   "source": [
    "from sklearn.metrics import ConfusionMatrixDisplay,accuracy_score\n",
    "\n",
    "titles_options = [\n",
    "    (\"Confusion matrix, without normalization\", None),\n",
    "    (\"Normalized confusion matrix\", \"true\"),\n",
    "]\n",
    "for title, normalize in titles_options:\n",
    "    disp = ConfusionMatrixDisplay.from_estimator(\n",
    "        classifier,\n",
    "        X_test,\n",
    "        y_test,\n",
    "        display_labels=None ,\n",
    "        cmap=plt.cm.Blues,\n",
    "        normalize=normalize,\n",
    "    )\n",
    "    disp.ax_.set_title(title)\n",
    "\n",
    "    print(title)\n",
    "    print(disp.confusion_matrix)\n",
    "\n",
    "plt.show()\n",
    "print(\"Accuracy score : \" + str(accuracy_score(y_test, y_pred,  normalize=True, sample_weight=None)))"
   ]
  },
  {
   "cell_type": "code",
   "execution_count": 1080,
   "id": "479becf7",
   "metadata": {},
   "outputs": [],
   "source": [
    "# from matplotlib.colors import ListedColormap\n",
    "# X_set, y_set = sc.inverse_transform(X_train), y_train\n",
    "# X1, X2 = np.meshgrid(np.arange(start = X_set[:, 0].min() - 0.1, stop = X_set[:, 0].max() + 0.1, step = 0.001),\n",
    "#                      np.arange(start = X_set[:, 1].min() - 10, stop = X_set[:, 1].max() + 10, step = 0.001))\n",
    "# plt.contourf(X1, X2, classifier.predict(sc.transform(np.array([X1.ravel(), X2.ravel()]).T)).reshape(X1.shape),\n",
    "#              alpha = 0.75, cmap = ListedColormap(('red', 'green')))\n",
    "# plt.xlim(X1.min(), X1.max())\n",
    "# plt.ylim(X2.min(), X2.max())\n",
    "# for i, j in enumerate(np.unique(y_set)):\n",
    "#     plt.scatter(X_set[y_set == j, 0], X_set[y_set == j, 1], c = ListedColormap(('red', 'green'))(i), label = j)\n",
    "# plt.title('Ranom forest ensemlbed classifier  (Training set)')\n",
    "# plt.xlabel('Age')\n",
    "# plt.ylabel('Estimated Salary')\n",
    "# plt.legend()\n",
    "# plt.show()"
   ]
  },
  {
   "cell_type": "code",
   "execution_count": 1081,
   "id": "ec5b4399",
   "metadata": {},
   "outputs": [],
   "source": [
    "# from matplotlib.colors import ListedColormap\n",
    "# X_set, y_set = sc.inverse_transform(X_test), y_test\n",
    "# X1, X2 = np.meshgrid(np.arange(start = X_set[:, 0].min() - 0.1, stop = X_set[:, 0].max() + 0.1, step = 0.001),\n",
    "#                      np.arange(start = X_set[:, 1].min() - 10, stop = X_set[:, 1].max() + 10, step = 0.001))\n",
    "# plt.contourf(X1, X2, classifier.predict(sc.transform(np.array([X1.ravel(), X2.ravel()]).T)).reshape(X1.shape),\n",
    "#              alpha = 0.75, cmap = ListedColormap(('red', 'green')))\n",
    "# plt.xlim(X1.min(), X1.max())\n",
    "# plt.ylim(X2.min(), X2.max())\n",
    "# for i, j in enumerate(np.unique(y_set)):\n",
    "#     plt.scatter(X_set[y_set == j, 0], X_set[y_set == j, 1], c = ListedColormap(('red', 'green'))(i), label = j)\n",
    "# plt.title('Naive Bayes (Test set)')\n",
    "# plt.xlabel('Age')\n",
    "# plt.ylabel('Estimated Salary')\n",
    "# plt.legend()\n",
    "# plt.show()"
   ]
  },
  {
   "cell_type": "code",
   "execution_count": 1082,
   "id": "86335ee8",
   "metadata": {},
   "outputs": [
    {
     "data": {
      "text/plain": [
       "BaggingClassifier(base_estimator=SVC(), n_estimators=100)"
      ]
     },
     "execution_count": 1082,
     "metadata": {},
     "output_type": "execute_result"
    }
   ],
   "source": [
    "from sklearn.ensemble import BaggingClassifier\n",
    "from sklearn.svm import SVC\n",
    "from sklearn.naive_bayes import GaussianNB\n",
    "nb = GaussianNB()\n",
    "svc = SVC()\n",
    "classifier = BaggingClassifier(base_estimator=svc , n_estimators=100)\n",
    "classifier.fit(X_train,y_train)"
   ]
  },
  {
   "cell_type": "code",
   "execution_count": 1083,
   "id": "43ab53ce",
   "metadata": {},
   "outputs": [
    {
     "name": "stdout",
     "output_type": "stream",
     "text": [
      "[[0 0]\n",
      " [0 0]\n",
      " [1 1]\n",
      " [0 0]\n",
      " [0 0]\n",
      " [0 1]\n",
      " [0 1]\n",
      " [0 0]\n",
      " [0 1]\n",
      " [1 1]\n",
      " [0 0]\n",
      " [1 0]\n",
      " [1 1]\n",
      " [1 1]\n",
      " [1 1]\n",
      " [0 0]\n",
      " [0 0]]\n"
     ]
    }
   ],
   "source": [
    "y_pred = classifier.predict(X_test)\n",
    "print(np.concatenate((y_pred.reshape(len(y_pred),1), y_test.reshape(len(y_test),1)),1))"
   ]
  },
  {
   "cell_type": "code",
   "execution_count": 1084,
   "id": "36447641",
   "metadata": {
    "scrolled": false
   },
   "outputs": [
    {
     "name": "stdout",
     "output_type": "stream",
     "text": [
      "Confusion matrix, without normalization\n",
      "[[8 1]\n",
      " [3 5]]\n",
      "Normalized confusion matrix\n",
      "[[0.88888889 0.11111111]\n",
      " [0.375      0.625     ]]\n"
     ]
    },
    {
     "data": {
      "image/png": "[encoded data removed]",
      "text/plain": [
       "<Figure size 432x288 with 2 Axes>"
      ]
     },
     "metadata": {
      "needs_background": "light"
     },
     "output_type": "display_data"
    },
    {
     "data": {
      "image/png": "[encoded data removed]",
      "text/plain": [
       "<Figure size 432x288 with 2 Axes>"
      ]
     },
     "metadata": {
      "needs_background": "light"
     },
     "output_type": "display_data"
    },
    {
     "name": "stdout",
     "output_type": "stream",
     "text": [
      "Accuracy score : 0.7647058823529411\n"
     ]
    }
   ],
   "source": [
    "from sklearn.metrics import ConfusionMatrixDisplay,accuracy_score\n",
    "\n",
    "titles_options = [\n",
    "    (\"Confusion matrix, without normalization\", None),\n",
    "    (\"Normalized confusion matrix\", \"true\"),\n",
    "]\n",
    "for title, normalize in titles_options:\n",
    "    disp = ConfusionMatrixDisplay.from_estimator(\n",
    "        classifier,\n",
    "        X_test,\n",
    "        y_test,\n",
    "        display_labels=None ,\n",
    "        cmap=plt.cm.Blues,\n",
    "        normalize=normalize,\n",
    "    )\n",
    "    disp.ax_.set_title(title)\n",
    "\n",
    "    print(title)\n",
    "    print(disp.confusion_matrix)\n",
    "\n",
    "plt.show()\n",
    "print(\"Accuracy score : \" + str(accuracy_score(y_test, y_pred,  normalize=True, sample_weight=None)))"
   ]
  },
  {
   "cell_type": "code",
   "execution_count": 1085,
   "id": "b7e133db",
   "metadata": {},
   "outputs": [
    {
     "data": {
      "text/plain": [
       "0.6444444444444445"
      ]
     },
     "execution_count": 1085,
     "metadata": {},
     "output_type": "execute_result"
    }
   ],
   "source": [
    "from sklearn.tree import DecisionTreeClassifier\n",
    "from sklearn.model_selection import cross_val_score\n",
    "\n",
    "scores = cross_val_score(DecisionTreeClassifier(),X,y,cv=10)\n",
    "scores.mean()"
   ]
  },
  {
   "cell_type": "code",
   "execution_count": 1086,
   "id": "b403ceb9",
   "metadata": {
    "scrolled": true
   },
   "outputs": [
    {
     "name": "stderr",
     "output_type": "stream",
     "text": [
      "C:\\Python310\\lib\\site-packages\\sklearn\\ensemble\\_bagging.py:706: UserWarning: Some inputs do not have OOB scores. This probably means too few estimators were used to compute any reliable oob estimates.\n",
      "  warn(\n",
      "C:\\Python310\\lib\\site-packages\\sklearn\\ensemble\\_bagging.py:712: RuntimeWarning: invalid value encountered in true_divide\n",
      "  oob_decision_function = predictions / predictions.sum(axis=1)[:, np.newaxis]\n",
      "C:\\Python310\\lib\\site-packages\\sklearn\\ensemble\\_bagging.py:706: UserWarning: Some inputs do not have OOB scores. This probably means too few estimators were used to compute any reliable oob estimates.\n",
      "  warn(\n",
      "C:\\Python310\\lib\\site-packages\\sklearn\\ensemble\\_bagging.py:712: RuntimeWarning: invalid value encountered in true_divide\n",
      "  oob_decision_function = predictions / predictions.sum(axis=1)[:, np.newaxis]\n",
      "C:\\Python310\\lib\\site-packages\\sklearn\\ensemble\\_bagging.py:706: UserWarning: Some inputs do not have OOB scores. This probably means too few estimators were used to compute any reliable oob estimates.\n",
      "  warn(\n",
      "C:\\Python310\\lib\\site-packages\\sklearn\\ensemble\\_bagging.py:712: RuntimeWarning: invalid value encountered in true_divide\n",
      "  oob_decision_function = predictions / predictions.sum(axis=1)[:, np.newaxis]\n",
      "C:\\Python310\\lib\\site-packages\\sklearn\\ensemble\\_bagging.py:706: UserWarning: Some inputs do not have OOB scores. This probably means too few estimators were used to compute any reliable oob estimates.\n",
      "  warn(\n",
      "C:\\Python310\\lib\\site-packages\\sklearn\\ensemble\\_bagging.py:712: RuntimeWarning: invalid value encountered in true_divide\n",
      "  oob_decision_function = predictions / predictions.sum(axis=1)[:, np.newaxis]\n",
      "C:\\Python310\\lib\\site-packages\\sklearn\\ensemble\\_bagging.py:706: UserWarning: Some inputs do not have OOB scores. This probably means too few estimators were used to compute any reliable oob estimates.\n",
      "  warn(\n",
      "C:\\Python310\\lib\\site-packages\\sklearn\\ensemble\\_bagging.py:712: RuntimeWarning: invalid value encountered in true_divide\n",
      "  oob_decision_function = predictions / predictions.sum(axis=1)[:, np.newaxis]\n",
      "C:\\Python310\\lib\\site-packages\\sklearn\\ensemble\\_bagging.py:706: UserWarning: Some inputs do not have OOB scores. This probably means too few estimators were used to compute any reliable oob estimates.\n",
      "  warn(\n",
      "C:\\Python310\\lib\\site-packages\\sklearn\\ensemble\\_bagging.py:712: RuntimeWarning: invalid value encountered in true_divide\n",
      "  oob_decision_function = predictions / predictions.sum(axis=1)[:, np.newaxis]\n",
      "C:\\Python310\\lib\\site-packages\\sklearn\\ensemble\\_bagging.py:706: UserWarning: Some inputs do not have OOB scores. This probably means too few estimators were used to compute any reliable oob estimates.\n",
      "  warn(\n",
      "C:\\Python310\\lib\\site-packages\\sklearn\\ensemble\\_bagging.py:712: RuntimeWarning: invalid value encountered in true_divide\n",
      "  oob_decision_function = predictions / predictions.sum(axis=1)[:, np.newaxis]\n",
      "C:\\Python310\\lib\\site-packages\\sklearn\\ensemble\\_bagging.py:706: UserWarning: Some inputs do not have OOB scores. This probably means too few estimators were used to compute any reliable oob estimates.\n",
      "  warn(\n",
      "C:\\Python310\\lib\\site-packages\\sklearn\\ensemble\\_bagging.py:712: RuntimeWarning: invalid value encountered in true_divide\n",
      "  oob_decision_function = predictions / predictions.sum(axis=1)[:, np.newaxis]\n",
      "C:\\Python310\\lib\\site-packages\\sklearn\\ensemble\\_bagging.py:706: UserWarning: Some inputs do not have OOB scores. This probably means too few estimators were used to compute any reliable oob estimates.\n",
      "  warn(\n",
      "C:\\Python310\\lib\\site-packages\\sklearn\\ensemble\\_bagging.py:712: RuntimeWarning: invalid value encountered in true_divide\n",
      "  oob_decision_function = predictions / predictions.sum(axis=1)[:, np.newaxis]\n",
      "C:\\Python310\\lib\\site-packages\\sklearn\\ensemble\\_bagging.py:706: UserWarning: Some inputs do not have OOB scores. This probably means too few estimators were used to compute any reliable oob estimates.\n",
      "  warn(\n",
      "C:\\Python310\\lib\\site-packages\\sklearn\\ensemble\\_bagging.py:712: RuntimeWarning: invalid value encountered in true_divide\n",
      "  oob_decision_function = predictions / predictions.sum(axis=1)[:, np.newaxis]\n"
     ]
    },
    {
     "data": {
      "text/plain": [
       "0.6569444444444444"
      ]
     },
     "execution_count": 1086,
     "metadata": {},
     "output_type": "execute_result"
    }
   ],
   "source": [
    "from sklearn.ensemble import BaggingClassifier\n",
    "bag_model = BaggingClassifier(\n",
    "base_estimator = DecisionTreeClassifier(),\n",
    "n_estimators = 5,\n",
    "max_samples = 0.7,\n",
    "oob_score=True,\n",
    ")\n",
    "scores = cross_val_score(bag_model,X,y,cv=10)\n",
    "scores.mean()"
   ]
  },
  {
   "cell_type": "code",
   "execution_count": 1087,
   "id": "80cd23d5",
   "metadata": {},
   "outputs": [],
   "source": [
    "from sklearn.metrics import ConfusionMatrixDisplay,accuracy_score\n",
    "from sklearn.model_selection import cross_val_score\n",
    "from sklearn.model_selection import KFold\n",
    "\n",
    "def testClassifier(classifier,X_train,X_test,y_train,y_test):\n",
    "    classifier.fit(X_train,y_train)\n",
    "    y_pred =  classifier.predict(X_test)\n",
    "    titles_options = [\n",
    "    (\"Confusion matrix, without normalization\", None),\n",
    "    (\"Normalized confusion matrix\", \"true\"),]\n",
    "    for title, normalize in titles_options:\n",
    "        disp = ConfusionMatrixDisplay.from_estimator(\n",
    "            classifier,\n",
    "            X_test,\n",
    "            y_test,\n",
    "            display_labels=None ,\n",
    "            cmap=plt.cm.Blues,\n",
    "            normalize=normalize,\n",
    "        )\n",
    "        disp.ax_.set_title(title)\n",
    "\n",
    "        print(title)\n",
    "        print(disp.confusion_matrix)\n",
    "\n",
    "    plt.show()\n",
    "    print(\"Accuracy score : \" + str(accuracy_score(y_test, y_pred,  normalize=True, sample_weight=None)))\n",
    "    X = np.concatenate((X_train, X_test), axis=0) \n",
    "    y = np.concatenate((y_train, y_test), axis=0)\n",
    "    scores = cross_val_score(classifier,X,y,cv=5)\n",
    "    print(\"Mean accuracy of 5 fold cross validation test : \"+ str(scores.mean()))\n",
    "    print(\"with a maximum accuracy of \" + str(scores.max()))\n",
    "    scores = cross_val_score(classifier,X,y,cv=10)\n",
    "    print(\"Mean accuracy of 10 fold cross validation test : \"+ str(scores.mean()))\n",
    "    print(\"with a maximum accuracy of \" + str(scores.max()))\n",
    "    scores = cross_val_score(classifier,X,y,cv=KFold(85))\n",
    "    print(\"Mean accuracy of n fold cross validation test : \"+ str(scores.mean()))\n",
    "    print(\"with a maximum accuracy of \" + str(scores.max()))\n",
    "    scores = cross_val_score(classifier,X,y,cv=KFold())\n",
    "    print(\"Mean accuracy of n fold cross validation test : \"+ str(scores.mean()))\n",
    "    print(\"with a maximum accuracy of \" + str(scores.max()))"
   ]
  },
  {
   "cell_type": "code",
   "execution_count": 1088,
   "id": "2ec8ae21",
   "metadata": {
    "scrolled": false
   },
   "outputs": [
    {
     "name": "stdout",
     "output_type": "stream",
     "text": [
      "Confusion matrix, without normalization\n",
      "[[9 0]\n",
      " [3 5]]\n",
      "Normalized confusion matrix\n",
      "[[1.    0.   ]\n",
      " [0.375 0.625]]\n"
     ]
    },
    {
     "data": {
      "image/png": "[encoded data removed]",
      "text/plain": [
       "<Figure size 432x288 with 2 Axes>"
      ]
     },
     "metadata": {
      "needs_background": "light"
     },
     "output_type": "display_data"
    },
    {
     "data": {
      "image/png": "[encoded data removed]",
      "text/plain": [
       "<Figure size 432x288 with 2 Axes>"
      ]
     },
     "metadata": {
      "needs_background": "light"
     },
     "output_type": "display_data"
    },
    {
     "name": "stdout",
     "output_type": "stream",
     "text": [
      "Accuracy score : 0.8235294117647058\n",
      "Mean accuracy of 5 fold cross validation test : 0.7058823529411764\n",
      "with a maximum accuracy of 0.7647058823529411\n",
      "Mean accuracy of 10 fold cross validation test : 0.7444444444444445\n",
      "with a maximum accuracy of 1.0\n",
      "Mean accuracy of n fold cross validation test : 0.7058823529411765\n",
      "with a maximum accuracy of 1.0\n",
      "Mean accuracy of n fold cross validation test : 0.7176470588235293\n",
      "with a maximum accuracy of 0.8235294117647058\n"
     ]
    }
   ],
   "source": [
    "classifier = SVC()\n",
    "testClassifier(classifier,X_train,X_test,y_train,y_test)"
   ]
  },
  {
   "cell_type": "code",
   "execution_count": 1089,
   "id": "32162277",
   "metadata": {
    "scrolled": true
   },
   "outputs": [
    {
     "name": "stdout",
     "output_type": "stream",
     "text": [
      "Confusion matrix, without normalization\n",
      "[[9 0]\n",
      " [3 5]]\n",
      "Normalized confusion matrix\n",
      "[[1.    0.   ]\n",
      " [0.375 0.625]]\n"
     ]
    },
    {
     "data": {
      "image/png": "[encoded data removed]",
      "text/plain": [
       "<Figure size 432x288 with 2 Axes>"
      ]
     },
     "metadata": {
      "needs_background": "light"
     },
     "output_type": "display_data"
    },
    {
     "data": {
      "image/png": "[encoded data removed]",
      "text/plain": [
       "<Figure size 432x288 with 2 Axes>"
      ]
     },
     "metadata": {
      "needs_background": "light"
     },
     "output_type": "display_data"
    },
    {
     "name": "stdout",
     "output_type": "stream",
     "text": [
      "Accuracy score : 0.8235294117647058\n",
      "Mean accuracy of 5 fold cross validation test : 0.7058823529411764\n",
      "with a maximum accuracy of 0.7647058823529411\n",
      "Mean accuracy of 10 fold cross validation test : 0.7444444444444445\n",
      "with a maximum accuracy of 1.0\n",
      "Mean accuracy of n fold cross validation test : 0.7058823529411765\n",
      "with a maximum accuracy of 1.0\n",
      "Mean accuracy of n fold cross validation test : 0.7176470588235293\n",
      "with a maximum accuracy of 0.8235294117647058\n"
     ]
    }
   ],
   "source": [
    "classifer = bag_model = BaggingClassifier(\n",
    "base_estimator = DecisionTreeClassifier(),\n",
    "n_estimators = 5,\n",
    "max_samples = 0.7,\n",
    "oob_score=True,\n",
    ")\n",
    "testClassifier(classifier,X_train,X_test,y_train,y_test)"
   ]
  },
  {
   "cell_type": "code",
   "execution_count": 1090,
   "id": "7724a783",
   "metadata": {},
   "outputs": [
    {
     "name": "stdout",
     "output_type": "stream",
     "text": [
      "Confusion matrix, without normalization\n",
      "[[7 2]\n",
      " [3 5]]\n",
      "Normalized confusion matrix\n",
      "[[0.77777778 0.22222222]\n",
      " [0.375      0.625     ]]\n"
     ]
    },
    {
     "data": {
      "image/png": "[encoded data removed]",
      "text/plain": [
       "<Figure size 432x288 with 2 Axes>"
      ]
     },
     "metadata": {
      "needs_background": "light"
     },
     "output_type": "display_data"
    },
    {
     "data": {
      "image/png": "[encoded data removed]",
      "text/plain": [
       "<Figure size 432x288 with 2 Axes>"
      ]
     },
     "metadata": {
      "needs_background": "light"
     },
     "output_type": "display_data"
    },
    {
     "name": "stdout",
     "output_type": "stream",
     "text": [
      "Accuracy score : 0.7058823529411765\n",
      "Mean accuracy of 5 fold cross validation test : 0.7764705882352941\n",
      "with a maximum accuracy of 0.8823529411764706\n",
      "Mean accuracy of 10 fold cross validation test : 0.775\n",
      "with a maximum accuracy of 1.0\n",
      "Mean accuracy of n fold cross validation test : 0.7647058823529411\n",
      "with a maximum accuracy of 1.0\n",
      "Mean accuracy of n fold cross validation test : 0.7529411764705882\n",
      "with a maximum accuracy of 0.9411764705882353\n"
     ]
    }
   ],
   "source": [
    "from sklearn.discriminant_analysis import LinearDiscriminantAnalysis as LDA\n",
    "\n",
    "classifier = LDA(n_components=1)\n",
    "testClassifier(classifier,X_train,X_test,y_train,y_test)"
   ]
  },
  {
   "cell_type": "code",
   "execution_count": 1091,
   "id": "fb03c2b3",
   "metadata": {
    "scrolled": false
   },
   "outputs": [
    {
     "name": "stdout",
     "output_type": "stream",
     "text": [
      "Confusion matrix, without normalization\n",
      "[[9 0]\n",
      " [2 6]]\n",
      "Normalized confusion matrix\n",
      "[[1.   0.  ]\n",
      " [0.25 0.75]]\n"
     ]
    },
    {
     "data": {
      "image/png": "[encoded data removed]",
      "text/plain": [
       "<Figure size 432x288 with 2 Axes>"
      ]
     },
     "metadata": {
      "needs_background": "light"
     },
     "output_type": "display_data"
    },
    {
     "data": {
      "image/png": "[encoded data removed]",
      "text/plain": [
       "<Figure size 432x288 with 2 Axes>"
      ]
     },
     "metadata": {
      "needs_background": "light"
     },
     "output_type": "display_data"
    },
    {
     "name": "stdout",
     "output_type": "stream",
     "text": [
      "Accuracy score : 0.8823529411764706\n",
      "Mean accuracy of 5 fold cross validation test : 0.6823529411764706\n",
      "with a maximum accuracy of 0.8823529411764706\n",
      "Mean accuracy of 10 fold cross validation test : 0.65\n",
      "with a maximum accuracy of 1.0\n",
      "Mean accuracy of n fold cross validation test : 0.6470588235294118\n",
      "with a maximum accuracy of 1.0\n",
      "Mean accuracy of n fold cross validation test : 0.6588235294117648\n",
      "with a maximum accuracy of 0.8823529411764706\n"
     ]
    }
   ],
   "source": [
    "from sklearn.naive_bayes import GaussianNB\n",
    "classifier = GaussianNB()\n",
    "testClassifier(classifier,X_train,X_test,y_train,y_test)"
   ]
  },
  {
   "cell_type": "code",
   "execution_count": 1092,
   "id": "4a2a18c0",
   "metadata": {
    "scrolled": true
   },
   "outputs": [],
   "source": [
    "# from sklearn.metrics import classification_report, confusion_matrix\n",
    "# from sklearn.datasets import load_breast_cancer\n",
    "# from sklearn.model_selection import GridSearchCV\n",
    "\n",
    "# model = SVC()\n",
    "# model.fit(X_train, y_train)\n",
    " \n",
    "# # print prediction results\n",
    "# predictions = model.predict(X_test)\n",
    "# print(classification_report(y_test, predictions))\n",
    "\n",
    "\n",
    "\n",
    "# # defining parameter range\n",
    "# param_grid = {'C': [0.1, 1, 10, 100, 1000],\n",
    "#               'gamma': [1, 0.1, 0.01, 0.001, 0.0001],\n",
    "#               'kernel': ['rbf','linear','poly','sigmoid']}\n",
    " \n",
    "# grid = GridSearchCV(SVC(), param_grid, refit = True, verbose = 3,cv=5)\n",
    " \n",
    "# # fitting the model for grid search\n",
    "# grid.fit(X_train, y_train)\n",
    "\n",
    "# # print best parameter after tuning\n",
    "# print(grid.best_params_)\n",
    " \n",
    "# # print how our model looks after hyper-parameter tuning\n",
    "# print(grid.best_estimator_)\n",
    "\n",
    "\n",
    "# grid_predictions = grid.predict(X_test)\n",
    " \n",
    "# # print classification report\n",
    "# print(classification_report(y_test, grid_predictions))\n"
   ]
  },
  {
   "cell_type": "code",
   "execution_count": 1093,
   "id": "3f0fd1cc",
   "metadata": {
    "scrolled": true
   },
   "outputs": [],
   "source": [
    "# classifier = KNeighborsClassifier(n_neighbors=10)\n",
    "# testClassifier(classifier,X_train,X_test,y_train,y_test)"
   ]
  },
  {
   "cell_type": "code",
   "execution_count": 1094,
   "id": "410a5ca1",
   "metadata": {},
   "outputs": [],
   "source": [
    "# from sklearn.ensemble import GradientBoostingClassifier\n",
    "# classifier = GradientBoostingClassifier()\n",
    "# classifier.fit(X_test,y_test)\n",
    "# print(classifier.feature_importances_)\n",
    "# testClassifier(GradientBoostingClassifier(),X_train,X_test,y_train,y_test)"
   ]
  },
  {
   "cell_type": "code",
   "execution_count": null,
   "id": "bbb1e08e",
   "metadata": {},
   "outputs": [],
   "source": []
  },
  {
   "cell_type": "code",
   "execution_count": 1095,
   "id": "32e9ac5c",
   "metadata": {
    "scrolled": true
   },
   "outputs": [],
   "source": [
    "# from sklearn.ensemble import GradientBoostingClassifier\n",
    "# import warnings\n",
    "\n",
    "# warnings.filterwarnings(\"ignore\")\n",
    "\n",
    "# param_grid = {'learning_rate': [0.03,0.1,0.3,1,3],\n",
    "#               'n_estimators': [1,5,10,50,100,200,300,500,1000],\n",
    "#               'criterion': ['friedman_mse', 'squared_error', 'absolute_error']\n",
    "#              }\n",
    " \n",
    "# grid = GridSearchCV(GradientBoostingClassifier(), param_grid, refit = True, verbose = 3,cv=5)\n",
    "# # fitting the model for grid search\n",
    "# grid.fit(X_train, y_train)\n",
    "\n",
    "# # print best parameter after tuning\n",
    "# print(grid.best_params_)\n",
    " \n",
    "# # print how our model looks after hyper-parameter tuning\n",
    "# print(grid.best_estimator_)\n",
    "\n",
    "\n",
    "# grid_predictions = grid.predict(X_test)\n",
    " \n",
    "# # print classification report\n",
    "# print(classification_report(y_test, grid_predictions))\n"
   ]
  },
  {
   "cell_type": "code",
   "execution_count": 1096,
   "id": "2656f99f",
   "metadata": {
    "scrolled": true
   },
   "outputs": [],
   "source": [
    "# import warnings\n",
    "# param_grid = {'n_neighbors' : [i for i  in range(1,85)]\n",
    "#              }\n",
    "\n",
    "\n",
    "# warnings.filterwarnings(\"ignore\")\n",
    "# grid = GridSearchCV(KNeighborsClassifier(), param_grid, refit = True, verbose = 1,cv=5)\n",
    "# # fitting the model for grid search\n",
    "# grid.fit(X_train, y_train)\n",
    "\n",
    "# # print best parameter after tuning\n",
    "# print(grid.best_params_)\n",
    " \n",
    "# # print how our model looks after hyper-parameter tuning\n",
    "# print(grid.best_estimator_)\n",
    "\n",
    "\n",
    "# grid_predictions = grid.best_estimator_.predict(X_test)\n",
    " \n",
    "# # print classification report\n",
    "# print(classification_report(y_test, grid_predictions))\n"
   ]
  },
  {
   "cell_type": "code",
   "execution_count": 1097,
   "id": "bba28eb6",
   "metadata": {
    "scrolled": true
   },
   "outputs": [],
   "source": [
    "# from sklearn.ensemble import BaggingClassifier\n",
    "# from sklearn.pipeline import Pipeline\n",
    "# from sklearn.model_selection import KFold\n",
    "# import warnings\n",
    "\n",
    "# warnings.filterwarnings(\"ignore\")\n",
    "# # Define a pipeline to search for the best combination of PCA truncation\n",
    "# # and classifier regularization.\n",
    "# pca = PCA()\n",
    "# # Define a Standard Scaler to normalize inputs\n",
    "# scaler = StandardScaler()\n",
    "# KnC = KNeighborsClassifier()\n",
    "# bgclf = BaggingClassifier(base_estimator=KNeighborsClassifier())\n",
    "# pipe = Pipeline([\n",
    "#     ('scaler', scaler),\n",
    "#     (\"pca\", pca),\n",
    "#     ('bgclf', bgclf )\n",
    "# ])\n",
    "# param_grid = {\n",
    "#     'pca__n_components' : [6,7],\n",
    "#     'bgclf__max_samples' : [0.05, 0.1, 0.2,0.7,0.9],\n",
    "#     'bgclf__warm_start' : [True,False],\n",
    "#     'bgclf__n_estimators' :  [1,5,10,25,50],\n",
    "#     'bgclf__base_estimator__n_neighbors' : [1,5,10,15,20]\n",
    "# }\n",
    "# grid = GridSearchCV(pipe, param_grid, cv=KFold(68), verbose=1)\n",
    "# grid.fit(sc.inverse_transform(X_train), y_train)\n",
    "\n",
    "# # print best parameter after tuning\n",
    "# print(grid.best_params_)\n",
    " \n",
    "# # print how our model looks after hyper-parameter tuning\n",
    "# print(grid.best_estimator_)\n",
    "\n",
    "\n",
    "# grid_predictions = grid.best_estimator_.predict(X_test)\n",
    " \n",
    "# # print classification report\n",
    "# print(classification_report(y_test, grid_predictions))"
   ]
  },
  {
   "cell_type": "code",
   "execution_count": 1098,
   "id": "a756a60e",
   "metadata": {},
   "outputs": [],
   "source": [
    "# print(classification_report(y_test, grid_predictions))"
   ]
  },
  {
   "cell_type": "code",
   "execution_count": 1099,
   "id": "d6c22bd1",
   "metadata": {
    "scrolled": true
   },
   "outputs": [],
   "source": [
    "# from sklearn.ensemble import BaggingClassifier\n",
    "# from sklearn.pipeline import Pipeline\n",
    "# from sklearn.model_selection import KFold\n",
    "# import warnings\n",
    "\n",
    "# warnings.filterwarnings(\"ignore\")\n",
    "# # Define a pipeline to search for the best combination of PCA truncation\n",
    "# # and classifier regularization.\n",
    "# pca = PCA()\n",
    "# # Define a Standard Scaler to normalize inputs\n",
    "# scaler = StandardScaler()\n",
    "# KnC = KNeighborsClassifier()\n",
    "# bgclf = BaggingClassifier(base_estimator=GaussianNB())\n",
    "# pipe = Pipeline([\n",
    "#     ('scaler', scaler),\n",
    "#     (\"pca\", pca),\n",
    "#     ('bgclf', bgclf )\n",
    "# ])\n",
    "# param_grid = {\n",
    "#     'pca__n_components' : [6,7],\n",
    "#     'bgclf__warm_start' : [True,False],\n",
    "#     'bgclf__n_estimators' :  [1,5,10,25,50],\n",
    "#     'bgclf__bootstrap_features': [False, True],\n",
    "#     'bgclf__max_features': [0.5, 0.7, 1.0],\n",
    "    \n",
    "# }\n",
    "# grid = GridSearchCV(pipe, param_grid, cv=5, verbose=1)\n",
    "# grid.fit(sc.inverse_transform(X_train), y_train)\n",
    "\n",
    "# # print best parameter after tuning\n",
    "# print(grid.best_params_)\n",
    " \n",
    "# # print how our model looks after hyper-parameter tuning\n",
    "# print(grid.best_estimator_)\n",
    "\n",
    "\n",
    "# grid_predictions = grid.best_estimator_.predict(X_test)\n",
    " \n",
    "# # print classification report\n",
    "# print(classification_report(y_test, grid_predictions))"
   ]
  },
  {
   "cell_type": "code",
   "execution_count": 1100,
   "id": "ad5d2fcb",
   "metadata": {
    "scrolled": true
   },
   "outputs": [],
   "source": [
    "# from sklearn.ensemble import BaggingClassifier\n",
    "# from sklearn.pipeline import Pipeline\n",
    "# from sklearn.model_selection import KFold\n",
    "# import warnings\n",
    "\n",
    "# warnings.filterwarnings(\"ignore\")\n",
    "# # Define a pipeline to search for the best combination of PCA truncation\n",
    "# # and classifier regularization.\n",
    "# pca = PCA()\n",
    "# # Define a Standard Scaler to normalize inputs\n",
    "# scaler = StandardScaler()\n",
    "# KnC = KNeighborsClassifier()\n",
    "# bgclf = BaggingClassifier(base_estimator=KNeighborsClassifier())\n",
    "# pipe = Pipeline([\n",
    "#     ('scaler', scaler),\n",
    "#     (\"pca\", pca),\n",
    "#     ('bgclf', bgclf )\n",
    "# ])\n",
    "# param_grid = {\n",
    "#     'pca__n_components' : [6,7],\n",
    "#     'bgclf__max_samples' : [0.05, 0.1, 0.2,0.7,0.9,1.0],\n",
    "#     'bgclf__warm_start' : [True,False],\n",
    "#     'bgclf__n_estimators' :  [1,5,10,25,50],\n",
    "#     'bgclf__base_estimator__n_neighbors' : [i for i in range(1,26)]\n",
    "# }\n",
    "# grid = GridSearchCV(pipe, param_grid, cv=5, verbose=1)\n",
    "# grid.fit(sc.inverse_transform(X_train), y_train)\n",
    "\n",
    "# # print best parameter after tuning\n",
    "# print(grid.best_params_)\n",
    " \n",
    "# # print how our model looks after hyper-parameter tuning\n",
    "# print(grid.best_estimator_)\n",
    "\n",
    "\n",
    "# grid_predictions = grid.best_estimator_.predict(X_test)\n",
    " \n",
    "# # print classification report\n",
    "# print(classification_report(y_test, grid_predictions))"
   ]
  },
  {
   "cell_type": "code",
   "execution_count": 1101,
   "id": "cbf3151b",
   "metadata": {
    "scrolled": true
   },
   "outputs": [],
   "source": [
    "# from sklearn.ensemble import BaggingClassifier\n",
    "# from sklearn.pipeline import Pipeline\n",
    "# from sklearn.model_selection import KFold\n",
    "# import warnings\n",
    "\n",
    "# warnings.filterwarnings(\"ignore\")\n",
    "# # Define a pipeline to search for the best combination of PCA truncation\n",
    "# # and classifier regularization.\n",
    "# pca = PCA()\n",
    "# # Define a Standard Scaler to normalize inputs\n",
    "# scaler = StandardScaler()\n",
    "# bgclf = BaggingClassifier(base_estimator = DecisionTreeClassifier())\n",
    "# pipe = Pipeline([\n",
    "#     ('scaler', scaler),\n",
    "#     (\"pca\", pca),\n",
    "#     ('bgclf', bgclf )\n",
    "# ])\n",
    "# param_grid = {\n",
    "#     'pca__n_components' : [6,7],\n",
    "#     \"bgclf__base_estimator__max_depth\": [3,5,10,20],\n",
    "#     'bgclf__max_samples' : [0.05, 0.1, 0.2,0.7,0.9],\n",
    "#     'bgclf__warm_start' : [True,False],\n",
    "#     'bgclf__n_estimators' :  [1,5,10,25,50]\n",
    "# }\n",
    "# grid = GridSearchCV(pipe, param_grid, cv=KFold(68), verbose=1)\n",
    "# grid.fit(sc.inverse_transform(X_train), y_train)\n",
    "\n",
    "# # print best parameter after tuning\n",
    "# print(grid.best_params_)\n",
    " \n",
    "# # print how our model looks after hyper-parameter tuning\n",
    "# print(grid.best_estimator_)\n",
    "\n",
    "\n",
    "# grid_predictions = grid.best_estimator_.predict(X_test)\n",
    " \n",
    "# # print classification report\n",
    "# print(classification_report(y_test, grid_predictions))"
   ]
  },
  {
   "cell_type": "code",
   "execution_count": 1102,
   "id": "48768f47",
   "metadata": {},
   "outputs": [],
   "source": [
    "# from sklearn.ensemble import GradientBoostingClassifier\n",
    "# import warnings\n",
    "\n",
    "# warnings.filterwarnings(\"ignore\")\n",
    "\n",
    "# pca = PCA()\n",
    "# # Define a Standard Scaler to normalize inputs\n",
    "# scaler = StandardScaler()\n",
    "# gbm = GradientBoostingClassifier()\n",
    "# pipe = Pipeline([\n",
    "#     ('scaler', scaler),\n",
    "#     (\"pca\", pca),\n",
    "#     ('gbm', gbm )\n",
    "# ])\n",
    "# param_grid = {\n",
    "#     'pca__n_components' : [5,6,7],\n",
    "#     'gbm__learning_rate': [0.01, 0.025, 0.05, 0.075, 0.1, 0.15, 0.2,0.3,0.9,1,1.3,3],\n",
    "#     'gbm__n_estimators': [1,5,10,15,20,50],\n",
    "#     'gbm__criterion': ['friedman_mse', 'squared_error']\n",
    "#              }\n",
    " \n",
    "# grid = GridSearchCV(pipe, param_grid, refit = True, verbose = 0,cv=5)\n",
    "# # fitting the model for grid search\n",
    "# grid.fit(sc.inverse_transform(X_train), y_train)\n",
    "\n",
    "# # print best parameter after tuning\n",
    "# print(grid.best_params_)\n",
    " \n",
    "# # print how our model looks after hyper-parameter tuning\n",
    "# print(grid.best_estimator_)\n",
    "\n",
    "\n",
    "# grid_predictions = grid.predict(X_test)\n",
    " \n",
    "# # print classification report\n",
    "# print(classification_report(y_test, grid_predictions))"
   ]
  },
  {
   "cell_type": "code",
   "execution_count": 1103,
   "id": "e2b4b2dd",
   "metadata": {
    "scrolled": true
   },
   "outputs": [],
   "source": [
    "# from sklearn.ensemble import GradientBoostingClassifier\n",
    "# import warnings\n",
    "\n",
    "# warnings.filterwarnings(\"ignore\")\n",
    "\n",
    "# pca = PCA()\n",
    "# # Define a Standard Scaler to normalize inputs\n",
    "# scaler = StandardScaler()\n",
    "# gbm = GradientBoostingClassifier()\n",
    "# pipe = Pipeline([\n",
    "#     ('scaler', scaler),\n",
    "#     (\"pca\", pca),\n",
    "#     ('gbm', gbm )\n",
    "# ])\n",
    "# param_grid = {\n",
    "#     'pca__n_components' : [5,6,7],\n",
    "#     'gbm__learning_rate': [0.01,0.025,0.05,0.075, 0.1, 0.15, 0.2,0.3,0.9,1,1.3,3],\n",
    "#     'gbm__n_estimators': [1,5,10,15,20,50,100],\n",
    "#     'gbm__criterion': [\"friedman_mse\",'mae','squared_error'],\n",
    "# }\n",
    "             \n",
    " \n",
    "# grid = GridSearchCV(pipe, param_grid, refit = True, verbose = 0,cv=10)\n",
    "# # fitting the model for grid search\n",
    "# grid.fit(sc.inverse_transform(X_train), y_train)\n",
    "\n",
    "# # print best parameter after tuning\n",
    "# print(grid.best_params_)\n",
    " \n",
    "# # print how our model looks after hyper-parameter tuning\n",
    "# print(grid.best_estimator_)\n",
    "\n",
    "\n",
    "# grid_predictions = grid.predict(X_test)\n",
    " \n",
    "# # print classification report\n",
    "# print(classification_report(y_test, grid_predictions))"
   ]
  },
  {
   "cell_type": "code",
   "execution_count": 1104,
   "id": "cd106b94",
   "metadata": {},
   "outputs": [],
   "source": [
    "Xy.to_csv('KeyboardData.csv', index=False)\n"
   ]
  },
  {
   "cell_type": "code",
   "execution_count": 1105,
   "id": "96612109",
   "metadata": {},
   "outputs": [],
   "source": [
    "def calculate_vif(data):\n",
    "    vif_df = pd.DataFrame(columns = ['Var', 'Vif'])\n",
    "    x_var_names = data.columns\n",
    "    for i in range(0, x_var_names.shape[0]):\n",
    "        y = data[x_var_names[i]]\n",
    "        x = data[x_var_names.drop([x_var_names[i]])]\n",
    "        r_squared = sm.OLS(y.astype(float),x.astype(float)).fit().rsquared\n",
    "        vif = round(1/(1-r_squared),2)\n",
    "        vif_df.loc[i] = [x_var_names[i], vif]\n",
    "    return vif_df.sort_values(by = 'Vif', axis = 0, ascending=False, inplace=False)\n",
    "\n",
    "\n"
   ]
  },
  {
   "cell_type": "code",
   "execution_count": 1106,
   "id": "25b9e988",
   "metadata": {},
   "outputs": [
    {
     "data": {
      "text/html": [
       "<div>\n",
       "<style scoped>\n",
       "    .dataframe tbody tr th:only-of-type {\n",
       "        vertical-align: middle;\n",
       "    }\n",
       "\n",
       "    .dataframe tbody tr th {\n",
       "        vertical-align: top;\n",
       "    }\n",
       "\n",
       "    .dataframe thead th {\n",
       "        text-align: right;\n",
       "    }\n",
       "</style>\n",
       "<table border=\"1\" class=\"dataframe\">\n",
       "  <thead>\n",
       "    <tr style=\"text-align: right;\">\n",
       "      <th></th>\n",
       "      <th>Var</th>\n",
       "      <th>Vif</th>\n",
       "    </tr>\n",
       "  </thead>\n",
       "  <tbody>\n",
       "    <tr>\n",
       "      <th>0</th>\n",
       "      <td>SDi</td>\n",
       "      <td>23.21</td>\n",
       "    </tr>\n",
       "    <tr>\n",
       "      <th>2</th>\n",
       "      <td>InterQuartileRanges</td>\n",
       "      <td>15.37</td>\n",
       "    </tr>\n",
       "    <tr>\n",
       "      <th>6</th>\n",
       "      <td>Hist3</td>\n",
       "      <td>9.13</td>\n",
       "    </tr>\n",
       "    <tr>\n",
       "      <th>7</th>\n",
       "      <td>Hist4</td>\n",
       "      <td>6.76</td>\n",
       "    </tr>\n",
       "    <tr>\n",
       "      <th>3</th>\n",
       "      <td>htArrOutliers</td>\n",
       "      <td>5.24</td>\n",
       "    </tr>\n",
       "    <tr>\n",
       "      <th>4</th>\n",
       "      <td>Hist1</td>\n",
       "      <td>4.78</td>\n",
       "    </tr>\n",
       "    <tr>\n",
       "      <th>5</th>\n",
       "      <td>Hist2</td>\n",
       "      <td>3.82</td>\n",
       "    </tr>\n",
       "    <tr>\n",
       "      <th>9</th>\n",
       "      <td>gt</td>\n",
       "      <td>3.28</td>\n",
       "    </tr>\n",
       "    <tr>\n",
       "      <th>1</th>\n",
       "      <td>Dexterity</td>\n",
       "      <td>3.01</td>\n",
       "    </tr>\n",
       "    <tr>\n",
       "      <th>8</th>\n",
       "      <td>singularity_spectrum_wdith</td>\n",
       "      <td>2.94</td>\n",
       "    </tr>\n",
       "  </tbody>\n",
       "</table>\n",
       "</div>"
      ],
      "text/plain": [
       "                          Var    Vif\n",
       "0                         SDi  23.21\n",
       "2         InterQuartileRanges  15.37\n",
       "6                       Hist3   9.13\n",
       "7                       Hist4   6.76\n",
       "3               htArrOutliers   5.24\n",
       "4                       Hist1   4.78\n",
       "5                       Hist2   3.82\n",
       "9                          gt   3.28\n",
       "1                   Dexterity   3.01\n",
       "8  singularity_spectrum_wdith   2.94"
      ]
     },
     "execution_count": 1106,
     "metadata": {},
     "output_type": "execute_result"
    }
   ],
   "source": [
    "calculate_vif(Xy)"
   ]
  },
  {
   "cell_type": "code",
   "execution_count": 1107,
   "id": "27e4fae9",
   "metadata": {},
   "outputs": [],
   "source": [
    "Xy2 = Xy.drop('InterQuartileRanges',axis=1)"
   ]
  },
  {
   "cell_type": "code",
   "execution_count": 1108,
   "id": "cc187b35",
   "metadata": {
    "scrolled": true
   },
   "outputs": [
    {
     "data": {
      "text/html": [
       "<div>\n",
       "<style scoped>\n",
       "    .dataframe tbody tr th:only-of-type {\n",
       "        vertical-align: middle;\n",
       "    }\n",
       "\n",
       "    .dataframe tbody tr th {\n",
       "        vertical-align: top;\n",
       "    }\n",
       "\n",
       "    .dataframe thead th {\n",
       "        text-align: right;\n",
       "    }\n",
       "</style>\n",
       "<table border=\"1\" class=\"dataframe\">\n",
       "  <thead>\n",
       "    <tr style=\"text-align: right;\">\n",
       "      <th></th>\n",
       "      <th>Var</th>\n",
       "      <th>Vif</th>\n",
       "    </tr>\n",
       "  </thead>\n",
       "  <tbody>\n",
       "    <tr>\n",
       "      <th>5</th>\n",
       "      <td>Hist3</td>\n",
       "      <td>9.07</td>\n",
       "    </tr>\n",
       "    <tr>\n",
       "      <th>0</th>\n",
       "      <td>SDi</td>\n",
       "      <td>7.58</td>\n",
       "    </tr>\n",
       "    <tr>\n",
       "      <th>6</th>\n",
       "      <td>Hist4</td>\n",
       "      <td>6.75</td>\n",
       "    </tr>\n",
       "    <tr>\n",
       "      <th>3</th>\n",
       "      <td>Hist1</td>\n",
       "      <td>4.78</td>\n",
       "    </tr>\n",
       "    <tr>\n",
       "      <th>2</th>\n",
       "      <td>htArrOutliers</td>\n",
       "      <td>4.12</td>\n",
       "    </tr>\n",
       "    <tr>\n",
       "      <th>4</th>\n",
       "      <td>Hist2</td>\n",
       "      <td>3.74</td>\n",
       "    </tr>\n",
       "    <tr>\n",
       "      <th>1</th>\n",
       "      <td>Dexterity</td>\n",
       "      <td>3.00</td>\n",
       "    </tr>\n",
       "    <tr>\n",
       "      <th>8</th>\n",
       "      <td>gt</td>\n",
       "      <td>2.95</td>\n",
       "    </tr>\n",
       "    <tr>\n",
       "      <th>7</th>\n",
       "      <td>singularity_spectrum_wdith</td>\n",
       "      <td>2.93</td>\n",
       "    </tr>\n",
       "  </tbody>\n",
       "</table>\n",
       "</div>"
      ],
      "text/plain": [
       "                          Var   Vif\n",
       "5                       Hist3  9.07\n",
       "0                         SDi  7.58\n",
       "6                       Hist4  6.75\n",
       "3                       Hist1  4.78\n",
       "2               htArrOutliers  4.12\n",
       "4                       Hist2  3.74\n",
       "1                   Dexterity  3.00\n",
       "8                          gt  2.95\n",
       "7  singularity_spectrum_wdith  2.93"
      ]
     },
     "execution_count": 1108,
     "metadata": {},
     "output_type": "execute_result"
    }
   ],
   "source": [
    "calculate_vif(Xy2)"
   ]
  },
  {
   "cell_type": "code",
   "execution_count": 1109,
   "id": "f33274cf",
   "metadata": {},
   "outputs": [],
   "source": [
    "Xy2 = Xy.drop('InterQuartileRanges',axis=1)"
   ]
  },
  {
   "cell_type": "code",
   "execution_count": 1110,
   "id": "35652868",
   "metadata": {},
   "outputs": [
    {
     "name": "stdout",
     "output_type": "stream",
     "text": [
      "Anova F: the variables are Non-Correlated (p-value: 0.054)\n"
     ]
    }
   ],
   "source": [
    "import statsmodels.formula.api as smf\n",
    "import statsmodels.api as sm\n",
    "cat, num = \"gt\", \"singularity_spectrum_wdith\"\n",
    "model = smf.ols(num+' ~ '+cat, data=Xy2).fit()\n",
    "table = sm.stats.anova_lm(model)\n",
    "p = table[\"PR(>F)\"][0]\n",
    "coeff, p = None, round(p, 3)\n",
    "conclusion = \"Correlated\" if p < 0.05 else \"Non-Correlated\"\n",
    "print(\"Anova F: the variables are\", conclusion, \"(p-value: \"+str(p)+\")\")"
   ]
  },
  {
   "cell_type": "code",
   "execution_count": 1111,
   "id": "7239ab60",
   "metadata": {},
   "outputs": [],
   "source": [
    "Xy3 = Xy2.drop('htArrOutliers',axis =1)"
   ]
  },
  {
   "cell_type": "code",
   "execution_count": 1112,
   "id": "5255b016",
   "metadata": {
    "scrolled": false
   },
   "outputs": [
    {
     "data": {
      "text/html": [
       "<div>\n",
       "<style scoped>\n",
       "    .dataframe tbody tr th:only-of-type {\n",
       "        vertical-align: middle;\n",
       "    }\n",
       "\n",
       "    .dataframe tbody tr th {\n",
       "        vertical-align: top;\n",
       "    }\n",
       "\n",
       "    .dataframe thead th {\n",
       "        text-align: right;\n",
       "    }\n",
       "</style>\n",
       "<table border=\"1\" class=\"dataframe\">\n",
       "  <thead>\n",
       "    <tr style=\"text-align: right;\">\n",
       "      <th></th>\n",
       "      <th>Var</th>\n",
       "      <th>Vif</th>\n",
       "    </tr>\n",
       "  </thead>\n",
       "  <tbody>\n",
       "    <tr>\n",
       "      <th>4</th>\n",
       "      <td>Hist3</td>\n",
       "      <td>9.01</td>\n",
       "    </tr>\n",
       "    <tr>\n",
       "      <th>0</th>\n",
       "      <td>SDi</td>\n",
       "      <td>7.53</td>\n",
       "    </tr>\n",
       "    <tr>\n",
       "      <th>5</th>\n",
       "      <td>Hist4</td>\n",
       "      <td>6.74</td>\n",
       "    </tr>\n",
       "    <tr>\n",
       "      <th>2</th>\n",
       "      <td>Hist1</td>\n",
       "      <td>3.54</td>\n",
       "    </tr>\n",
       "    <tr>\n",
       "      <th>3</th>\n",
       "      <td>Hist2</td>\n",
       "      <td>2.91</td>\n",
       "    </tr>\n",
       "    <tr>\n",
       "      <th>7</th>\n",
       "      <td>gt</td>\n",
       "      <td>2.89</td>\n",
       "    </tr>\n",
       "    <tr>\n",
       "      <th>1</th>\n",
       "      <td>Dexterity</td>\n",
       "      <td>2.73</td>\n",
       "    </tr>\n",
       "    <tr>\n",
       "      <th>6</th>\n",
       "      <td>singularity_spectrum_wdith</td>\n",
       "      <td>2.52</td>\n",
       "    </tr>\n",
       "  </tbody>\n",
       "</table>\n",
       "</div>"
      ],
      "text/plain": [
       "                          Var   Vif\n",
       "4                       Hist3  9.01\n",
       "0                         SDi  7.53\n",
       "5                       Hist4  6.74\n",
       "2                       Hist1  3.54\n",
       "3                       Hist2  2.91\n",
       "7                          gt  2.89\n",
       "1                   Dexterity  2.73\n",
       "6  singularity_spectrum_wdith  2.52"
      ]
     },
     "execution_count": 1112,
     "metadata": {},
     "output_type": "execute_result"
    }
   ],
   "source": [
    "calculate_vif(Xy3)"
   ]
  },
  {
   "cell_type": "code",
   "execution_count": null,
   "id": "877149fd",
   "metadata": {},
   "outputs": [],
   "source": []
  },
  {
   "cell_type": "code",
   "execution_count": 1113,
   "id": "214ccc37",
   "metadata": {},
   "outputs": [],
   "source": [
    "Xy2.to_csv('KeyboardData2.csv', index=False)"
   ]
  },
  {
   "cell_type": "code",
   "execution_count": 1114,
   "id": "7816cb6a",
   "metadata": {},
   "outputs": [],
   "source": [
    "Xy4 =Xy2.drop('Hist4',axis =1)"
   ]
  },
  {
   "cell_type": "code",
   "execution_count": 1115,
   "id": "0d3a4ece",
   "metadata": {},
   "outputs": [
    {
     "data": {
      "text/html": [
       "<div>\n",
       "<style scoped>\n",
       "    .dataframe tbody tr th:only-of-type {\n",
       "        vertical-align: middle;\n",
       "    }\n",
       "\n",
       "    .dataframe tbody tr th {\n",
       "        vertical-align: top;\n",
       "    }\n",
       "\n",
       "    .dataframe thead th {\n",
       "        text-align: right;\n",
       "    }\n",
       "</style>\n",
       "<table border=\"1\" class=\"dataframe\">\n",
       "  <thead>\n",
       "    <tr style=\"text-align: right;\">\n",
       "      <th></th>\n",
       "      <th>Var</th>\n",
       "      <th>Vif</th>\n",
       "    </tr>\n",
       "  </thead>\n",
       "  <tbody>\n",
       "    <tr>\n",
       "      <th>0</th>\n",
       "      <td>SDi</td>\n",
       "      <td>7.50</td>\n",
       "    </tr>\n",
       "    <tr>\n",
       "      <th>3</th>\n",
       "      <td>Hist1</td>\n",
       "      <td>4.73</td>\n",
       "    </tr>\n",
       "    <tr>\n",
       "      <th>2</th>\n",
       "      <td>htArrOutliers</td>\n",
       "      <td>4.11</td>\n",
       "    </tr>\n",
       "    <tr>\n",
       "      <th>4</th>\n",
       "      <td>Hist2</td>\n",
       "      <td>3.62</td>\n",
       "    </tr>\n",
       "    <tr>\n",
       "      <th>1</th>\n",
       "      <td>Dexterity</td>\n",
       "      <td>2.97</td>\n",
       "    </tr>\n",
       "    <tr>\n",
       "      <th>6</th>\n",
       "      <td>singularity_spectrum_wdith</td>\n",
       "      <td>2.93</td>\n",
       "    </tr>\n",
       "    <tr>\n",
       "      <th>7</th>\n",
       "      <td>gt</td>\n",
       "      <td>2.80</td>\n",
       "    </tr>\n",
       "    <tr>\n",
       "      <th>5</th>\n",
       "      <td>Hist3</td>\n",
       "      <td>2.29</td>\n",
       "    </tr>\n",
       "  </tbody>\n",
       "</table>\n",
       "</div>"
      ],
      "text/plain": [
       "                          Var   Vif\n",
       "0                         SDi  7.50\n",
       "3                       Hist1  4.73\n",
       "2               htArrOutliers  4.11\n",
       "4                       Hist2  3.62\n",
       "1                   Dexterity  2.97\n",
       "6  singularity_spectrum_wdith  2.93\n",
       "7                          gt  2.80\n",
       "5                       Hist3  2.29"
      ]
     },
     "execution_count": 1115,
     "metadata": {},
     "output_type": "execute_result"
    }
   ],
   "source": [
    "calculate_vif(Xy4)"
   ]
  },
  {
   "cell_type": "code",
   "execution_count": 1116,
   "id": "c71d1b1c",
   "metadata": {},
   "outputs": [],
   "source": [
    "Xy4.to_csv('KeyboardData3.csv', index=False)"
   ]
  },
  {
   "cell_type": "code",
   "execution_count": 1140,
   "id": "d4444272",
   "metadata": {
    "scrolled": true
   },
   "outputs": [
    {
     "name": "stdout",
     "output_type": "stream",
     "text": [
      "                        Specs     Score\n",
      "2         InterQuartileRanges  0.198360\n",
      "0                         SDi  0.111266\n",
      "5                       Hist2  0.057842\n",
      "1                   Dexterity  0.038005\n",
      "7                       Hist4  0.004704\n",
      "3               htArrOutliers  0.000000\n",
      "4                       Hist1  0.000000\n",
      "6                       Hist3  0.000000\n",
      "8  singularity_spectrum_wdith  0.000000\n"
     ]
    }
   ],
   "source": [
    "import pandas as pd\n",
    "import numpy as np\n",
    "from sklearn.feature_selection import SelectKBest\n",
    "from sklearn.feature_selection import chi2\n",
    "from sklearn.feature_selection import f_classif\n",
    "from sklearn.feature_selection import mutual_info_classif\n",
    "data = pd.read_csv(\"KeyboardData.csv\")\n",
    "X = data.iloc[:,:-1]  #independent columns\n",
    "y = data.iloc[:,-1]    #target column i.e price range\n",
    "#apply SelectKBest class to extract top 10 best features\n",
    "bestfeatures = SelectKBest(score_func=mutual_info_classif, k=9)\n",
    "fit = bestfeatures.fit(X,y)\n",
    "dfscores = pd.DataFrame(fit.scores_)\n",
    "dfcolumns = pd.DataFrame(X.columns)\n",
    "#concat two dataframes for better visualization \n",
    "featureScores = pd.concat([dfcolumns,dfscores],axis=1)\n",
    "featureScores.columns = ['Specs','Score']  #naming the dataframe columns\n",
    "print(featureScores.nlargest(9,'Score'))  #print 10 best features"
   ]
  },
  {
   "cell_type": "code",
   "execution_count": 1156,
   "id": "42f04cba",
   "metadata": {},
   "outputs": [
    {
     "data": {
      "text/plain": [
       "array([ True,  True,  True, False, False, False, False, False,  True])"
      ]
     },
     "execution_count": 1156,
     "metadata": {},
     "output_type": "execute_result"
    }
   ],
   "source": [
    "from sklearn.feature_selection import SequentialFeatureSelector\n",
    "from sklearn.ensemble import GradientBoostingClassifier\n",
    "from sklearn.neighbors import KNeighborsClassifier\n",
    "gbm = GradientBoostingClassifier(n_estimators=100,learning_rate=0.01)\n",
    "knn = KNeighborsClassifier(n_neighbors=10)\n",
    "sfs = SequentialFeatureSelector(knn, n_features_to_select=4\n",
    "                               )\n",
    "sfs.fit(X, y)\n",
    "sfs.get_support()"
   ]
  },
  {
   "cell_type": "code",
   "execution_count": 1161,
   "id": "25a80193",
   "metadata": {},
   "outputs": [
    {
     "name": "stdout",
     "output_type": "stream",
     "text": [
      "0.2272091007414201\n",
      "0.3229097295803529\n",
      "0.34935316472727274\n"
     ]
    }
   ],
   "source": [
    "de_novo_sick  = de_novo[de_novo['gt']==1]\n",
    "early_stage_sick = early_stage[early_stage['gt']==1]\n",
    "de_novo_healthy  = de_novo[de_novo['gt']==0]\n",
    "early_stage_healthy = early_stage[early_stage['gt']==0]\n",
    "healthy_controls = pd.concat([early_stage_healthy,de_novo_healthy])\n",
    "print(healthy_controls['singularity_spectrum_wdith'].mean())\n",
    "print(early_stage_sick['singularity_spectrum_wdith'].mean())\n",
    "print(de_novo_sick['singularity_spectrum_wdith'].mean())"
   ]
  }
 ],
 "metadata": {
  "kernelspec": {
   "display_name": "Python 3 (ipykernel)",
   "language": "python",
   "name": "python3"
  },
  "language_info": {
   "codemirror_mode": {
    "name": "ipython",
    "version": 3
   },
   "file_extension": ".py",
   "mimetype": "text/x-python",
   "name": "python",
   "nbconvert_exporter": "python",
   "pygments_lexer": "ipython3",
   "version": "3.10.0"
  }
 },
 "nbformat": 4,
 "nbformat_minor": 5
}
