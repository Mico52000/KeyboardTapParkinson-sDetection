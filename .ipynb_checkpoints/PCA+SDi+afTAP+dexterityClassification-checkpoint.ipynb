{
 "cells": [
  {
   "cell_type": "code",
   "execution_count": 83,
   "id": "08662266",
   "metadata": {},
   "outputs": [],
   "source": [
    "import numpy as np\n",
    "import matplotlib.pyplot as plt\n",
    "import pandas as pd\n",
    "import nqDataLoader as nq #data loading library"
   ]
  },
  {
   "cell_type": "code",
   "execution_count": 84,
   "id": "397b5b67",
   "metadata": {},
   "outputs": [],
   "source": [
    "def range_with_floats(start, stop, step):\n",
    "    while stop > start:\n",
    "        yield start\n",
    "        start += step"
   ]
  },
  {
   "cell_type": "markdown",
   "id": "27874526",
   "metadata": {},
   "source": [
    "## importing the early_stage data set "
   ]
  },
  {
   "cell_type": "code",
   "execution_count": 85,
   "id": "e52590d5",
   "metadata": {},
   "outputs": [
    {
     "data": {
      "text/html": [
       "<div>\n",
       "<style scoped>\n",
       "    .dataframe tbody tr th:only-of-type {\n",
       "        vertical-align: middle;\n",
       "    }\n",
       "\n",
       "    .dataframe tbody tr th {\n",
       "        vertical-align: top;\n",
       "    }\n",
       "\n",
       "    .dataframe thead th {\n",
       "        text-align: right;\n",
       "    }\n",
       "</style>\n",
       "<table border=\"1\" class=\"dataframe\">\n",
       "  <thead>\n",
       "    <tr style=\"text-align: right;\">\n",
       "      <th></th>\n",
       "      <th>pID</th>\n",
       "      <th>gt</th>\n",
       "      <th>updrs108</th>\n",
       "      <th>afTap</th>\n",
       "      <th>sTap</th>\n",
       "      <th>nqScore</th>\n",
       "      <th>typingSpeed</th>\n",
       "      <th>file_1</th>\n",
       "    </tr>\n",
       "  </thead>\n",
       "  <tbody>\n",
       "    <tr>\n",
       "      <th>0</th>\n",
       "      <td>1000</td>\n",
       "      <td>True</td>\n",
       "      <td>27</td>\n",
       "      <td>79.0</td>\n",
       "      <td>184.5</td>\n",
       "      <td>0.107179</td>\n",
       "      <td>56.866667</td>\n",
       "      <td>1424946827.1000_001_014.csv</td>\n",
       "    </tr>\n",
       "    <tr>\n",
       "      <th>1</th>\n",
       "      <td>1001</td>\n",
       "      <td>True</td>\n",
       "      <td>16</td>\n",
       "      <td>96.5</td>\n",
       "      <td>189.0</td>\n",
       "      <td>0.056286</td>\n",
       "      <td>118.000000</td>\n",
       "      <td>1427279751.1001_001_014.csv</td>\n",
       "    </tr>\n",
       "    <tr>\n",
       "      <th>2</th>\n",
       "      <td>1002</td>\n",
       "      <td>False</td>\n",
       "      <td>5</td>\n",
       "      <td>140.0</td>\n",
       "      <td>158.0</td>\n",
       "      <td>0.039519</td>\n",
       "      <td>119.037037</td>\n",
       "      <td>1426676689.1002_001_014.csv</td>\n",
       "    </tr>\n",
       "    <tr>\n",
       "      <th>3</th>\n",
       "      <td>1004</td>\n",
       "      <td>True</td>\n",
       "      <td>22</td>\n",
       "      <td>83.5</td>\n",
       "      <td>191.5</td>\n",
       "      <td>0.034853</td>\n",
       "      <td>74.266667</td>\n",
       "      <td>1429866367.1004_001_014.csv</td>\n",
       "    </tr>\n",
       "    <tr>\n",
       "      <th>4</th>\n",
       "      <td>1005</td>\n",
       "      <td>True</td>\n",
       "      <td>17</td>\n",
       "      <td>68.0</td>\n",
       "      <td>150.0</td>\n",
       "      <td>0.048307</td>\n",
       "      <td>74.969697</td>\n",
       "      <td>1430134526.1005_001_014.csv</td>\n",
       "    </tr>\n",
       "  </tbody>\n",
       "</table>\n",
       "</div>"
      ],
      "text/plain": [
       "    pID     gt  updrs108  afTap   sTap   nqScore  typingSpeed  \\\n",
       "0  1000   True        27   79.0  184.5  0.107179    56.866667   \n",
       "1  1001   True        16   96.5  189.0  0.056286   118.000000   \n",
       "2  1002  False         5  140.0  158.0  0.039519   119.037037   \n",
       "3  1004   True        22   83.5  191.5  0.034853    74.266667   \n",
       "4  1005   True        17   68.0  150.0  0.048307    74.969697   \n",
       "\n",
       "                        file_1  \n",
       "0  1424946827.1000_001_014.csv  \n",
       "1  1427279751.1001_001_014.csv  \n",
       "2  1426676689.1002_001_014.csv  \n",
       "3  1429866367.1004_001_014.csv  \n",
       "4  1430134526.1005_001_014.csv  "
      ]
     },
     "execution_count": 85,
     "metadata": {},
     "output_type": "execute_result"
    }
   ],
   "source": [
    "## importing the early stage dataset \n",
    "early_stage = pd.read_csv('GT_DataPD_MIT-CS2PD.csv')\n",
    "# X = dataset.iloc[:, :-1].values\n",
    "# y = dataset.iloc[:, -1].values\n",
    "early_stage.head()"
   ]
  },
  {
   "cell_type": "markdown",
   "id": "11e1260f",
   "metadata": {},
   "source": [
    "## Calculating the SDI for early stage dataset "
   ]
  },
  {
   "cell_type": "code",
   "execution_count": 86,
   "id": "576670b0",
   "metadata": {},
   "outputs": [],
   "source": [
    "SD_index = []\n",
    "for index, row in early_stage.iterrows():\n",
    "    fileloc = row.file_1\n",
    "    keyPressed, htArr, pressArr, releaseArr =  nq.getDataFiltHelper( \"data_MIT-CS2PD/\" + early_stage.loc[index]['file_1'])\n",
    "    fluctuations = []\n",
    "    for i in range(0,len(htArr)-1):\n",
    "        row1 = htArr[i]\n",
    "        row2 = htArr[i+1]\n",
    "        temp1 = np.log(row1)\n",
    "        temp2 = np.log(row2)\n",
    "        result = temp2-temp1\n",
    "        fluctuations.append(result)\n",
    "    npFluctuations = np.array(fluctuations)\n",
    "    sd_index_score = npFluctuations.std()\n",
    "    SD_index.append(sd_index_score) \n",
    "    \n",
    "    \n",
    "early_stage[\"SDi\"] = SD_index "
   ]
  },
  {
   "cell_type": "code",
   "execution_count": 87,
   "id": "568571b2",
   "metadata": {},
   "outputs": [],
   "source": [
    "dexterityMetric = []\n",
    "for index, row in early_stage.iterrows():\n",
    "    fileloc1 = row.file_1\n",
    "    keyPressed, htArr, pressArr, releaseArr =  nq.getDataFiltHelper( 'data_MIT-CS2PD/' + early_stage.loc[index]['file_1'])\n",
    "    \n",
    "    dexterity = []\n",
    "    for i in range(0,len(keyPressed)-1):\n",
    "        d1 = releaseArr[i]\n",
    "        p2 = pressArr[i+1]\n",
    "        result = 0 if (d1-p2 < 0) else (d1-p2)\n",
    "        dexterity.append(result)\n",
    "    npdexterity = np.array(dexterity)\n",
    "    dexterityMetric.append(npdexterity.std())\n",
    "    \n",
    "\n",
    "early_stage[\"Dexterity\"] = dexterityMetric"
   ]
  },
  {
   "cell_type": "code",
   "execution_count": 88,
   "id": "da751fbd",
   "metadata": {},
   "outputs": [],
   "source": [
    "InterQuartileRanges =[]\n",
    "for index,row in early_stage.iterrows():\n",
    "    keyPressed, htArr, pressArr, releaseArr =  nq.getDataFiltHelper( 'data_MIT-CS2PD/' + early_stage.loc[index]['file_1'])\n",
    "    nphtArr = np.array(htArr)\n",
    "    q3, q1 = np.percentile(htArr, [75 ,25])\n",
    "    iqr = q3 - q1\n",
    "    InterQuartileRanges.append(iqr)\n",
    "early_stage[\"InterQuartileRanges\"] = InterQuartileRanges"
   ]
  },
  {
   "cell_type": "code",
   "execution_count": 89,
   "id": "db96fbdd",
   "metadata": {},
   "outputs": [],
   "source": [
    "Variance =[]\n",
    "for index,row in early_stage.iterrows():\n",
    "    keyPressed, htArr, pressArr, releaseArr =  nq.getDataFiltHelper( 'data_MIT-CS2PD/' + early_stage.loc[index]['file_1'])\n",
    "    nphtArr = np.array(htArr)\n",
    "    Variance.append(np.var(nphtArr))\n",
    "early_stage[\"Variance\"] = Variance"
   ]
  },
  {
   "cell_type": "markdown",
   "id": "9305c96f",
   "metadata": {},
   "source": [
    "## preparing the dataset to only have SDi as a feature and the gt as the dependant variable"
   ]
  },
  {
   "cell_type": "code",
   "execution_count": 90,
   "id": "30aef855",
   "metadata": {},
   "outputs": [
    {
     "name": "stdout",
     "output_type": "stream",
     "text": [
      "54\n"
     ]
    },
    {
     "data": {
      "text/html": [
       "<div>\n",
       "<style scoped>\n",
       "    .dataframe tbody tr th:only-of-type {\n",
       "        vertical-align: middle;\n",
       "    }\n",
       "\n",
       "    .dataframe tbody tr th {\n",
       "        vertical-align: top;\n",
       "    }\n",
       "\n",
       "    .dataframe thead th {\n",
       "        text-align: right;\n",
       "    }\n",
       "</style>\n",
       "<table border=\"1\" class=\"dataframe\">\n",
       "  <thead>\n",
       "    <tr style=\"text-align: right;\">\n",
       "      <th></th>\n",
       "      <th>pID</th>\n",
       "      <th>gt</th>\n",
       "      <th>updrs108</th>\n",
       "      <th>afTap</th>\n",
       "      <th>sTap</th>\n",
       "      <th>nqScore</th>\n",
       "      <th>typingSpeed</th>\n",
       "      <th>file_1</th>\n",
       "      <th>SDi</th>\n",
       "      <th>Dexterity</th>\n",
       "      <th>InterQuartileRanges</th>\n",
       "      <th>Variance</th>\n",
       "    </tr>\n",
       "  </thead>\n",
       "  <tbody>\n",
       "    <tr>\n",
       "      <th>0</th>\n",
       "      <td>1000</td>\n",
       "      <td>1</td>\n",
       "      <td>27</td>\n",
       "      <td>79.0</td>\n",
       "      <td>184.5</td>\n",
       "      <td>0.107179</td>\n",
       "      <td>56.866667</td>\n",
       "      <td>1424946827.1000_001_014.csv</td>\n",
       "      <td>0.380584</td>\n",
       "      <td>0.001368</td>\n",
       "      <td>0.050800</td>\n",
       "      <td>0.003699</td>\n",
       "    </tr>\n",
       "    <tr>\n",
       "      <th>1</th>\n",
       "      <td>1001</td>\n",
       "      <td>1</td>\n",
       "      <td>16</td>\n",
       "      <td>96.5</td>\n",
       "      <td>189.0</td>\n",
       "      <td>0.056286</td>\n",
       "      <td>118.000000</td>\n",
       "      <td>1427279751.1001_001_014.csv</td>\n",
       "      <td>0.378429</td>\n",
       "      <td>0.021848</td>\n",
       "      <td>0.036200</td>\n",
       "      <td>0.001159</td>\n",
       "    </tr>\n",
       "    <tr>\n",
       "      <th>2</th>\n",
       "      <td>1002</td>\n",
       "      <td>0</td>\n",
       "      <td>5</td>\n",
       "      <td>140.0</td>\n",
       "      <td>158.0</td>\n",
       "      <td>0.039519</td>\n",
       "      <td>119.037037</td>\n",
       "      <td>1426676689.1002_001_014.csv</td>\n",
       "      <td>0.349012</td>\n",
       "      <td>0.000713</td>\n",
       "      <td>0.021000</td>\n",
       "      <td>0.000489</td>\n",
       "    </tr>\n",
       "    <tr>\n",
       "      <th>3</th>\n",
       "      <td>1004</td>\n",
       "      <td>1</td>\n",
       "      <td>22</td>\n",
       "      <td>83.5</td>\n",
       "      <td>191.5</td>\n",
       "      <td>0.034853</td>\n",
       "      <td>74.266667</td>\n",
       "      <td>1429866367.1004_001_014.csv</td>\n",
       "      <td>0.354817</td>\n",
       "      <td>0.000000</td>\n",
       "      <td>0.045775</td>\n",
       "      <td>0.001063</td>\n",
       "    </tr>\n",
       "    <tr>\n",
       "      <th>4</th>\n",
       "      <td>1005</td>\n",
       "      <td>1</td>\n",
       "      <td>17</td>\n",
       "      <td>68.0</td>\n",
       "      <td>150.0</td>\n",
       "      <td>0.048307</td>\n",
       "      <td>74.969697</td>\n",
       "      <td>1430134526.1005_001_014.csv</td>\n",
       "      <td>0.236304</td>\n",
       "      <td>0.001078</td>\n",
       "      <td>0.020200</td>\n",
       "      <td>0.000307</td>\n",
       "    </tr>\n",
       "  </tbody>\n",
       "</table>\n",
       "</div>"
      ],
      "text/plain": [
       "    pID  gt  updrs108  afTap   sTap   nqScore  typingSpeed  \\\n",
       "0  1000   1        27   79.0  184.5  0.107179    56.866667   \n",
       "1  1001   1        16   96.5  189.0  0.056286   118.000000   \n",
       "2  1002   0         5  140.0  158.0  0.039519   119.037037   \n",
       "3  1004   1        22   83.5  191.5  0.034853    74.266667   \n",
       "4  1005   1        17   68.0  150.0  0.048307    74.969697   \n",
       "\n",
       "                        file_1       SDi  Dexterity  InterQuartileRanges  \\\n",
       "0  1424946827.1000_001_014.csv  0.380584   0.001368             0.050800   \n",
       "1  1427279751.1001_001_014.csv  0.378429   0.021848             0.036200   \n",
       "2  1426676689.1002_001_014.csv  0.349012   0.000713             0.021000   \n",
       "3  1429866367.1004_001_014.csv  0.354817   0.000000             0.045775   \n",
       "4  1430134526.1005_001_014.csv  0.236304   0.001078             0.020200   \n",
       "\n",
       "   Variance  \n",
       "0  0.003699  \n",
       "1  0.001159  \n",
       "2  0.000489  \n",
       "3  0.001063  \n",
       "4  0.000307  "
      ]
     },
     "execution_count": 90,
     "metadata": {},
     "output_type": "execute_result"
    }
   ],
   "source": [
    "early_stage[\"gt\"] = early_stage[\"gt\"].astype(int)\n",
    "\n",
    "early_stage_features = early_stage[['SDi','afTap','Dexterity','InterQuartileRanges','Variance','gt']]\n",
    "early_stage_features = early_stage[['SDi','afTap','Dexterity','InterQuartileRanges','gt']]\n",
    "print(len(early_stage))\n",
    "early_stage.head()\n"
   ]
  },
  {
   "cell_type": "markdown",
   "id": "53e8bce3",
   "metadata": {},
   "source": [
    "## importing the de_novo dataset"
   ]
  },
  {
   "cell_type": "code",
   "execution_count": 91,
   "id": "4e955ab9",
   "metadata": {},
   "outputs": [
    {
     "name": "stdout",
     "output_type": "stream",
     "text": [
      "31\n"
     ]
    },
    {
     "data": {
      "text/html": [
       "<div>\n",
       "<style scoped>\n",
       "    .dataframe tbody tr th:only-of-type {\n",
       "        vertical-align: middle;\n",
       "    }\n",
       "\n",
       "    .dataframe tbody tr th {\n",
       "        vertical-align: top;\n",
       "    }\n",
       "\n",
       "    .dataframe thead th {\n",
       "        text-align: right;\n",
       "    }\n",
       "</style>\n",
       "<table border=\"1\" class=\"dataframe\">\n",
       "  <thead>\n",
       "    <tr style=\"text-align: right;\">\n",
       "      <th></th>\n",
       "      <th>pID</th>\n",
       "      <th>gt</th>\n",
       "      <th>updrs108</th>\n",
       "      <th>afTap</th>\n",
       "      <th>sTap</th>\n",
       "      <th>nqScore</th>\n",
       "      <th>typingSpeed</th>\n",
       "      <th>file_1</th>\n",
       "      <th>file_2</th>\n",
       "    </tr>\n",
       "  </thead>\n",
       "  <tbody>\n",
       "    <tr>\n",
       "      <th>0</th>\n",
       "      <td>11</td>\n",
       "      <td>True</td>\n",
       "      <td>14.25</td>\n",
       "      <td>NaN</td>\n",
       "      <td>162.25</td>\n",
       "      <td>0.117543</td>\n",
       "      <td>189.372549</td>\n",
       "      <td>1402930351.011_001_014.csv</td>\n",
       "      <td>1403706430.011_003_014.csv</td>\n",
       "    </tr>\n",
       "    <tr>\n",
       "      <th>1</th>\n",
       "      <td>60</td>\n",
       "      <td>False</td>\n",
       "      <td>2.00</td>\n",
       "      <td>NaN</td>\n",
       "      <td>162.25</td>\n",
       "      <td>0.070350</td>\n",
       "      <td>60.533333</td>\n",
       "      <td>1402932300.060_001_014.csv</td>\n",
       "      <td>1403708258.060_003_014.csv</td>\n",
       "    </tr>\n",
       "    <tr>\n",
       "      <th>2</th>\n",
       "      <td>67</td>\n",
       "      <td>True</td>\n",
       "      <td>25.25</td>\n",
       "      <td>NaN</td>\n",
       "      <td>133.75</td>\n",
       "      <td>0.223411</td>\n",
       "      <td>54.333333</td>\n",
       "      <td>1401117235.067_001_014.csv</td>\n",
       "      <td>1401978395.067_003_014.csv</td>\n",
       "    </tr>\n",
       "    <tr>\n",
       "      <th>3</th>\n",
       "      <td>68</td>\n",
       "      <td>False</td>\n",
       "      <td>6.00</td>\n",
       "      <td>NaN</td>\n",
       "      <td>159.00</td>\n",
       "      <td>0.074973</td>\n",
       "      <td>71.800000</td>\n",
       "      <td>1401114972.068_001_014.csv</td>\n",
       "      <td>1401980765.068_003_014.csv</td>\n",
       "    </tr>\n",
       "    <tr>\n",
       "      <th>4</th>\n",
       "      <td>70</td>\n",
       "      <td>True</td>\n",
       "      <td>26.25</td>\n",
       "      <td>NaN</td>\n",
       "      <td>113.50</td>\n",
       "      <td>0.175751</td>\n",
       "      <td>39.614035</td>\n",
       "      <td>1404311419.070_001_014.csv</td>\n",
       "      <td>1404743687.070_003_014.csv</td>\n",
       "    </tr>\n",
       "  </tbody>\n",
       "</table>\n",
       "</div>"
      ],
      "text/plain": [
       "   pID     gt  updrs108  afTap    sTap   nqScore  typingSpeed  \\\n",
       "0   11   True     14.25    NaN  162.25  0.117543   189.372549   \n",
       "1   60  False      2.00    NaN  162.25  0.070350    60.533333   \n",
       "2   67   True     25.25    NaN  133.75  0.223411    54.333333   \n",
       "3   68  False      6.00    NaN  159.00  0.074973    71.800000   \n",
       "4   70   True     26.25    NaN  113.50  0.175751    39.614035   \n",
       "\n",
       "                       file_1                      file_2  \n",
       "0  1402930351.011_001_014.csv  1403706430.011_003_014.csv  \n",
       "1  1402932300.060_001_014.csv  1403708258.060_003_014.csv  \n",
       "2  1401117235.067_001_014.csv  1401978395.067_003_014.csv  \n",
       "3  1401114972.068_001_014.csv  1401980765.068_003_014.csv  \n",
       "4  1404311419.070_001_014.csv  1404743687.070_003_014.csv  "
      ]
     },
     "execution_count": 91,
     "metadata": {},
     "output_type": "execute_result"
    }
   ],
   "source": [
    "## importing the de-novo dataset \n",
    "de_novo = pd.read_csv('GT_DataPD_MIT-CS1PD.csv')\n",
    "# X = dataset.iloc[:, :-1].values\n",
    "# y = dataset.iloc[:, -1].values\n",
    "print(len(de_novo))\n",
    "de_novo.head()"
   ]
  },
  {
   "cell_type": "markdown",
   "id": "7c106a12",
   "metadata": {},
   "source": [
    "## calculating the SDi for the de_novo dataset "
   ]
  },
  {
   "cell_type": "code",
   "execution_count": 92,
   "id": "67eccf8c",
   "metadata": {},
   "outputs": [
    {
     "data": {
      "text/html": [
       "<div>\n",
       "<style scoped>\n",
       "    .dataframe tbody tr th:only-of-type {\n",
       "        vertical-align: middle;\n",
       "    }\n",
       "\n",
       "    .dataframe tbody tr th {\n",
       "        vertical-align: top;\n",
       "    }\n",
       "\n",
       "    .dataframe thead th {\n",
       "        text-align: right;\n",
       "    }\n",
       "</style>\n",
       "<table border=\"1\" class=\"dataframe\">\n",
       "  <thead>\n",
       "    <tr style=\"text-align: right;\">\n",
       "      <th></th>\n",
       "      <th>pID</th>\n",
       "      <th>gt</th>\n",
       "      <th>updrs108</th>\n",
       "      <th>afTap</th>\n",
       "      <th>sTap</th>\n",
       "      <th>nqScore</th>\n",
       "      <th>typingSpeed</th>\n",
       "      <th>file_1</th>\n",
       "      <th>file_2</th>\n",
       "      <th>SDi</th>\n",
       "    </tr>\n",
       "  </thead>\n",
       "  <tbody>\n",
       "    <tr>\n",
       "      <th>0</th>\n",
       "      <td>11</td>\n",
       "      <td>True</td>\n",
       "      <td>14.25</td>\n",
       "      <td>NaN</td>\n",
       "      <td>162.25</td>\n",
       "      <td>0.117543</td>\n",
       "      <td>189.372549</td>\n",
       "      <td>1402930351.011_001_014.csv</td>\n",
       "      <td>1403706430.011_003_014.csv</td>\n",
       "      <td>0.564521</td>\n",
       "    </tr>\n",
       "    <tr>\n",
       "      <th>1</th>\n",
       "      <td>60</td>\n",
       "      <td>False</td>\n",
       "      <td>2.00</td>\n",
       "      <td>NaN</td>\n",
       "      <td>162.25</td>\n",
       "      <td>0.070350</td>\n",
       "      <td>60.533333</td>\n",
       "      <td>1402932300.060_001_014.csv</td>\n",
       "      <td>1403708258.060_003_014.csv</td>\n",
       "      <td>0.421491</td>\n",
       "    </tr>\n",
       "    <tr>\n",
       "      <th>2</th>\n",
       "      <td>67</td>\n",
       "      <td>True</td>\n",
       "      <td>25.25</td>\n",
       "      <td>NaN</td>\n",
       "      <td>133.75</td>\n",
       "      <td>0.223411</td>\n",
       "      <td>54.333333</td>\n",
       "      <td>1401117235.067_001_014.csv</td>\n",
       "      <td>1401978395.067_003_014.csv</td>\n",
       "      <td>0.448163</td>\n",
       "    </tr>\n",
       "    <tr>\n",
       "      <th>3</th>\n",
       "      <td>68</td>\n",
       "      <td>False</td>\n",
       "      <td>6.00</td>\n",
       "      <td>NaN</td>\n",
       "      <td>159.00</td>\n",
       "      <td>0.074973</td>\n",
       "      <td>71.800000</td>\n",
       "      <td>1401114972.068_001_014.csv</td>\n",
       "      <td>1401980765.068_003_014.csv</td>\n",
       "      <td>0.229087</td>\n",
       "    </tr>\n",
       "    <tr>\n",
       "      <th>4</th>\n",
       "      <td>70</td>\n",
       "      <td>True</td>\n",
       "      <td>26.25</td>\n",
       "      <td>NaN</td>\n",
       "      <td>113.50</td>\n",
       "      <td>0.175751</td>\n",
       "      <td>39.614035</td>\n",
       "      <td>1404311419.070_001_014.csv</td>\n",
       "      <td>1404743687.070_003_014.csv</td>\n",
       "      <td>0.319824</td>\n",
       "    </tr>\n",
       "  </tbody>\n",
       "</table>\n",
       "</div>"
      ],
      "text/plain": [
       "   pID     gt  updrs108  afTap    sTap   nqScore  typingSpeed  \\\n",
       "0   11   True     14.25    NaN  162.25  0.117543   189.372549   \n",
       "1   60  False      2.00    NaN  162.25  0.070350    60.533333   \n",
       "2   67   True     25.25    NaN  133.75  0.223411    54.333333   \n",
       "3   68  False      6.00    NaN  159.00  0.074973    71.800000   \n",
       "4   70   True     26.25    NaN  113.50  0.175751    39.614035   \n",
       "\n",
       "                       file_1                      file_2       SDi  \n",
       "0  1402930351.011_001_014.csv  1403706430.011_003_014.csv  0.564521  \n",
       "1  1402932300.060_001_014.csv  1403708258.060_003_014.csv  0.421491  \n",
       "2  1401117235.067_001_014.csv  1401978395.067_003_014.csv  0.448163  \n",
       "3  1401114972.068_001_014.csv  1401980765.068_003_014.csv  0.229087  \n",
       "4  1404311419.070_001_014.csv  1404743687.070_003_014.csv  0.319824  "
      ]
     },
     "execution_count": 92,
     "metadata": {},
     "output_type": "execute_result"
    }
   ],
   "source": [
    "##using both files \n",
    "SD_index = []\n",
    "for index, row in de_novo.iterrows():\n",
    "    fileloc1 = row.file_1\n",
    "    keyPressed, htArr, pressArr, releaseArr =  nq.getDataFiltHelper( 'data_MIT-CS1PD/' + de_novo.loc[index]['file_1'])\n",
    "    \n",
    "    fluctuations = []\n",
    "    for i in range(0,len(htArr)-1):\n",
    "        row1 = htArr[i]\n",
    "        row2 = htArr[i+1]\n",
    "        temp1 = np.log(row1)\n",
    "        temp2 = np.log(row2)\n",
    "        result = temp2-temp1\n",
    "        fluctuations.append(result)\n",
    "    \n",
    "    fileloc2 = row.file_2\n",
    "    keyPressed, htArr, pressArr, releaseArr =  nq.getDataFiltHelper( 'data_MIT-CS1PD/' + de_novo.loc[index]['file_2'])\n",
    "    for i in range(0,len(htArr)-1):\n",
    "        row1 = htArr[i]\n",
    "        row2 = htArr[i+1]\n",
    "        temp1 = np.log(row1)\n",
    "        temp2 = np.log(row2)\n",
    "        result = temp2-temp1\n",
    "        fluctuations.append(result)\n",
    "        \n",
    "    npFluctuations = np.array(fluctuations)\n",
    "    sd_index_score = npFluctuations.std()\n",
    "    SD_index.append(sd_index_score) \n",
    "    \n",
    "    \n",
    "de_novo[\"SDi\"] = SD_index \n",
    "de_novo.head()"
   ]
  },
  {
   "cell_type": "code",
   "execution_count": 93,
   "id": "9093cd06",
   "metadata": {},
   "outputs": [],
   "source": [
    "dexterityMetric = []\n",
    "for index, row in de_novo.iterrows():\n",
    "    fileloc1 = row.file_1\n",
    "    keyPressed, htArr, pressArr, releaseArr =  nq.getDataFiltHelper( 'data_MIT-CS1PD/' + de_novo.loc[index]['file_1'])\n",
    "    \n",
    "    dexterity = []\n",
    "    for i in range(0,len(keyPressed)-1):\n",
    "        d1 = releaseArr[i]\n",
    "        p2 = pressArr[i+1]\n",
    "        result = 0 if (d1-p2 < 0) else (d1-p2)\n",
    "        dexterity.append(result)\n",
    "    keyPressed, htArr, pressArr, releaseArr =  nq.getDataFiltHelper( 'data_MIT-CS1PD/' + de_novo.loc[index]['file_2'])\n",
    "    htArrFirst = htArr[0]\n",
    "    fluctuations.append(result)\n",
    "    for i in range(1,len(keyPressed)-1):\n",
    "        d1 = releaseArr[i]\n",
    "        p2 = pressArr[i+1]\n",
    "        result = 0 if (d1-p2 < 0) else (d1-p2)\n",
    "        dexterity.append(result)\n",
    "    npdexterity = np.array(dexterity)\n",
    "    dexterityMetric.append(npdexterity.std())\n",
    "    \n",
    "\n",
    "de_novo[\"Dexterity\"] = dexterityMetric"
   ]
  },
  {
   "cell_type": "code",
   "execution_count": 94,
   "id": "96bcee6a",
   "metadata": {},
   "outputs": [],
   "source": [
    "InterQuartileRanges =[]\n",
    "for index,row in de_novo.iterrows():\n",
    "    keyPressed, htArr, pressArr, releaseArr =  nq.getDataFiltHelper( 'data_MIT-CS1PD/' + de_novo.loc[index]['file_1'])\n",
    "    \n",
    "    \n",
    "    \n",
    "    keyPressed, htArr2, pressArr, releaseArr =  nq.getDataFiltHelper( 'data_MIT-CS1PD/' + de_novo.loc[index]['file_2'])\n",
    "    npdata = np.append(htArr,htArr2,axis = 0 )\n",
    "        \n",
    "    q3, q1 = np.percentile(npdata, [75 ,25])\n",
    "    iqr = q3 - q1\n",
    "    InterQuartileRanges.append(iqr)\n",
    "de_novo[\"InterQuartileRanges\"] = InterQuartileRanges"
   ]
  },
  {
   "cell_type": "code",
   "execution_count": 95,
   "id": "d6b3f560",
   "metadata": {},
   "outputs": [],
   "source": [
    "Variances =[]\n",
    "for index,row in de_novo.iterrows():\n",
    "    keyPressed, htArr, pressArr, releaseArr =  nq.getDataFiltHelper( 'data_MIT-CS1PD/' + de_novo.loc[index]['file_1'])\n",
    "    \n",
    "    \n",
    "    \n",
    "    keyPressed, htArr2, pressArr, releaseArr =  nq.getDataFiltHelper( 'data_MIT-CS1PD/' + de_novo.loc[index]['file_2'])\n",
    "    npdata = np.append(htArr,htArr2,axis = 0 )\n",
    "    Variances.append(np.var(npdata))\n",
    "de_novo[\"Variance\"] = Variances"
   ]
  },
  {
   "cell_type": "markdown",
   "id": "979ae0e3",
   "metadata": {},
   "source": [
    "## trimming the de_novo dataset to contain only the SDi as a feature and the gt as the target variable "
   ]
  },
  {
   "cell_type": "code",
   "execution_count": 96,
   "id": "5a736f40",
   "metadata": {},
   "outputs": [
    {
     "data": {
      "text/html": [
       "<div>\n",
       "<style scoped>\n",
       "    .dataframe tbody tr th:only-of-type {\n",
       "        vertical-align: middle;\n",
       "    }\n",
       "\n",
       "    .dataframe tbody tr th {\n",
       "        vertical-align: top;\n",
       "    }\n",
       "\n",
       "    .dataframe thead th {\n",
       "        text-align: right;\n",
       "    }\n",
       "</style>\n",
       "<table border=\"1\" class=\"dataframe\">\n",
       "  <thead>\n",
       "    <tr style=\"text-align: right;\">\n",
       "      <th></th>\n",
       "      <th>pID</th>\n",
       "      <th>gt</th>\n",
       "      <th>updrs108</th>\n",
       "      <th>afTap</th>\n",
       "      <th>sTap</th>\n",
       "      <th>nqScore</th>\n",
       "      <th>typingSpeed</th>\n",
       "      <th>file_1</th>\n",
       "      <th>file_2</th>\n",
       "      <th>SDi</th>\n",
       "      <th>Dexterity</th>\n",
       "      <th>InterQuartileRanges</th>\n",
       "      <th>Variance</th>\n",
       "    </tr>\n",
       "  </thead>\n",
       "  <tbody>\n",
       "    <tr>\n",
       "      <th>0</th>\n",
       "      <td>11</td>\n",
       "      <td>1</td>\n",
       "      <td>14.25</td>\n",
       "      <td>NaN</td>\n",
       "      <td>162.25</td>\n",
       "      <td>0.117543</td>\n",
       "      <td>189.372549</td>\n",
       "      <td>1402930351.011_001_014.csv</td>\n",
       "      <td>1403706430.011_003_014.csv</td>\n",
       "      <td>0.564521</td>\n",
       "      <td>0.012277</td>\n",
       "      <td>0.052500</td>\n",
       "      <td>0.002587</td>\n",
       "    </tr>\n",
       "    <tr>\n",
       "      <th>1</th>\n",
       "      <td>60</td>\n",
       "      <td>0</td>\n",
       "      <td>2.00</td>\n",
       "      <td>NaN</td>\n",
       "      <td>162.25</td>\n",
       "      <td>0.070350</td>\n",
       "      <td>60.533333</td>\n",
       "      <td>1402932300.060_001_014.csv</td>\n",
       "      <td>1403708258.060_003_014.csv</td>\n",
       "      <td>0.421491</td>\n",
       "      <td>0.001475</td>\n",
       "      <td>0.049800</td>\n",
       "      <td>0.001659</td>\n",
       "    </tr>\n",
       "    <tr>\n",
       "      <th>2</th>\n",
       "      <td>67</td>\n",
       "      <td>1</td>\n",
       "      <td>25.25</td>\n",
       "      <td>NaN</td>\n",
       "      <td>133.75</td>\n",
       "      <td>0.223411</td>\n",
       "      <td>54.333333</td>\n",
       "      <td>1401117235.067_001_014.csv</td>\n",
       "      <td>1401978395.067_003_014.csv</td>\n",
       "      <td>0.448163</td>\n",
       "      <td>0.002181</td>\n",
       "      <td>0.108200</td>\n",
       "      <td>0.005904</td>\n",
       "    </tr>\n",
       "    <tr>\n",
       "      <th>3</th>\n",
       "      <td>68</td>\n",
       "      <td>0</td>\n",
       "      <td>6.00</td>\n",
       "      <td>NaN</td>\n",
       "      <td>159.00</td>\n",
       "      <td>0.074973</td>\n",
       "      <td>71.800000</td>\n",
       "      <td>1401114972.068_001_014.csv</td>\n",
       "      <td>1401980765.068_003_014.csv</td>\n",
       "      <td>0.229087</td>\n",
       "      <td>0.000000</td>\n",
       "      <td>0.032000</td>\n",
       "      <td>0.000640</td>\n",
       "    </tr>\n",
       "    <tr>\n",
       "      <th>4</th>\n",
       "      <td>70</td>\n",
       "      <td>1</td>\n",
       "      <td>26.25</td>\n",
       "      <td>NaN</td>\n",
       "      <td>113.50</td>\n",
       "      <td>0.175751</td>\n",
       "      <td>39.614035</td>\n",
       "      <td>1404311419.070_001_014.csv</td>\n",
       "      <td>1404743687.070_003_014.csv</td>\n",
       "      <td>0.319824</td>\n",
       "      <td>0.000000</td>\n",
       "      <td>0.053925</td>\n",
       "      <td>0.001793</td>\n",
       "    </tr>\n",
       "  </tbody>\n",
       "</table>\n",
       "</div>"
      ],
      "text/plain": [
       "   pID  gt  updrs108  afTap    sTap   nqScore  typingSpeed  \\\n",
       "0   11   1     14.25    NaN  162.25  0.117543   189.372549   \n",
       "1   60   0      2.00    NaN  162.25  0.070350    60.533333   \n",
       "2   67   1     25.25    NaN  133.75  0.223411    54.333333   \n",
       "3   68   0      6.00    NaN  159.00  0.074973    71.800000   \n",
       "4   70   1     26.25    NaN  113.50  0.175751    39.614035   \n",
       "\n",
       "                       file_1                      file_2       SDi  \\\n",
       "0  1402930351.011_001_014.csv  1403706430.011_003_014.csv  0.564521   \n",
       "1  1402932300.060_001_014.csv  1403708258.060_003_014.csv  0.421491   \n",
       "2  1401117235.067_001_014.csv  1401978395.067_003_014.csv  0.448163   \n",
       "3  1401114972.068_001_014.csv  1401980765.068_003_014.csv  0.229087   \n",
       "4  1404311419.070_001_014.csv  1404743687.070_003_014.csv  0.319824   \n",
       "\n",
       "   Dexterity  InterQuartileRanges  Variance  \n",
       "0   0.012277             0.052500  0.002587  \n",
       "1   0.001475             0.049800  0.001659  \n",
       "2   0.002181             0.108200  0.005904  \n",
       "3   0.000000             0.032000  0.000640  \n",
       "4   0.000000             0.053925  0.001793  "
      ]
     },
     "execution_count": 96,
     "metadata": {},
     "output_type": "execute_result"
    }
   ],
   "source": [
    "de_novo[\"gt\"] = de_novo[\"gt\"].astype(int)\n",
    "\n",
    "de_novo_features = de_novo[['SDi','afTap','Dexterity','InterQuartileRanges','Variance','gt']]\n",
    "de_novo_features =de_novo[['SDi','afTap','Dexterity','InterQuartileRanges','gt']]\n",
    "de_novo.head()"
   ]
  },
  {
   "cell_type": "markdown",
   "id": "0aede7ab",
   "metadata": {},
   "source": [
    "## splitting the de_novo patients to double the dataset size by considering file_2 of a patient a different "
   ]
  },
  {
   "cell_type": "code",
   "execution_count": null,
   "id": "b0781d52",
   "metadata": {},
   "outputs": [],
   "source": []
  },
  {
   "cell_type": "markdown",
   "id": "c4e9b7a0",
   "metadata": {},
   "source": [
    "## appending the datasets together"
   ]
  },
  {
   "cell_type": "code",
   "execution_count": 97,
   "id": "98250a9f",
   "metadata": {
    "scrolled": true
   },
   "outputs": [
    {
     "name": "stdout",
     "output_type": "stream",
     "text": [
      "54\n",
      "31\n",
      "54\n"
     ]
    },
    {
     "name": "stderr",
     "output_type": "stream",
     "text": [
      "C:\\Users\\micoa\\AppData\\Local\\Temp\\ipykernel_26088\\838164722.py:3: FutureWarning: The frame.append method is deprecated and will be removed from pandas in a future version. Use pandas.concat instead.\n",
      "  Xy = early_stage_features.append(de_novo_features, ignore_index=True)\n"
     ]
    }
   ],
   "source": [
    "print(len(early_stage))\n",
    "print(len(de_novo))\n",
    "Xy = early_stage_features.append(de_novo_features, ignore_index=True)\n",
    "print(len(early_stage))\n"
   ]
  },
  {
   "cell_type": "code",
   "execution_count": 98,
   "id": "d1df84ae",
   "metadata": {},
   "outputs": [
    {
     "name": "stdout",
     "output_type": "stream",
     "text": [
      "                          SDi     afTap  Dexterity  InterQuartileRanges  \\\n",
      "SDi                  1.000000  0.020574   0.295935             0.762871   \n",
      "afTap                0.020574  1.000000   0.114554            -0.172438   \n",
      "Dexterity            0.295935  0.114554   1.000000             0.290355   \n",
      "InterQuartileRanges  0.762871 -0.172438   0.290355             1.000000   \n",
      "gt                   0.443386 -0.560243   0.275469             0.477395   \n",
      "\n",
      "                           gt  \n",
      "SDi                  0.443386  \n",
      "afTap               -0.560243  \n",
      "Dexterity            0.275469  \n",
      "InterQuartileRanges  0.477395  \n",
      "gt                   1.000000  \n"
     ]
    }
   ],
   "source": [
    "print(Xy.corr())"
   ]
  },
  {
   "cell_type": "code",
   "execution_count": 99,
   "id": "057c7d3a",
   "metadata": {},
   "outputs": [
    {
     "name": "stdout",
     "output_type": "stream",
     "text": [
      "Anova F: the variables are Correlated (p-value: 0.0)\n"
     ]
    }
   ],
   "source": [
    "import statsmodels.formula.api as smf\n",
    "import statsmodels.api as sm\n",
    "cat, num = \"gt\", \"Variance\"\n",
    "model = smf.ols(num+' ~ '+cat, data=early_stage).fit()\n",
    "table = sm.stats.anova_lm(model)\n",
    "p = table[\"PR(>F)\"][0]\n",
    "coeff, p = None, round(p, 3)\n",
    "conclusion = \"Correlated\" if p < 0.05 else \"Non-Correlated\"\n",
    "print(\"Anova F: the variables are\", conclusion, \"(p-value: \"+str(p)+\")\")"
   ]
  },
  {
   "cell_type": "code",
   "execution_count": 100,
   "id": "5f0ef05f",
   "metadata": {},
   "outputs": [
    {
     "name": "stdout",
     "output_type": "stream",
     "text": [
      "Anova F: the variables are Correlated (p-value: 0.0)\n"
     ]
    }
   ],
   "source": [
    "import statsmodels.formula.api as smf\n",
    "import statsmodels.api as sm\n",
    "cat, num = \"gt\", \"afTap\"\n",
    "model = smf.ols(num+' ~ '+cat, data=early_stage).fit()\n",
    "table = sm.stats.anova_lm(model)\n",
    "p = table[\"PR(>F)\"][0]\n",
    "coeff, p = None, round(p, 3)\n",
    "conclusion = \"Correlated\" if p < 0.05 else \"Non-Correlated\"\n",
    "print(\"Anova F: the variables are\", conclusion, \"(p-value: \"+str(p)+\")\")"
   ]
  },
  {
   "cell_type": "code",
   "execution_count": null,
   "id": "c953f7d8",
   "metadata": {},
   "outputs": [],
   "source": []
  },
  {
   "cell_type": "markdown",
   "id": "db533f19",
   "metadata": {},
   "source": [
    "## splitting the data into features and dependant variable and further splitting into train and testing data"
   ]
  },
  {
   "cell_type": "code",
   "execution_count": 101,
   "id": "ccb2f6fe",
   "metadata": {},
   "outputs": [],
   "source": [
    "\n",
    "X = Xy.iloc[:, :-1].values\n",
    "y = Xy.iloc[:, -1].values"
   ]
  },
  {
   "cell_type": "code",
   "execution_count": 102,
   "id": "0102dfa7",
   "metadata": {},
   "outputs": [],
   "source": [
    "from sklearn.metrics import ConfusionMatrixDisplay,accuracy_score\n",
    "from sklearn.model_selection import cross_val_score\n",
    "from sklearn.model_selection import KFold\n",
    "from sklearn.pipeline import Pipeline\n",
    "def testClassifierRaw(classifier,X,y):\n",
    "    pipe = Pipeline([('scaler', StandardScaler()), ('classifer', classifier)])\n",
    "    X_train,X_test,y_train,y_test = train_test_split(X,y,test_size=0.2,stratify=y,random_state=0)\n",
    "    pipe.fit(X_train,y_train)\n",
    "    y_pred =  pipe.predict(X_test)\n",
    "    titles_options = [\n",
    "    (\"Confusion matrix, without normalization\", None),\n",
    "    (\"Normalized confusion matrix\", \"true\"),]\n",
    "    for title, normalize in titles_options:\n",
    "        disp = ConfusionMatrixDisplay.from_estimator(\n",
    "            pipe,\n",
    "            X_test,\n",
    "            y_test,\n",
    "            display_labels=None ,\n",
    "            cmap=plt.cm.Blues,\n",
    "            normalize=normalize,\n",
    "        )\n",
    "        disp.ax_.set_title(title)\n",
    "\n",
    "        print(title)\n",
    "        print(disp.confusion_matrix)\n",
    "\n",
    "    plt.show()\n",
    "    print(\"Accuracy score : \" + str(accuracy_score(y_test, y_pred,  normalize=True, sample_weight=None)))\n",
    "    X = np.concatenate((X_train, X_test), axis=0) \n",
    "    y = np.concatenate((y_train, y_test), axis=0)\n",
    "    scores = cross_val_score(pipe,X,y,cv=5)\n",
    "    print(\"Mean accuracy of 5 fold cross validation test : \"+ str(scores.mean()))\n",
    "    print(\"with a maximum accuracy of \" + str(scores.max()))\n",
    "    scores = cross_val_score(pipe,X,y,cv=10)\n",
    "    print(\"Mean accuracy of 10 fold cross validation test : \"+ str(scores.mean()))\n",
    "    print(\"with a maximum accuracy of \" + str(scores.max()))\n",
    "    scores = cross_val_score(pipe,X,y,cv=KFold(85))\n",
    "    print(\"Mean accuracy of n fold cross validation test : \"+ str(scores.mean()))\n",
    "    print(\"with a maximum accuracy of \" + str(scores.max()))\n",
    "    scores = cross_val_score(pipe,X,y,cv=KFold())\n",
    "    print(\"Mean accuracy of n fold cross validation test : \"+ str(scores.mean()))\n",
    "    print(\"with a maximum accuracy of \" + str(scores.max()))"
   ]
  },
  {
   "cell_type": "code",
   "execution_count": null,
   "id": "af6c7e67",
   "metadata": {},
   "outputs": [],
   "source": []
  },
  {
   "cell_type": "code",
   "execution_count": 103,
   "id": "78ca4a01",
   "metadata": {},
   "outputs": [
    {
     "name": "stdout",
     "output_type": "stream",
     "text": [
      "[[3.80584214e-01 7.90000000e+01 1.36823497e-03 5.08000000e-02]\n",
      " [3.78428780e-01 9.65000000e+01 2.18476127e-02 3.62000000e-02]\n",
      " [3.49012031e-01 1.40000000e+02 7.12569236e-04 2.10000000e-02]\n",
      " [3.54816649e-01 8.35000000e+01 0.00000000e+00 4.57750000e-02]\n",
      " [2.36303990e-01 6.80000000e+01 1.07759165e-03 2.02000000e-02]\n",
      " [4.30975746e-01 9.30000000e+01 6.77585959e-03 3.48000000e-02]\n",
      " [5.85703902e-01 1.30000000e+02 1.25543177e-02 7.22000000e-02]\n",
      " [3.66078523e-01 8.25000000e+01 6.43568120e-03 5.18500000e-02]\n",
      " [2.96537682e-01 1.35000000e+02 9.80421165e-03 2.39000000e-02]\n",
      " [3.21619863e-01 1.20000000e+02 6.68184704e-03 2.52000000e-02]\n",
      " [2.69081139e-01 1.72500000e+02 2.52153314e-04 1.94000000e-02]\n",
      " [3.28354547e-01 1.26000000e+02 1.76626867e-02 3.79500000e-02]\n",
      " [5.66683222e-01 9.60000000e+01 2.49655386e-02 8.36000000e-02]\n",
      " [2.51682478e-01 1.17500000e+02 0.00000000e+00 2.35750000e-02]\n",
      " [4.31034950e-01 1.67500000e+02 5.42268635e-03 3.03500000e-02]\n",
      " [3.46295278e-01 6.10000000e+01 0.00000000e+00 6.61000000e-02]\n",
      " [4.83142457e-01 9.40000000e+01 1.32872349e-02 6.10500000e-02]\n",
      " [4.58440834e-01 1.19000000e+02 1.04328971e-02 5.95500000e-02]\n",
      " [2.66963818e-01 9.65000000e+01 0.00000000e+00 2.48000000e-02]\n",
      " [3.85446467e-01 1.42000000e+02 1.70179943e-02 5.56000000e-02]\n",
      " [4.84715105e-01 1.17500000e+02 1.29502917e-02 4.01500000e-02]\n",
      " [3.71893360e-01 1.22500000e+02 8.98505249e-03 3.65000000e-02]\n",
      " [6.96365848e-01 1.31500000e+02 0.00000000e+00 1.41200000e-01]\n",
      " [4.78367790e-01 1.10500000e+02 5.22378381e-03 5.30500000e-02]\n",
      " [3.44517773e-01 1.61500000e+02 3.65714312e-03 3.83000000e-02]\n",
      " [3.67109797e-01 1.52500000e+02 1.60901429e-02 3.50000000e-02]\n",
      " [3.79150211e-01 1.21000000e+02 6.44553269e-03 3.99000000e-02]\n",
      " [3.97290922e-01 1.49500000e+02 4.72054813e-03 3.38000000e-02]\n",
      " [4.10902056e-01 1.11000000e+02 3.20807629e-03 2.34500000e-02]\n",
      " [3.22224989e-01 5.85000000e+01 8.71338135e-03 2.21250000e-02]\n",
      " [3.92787801e-01 1.20500000e+02 0.00000000e+00 4.46000000e-02]\n",
      " [5.18041338e-01 6.55000000e+01 1.31025384e-03 4.01750000e-02]\n",
      " [2.60728503e-01 1.41500000e+02 1.26144137e-03 1.54000000e-02]\n",
      " [3.19985590e-01 7.40000000e+01 4.33990694e-03 5.20000000e-02]\n",
      " [3.17146881e-01 1.45000000e+02 1.17366450e-02 3.54000000e-02]\n",
      " [2.23315830e-01 1.01500000e+02 2.61155499e-03 1.37000000e-02]\n",
      " [3.35964179e-01 1.31000000e+02 3.11392463e-03 2.98750000e-02]\n",
      " [4.91947515e-01 1.06500000e+02 5.31263342e-03 7.40750000e-02]\n",
      " [2.79827624e-01 8.40000000e+01 5.33744885e-05 2.16250000e-02]\n",
      " [2.24216066e-01 1.29500000e+02 0.00000000e+00 1.91500000e-02]\n",
      " [2.78100172e-01 8.90000000e+01 0.00000000e+00 4.78000000e-02]\n",
      " [4.21841670e-01 1.28000000e+02 9.88726701e-03 4.99500000e-02]\n",
      " [2.33508490e-01 9.00000000e+01 0.00000000e+00 3.63000000e-02]\n",
      " [3.20161127e-01 1.26500000e+02 0.00000000e+00 4.85500000e-02]\n",
      " [4.03545189e-01 1.62000000e+02 1.90543656e-02 3.91000000e-02]\n",
      " [1.99801765e-01 6.65000000e+01 0.00000000e+00 3.04750000e-02]\n",
      " [3.24108450e-01 1.00500000e+02 4.40153278e-03 2.26000000e-02]\n",
      " [2.81318960e-01 1.20500000e+02 0.00000000e+00 1.66000000e-02]\n",
      " [3.06040919e-01 1.15500000e+02 8.85400547e-04 1.09000000e-02]\n",
      " [4.90037992e-01 1.10000000e+02 4.95840086e-03 5.85500000e-02]\n",
      " [4.60811466e-01 7.55000000e+01 1.69024099e-02 8.47750000e-02]\n",
      " [3.20874066e-01 1.18000000e+02 5.90658732e-03 3.39500000e-02]\n",
      " [2.55045005e-01 6.55000000e+01 0.00000000e+00 3.88500000e-02]\n",
      " [4.11064873e-01 1.26000000e+02 0.00000000e+00 4.25000000e-02]\n",
      " [5.64520821e-01 1.12625000e+02 1.22770497e-02 5.25000000e-02]\n",
      " [4.21491088e-01 1.12625000e+02 1.47480374e-03 4.98000000e-02]\n",
      " [4.48162785e-01 1.12625000e+02 2.18052498e-03 1.08200000e-01]\n",
      " [2.29086955e-01 1.12625000e+02 0.00000000e+00 3.20000000e-02]\n",
      " [3.19824421e-01 1.12625000e+02 0.00000000e+00 5.39250000e-02]\n",
      " [3.34962477e-01 1.32500000e+02 1.28323983e-02 4.58000000e-02]\n",
      " [5.25507738e-01 1.12625000e+02 2.49936888e-02 8.27000000e-02]\n",
      " [4.83730665e-01 9.92500000e+01 3.50339715e-03 3.61000000e-02]\n",
      " [4.35597993e-01 1.12625000e+02 3.37438100e-02 6.56000000e-02]\n",
      " [3.00051437e-01 7.92500000e+01 1.80041495e-02 4.48000000e-02]\n",
      " [3.74079431e-01 1.36750000e+02 1.93376917e-02 4.89250000e-02]\n",
      " [2.86097773e-01 1.12625000e+02 0.00000000e+00 1.45000000e-02]\n",
      " [3.75130109e-01 4.95000000e+01 1.10469449e-02 8.50000000e-02]\n",
      " [4.37980867e-01 1.48750000e+02 1.85147495e-03 4.50250000e-02]\n",
      " [4.92668267e-01 9.20000000e+01 6.61983254e-03 6.09000000e-02]\n",
      " [4.14588391e-01 1.12625000e+02 3.89512055e-04 6.13000000e-02]\n",
      " [4.34017491e-01 9.60000000e+01 2.11134423e-03 2.09750000e-02]\n",
      " [2.90417037e-01 1.52000000e+02 4.62606829e-03 2.46000000e-02]\n",
      " [5.20527939e-01 9.77500000e+01 1.44004832e-03 4.33000000e-02]\n",
      " [4.96685985e-01 1.07750000e+02 8.54409140e-04 5.90000000e-02]\n",
      " [3.17836687e-01 1.14750000e+02 8.57755210e-05 2.36000000e-02]\n",
      " [3.57644112e-01 1.18250000e+02 6.97625439e-03 2.68000000e-02]\n",
      " [3.95054039e-01 9.50000000e+01 7.90255486e-03 5.09750000e-02]\n",
      " [3.16662578e-01 1.44250000e+02 5.84950609e-03 4.21000000e-02]\n",
      " [8.67071517e-01 1.01250000e+02 9.80849452e-03 1.36800000e-01]\n",
      " [4.36290746e-01 1.16000000e+02 7.23601272e-03 5.13000000e-02]\n",
      " [4.34181794e-01 1.42000000e+02 2.48130259e-03 4.08000000e-02]\n",
      " [4.47776438e-01 2.13000000e+02 9.43419287e-03 4.48750000e-02]\n",
      " [4.14026325e-01 9.20000000e+01 1.03697491e-02 7.07000000e-02]\n",
      " [6.31224068e-01 8.70000000e+01 3.36393233e-03 8.16750000e-02]\n",
      " [2.78643597e-01 9.65000000e+01 3.59471545e-03 1.84750000e-02]]\n"
     ]
    }
   ],
   "source": [
    "from sklearn import impute\n",
    "from numpy.ma.core import mean\n",
    "#filling missing data with the average of the data around it \n",
    "from sklearn.impute import SimpleImputer\n",
    "imputer  = SimpleImputer(missing_values=np.nan, strategy=\"mean\")\n",
    "# imputer.fit(x[:,1:3])\n",
    "# x[:,1:3] = imputer.transform(x[:,1:3])\n",
    "#combines the two lines into one \n",
    "X[:,1:2] = imputer.fit_transform(X[:,1:2])\n",
    "print(X)"
   ]
  },
  {
   "cell_type": "code",
   "execution_count": 104,
   "id": "eddc23bc",
   "metadata": {},
   "outputs": [],
   "source": [
    "# from sklearn.decomposition import PCA\n",
    "# pca = PCA(1)\n",
    "# principalComponents = pca.fit_transform(X)\n",
    "# print(pca.n_components_)\n",
    "# print(np.array(X).shape)\n"
   ]
  },
  {
   "cell_type": "code",
   "execution_count": 105,
   "id": "dde9fd9e",
   "metadata": {},
   "outputs": [
    {
     "data": {
      "text/plain": [
       "array([[1.        , 0.99999959],\n",
       "       [0.99999959, 1.        ]])"
      ]
     },
     "execution_count": 105,
     "metadata": {},
     "output_type": "execute_result"
    }
   ],
   "source": [
    "np.corrcoef(X[0], X[1])"
   ]
  },
  {
   "cell_type": "code",
   "execution_count": 106,
   "id": "d82068ca",
   "metadata": {},
   "outputs": [],
   "source": [
    "# import seaborn as sns\n",
    "# from sklearn.preprocessing import StandardScaler\n",
    "# sc = StandardScaler()\n",
    "# dataframe = X\n",
    "# dataframe[2]=y\n",
    "# dataframe['SDi','afTap'] = sc.fit_transform(X)\n",
    "# cov = np.cov(dataframe.T, bias=True)\n",
    "# labs = ['SDi', 'afTap']\n",
    "# sns.heatmap(cov, annot=True, fmt='g', xticklabels=labs, yticklabels=labs)\n",
    "# print(np.shape(cov))"
   ]
  },
  {
   "cell_type": "code",
   "execution_count": 107,
   "id": "3e774c2c",
   "metadata": {},
   "outputs": [],
   "source": [
    "from sklearn.model_selection import train_test_split\n",
    "X_train,X_test,y_train,y_test = train_test_split(X,y,test_size=0.2,stratify=y,random_state=0)"
   ]
  },
  {
   "cell_type": "code",
   "execution_count": 108,
   "id": "2d7428e4",
   "metadata": {},
   "outputs": [],
   "source": [
    "from sklearn.preprocessing import StandardScaler\n",
    "sc = StandardScaler()\n",
    "X_train = sc.fit_transform(X_train)\n",
    "X_test =  sc.transform(X_test)"
   ]
  },
  {
   "cell_type": "code",
   "execution_count": 109,
   "id": "37881a3b",
   "metadata": {},
   "outputs": [
    {
     "name": "stdout",
     "output_type": "stream",
     "text": [
      "4\n",
      "(85, 4)\n"
     ]
    }
   ],
   "source": [
    "from sklearn.decomposition import PCA\n",
    "pca = PCA(0.99)\n",
    "principalComponents = pca.fit_transform(X_train)\n",
    "print(pca.n_components_)\n",
    "print(np.array(X).shape)\n",
    "X_train = pca.transform(X_train)\n",
    "X_test = pca.transform(X_test)"
   ]
  },
  {
   "cell_type": "code",
   "execution_count": 110,
   "id": "c45feb01",
   "metadata": {},
   "outputs": [
    {
     "data": {
      "text/plain": [
       "LogisticRegression(random_state=0)"
      ]
     },
     "execution_count": 110,
     "metadata": {},
     "output_type": "execute_result"
    }
   ],
   "source": [
    "from sklearn.linear_model import LogisticRegression\n",
    "classifier = LogisticRegression(random_state=0)\n",
    "classifier.fit(X_train,y_train)"
   ]
  },
  {
   "cell_type": "code",
   "execution_count": 111,
   "id": "b40bfcc0",
   "metadata": {},
   "outputs": [
    {
     "name": "stdout",
     "output_type": "stream",
     "text": [
      "[[0 0]\n",
      " [0 0]\n",
      " [1 1]\n",
      " [0 0]\n",
      " [0 0]\n",
      " [1 1]\n",
      " [1 1]\n",
      " [0 0]\n",
      " [1 1]\n",
      " [1 1]\n",
      " [0 0]\n",
      " [0 0]\n",
      " [1 1]\n",
      " [1 1]\n",
      " [1 1]\n",
      " [0 0]\n",
      " [1 0]]\n",
      "17\n"
     ]
    }
   ],
   "source": [
    "y_pred =  classifier.predict(X_test)\n",
    "print(np.concatenate((y_pred.reshape(len(y_pred),1),y_test.reshape(len(y_test),1)),1))\n",
    "print(len(y_pred))"
   ]
  },
  {
   "cell_type": "code",
   "execution_count": 112,
   "id": "feffb899",
   "metadata": {
    "scrolled": false
   },
   "outputs": [
    {
     "name": "stdout",
     "output_type": "stream",
     "text": [
      "Confusion matrix, without normalization\n",
      "[[8 1]\n",
      " [0 8]]\n",
      "Normalized confusion matrix\n",
      "[[0.88888889 0.11111111]\n",
      " [0.         1.        ]]\n"
     ]
    },
    {
     "data": {
      "image/png": "[encoded data removed]",
      "text/plain": [
       "<Figure size 432x288 with 2 Axes>"
      ]
     },
     "metadata": {
      "needs_background": "light"
     },
     "output_type": "display_data"
    },
    {
     "data": {
      "image/png": "[encoded data removed]",
      "text/plain": [
       "<Figure size 432x288 with 2 Axes>"
      ]
     },
     "metadata": {
      "needs_background": "light"
     },
     "output_type": "display_data"
    },
    {
     "name": "stdout",
     "output_type": "stream",
     "text": [
      "Accuracy score : 0.9411764705882353\n"
     ]
    }
   ],
   "source": [
    "from sklearn.metrics import ConfusionMatrixDisplay,accuracy_score\n",
    "\n",
    "titles_options = [\n",
    "    (\"Confusion matrix, without normalization\", None),\n",
    "    (\"Normalized confusion matrix\", \"true\"),\n",
    "]\n",
    "for title, normalize in titles_options:\n",
    "    disp = ConfusionMatrixDisplay.from_estimator(\n",
    "        classifier,\n",
    "        X_test,\n",
    "        y_test,\n",
    "        display_labels=None ,\n",
    "        cmap=plt.cm.Blues,\n",
    "        normalize=normalize,\n",
    "    )\n",
    "    disp.ax_.set_title(title)\n",
    "\n",
    "    print(title)\n",
    "    print(disp.confusion_matrix)\n",
    "\n",
    "plt.show()\n",
    "print(\"Accuracy score : \" + str(accuracy_score(y_test, y_pred,  normalize=True, sample_weight=None)))"
   ]
  },
  {
   "cell_type": "code",
   "execution_count": 113,
   "id": "6be0ab6c",
   "metadata": {},
   "outputs": [],
   "source": [
    "# from matplotlib.colors import ListedColormap\n",
    "# X_set, y_set = sc.inverse_transform(X_train), y_train\n",
    "# X1, X2 = np.meshgrid(np.arange(start = X_set[:, 0].min() -0.1 , stop = X_set[:, 0].max() + 0.1 , step = 0.001),\n",
    "#                      np.arange(start = X_set[:, 1].min() - 10, stop = X_set[:, 1].max() + 10, step = 0.001))\n",
    "# plt.contourf(X1, X2, classifier.predict(sc.transform(np.array([X1.ravel(), X2.ravel()]).T)).reshape(X1.shape),\n",
    "#              alpha = 0.75, cmap = ListedColormap(('red', 'green')))\n",
    "# plt.xlim(X1.min(), X1.max())\n",
    "# plt.ylim(X2.min(), X2.max())\n",
    "# for i, j in enumerate(np.unique(y_set)):\n",
    "#     plt.scatter(X_set[y_set == j, 0], X_set[y_set == j, 1], c = ListedColormap(('red', 'green'))(i), label = j)\n",
    "# plt.title('Logistic regression  (Training set)')\n",
    "# plt.xlabel('SDi')\n",
    "# plt.ylabel('afTap')\n",
    "# plt.legend()\n",
    "# plt.show()"
   ]
  },
  {
   "cell_type": "code",
   "execution_count": 114,
   "id": "181931dd",
   "metadata": {
    "scrolled": true
   },
   "outputs": [],
   "source": [
    "# from matplotlib.colors import ListedColormap\n",
    "# X_set, y_set = sc.inverse_transform(X_test), y_test\n",
    "# X1, X2 = np.meshgrid(np.arange(start = X_set[:, 0].min() - 0.1, stop = X_set[:, 0].max() + 0.1, step = 0.001),\n",
    "#                      np.arange(start = X_set[:, 1].min() - 10, stop = X_set[:, 1].max() + 10, step = 0.001))\n",
    "# plt.contourf(X1, X2, classifier.predict(sc.transform(np.array([X1.ravel(), X2.ravel()]).T)).reshape(X1.shape),\n",
    "#              alpha = 0.75, cmap = ListedColormap(('red', 'green')))\n",
    "# plt.xlim(X1.min(), X1.max())\n",
    "# plt.ylim(X2.min(), X2.max())\n",
    "# for i, j in enumerate(np.unique(y_set)):\n",
    "#     plt.scatter(X_set[y_set == j, 0], X_set[y_set == j, 1], c = ListedColormap(('red', 'green'))(i), label = j)\n",
    "# plt.title('Logistic Regression  (Test set)')\n",
    "# plt.xlabel('SDi')\n",
    "# plt.ylabel('afTap')\n",
    "# plt.legend()\n",
    "# plt.show()"
   ]
  },
  {
   "cell_type": "code",
   "execution_count": 115,
   "id": "0a4b7f94",
   "metadata": {},
   "outputs": [
    {
     "name": "stderr",
     "output_type": "stream",
     "text": [
      "C:\\Python310\\lib\\site-packages\\sklearn\\utils\\deprecation.py:87: FutureWarning: Function plot_roc_curve is deprecated; This will be removed in v0.5.0. Please use scikitplot.metrics.plot_roc instead.\n",
      "  warnings.warn(msg, category=FutureWarning)\n"
     ]
    },
    {
     "data": {
      "image/png": "[encoded data removed]",
      "text/plain": [
       "<Figure size 864x432 with 1 Axes>"
      ]
     },
     "metadata": {
      "needs_background": "light"
     },
     "output_type": "display_data"
    }
   ],
   "source": [
    "import scikitplot as skplt\n",
    "Y_test_probs = classifier.predict_proba(X_test)\n",
    "\n",
    "skplt.metrics.plot_roc_curve(y_test, Y_test_probs,\n",
    "                       title=\" ROC Curve\", figsize=(12,6));"
   ]
  },
  {
   "cell_type": "markdown",
   "id": "e80b3ee1",
   "metadata": {},
   "source": [
    "## attempting to use K-neighrest neighbour "
   ]
  },
  {
   "cell_type": "code",
   "execution_count": 116,
   "id": "6a02f5b4",
   "metadata": {},
   "outputs": [
    {
     "data": {
      "text/plain": [
       "KNeighborsClassifier(n_neighbors=10)"
      ]
     },
     "execution_count": 116,
     "metadata": {},
     "output_type": "execute_result"
    }
   ],
   "source": [
    "from sklearn.neighbors import KNeighborsClassifier\n",
    "classifier = KNeighborsClassifier(n_neighbors=10)\n",
    "classifier.fit(X_train,y_train)"
   ]
  },
  {
   "cell_type": "code",
   "execution_count": 117,
   "id": "8a9a0897",
   "metadata": {
    "scrolled": true
   },
   "outputs": [
    {
     "name": "stdout",
     "output_type": "stream",
     "text": [
      "[[0 0]\n",
      " [0 0]\n",
      " [0 1]\n",
      " [0 0]\n",
      " [0 0]\n",
      " [1 1]\n",
      " [0 1]\n",
      " [0 0]\n",
      " [1 1]\n",
      " [1 1]\n",
      " [0 0]\n",
      " [0 0]\n",
      " [1 1]\n",
      " [1 1]\n",
      " [1 1]\n",
      " [0 0]\n",
      " [1 0]]\n"
     ]
    }
   ],
   "source": [
    "y_pred = classifier.predict(X_test)\n",
    "print(np.concatenate((y_pred.reshape(len(y_pred),1), y_test.reshape(len(y_test),1)),1))"
   ]
  },
  {
   "cell_type": "code",
   "execution_count": 118,
   "id": "d482873c",
   "metadata": {
    "scrolled": false
   },
   "outputs": [
    {
     "name": "stdout",
     "output_type": "stream",
     "text": [
      "Confusion matrix, without normalization\n",
      "[[8 1]\n",
      " [2 6]]\n",
      "Normalized confusion matrix\n",
      "[[0.88888889 0.11111111]\n",
      " [0.25       0.75      ]]\n"
     ]
    },
    {
     "data": {
      "image/png": "[encoded data removed]",
      "text/plain": [
       "<Figure size 432x288 with 2 Axes>"
      ]
     },
     "metadata": {
      "needs_background": "light"
     },
     "output_type": "display_data"
    },
    {
     "data": {
      "image/png": "[encoded data removed]",
      "text/plain": [
       "<Figure size 432x288 with 2 Axes>"
      ]
     },
     "metadata": {
      "needs_background": "light"
     },
     "output_type": "display_data"
    },
    {
     "name": "stdout",
     "output_type": "stream",
     "text": [
      "Accuracy Score : 0.8235294117647058\n"
     ]
    }
   ],
   "source": [
    "from sklearn.metrics import ConfusionMatrixDisplay,accuracy_score\n",
    "\n",
    "titles_options = [\n",
    "    (\"Confusion matrix, without normalization\", None),\n",
    "    (\"Normalized confusion matrix\", \"true\"),\n",
    "]\n",
    "for title, normalize in titles_options:\n",
    "    disp = ConfusionMatrixDisplay.from_estimator(\n",
    "        classifier,\n",
    "        X_test,\n",
    "        y_test,\n",
    "        display_labels=None ,\n",
    "        cmap=plt.cm.Blues,\n",
    "        normalize=normalize,\n",
    "    )\n",
    "    disp.ax_.set_title(title)\n",
    "\n",
    "    print(title)\n",
    "    print(disp.confusion_matrix)\n",
    "\n",
    "plt.show()\n",
    "print(\"Accuracy Score : \" + str(accuracy_score(y_test, y_pred,  normalize=True, sample_weight=None)))"
   ]
  },
  {
   "cell_type": "code",
   "execution_count": 119,
   "id": "c77aebdc",
   "metadata": {},
   "outputs": [],
   "source": [
    "# from matplotlib.colors import ListedColormap\n",
    "# X_set, y_set = sc.inverse_transform(X_train), y_train\n",
    "# X1, X2 = np.meshgrid(np.arange(start = X_set[:, 0].min() - 0.1, stop = X_set[:, 0].max() + 0.1, step = 0.001),\n",
    "#                      np.arange(start = X_set[:, 1].min() - 10, stop = X_set[:, 1].max() + 10, step = 0.001))\n",
    "# plt.contourf(X1, X2, classifier.predict(sc.transform(np.array([X1.ravel(), X2.ravel()]).T)).reshape(X1.shape),\n",
    "#              alpha = 0.75, cmap = ListedColormap(('red', 'green')))\n",
    "# plt.xlim(X1.min(), X1.max())\n",
    "# plt.ylim(X2.min(), X2.max())\n",
    "# for i, j in enumerate(np.unique(y_set)):\n",
    "#     plt.scatter(X_set[y_set == j, 0], X_set[y_set == j, 1], c = ListedColormap(('red', 'green'))(i), label = j)\n",
    "# plt.title('K-NN  (Training set)')\n",
    "# plt.xlabel('SDi')\n",
    "# plt.ylabel('afTap')\n",
    "# plt.legend()\n",
    "# plt.show()"
   ]
  },
  {
   "cell_type": "code",
   "execution_count": null,
   "id": "6b17202d",
   "metadata": {},
   "outputs": [],
   "source": []
  },
  {
   "cell_type": "code",
   "execution_count": 120,
   "id": "10699e2c",
   "metadata": {},
   "outputs": [
    {
     "data": {
      "text/plain": [
       "SVC(probability=True, random_state=0)"
      ]
     },
     "execution_count": 120,
     "metadata": {},
     "output_type": "execute_result"
    }
   ],
   "source": [
    "from sklearn.svm import SVC\n",
    "classifier = SVC(kernel = 'rbf',random_state=0,probability=True)\n",
    "classifier.fit(X_train,y_train)"
   ]
  },
  {
   "cell_type": "code",
   "execution_count": 121,
   "id": "9b21174c",
   "metadata": {
    "scrolled": true
   },
   "outputs": [
    {
     "name": "stdout",
     "output_type": "stream",
     "text": [
      "[[0 0]\n",
      " [0 0]\n",
      " [1 1]\n",
      " [1 0]\n",
      " [0 0]\n",
      " [1 1]\n",
      " [1 1]\n",
      " [0 0]\n",
      " [1 1]\n",
      " [1 1]\n",
      " [0 0]\n",
      " [0 0]\n",
      " [1 1]\n",
      " [1 1]\n",
      " [1 1]\n",
      " [0 0]\n",
      " [0 0]]\n"
     ]
    }
   ],
   "source": [
    "y_pred =  classifier.predict(X_test)\n",
    "print(np.concatenate((y_pred.reshape(len(y_pred),1),y_test.reshape(len(y_test),1)),1))"
   ]
  },
  {
   "cell_type": "code",
   "execution_count": 122,
   "id": "6ed45550",
   "metadata": {
    "scrolled": true
   },
   "outputs": [
    {
     "name": "stdout",
     "output_type": "stream",
     "text": [
      "Confusion matrix, without normalization\n",
      "[[8 1]\n",
      " [0 8]]\n",
      "Normalized confusion matrix\n",
      "[[0.88888889 0.11111111]\n",
      " [0.         1.        ]]\n"
     ]
    },
    {
     "data": {
      "image/png": "[encoded data removed]",
      "text/plain": [
       "<Figure size 432x288 with 2 Axes>"
      ]
     },
     "metadata": {
      "needs_background": "light"
     },
     "output_type": "display_data"
    },
    {
     "data": {
      "image/png": "[encoded data removed]",
      "text/plain": [
       "<Figure size 432x288 with 2 Axes>"
      ]
     },
     "metadata": {
      "needs_background": "light"
     },
     "output_type": "display_data"
    },
    {
     "name": "stdout",
     "output_type": "stream",
     "text": [
      "Accuracy score : 0.9411764705882353\n"
     ]
    }
   ],
   "source": [
    "from sklearn.metrics import ConfusionMatrixDisplay,accuracy_score\n",
    "\n",
    "titles_options = [\n",
    "    (\"Confusion matrix, without normalization\", None),\n",
    "    (\"Normalized confusion matrix\", \"true\"),\n",
    "]\n",
    "for title, normalize in titles_options:\n",
    "    disp = ConfusionMatrixDisplay.from_estimator(\n",
    "        classifier,\n",
    "        X_test,\n",
    "        y_test,\n",
    "        display_labels=None ,\n",
    "        cmap=plt.cm.Blues,\n",
    "        normalize=normalize,\n",
    "    )\n",
    "    disp.ax_.set_title(title)\n",
    "\n",
    "    print(title)\n",
    "    print(disp.confusion_matrix)\n",
    "\n",
    "plt.show()\n",
    "print(\"Accuracy score : \" + str(accuracy_score(y_test, y_pred,  normalize=True, sample_weight=None)))"
   ]
  },
  {
   "cell_type": "code",
   "execution_count": 123,
   "id": "a3cc1db6",
   "metadata": {},
   "outputs": [],
   "source": [
    "# from matplotlib.colors import ListedColormap\n",
    "# X_set, y_set = sc.inverse_transform(X_train), y_train\n",
    "# X1, X2 = np.meshgrid(np.arange(start = X_set[:, 0].min() - 0.1, stop = X_set[:, 0].max() + 0.1, step = 0.001),\n",
    "#                      np.arange(start = X_set[:, 1].min() - 10, stop = X_set[:, 1].max() + 10, step = 0.001))\n",
    "# plt.contourf(X1, X2, classifier.predict(sc.transform(np.array([X1.ravel(), X2.ravel()]).T)).reshape(X1.shape),\n",
    "#              alpha = 0.75, cmap = ListedColormap(('red', 'green')))\n",
    "# plt.xlim(X1.min(), X1.max())\n",
    "# plt.ylim(X2.min(), X2.max())\n",
    "# for i, j in enumerate(np.unique(y_set)):\n",
    "#     plt.scatter(X_set[y_set == j, 0], X_set[y_set == j, 1], c = ListedColormap(('red', 'green'))(i), label = j)\n",
    "# plt.title('SVC rbf kernel  (Training set)')\n",
    "# plt.xlabel('SDi')\n",
    "# plt.ylabel('afTap')\n",
    "# plt.legend()\n",
    "# plt.show()"
   ]
  },
  {
   "cell_type": "code",
   "execution_count": 124,
   "id": "c9018537",
   "metadata": {
    "scrolled": true
   },
   "outputs": [],
   "source": [
    "# from matplotlib.colors import ListedColormap\n",
    "# X_set, y_set = sc.inverse_transform(X_test), y_test\n",
    "# X1, X2 = np.meshgrid(np.arange(start = X_set[:, 0].min() - 0.1, stop = X_set[:, 0].max() + 0.1, step = 0.001),\n",
    "#                      np.arange(start = X_set[:, 1].min() - 10, stop = X_set[:, 1].max() + 10, step = 0.001))\n",
    "# plt.contourf(X1, X2, classifier.predict(sc.transform(np.array([X1.ravel(), X2.ravel()]).T)).reshape(X1.shape),\n",
    "#              alpha = 0.75, cmap = ListedColormap(('red', 'green')))\n",
    "# plt.xlim(X1.min(), X1.max())\n",
    "# plt.ylim(X2.min(), X2.max())\n",
    "# for i, j in enumerate(np.unique(y_set)):\n",
    "#     plt.scatter(X_set[y_set == j, 0], X_set[y_set == j, 1], c = ListedColormap(('red', 'green'))(i), label = j)\n",
    "# plt.title('SVC rbf kernel (Test set)')\n",
    "# plt.xlabel('SDi')\n",
    "# plt.ylabel(' afTap')\n",
    "# plt.legend()\n",
    "# plt.show()"
   ]
  },
  {
   "cell_type": "code",
   "execution_count": 125,
   "id": "e32f795f",
   "metadata": {},
   "outputs": [
    {
     "name": "stderr",
     "output_type": "stream",
     "text": [
      "C:\\Python310\\lib\\site-packages\\sklearn\\utils\\deprecation.py:87: FutureWarning: Function plot_roc_curve is deprecated; This will be removed in v0.5.0. Please use scikitplot.metrics.plot_roc instead.\n",
      "  warnings.warn(msg, category=FutureWarning)\n"
     ]
    },
    {
     "data": {
      "image/png": "[encoded data removed]",
      "text/plain": [
       "<Figure size 864x432 with 1 Axes>"
      ]
     },
     "metadata": {
      "needs_background": "light"
     },
     "output_type": "display_data"
    }
   ],
   "source": [
    "import scikitplot as skplt\n",
    "Y_test_probs = classifier.predict_proba(X_test)\n",
    "\n",
    "skplt.metrics.plot_roc_curve(y_test, Y_test_probs,\n",
    "                       title=\" ROC Curve\", figsize=(12,6));"
   ]
  },
  {
   "cell_type": "code",
   "execution_count": 126,
   "id": "2fbad88f",
   "metadata": {},
   "outputs": [
    {
     "data": {
      "text/plain": [
       "GaussianNB()"
      ]
     },
     "execution_count": 126,
     "metadata": {},
     "output_type": "execute_result"
    }
   ],
   "source": [
    "from sklearn.naive_bayes import GaussianNB\n",
    "classifier = GaussianNB()\n",
    "classifier.fit(X_train,y_train)"
   ]
  },
  {
   "cell_type": "code",
   "execution_count": 127,
   "id": "9d2a102b",
   "metadata": {
    "scrolled": true
   },
   "outputs": [
    {
     "name": "stdout",
     "output_type": "stream",
     "text": [
      "[[0 0]\n",
      " [0 0]\n",
      " [1 1]\n",
      " [0 0]\n",
      " [0 0]\n",
      " [1 1]\n",
      " [1 1]\n",
      " [0 0]\n",
      " [1 1]\n",
      " [1 1]\n",
      " [0 0]\n",
      " [0 0]\n",
      " [1 1]\n",
      " [1 1]\n",
      " [0 1]\n",
      " [0 0]\n",
      " [1 0]]\n"
     ]
    }
   ],
   "source": [
    "y_pred = classifier.predict(X_test)\n",
    "print(np.concatenate((y_pred.reshape(len(y_pred),1), y_test.reshape(len(y_test),1)),1))"
   ]
  },
  {
   "cell_type": "code",
   "execution_count": 128,
   "id": "b0d88ca5",
   "metadata": {
    "scrolled": false
   },
   "outputs": [
    {
     "name": "stdout",
     "output_type": "stream",
     "text": [
      "Confusion matrix, without normalization\n",
      "[[8 1]\n",
      " [1 7]]\n",
      "Normalized confusion matrix\n",
      "[[0.88888889 0.11111111]\n",
      " [0.125      0.875     ]]\n"
     ]
    },
    {
     "data": {
      "image/png": "[encoded data removed]",
      "text/plain": [
       "<Figure size 432x288 with 2 Axes>"
      ]
     },
     "metadata": {
      "needs_background": "light"
     },
     "output_type": "display_data"
    },
    {
     "data": {
      "image/png": "[encoded data removed]",
      "text/plain": [
       "<Figure size 432x288 with 2 Axes>"
      ]
     },
     "metadata": {
      "needs_background": "light"
     },
     "output_type": "display_data"
    },
    {
     "name": "stdout",
     "output_type": "stream",
     "text": [
      "Accuracy score : 0.8823529411764706\n"
     ]
    }
   ],
   "source": [
    "from sklearn.metrics import ConfusionMatrixDisplay,accuracy_score\n",
    "\n",
    "titles_options = [\n",
    "    (\"Confusion matrix, without normalization\", None),\n",
    "    (\"Normalized confusion matrix\", \"true\"),\n",
    "]\n",
    "for title, normalize in titles_options:\n",
    "    disp = ConfusionMatrixDisplay.from_estimator(\n",
    "        classifier,\n",
    "        X_test,\n",
    "        y_test,\n",
    "        display_labels=None ,\n",
    "        cmap=plt.cm.Blues,\n",
    "        normalize=normalize,\n",
    "    )\n",
    "    disp.ax_.set_title(title)\n",
    "\n",
    "    print(title)\n",
    "    print(disp.confusion_matrix)\n",
    "\n",
    "plt.show()\n",
    "print(\"Accuracy score : \" + str(accuracy_score(y_test, y_pred,  normalize=True, sample_weight=None)))"
   ]
  },
  {
   "cell_type": "code",
   "execution_count": 129,
   "id": "8deb8db4",
   "metadata": {},
   "outputs": [],
   "source": [
    "# from matplotlib.colors import ListedColormap\n",
    "# X_set, y_set = sc.inverse_transform(X_train), y_train\n",
    "# X1, X2 = np.meshgrid(np.arange(start = X_set[:, 0].min() - 0.1, stop = X_set[:, 0].max() + 0.1, step = 0.001),\n",
    "#                      np.arange(start = X_set[:, 1].min() - 10, stop = X_set[:, 1].max() + 10, step = 0.001))\n",
    "# plt.contourf(X1, X2, classifier.predict(sc.transform(np.array([X1.ravel(), X2.ravel()]).T)).reshape(X1.shape),\n",
    "#              alpha = 0.75, cmap = ListedColormap(('red', 'green')))\n",
    "# plt.xlim(X1.min(), X1.max())\n",
    "# plt.ylim(X2.min(), X2.max())\n",
    "# for i, j in enumerate(np.unique(y_set)):\n",
    "#     plt.scatter(X_set[y_set == j, 0], X_set[y_set == j, 1], c = ListedColormap(('red', 'green'))(i), label = j)\n",
    "# plt.title('Naive Bayes (Training set)')\n",
    "# plt.xlabel('Age')\n",
    "# plt.ylabel('Estimated Salary')\n",
    "# plt.legend()\n",
    "# plt.show()"
   ]
  },
  {
   "cell_type": "code",
   "execution_count": 130,
   "id": "5b052987",
   "metadata": {},
   "outputs": [],
   "source": [
    "# from matplotlib.colors import ListedColormap\n",
    "# X_set, y_set = sc.inverse_transform(X_test), y_test\n",
    "# X1, X2 = np.meshgrid(np.arange(start = X_set[:, 0].min() - 0.1, stop = X_set[:, 0].max() + 0.1, step = 0.001),\n",
    "#                      np.arange(start = X_set[:, 1].min() - 10, stop = X_set[:, 1].max() + 10, step = 0.001))\n",
    "# plt.contourf(X1, X2, classifier.predict(sc.transform(np.array([X1.ravel(), X2.ravel()]).T)).reshape(X1.shape),\n",
    "#              alpha = 0.75, cmap = ListedColormap(('red', 'green')))\n",
    "# plt.xlim(X1.min(), X1.max())\n",
    "# plt.ylim(X2.min(), X2.max())\n",
    "# for i, j in enumerate(np.unique(y_set)):\n",
    "#     plt.scatter(X_set[y_set == j, 0], X_set[y_set == j, 1], c = ListedColormap(('red', 'green'))(i), label = j)\n",
    "# plt.title('Naive Bayes (Test set)')\n",
    "# plt.xlabel('Age')\n",
    "# plt.ylabel('Estimated Salary')\n",
    "# plt.legend()\n",
    "# plt.show()"
   ]
  },
  {
   "cell_type": "code",
   "execution_count": 131,
   "id": "634d94a4",
   "metadata": {},
   "outputs": [
    {
     "name": "stderr",
     "output_type": "stream",
     "text": [
      "C:\\Python310\\lib\\site-packages\\sklearn\\utils\\deprecation.py:87: FutureWarning: Function plot_roc_curve is deprecated; This will be removed in v0.5.0. Please use scikitplot.metrics.plot_roc instead.\n",
      "  warnings.warn(msg, category=FutureWarning)\n"
     ]
    },
    {
     "data": {
      "image/png": "[encoded data removed]",
      "text/plain": [
       "<Figure size 864x432 with 1 Axes>"
      ]
     },
     "metadata": {
      "needs_background": "light"
     },
     "output_type": "display_data"
    }
   ],
   "source": [
    "import scikitplot as skplt\n",
    "Y_test_probs = classifier.predict_proba(X_test)\n",
    "\n",
    "skplt.metrics.plot_roc_curve(y_test, Y_test_probs,\n",
    "                       title=\" ROC Curve\", figsize=(12,6));"
   ]
  },
  {
   "cell_type": "code",
   "execution_count": 132,
   "id": "b8b1616c",
   "metadata": {},
   "outputs": [
    {
     "data": {
      "text/plain": [
       "RandomForestClassifier(criterion='entropy', n_estimators=6)"
      ]
     },
     "execution_count": 132,
     "metadata": {},
     "output_type": "execute_result"
    }
   ],
   "source": [
    "from sklearn.ensemble import RandomForestClassifier\n",
    "classifier = RandomForestClassifier(n_estimators = 6, criterion = 'entropy')\n",
    "classifier.fit(X_train,y_train)"
   ]
  },
  {
   "cell_type": "code",
   "execution_count": 133,
   "id": "e672d94e",
   "metadata": {},
   "outputs": [
    {
     "name": "stdout",
     "output_type": "stream",
     "text": [
      "[[0 0]\n",
      " [0 0]\n",
      " [1 1]\n",
      " [0 0]\n",
      " [0 0]\n",
      " [0 1]\n",
      " [0 1]\n",
      " [0 0]\n",
      " [1 1]\n",
      " [1 1]\n",
      " [0 0]\n",
      " [0 0]\n",
      " [1 1]\n",
      " [1 1]\n",
      " [1 1]\n",
      " [0 0]\n",
      " [1 0]]\n"
     ]
    }
   ],
   "source": [
    "y_pred = classifier.predict(X_test)\n",
    "print(np.concatenate((y_pred.reshape(len(y_pred),1), y_test.reshape(len(y_test),1)),1))"
   ]
  },
  {
   "cell_type": "code",
   "execution_count": 134,
   "id": "ede9f38f",
   "metadata": {
    "scrolled": false
   },
   "outputs": [
    {
     "name": "stdout",
     "output_type": "stream",
     "text": [
      "Confusion matrix, without normalization\n",
      "[[8 1]\n",
      " [2 6]]\n",
      "Normalized confusion matrix\n",
      "[[0.88888889 0.11111111]\n",
      " [0.25       0.75      ]]\n"
     ]
    },
    {
     "data": {
      "image/png": "[encoded data removed]",
      "text/plain": [
       "<Figure size 432x288 with 2 Axes>"
      ]
     },
     "metadata": {
      "needs_background": "light"
     },
     "output_type": "display_data"
    },
    {
     "data": {
      "image/png": "[encoded data removed]",
      "text/plain": [
       "<Figure size 432x288 with 2 Axes>"
      ]
     },
     "metadata": {
      "needs_background": "light"
     },
     "output_type": "display_data"
    },
    {
     "name": "stdout",
     "output_type": "stream",
     "text": [
      "Accuracy score : 0.8235294117647058\n"
     ]
    }
   ],
   "source": [
    "from sklearn.metrics import ConfusionMatrixDisplay,accuracy_score\n",
    "\n",
    "titles_options = [\n",
    "    (\"Confusion matrix, without normalization\", None),\n",
    "    (\"Normalized confusion matrix\", \"true\"),\n",
    "]\n",
    "for title, normalize in titles_options:\n",
    "    disp = ConfusionMatrixDisplay.from_estimator(\n",
    "        classifier,\n",
    "        X_test,\n",
    "        y_test,\n",
    "        display_labels=None ,\n",
    "        cmap=plt.cm.Blues,\n",
    "        normalize=normalize,\n",
    "    )\n",
    "    disp.ax_.set_title(title)\n",
    "\n",
    "    print(title)\n",
    "    print(disp.confusion_matrix)\n",
    "\n",
    "plt.show()\n",
    "print(\"Accuracy score : \" + str(accuracy_score(y_test, y_pred,  normalize=True, sample_weight=None)))"
   ]
  },
  {
   "cell_type": "code",
   "execution_count": 135,
   "id": "479becf7",
   "metadata": {},
   "outputs": [],
   "source": [
    "# from matplotlib.colors import ListedColormap\n",
    "# X_set, y_set = sc.inverse_transform(X_train), y_train\n",
    "# X1, X2 = np.meshgrid(np.arange(start = X_set[:, 0].min() - 0.1, stop = X_set[:, 0].max() + 0.1, step = 0.001),\n",
    "#                      np.arange(start = X_set[:, 1].min() - 10, stop = X_set[:, 1].max() + 10, step = 0.001))\n",
    "# plt.contourf(X1, X2, classifier.predict(sc.transform(np.array([X1.ravel(), X2.ravel()]).T)).reshape(X1.shape),\n",
    "#              alpha = 0.75, cmap = ListedColormap(('red', 'green')))\n",
    "# plt.xlim(X1.min(), X1.max())\n",
    "# plt.ylim(X2.min(), X2.max())\n",
    "# for i, j in enumerate(np.unique(y_set)):\n",
    "#     plt.scatter(X_set[y_set == j, 0], X_set[y_set == j, 1], c = ListedColormap(('red', 'green'))(i), label = j)\n",
    "# plt.title('Ranom forest ensemlbed classifier  (Training set)')\n",
    "# plt.xlabel('Age')\n",
    "# plt.ylabel('Estimated Salary')\n",
    "# plt.legend()\n",
    "# plt.show()"
   ]
  },
  {
   "cell_type": "code",
   "execution_count": 136,
   "id": "ec5b4399",
   "metadata": {},
   "outputs": [],
   "source": [
    "# from matplotlib.colors import ListedColormap\n",
    "# X_set, y_set = sc.inverse_transform(X_test), y_test\n",
    "# X1, X2 = np.meshgrid(np.arange(start = X_set[:, 0].min() - 0.1, stop = X_set[:, 0].max() + 0.1, step = 0.001),\n",
    "#                      np.arange(start = X_set[:, 1].min() - 10, stop = X_set[:, 1].max() + 10, step = 0.001))\n",
    "# plt.contourf(X1, X2, classifier.predict(sc.transform(np.array([X1.ravel(), X2.ravel()]).T)).reshape(X1.shape),\n",
    "#              alpha = 0.75, cmap = ListedColormap(('red', 'green')))\n",
    "# plt.xlim(X1.min(), X1.max())\n",
    "# plt.ylim(X2.min(), X2.max())\n",
    "# for i, j in enumerate(np.unique(y_set)):\n",
    "#     plt.scatter(X_set[y_set == j, 0], X_set[y_set == j, 1], c = ListedColormap(('red', 'green'))(i), label = j)\n",
    "# plt.title('Naive Bayes (Test set)')\n",
    "# plt.xlabel('Age')\n",
    "# plt.ylabel('Estimated Salary')\n",
    "# plt.legend()\n",
    "# plt.show()"
   ]
  },
  {
   "cell_type": "code",
   "execution_count": 137,
   "id": "86335ee8",
   "metadata": {},
   "outputs": [
    {
     "data": {
      "text/plain": [
       "BaggingClassifier(base_estimator=SVC(), n_estimators=100)"
      ]
     },
     "execution_count": 137,
     "metadata": {},
     "output_type": "execute_result"
    }
   ],
   "source": [
    "from sklearn.ensemble import BaggingClassifier\n",
    "from sklearn.svm import SVC\n",
    "from sklearn.naive_bayes import GaussianNB\n",
    "nb = GaussianNB()\n",
    "svc = SVC()\n",
    "classifier = BaggingClassifier(base_estimator=svc , n_estimators=100)\n",
    "classifier.fit(X_train,y_train)"
   ]
  },
  {
   "cell_type": "code",
   "execution_count": 138,
   "id": "43ab53ce",
   "metadata": {},
   "outputs": [
    {
     "name": "stdout",
     "output_type": "stream",
     "text": [
      "[[0 0]\n",
      " [0 0]\n",
      " [1 1]\n",
      " [1 0]\n",
      " [0 0]\n",
      " [1 1]\n",
      " [1 1]\n",
      " [0 0]\n",
      " [1 1]\n",
      " [1 1]\n",
      " [0 0]\n",
      " [0 0]\n",
      " [1 1]\n",
      " [1 1]\n",
      " [1 1]\n",
      " [0 0]\n",
      " [1 0]]\n"
     ]
    }
   ],
   "source": [
    "y_pred = classifier.predict(X_test)\n",
    "print(np.concatenate((y_pred.reshape(len(y_pred),1), y_test.reshape(len(y_test),1)),1))"
   ]
  },
  {
   "cell_type": "code",
   "execution_count": 139,
   "id": "36447641",
   "metadata": {
    "scrolled": false
   },
   "outputs": [
    {
     "name": "stdout",
     "output_type": "stream",
     "text": [
      "Confusion matrix, without normalization\n",
      "[[7 2]\n",
      " [0 8]]\n",
      "Normalized confusion matrix\n",
      "[[0.77777778 0.22222222]\n",
      " [0.         1.        ]]\n"
     ]
    },
    {
     "data": {
      "image/png": "[encoded data removed]",
      "text/plain": [
       "<Figure size 432x288 with 2 Axes>"
      ]
     },
     "metadata": {
      "needs_background": "light"
     },
     "output_type": "display_data"
    },
    {
     "data": {
      "image/png": "[encoded data removed]",
      "text/plain": [
       "<Figure size 432x288 with 2 Axes>"
      ]
     },
     "metadata": {
      "needs_background": "light"
     },
     "output_type": "display_data"
    },
    {
     "name": "stdout",
     "output_type": "stream",
     "text": [
      "Accuracy score : 0.8823529411764706\n"
     ]
    }
   ],
   "source": [
    "from sklearn.metrics import ConfusionMatrixDisplay,accuracy_score\n",
    "\n",
    "titles_options = [\n",
    "    (\"Confusion matrix, without normalization\", None),\n",
    "    (\"Normalized confusion matrix\", \"true\"),\n",
    "]\n",
    "for title, normalize in titles_options:\n",
    "    disp = ConfusionMatrixDisplay.from_estimator(\n",
    "        classifier,\n",
    "        X_test,\n",
    "        y_test,\n",
    "        display_labels=None ,\n",
    "        cmap=plt.cm.Blues,\n",
    "        normalize=normalize,\n",
    "    )\n",
    "    disp.ax_.set_title(title)\n",
    "\n",
    "    print(title)\n",
    "    print(disp.confusion_matrix)\n",
    "\n",
    "plt.show()\n",
    "print(\"Accuracy score : \" + str(accuracy_score(y_test, y_pred,  normalize=True, sample_weight=None)))"
   ]
  },
  {
   "cell_type": "code",
   "execution_count": 140,
   "id": "b7e133db",
   "metadata": {},
   "outputs": [
    {
     "data": {
      "text/plain": [
       "0.7569444444444444"
      ]
     },
     "execution_count": 140,
     "metadata": {},
     "output_type": "execute_result"
    }
   ],
   "source": [
    "from sklearn.tree import DecisionTreeClassifier\n",
    "from sklearn.model_selection import cross_val_score\n",
    "\n",
    "scores = cross_val_score(DecisionTreeClassifier(),X,y,cv=10)\n",
    "scores.mean()"
   ]
  },
  {
   "cell_type": "code",
   "execution_count": 141,
   "id": "b403ceb9",
   "metadata": {
    "scrolled": true
   },
   "outputs": [
    {
     "name": "stderr",
     "output_type": "stream",
     "text": [
      "C:\\Python310\\lib\\site-packages\\sklearn\\ensemble\\_bagging.py:706: UserWarning: Some inputs do not have OOB scores. This probably means too few estimators were used to compute any reliable oob estimates.\n",
      "  warn(\n",
      "C:\\Python310\\lib\\site-packages\\sklearn\\ensemble\\_bagging.py:712: RuntimeWarning: invalid value encountered in true_divide\n",
      "  oob_decision_function = predictions / predictions.sum(axis=1)[:, np.newaxis]\n",
      "C:\\Python310\\lib\\site-packages\\sklearn\\ensemble\\_bagging.py:706: UserWarning: Some inputs do not have OOB scores. This probably means too few estimators were used to compute any reliable oob estimates.\n",
      "  warn(\n",
      "C:\\Python310\\lib\\site-packages\\sklearn\\ensemble\\_bagging.py:712: RuntimeWarning: invalid value encountered in true_divide\n",
      "  oob_decision_function = predictions / predictions.sum(axis=1)[:, np.newaxis]\n",
      "C:\\Python310\\lib\\site-packages\\sklearn\\ensemble\\_bagging.py:706: UserWarning: Some inputs do not have OOB scores. This probably means too few estimators were used to compute any reliable oob estimates.\n",
      "  warn(\n",
      "C:\\Python310\\lib\\site-packages\\sklearn\\ensemble\\_bagging.py:712: RuntimeWarning: invalid value encountered in true_divide\n",
      "  oob_decision_function = predictions / predictions.sum(axis=1)[:, np.newaxis]\n",
      "C:\\Python310\\lib\\site-packages\\sklearn\\ensemble\\_bagging.py:706: UserWarning: Some inputs do not have OOB scores. This probably means too few estimators were used to compute any reliable oob estimates.\n",
      "  warn(\n",
      "C:\\Python310\\lib\\site-packages\\sklearn\\ensemble\\_bagging.py:712: RuntimeWarning: invalid value encountered in true_divide\n",
      "  oob_decision_function = predictions / predictions.sum(axis=1)[:, np.newaxis]\n",
      "C:\\Python310\\lib\\site-packages\\sklearn\\ensemble\\_bagging.py:706: UserWarning: Some inputs do not have OOB scores. This probably means too few estimators were used to compute any reliable oob estimates.\n",
      "  warn(\n",
      "C:\\Python310\\lib\\site-packages\\sklearn\\ensemble\\_bagging.py:712: RuntimeWarning: invalid value encountered in true_divide\n",
      "  oob_decision_function = predictions / predictions.sum(axis=1)[:, np.newaxis]\n",
      "C:\\Python310\\lib\\site-packages\\sklearn\\ensemble\\_bagging.py:706: UserWarning: Some inputs do not have OOB scores. This probably means too few estimators were used to compute any reliable oob estimates.\n",
      "  warn(\n",
      "C:\\Python310\\lib\\site-packages\\sklearn\\ensemble\\_bagging.py:712: RuntimeWarning: invalid value encountered in true_divide\n",
      "  oob_decision_function = predictions / predictions.sum(axis=1)[:, np.newaxis]\n",
      "C:\\Python310\\lib\\site-packages\\sklearn\\ensemble\\_bagging.py:706: UserWarning: Some inputs do not have OOB scores. This probably means too few estimators were used to compute any reliable oob estimates.\n",
      "  warn(\n",
      "C:\\Python310\\lib\\site-packages\\sklearn\\ensemble\\_bagging.py:712: RuntimeWarning: invalid value encountered in true_divide\n",
      "  oob_decision_function = predictions / predictions.sum(axis=1)[:, np.newaxis]\n",
      "C:\\Python310\\lib\\site-packages\\sklearn\\ensemble\\_bagging.py:706: UserWarning: Some inputs do not have OOB scores. This probably means too few estimators were used to compute any reliable oob estimates.\n",
      "  warn(\n",
      "C:\\Python310\\lib\\site-packages\\sklearn\\ensemble\\_bagging.py:712: RuntimeWarning: invalid value encountered in true_divide\n",
      "  oob_decision_function = predictions / predictions.sum(axis=1)[:, np.newaxis]\n",
      "C:\\Python310\\lib\\site-packages\\sklearn\\ensemble\\_bagging.py:706: UserWarning: Some inputs do not have OOB scores. This probably means too few estimators were used to compute any reliable oob estimates.\n",
      "  warn(\n",
      "C:\\Python310\\lib\\site-packages\\sklearn\\ensemble\\_bagging.py:712: RuntimeWarning: invalid value encountered in true_divide\n",
      "  oob_decision_function = predictions / predictions.sum(axis=1)[:, np.newaxis]\n",
      "C:\\Python310\\lib\\site-packages\\sklearn\\ensemble\\_bagging.py:706: UserWarning: Some inputs do not have OOB scores. This probably means too few estimators were used to compute any reliable oob estimates.\n",
      "  warn(\n",
      "C:\\Python310\\lib\\site-packages\\sklearn\\ensemble\\_bagging.py:712: RuntimeWarning: invalid value encountered in true_divide\n",
      "  oob_decision_function = predictions / predictions.sum(axis=1)[:, np.newaxis]\n"
     ]
    },
    {
     "data": {
      "text/plain": [
       "0.7277777777777777"
      ]
     },
     "execution_count": 141,
     "metadata": {},
     "output_type": "execute_result"
    }
   ],
   "source": [
    "from sklearn.ensemble import BaggingClassifier\n",
    "bag_model = BaggingClassifier(\n",
    "base_estimator = DecisionTreeClassifier(),\n",
    "n_estimators = 5,\n",
    "max_samples = 0.7,\n",
    "oob_score=True,\n",
    ")\n",
    "scores = cross_val_score(bag_model,X,y,cv=10)\n",
    "scores.mean()"
   ]
  },
  {
   "cell_type": "code",
   "execution_count": 142,
   "id": "80cd23d5",
   "metadata": {},
   "outputs": [],
   "source": [
    "from sklearn.metrics import ConfusionMatrixDisplay,accuracy_score\n",
    "from sklearn.model_selection import cross_val_score\n",
    "from sklearn.model_selection import KFold\n",
    "\n",
    "def testClassifier(classifier,X_train,X_test,y_train,y_test):\n",
    "    classifier.fit(X_train,y_train)\n",
    "    y_pred =  classifier.predict(X_test)\n",
    "    titles_options = [\n",
    "    (\"Confusion matrix, without normalization\", None),\n",
    "    (\"Normalized confusion matrix\", \"true\"),]\n",
    "    for title, normalize in titles_options:\n",
    "        disp = ConfusionMatrixDisplay.from_estimator(\n",
    "            classifier,\n",
    "            X_test,\n",
    "            y_test,\n",
    "            display_labels=None ,\n",
    "            cmap=plt.cm.Blues,\n",
    "            normalize=normalize,\n",
    "        )\n",
    "        disp.ax_.set_title(title)\n",
    "\n",
    "        print(title)\n",
    "        print(disp.confusion_matrix)\n",
    "\n",
    "    plt.show()\n",
    "    print(\"Accuracy score : \" + str(accuracy_score(y_test, y_pred,  normalize=True, sample_weight=None)))\n",
    "    X = np.concatenate((X_train, X_test), axis=0) \n",
    "    y = np.concatenate((y_train, y_test), axis=0)\n",
    "    scores = cross_val_score(classifier,X,y,cv=5)\n",
    "    print(\"Mean accuracy of 5 fold cross validation test : \"+ str(scores.mean()))\n",
    "    print(\"with a maximum accuracy of \" + str(scores.max()))\n",
    "    scores = cross_val_score(classifier,X,y,cv=10)\n",
    "    print(\"Mean accuracy of 10 fold cross validation test : \"+ str(scores.mean()))\n",
    "    print(\"with a maximum accuracy of \" + str(scores.max()))\n",
    "    scores = cross_val_score(classifier,X,y,cv=KFold(85))\n",
    "    print(\"Mean accuracy of n fold cross validation test : \"+ str(scores.mean()))\n",
    "    print(\"with a maximum accuracy of \" + str(scores.max()))\n",
    "    scores = cross_val_score(classifier,X,y,cv=KFold())\n",
    "    print(\"Mean accuracy of n fold cross validation test : \"+ str(scores.mean()))\n",
    "    print(\"with a maximum accuracy of \" + str(scores.max()))"
   ]
  },
  {
   "cell_type": "code",
   "execution_count": 143,
   "id": "2ec8ae21",
   "metadata": {
    "scrolled": false
   },
   "outputs": [
    {
     "name": "stdout",
     "output_type": "stream",
     "text": [
      "Confusion matrix, without normalization\n",
      "[[8 1]\n",
      " [0 8]]\n",
      "Normalized confusion matrix\n",
      "[[0.88888889 0.11111111]\n",
      " [0.         1.        ]]\n"
     ]
    },
    {
     "data": {
      "image/png": "[encoded data removed]",
      "text/plain": [
       "<Figure size 432x288 with 2 Axes>"
      ]
     },
     "metadata": {
      "needs_background": "light"
     },
     "output_type": "display_data"
    },
    {
     "data": {
      "image/png": "[encoded data removed]",
      "text/plain": [
       "<Figure size 432x288 with 2 Axes>"
      ]
     },
     "metadata": {
      "needs_background": "light"
     },
     "output_type": "display_data"
    },
    {
     "name": "stdout",
     "output_type": "stream",
     "text": [
      "Accuracy score : 0.9411764705882353\n",
      "Mean accuracy of 5 fold cross validation test : 0.8352941176470587\n",
      "with a maximum accuracy of 0.8823529411764706\n",
      "Mean accuracy of 10 fold cross validation test : 0.8458333333333332\n",
      "with a maximum accuracy of 1.0\n",
      "Mean accuracy of n fold cross validation test : 0.8588235294117647\n",
      "with a maximum accuracy of 1.0\n",
      "Mean accuracy of n fold cross validation test : 0.8588235294117647\n",
      "with a maximum accuracy of 0.9411764705882353\n"
     ]
    }
   ],
   "source": [
    "classifier = SVC()\n",
    "testClassifier(classifier,X_train,X_test,y_train,y_test)"
   ]
  },
  {
   "cell_type": "code",
   "execution_count": 144,
   "id": "eeaea167",
   "metadata": {
    "scrolled": true
   },
   "outputs": [
    {
     "name": "stdout",
     "output_type": "stream",
     "text": [
      "Confusion matrix, without normalization\n",
      "[[8 1]\n",
      " [0 8]]\n",
      "Normalized confusion matrix\n",
      "[[0.88888889 0.11111111]\n",
      " [0.         1.        ]]\n"
     ]
    },
    {
     "data": {
      "image/png": "[encoded data removed]",
      "text/plain": [
       "<Figure size 432x288 with 2 Axes>"
      ]
     },
     "metadata": {
      "needs_background": "light"
     },
     "output_type": "display_data"
    },
    {
     "data": {
      "image/png": "[encoded data removed]",
      "text/plain": [
       "<Figure size 432x288 with 2 Axes>"
      ]
     },
     "metadata": {
      "needs_background": "light"
     },
     "output_type": "display_data"
    },
    {
     "name": "stdout",
     "output_type": "stream",
     "text": [
      "Accuracy score : 0.9411764705882353\n",
      "Mean accuracy of 5 fold cross validation test : 0.8352941176470587\n",
      "with a maximum accuracy of 0.8823529411764706\n",
      "Mean accuracy of 10 fold cross validation test : 0.8458333333333332\n",
      "with a maximum accuracy of 1.0\n",
      "Mean accuracy of n fold cross validation test : 0.8588235294117647\n",
      "with a maximum accuracy of 1.0\n",
      "Mean accuracy of n fold cross validation test : 0.8588235294117647\n",
      "with a maximum accuracy of 0.9411764705882353\n"
     ]
    }
   ],
   "source": [
    "classifer = bag_model = BaggingClassifier(\n",
    "base_estimator = DecisionTreeClassifier(),\n",
    "n_estimators = 5,\n",
    "max_samples = 0.7,\n",
    "oob_score=True,\n",
    ")\n",
    "testClassifier(classifier,X_train,X_test,y_train,y_test)"
   ]
  },
  {
   "cell_type": "code",
   "execution_count": 145,
   "id": "4068de02",
   "metadata": {},
   "outputs": [
    {
     "name": "stdout",
     "output_type": "stream",
     "text": [
      "Confusion matrix, without normalization\n",
      "[[7 2]\n",
      " [0 8]]\n",
      "Normalized confusion matrix\n",
      "[[0.77777778 0.22222222]\n",
      " [0.         1.        ]]\n"
     ]
    },
    {
     "data": {
      "image/png": "[encoded data removed]",
      "text/plain": [
       "<Figure size 432x288 with 2 Axes>"
      ]
     },
     "metadata": {
      "needs_background": "light"
     },
     "output_type": "display_data"
    },
    {
     "data": {
      "image/png": "[encoded data removed]",
      "text/plain": [
       "<Figure size 432x288 with 2 Axes>"
      ]
     },
     "metadata": {
      "needs_background": "light"
     },
     "output_type": "display_data"
    },
    {
     "name": "stdout",
     "output_type": "stream",
     "text": [
      "Accuracy score : 0.8823529411764706\n",
      "Mean accuracy of 5 fold cross validation test : 0.8470588235294116\n",
      "with a maximum accuracy of 0.8823529411764706\n",
      "Mean accuracy of 10 fold cross validation test : 0.8333333333333333\n",
      "with a maximum accuracy of 1.0\n",
      "Mean accuracy of n fold cross validation test : 0.8823529411764706\n",
      "with a maximum accuracy of 1.0\n",
      "Mean accuracy of n fold cross validation test : 0.8705882352941178\n",
      "with a maximum accuracy of 0.8823529411764706\n"
     ]
    }
   ],
   "source": [
    "from sklearn.discriminant_analysis import LinearDiscriminantAnalysis as LDA\n",
    "\n",
    "classifier = LDA(n_components=1)\n",
    "testClassifier(classifier,X_train,X_test,y_train,y_test)"
   ]
  },
  {
   "cell_type": "code",
   "execution_count": 146,
   "id": "802692a9",
   "metadata": {
    "scrolled": false
   },
   "outputs": [
    {
     "name": "stdout",
     "output_type": "stream",
     "text": [
      "Confusion matrix, without normalization\n",
      "[[8 1]\n",
      " [1 7]]\n",
      "Normalized confusion matrix\n",
      "[[0.88888889 0.11111111]\n",
      " [0.125      0.875     ]]\n"
     ]
    },
    {
     "data": {
      "image/png": "[encoded data removed]",
      "text/plain": [
       "<Figure size 432x288 with 2 Axes>"
      ]
     },
     "metadata": {
      "needs_background": "light"
     },
     "output_type": "display_data"
    },
    {
     "data": {
      "image/png": "[encoded data removed]",
      "text/plain": [
       "<Figure size 432x288 with 2 Axes>"
      ]
     },
     "metadata": {
      "needs_background": "light"
     },
     "output_type": "display_data"
    },
    {
     "name": "stdout",
     "output_type": "stream",
     "text": [
      "Accuracy score : 0.8823529411764706\n",
      "Mean accuracy of 5 fold cross validation test : 0.8\n",
      "with a maximum accuracy of 0.9411764705882353\n",
      "Mean accuracy of 10 fold cross validation test : 0.825\n",
      "with a maximum accuracy of 1.0\n",
      "Mean accuracy of n fold cross validation test : 0.8235294117647058\n",
      "with a maximum accuracy of 1.0\n",
      "Mean accuracy of n fold cross validation test : 0.8\n",
      "with a maximum accuracy of 0.8823529411764706\n"
     ]
    }
   ],
   "source": [
    "from sklearn.naive_bayes import GaussianNB\n",
    "classifier = GaussianNB()\n",
    "testClassifier(classifier,X_train,X_test,y_train,y_test)"
   ]
  },
  {
   "cell_type": "code",
   "execution_count": 147,
   "id": "78ade976",
   "metadata": {
    "scrolled": true
   },
   "outputs": [
    {
     "name": "stdout",
     "output_type": "stream",
     "text": [
      "              precision    recall  f1-score   support\n",
      "\n",
      "           0       1.00      0.89      0.94         9\n",
      "           1       0.89      1.00      0.94         8\n",
      "\n",
      "    accuracy                           0.94        17\n",
      "   macro avg       0.94      0.94      0.94        17\n",
      "weighted avg       0.95      0.94      0.94        17\n",
      "\n",
      "Fitting 5 folds for each of 100 candidates, totalling 500 fits\n",
      "[CV 1/5] END ........C=0.1, gamma=1, kernel=rbf;, score=1.000 total time=   0.0s\n",
      "[CV 2/5] END ........C=0.1, gamma=1, kernel=rbf;, score=0.500 total time=   0.0s\n",
      "[CV 3/5] END ........C=0.1, gamma=1, kernel=rbf;, score=0.857 total time=   0.0s\n",
      "[CV 4/5] END ........C=0.1, gamma=1, kernel=rbf;, score=0.462 total time=   0.0s\n",
      "[CV 5/5] END ........C=0.1, gamma=1, kernel=rbf;, score=0.462 total time=   0.0s\n",
      "[CV 1/5] END .....C=0.1, gamma=1, kernel=linear;, score=0.857 total time=   0.0s\n",
      "[CV 2/5] END .....C=0.1, gamma=1, kernel=linear;, score=0.714 total time=   0.0s\n",
      "[CV 3/5] END .....C=0.1, gamma=1, kernel=linear;, score=0.929 total time=   0.0s\n",
      "[CV 4/5] END .....C=0.1, gamma=1, kernel=linear;, score=0.846 total time=   0.0s\n",
      "[CV 5/5] END .....C=0.1, gamma=1, kernel=linear;, score=0.769 total time=   0.0s\n",
      "[CV 1/5] END .......C=0.1, gamma=1, kernel=poly;, score=0.714 total time=   0.0s\n",
      "[CV 2/5] END .......C=0.1, gamma=1, kernel=poly;, score=0.714 total time=   0.0s\n",
      "[CV 3/5] END .......C=0.1, gamma=1, kernel=poly;, score=0.929 total time=   0.0s\n",
      "[CV 4/5] END .......C=0.1, gamma=1, kernel=poly;, score=0.769 total time=   0.0s\n",
      "[CV 5/5] END .......C=0.1, gamma=1, kernel=poly;, score=0.615 total time=   0.0s\n",
      "[CV 1/5] END ....C=0.1, gamma=1, kernel=sigmoid;, score=0.857 total time=   0.0s\n",
      "[CV 2/5] END ....C=0.1, gamma=1, kernel=sigmoid;, score=0.643 total time=   0.0s\n",
      "[CV 3/5] END ....C=0.1, gamma=1, kernel=sigmoid;, score=0.929 total time=   0.0s\n",
      "[CV 4/5] END ....C=0.1, gamma=1, kernel=sigmoid;, score=0.846 total time=   0.0s\n",
      "[CV 5/5] END ....C=0.1, gamma=1, kernel=sigmoid;, score=0.615 total time=   0.0s\n",
      "[CV 1/5] END ......C=0.1, gamma=0.1, kernel=rbf;, score=0.857 total time=   0.0s\n",
      "[CV 2/5] END ......C=0.1, gamma=0.1, kernel=rbf;, score=0.643 total time=   0.0s\n",
      "[CV 3/5] END ......C=0.1, gamma=0.1, kernel=rbf;, score=0.929 total time=   0.0s\n",
      "[CV 4/5] END ......C=0.1, gamma=0.1, kernel=rbf;, score=0.769 total time=   0.0s\n",
      "[CV 5/5] END ......C=0.1, gamma=0.1, kernel=rbf;, score=0.769 total time=   0.0s\n",
      "[CV 1/5] END ...C=0.1, gamma=0.1, kernel=linear;, score=0.857 total time=   0.0s\n",
      "[CV 2/5] END ...C=0.1, gamma=0.1, kernel=linear;, score=0.714 total time=   0.0s\n",
      "[CV 3/5] END ...C=0.1, gamma=0.1, kernel=linear;, score=0.929 total time=   0.0s\n",
      "[CV 4/5] END ...C=0.1, gamma=0.1, kernel=linear;, score=0.846 total time=   0.0s\n",
      "[CV 5/5] END ...C=0.1, gamma=0.1, kernel=linear;, score=0.769 total time=   0.0s\n",
      "[CV 1/5] END .....C=0.1, gamma=0.1, kernel=poly;, score=0.500 total time=   0.0s\n",
      "[CV 2/5] END .....C=0.1, gamma=0.1, kernel=poly;, score=0.500 total time=   0.0s\n",
      "[CV 3/5] END .....C=0.1, gamma=0.1, kernel=poly;, score=0.500 total time=   0.0s\n",
      "[CV 4/5] END .....C=0.1, gamma=0.1, kernel=poly;, score=0.462 total time=   0.0s\n",
      "[CV 5/5] END .....C=0.1, gamma=0.1, kernel=poly;, score=0.462 total time=   0.0s\n",
      "[CV 1/5] END ..C=0.1, gamma=0.1, kernel=sigmoid;, score=0.714 total time=   0.0s\n",
      "[CV 2/5] END ..C=0.1, gamma=0.1, kernel=sigmoid;, score=0.643 total time=   0.0s\n",
      "[CV 3/5] END ..C=0.1, gamma=0.1, kernel=sigmoid;, score=0.929 total time=   0.0s\n",
      "[CV 4/5] END ..C=0.1, gamma=0.1, kernel=sigmoid;, score=0.846 total time=   0.0s\n",
      "[CV 5/5] END ..C=0.1, gamma=0.1, kernel=sigmoid;, score=0.769 total time=   0.0s\n",
      "[CV 1/5] END .....C=0.1, gamma=0.01, kernel=rbf;, score=0.571 total time=   0.0s\n",
      "[CV 2/5] END .....C=0.1, gamma=0.01, kernel=rbf;, score=0.714 total time=   0.0s\n",
      "[CV 3/5] END .....C=0.1, gamma=0.01, kernel=rbf;, score=0.857 total time=   0.0s\n",
      "[CV 4/5] END .....C=0.1, gamma=0.01, kernel=rbf;, score=0.462 total time=   0.0s\n",
      "[CV 5/5] END .....C=0.1, gamma=0.01, kernel=rbf;, score=0.462 total time=   0.0s\n",
      "[CV 1/5] END ..C=0.1, gamma=0.01, kernel=linear;, score=0.857 total time=   0.0s\n",
      "[CV 2/5] END ..C=0.1, gamma=0.01, kernel=linear;, score=0.714 total time=   0.0s\n",
      "[CV 3/5] END ..C=0.1, gamma=0.01, kernel=linear;, score=0.929 total time=   0.0s\n",
      "[CV 4/5] END ..C=0.1, gamma=0.01, kernel=linear;, score=0.846 total time=   0.0s\n",
      "[CV 5/5] END ..C=0.1, gamma=0.01, kernel=linear;, score=0.769 total time=   0.0s\n",
      "[CV 1/5] END ....C=0.1, gamma=0.01, kernel=poly;, score=0.500 total time=   0.0s\n",
      "[CV 2/5] END ....C=0.1, gamma=0.01, kernel=poly;, score=0.500 total time=   0.0s\n",
      "[CV 3/5] END ....C=0.1, gamma=0.01, kernel=poly;, score=0.500 total time=   0.0s\n",
      "[CV 4/5] END ....C=0.1, gamma=0.01, kernel=poly;, score=0.462 total time=   0.0s\n",
      "[CV 5/5] END ....C=0.1, gamma=0.01, kernel=poly;, score=0.462 total time=   0.0s\n",
      "[CV 1/5] END .C=0.1, gamma=0.01, kernel=sigmoid;, score=0.571 total time=   0.0s\n",
      "[CV 2/5] END .C=0.1, gamma=0.01, kernel=sigmoid;, score=0.643 total time=   0.0s\n",
      "[CV 3/5] END .C=0.1, gamma=0.01, kernel=sigmoid;, score=0.786 total time=   0.0s\n",
      "[CV 4/5] END .C=0.1, gamma=0.01, kernel=sigmoid;, score=0.462 total time=   0.0s\n",
      "[CV 5/5] END .C=0.1, gamma=0.01, kernel=sigmoid;, score=0.462 total time=   0.0s\n",
      "[CV 1/5] END ....C=0.1, gamma=0.001, kernel=rbf;, score=0.571 total time=   0.0s\n",
      "[CV 2/5] END ....C=0.1, gamma=0.001, kernel=rbf;, score=0.643 total time=   0.0s\n",
      "[CV 3/5] END ....C=0.1, gamma=0.001, kernel=rbf;, score=0.786 total time=   0.0s\n",
      "[CV 4/5] END ....C=0.1, gamma=0.001, kernel=rbf;, score=0.462 total time=   0.0s\n",
      "[CV 5/5] END ....C=0.1, gamma=0.001, kernel=rbf;, score=0.462 total time=   0.0s\n",
      "[CV 1/5] END .C=0.1, gamma=0.001, kernel=linear;, score=0.857 total time=   0.0s\n",
      "[CV 2/5] END .C=0.1, gamma=0.001, kernel=linear;, score=0.714 total time=   0.0s\n",
      "[CV 3/5] END .C=0.1, gamma=0.001, kernel=linear;, score=0.929 total time=   0.0s\n",
      "[CV 4/5] END .C=0.1, gamma=0.001, kernel=linear;, score=0.846 total time=   0.0s\n",
      "[CV 5/5] END .C=0.1, gamma=0.001, kernel=linear;, score=0.769 total time=   0.0s\n",
      "[CV 1/5] END ...C=0.1, gamma=0.001, kernel=poly;, score=0.500 total time=   0.0s\n",
      "[CV 2/5] END ...C=0.1, gamma=0.001, kernel=poly;, score=0.500 total time=   0.0s\n",
      "[CV 3/5] END ...C=0.1, gamma=0.001, kernel=poly;, score=0.500 total time=   0.0s\n",
      "[CV 4/5] END ...C=0.1, gamma=0.001, kernel=poly;, score=0.462 total time=   0.0s\n",
      "[CV 5/5] END ...C=0.1, gamma=0.001, kernel=poly;, score=0.462 total time=   0.0s\n",
      "[CV 1/5] END C=0.1, gamma=0.001, kernel=sigmoid;, score=0.571 total time=   0.0s\n",
      "[CV 2/5] END C=0.1, gamma=0.001, kernel=sigmoid;, score=0.643 total time=   0.0s\n",
      "[CV 3/5] END C=0.1, gamma=0.001, kernel=sigmoid;, score=0.786 total time=   0.0s\n",
      "[CV 4/5] END C=0.1, gamma=0.001, kernel=sigmoid;, score=0.462 total time=   0.0s\n",
      "[CV 5/5] END C=0.1, gamma=0.001, kernel=sigmoid;, score=0.462 total time=   0.0s\n",
      "[CV 1/5] END ...C=0.1, gamma=0.0001, kernel=rbf;, score=0.571 total time=   0.0s\n",
      "[CV 2/5] END ...C=0.1, gamma=0.0001, kernel=rbf;, score=0.643 total time=   0.0s\n",
      "[CV 3/5] END ...C=0.1, gamma=0.0001, kernel=rbf;, score=0.786 total time=   0.0s\n",
      "[CV 4/5] END ...C=0.1, gamma=0.0001, kernel=rbf;, score=0.462 total time=   0.0s\n",
      "[CV 5/5] END ...C=0.1, gamma=0.0001, kernel=rbf;, score=0.462 total time=   0.0s\n",
      "[CV 1/5] END C=0.1, gamma=0.0001, kernel=linear;, score=0.857 total time=   0.0s\n",
      "[CV 2/5] END C=0.1, gamma=0.0001, kernel=linear;, score=0.714 total time=   0.0s\n",
      "[CV 3/5] END C=0.1, gamma=0.0001, kernel=linear;, score=0.929 total time=   0.0s\n",
      "[CV 4/5] END C=0.1, gamma=0.0001, kernel=linear;, score=0.846 total time=   0.0s\n",
      "[CV 5/5] END C=0.1, gamma=0.0001, kernel=linear;, score=0.769 total time=   0.0s\n",
      "[CV 1/5] END ..C=0.1, gamma=0.0001, kernel=poly;, score=0.500 total time=   0.0s\n",
      "[CV 2/5] END ..C=0.1, gamma=0.0001, kernel=poly;, score=0.500 total time=   0.0s\n",
      "[CV 3/5] END ..C=0.1, gamma=0.0001, kernel=poly;, score=0.500 total time=   0.0s\n",
      "[CV 4/5] END ..C=0.1, gamma=0.0001, kernel=poly;, score=0.462 total time=   0.0s\n",
      "[CV 5/5] END ..C=0.1, gamma=0.0001, kernel=poly;, score=0.462 total time=   0.0s\n",
      "[CV 1/5] END C=0.1, gamma=0.0001, kernel=sigmoid;, score=0.571 total time=   0.0s\n",
      "[CV 2/5] END C=0.1, gamma=0.0001, kernel=sigmoid;, score=0.643 total time=   0.0s\n",
      "[CV 3/5] END C=0.1, gamma=0.0001, kernel=sigmoid;, score=0.786 total time=   0.0s\n",
      "[CV 4/5] END C=0.1, gamma=0.0001, kernel=sigmoid;, score=0.462 total time=   0.0s\n",
      "[CV 5/5] END C=0.1, gamma=0.0001, kernel=sigmoid;, score=0.462 total time=   0.0s\n",
      "[CV 1/5] END ..........C=1, gamma=1, kernel=rbf;, score=0.857 total time=   0.0s\n",
      "[CV 2/5] END ..........C=1, gamma=1, kernel=rbf;, score=0.714 total time=   0.0s\n",
      "[CV 3/5] END ..........C=1, gamma=1, kernel=rbf;, score=0.786 total time=   0.0s\n",
      "[CV 4/5] END ..........C=1, gamma=1, kernel=rbf;, score=1.000 total time=   0.0s\n",
      "[CV 5/5] END ..........C=1, gamma=1, kernel=rbf;, score=0.692 total time=   0.0s\n",
      "[CV 1/5] END .......C=1, gamma=1, kernel=linear;, score=0.929 total time=   0.0s\n",
      "[CV 2/5] END .......C=1, gamma=1, kernel=linear;, score=0.714 total time=   0.0s\n",
      "[CV 3/5] END .......C=1, gamma=1, kernel=linear;, score=0.929 total time=   0.0s\n",
      "[CV 4/5] END .......C=1, gamma=1, kernel=linear;, score=1.000 total time=   0.0s\n",
      "[CV 5/5] END .......C=1, gamma=1, kernel=linear;, score=0.769 total time=   0.0s\n",
      "[CV 1/5] END .........C=1, gamma=1, kernel=poly;, score=0.714 total time=   0.0s\n",
      "[CV 2/5] END .........C=1, gamma=1, kernel=poly;, score=0.714 total time=   0.0s\n",
      "[CV 3/5] END .........C=1, gamma=1, kernel=poly;, score=0.857 total time=   0.0s\n",
      "[CV 4/5] END .........C=1, gamma=1, kernel=poly;, score=0.769 total time=   0.0s\n",
      "[CV 5/5] END .........C=1, gamma=1, kernel=poly;, score=0.615 total time=   0.0s\n",
      "[CV 1/5] END ......C=1, gamma=1, kernel=sigmoid;, score=0.786 total time=   0.0s\n",
      "[CV 2/5] END ......C=1, gamma=1, kernel=sigmoid;, score=0.571 total time=   0.0s\n",
      "[CV 3/5] END ......C=1, gamma=1, kernel=sigmoid;, score=0.500 total time=   0.0s\n",
      "[CV 4/5] END ......C=1, gamma=1, kernel=sigmoid;, score=0.769 total time=   0.0s\n",
      "[CV 5/5] END ......C=1, gamma=1, kernel=sigmoid;, score=0.538 total time=   0.0s\n",
      "[CV 1/5] END ........C=1, gamma=0.1, kernel=rbf;, score=0.857 total time=   0.0s\n",
      "[CV 2/5] END ........C=1, gamma=0.1, kernel=rbf;, score=0.714 total time=   0.0s\n",
      "[CV 3/5] END ........C=1, gamma=0.1, kernel=rbf;, score=0.929 total time=   0.0s\n",
      "[CV 4/5] END ........C=1, gamma=0.1, kernel=rbf;, score=0.846 total time=   0.0s\n",
      "[CV 5/5] END ........C=1, gamma=0.1, kernel=rbf;, score=0.769 total time=   0.0s\n",
      "[CV 1/5] END .....C=1, gamma=0.1, kernel=linear;, score=0.929 total time=   0.0s\n",
      "[CV 2/5] END .....C=1, gamma=0.1, kernel=linear;, score=0.714 total time=   0.0s\n",
      "[CV 3/5] END .....C=1, gamma=0.1, kernel=linear;, score=0.929 total time=   0.0s\n",
      "[CV 4/5] END .....C=1, gamma=0.1, kernel=linear;, score=1.000 total time=   0.0s\n",
      "[CV 5/5] END .....C=1, gamma=0.1, kernel=linear;, score=0.769 total time=   0.0s\n",
      "[CV 1/5] END .......C=1, gamma=0.1, kernel=poly;, score=0.571 total time=   0.0s\n",
      "[CV 2/5] END .......C=1, gamma=0.1, kernel=poly;, score=0.500 total time=   0.0s\n",
      "[CV 3/5] END .......C=1, gamma=0.1, kernel=poly;, score=0.643 total time=   0.0s\n",
      "[CV 4/5] END .......C=1, gamma=0.1, kernel=poly;, score=0.692 total time=   0.0s\n",
      "[CV 5/5] END .......C=1, gamma=0.1, kernel=poly;, score=0.615 total time=   0.0s\n",
      "[CV 1/5] END ....C=1, gamma=0.1, kernel=sigmoid;, score=0.857 total time=   0.0s\n",
      "[CV 2/5] END ....C=1, gamma=0.1, kernel=sigmoid;, score=0.714 total time=   0.0s\n",
      "[CV 3/5] END ....C=1, gamma=0.1, kernel=sigmoid;, score=0.929 total time=   0.0s\n",
      "[CV 4/5] END ....C=1, gamma=0.1, kernel=sigmoid;, score=0.846 total time=   0.0s\n",
      "[CV 5/5] END ....C=1, gamma=0.1, kernel=sigmoid;, score=0.769 total time=   0.0s\n",
      "[CV 1/5] END .......C=1, gamma=0.01, kernel=rbf;, score=0.857 total time=   0.0s\n",
      "[CV 2/5] END .......C=1, gamma=0.01, kernel=rbf;, score=0.643 total time=   0.0s\n",
      "[CV 3/5] END .......C=1, gamma=0.01, kernel=rbf;, score=0.929 total time=   0.0s\n",
      "[CV 4/5] END .......C=1, gamma=0.01, kernel=rbf;, score=0.846 total time=   0.0s\n",
      "[CV 5/5] END .......C=1, gamma=0.01, kernel=rbf;, score=0.769 total time=   0.0s\n",
      "[CV 1/5] END ....C=1, gamma=0.01, kernel=linear;, score=0.929 total time=   0.0s\n",
      "[CV 2/5] END ....C=1, gamma=0.01, kernel=linear;, score=0.714 total time=   0.0s\n",
      "[CV 3/5] END ....C=1, gamma=0.01, kernel=linear;, score=0.929 total time=   0.0s\n",
      "[CV 4/5] END ....C=1, gamma=0.01, kernel=linear;, score=1.000 total time=   0.0s\n",
      "[CV 5/5] END ....C=1, gamma=0.01, kernel=linear;, score=0.769 total time=   0.0s\n",
      "[CV 1/5] END ......C=1, gamma=0.01, kernel=poly;, score=0.500 total time=   0.0s\n",
      "[CV 2/5] END ......C=1, gamma=0.01, kernel=poly;, score=0.500 total time=   0.0s\n",
      "[CV 3/5] END ......C=1, gamma=0.01, kernel=poly;, score=0.500 total time=   0.0s\n",
      "[CV 4/5] END ......C=1, gamma=0.01, kernel=poly;, score=0.462 total time=   0.0s\n",
      "[CV 5/5] END ......C=1, gamma=0.01, kernel=poly;, score=0.462 total time=   0.0s\n",
      "[CV 1/5] END ...C=1, gamma=0.01, kernel=sigmoid;, score=0.857 total time=   0.0s\n",
      "[CV 2/5] END ...C=1, gamma=0.01, kernel=sigmoid;, score=0.714 total time=   0.0s\n",
      "[CV 3/5] END ...C=1, gamma=0.01, kernel=sigmoid;, score=0.857 total time=   0.0s\n",
      "[CV 4/5] END ...C=1, gamma=0.01, kernel=sigmoid;, score=0.846 total time=   0.0s\n",
      "[CV 5/5] END ...C=1, gamma=0.01, kernel=sigmoid;, score=0.769 total time=   0.0s\n",
      "[CV 1/5] END ......C=1, gamma=0.001, kernel=rbf;, score=0.571 total time=   0.0s\n",
      "[CV 2/5] END ......C=1, gamma=0.001, kernel=rbf;, score=0.643 total time=   0.0s\n",
      "[CV 3/5] END ......C=1, gamma=0.001, kernel=rbf;, score=0.786 total time=   0.0s\n",
      "[CV 4/5] END ......C=1, gamma=0.001, kernel=rbf;, score=0.462 total time=   0.0s\n",
      "[CV 5/5] END ......C=1, gamma=0.001, kernel=rbf;, score=0.462 total time=   0.0s\n",
      "[CV 1/5] END ...C=1, gamma=0.001, kernel=linear;, score=0.929 total time=   0.0s\n",
      "[CV 2/5] END ...C=1, gamma=0.001, kernel=linear;, score=0.714 total time=   0.0s\n",
      "[CV 3/5] END ...C=1, gamma=0.001, kernel=linear;, score=0.929 total time=   0.0s\n",
      "[CV 4/5] END ...C=1, gamma=0.001, kernel=linear;, score=1.000 total time=   0.0s\n",
      "[CV 5/5] END ...C=1, gamma=0.001, kernel=linear;, score=0.769 total time=   0.0s\n",
      "[CV 1/5] END .....C=1, gamma=0.001, kernel=poly;, score=0.500 total time=   0.0s\n",
      "[CV 2/5] END .....C=1, gamma=0.001, kernel=poly;, score=0.500 total time=   0.0s\n",
      "[CV 3/5] END .....C=1, gamma=0.001, kernel=poly;, score=0.500 total time=   0.0s\n"
     ]
    },
    {
     "name": "stdout",
     "output_type": "stream",
     "text": [
      "[CV 4/5] END .....C=1, gamma=0.001, kernel=poly;, score=0.462 total time=   0.0s\n",
      "[CV 5/5] END .....C=1, gamma=0.001, kernel=poly;, score=0.462 total time=   0.0s\n",
      "[CV 1/5] END ..C=1, gamma=0.001, kernel=sigmoid;, score=0.571 total time=   0.0s\n",
      "[CV 2/5] END ..C=1, gamma=0.001, kernel=sigmoid;, score=0.643 total time=   0.0s\n",
      "[CV 3/5] END ..C=1, gamma=0.001, kernel=sigmoid;, score=0.786 total time=   0.0s\n",
      "[CV 4/5] END ..C=1, gamma=0.001, kernel=sigmoid;, score=0.462 total time=   0.0s\n",
      "[CV 5/5] END ..C=1, gamma=0.001, kernel=sigmoid;, score=0.462 total time=   0.0s\n",
      "[CV 1/5] END .....C=1, gamma=0.0001, kernel=rbf;, score=0.571 total time=   0.0s\n",
      "[CV 2/5] END .....C=1, gamma=0.0001, kernel=rbf;, score=0.643 total time=   0.0s\n",
      "[CV 3/5] END .....C=1, gamma=0.0001, kernel=rbf;, score=0.786 total time=   0.0s\n",
      "[CV 4/5] END .....C=1, gamma=0.0001, kernel=rbf;, score=0.462 total time=   0.0s\n",
      "[CV 5/5] END .....C=1, gamma=0.0001, kernel=rbf;, score=0.462 total time=   0.0s\n",
      "[CV 1/5] END ..C=1, gamma=0.0001, kernel=linear;, score=0.929 total time=   0.0s\n",
      "[CV 2/5] END ..C=1, gamma=0.0001, kernel=linear;, score=0.714 total time=   0.0s\n",
      "[CV 3/5] END ..C=1, gamma=0.0001, kernel=linear;, score=0.929 total time=   0.0s\n",
      "[CV 4/5] END ..C=1, gamma=0.0001, kernel=linear;, score=1.000 total time=   0.0s\n",
      "[CV 5/5] END ..C=1, gamma=0.0001, kernel=linear;, score=0.769 total time=   0.0s\n",
      "[CV 1/5] END ....C=1, gamma=0.0001, kernel=poly;, score=0.500 total time=   0.0s\n",
      "[CV 2/5] END ....C=1, gamma=0.0001, kernel=poly;, score=0.500 total time=   0.0s\n",
      "[CV 3/5] END ....C=1, gamma=0.0001, kernel=poly;, score=0.500 total time=   0.0s\n",
      "[CV 4/5] END ....C=1, gamma=0.0001, kernel=poly;, score=0.462 total time=   0.0s\n",
      "[CV 5/5] END ....C=1, gamma=0.0001, kernel=poly;, score=0.462 total time=   0.0s\n",
      "[CV 1/5] END .C=1, gamma=0.0001, kernel=sigmoid;, score=0.571 total time=   0.0s\n",
      "[CV 2/5] END .C=1, gamma=0.0001, kernel=sigmoid;, score=0.643 total time=   0.0s\n",
      "[CV 3/5] END .C=1, gamma=0.0001, kernel=sigmoid;, score=0.786 total time=   0.0s\n",
      "[CV 4/5] END .C=1, gamma=0.0001, kernel=sigmoid;, score=0.462 total time=   0.0s\n",
      "[CV 5/5] END .C=1, gamma=0.0001, kernel=sigmoid;, score=0.462 total time=   0.0s\n",
      "[CV 1/5] END .........C=10, gamma=1, kernel=rbf;, score=0.786 total time=   0.0s\n",
      "[CV 2/5] END .........C=10, gamma=1, kernel=rbf;, score=0.714 total time=   0.0s\n",
      "[CV 3/5] END .........C=10, gamma=1, kernel=rbf;, score=0.714 total time=   0.0s\n",
      "[CV 4/5] END .........C=10, gamma=1, kernel=rbf;, score=0.923 total time=   0.0s\n",
      "[CV 5/5] END .........C=10, gamma=1, kernel=rbf;, score=0.692 total time=   0.0s\n",
      "[CV 1/5] END ......C=10, gamma=1, kernel=linear;, score=0.857 total time=   0.0s\n",
      "[CV 2/5] END ......C=10, gamma=1, kernel=linear;, score=0.714 total time=   0.0s\n",
      "[CV 3/5] END ......C=10, gamma=1, kernel=linear;, score=0.929 total time=   0.0s\n",
      "[CV 4/5] END ......C=10, gamma=1, kernel=linear;, score=0.923 total time=   0.0s\n",
      "[CV 5/5] END ......C=10, gamma=1, kernel=linear;, score=0.615 total time=   0.0s\n",
      "[CV 1/5] END ........C=10, gamma=1, kernel=poly;, score=0.786 total time=   0.0s\n",
      "[CV 2/5] END ........C=10, gamma=1, kernel=poly;, score=0.714 total time=   0.0s\n",
      "[CV 3/5] END ........C=10, gamma=1, kernel=poly;, score=0.786 total time=   0.0s\n",
      "[CV 4/5] END ........C=10, gamma=1, kernel=poly;, score=0.769 total time=   0.0s\n",
      "[CV 5/5] END ........C=10, gamma=1, kernel=poly;, score=0.769 total time=   0.0s\n",
      "[CV 1/5] END .....C=10, gamma=1, kernel=sigmoid;, score=0.786 total time=   0.0s\n",
      "[CV 2/5] END .....C=10, gamma=1, kernel=sigmoid;, score=0.571 total time=   0.0s\n",
      "[CV 3/5] END .....C=10, gamma=1, kernel=sigmoid;, score=0.500 total time=   0.0s\n",
      "[CV 4/5] END .....C=10, gamma=1, kernel=sigmoid;, score=0.769 total time=   0.0s\n",
      "[CV 5/5] END .....C=10, gamma=1, kernel=sigmoid;, score=0.538 total time=   0.0s\n",
      "[CV 1/5] END .......C=10, gamma=0.1, kernel=rbf;, score=0.929 total time=   0.0s\n",
      "[CV 2/5] END .......C=10, gamma=0.1, kernel=rbf;, score=0.714 total time=   0.0s\n",
      "[CV 3/5] END .......C=10, gamma=0.1, kernel=rbf;, score=0.929 total time=   0.0s\n",
      "[CV 4/5] END .......C=10, gamma=0.1, kernel=rbf;, score=0.846 total time=   0.0s\n",
      "[CV 5/5] END .......C=10, gamma=0.1, kernel=rbf;, score=0.615 total time=   0.0s\n",
      "[CV 1/5] END ....C=10, gamma=0.1, kernel=linear;, score=0.857 total time=   0.0s\n",
      "[CV 2/5] END ....C=10, gamma=0.1, kernel=linear;, score=0.714 total time=   0.0s\n",
      "[CV 3/5] END ....C=10, gamma=0.1, kernel=linear;, score=0.929 total time=   0.0s\n",
      "[CV 4/5] END ....C=10, gamma=0.1, kernel=linear;, score=0.923 total time=   0.0s\n",
      "[CV 5/5] END ....C=10, gamma=0.1, kernel=linear;, score=0.615 total time=   0.0s\n",
      "[CV 1/5] END ......C=10, gamma=0.1, kernel=poly;, score=0.786 total time=   0.0s\n",
      "[CV 2/5] END ......C=10, gamma=0.1, kernel=poly;, score=0.714 total time=   0.0s\n",
      "[CV 3/5] END ......C=10, gamma=0.1, kernel=poly;, score=0.929 total time=   0.0s\n",
      "[CV 4/5] END ......C=10, gamma=0.1, kernel=poly;, score=0.846 total time=   0.0s\n",
      "[CV 5/5] END ......C=10, gamma=0.1, kernel=poly;, score=0.769 total time=   0.0s\n",
      "[CV 1/5] END ...C=10, gamma=0.1, kernel=sigmoid;, score=0.857 total time=   0.0s\n",
      "[CV 2/5] END ...C=10, gamma=0.1, kernel=sigmoid;, score=0.714 total time=   0.0s\n",
      "[CV 3/5] END ...C=10, gamma=0.1, kernel=sigmoid;, score=0.929 total time=   0.0s\n",
      "[CV 4/5] END ...C=10, gamma=0.1, kernel=sigmoid;, score=0.923 total time=   0.0s\n",
      "[CV 5/5] END ...C=10, gamma=0.1, kernel=sigmoid;, score=0.692 total time=   0.0s\n",
      "[CV 1/5] END ......C=10, gamma=0.01, kernel=rbf;, score=0.857 total time=   0.0s\n",
      "[CV 2/5] END ......C=10, gamma=0.01, kernel=rbf;, score=0.714 total time=   0.0s\n",
      "[CV 3/5] END ......C=10, gamma=0.01, kernel=rbf;, score=0.929 total time=   0.0s\n",
      "[CV 4/5] END ......C=10, gamma=0.01, kernel=rbf;, score=0.846 total time=   0.0s\n",
      "[CV 5/5] END ......C=10, gamma=0.01, kernel=rbf;, score=0.769 total time=   0.0s\n",
      "[CV 1/5] END ...C=10, gamma=0.01, kernel=linear;, score=0.857 total time=   0.0s\n",
      "[CV 2/5] END ...C=10, gamma=0.01, kernel=linear;, score=0.714 total time=   0.0s\n",
      "[CV 3/5] END ...C=10, gamma=0.01, kernel=linear;, score=0.929 total time=   0.0s\n",
      "[CV 4/5] END ...C=10, gamma=0.01, kernel=linear;, score=0.923 total time=   0.0s\n",
      "[CV 5/5] END ...C=10, gamma=0.01, kernel=linear;, score=0.615 total time=   0.0s\n",
      "[CV 1/5] END .....C=10, gamma=0.01, kernel=poly;, score=0.500 total time=   0.0s\n",
      "[CV 2/5] END .....C=10, gamma=0.01, kernel=poly;, score=0.500 total time=   0.0s\n",
      "[CV 3/5] END .....C=10, gamma=0.01, kernel=poly;, score=0.500 total time=   0.0s\n",
      "[CV 4/5] END .....C=10, gamma=0.01, kernel=poly;, score=0.462 total time=   0.0s\n",
      "[CV 5/5] END .....C=10, gamma=0.01, kernel=poly;, score=0.462 total time=   0.0s\n",
      "[CV 1/5] END ..C=10, gamma=0.01, kernel=sigmoid;, score=0.857 total time=   0.0s\n",
      "[CV 2/5] END ..C=10, gamma=0.01, kernel=sigmoid;, score=0.714 total time=   0.0s\n",
      "[CV 3/5] END ..C=10, gamma=0.01, kernel=sigmoid;, score=0.929 total time=   0.0s\n",
      "[CV 4/5] END ..C=10, gamma=0.01, kernel=sigmoid;, score=0.846 total time=   0.0s\n",
      "[CV 5/5] END ..C=10, gamma=0.01, kernel=sigmoid;, score=0.769 total time=   0.0s\n",
      "[CV 1/5] END .....C=10, gamma=0.001, kernel=rbf;, score=0.857 total time=   0.0s\n",
      "[CV 2/5] END .....C=10, gamma=0.001, kernel=rbf;, score=0.643 total time=   0.0s\n",
      "[CV 3/5] END .....C=10, gamma=0.001, kernel=rbf;, score=0.929 total time=   0.0s\n",
      "[CV 4/5] END .....C=10, gamma=0.001, kernel=rbf;, score=0.846 total time=   0.0s\n",
      "[CV 5/5] END .....C=10, gamma=0.001, kernel=rbf;, score=0.769 total time=   0.0s\n",
      "[CV 1/5] END ..C=10, gamma=0.001, kernel=linear;, score=0.857 total time=   0.0s\n",
      "[CV 2/5] END ..C=10, gamma=0.001, kernel=linear;, score=0.714 total time=   0.0s\n",
      "[CV 3/5] END ..C=10, gamma=0.001, kernel=linear;, score=0.929 total time=   0.0s\n",
      "[CV 4/5] END ..C=10, gamma=0.001, kernel=linear;, score=0.923 total time=   0.0s\n",
      "[CV 5/5] END ..C=10, gamma=0.001, kernel=linear;, score=0.615 total time=   0.0s\n",
      "[CV 1/5] END ....C=10, gamma=0.001, kernel=poly;, score=0.500 total time=   0.0s\n",
      "[CV 2/5] END ....C=10, gamma=0.001, kernel=poly;, score=0.500 total time=   0.0s\n",
      "[CV 3/5] END ....C=10, gamma=0.001, kernel=poly;, score=0.500 total time=   0.0s\n",
      "[CV 4/5] END ....C=10, gamma=0.001, kernel=poly;, score=0.462 total time=   0.0s\n",
      "[CV 5/5] END ....C=10, gamma=0.001, kernel=poly;, score=0.462 total time=   0.0s\n",
      "[CV 1/5] END .C=10, gamma=0.001, kernel=sigmoid;, score=0.857 total time=   0.0s\n",
      "[CV 2/5] END .C=10, gamma=0.001, kernel=sigmoid;, score=0.714 total time=   0.0s\n",
      "[CV 3/5] END .C=10, gamma=0.001, kernel=sigmoid;, score=0.857 total time=   0.0s\n",
      "[CV 4/5] END .C=10, gamma=0.001, kernel=sigmoid;, score=0.846 total time=   0.0s\n",
      "[CV 5/5] END .C=10, gamma=0.001, kernel=sigmoid;, score=0.769 total time=   0.0s\n",
      "[CV 1/5] END ....C=10, gamma=0.0001, kernel=rbf;, score=0.571 total time=   0.0s\n",
      "[CV 2/5] END ....C=10, gamma=0.0001, kernel=rbf;, score=0.643 total time=   0.0s\n",
      "[CV 3/5] END ....C=10, gamma=0.0001, kernel=rbf;, score=0.786 total time=   0.0s\n",
      "[CV 4/5] END ....C=10, gamma=0.0001, kernel=rbf;, score=0.462 total time=   0.0s\n",
      "[CV 5/5] END ....C=10, gamma=0.0001, kernel=rbf;, score=0.462 total time=   0.0s\n",
      "[CV 1/5] END .C=10, gamma=0.0001, kernel=linear;, score=0.857 total time=   0.0s\n",
      "[CV 2/5] END .C=10, gamma=0.0001, kernel=linear;, score=0.714 total time=   0.0s\n",
      "[CV 3/5] END .C=10, gamma=0.0001, kernel=linear;, score=0.929 total time=   0.0s\n",
      "[CV 4/5] END .C=10, gamma=0.0001, kernel=linear;, score=0.923 total time=   0.0s\n",
      "[CV 5/5] END .C=10, gamma=0.0001, kernel=linear;, score=0.615 total time=   0.0s\n",
      "[CV 1/5] END ...C=10, gamma=0.0001, kernel=poly;, score=0.500 total time=   0.0s\n",
      "[CV 2/5] END ...C=10, gamma=0.0001, kernel=poly;, score=0.500 total time=   0.0s\n",
      "[CV 3/5] END ...C=10, gamma=0.0001, kernel=poly;, score=0.500 total time=   0.0s\n",
      "[CV 4/5] END ...C=10, gamma=0.0001, kernel=poly;, score=0.462 total time=   0.0s\n",
      "[CV 5/5] END ...C=10, gamma=0.0001, kernel=poly;, score=0.462 total time=   0.0s\n",
      "[CV 1/5] END C=10, gamma=0.0001, kernel=sigmoid;, score=0.571 total time=   0.0s\n",
      "[CV 2/5] END C=10, gamma=0.0001, kernel=sigmoid;, score=0.643 total time=   0.0s\n",
      "[CV 3/5] END C=10, gamma=0.0001, kernel=sigmoid;, score=0.786 total time=   0.0s\n",
      "[CV 4/5] END C=10, gamma=0.0001, kernel=sigmoid;, score=0.462 total time=   0.0s\n",
      "[CV 5/5] END C=10, gamma=0.0001, kernel=sigmoid;, score=0.462 total time=   0.0s\n",
      "[CV 1/5] END ........C=100, gamma=1, kernel=rbf;, score=0.786 total time=   0.0s\n",
      "[CV 2/5] END ........C=100, gamma=1, kernel=rbf;, score=0.714 total time=   0.0s\n",
      "[CV 3/5] END ........C=100, gamma=1, kernel=rbf;, score=0.714 total time=   0.0s\n",
      "[CV 4/5] END ........C=100, gamma=1, kernel=rbf;, score=0.923 total time=   0.0s\n",
      "[CV 5/5] END ........C=100, gamma=1, kernel=rbf;, score=0.692 total time=   0.0s\n",
      "[CV 1/5] END .....C=100, gamma=1, kernel=linear;, score=0.857 total time=   0.0s\n",
      "[CV 2/5] END .....C=100, gamma=1, kernel=linear;, score=0.714 total time=   0.0s\n",
      "[CV 3/5] END .....C=100, gamma=1, kernel=linear;, score=0.929 total time=   0.0s\n",
      "[CV 4/5] END .....C=100, gamma=1, kernel=linear;, score=0.923 total time=   0.0s\n",
      "[CV 5/5] END .....C=100, gamma=1, kernel=linear;, score=0.615 total time=   0.0s\n",
      "[CV 1/5] END .......C=100, gamma=1, kernel=poly;, score=0.786 total time=   0.0s\n",
      "[CV 2/5] END .......C=100, gamma=1, kernel=poly;, score=0.643 total time=   0.0s\n",
      "[CV 3/5] END .......C=100, gamma=1, kernel=poly;, score=0.643 total time=   0.0s\n",
      "[CV 4/5] END .......C=100, gamma=1, kernel=poly;, score=0.769 total time=   0.0s\n",
      "[CV 5/5] END .......C=100, gamma=1, kernel=poly;, score=0.692 total time=   0.0s\n",
      "[CV 1/5] END ....C=100, gamma=1, kernel=sigmoid;, score=0.786 total time=   0.0s\n",
      "[CV 2/5] END ....C=100, gamma=1, kernel=sigmoid;, score=0.571 total time=   0.0s\n",
      "[CV 3/5] END ....C=100, gamma=1, kernel=sigmoid;, score=0.500 total time=   0.0s\n",
      "[CV 4/5] END ....C=100, gamma=1, kernel=sigmoid;, score=0.769 total time=   0.0s\n",
      "[CV 5/5] END ....C=100, gamma=1, kernel=sigmoid;, score=0.538 total time=   0.0s\n",
      "[CV 1/5] END ......C=100, gamma=0.1, kernel=rbf;, score=0.929 total time=   0.0s\n",
      "[CV 2/5] END ......C=100, gamma=0.1, kernel=rbf;, score=0.786 total time=   0.0s\n"
     ]
    },
    {
     "name": "stdout",
     "output_type": "stream",
     "text": [
      "[CV 3/5] END ......C=100, gamma=0.1, kernel=rbf;, score=0.857 total time=   0.0s\n",
      "[CV 4/5] END ......C=100, gamma=0.1, kernel=rbf;, score=0.846 total time=   0.0s\n",
      "[CV 5/5] END ......C=100, gamma=0.1, kernel=rbf;, score=0.769 total time=   0.0s\n",
      "[CV 1/5] END ...C=100, gamma=0.1, kernel=linear;, score=0.857 total time=   0.0s\n",
      "[CV 2/5] END ...C=100, gamma=0.1, kernel=linear;, score=0.714 total time=   0.0s\n",
      "[CV 3/5] END ...C=100, gamma=0.1, kernel=linear;, score=0.929 total time=   0.0s\n",
      "[CV 4/5] END ...C=100, gamma=0.1, kernel=linear;, score=0.923 total time=   0.0s\n",
      "[CV 5/5] END ...C=100, gamma=0.1, kernel=linear;, score=0.615 total time=   0.0s\n",
      "[CV 1/5] END .....C=100, gamma=0.1, kernel=poly;, score=0.714 total time=   0.0s\n",
      "[CV 2/5] END .....C=100, gamma=0.1, kernel=poly;, score=0.714 total time=   0.0s\n",
      "[CV 3/5] END .....C=100, gamma=0.1, kernel=poly;, score=0.929 total time=   0.0s\n",
      "[CV 4/5] END .....C=100, gamma=0.1, kernel=poly;, score=0.769 total time=   0.0s\n",
      "[CV 5/5] END .....C=100, gamma=0.1, kernel=poly;, score=0.615 total time=   0.0s\n",
      "[CV 1/5] END ..C=100, gamma=0.1, kernel=sigmoid;, score=0.857 total time=   0.0s\n",
      "[CV 2/5] END ..C=100, gamma=0.1, kernel=sigmoid;, score=0.643 total time=   0.0s\n",
      "[CV 3/5] END ..C=100, gamma=0.1, kernel=sigmoid;, score=0.929 total time=   0.0s\n",
      "[CV 4/5] END ..C=100, gamma=0.1, kernel=sigmoid;, score=0.769 total time=   0.0s\n",
      "[CV 5/5] END ..C=100, gamma=0.1, kernel=sigmoid;, score=0.692 total time=   0.0s\n",
      "[CV 1/5] END .....C=100, gamma=0.01, kernel=rbf;, score=0.929 total time=   0.0s\n",
      "[CV 2/5] END .....C=100, gamma=0.01, kernel=rbf;, score=0.714 total time=   0.0s\n",
      "[CV 3/5] END .....C=100, gamma=0.01, kernel=rbf;, score=0.929 total time=   0.0s\n",
      "[CV 4/5] END .....C=100, gamma=0.01, kernel=rbf;, score=0.846 total time=   0.0s\n",
      "[CV 5/5] END .....C=100, gamma=0.01, kernel=rbf;, score=0.769 total time=   0.0s\n",
      "[CV 1/5] END ..C=100, gamma=0.01, kernel=linear;, score=0.857 total time=   0.0s\n",
      "[CV 2/5] END ..C=100, gamma=0.01, kernel=linear;, score=0.714 total time=   0.0s\n",
      "[CV 3/5] END ..C=100, gamma=0.01, kernel=linear;, score=0.929 total time=   0.0s\n",
      "[CV 4/5] END ..C=100, gamma=0.01, kernel=linear;, score=0.923 total time=   0.0s\n",
      "[CV 5/5] END ..C=100, gamma=0.01, kernel=linear;, score=0.615 total time=   0.0s\n",
      "[CV 1/5] END ....C=100, gamma=0.01, kernel=poly;, score=0.500 total time=   0.0s\n",
      "[CV 2/5] END ....C=100, gamma=0.01, kernel=poly;, score=0.500 total time=   0.0s\n",
      "[CV 3/5] END ....C=100, gamma=0.01, kernel=poly;, score=0.500 total time=   0.0s\n",
      "[CV 4/5] END ....C=100, gamma=0.01, kernel=poly;, score=0.462 total time=   0.0s\n",
      "[CV 5/5] END ....C=100, gamma=0.01, kernel=poly;, score=0.462 total time=   0.0s\n",
      "[CV 1/5] END .C=100, gamma=0.01, kernel=sigmoid;, score=0.929 total time=   0.0s\n",
      "[CV 2/5] END .C=100, gamma=0.01, kernel=sigmoid;, score=0.714 total time=   0.0s\n",
      "[CV 3/5] END .C=100, gamma=0.01, kernel=sigmoid;, score=0.929 total time=   0.0s\n",
      "[CV 4/5] END .C=100, gamma=0.01, kernel=sigmoid;, score=1.000 total time=   0.0s\n",
      "[CV 5/5] END .C=100, gamma=0.01, kernel=sigmoid;, score=0.769 total time=   0.0s\n",
      "[CV 1/5] END ....C=100, gamma=0.001, kernel=rbf;, score=0.857 total time=   0.0s\n",
      "[CV 2/5] END ....C=100, gamma=0.001, kernel=rbf;, score=0.714 total time=   0.0s\n",
      "[CV 3/5] END ....C=100, gamma=0.001, kernel=rbf;, score=0.929 total time=   0.0s\n",
      "[CV 4/5] END ....C=100, gamma=0.001, kernel=rbf;, score=0.846 total time=   0.0s\n",
      "[CV 5/5] END ....C=100, gamma=0.001, kernel=rbf;, score=0.769 total time=   0.0s\n",
      "[CV 1/5] END .C=100, gamma=0.001, kernel=linear;, score=0.857 total time=   0.0s\n",
      "[CV 2/5] END .C=100, gamma=0.001, kernel=linear;, score=0.714 total time=   0.0s\n",
      "[CV 3/5] END .C=100, gamma=0.001, kernel=linear;, score=0.929 total time=   0.0s\n",
      "[CV 4/5] END .C=100, gamma=0.001, kernel=linear;, score=0.923 total time=   0.0s\n",
      "[CV 5/5] END .C=100, gamma=0.001, kernel=linear;, score=0.615 total time=   0.0s\n",
      "[CV 1/5] END ...C=100, gamma=0.001, kernel=poly;, score=0.500 total time=   0.0s\n",
      "[CV 2/5] END ...C=100, gamma=0.001, kernel=poly;, score=0.500 total time=   0.0s\n",
      "[CV 3/5] END ...C=100, gamma=0.001, kernel=poly;, score=0.500 total time=   0.0s\n",
      "[CV 4/5] END ...C=100, gamma=0.001, kernel=poly;, score=0.462 total time=   0.0s\n",
      "[CV 5/5] END ...C=100, gamma=0.001, kernel=poly;, score=0.462 total time=   0.0s\n",
      "[CV 1/5] END C=100, gamma=0.001, kernel=sigmoid;, score=0.857 total time=   0.0s\n",
      "[CV 2/5] END C=100, gamma=0.001, kernel=sigmoid;, score=0.714 total time=   0.0s\n",
      "[CV 3/5] END C=100, gamma=0.001, kernel=sigmoid;, score=0.929 total time=   0.0s\n",
      "[CV 4/5] END C=100, gamma=0.001, kernel=sigmoid;, score=0.846 total time=   0.0s\n",
      "[CV 5/5] END C=100, gamma=0.001, kernel=sigmoid;, score=0.769 total time=   0.0s\n",
      "[CV 1/5] END ...C=100, gamma=0.0001, kernel=rbf;, score=0.857 total time=   0.0s\n",
      "[CV 2/5] END ...C=100, gamma=0.0001, kernel=rbf;, score=0.643 total time=   0.0s\n",
      "[CV 3/5] END ...C=100, gamma=0.0001, kernel=rbf;, score=0.929 total time=   0.0s\n",
      "[CV 4/5] END ...C=100, gamma=0.0001, kernel=rbf;, score=0.846 total time=   0.0s\n",
      "[CV 5/5] END ...C=100, gamma=0.0001, kernel=rbf;, score=0.769 total time=   0.0s\n",
      "[CV 1/5] END C=100, gamma=0.0001, kernel=linear;, score=0.857 total time=   0.0s\n",
      "[CV 2/5] END C=100, gamma=0.0001, kernel=linear;, score=0.714 total time=   0.0s\n",
      "[CV 3/5] END C=100, gamma=0.0001, kernel=linear;, score=0.929 total time=   0.0s\n",
      "[CV 4/5] END C=100, gamma=0.0001, kernel=linear;, score=0.923 total time=   0.0s\n",
      "[CV 5/5] END C=100, gamma=0.0001, kernel=linear;, score=0.615 total time=   0.0s\n",
      "[CV 1/5] END ..C=100, gamma=0.0001, kernel=poly;, score=0.500 total time=   0.0s\n",
      "[CV 2/5] END ..C=100, gamma=0.0001, kernel=poly;, score=0.500 total time=   0.0s\n",
      "[CV 3/5] END ..C=100, gamma=0.0001, kernel=poly;, score=0.500 total time=   0.0s\n",
      "[CV 4/5] END ..C=100, gamma=0.0001, kernel=poly;, score=0.462 total time=   0.0s\n",
      "[CV 5/5] END ..C=100, gamma=0.0001, kernel=poly;, score=0.462 total time=   0.0s\n",
      "[CV 1/5] END C=100, gamma=0.0001, kernel=sigmoid;, score=0.857 total time=   0.0s\n",
      "[CV 2/5] END C=100, gamma=0.0001, kernel=sigmoid;, score=0.714 total time=   0.0s\n",
      "[CV 3/5] END C=100, gamma=0.0001, kernel=sigmoid;, score=0.857 total time=   0.0s\n",
      "[CV 4/5] END C=100, gamma=0.0001, kernel=sigmoid;, score=0.846 total time=   0.0s\n",
      "[CV 5/5] END C=100, gamma=0.0001, kernel=sigmoid;, score=0.769 total time=   0.0s\n",
      "[CV 1/5] END .......C=1000, gamma=1, kernel=rbf;, score=0.786 total time=   0.0s\n",
      "[CV 2/5] END .......C=1000, gamma=1, kernel=rbf;, score=0.714 total time=   0.0s\n",
      "[CV 3/5] END .......C=1000, gamma=1, kernel=rbf;, score=0.714 total time=   0.0s\n",
      "[CV 4/5] END .......C=1000, gamma=1, kernel=rbf;, score=0.923 total time=   0.0s\n",
      "[CV 5/5] END .......C=1000, gamma=1, kernel=rbf;, score=0.692 total time=   0.0s\n",
      "[CV 1/5] END ....C=1000, gamma=1, kernel=linear;, score=0.857 total time=   0.0s\n",
      "[CV 2/5] END ....C=1000, gamma=1, kernel=linear;, score=0.714 total time=   0.0s\n",
      "[CV 3/5] END ....C=1000, gamma=1, kernel=linear;, score=0.929 total time=   0.0s\n",
      "[CV 4/5] END ....C=1000, gamma=1, kernel=linear;, score=0.923 total time=   0.0s\n",
      "[CV 5/5] END ....C=1000, gamma=1, kernel=linear;, score=0.615 total time=   0.0s\n",
      "[CV 1/5] END ......C=1000, gamma=1, kernel=poly;, score=0.786 total time=   0.0s\n",
      "[CV 2/5] END ......C=1000, gamma=1, kernel=poly;, score=0.643 total time=   0.0s\n",
      "[CV 3/5] END ......C=1000, gamma=1, kernel=poly;, score=0.643 total time=   0.0s\n",
      "[CV 4/5] END ......C=1000, gamma=1, kernel=poly;, score=0.769 total time=   0.0s\n",
      "[CV 5/5] END ......C=1000, gamma=1, kernel=poly;, score=0.692 total time=   0.0s\n",
      "[CV 1/5] END ...C=1000, gamma=1, kernel=sigmoid;, score=0.786 total time=   0.0s\n",
      "[CV 2/5] END ...C=1000, gamma=1, kernel=sigmoid;, score=0.571 total time=   0.0s\n",
      "[CV 3/5] END ...C=1000, gamma=1, kernel=sigmoid;, score=0.500 total time=   0.0s\n",
      "[CV 4/5] END ...C=1000, gamma=1, kernel=sigmoid;, score=0.769 total time=   0.0s\n",
      "[CV 5/5] END ...C=1000, gamma=1, kernel=sigmoid;, score=0.538 total time=   0.0s\n",
      "[CV 1/5] END .....C=1000, gamma=0.1, kernel=rbf;, score=0.857 total time=   0.0s\n",
      "[CV 2/5] END .....C=1000, gamma=0.1, kernel=rbf;, score=0.786 total time=   0.0s\n",
      "[CV 3/5] END .....C=1000, gamma=0.1, kernel=rbf;, score=0.643 total time=   0.0s\n",
      "[CV 4/5] END .....C=1000, gamma=0.1, kernel=rbf;, score=0.846 total time=   0.0s\n",
      "[CV 5/5] END .....C=1000, gamma=0.1, kernel=rbf;, score=0.769 total time=   0.0s\n",
      "[CV 1/5] END ..C=1000, gamma=0.1, kernel=linear;, score=0.857 total time=   0.0s\n",
      "[CV 2/5] END ..C=1000, gamma=0.1, kernel=linear;, score=0.714 total time=   0.0s\n",
      "[CV 3/5] END ..C=1000, gamma=0.1, kernel=linear;, score=0.929 total time=   0.0s\n",
      "[CV 4/5] END ..C=1000, gamma=0.1, kernel=linear;, score=0.923 total time=   0.0s\n",
      "[CV 5/5] END ..C=1000, gamma=0.1, kernel=linear;, score=0.615 total time=   0.0s\n"
     ]
    },
    {
     "name": "stdout",
     "output_type": "stream",
     "text": [
      "[CV 1/5] END ....C=1000, gamma=0.1, kernel=poly;, score=0.714 total time=   0.0s\n",
      "[CV 2/5] END ....C=1000, gamma=0.1, kernel=poly;, score=0.714 total time=   0.0s\n",
      "[CV 3/5] END ....C=1000, gamma=0.1, kernel=poly;, score=0.857 total time=   0.0s\n",
      "[CV 4/5] END ....C=1000, gamma=0.1, kernel=poly;, score=0.769 total time=   0.0s\n",
      "[CV 5/5] END ....C=1000, gamma=0.1, kernel=poly;, score=0.615 total time=   0.0s\n",
      "[CV 1/5] END .C=1000, gamma=0.1, kernel=sigmoid;, score=0.857 total time=   0.0s\n",
      "[CV 2/5] END .C=1000, gamma=0.1, kernel=sigmoid;, score=0.643 total time=   0.0s\n",
      "[CV 3/5] END .C=1000, gamma=0.1, kernel=sigmoid;, score=0.929 total time=   0.0s\n",
      "[CV 4/5] END .C=1000, gamma=0.1, kernel=sigmoid;, score=0.769 total time=   0.0s\n",
      "[CV 5/5] END .C=1000, gamma=0.1, kernel=sigmoid;, score=0.769 total time=   0.0s\n",
      "[CV 1/5] END ....C=1000, gamma=0.01, kernel=rbf;, score=0.929 total time=   0.0s\n",
      "[CV 2/5] END ....C=1000, gamma=0.01, kernel=rbf;, score=0.714 total time=   0.0s\n",
      "[CV 3/5] END ....C=1000, gamma=0.01, kernel=rbf;, score=0.857 total time=   0.0s\n",
      "[CV 4/5] END ....C=1000, gamma=0.01, kernel=rbf;, score=0.769 total time=   0.0s\n",
      "[CV 5/5] END ....C=1000, gamma=0.01, kernel=rbf;, score=0.692 total time=   0.0s\n",
      "[CV 1/5] END .C=1000, gamma=0.01, kernel=linear;, score=0.857 total time=   0.0s\n",
      "[CV 2/5] END .C=1000, gamma=0.01, kernel=linear;, score=0.714 total time=   0.0s\n",
      "[CV 3/5] END .C=1000, gamma=0.01, kernel=linear;, score=0.929 total time=   0.0s\n",
      "[CV 4/5] END .C=1000, gamma=0.01, kernel=linear;, score=0.923 total time=   0.0s\n",
      "[CV 5/5] END .C=1000, gamma=0.01, kernel=linear;, score=0.615 total time=   0.0s\n",
      "[CV 1/5] END ...C=1000, gamma=0.01, kernel=poly;, score=0.571 total time=   0.0s\n",
      "[CV 2/5] END ...C=1000, gamma=0.01, kernel=poly;, score=0.500 total time=   0.0s\n",
      "[CV 3/5] END ...C=1000, gamma=0.01, kernel=poly;, score=0.643 total time=   0.0s\n",
      "[CV 4/5] END ...C=1000, gamma=0.01, kernel=poly;, score=0.692 total time=   0.0s\n",
      "[CV 5/5] END ...C=1000, gamma=0.01, kernel=poly;, score=0.615 total time=   0.0s\n",
      "[CV 1/5] END C=1000, gamma=0.01, kernel=sigmoid;, score=0.857 total time=   0.0s\n",
      "[CV 2/5] END C=1000, gamma=0.01, kernel=sigmoid;, score=0.714 total time=   0.0s\n",
      "[CV 3/5] END C=1000, gamma=0.01, kernel=sigmoid;, score=0.929 total time=   0.0s\n",
      "[CV 4/5] END C=1000, gamma=0.01, kernel=sigmoid;, score=0.923 total time=   0.0s\n",
      "[CV 5/5] END C=1000, gamma=0.01, kernel=sigmoid;, score=0.615 total time=   0.0s\n",
      "[CV 1/5] END ...C=1000, gamma=0.001, kernel=rbf;, score=0.929 total time=   0.0s\n",
      "[CV 2/5] END ...C=1000, gamma=0.001, kernel=rbf;, score=0.714 total time=   0.0s\n",
      "[CV 3/5] END ...C=1000, gamma=0.001, kernel=rbf;, score=0.929 total time=   0.0s\n",
      "[CV 4/5] END ...C=1000, gamma=0.001, kernel=rbf;, score=1.000 total time=   0.0s\n",
      "[CV 5/5] END ...C=1000, gamma=0.001, kernel=rbf;, score=0.769 total time=   0.0s\n",
      "[CV 1/5] END C=1000, gamma=0.001, kernel=linear;, score=0.857 total time=   0.0s\n",
      "[CV 2/5] END C=1000, gamma=0.001, kernel=linear;, score=0.714 total time=   0.0s\n",
      "[CV 3/5] END C=1000, gamma=0.001, kernel=linear;, score=0.929 total time=   0.0s\n",
      "[CV 4/5] END C=1000, gamma=0.001, kernel=linear;, score=0.923 total time=   0.0s\n",
      "[CV 5/5] END C=1000, gamma=0.001, kernel=linear;, score=0.615 total time=   0.0s\n",
      "[CV 1/5] END ..C=1000, gamma=0.001, kernel=poly;, score=0.500 total time=   0.0s\n",
      "[CV 2/5] END ..C=1000, gamma=0.001, kernel=poly;, score=0.500 total time=   0.0s\n",
      "[CV 3/5] END ..C=1000, gamma=0.001, kernel=poly;, score=0.500 total time=   0.0s\n",
      "[CV 4/5] END ..C=1000, gamma=0.001, kernel=poly;, score=0.462 total time=   0.0s\n",
      "[CV 5/5] END ..C=1000, gamma=0.001, kernel=poly;, score=0.462 total time=   0.0s\n",
      "[CV 1/5] END C=1000, gamma=0.001, kernel=sigmoid;, score=0.929 total time=   0.0s\n",
      "[CV 2/5] END C=1000, gamma=0.001, kernel=sigmoid;, score=0.714 total time=   0.0s\n",
      "[CV 3/5] END C=1000, gamma=0.001, kernel=sigmoid;, score=0.929 total time=   0.0s\n",
      "[CV 4/5] END C=1000, gamma=0.001, kernel=sigmoid;, score=1.000 total time=   0.0s\n",
      "[CV 5/5] END C=1000, gamma=0.001, kernel=sigmoid;, score=0.769 total time=   0.0s\n",
      "[CV 1/5] END ..C=1000, gamma=0.0001, kernel=rbf;, score=0.857 total time=   0.0s\n",
      "[CV 2/5] END ..C=1000, gamma=0.0001, kernel=rbf;, score=0.714 total time=   0.0s\n",
      "[CV 3/5] END ..C=1000, gamma=0.0001, kernel=rbf;, score=0.929 total time=   0.0s\n",
      "[CV 4/5] END ..C=1000, gamma=0.0001, kernel=rbf;, score=0.846 total time=   0.0s\n",
      "[CV 5/5] END ..C=1000, gamma=0.0001, kernel=rbf;, score=0.769 total time=   0.0s\n",
      "[CV 1/5] END C=1000, gamma=0.0001, kernel=linear;, score=0.857 total time=   0.0s\n",
      "[CV 2/5] END C=1000, gamma=0.0001, kernel=linear;, score=0.714 total time=   0.0s\n",
      "[CV 3/5] END C=1000, gamma=0.0001, kernel=linear;, score=0.929 total time=   0.0s\n",
      "[CV 4/5] END C=1000, gamma=0.0001, kernel=linear;, score=0.923 total time=   0.0s\n",
      "[CV 5/5] END C=1000, gamma=0.0001, kernel=linear;, score=0.615 total time=   0.0s\n",
      "[CV 1/5] END .C=1000, gamma=0.0001, kernel=poly;, score=0.500 total time=   0.0s\n",
      "[CV 2/5] END .C=1000, gamma=0.0001, kernel=poly;, score=0.500 total time=   0.0s\n",
      "[CV 3/5] END .C=1000, gamma=0.0001, kernel=poly;, score=0.500 total time=   0.0s\n",
      "[CV 4/5] END .C=1000, gamma=0.0001, kernel=poly;, score=0.462 total time=   0.0s\n",
      "[CV 5/5] END .C=1000, gamma=0.0001, kernel=poly;, score=0.462 total time=   0.0s\n",
      "[CV 1/5] END C=1000, gamma=0.0001, kernel=sigmoid;, score=0.857 total time=   0.0s\n",
      "[CV 2/5] END C=1000, gamma=0.0001, kernel=sigmoid;, score=0.714 total time=   0.0s\n",
      "[CV 3/5] END C=1000, gamma=0.0001, kernel=sigmoid;, score=0.929 total time=   0.0s\n",
      "[CV 4/5] END C=1000, gamma=0.0001, kernel=sigmoid;, score=0.846 total time=   0.0s\n",
      "[CV 5/5] END C=1000, gamma=0.0001, kernel=sigmoid;, score=0.769 total time=   0.0s\n",
      "{'C': 1, 'gamma': 1, 'kernel': 'linear'}\n",
      "SVC(C=1, gamma=1, kernel='linear')\n",
      "              precision    recall  f1-score   support\n",
      "\n",
      "           0       1.00      1.00      1.00         9\n",
      "           1       1.00      1.00      1.00         8\n",
      "\n",
      "    accuracy                           1.00        17\n",
      "   macro avg       1.00      1.00      1.00        17\n",
      "weighted avg       1.00      1.00      1.00        17\n",
      "\n"
     ]
    }
   ],
   "source": [
    "from sklearn.metrics import classification_report, confusion_matrix\n",
    "from sklearn.datasets import load_breast_cancer\n",
    "from sklearn.model_selection import GridSearchCV\n",
    "\n",
    "model = SVC()\n",
    "model.fit(X_train, y_train)\n",
    " \n",
    "# print prediction results\n",
    "predictions = model.predict(X_test)\n",
    "print(classification_report(y_test, predictions))\n",
    "\n",
    "\n",
    "\n",
    "# defining parameter range\n",
    "param_grid = {'C': [0.1, 1, 10, 100, 1000],\n",
    "              'gamma': [1, 0.1, 0.01, 0.001, 0.0001],\n",
    "              'kernel': ['rbf','linear','poly','sigmoid']}\n",
    " \n",
    "grid = GridSearchCV(SVC(), param_grid, refit = True, verbose = 3,cv=5)\n",
    " \n",
    "# fitting the model for grid search\n",
    "grid.fit(X_train, y_train)\n",
    "\n",
    "# print best parameter after tuning\n",
    "print(grid.best_params_)\n",
    " \n",
    "# print how our model looks after hyper-parameter tuning\n",
    "print(grid.best_estimator_)\n",
    "\n",
    "\n",
    "grid_predictions = grid.predict(X_test)\n",
    " \n",
    "# print classification report\n",
    "print(classification_report(y_test, grid_predictions))\n"
   ]
  },
  {
   "cell_type": "code",
   "execution_count": 148,
   "id": "568fecb9",
   "metadata": {
    "scrolled": true
   },
   "outputs": [
    {
     "name": "stdout",
     "output_type": "stream",
     "text": [
      "Confusion matrix, without normalization\n",
      "[[8 1]\n",
      " [2 6]]\n",
      "Normalized confusion matrix\n",
      "[[0.88888889 0.11111111]\n",
      " [0.25       0.75      ]]\n"
     ]
    },
    {
     "data": {
      "image/png": "[encoded data removed]",
      "text/plain": [
       "<Figure size 432x288 with 2 Axes>"
      ]
     },
     "metadata": {
      "needs_background": "light"
     },
     "output_type": "display_data"
    },
    {
     "data": {
      "image/png": "[encoded data removed]",
      "text/plain": [
       "<Figure size 432x288 with 2 Axes>"
      ]
     },
     "metadata": {
      "needs_background": "light"
     },
     "output_type": "display_data"
    },
    {
     "name": "stdout",
     "output_type": "stream",
     "text": [
      "Accuracy score : 0.8235294117647058\n",
      "Mean accuracy of 5 fold cross validation test : 0.8352941176470587\n",
      "with a maximum accuracy of 0.9411764705882353\n",
      "Mean accuracy of 10 fold cross validation test : 0.8430555555555556\n",
      "with a maximum accuracy of 1.0\n",
      "Mean accuracy of n fold cross validation test : 0.8588235294117647\n",
      "with a maximum accuracy of 1.0\n",
      "Mean accuracy of n fold cross validation test : 0.8470588235294116\n",
      "with a maximum accuracy of 0.9411764705882353\n"
     ]
    }
   ],
   "source": [
    "classifier = KNeighborsClassifier(n_neighbors=10)\n",
    "testClassifier(classifier,X_train,X_test,y_train,y_test)"
   ]
  },
  {
   "cell_type": "code",
   "execution_count": 149,
   "id": "e0d61a1f",
   "metadata": {},
   "outputs": [
    {
     "name": "stdout",
     "output_type": "stream",
     "text": [
      "[0.22037037 0.06630882 0.71332081 0.        ]\n",
      "Confusion matrix, without normalization\n",
      "[[8 1]\n",
      " [0 8]]\n",
      "Normalized confusion matrix\n",
      "[[0.88888889 0.11111111]\n",
      " [0.         1.        ]]\n"
     ]
    },
    {
     "data": {
      "image/png": "[encoded data removed]",
      "text/plain": [
       "<Figure size 432x288 with 2 Axes>"
      ]
     },
     "metadata": {
      "needs_background": "light"
     },
     "output_type": "display_data"
    },
    {
     "data": {
      "image/png": "[encoded data removed]",
      "text/plain": [
       "<Figure size 432x288 with 2 Axes>"
      ]
     },
     "metadata": {
      "needs_background": "light"
     },
     "output_type": "display_data"
    },
    {
     "name": "stdout",
     "output_type": "stream",
     "text": [
      "Accuracy score : 0.9411764705882353\n",
      "Mean accuracy of 5 fold cross validation test : 0.8352941176470587\n",
      "with a maximum accuracy of 0.9411764705882353\n",
      "Mean accuracy of 10 fold cross validation test : 0.7972222222222222\n",
      "with a maximum accuracy of 1.0\n",
      "Mean accuracy of n fold cross validation test : 0.788235294117647\n",
      "with a maximum accuracy of 1.0\n",
      "Mean accuracy of n fold cross validation test : 0.8352941176470587\n",
      "with a maximum accuracy of 0.9411764705882353\n"
     ]
    }
   ],
   "source": [
    "from sklearn.ensemble import GradientBoostingClassifier\n",
    "classifier = GradientBoostingClassifier()\n",
    "classifier.fit(X_test,y_test)\n",
    "print(classifier.feature_importances_)\n",
    "testClassifier(GradientBoostingClassifier(),X_train,X_test,y_train,y_test)"
   ]
  },
  {
   "cell_type": "code",
   "execution_count": null,
   "id": "e51604ec",
   "metadata": {},
   "outputs": [],
   "source": []
  },
  {
   "cell_type": "code",
   "execution_count": 150,
   "id": "b845b3d6",
   "metadata": {
    "scrolled": true
   },
   "outputs": [
    {
     "name": "stdout",
     "output_type": "stream",
     "text": [
      "Fitting 5 folds for each of 135 candidates, totalling 675 fits\n",
      "[CV 1/5] END criterion=friedman_mse, learning_rate=0.03, n_estimators=1;, score=0.643 total time=   0.0s\n",
      "[CV 2/5] END criterion=friedman_mse, learning_rate=0.03, n_estimators=1;, score=0.714 total time=   0.0s\n",
      "[CV 3/5] END criterion=friedman_mse, learning_rate=0.03, n_estimators=1;, score=0.929 total time=   0.0s\n",
      "[CV 4/5] END criterion=friedman_mse, learning_rate=0.03, n_estimators=1;, score=0.615 total time=   0.0s\n",
      "[CV 5/5] END criterion=friedman_mse, learning_rate=0.03, n_estimators=1;, score=0.615 total time=   0.0s\n",
      "[CV 1/5] END criterion=friedman_mse, learning_rate=0.03, n_estimators=5;, score=0.643 total time=   0.0s\n",
      "[CV 2/5] END criterion=friedman_mse, learning_rate=0.03, n_estimators=5;, score=0.714 total time=   0.0s\n",
      "[CV 3/5] END criterion=friedman_mse, learning_rate=0.03, n_estimators=5;, score=0.714 total time=   0.0s\n",
      "[CV 4/5] END criterion=friedman_mse, learning_rate=0.03, n_estimators=5;, score=0.769 total time=   0.0s\n",
      "[CV 5/5] END criterion=friedman_mse, learning_rate=0.03, n_estimators=5;, score=0.769 total time=   0.0s\n",
      "[CV 1/5] END criterion=friedman_mse, learning_rate=0.03, n_estimators=10;, score=0.643 total time=   0.0s\n",
      "[CV 2/5] END criterion=friedman_mse, learning_rate=0.03, n_estimators=10;, score=0.714 total time=   0.0s\n",
      "[CV 3/5] END criterion=friedman_mse, learning_rate=0.03, n_estimators=10;, score=0.714 total time=   0.0s\n",
      "[CV 4/5] END criterion=friedman_mse, learning_rate=0.03, n_estimators=10;, score=0.846 total time=   0.0s\n",
      "[CV 5/5] END criterion=friedman_mse, learning_rate=0.03, n_estimators=10;, score=0.846 total time=   0.0s\n",
      "[CV 1/5] END criterion=friedman_mse, learning_rate=0.03, n_estimators=50;, score=0.571 total time=   0.0s\n",
      "[CV 2/5] END criterion=friedman_mse, learning_rate=0.03, n_estimators=50;, score=0.714 total time=   0.0s\n",
      "[CV 3/5] END criterion=friedman_mse, learning_rate=0.03, n_estimators=50;, score=0.714 total time=   0.0s\n",
      "[CV 4/5] END criterion=friedman_mse, learning_rate=0.03, n_estimators=50;, score=0.846 total time=   0.0s\n",
      "[CV 5/5] END criterion=friedman_mse, learning_rate=0.03, n_estimators=50;, score=0.769 total time=   0.0s\n",
      "[CV 1/5] END criterion=friedman_mse, learning_rate=0.03, n_estimators=100;, score=0.643 total time=   0.0s\n",
      "[CV 2/5] END criterion=friedman_mse, learning_rate=0.03, n_estimators=100;, score=0.714 total time=   0.0s\n",
      "[CV 3/5] END criterion=friedman_mse, learning_rate=0.03, n_estimators=100;, score=0.714 total time=   0.0s\n",
      "[CV 4/5] END criterion=friedman_mse, learning_rate=0.03, n_estimators=100;, score=0.769 total time=   0.0s\n",
      "[CV 5/5] END criterion=friedman_mse, learning_rate=0.03, n_estimators=100;, score=0.769 total time=   0.0s\n",
      "[CV 1/5] END criterion=friedman_mse, learning_rate=0.03, n_estimators=200;, score=0.643 total time=   0.0s\n",
      "[CV 2/5] END criterion=friedman_mse, learning_rate=0.03, n_estimators=200;, score=0.714 total time=   0.0s\n",
      "[CV 3/5] END criterion=friedman_mse, learning_rate=0.03, n_estimators=200;, score=0.857 total time=   0.0s\n",
      "[CV 4/5] END criterion=friedman_mse, learning_rate=0.03, n_estimators=200;, score=0.769 total time=   0.0s\n",
      "[CV 5/5] END criterion=friedman_mse, learning_rate=0.03, n_estimators=200;, score=0.692 total time=   0.0s\n",
      "[CV 1/5] END criterion=friedman_mse, learning_rate=0.03, n_estimators=300;, score=0.714 total time=   0.0s\n",
      "[CV 2/5] END criterion=friedman_mse, learning_rate=0.03, n_estimators=300;, score=0.786 total time=   0.0s\n",
      "[CV 3/5] END criterion=friedman_mse, learning_rate=0.03, n_estimators=300;, score=0.857 total time=   0.0s\n",
      "[CV 4/5] END criterion=friedman_mse, learning_rate=0.03, n_estimators=300;, score=0.769 total time=   0.0s\n",
      "[CV 5/5] END criterion=friedman_mse, learning_rate=0.03, n_estimators=300;, score=0.615 total time=   0.0s\n",
      "[CV 1/5] END criterion=friedman_mse, learning_rate=0.03, n_estimators=500;, score=0.643 total time=   0.1s\n",
      "[CV 2/5] END criterion=friedman_mse, learning_rate=0.03, n_estimators=500;, score=0.714 total time=   0.1s\n",
      "[CV 3/5] END criterion=friedman_mse, learning_rate=0.03, n_estimators=500;, score=0.857 total time=   0.1s\n",
      "[CV 4/5] END criterion=friedman_mse, learning_rate=0.03, n_estimators=500;, score=0.769 total time=   0.1s\n",
      "[CV 5/5] END criterion=friedman_mse, learning_rate=0.03, n_estimators=500;, score=0.615 total time=   0.1s\n",
      "[CV 1/5] END criterion=friedman_mse, learning_rate=0.03, n_estimators=1000;, score=0.714 total time=   0.2s\n",
      "[CV 2/5] END criterion=friedman_mse, learning_rate=0.03, n_estimators=1000;, score=0.786 total time=   0.2s\n",
      "[CV 3/5] END criterion=friedman_mse, learning_rate=0.03, n_estimators=1000;, score=0.786 total time=   0.2s\n",
      "[CV 4/5] END criterion=friedman_mse, learning_rate=0.03, n_estimators=1000;, score=0.769 total time=   0.2s\n",
      "[CV 5/5] END criterion=friedman_mse, learning_rate=0.03, n_estimators=1000;, score=0.615 total time=   0.2s\n",
      "[CV 1/5] END criterion=friedman_mse, learning_rate=0.1, n_estimators=1;, score=0.643 total time=   0.0s\n",
      "[CV 2/5] END criterion=friedman_mse, learning_rate=0.1, n_estimators=1;, score=0.714 total time=   0.0s\n",
      "[CV 3/5] END criterion=friedman_mse, learning_rate=0.1, n_estimators=1;, score=0.714 total time=   0.0s\n",
      "[CV 4/5] END criterion=friedman_mse, learning_rate=0.1, n_estimators=1;, score=0.769 total time=   0.0s\n",
      "[CV 5/5] END criterion=friedman_mse, learning_rate=0.1, n_estimators=1;, score=0.538 total time=   0.0s\n",
      "[CV 1/5] END criterion=friedman_mse, learning_rate=0.1, n_estimators=5;, score=0.643 total time=   0.0s\n",
      "[CV 2/5] END criterion=friedman_mse, learning_rate=0.1, n_estimators=5;, score=0.714 total time=   0.0s\n",
      "[CV 3/5] END criterion=friedman_mse, learning_rate=0.1, n_estimators=5;, score=0.714 total time=   0.0s\n",
      "[CV 4/5] END criterion=friedman_mse, learning_rate=0.1, n_estimators=5;, score=0.846 total time=   0.0s\n",
      "[CV 5/5] END criterion=friedman_mse, learning_rate=0.1, n_estimators=5;, score=0.769 total time=   0.0s\n",
      "[CV 1/5] END criterion=friedman_mse, learning_rate=0.1, n_estimators=10;, score=0.714 total time=   0.0s\n",
      "[CV 2/5] END criterion=friedman_mse, learning_rate=0.1, n_estimators=10;, score=0.500 total time=   0.0s\n",
      "[CV 3/5] END criterion=friedman_mse, learning_rate=0.1, n_estimators=10;, score=0.714 total time=   0.0s\n",
      "[CV 4/5] END criterion=friedman_mse, learning_rate=0.1, n_estimators=10;, score=0.846 total time=   0.0s\n",
      "[CV 5/5] END criterion=friedman_mse, learning_rate=0.1, n_estimators=10;, score=0.769 total time=   0.0s\n",
      "[CV 1/5] END criterion=friedman_mse, learning_rate=0.1, n_estimators=50;, score=0.643 total time=   0.0s\n",
      "[CV 2/5] END criterion=friedman_mse, learning_rate=0.1, n_estimators=50;, score=0.786 total time=   0.0s\n",
      "[CV 3/5] END criterion=friedman_mse, learning_rate=0.1, n_estimators=50;, score=0.857 total time=   0.0s\n",
      "[CV 4/5] END criterion=friedman_mse, learning_rate=0.1, n_estimators=50;, score=0.923 total time=   0.0s\n",
      "[CV 5/5] END criterion=friedman_mse, learning_rate=0.1, n_estimators=50;, score=0.692 total time=   0.0s\n",
      "[CV 1/5] END criterion=friedman_mse, learning_rate=0.1, n_estimators=100;, score=0.786 total time=   0.0s\n",
      "[CV 2/5] END criterion=friedman_mse, learning_rate=0.1, n_estimators=100;, score=0.786 total time=   0.0s\n",
      "[CV 3/5] END criterion=friedman_mse, learning_rate=0.1, n_estimators=100;, score=0.857 total time=   0.0s\n",
      "[CV 4/5] END criterion=friedman_mse, learning_rate=0.1, n_estimators=100;, score=0.769 total time=   0.0s\n",
      "[CV 5/5] END criterion=friedman_mse, learning_rate=0.1, n_estimators=100;, score=0.615 total time=   0.0s\n",
      "[CV 1/5] END criterion=friedman_mse, learning_rate=0.1, n_estimators=200;, score=0.714 total time=   0.0s\n",
      "[CV 2/5] END criterion=friedman_mse, learning_rate=0.1, n_estimators=200;, score=0.571 total time=   0.0s\n",
      "[CV 3/5] END criterion=friedman_mse, learning_rate=0.1, n_estimators=200;, score=0.857 total time=   0.0s\n",
      "[CV 4/5] END criterion=friedman_mse, learning_rate=0.1, n_estimators=200;, score=0.692 total time=   0.0s\n",
      "[CV 5/5] END criterion=friedman_mse, learning_rate=0.1, n_estimators=200;, score=0.615 total time=   0.0s\n",
      "[CV 1/5] END criterion=friedman_mse, learning_rate=0.1, n_estimators=300;, score=0.714 total time=   0.0s\n",
      "[CV 2/5] END criterion=friedman_mse, learning_rate=0.1, n_estimators=300;, score=0.714 total time=   0.0s\n",
      "[CV 3/5] END criterion=friedman_mse, learning_rate=0.1, n_estimators=300;, score=0.857 total time=   0.0s\n"
     ]
    },
    {
     "name": "stdout",
     "output_type": "stream",
     "text": [
      "[CV 4/5] END criterion=friedman_mse, learning_rate=0.1, n_estimators=300;, score=0.692 total time=   0.0s\n",
      "[CV 5/5] END criterion=friedman_mse, learning_rate=0.1, n_estimators=300;, score=0.615 total time=   0.0s\n",
      "[CV 1/5] END criterion=friedman_mse, learning_rate=0.1, n_estimators=500;, score=0.714 total time=   0.1s\n",
      "[CV 2/5] END criterion=friedman_mse, learning_rate=0.1, n_estimators=500;, score=0.714 total time=   0.1s\n",
      "[CV 3/5] END criterion=friedman_mse, learning_rate=0.1, n_estimators=500;, score=0.714 total time=   0.1s\n",
      "[CV 4/5] END criterion=friedman_mse, learning_rate=0.1, n_estimators=500;, score=0.692 total time=   0.1s\n",
      "[CV 5/5] END criterion=friedman_mse, learning_rate=0.1, n_estimators=500;, score=0.615 total time=   0.0s\n",
      "[CV 1/5] END criterion=friedman_mse, learning_rate=0.1, n_estimators=1000;, score=0.714 total time=   0.1s\n",
      "[CV 2/5] END criterion=friedman_mse, learning_rate=0.1, n_estimators=1000;, score=0.714 total time=   0.1s\n",
      "[CV 3/5] END criterion=friedman_mse, learning_rate=0.1, n_estimators=1000;, score=0.714 total time=   0.2s\n",
      "[CV 4/5] END criterion=friedman_mse, learning_rate=0.1, n_estimators=1000;, score=0.692 total time=   0.1s\n",
      "[CV 5/5] END criterion=friedman_mse, learning_rate=0.1, n_estimators=1000;, score=0.615 total time=   0.1s\n",
      "[CV 1/5] END criterion=friedman_mse, learning_rate=0.3, n_estimators=1;, score=0.643 total time=   0.0s\n",
      "[CV 2/5] END criterion=friedman_mse, learning_rate=0.3, n_estimators=1;, score=0.714 total time=   0.0s\n",
      "[CV 3/5] END criterion=friedman_mse, learning_rate=0.3, n_estimators=1;, score=0.929 total time=   0.0s\n",
      "[CV 4/5] END criterion=friedman_mse, learning_rate=0.3, n_estimators=1;, score=0.769 total time=   0.0s\n",
      "[CV 5/5] END criterion=friedman_mse, learning_rate=0.3, n_estimators=1;, score=0.615 total time=   0.0s\n",
      "[CV 1/5] END criterion=friedman_mse, learning_rate=0.3, n_estimators=5;, score=0.786 total time=   0.0s\n",
      "[CV 2/5] END criterion=friedman_mse, learning_rate=0.3, n_estimators=5;, score=0.500 total time=   0.0s\n",
      "[CV 3/5] END criterion=friedman_mse, learning_rate=0.3, n_estimators=5;, score=0.714 total time=   0.0s\n",
      "[CV 4/5] END criterion=friedman_mse, learning_rate=0.3, n_estimators=5;, score=0.846 total time=   0.0s\n",
      "[CV 5/5] END criterion=friedman_mse, learning_rate=0.3, n_estimators=5;, score=0.769 total time=   0.0s\n",
      "[CV 1/5] END criterion=friedman_mse, learning_rate=0.3, n_estimators=10;, score=0.786 total time=   0.0s\n",
      "[CV 2/5] END criterion=friedman_mse, learning_rate=0.3, n_estimators=10;, score=0.714 total time=   0.0s\n",
      "[CV 3/5] END criterion=friedman_mse, learning_rate=0.3, n_estimators=10;, score=0.714 total time=   0.0s\n",
      "[CV 4/5] END criterion=friedman_mse, learning_rate=0.3, n_estimators=10;, score=0.846 total time=   0.0s\n",
      "[CV 5/5] END criterion=friedman_mse, learning_rate=0.3, n_estimators=10;, score=0.692 total time=   0.0s\n",
      "[CV 1/5] END criterion=friedman_mse, learning_rate=0.3, n_estimators=50;, score=0.714 total time=   0.0s\n",
      "[CV 2/5] END criterion=friedman_mse, learning_rate=0.3, n_estimators=50;, score=0.714 total time=   0.0s\n",
      "[CV 3/5] END criterion=friedman_mse, learning_rate=0.3, n_estimators=50;, score=0.857 total time=   0.0s\n",
      "[CV 4/5] END criterion=friedman_mse, learning_rate=0.3, n_estimators=50;, score=0.692 total time=   0.0s\n",
      "[CV 5/5] END criterion=friedman_mse, learning_rate=0.3, n_estimators=50;, score=0.692 total time=   0.0s\n",
      "[CV 1/5] END criterion=friedman_mse, learning_rate=0.3, n_estimators=100;, score=0.714 total time=   0.0s\n",
      "[CV 2/5] END criterion=friedman_mse, learning_rate=0.3, n_estimators=100;, score=0.714 total time=   0.0s\n",
      "[CV 3/5] END criterion=friedman_mse, learning_rate=0.3, n_estimators=100;, score=0.786 total time=   0.0s\n",
      "[CV 4/5] END criterion=friedman_mse, learning_rate=0.3, n_estimators=100;, score=0.692 total time=   0.0s\n",
      "[CV 5/5] END criterion=friedman_mse, learning_rate=0.3, n_estimators=100;, score=0.615 total time=   0.0s\n",
      "[CV 1/5] END criterion=friedman_mse, learning_rate=0.3, n_estimators=200;, score=0.714 total time=   0.0s\n",
      "[CV 2/5] END criterion=friedman_mse, learning_rate=0.3, n_estimators=200;, score=0.786 total time=   0.0s\n",
      "[CV 3/5] END criterion=friedman_mse, learning_rate=0.3, n_estimators=200;, score=0.714 total time=   0.0s\n",
      "[CV 4/5] END criterion=friedman_mse, learning_rate=0.3, n_estimators=200;, score=0.692 total time=   0.0s\n",
      "[CV 5/5] END criterion=friedman_mse, learning_rate=0.3, n_estimators=200;, score=0.615 total time=   0.0s\n",
      "[CV 1/5] END criterion=friedman_mse, learning_rate=0.3, n_estimators=300;, score=0.714 total time=   0.0s\n",
      "[CV 2/5] END criterion=friedman_mse, learning_rate=0.3, n_estimators=300;, score=0.786 total time=   0.0s\n",
      "[CV 3/5] END criterion=friedman_mse, learning_rate=0.3, n_estimators=300;, score=0.714 total time=   0.0s\n",
      "[CV 4/5] END criterion=friedman_mse, learning_rate=0.3, n_estimators=300;, score=0.692 total time=   0.0s\n",
      "[CV 5/5] END criterion=friedman_mse, learning_rate=0.3, n_estimators=300;, score=0.615 total time=   0.0s\n",
      "[CV 1/5] END criterion=friedman_mse, learning_rate=0.3, n_estimators=500;, score=0.714 total time=   0.0s\n",
      "[CV 2/5] END criterion=friedman_mse, learning_rate=0.3, n_estimators=500;, score=0.643 total time=   0.0s\n",
      "[CV 3/5] END criterion=friedman_mse, learning_rate=0.3, n_estimators=500;, score=0.714 total time=   0.0s\n",
      "[CV 4/5] END criterion=friedman_mse, learning_rate=0.3, n_estimators=500;, score=0.692 total time=   0.0s\n",
      "[CV 5/5] END criterion=friedman_mse, learning_rate=0.3, n_estimators=500;, score=0.615 total time=   0.0s\n",
      "[CV 1/5] END criterion=friedman_mse, learning_rate=0.3, n_estimators=1000;, score=0.714 total time=   0.1s\n",
      "[CV 2/5] END criterion=friedman_mse, learning_rate=0.3, n_estimators=1000;, score=0.643 total time=   0.1s\n",
      "[CV 3/5] END criterion=friedman_mse, learning_rate=0.3, n_estimators=1000;, score=0.714 total time=   0.1s\n",
      "[CV 4/5] END criterion=friedman_mse, learning_rate=0.3, n_estimators=1000;, score=0.692 total time=   0.1s\n",
      "[CV 5/5] END criterion=friedman_mse, learning_rate=0.3, n_estimators=1000;, score=0.615 total time=   0.1s\n",
      "[CV 1/5] END criterion=friedman_mse, learning_rate=1, n_estimators=1;, score=0.643 total time=   0.0s\n",
      "[CV 2/5] END criterion=friedman_mse, learning_rate=1, n_estimators=1;, score=0.786 total time=   0.0s\n",
      "[CV 3/5] END criterion=friedman_mse, learning_rate=1, n_estimators=1;, score=0.714 total time=   0.0s\n",
      "[CV 4/5] END criterion=friedman_mse, learning_rate=1, n_estimators=1;, score=0.769 total time=   0.0s\n",
      "[CV 5/5] END criterion=friedman_mse, learning_rate=1, n_estimators=1;, score=0.692 total time=   0.0s\n",
      "[CV 1/5] END criterion=friedman_mse, learning_rate=1, n_estimators=5;, score=0.786 total time=   0.0s\n",
      "[CV 2/5] END criterion=friedman_mse, learning_rate=1, n_estimators=5;, score=0.643 total time=   0.0s\n",
      "[CV 3/5] END criterion=friedman_mse, learning_rate=1, n_estimators=5;, score=0.643 total time=   0.0s\n",
      "[CV 4/5] END criterion=friedman_mse, learning_rate=1, n_estimators=5;, score=0.769 total time=   0.0s\n",
      "[CV 5/5] END criterion=friedman_mse, learning_rate=1, n_estimators=5;, score=0.538 total time=   0.0s\n",
      "[CV 1/5] END criterion=friedman_mse, learning_rate=1, n_estimators=10;, score=0.643 total time=   0.0s\n",
      "[CV 2/5] END criterion=friedman_mse, learning_rate=1, n_estimators=10;, score=0.786 total time=   0.0s\n",
      "[CV 3/5] END criterion=friedman_mse, learning_rate=1, n_estimators=10;, score=0.643 total time=   0.0s\n",
      "[CV 4/5] END criterion=friedman_mse, learning_rate=1, n_estimators=10;, score=0.769 total time=   0.0s\n",
      "[CV 5/5] END criterion=friedman_mse, learning_rate=1, n_estimators=10;, score=0.538 total time=   0.0s\n",
      "[CV 1/5] END criterion=friedman_mse, learning_rate=1, n_estimators=50;, score=0.857 total time=   0.0s\n",
      "[CV 2/5] END criterion=friedman_mse, learning_rate=1, n_estimators=50;, score=0.786 total time=   0.0s\n",
      "[CV 3/5] END criterion=friedman_mse, learning_rate=1, n_estimators=50;, score=0.786 total time=   0.0s\n",
      "[CV 4/5] END criterion=friedman_mse, learning_rate=1, n_estimators=50;, score=0.692 total time=   0.0s\n",
      "[CV 5/5] END criterion=friedman_mse, learning_rate=1, n_estimators=50;, score=0.615 total time=   0.0s\n",
      "[CV 1/5] END criterion=friedman_mse, learning_rate=1, n_estimators=100;, score=0.857 total time=   0.0s\n",
      "[CV 2/5] END criterion=friedman_mse, learning_rate=1, n_estimators=100;, score=0.786 total time=   0.0s\n",
      "[CV 3/5] END criterion=friedman_mse, learning_rate=1, n_estimators=100;, score=0.786 total time=   0.0s\n"
     ]
    },
    {
     "name": "stdout",
     "output_type": "stream",
     "text": [
      "[CV 4/5] END criterion=friedman_mse, learning_rate=1, n_estimators=100;, score=0.769 total time=   0.0s\n",
      "[CV 5/5] END criterion=friedman_mse, learning_rate=1, n_estimators=100;, score=0.615 total time=   0.0s\n",
      "[CV 1/5] END criterion=friedman_mse, learning_rate=1, n_estimators=200;, score=0.857 total time=   0.0s\n",
      "[CV 2/5] END criterion=friedman_mse, learning_rate=1, n_estimators=200;, score=0.786 total time=   0.0s\n",
      "[CV 3/5] END criterion=friedman_mse, learning_rate=1, n_estimators=200;, score=0.714 total time=   0.0s\n",
      "[CV 4/5] END criterion=friedman_mse, learning_rate=1, n_estimators=200;, score=0.769 total time=   0.0s\n",
      "[CV 5/5] END criterion=friedman_mse, learning_rate=1, n_estimators=200;, score=0.692 total time=   0.0s\n",
      "[CV 1/5] END criterion=friedman_mse, learning_rate=1, n_estimators=300;, score=0.857 total time=   0.0s\n",
      "[CV 2/5] END criterion=friedman_mse, learning_rate=1, n_estimators=300;, score=0.786 total time=   0.0s\n",
      "[CV 3/5] END criterion=friedman_mse, learning_rate=1, n_estimators=300;, score=0.786 total time=   0.0s\n",
      "[CV 4/5] END criterion=friedman_mse, learning_rate=1, n_estimators=300;, score=0.769 total time=   0.0s\n",
      "[CV 5/5] END criterion=friedman_mse, learning_rate=1, n_estimators=300;, score=0.692 total time=   0.0s\n",
      "[CV 1/5] END criterion=friedman_mse, learning_rate=1, n_estimators=500;, score=0.857 total time=   0.0s\n",
      "[CV 2/5] END criterion=friedman_mse, learning_rate=1, n_estimators=500;, score=0.786 total time=   0.0s\n",
      "[CV 3/5] END criterion=friedman_mse, learning_rate=1, n_estimators=500;, score=0.786 total time=   0.0s\n",
      "[CV 4/5] END criterion=friedman_mse, learning_rate=1, n_estimators=500;, score=0.692 total time=   0.0s\n",
      "[CV 5/5] END criterion=friedman_mse, learning_rate=1, n_estimators=500;, score=0.692 total time=   0.0s\n",
      "[CV 1/5] END criterion=friedman_mse, learning_rate=1, n_estimators=1000;, score=0.857 total time=   0.1s\n",
      "[CV 2/5] END criterion=friedman_mse, learning_rate=1, n_estimators=1000;, score=0.786 total time=   0.1s\n",
      "[CV 3/5] END criterion=friedman_mse, learning_rate=1, n_estimators=1000;, score=0.786 total time=   0.1s\n",
      "[CV 4/5] END criterion=friedman_mse, learning_rate=1, n_estimators=1000;, score=0.692 total time=   0.1s\n",
      "[CV 5/5] END criterion=friedman_mse, learning_rate=1, n_estimators=1000;, score=0.692 total time=   0.1s\n",
      "[CV 1/5] END criterion=friedman_mse, learning_rate=3, n_estimators=1;, score=0.643 total time=   0.0s\n",
      "[CV 2/5] END criterion=friedman_mse, learning_rate=3, n_estimators=1;, score=0.714 total time=   0.0s\n",
      "[CV 3/5] END criterion=friedman_mse, learning_rate=3, n_estimators=1;, score=0.714 total time=   0.0s\n",
      "[CV 4/5] END criterion=friedman_mse, learning_rate=3, n_estimators=1;, score=0.769 total time=   0.0s\n",
      "[CV 5/5] END criterion=friedman_mse, learning_rate=3, n_estimators=1;, score=0.615 total time=   0.0s\n",
      "[CV 1/5] END criterion=friedman_mse, learning_rate=3, n_estimators=5;, score=0.786 total time=   0.0s\n",
      "[CV 2/5] END criterion=friedman_mse, learning_rate=3, n_estimators=5;, score=0.429 total time=   0.0s\n",
      "[CV 3/5] END criterion=friedman_mse, learning_rate=3, n_estimators=5;, score=0.214 total time=   0.0s\n",
      "[CV 4/5] END criterion=friedman_mse, learning_rate=3, n_estimators=5;, score=0.692 total time=   0.0s\n",
      "[CV 5/5] END criterion=friedman_mse, learning_rate=3, n_estimators=5;, score=0.538 total time=   0.0s\n",
      "[CV 1/5] END criterion=friedman_mse, learning_rate=3, n_estimators=10;, score=0.857 total time=   0.0s\n",
      "[CV 2/5] END criterion=friedman_mse, learning_rate=3, n_estimators=10;, score=0.500 total time=   0.0s\n",
      "[CV 3/5] END criterion=friedman_mse, learning_rate=3, n_estimators=10;, score=0.643 total time=   0.0s\n",
      "[CV 4/5] END criterion=friedman_mse, learning_rate=3, n_estimators=10;, score=0.538 total time=   0.0s\n",
      "[CV 5/5] END criterion=friedman_mse, learning_rate=3, n_estimators=10;, score=0.462 total time=   0.0s\n",
      "[CV 1/5] END criterion=friedman_mse, learning_rate=3, n_estimators=50;, score=0.857 total time=   0.0s\n",
      "[CV 2/5] END criterion=friedman_mse, learning_rate=3, n_estimators=50;, score=0.500 total time=   0.0s\n",
      "[CV 3/5] END criterion=friedman_mse, learning_rate=3, n_estimators=50;, score=0.500 total time=   0.0s\n",
      "[CV 4/5] END criterion=friedman_mse, learning_rate=3, n_estimators=50;, score=0.538 total time=   0.0s\n",
      "[CV 5/5] END criterion=friedman_mse, learning_rate=3, n_estimators=50;, score=0.538 total time=   0.0s\n",
      "[CV 1/5] END criterion=friedman_mse, learning_rate=3, n_estimators=100;, score=0.786 total time=   0.0s\n",
      "[CV 2/5] END criterion=friedman_mse, learning_rate=3, n_estimators=100;, score=0.429 total time=   0.0s\n",
      "[CV 3/5] END criterion=friedman_mse, learning_rate=3, n_estimators=100;, score=0.143 total time=   0.0s\n",
      "[CV 4/5] END criterion=friedman_mse, learning_rate=3, n_estimators=100;, score=0.538 total time=   0.0s\n",
      "[CV 5/5] END criterion=friedman_mse, learning_rate=3, n_estimators=100;, score=0.538 total time=   0.0s\n",
      "[CV 1/5] END criterion=friedman_mse, learning_rate=3, n_estimators=200;, score=0.857 total time=   0.0s\n",
      "[CV 2/5] END criterion=friedman_mse, learning_rate=3, n_estimators=200;, score=0.500 total time=   0.0s\n",
      "[CV 3/5] END criterion=friedman_mse, learning_rate=3, n_estimators=200;, score=0.500 total time=   0.0s\n",
      "[CV 4/5] END criterion=friedman_mse, learning_rate=3, n_estimators=200;, score=0.538 total time=   0.0s\n",
      "[CV 5/5] END criterion=friedman_mse, learning_rate=3, n_estimators=200;, score=0.462 total time=   0.0s\n",
      "[CV 1/5] END criterion=friedman_mse, learning_rate=3, n_estimators=300;, score=0.857 total time=   0.0s\n",
      "[CV 2/5] END criterion=friedman_mse, learning_rate=3, n_estimators=300;, score=0.500 total time=   0.0s\n",
      "[CV 3/5] END criterion=friedman_mse, learning_rate=3, n_estimators=300;, score=0.714 total time=   0.0s\n",
      "[CV 4/5] END criterion=friedman_mse, learning_rate=3, n_estimators=300;, score=0.538 total time=   0.0s\n",
      "[CV 5/5] END criterion=friedman_mse, learning_rate=3, n_estimators=300;, score=0.538 total time=   0.0s\n",
      "[CV 1/5] END criterion=friedman_mse, learning_rate=3, n_estimators=500;, score=0.857 total time=   0.0s\n",
      "[CV 2/5] END criterion=friedman_mse, learning_rate=3, n_estimators=500;, score=0.500 total time=   0.0s\n",
      "[CV 3/5] END criterion=friedman_mse, learning_rate=3, n_estimators=500;, score=0.143 total time=   0.1s\n",
      "[CV 4/5] END criterion=friedman_mse, learning_rate=3, n_estimators=500;, score=0.538 total time=   0.0s\n",
      "[CV 5/5] END criterion=friedman_mse, learning_rate=3, n_estimators=500;, score=0.615 total time=   0.0s\n",
      "[CV 1/5] END criterion=friedman_mse, learning_rate=3, n_estimators=1000;, score=0.857 total time=   0.1s\n",
      "[CV 2/5] END criterion=friedman_mse, learning_rate=3, n_estimators=1000;, score=0.429 total time=   0.2s\n",
      "[CV 3/5] END criterion=friedman_mse, learning_rate=3, n_estimators=1000;, score=0.500 total time=   0.2s\n",
      "[CV 4/5] END criterion=friedman_mse, learning_rate=3, n_estimators=1000;, score=0.538 total time=   0.2s\n",
      "[CV 5/5] END criterion=friedman_mse, learning_rate=3, n_estimators=1000;, score=0.538 total time=   0.1s\n",
      "[CV 1/5] END criterion=squared_error, learning_rate=0.03, n_estimators=1;, score=0.643 total time=   0.0s\n",
      "[CV 2/5] END criterion=squared_error, learning_rate=0.03, n_estimators=1;, score=0.786 total time=   0.0s\n",
      "[CV 3/5] END criterion=squared_error, learning_rate=0.03, n_estimators=1;, score=0.929 total time=   0.0s\n",
      "[CV 4/5] END criterion=squared_error, learning_rate=0.03, n_estimators=1;, score=0.615 total time=   0.0s\n",
      "[CV 5/5] END criterion=squared_error, learning_rate=0.03, n_estimators=1;, score=0.615 total time=   0.0s\n",
      "[CV 1/5] END criterion=squared_error, learning_rate=0.03, n_estimators=5;, score=0.643 total time=   0.0s\n",
      "[CV 2/5] END criterion=squared_error, learning_rate=0.03, n_estimators=5;, score=0.714 total time=   0.0s\n",
      "[CV 3/5] END criterion=squared_error, learning_rate=0.03, n_estimators=5;, score=0.714 total time=   0.0s\n",
      "[CV 4/5] END criterion=squared_error, learning_rate=0.03, n_estimators=5;, score=0.769 total time=   0.0s\n",
      "[CV 5/5] END criterion=squared_error, learning_rate=0.03, n_estimators=5;, score=0.769 total time=   0.0s\n",
      "[CV 1/5] END criterion=squared_error, learning_rate=0.03, n_estimators=10;, score=0.643 total time=   0.0s\n",
      "[CV 2/5] END criterion=squared_error, learning_rate=0.03, n_estimators=10;, score=0.714 total time=   0.0s\n"
     ]
    },
    {
     "name": "stdout",
     "output_type": "stream",
     "text": [
      "[CV 3/5] END criterion=squared_error, learning_rate=0.03, n_estimators=10;, score=0.714 total time=   0.0s\n",
      "[CV 4/5] END criterion=squared_error, learning_rate=0.03, n_estimators=10;, score=0.846 total time=   0.0s\n",
      "[CV 5/5] END criterion=squared_error, learning_rate=0.03, n_estimators=10;, score=0.769 total time=   0.0s\n",
      "[CV 1/5] END criterion=squared_error, learning_rate=0.03, n_estimators=50;, score=0.571 total time=   0.0s\n",
      "[CV 2/5] END criterion=squared_error, learning_rate=0.03, n_estimators=50;, score=0.714 total time=   0.0s\n",
      "[CV 3/5] END criterion=squared_error, learning_rate=0.03, n_estimators=50;, score=0.714 total time=   0.0s\n",
      "[CV 4/5] END criterion=squared_error, learning_rate=0.03, n_estimators=50;, score=0.846 total time=   0.0s\n",
      "[CV 5/5] END criterion=squared_error, learning_rate=0.03, n_estimators=50;, score=0.769 total time=   0.0s\n",
      "[CV 1/5] END criterion=squared_error, learning_rate=0.03, n_estimators=100;, score=0.643 total time=   0.0s\n",
      "[CV 2/5] END criterion=squared_error, learning_rate=0.03, n_estimators=100;, score=0.714 total time=   0.0s\n",
      "[CV 3/5] END criterion=squared_error, learning_rate=0.03, n_estimators=100;, score=0.714 total time=   0.0s\n",
      "[CV 4/5] END criterion=squared_error, learning_rate=0.03, n_estimators=100;, score=0.769 total time=   0.0s\n",
      "[CV 5/5] END criterion=squared_error, learning_rate=0.03, n_estimators=100;, score=0.769 total time=   0.0s\n",
      "[CV 1/5] END criterion=squared_error, learning_rate=0.03, n_estimators=200;, score=0.643 total time=   0.0s\n",
      "[CV 2/5] END criterion=squared_error, learning_rate=0.03, n_estimators=200;, score=0.714 total time=   0.0s\n",
      "[CV 3/5] END criterion=squared_error, learning_rate=0.03, n_estimators=200;, score=0.857 total time=   0.0s\n",
      "[CV 4/5] END criterion=squared_error, learning_rate=0.03, n_estimators=200;, score=0.769 total time=   0.0s\n",
      "[CV 5/5] END criterion=squared_error, learning_rate=0.03, n_estimators=200;, score=0.692 total time=   0.0s\n",
      "[CV 1/5] END criterion=squared_error, learning_rate=0.03, n_estimators=300;, score=0.714 total time=   0.0s\n",
      "[CV 2/5] END criterion=squared_error, learning_rate=0.03, n_estimators=300;, score=0.714 total time=   0.0s\n",
      "[CV 3/5] END criterion=squared_error, learning_rate=0.03, n_estimators=300;, score=0.857 total time=   0.0s\n",
      "[CV 4/5] END criterion=squared_error, learning_rate=0.03, n_estimators=300;, score=0.769 total time=   0.0s\n",
      "[CV 5/5] END criterion=squared_error, learning_rate=0.03, n_estimators=300;, score=0.615 total time=   0.0s\n",
      "[CV 1/5] END criterion=squared_error, learning_rate=0.03, n_estimators=500;, score=0.643 total time=   0.1s\n",
      "[CV 2/5] END criterion=squared_error, learning_rate=0.03, n_estimators=500;, score=0.714 total time=   0.1s\n",
      "[CV 3/5] END criterion=squared_error, learning_rate=0.03, n_estimators=500;, score=0.857 total time=   0.1s\n",
      "[CV 4/5] END criterion=squared_error, learning_rate=0.03, n_estimators=500;, score=0.769 total time=   0.1s\n",
      "[CV 5/5] END criterion=squared_error, learning_rate=0.03, n_estimators=500;, score=0.615 total time=   0.1s\n",
      "[CV 1/5] END criterion=squared_error, learning_rate=0.03, n_estimators=1000;, score=0.714 total time=   0.2s\n",
      "[CV 2/5] END criterion=squared_error, learning_rate=0.03, n_estimators=1000;, score=0.786 total time=   0.2s\n",
      "[CV 3/5] END criterion=squared_error, learning_rate=0.03, n_estimators=1000;, score=0.786 total time=   0.2s\n",
      "[CV 4/5] END criterion=squared_error, learning_rate=0.03, n_estimators=1000;, score=0.769 total time=   0.2s\n",
      "[CV 5/5] END criterion=squared_error, learning_rate=0.03, n_estimators=1000;, score=0.615 total time=   0.2s\n",
      "[CV 1/5] END criterion=squared_error, learning_rate=0.1, n_estimators=1;, score=0.643 total time=   0.0s\n",
      "[CV 2/5] END criterion=squared_error, learning_rate=0.1, n_estimators=1;, score=0.786 total time=   0.0s\n",
      "[CV 3/5] END criterion=squared_error, learning_rate=0.1, n_estimators=1;, score=0.643 total time=   0.0s\n",
      "[CV 4/5] END criterion=squared_error, learning_rate=0.1, n_estimators=1;, score=0.769 total time=   0.0s\n",
      "[CV 5/5] END criterion=squared_error, learning_rate=0.1, n_estimators=1;, score=0.615 total time=   0.0s\n",
      "[CV 1/5] END criterion=squared_error, learning_rate=0.1, n_estimators=5;, score=0.643 total time=   0.0s\n",
      "[CV 2/5] END criterion=squared_error, learning_rate=0.1, n_estimators=5;, score=0.714 total time=   0.0s\n",
      "[CV 3/5] END criterion=squared_error, learning_rate=0.1, n_estimators=5;, score=0.714 total time=   0.0s\n",
      "[CV 4/5] END criterion=squared_error, learning_rate=0.1, n_estimators=5;, score=0.846 total time=   0.0s\n",
      "[CV 5/5] END criterion=squared_error, learning_rate=0.1, n_estimators=5;, score=0.769 total time=   0.0s\n",
      "[CV 1/5] END criterion=squared_error, learning_rate=0.1, n_estimators=10;, score=0.714 total time=   0.0s\n",
      "[CV 2/5] END criterion=squared_error, learning_rate=0.1, n_estimators=10;, score=0.571 total time=   0.0s\n",
      "[CV 3/5] END criterion=squared_error, learning_rate=0.1, n_estimators=10;, score=0.714 total time=   0.0s\n",
      "[CV 4/5] END criterion=squared_error, learning_rate=0.1, n_estimators=10;, score=0.846 total time=   0.0s\n",
      "[CV 5/5] END criterion=squared_error, learning_rate=0.1, n_estimators=10;, score=0.769 total time=   0.0s\n",
      "[CV 1/5] END criterion=squared_error, learning_rate=0.1, n_estimators=50;, score=0.643 total time=   0.0s\n",
      "[CV 2/5] END criterion=squared_error, learning_rate=0.1, n_estimators=50;, score=0.714 total time=   0.0s\n",
      "[CV 3/5] END criterion=squared_error, learning_rate=0.1, n_estimators=50;, score=0.714 total time=   0.0s\n",
      "[CV 4/5] END criterion=squared_error, learning_rate=0.1, n_estimators=50;, score=0.923 total time=   0.0s\n",
      "[CV 5/5] END criterion=squared_error, learning_rate=0.1, n_estimators=50;, score=0.692 total time=   0.0s\n",
      "[CV 1/5] END criterion=squared_error, learning_rate=0.1, n_estimators=100;, score=0.786 total time=   0.0s\n",
      "[CV 2/5] END criterion=squared_error, learning_rate=0.1, n_estimators=100;, score=0.786 total time=   0.0s\n",
      "[CV 3/5] END criterion=squared_error, learning_rate=0.1, n_estimators=100;, score=0.786 total time=   0.0s\n",
      "[CV 4/5] END criterion=squared_error, learning_rate=0.1, n_estimators=100;, score=0.769 total time=   0.0s\n",
      "[CV 5/5] END criterion=squared_error, learning_rate=0.1, n_estimators=100;, score=0.615 total time=   0.0s\n",
      "[CV 1/5] END criterion=squared_error, learning_rate=0.1, n_estimators=200;, score=0.714 total time=   0.0s\n",
      "[CV 2/5] END criterion=squared_error, learning_rate=0.1, n_estimators=200;, score=0.714 total time=   0.0s\n",
      "[CV 3/5] END criterion=squared_error, learning_rate=0.1, n_estimators=200;, score=0.857 total time=   0.0s\n",
      "[CV 4/5] END criterion=squared_error, learning_rate=0.1, n_estimators=200;, score=0.692 total time=   0.0s\n",
      "[CV 5/5] END criterion=squared_error, learning_rate=0.1, n_estimators=200;, score=0.615 total time=   0.0s\n",
      "[CV 1/5] END criterion=squared_error, learning_rate=0.1, n_estimators=300;, score=0.714 total time=   0.0s\n",
      "[CV 2/5] END criterion=squared_error, learning_rate=0.1, n_estimators=300;, score=0.643 total time=   0.0s\n",
      "[CV 3/5] END criterion=squared_error, learning_rate=0.1, n_estimators=300;, score=0.786 total time=   0.0s\n",
      "[CV 4/5] END criterion=squared_error, learning_rate=0.1, n_estimators=300;, score=0.692 total time=   0.0s\n",
      "[CV 5/5] END criterion=squared_error, learning_rate=0.1, n_estimators=300;, score=0.615 total time=   0.0s\n",
      "[CV 1/5] END criterion=squared_error, learning_rate=0.1, n_estimators=500;, score=0.714 total time=   0.1s\n",
      "[CV 2/5] END criterion=squared_error, learning_rate=0.1, n_estimators=500;, score=0.643 total time=   0.1s\n",
      "[CV 3/5] END criterion=squared_error, learning_rate=0.1, n_estimators=500;, score=0.714 total time=   0.1s\n",
      "[CV 4/5] END criterion=squared_error, learning_rate=0.1, n_estimators=500;, score=0.692 total time=   0.1s\n",
      "[CV 5/5] END criterion=squared_error, learning_rate=0.1, n_estimators=500;, score=0.615 total time=   0.1s\n",
      "[CV 1/5] END criterion=squared_error, learning_rate=0.1, n_estimators=1000;, score=0.714 total time=   0.1s\n",
      "[CV 2/5] END criterion=squared_error, learning_rate=0.1, n_estimators=1000;, score=0.571 total time=   0.1s\n",
      "[CV 3/5] END criterion=squared_error, learning_rate=0.1, n_estimators=1000;, score=0.714 total time=   0.2s\n",
      "[CV 4/5] END criterion=squared_error, learning_rate=0.1, n_estimators=1000;, score=0.692 total time=   0.1s\n"
     ]
    },
    {
     "name": "stdout",
     "output_type": "stream",
     "text": [
      "[CV 5/5] END criterion=squared_error, learning_rate=0.1, n_estimators=1000;, score=0.615 total time=   0.1s\n",
      "[CV 1/5] END criterion=squared_error, learning_rate=0.3, n_estimators=1;, score=0.643 total time=   0.0s\n",
      "[CV 2/5] END criterion=squared_error, learning_rate=0.3, n_estimators=1;, score=0.714 total time=   0.0s\n",
      "[CV 3/5] END criterion=squared_error, learning_rate=0.3, n_estimators=1;, score=0.714 total time=   0.0s\n",
      "[CV 4/5] END criterion=squared_error, learning_rate=0.3, n_estimators=1;, score=0.769 total time=   0.0s\n",
      "[CV 5/5] END criterion=squared_error, learning_rate=0.3, n_estimators=1;, score=0.615 total time=   0.0s\n",
      "[CV 1/5] END criterion=squared_error, learning_rate=0.3, n_estimators=5;, score=0.786 total time=   0.0s\n",
      "[CV 2/5] END criterion=squared_error, learning_rate=0.3, n_estimators=5;, score=0.500 total time=   0.0s\n",
      "[CV 3/5] END criterion=squared_error, learning_rate=0.3, n_estimators=5;, score=0.714 total time=   0.0s\n",
      "[CV 4/5] END criterion=squared_error, learning_rate=0.3, n_estimators=5;, score=0.846 total time=   0.0s\n",
      "[CV 5/5] END criterion=squared_error, learning_rate=0.3, n_estimators=5;, score=0.769 total time=   0.0s\n",
      "[CV 1/5] END criterion=squared_error, learning_rate=0.3, n_estimators=10;, score=0.786 total time=   0.0s\n",
      "[CV 2/5] END criterion=squared_error, learning_rate=0.3, n_estimators=10;, score=0.500 total time=   0.0s\n",
      "[CV 3/5] END criterion=squared_error, learning_rate=0.3, n_estimators=10;, score=0.714 total time=   0.0s\n",
      "[CV 4/5] END criterion=squared_error, learning_rate=0.3, n_estimators=10;, score=0.846 total time=   0.0s\n",
      "[CV 5/5] END criterion=squared_error, learning_rate=0.3, n_estimators=10;, score=0.769 total time=   0.0s\n",
      "[CV 1/5] END criterion=squared_error, learning_rate=0.3, n_estimators=50;, score=0.714 total time=   0.0s\n",
      "[CV 2/5] END criterion=squared_error, learning_rate=0.3, n_estimators=50;, score=0.714 total time=   0.0s\n",
      "[CV 3/5] END criterion=squared_error, learning_rate=0.3, n_estimators=50;, score=0.786 total time=   0.0s\n",
      "[CV 4/5] END criterion=squared_error, learning_rate=0.3, n_estimators=50;, score=0.692 total time=   0.0s\n",
      "[CV 5/5] END criterion=squared_error, learning_rate=0.3, n_estimators=50;, score=0.538 total time=   0.0s\n",
      "[CV 1/5] END criterion=squared_error, learning_rate=0.3, n_estimators=100;, score=0.714 total time=   0.0s\n",
      "[CV 2/5] END criterion=squared_error, learning_rate=0.3, n_estimators=100;, score=0.786 total time=   0.0s\n",
      "[CV 3/5] END criterion=squared_error, learning_rate=0.3, n_estimators=100;, score=0.714 total time=   0.0s\n",
      "[CV 4/5] END criterion=squared_error, learning_rate=0.3, n_estimators=100;, score=0.692 total time=   0.0s\n",
      "[CV 5/5] END criterion=squared_error, learning_rate=0.3, n_estimators=100;, score=0.615 total time=   0.0s\n",
      "[CV 1/5] END criterion=squared_error, learning_rate=0.3, n_estimators=200;, score=0.714 total time=   0.0s\n",
      "[CV 2/5] END criterion=squared_error, learning_rate=0.3, n_estimators=200;, score=0.643 total time=   0.0s\n",
      "[CV 3/5] END criterion=squared_error, learning_rate=0.3, n_estimators=200;, score=0.714 total time=   0.0s\n",
      "[CV 4/5] END criterion=squared_error, learning_rate=0.3, n_estimators=200;, score=0.615 total time=   0.0s\n",
      "[CV 5/5] END criterion=squared_error, learning_rate=0.3, n_estimators=200;, score=0.615 total time=   0.0s\n",
      "[CV 1/5] END criterion=squared_error, learning_rate=0.3, n_estimators=300;, score=0.714 total time=   0.0s\n",
      "[CV 2/5] END criterion=squared_error, learning_rate=0.3, n_estimators=300;, score=0.786 total time=   0.0s\n",
      "[CV 3/5] END criterion=squared_error, learning_rate=0.3, n_estimators=300;, score=0.714 total time=   0.0s\n",
      "[CV 4/5] END criterion=squared_error, learning_rate=0.3, n_estimators=300;, score=0.692 total time=   0.0s\n",
      "[CV 5/5] END criterion=squared_error, learning_rate=0.3, n_estimators=300;, score=0.615 total time=   0.0s\n",
      "[CV 1/5] END criterion=squared_error, learning_rate=0.3, n_estimators=500;, score=0.714 total time=   0.0s\n",
      "[CV 2/5] END criterion=squared_error, learning_rate=0.3, n_estimators=500;, score=0.714 total time=   0.0s\n",
      "[CV 3/5] END criterion=squared_error, learning_rate=0.3, n_estimators=500;, score=0.714 total time=   0.0s\n",
      "[CV 4/5] END criterion=squared_error, learning_rate=0.3, n_estimators=500;, score=0.692 total time=   0.0s\n",
      "[CV 5/5] END criterion=squared_error, learning_rate=0.3, n_estimators=500;, score=0.615 total time=   0.0s\n",
      "[CV 1/5] END criterion=squared_error, learning_rate=0.3, n_estimators=1000;, score=0.714 total time=   0.1s\n",
      "[CV 2/5] END criterion=squared_error, learning_rate=0.3, n_estimators=1000;, score=0.786 total time=   0.1s\n",
      "[CV 3/5] END criterion=squared_error, learning_rate=0.3, n_estimators=1000;, score=0.714 total time=   0.1s\n",
      "[CV 4/5] END criterion=squared_error, learning_rate=0.3, n_estimators=1000;, score=0.692 total time=   0.1s\n",
      "[CV 5/5] END criterion=squared_error, learning_rate=0.3, n_estimators=1000;, score=0.615 total time=   0.1s\n",
      "[CV 1/5] END criterion=squared_error, learning_rate=1, n_estimators=1;, score=0.643 total time=   0.0s\n",
      "[CV 2/5] END criterion=squared_error, learning_rate=1, n_estimators=1;, score=0.714 total time=   0.0s\n",
      "[CV 3/5] END criterion=squared_error, learning_rate=1, n_estimators=1;, score=0.929 total time=   0.0s\n",
      "[CV 4/5] END criterion=squared_error, learning_rate=1, n_estimators=1;, score=0.769 total time=   0.0s\n",
      "[CV 5/5] END criterion=squared_error, learning_rate=1, n_estimators=1;, score=0.615 total time=   0.0s\n",
      "[CV 1/5] END criterion=squared_error, learning_rate=1, n_estimators=5;, score=0.786 total time=   0.0s\n",
      "[CV 2/5] END criterion=squared_error, learning_rate=1, n_estimators=5;, score=0.714 total time=   0.0s\n",
      "[CV 3/5] END criterion=squared_error, learning_rate=1, n_estimators=5;, score=0.571 total time=   0.0s\n",
      "[CV 4/5] END criterion=squared_error, learning_rate=1, n_estimators=5;, score=0.769 total time=   0.0s\n",
      "[CV 5/5] END criterion=squared_error, learning_rate=1, n_estimators=5;, score=0.615 total time=   0.0s\n",
      "[CV 1/5] END criterion=squared_error, learning_rate=1, n_estimators=10;, score=0.643 total time=   0.0s\n",
      "[CV 2/5] END criterion=squared_error, learning_rate=1, n_estimators=10;, score=0.786 total time=   0.0s\n",
      "[CV 3/5] END criterion=squared_error, learning_rate=1, n_estimators=10;, score=0.857 total time=   0.0s\n",
      "[CV 4/5] END criterion=squared_error, learning_rate=1, n_estimators=10;, score=0.769 total time=   0.0s\n",
      "[CV 5/5] END criterion=squared_error, learning_rate=1, n_estimators=10;, score=0.692 total time=   0.0s\n",
      "[CV 1/5] END criterion=squared_error, learning_rate=1, n_estimators=50;, score=0.786 total time=   0.0s\n",
      "[CV 2/5] END criterion=squared_error, learning_rate=1, n_estimators=50;, score=0.786 total time=   0.0s\n",
      "[CV 3/5] END criterion=squared_error, learning_rate=1, n_estimators=50;, score=0.786 total time=   0.0s\n",
      "[CV 4/5] END criterion=squared_error, learning_rate=1, n_estimators=50;, score=0.769 total time=   0.0s\n",
      "[CV 5/5] END criterion=squared_error, learning_rate=1, n_estimators=50;, score=0.692 total time=   0.0s\n",
      "[CV 1/5] END criterion=squared_error, learning_rate=1, n_estimators=100;, score=0.857 total time=   0.0s\n",
      "[CV 2/5] END criterion=squared_error, learning_rate=1, n_estimators=100;, score=0.786 total time=   0.0s\n",
      "[CV 3/5] END criterion=squared_error, learning_rate=1, n_estimators=100;, score=0.786 total time=   0.0s\n",
      "[CV 4/5] END criterion=squared_error, learning_rate=1, n_estimators=100;, score=0.769 total time=   0.0s\n",
      "[CV 5/5] END criterion=squared_error, learning_rate=1, n_estimators=100;, score=0.692 total time=   0.0s\n",
      "[CV 1/5] END criterion=squared_error, learning_rate=1, n_estimators=200;, score=0.857 total time=   0.0s\n",
      "[CV 2/5] END criterion=squared_error, learning_rate=1, n_estimators=200;, score=0.786 total time=   0.0s\n",
      "[CV 3/5] END criterion=squared_error, learning_rate=1, n_estimators=200;, score=0.786 total time=   0.0s\n",
      "[CV 4/5] END criterion=squared_error, learning_rate=1, n_estimators=200;, score=0.769 total time=   0.0s\n",
      "[CV 5/5] END criterion=squared_error, learning_rate=1, n_estimators=200;, score=0.692 total time=   0.0s\n",
      "[CV 1/5] END criterion=squared_error, learning_rate=1, n_estimators=300;, score=0.857 total time=   0.0s\n",
      "[CV 2/5] END criterion=squared_error, learning_rate=1, n_estimators=300;, score=0.643 total time=   0.0s\n",
      "[CV 3/5] END criterion=squared_error, learning_rate=1, n_estimators=300;, score=0.714 total time=   0.0s\n"
     ]
    },
    {
     "name": "stdout",
     "output_type": "stream",
     "text": [
      "[CV 4/5] END criterion=squared_error, learning_rate=1, n_estimators=300;, score=0.692 total time=   0.0s\n",
      "[CV 5/5] END criterion=squared_error, learning_rate=1, n_estimators=300;, score=0.692 total time=   0.0s\n",
      "[CV 1/5] END criterion=squared_error, learning_rate=1, n_estimators=500;, score=0.786 total time=   0.0s\n",
      "[CV 2/5] END criterion=squared_error, learning_rate=1, n_estimators=500;, score=0.786 total time=   0.0s\n",
      "[CV 3/5] END criterion=squared_error, learning_rate=1, n_estimators=500;, score=0.786 total time=   0.0s\n",
      "[CV 4/5] END criterion=squared_error, learning_rate=1, n_estimators=500;, score=0.692 total time=   0.0s\n",
      "[CV 5/5] END criterion=squared_error, learning_rate=1, n_estimators=500;, score=0.692 total time=   0.0s\n",
      "[CV 1/5] END criterion=squared_error, learning_rate=1, n_estimators=1000;, score=0.857 total time=   0.1s\n",
      "[CV 2/5] END criterion=squared_error, learning_rate=1, n_estimators=1000;, score=0.714 total time=   0.1s\n",
      "[CV 3/5] END criterion=squared_error, learning_rate=1, n_estimators=1000;, score=0.786 total time=   0.1s\n",
      "[CV 4/5] END criterion=squared_error, learning_rate=1, n_estimators=1000;, score=0.692 total time=   0.1s\n",
      "[CV 5/5] END criterion=squared_error, learning_rate=1, n_estimators=1000;, score=0.615 total time=   0.1s\n",
      "[CV 1/5] END criterion=squared_error, learning_rate=3, n_estimators=1;, score=0.643 total time=   0.0s\n",
      "[CV 2/5] END criterion=squared_error, learning_rate=3, n_estimators=1;, score=0.714 total time=   0.0s\n",
      "[CV 3/5] END criterion=squared_error, learning_rate=3, n_estimators=1;, score=0.929 total time=   0.0s\n",
      "[CV 4/5] END criterion=squared_error, learning_rate=3, n_estimators=1;, score=0.769 total time=   0.0s\n",
      "[CV 5/5] END criterion=squared_error, learning_rate=3, n_estimators=1;, score=0.692 total time=   0.0s\n",
      "[CV 1/5] END criterion=squared_error, learning_rate=3, n_estimators=5;, score=0.786 total time=   0.0s\n",
      "[CV 2/5] END criterion=squared_error, learning_rate=3, n_estimators=5;, score=0.429 total time=   0.0s\n",
      "[CV 3/5] END criterion=squared_error, learning_rate=3, n_estimators=5;, score=0.214 total time=   0.0s\n",
      "[CV 4/5] END criterion=squared_error, learning_rate=3, n_estimators=5;, score=0.692 total time=   0.0s\n",
      "[CV 5/5] END criterion=squared_error, learning_rate=3, n_estimators=5;, score=0.615 total time=   0.0s\n",
      "[CV 1/5] END criterion=squared_error, learning_rate=3, n_estimators=10;, score=0.786 total time=   0.0s\n",
      "[CV 2/5] END criterion=squared_error, learning_rate=3, n_estimators=10;, score=0.500 total time=   0.0s\n",
      "[CV 3/5] END criterion=squared_error, learning_rate=3, n_estimators=10;, score=0.143 total time=   0.0s\n",
      "[CV 4/5] END criterion=squared_error, learning_rate=3, n_estimators=10;, score=0.538 total time=   0.0s\n",
      "[CV 5/5] END criterion=squared_error, learning_rate=3, n_estimators=10;, score=0.692 total time=   0.0s\n",
      "[CV 1/5] END criterion=squared_error, learning_rate=3, n_estimators=50;, score=0.857 total time=   0.0s\n",
      "[CV 2/5] END criterion=squared_error, learning_rate=3, n_estimators=50;, score=0.500 total time=   0.0s\n",
      "[CV 3/5] END criterion=squared_error, learning_rate=3, n_estimators=50;, score=0.500 total time=   0.0s\n",
      "[CV 4/5] END criterion=squared_error, learning_rate=3, n_estimators=50;, score=0.538 total time=   0.0s\n",
      "[CV 5/5] END criterion=squared_error, learning_rate=3, n_estimators=50;, score=0.692 total time=   0.0s\n",
      "[CV 1/5] END criterion=squared_error, learning_rate=3, n_estimators=100;, score=0.857 total time=   0.0s\n",
      "[CV 2/5] END criterion=squared_error, learning_rate=3, n_estimators=100;, score=0.429 total time=   0.0s\n",
      "[CV 3/5] END criterion=squared_error, learning_rate=3, n_estimators=100;, score=0.500 total time=   0.0s\n",
      "[CV 4/5] END criterion=squared_error, learning_rate=3, n_estimators=100;, score=0.538 total time=   0.0s\n",
      "[CV 5/5] END criterion=squared_error, learning_rate=3, n_estimators=100;, score=0.692 total time=   0.0s\n",
      "[CV 1/5] END criterion=squared_error, learning_rate=3, n_estimators=200;, score=0.786 total time=   0.0s\n",
      "[CV 2/5] END criterion=squared_error, learning_rate=3, n_estimators=200;, score=0.429 total time=   0.0s\n",
      "[CV 3/5] END criterion=squared_error, learning_rate=3, n_estimators=200;, score=0.500 total time=   0.0s\n",
      "[CV 4/5] END criterion=squared_error, learning_rate=3, n_estimators=200;, score=0.538 total time=   0.0s\n",
      "[CV 5/5] END criterion=squared_error, learning_rate=3, n_estimators=200;, score=0.538 total time=   0.0s\n",
      "[CV 1/5] END criterion=squared_error, learning_rate=3, n_estimators=300;, score=0.786 total time=   0.0s\n",
      "[CV 2/5] END criterion=squared_error, learning_rate=3, n_estimators=300;, score=0.429 total time=   0.0s\n",
      "[CV 3/5] END criterion=squared_error, learning_rate=3, n_estimators=300;, score=0.500 total time=   0.0s\n",
      "[CV 4/5] END criterion=squared_error, learning_rate=3, n_estimators=300;, score=0.538 total time=   0.0s\n",
      "[CV 5/5] END criterion=squared_error, learning_rate=3, n_estimators=300;, score=0.615 total time=   0.0s\n",
      "[CV 1/5] END criterion=squared_error, learning_rate=3, n_estimators=500;, score=0.786 total time=   0.0s\n",
      "[CV 2/5] END criterion=squared_error, learning_rate=3, n_estimators=500;, score=0.500 total time=   0.0s\n",
      "[CV 3/5] END criterion=squared_error, learning_rate=3, n_estimators=500;, score=0.643 total time=   0.1s\n",
      "[CV 4/5] END criterion=squared_error, learning_rate=3, n_estimators=500;, score=0.538 total time=   0.1s\n",
      "[CV 5/5] END criterion=squared_error, learning_rate=3, n_estimators=500;, score=0.615 total time=   0.0s\n",
      "[CV 1/5] END criterion=squared_error, learning_rate=3, n_estimators=1000;, score=0.857 total time=   0.1s\n",
      "[CV 2/5] END criterion=squared_error, learning_rate=3, n_estimators=1000;, score=0.429 total time=   0.2s\n",
      "[CV 3/5] END criterion=squared_error, learning_rate=3, n_estimators=1000;, score=0.500 total time=   0.2s\n",
      "[CV 4/5] END criterion=squared_error, learning_rate=3, n_estimators=1000;, score=0.538 total time=   0.2s\n",
      "[CV 5/5] END criterion=squared_error, learning_rate=3, n_estimators=1000;, score=0.615 total time=   0.1s\n",
      "[CV 1/5] END criterion=absolute_error, learning_rate=0.03, n_estimators=1;, score=0.643 total time=   0.0s\n",
      "[CV 2/5] END criterion=absolute_error, learning_rate=0.03, n_estimators=1;, score=0.500 total time=   0.0s\n",
      "[CV 3/5] END criterion=absolute_error, learning_rate=0.03, n_estimators=1;, score=0.571 total time=   0.0s\n",
      "[CV 4/5] END criterion=absolute_error, learning_rate=0.03, n_estimators=1;, score=0.769 total time=   0.0s\n",
      "[CV 5/5] END criterion=absolute_error, learning_rate=0.03, n_estimators=1;, score=0.769 total time=   0.0s\n",
      "[CV 1/5] END criterion=absolute_error, learning_rate=0.03, n_estimators=5;, score=0.643 total time=   0.0s\n",
      "[CV 2/5] END criterion=absolute_error, learning_rate=0.03, n_estimators=5;, score=0.500 total time=   0.0s\n"
     ]
    },
    {
     "name": "stderr",
     "output_type": "stream",
     "text": [
      "C:\\Python310\\lib\\site-packages\\sklearn\\ensemble\\_gb.py:1284: FutureWarning: criterion='mae' was deprecated in version 0.24 and will be removed in version 1.1 (renaming of 0.26). Use criterion='friedman_mse' or 'squared_error' instead, as trees should use a squared error criterion in Gradient Boosting.\n",
      "  warnings.warn(\n",
      "C:\\Python310\\lib\\site-packages\\sklearn\\ensemble\\_gb.py:1284: FutureWarning: criterion='mae' was deprecated in version 0.24 and will be removed in version 1.1 (renaming of 0.26). Use criterion='friedman_mse' or 'squared_error' instead, as trees should use a squared error criterion in Gradient Boosting.\n",
      "  warnings.warn(\n",
      "C:\\Python310\\lib\\site-packages\\sklearn\\ensemble\\_gb.py:1284: FutureWarning: criterion='mae' was deprecated in version 0.24 and will be removed in version 1.1 (renaming of 0.26). Use criterion='friedman_mse' or 'squared_error' instead, as trees should use a squared error criterion in Gradient Boosting.\n",
      "  warnings.warn(\n",
      "C:\\Python310\\lib\\site-packages\\sklearn\\ensemble\\_gb.py:1284: FutureWarning: criterion='mae' was deprecated in version 0.24 and will be removed in version 1.1 (renaming of 0.26). Use criterion='friedman_mse' or 'squared_error' instead, as trees should use a squared error criterion in Gradient Boosting.\n",
      "  warnings.warn(\n",
      "C:\\Python310\\lib\\site-packages\\sklearn\\ensemble\\_gb.py:1284: FutureWarning: criterion='mae' was deprecated in version 0.24 and will be removed in version 1.1 (renaming of 0.26). Use criterion='friedman_mse' or 'squared_error' instead, as trees should use a squared error criterion in Gradient Boosting.\n",
      "  warnings.warn(\n",
      "C:\\Python310\\lib\\site-packages\\sklearn\\ensemble\\_gb.py:1284: FutureWarning: criterion='mae' was deprecated in version 0.24 and will be removed in version 1.1 (renaming of 0.26). Use criterion='friedman_mse' or 'squared_error' instead, as trees should use a squared error criterion in Gradient Boosting.\n",
      "  warnings.warn(\n",
      "C:\\Python310\\lib\\site-packages\\sklearn\\ensemble\\_gb.py:1284: FutureWarning: criterion='mae' was deprecated in version 0.24 and will be removed in version 1.1 (renaming of 0.26). Use criterion='friedman_mse' or 'squared_error' instead, as trees should use a squared error criterion in Gradient Boosting.\n",
      "  warnings.warn(\n",
      "C:\\Python310\\lib\\site-packages\\sklearn\\ensemble\\_gb.py:1284: FutureWarning: criterion='mae' was deprecated in version 0.24 and will be removed in version 1.1 (renaming of 0.26). Use criterion='friedman_mse' or 'squared_error' instead, as trees should use a squared error criterion in Gradient Boosting.\n",
      "  warnings.warn(\n",
      "C:\\Python310\\lib\\site-packages\\sklearn\\ensemble\\_gb.py:1284: FutureWarning: criterion='mae' was deprecated in version 0.24 and will be removed in version 1.1 (renaming of 0.26). Use criterion='friedman_mse' or 'squared_error' instead, as trees should use a squared error criterion in Gradient Boosting.\n",
      "  warnings.warn(\n",
      "C:\\Python310\\lib\\site-packages\\sklearn\\ensemble\\_gb.py:1284: FutureWarning: criterion='mae' was deprecated in version 0.24 and will be removed in version 1.1 (renaming of 0.26). Use criterion='friedman_mse' or 'squared_error' instead, as trees should use a squared error criterion in Gradient Boosting.\n",
      "  warnings.warn(\n",
      "C:\\Python310\\lib\\site-packages\\sklearn\\ensemble\\_gb.py:1284: FutureWarning: criterion='mae' was deprecated in version 0.24 and will be removed in version 1.1 (renaming of 0.26). Use criterion='friedman_mse' or 'squared_error' instead, as trees should use a squared error criterion in Gradient Boosting.\n",
      "  warnings.warn(\n",
      "C:\\Python310\\lib\\site-packages\\sklearn\\ensemble\\_gb.py:1284: FutureWarning: criterion='mae' was deprecated in version 0.24 and will be removed in version 1.1 (renaming of 0.26). Use criterion='friedman_mse' or 'squared_error' instead, as trees should use a squared error criterion in Gradient Boosting.\n",
      "  warnings.warn(\n",
      "C:\\Python310\\lib\\site-packages\\sklearn\\ensemble\\_gb.py:1284: FutureWarning: criterion='mae' was deprecated in version 0.24 and will be removed in version 1.1 (renaming of 0.26). Use criterion='friedman_mse' or 'squared_error' instead, as trees should use a squared error criterion in Gradient Boosting.\n",
      "  warnings.warn(\n",
      "C:\\Python310\\lib\\site-packages\\sklearn\\ensemble\\_gb.py:1284: FutureWarning: criterion='mae' was deprecated in version 0.24 and will be removed in version 1.1 (renaming of 0.26). Use criterion='friedman_mse' or 'squared_error' instead, as trees should use a squared error criterion in Gradient Boosting.\n",
      "  warnings.warn(\n",
      "C:\\Python310\\lib\\site-packages\\sklearn\\ensemble\\_gb.py:1284: FutureWarning: criterion='mae' was deprecated in version 0.24 and will be removed in version 1.1 (renaming of 0.26). Use criterion='friedman_mse' or 'squared_error' instead, as trees should use a squared error criterion in Gradient Boosting.\n",
      "  warnings.warn(\n",
      "C:\\Python310\\lib\\site-packages\\sklearn\\ensemble\\_gb.py:1284: FutureWarning: criterion='mae' was deprecated in version 0.24 and will be removed in version 1.1 (renaming of 0.26). Use criterion='friedman_mse' or 'squared_error' instead, as trees should use a squared error criterion in Gradient Boosting.\n",
      "  warnings.warn(\n",
      "C:\\Python310\\lib\\site-packages\\sklearn\\ensemble\\_gb.py:1284: FutureWarning: criterion='mae' was deprecated in version 0.24 and will be removed in version 1.1 (renaming of 0.26). Use criterion='friedman_mse' or 'squared_error' instead, as trees should use a squared error criterion in Gradient Boosting.\n",
      "  warnings.warn(\n",
      "C:\\Python310\\lib\\site-packages\\sklearn\\ensemble\\_gb.py:1284: FutureWarning: criterion='mae' was deprecated in version 0.24 and will be removed in version 1.1 (renaming of 0.26). Use criterion='friedman_mse' or 'squared_error' instead, as trees should use a squared error criterion in Gradient Boosting.\n",
      "  warnings.warn(\n",
      "C:\\Python310\\lib\\site-packages\\sklearn\\ensemble\\_gb.py:1284: FutureWarning: criterion='mae' was deprecated in version 0.24 and will be removed in version 1.1 (renaming of 0.26). Use criterion='friedman_mse' or 'squared_error' instead, as trees should use a squared error criterion in Gradient Boosting.\n",
      "  warnings.warn(\n",
      "C:\\Python310\\lib\\site-packages\\sklearn\\ensemble\\_gb.py:1284: FutureWarning: criterion='mae' was deprecated in version 0.24 and will be removed in version 1.1 (renaming of 0.26). Use criterion='friedman_mse' or 'squared_error' instead, as trees should use a squared error criterion in Gradient Boosting.\n",
      "  warnings.warn(\n",
      "C:\\Python310\\lib\\site-packages\\sklearn\\ensemble\\_gb.py:1284: FutureWarning: criterion='mae' was deprecated in version 0.24 and will be removed in version 1.1 (renaming of 0.26). Use criterion='friedman_mse' or 'squared_error' instead, as trees should use a squared error criterion in Gradient Boosting.\n",
      "  warnings.warn(\n"
     ]
    },
    {
     "name": "stdout",
     "output_type": "stream",
     "text": [
      "[CV 3/5] END criterion=absolute_error, learning_rate=0.03, n_estimators=5;, score=0.571 total time=   0.0s\n",
      "[CV 4/5] END criterion=absolute_error, learning_rate=0.03, n_estimators=5;, score=0.692 total time=   0.0s\n",
      "[CV 5/5] END criterion=absolute_error, learning_rate=0.03, n_estimators=5;, score=0.769 total time=   0.0s\n",
      "[CV 1/5] END criterion=absolute_error, learning_rate=0.03, n_estimators=10;, score=0.643 total time=   0.0s\n",
      "[CV 2/5] END criterion=absolute_error, learning_rate=0.03, n_estimators=10;, score=0.500 total time=   0.0s\n",
      "[CV 3/5] END criterion=absolute_error, learning_rate=0.03, n_estimators=10;, score=0.714 total time=   0.0s\n",
      "[CV 4/5] END criterion=absolute_error, learning_rate=0.03, n_estimators=10;, score=0.692 total time=   0.0s\n",
      "[CV 5/5] END criterion=absolute_error, learning_rate=0.03, n_estimators=10;, score=0.769 total time=   0.0s\n",
      "[CV 1/5] END criterion=absolute_error, learning_rate=0.03, n_estimators=50;, score=0.643 total time=   0.0s\n",
      "[CV 2/5] END criterion=absolute_error, learning_rate=0.03, n_estimators=50;, score=0.500 total time=   0.0s\n",
      "[CV 3/5] END criterion=absolute_error, learning_rate=0.03, n_estimators=50;, score=0.500 total time=   0.0s\n",
      "[CV 4/5] END criterion=absolute_error, learning_rate=0.03, n_estimators=50;, score=0.769 total time=   0.0s\n",
      "[CV 5/5] END criterion=absolute_error, learning_rate=0.03, n_estimators=50;, score=0.769 total time=   0.0s\n",
      "[CV 1/5] END criterion=absolute_error, learning_rate=0.03, n_estimators=100;, score=0.643 total time=   0.0s\n",
      "[CV 2/5] END criterion=absolute_error, learning_rate=0.03, n_estimators=100;, score=0.500 total time=   0.0s\n",
      "[CV 3/5] END criterion=absolute_error, learning_rate=0.03, n_estimators=100;, score=0.571 total time=   0.0s\n",
      "[CV 4/5] END criterion=absolute_error, learning_rate=0.03, n_estimators=100;, score=0.692 total time=   0.0s\n",
      "[CV 5/5] END criterion=absolute_error, learning_rate=0.03, n_estimators=100;, score=0.769 total time=   0.0s\n"
     ]
    },
    {
     "name": "stderr",
     "output_type": "stream",
     "text": [
      "C:\\Python310\\lib\\site-packages\\sklearn\\ensemble\\_gb.py:1284: FutureWarning: criterion='mae' was deprecated in version 0.24 and will be removed in version 1.1 (renaming of 0.26). Use criterion='friedman_mse' or 'squared_error' instead, as trees should use a squared error criterion in Gradient Boosting.\n",
      "  warnings.warn(\n",
      "C:\\Python310\\lib\\site-packages\\sklearn\\ensemble\\_gb.py:1284: FutureWarning: criterion='mae' was deprecated in version 0.24 and will be removed in version 1.1 (renaming of 0.26). Use criterion='friedman_mse' or 'squared_error' instead, as trees should use a squared error criterion in Gradient Boosting.\n",
      "  warnings.warn(\n",
      "C:\\Python310\\lib\\site-packages\\sklearn\\ensemble\\_gb.py:1284: FutureWarning: criterion='mae' was deprecated in version 0.24 and will be removed in version 1.1 (renaming of 0.26). Use criterion='friedman_mse' or 'squared_error' instead, as trees should use a squared error criterion in Gradient Boosting.\n",
      "  warnings.warn(\n",
      "C:\\Python310\\lib\\site-packages\\sklearn\\ensemble\\_gb.py:1284: FutureWarning: criterion='mae' was deprecated in version 0.24 and will be removed in version 1.1 (renaming of 0.26). Use criterion='friedman_mse' or 'squared_error' instead, as trees should use a squared error criterion in Gradient Boosting.\n",
      "  warnings.warn(\n",
      "C:\\Python310\\lib\\site-packages\\sklearn\\ensemble\\_gb.py:1284: FutureWarning: criterion='mae' was deprecated in version 0.24 and will be removed in version 1.1 (renaming of 0.26). Use criterion='friedman_mse' or 'squared_error' instead, as trees should use a squared error criterion in Gradient Boosting.\n",
      "  warnings.warn(\n"
     ]
    },
    {
     "name": "stdout",
     "output_type": "stream",
     "text": [
      "[CV 1/5] END criterion=absolute_error, learning_rate=0.03, n_estimators=200;, score=0.643 total time=   0.0s\n",
      "[CV 2/5] END criterion=absolute_error, learning_rate=0.03, n_estimators=200;, score=0.500 total time=   0.0s\n",
      "[CV 3/5] END criterion=absolute_error, learning_rate=0.03, n_estimators=200;, score=0.500 total time=   0.0s\n"
     ]
    },
    {
     "name": "stderr",
     "output_type": "stream",
     "text": [
      "C:\\Python310\\lib\\site-packages\\sklearn\\ensemble\\_gb.py:1284: FutureWarning: criterion='mae' was deprecated in version 0.24 and will be removed in version 1.1 (renaming of 0.26). Use criterion='friedman_mse' or 'squared_error' instead, as trees should use a squared error criterion in Gradient Boosting.\n",
      "  warnings.warn(\n",
      "C:\\Python310\\lib\\site-packages\\sklearn\\ensemble\\_gb.py:1284: FutureWarning: criterion='mae' was deprecated in version 0.24 and will be removed in version 1.1 (renaming of 0.26). Use criterion='friedman_mse' or 'squared_error' instead, as trees should use a squared error criterion in Gradient Boosting.\n",
      "  warnings.warn(\n",
      "C:\\Python310\\lib\\site-packages\\sklearn\\ensemble\\_gb.py:1284: FutureWarning: criterion='mae' was deprecated in version 0.24 and will be removed in version 1.1 (renaming of 0.26). Use criterion='friedman_mse' or 'squared_error' instead, as trees should use a squared error criterion in Gradient Boosting.\n",
      "  warnings.warn(\n"
     ]
    },
    {
     "name": "stdout",
     "output_type": "stream",
     "text": [
      "[CV 4/5] END criterion=absolute_error, learning_rate=0.03, n_estimators=200;, score=0.769 total time=   0.0s\n",
      "[CV 5/5] END criterion=absolute_error, learning_rate=0.03, n_estimators=200;, score=0.769 total time=   0.0s\n"
     ]
    },
    {
     "name": "stderr",
     "output_type": "stream",
     "text": [
      "C:\\Python310\\lib\\site-packages\\sklearn\\ensemble\\_gb.py:1284: FutureWarning: criterion='mae' was deprecated in version 0.24 and will be removed in version 1.1 (renaming of 0.26). Use criterion='friedman_mse' or 'squared_error' instead, as trees should use a squared error criterion in Gradient Boosting.\n",
      "  warnings.warn(\n",
      "C:\\Python310\\lib\\site-packages\\sklearn\\ensemble\\_gb.py:1284: FutureWarning: criterion='mae' was deprecated in version 0.24 and will be removed in version 1.1 (renaming of 0.26). Use criterion='friedman_mse' or 'squared_error' instead, as trees should use a squared error criterion in Gradient Boosting.\n",
      "  warnings.warn(\n"
     ]
    },
    {
     "name": "stdout",
     "output_type": "stream",
     "text": [
      "[CV 1/5] END criterion=absolute_error, learning_rate=0.03, n_estimators=300;, score=0.643 total time=   0.0s\n",
      "[CV 2/5] END criterion=absolute_error, learning_rate=0.03, n_estimators=300;, score=0.571 total time=   0.0s\n"
     ]
    },
    {
     "name": "stderr",
     "output_type": "stream",
     "text": [
      "C:\\Python310\\lib\\site-packages\\sklearn\\ensemble\\_gb.py:1284: FutureWarning: criterion='mae' was deprecated in version 0.24 and will be removed in version 1.1 (renaming of 0.26). Use criterion='friedman_mse' or 'squared_error' instead, as trees should use a squared error criterion in Gradient Boosting.\n",
      "  warnings.warn(\n",
      "C:\\Python310\\lib\\site-packages\\sklearn\\ensemble\\_gb.py:1284: FutureWarning: criterion='mae' was deprecated in version 0.24 and will be removed in version 1.1 (renaming of 0.26). Use criterion='friedman_mse' or 'squared_error' instead, as trees should use a squared error criterion in Gradient Boosting.\n",
      "  warnings.warn(\n"
     ]
    },
    {
     "name": "stdout",
     "output_type": "stream",
     "text": [
      "[CV 3/5] END criterion=absolute_error, learning_rate=0.03, n_estimators=300;, score=0.500 total time=   0.0s\n",
      "[CV 4/5] END criterion=absolute_error, learning_rate=0.03, n_estimators=300;, score=0.769 total time=   0.0s\n"
     ]
    },
    {
     "name": "stderr",
     "output_type": "stream",
     "text": [
      "C:\\Python310\\lib\\site-packages\\sklearn\\ensemble\\_gb.py:1284: FutureWarning: criterion='mae' was deprecated in version 0.24 and will be removed in version 1.1 (renaming of 0.26). Use criterion='friedman_mse' or 'squared_error' instead, as trees should use a squared error criterion in Gradient Boosting.\n",
      "  warnings.warn(\n",
      "C:\\Python310\\lib\\site-packages\\sklearn\\ensemble\\_gb.py:1284: FutureWarning: criterion='mae' was deprecated in version 0.24 and will be removed in version 1.1 (renaming of 0.26). Use criterion='friedman_mse' or 'squared_error' instead, as trees should use a squared error criterion in Gradient Boosting.\n",
      "  warnings.warn(\n"
     ]
    },
    {
     "name": "stdout",
     "output_type": "stream",
     "text": [
      "[CV 5/5] END criterion=absolute_error, learning_rate=0.03, n_estimators=300;, score=0.769 total time=   0.0s\n"
     ]
    },
    {
     "name": "stderr",
     "output_type": "stream",
     "text": [
      "C:\\Python310\\lib\\site-packages\\sklearn\\ensemble\\_gb.py:1284: FutureWarning: criterion='mae' was deprecated in version 0.24 and will be removed in version 1.1 (renaming of 0.26). Use criterion='friedman_mse' or 'squared_error' instead, as trees should use a squared error criterion in Gradient Boosting.\n",
      "  warnings.warn(\n"
     ]
    },
    {
     "name": "stdout",
     "output_type": "stream",
     "text": [
      "[CV 1/5] END criterion=absolute_error, learning_rate=0.03, n_estimators=500;, score=0.643 total time=   0.1s\n"
     ]
    },
    {
     "name": "stderr",
     "output_type": "stream",
     "text": [
      "C:\\Python310\\lib\\site-packages\\sklearn\\ensemble\\_gb.py:1284: FutureWarning: criterion='mae' was deprecated in version 0.24 and will be removed in version 1.1 (renaming of 0.26). Use criterion='friedman_mse' or 'squared_error' instead, as trees should use a squared error criterion in Gradient Boosting.\n",
      "  warnings.warn(\n"
     ]
    },
    {
     "name": "stdout",
     "output_type": "stream",
     "text": [
      "[CV 2/5] END criterion=absolute_error, learning_rate=0.03, n_estimators=500;, score=0.500 total time=   0.1s\n"
     ]
    },
    {
     "name": "stderr",
     "output_type": "stream",
     "text": [
      "C:\\Python310\\lib\\site-packages\\sklearn\\ensemble\\_gb.py:1284: FutureWarning: criterion='mae' was deprecated in version 0.24 and will be removed in version 1.1 (renaming of 0.26). Use criterion='friedman_mse' or 'squared_error' instead, as trees should use a squared error criterion in Gradient Boosting.\n",
      "  warnings.warn(\n"
     ]
    },
    {
     "name": "stdout",
     "output_type": "stream",
     "text": [
      "[CV 3/5] END criterion=absolute_error, learning_rate=0.03, n_estimators=500;, score=0.500 total time=   0.1s\n"
     ]
    },
    {
     "name": "stderr",
     "output_type": "stream",
     "text": [
      "C:\\Python310\\lib\\site-packages\\sklearn\\ensemble\\_gb.py:1284: FutureWarning: criterion='mae' was deprecated in version 0.24 and will be removed in version 1.1 (renaming of 0.26). Use criterion='friedman_mse' or 'squared_error' instead, as trees should use a squared error criterion in Gradient Boosting.\n",
      "  warnings.warn(\n"
     ]
    },
    {
     "name": "stdout",
     "output_type": "stream",
     "text": [
      "[CV 4/5] END criterion=absolute_error, learning_rate=0.03, n_estimators=500;, score=0.769 total time=   0.2s\n"
     ]
    },
    {
     "name": "stderr",
     "output_type": "stream",
     "text": [
      "C:\\Python310\\lib\\site-packages\\sklearn\\ensemble\\_gb.py:1284: FutureWarning: criterion='mae' was deprecated in version 0.24 and will be removed in version 1.1 (renaming of 0.26). Use criterion='friedman_mse' or 'squared_error' instead, as trees should use a squared error criterion in Gradient Boosting.\n",
      "  warnings.warn(\n"
     ]
    },
    {
     "name": "stdout",
     "output_type": "stream",
     "text": [
      "[CV 5/5] END criterion=absolute_error, learning_rate=0.03, n_estimators=500;, score=0.692 total time=   0.1s\n"
     ]
    },
    {
     "name": "stderr",
     "output_type": "stream",
     "text": [
      "C:\\Python310\\lib\\site-packages\\sklearn\\ensemble\\_gb.py:1284: FutureWarning: criterion='mae' was deprecated in version 0.24 and will be removed in version 1.1 (renaming of 0.26). Use criterion='friedman_mse' or 'squared_error' instead, as trees should use a squared error criterion in Gradient Boosting.\n",
      "  warnings.warn(\n"
     ]
    },
    {
     "name": "stdout",
     "output_type": "stream",
     "text": [
      "[CV 1/5] END criterion=absolute_error, learning_rate=0.03, n_estimators=1000;, score=0.643 total time=   0.4s\n"
     ]
    },
    {
     "name": "stderr",
     "output_type": "stream",
     "text": [
      "C:\\Python310\\lib\\site-packages\\sklearn\\ensemble\\_gb.py:1284: FutureWarning: criterion='mae' was deprecated in version 0.24 and will be removed in version 1.1 (renaming of 0.26). Use criterion='friedman_mse' or 'squared_error' instead, as trees should use a squared error criterion in Gradient Boosting.\n",
      "  warnings.warn(\n"
     ]
    },
    {
     "name": "stdout",
     "output_type": "stream",
     "text": [
      "[CV 2/5] END criterion=absolute_error, learning_rate=0.03, n_estimators=1000;, score=0.571 total time=   0.4s\n"
     ]
    },
    {
     "name": "stderr",
     "output_type": "stream",
     "text": [
      "C:\\Python310\\lib\\site-packages\\sklearn\\ensemble\\_gb.py:1284: FutureWarning: criterion='mae' was deprecated in version 0.24 and will be removed in version 1.1 (renaming of 0.26). Use criterion='friedman_mse' or 'squared_error' instead, as trees should use a squared error criterion in Gradient Boosting.\n",
      "  warnings.warn(\n"
     ]
    },
    {
     "name": "stdout",
     "output_type": "stream",
     "text": [
      "[CV 3/5] END criterion=absolute_error, learning_rate=0.03, n_estimators=1000;, score=0.571 total time=   0.4s\n"
     ]
    },
    {
     "name": "stderr",
     "output_type": "stream",
     "text": [
      "C:\\Python310\\lib\\site-packages\\sklearn\\ensemble\\_gb.py:1284: FutureWarning: criterion='mae' was deprecated in version 0.24 and will be removed in version 1.1 (renaming of 0.26). Use criterion='friedman_mse' or 'squared_error' instead, as trees should use a squared error criterion in Gradient Boosting.\n",
      "  warnings.warn(\n"
     ]
    },
    {
     "name": "stdout",
     "output_type": "stream",
     "text": [
      "[CV 4/5] END criterion=absolute_error, learning_rate=0.03, n_estimators=1000;, score=0.692 total time=   0.4s\n"
     ]
    },
    {
     "name": "stderr",
     "output_type": "stream",
     "text": [
      "C:\\Python310\\lib\\site-packages\\sklearn\\ensemble\\_gb.py:1284: FutureWarning: criterion='mae' was deprecated in version 0.24 and will be removed in version 1.1 (renaming of 0.26). Use criterion='friedman_mse' or 'squared_error' instead, as trees should use a squared error criterion in Gradient Boosting.\n",
      "  warnings.warn(\n"
     ]
    },
    {
     "name": "stdout",
     "output_type": "stream",
     "text": [
      "[CV 5/5] END criterion=absolute_error, learning_rate=0.03, n_estimators=1000;, score=0.692 total time=   0.4s\n",
      "[CV 1/5] END criterion=absolute_error, learning_rate=0.1, n_estimators=1;, score=0.643 total time=   0.0s\n",
      "[CV 2/5] END criterion=absolute_error, learning_rate=0.1, n_estimators=1;, score=0.500 total time=   0.0s\n",
      "[CV 3/5] END criterion=absolute_error, learning_rate=0.1, n_estimators=1;, score=0.500 total time=   0.0s\n",
      "[CV 4/5] END criterion=absolute_error, learning_rate=0.1, n_estimators=1;, score=0.769 total time=   0.0s\n",
      "[CV 5/5] END criterion=absolute_error, learning_rate=0.1, n_estimators=1;, score=0.769 total time=   0.0s\n",
      "[CV 1/5] END criterion=absolute_error, learning_rate=0.1, n_estimators=5;, score=0.643 total time=   0.0s\n",
      "[CV 2/5] END criterion=absolute_error, learning_rate=0.1, n_estimators=5;, score=0.500 total time=   0.0s\n",
      "[CV 3/5] END criterion=absolute_error, learning_rate=0.1, n_estimators=5;, score=0.571 total time=   0.0s\n",
      "[CV 4/5] END criterion=absolute_error, learning_rate=0.1, n_estimators=5;, score=0.769 total time=   0.0s\n",
      "[CV 5/5] END criterion=absolute_error, learning_rate=0.1, n_estimators=5;, score=0.769 total time=   0.0s\n",
      "[CV 1/5] END criterion=absolute_error, learning_rate=0.1, n_estimators=10;, score=0.643 total time=   0.0s\n",
      "[CV 2/5] END criterion=absolute_error, learning_rate=0.1, n_estimators=10;, score=0.500 total time=   0.0s\n",
      "[CV 3/5] END criterion=absolute_error, learning_rate=0.1, n_estimators=10;, score=0.643 total time=   0.0s\n",
      "[CV 4/5] END criterion=absolute_error, learning_rate=0.1, n_estimators=10;, score=0.769 total time=   0.0s\n",
      "[CV 5/5] END criterion=absolute_error, learning_rate=0.1, n_estimators=10;, score=0.769 total time=   0.0s\n",
      "[CV 1/5] END criterion=absolute_error, learning_rate=0.1, n_estimators=50;, score=0.643 total time=   0.0s\n",
      "[CV 2/5] END criterion=absolute_error, learning_rate=0.1, n_estimators=50;, score=0.500 total time=   0.0s\n",
      "[CV 3/5] END criterion=absolute_error, learning_rate=0.1, n_estimators=50;, score=0.571 total time=   0.0s\n",
      "[CV 4/5] END criterion=absolute_error, learning_rate=0.1, n_estimators=50;, score=0.692 total time=   0.0s\n",
      "[CV 5/5] END criterion=absolute_error, learning_rate=0.1, n_estimators=50;, score=0.769 total time=   0.0s\n"
     ]
    },
    {
     "name": "stderr",
     "output_type": "stream",
     "text": [
      "C:\\Python310\\lib\\site-packages\\sklearn\\ensemble\\_gb.py:1284: FutureWarning: criterion='mae' was deprecated in version 0.24 and will be removed in version 1.1 (renaming of 0.26). Use criterion='friedman_mse' or 'squared_error' instead, as trees should use a squared error criterion in Gradient Boosting.\n",
      "  warnings.warn(\n",
      "C:\\Python310\\lib\\site-packages\\sklearn\\ensemble\\_gb.py:1284: FutureWarning: criterion='mae' was deprecated in version 0.24 and will be removed in version 1.1 (renaming of 0.26). Use criterion='friedman_mse' or 'squared_error' instead, as trees should use a squared error criterion in Gradient Boosting.\n",
      "  warnings.warn(\n",
      "C:\\Python310\\lib\\site-packages\\sklearn\\ensemble\\_gb.py:1284: FutureWarning: criterion='mae' was deprecated in version 0.24 and will be removed in version 1.1 (renaming of 0.26). Use criterion='friedman_mse' or 'squared_error' instead, as trees should use a squared error criterion in Gradient Boosting.\n",
      "  warnings.warn(\n",
      "C:\\Python310\\lib\\site-packages\\sklearn\\ensemble\\_gb.py:1284: FutureWarning: criterion='mae' was deprecated in version 0.24 and will be removed in version 1.1 (renaming of 0.26). Use criterion='friedman_mse' or 'squared_error' instead, as trees should use a squared error criterion in Gradient Boosting.\n",
      "  warnings.warn(\n",
      "C:\\Python310\\lib\\site-packages\\sklearn\\ensemble\\_gb.py:1284: FutureWarning: criterion='mae' was deprecated in version 0.24 and will be removed in version 1.1 (renaming of 0.26). Use criterion='friedman_mse' or 'squared_error' instead, as trees should use a squared error criterion in Gradient Boosting.\n",
      "  warnings.warn(\n",
      "C:\\Python310\\lib\\site-packages\\sklearn\\ensemble\\_gb.py:1284: FutureWarning: criterion='mae' was deprecated in version 0.24 and will be removed in version 1.1 (renaming of 0.26). Use criterion='friedman_mse' or 'squared_error' instead, as trees should use a squared error criterion in Gradient Boosting.\n",
      "  warnings.warn(\n",
      "C:\\Python310\\lib\\site-packages\\sklearn\\ensemble\\_gb.py:1284: FutureWarning: criterion='mae' was deprecated in version 0.24 and will be removed in version 1.1 (renaming of 0.26). Use criterion='friedman_mse' or 'squared_error' instead, as trees should use a squared error criterion in Gradient Boosting.\n",
      "  warnings.warn(\n",
      "C:\\Python310\\lib\\site-packages\\sklearn\\ensemble\\_gb.py:1284: FutureWarning: criterion='mae' was deprecated in version 0.24 and will be removed in version 1.1 (renaming of 0.26). Use criterion='friedman_mse' or 'squared_error' instead, as trees should use a squared error criterion in Gradient Boosting.\n",
      "  warnings.warn(\n",
      "C:\\Python310\\lib\\site-packages\\sklearn\\ensemble\\_gb.py:1284: FutureWarning: criterion='mae' was deprecated in version 0.24 and will be removed in version 1.1 (renaming of 0.26). Use criterion='friedman_mse' or 'squared_error' instead, as trees should use a squared error criterion in Gradient Boosting.\n",
      "  warnings.warn(\n",
      "C:\\Python310\\lib\\site-packages\\sklearn\\ensemble\\_gb.py:1284: FutureWarning: criterion='mae' was deprecated in version 0.24 and will be removed in version 1.1 (renaming of 0.26). Use criterion='friedman_mse' or 'squared_error' instead, as trees should use a squared error criterion in Gradient Boosting.\n",
      "  warnings.warn(\n",
      "C:\\Python310\\lib\\site-packages\\sklearn\\ensemble\\_gb.py:1284: FutureWarning: criterion='mae' was deprecated in version 0.24 and will be removed in version 1.1 (renaming of 0.26). Use criterion='friedman_mse' or 'squared_error' instead, as trees should use a squared error criterion in Gradient Boosting.\n",
      "  warnings.warn(\n",
      "C:\\Python310\\lib\\site-packages\\sklearn\\ensemble\\_gb.py:1284: FutureWarning: criterion='mae' was deprecated in version 0.24 and will be removed in version 1.1 (renaming of 0.26). Use criterion='friedman_mse' or 'squared_error' instead, as trees should use a squared error criterion in Gradient Boosting.\n",
      "  warnings.warn(\n",
      "C:\\Python310\\lib\\site-packages\\sklearn\\ensemble\\_gb.py:1284: FutureWarning: criterion='mae' was deprecated in version 0.24 and will be removed in version 1.1 (renaming of 0.26). Use criterion='friedman_mse' or 'squared_error' instead, as trees should use a squared error criterion in Gradient Boosting.\n",
      "  warnings.warn(\n",
      "C:\\Python310\\lib\\site-packages\\sklearn\\ensemble\\_gb.py:1284: FutureWarning: criterion='mae' was deprecated in version 0.24 and will be removed in version 1.1 (renaming of 0.26). Use criterion='friedman_mse' or 'squared_error' instead, as trees should use a squared error criterion in Gradient Boosting.\n",
      "  warnings.warn(\n",
      "C:\\Python310\\lib\\site-packages\\sklearn\\ensemble\\_gb.py:1284: FutureWarning: criterion='mae' was deprecated in version 0.24 and will be removed in version 1.1 (renaming of 0.26). Use criterion='friedman_mse' or 'squared_error' instead, as trees should use a squared error criterion in Gradient Boosting.\n",
      "  warnings.warn(\n",
      "C:\\Python310\\lib\\site-packages\\sklearn\\ensemble\\_gb.py:1284: FutureWarning: criterion='mae' was deprecated in version 0.24 and will be removed in version 1.1 (renaming of 0.26). Use criterion='friedman_mse' or 'squared_error' instead, as trees should use a squared error criterion in Gradient Boosting.\n",
      "  warnings.warn(\n",
      "C:\\Python310\\lib\\site-packages\\sklearn\\ensemble\\_gb.py:1284: FutureWarning: criterion='mae' was deprecated in version 0.24 and will be removed in version 1.1 (renaming of 0.26). Use criterion='friedman_mse' or 'squared_error' instead, as trees should use a squared error criterion in Gradient Boosting.\n",
      "  warnings.warn(\n",
      "C:\\Python310\\lib\\site-packages\\sklearn\\ensemble\\_gb.py:1284: FutureWarning: criterion='mae' was deprecated in version 0.24 and will be removed in version 1.1 (renaming of 0.26). Use criterion='friedman_mse' or 'squared_error' instead, as trees should use a squared error criterion in Gradient Boosting.\n",
      "  warnings.warn(\n",
      "C:\\Python310\\lib\\site-packages\\sklearn\\ensemble\\_gb.py:1284: FutureWarning: criterion='mae' was deprecated in version 0.24 and will be removed in version 1.1 (renaming of 0.26). Use criterion='friedman_mse' or 'squared_error' instead, as trees should use a squared error criterion in Gradient Boosting.\n",
      "  warnings.warn(\n",
      "C:\\Python310\\lib\\site-packages\\sklearn\\ensemble\\_gb.py:1284: FutureWarning: criterion='mae' was deprecated in version 0.24 and will be removed in version 1.1 (renaming of 0.26). Use criterion='friedman_mse' or 'squared_error' instead, as trees should use a squared error criterion in Gradient Boosting.\n",
      "  warnings.warn(\n",
      "C:\\Python310\\lib\\site-packages\\sklearn\\ensemble\\_gb.py:1284: FutureWarning: criterion='mae' was deprecated in version 0.24 and will be removed in version 1.1 (renaming of 0.26). Use criterion='friedman_mse' or 'squared_error' instead, as trees should use a squared error criterion in Gradient Boosting.\n",
      "  warnings.warn(\n"
     ]
    },
    {
     "name": "stdout",
     "output_type": "stream",
     "text": [
      "[CV 1/5] END criterion=absolute_error, learning_rate=0.1, n_estimators=100;, score=0.643 total time=   0.0s\n",
      "[CV 2/5] END criterion=absolute_error, learning_rate=0.1, n_estimators=100;, score=0.643 total time=   0.0s\n",
      "[CV 3/5] END criterion=absolute_error, learning_rate=0.1, n_estimators=100;, score=0.571 total time=   0.0s\n",
      "[CV 4/5] END criterion=absolute_error, learning_rate=0.1, n_estimators=100;, score=0.692 total time=   0.0s\n",
      "[CV 5/5] END criterion=absolute_error, learning_rate=0.1, n_estimators=100;, score=0.769 total time=   0.0s\n"
     ]
    },
    {
     "name": "stderr",
     "output_type": "stream",
     "text": [
      "C:\\Python310\\lib\\site-packages\\sklearn\\ensemble\\_gb.py:1284: FutureWarning: criterion='mae' was deprecated in version 0.24 and will be removed in version 1.1 (renaming of 0.26). Use criterion='friedman_mse' or 'squared_error' instead, as trees should use a squared error criterion in Gradient Boosting.\n",
      "  warnings.warn(\n",
      "C:\\Python310\\lib\\site-packages\\sklearn\\ensemble\\_gb.py:1284: FutureWarning: criterion='mae' was deprecated in version 0.24 and will be removed in version 1.1 (renaming of 0.26). Use criterion='friedman_mse' or 'squared_error' instead, as trees should use a squared error criterion in Gradient Boosting.\n",
      "  warnings.warn(\n",
      "C:\\Python310\\lib\\site-packages\\sklearn\\ensemble\\_gb.py:1284: FutureWarning: criterion='mae' was deprecated in version 0.24 and will be removed in version 1.1 (renaming of 0.26). Use criterion='friedman_mse' or 'squared_error' instead, as trees should use a squared error criterion in Gradient Boosting.\n",
      "  warnings.warn(\n",
      "C:\\Python310\\lib\\site-packages\\sklearn\\ensemble\\_gb.py:1284: FutureWarning: criterion='mae' was deprecated in version 0.24 and will be removed in version 1.1 (renaming of 0.26). Use criterion='friedman_mse' or 'squared_error' instead, as trees should use a squared error criterion in Gradient Boosting.\n",
      "  warnings.warn(\n",
      "C:\\Python310\\lib\\site-packages\\sklearn\\ensemble\\_gb.py:1284: FutureWarning: criterion='mae' was deprecated in version 0.24 and will be removed in version 1.1 (renaming of 0.26). Use criterion='friedman_mse' or 'squared_error' instead, as trees should use a squared error criterion in Gradient Boosting.\n",
      "  warnings.warn(\n"
     ]
    },
    {
     "name": "stdout",
     "output_type": "stream",
     "text": [
      "[CV 1/5] END criterion=absolute_error, learning_rate=0.1, n_estimators=200;, score=0.714 total time=   0.0s\n",
      "[CV 2/5] END criterion=absolute_error, learning_rate=0.1, n_estimators=200;, score=0.500 total time=   0.0s\n"
     ]
    },
    {
     "name": "stderr",
     "output_type": "stream",
     "text": [
      "C:\\Python310\\lib\\site-packages\\sklearn\\ensemble\\_gb.py:1284: FutureWarning: criterion='mae' was deprecated in version 0.24 and will be removed in version 1.1 (renaming of 0.26). Use criterion='friedman_mse' or 'squared_error' instead, as trees should use a squared error criterion in Gradient Boosting.\n",
      "  warnings.warn(\n",
      "C:\\Python310\\lib\\site-packages\\sklearn\\ensemble\\_gb.py:1284: FutureWarning: criterion='mae' was deprecated in version 0.24 and will be removed in version 1.1 (renaming of 0.26). Use criterion='friedman_mse' or 'squared_error' instead, as trees should use a squared error criterion in Gradient Boosting.\n",
      "  warnings.warn(\n"
     ]
    },
    {
     "name": "stdout",
     "output_type": "stream",
     "text": [
      "[CV 3/5] END criterion=absolute_error, learning_rate=0.1, n_estimators=200;, score=0.643 total time=   0.0s\n",
      "[CV 4/5] END criterion=absolute_error, learning_rate=0.1, n_estimators=200;, score=0.769 total time=   0.0s\n",
      "[CV 5/5] END criterion=absolute_error, learning_rate=0.1, n_estimators=200;, score=0.769 total time=   0.0s\n"
     ]
    },
    {
     "name": "stderr",
     "output_type": "stream",
     "text": [
      "C:\\Python310\\lib\\site-packages\\sklearn\\ensemble\\_gb.py:1284: FutureWarning: criterion='mae' was deprecated in version 0.24 and will be removed in version 1.1 (renaming of 0.26). Use criterion='friedman_mse' or 'squared_error' instead, as trees should use a squared error criterion in Gradient Boosting.\n",
      "  warnings.warn(\n",
      "C:\\Python310\\lib\\site-packages\\sklearn\\ensemble\\_gb.py:1284: FutureWarning: criterion='mae' was deprecated in version 0.24 and will be removed in version 1.1 (renaming of 0.26). Use criterion='friedman_mse' or 'squared_error' instead, as trees should use a squared error criterion in Gradient Boosting.\n",
      "  warnings.warn(\n",
      "C:\\Python310\\lib\\site-packages\\sklearn\\ensemble\\_gb.py:1284: FutureWarning: criterion='mae' was deprecated in version 0.24 and will be removed in version 1.1 (renaming of 0.26). Use criterion='friedman_mse' or 'squared_error' instead, as trees should use a squared error criterion in Gradient Boosting.\n",
      "  warnings.warn(\n"
     ]
    },
    {
     "name": "stdout",
     "output_type": "stream",
     "text": [
      "[CV 1/5] END criterion=absolute_error, learning_rate=0.1, n_estimators=300;, score=0.643 total time=   0.0s\n",
      "[CV 2/5] END criterion=absolute_error, learning_rate=0.1, n_estimators=300;, score=0.571 total time=   0.0s\n"
     ]
    },
    {
     "name": "stderr",
     "output_type": "stream",
     "text": [
      "C:\\Python310\\lib\\site-packages\\sklearn\\ensemble\\_gb.py:1284: FutureWarning: criterion='mae' was deprecated in version 0.24 and will be removed in version 1.1 (renaming of 0.26). Use criterion='friedman_mse' or 'squared_error' instead, as trees should use a squared error criterion in Gradient Boosting.\n",
      "  warnings.warn(\n",
      "C:\\Python310\\lib\\site-packages\\sklearn\\ensemble\\_gb.py:1284: FutureWarning: criterion='mae' was deprecated in version 0.24 and will be removed in version 1.1 (renaming of 0.26). Use criterion='friedman_mse' or 'squared_error' instead, as trees should use a squared error criterion in Gradient Boosting.\n",
      "  warnings.warn(\n"
     ]
    },
    {
     "name": "stdout",
     "output_type": "stream",
     "text": [
      "[CV 3/5] END criterion=absolute_error, learning_rate=0.1, n_estimators=300;, score=0.500 total time=   0.1s\n",
      "[CV 4/5] END criterion=absolute_error, learning_rate=0.1, n_estimators=300;, score=0.692 total time=   0.0s\n"
     ]
    },
    {
     "name": "stderr",
     "output_type": "stream",
     "text": [
      "C:\\Python310\\lib\\site-packages\\sklearn\\ensemble\\_gb.py:1284: FutureWarning: criterion='mae' was deprecated in version 0.24 and will be removed in version 1.1 (renaming of 0.26). Use criterion='friedman_mse' or 'squared_error' instead, as trees should use a squared error criterion in Gradient Boosting.\n",
      "  warnings.warn(\n",
      "C:\\Python310\\lib\\site-packages\\sklearn\\ensemble\\_gb.py:1284: FutureWarning: criterion='mae' was deprecated in version 0.24 and will be removed in version 1.1 (renaming of 0.26). Use criterion='friedman_mse' or 'squared_error' instead, as trees should use a squared error criterion in Gradient Boosting.\n",
      "  warnings.warn(\n"
     ]
    },
    {
     "name": "stdout",
     "output_type": "stream",
     "text": [
      "[CV 5/5] END criterion=absolute_error, learning_rate=0.1, n_estimators=300;, score=0.692 total time=   0.1s\n"
     ]
    },
    {
     "name": "stderr",
     "output_type": "stream",
     "text": [
      "C:\\Python310\\lib\\site-packages\\sklearn\\ensemble\\_gb.py:1284: FutureWarning: criterion='mae' was deprecated in version 0.24 and will be removed in version 1.1 (renaming of 0.26). Use criterion='friedman_mse' or 'squared_error' instead, as trees should use a squared error criterion in Gradient Boosting.\n",
      "  warnings.warn(\n"
     ]
    },
    {
     "name": "stdout",
     "output_type": "stream",
     "text": [
      "[CV 1/5] END criterion=absolute_error, learning_rate=0.1, n_estimators=500;, score=0.643 total time=   0.1s\n"
     ]
    },
    {
     "name": "stderr",
     "output_type": "stream",
     "text": [
      "C:\\Python310\\lib\\site-packages\\sklearn\\ensemble\\_gb.py:1284: FutureWarning: criterion='mae' was deprecated in version 0.24 and will be removed in version 1.1 (renaming of 0.26). Use criterion='friedman_mse' or 'squared_error' instead, as trees should use a squared error criterion in Gradient Boosting.\n",
      "  warnings.warn(\n"
     ]
    },
    {
     "name": "stdout",
     "output_type": "stream",
     "text": [
      "[CV 2/5] END criterion=absolute_error, learning_rate=0.1, n_estimators=500;, score=0.500 total time=   0.1s\n"
     ]
    },
    {
     "name": "stderr",
     "output_type": "stream",
     "text": [
      "C:\\Python310\\lib\\site-packages\\sklearn\\ensemble\\_gb.py:1284: FutureWarning: criterion='mae' was deprecated in version 0.24 and will be removed in version 1.1 (renaming of 0.26). Use criterion='friedman_mse' or 'squared_error' instead, as trees should use a squared error criterion in Gradient Boosting.\n",
      "  warnings.warn(\n"
     ]
    },
    {
     "name": "stdout",
     "output_type": "stream",
     "text": [
      "[CV 3/5] END criterion=absolute_error, learning_rate=0.1, n_estimators=500;, score=0.643 total time=   0.1s\n"
     ]
    },
    {
     "name": "stderr",
     "output_type": "stream",
     "text": [
      "C:\\Python310\\lib\\site-packages\\sklearn\\ensemble\\_gb.py:1284: FutureWarning: criterion='mae' was deprecated in version 0.24 and will be removed in version 1.1 (renaming of 0.26). Use criterion='friedman_mse' or 'squared_error' instead, as trees should use a squared error criterion in Gradient Boosting.\n",
      "  warnings.warn(\n"
     ]
    },
    {
     "name": "stdout",
     "output_type": "stream",
     "text": [
      "[CV 4/5] END criterion=absolute_error, learning_rate=0.1, n_estimators=500;, score=0.769 total time=   0.1s\n"
     ]
    },
    {
     "name": "stderr",
     "output_type": "stream",
     "text": [
      "C:\\Python310\\lib\\site-packages\\sklearn\\ensemble\\_gb.py:1284: FutureWarning: criterion='mae' was deprecated in version 0.24 and will be removed in version 1.1 (renaming of 0.26). Use criterion='friedman_mse' or 'squared_error' instead, as trees should use a squared error criterion in Gradient Boosting.\n",
      "  warnings.warn(\n"
     ]
    },
    {
     "name": "stdout",
     "output_type": "stream",
     "text": [
      "[CV 5/5] END criterion=absolute_error, learning_rate=0.1, n_estimators=500;, score=0.692 total time=   0.1s\n"
     ]
    },
    {
     "name": "stderr",
     "output_type": "stream",
     "text": [
      "C:\\Python310\\lib\\site-packages\\sklearn\\ensemble\\_gb.py:1284: FutureWarning: criterion='mae' was deprecated in version 0.24 and will be removed in version 1.1 (renaming of 0.26). Use criterion='friedman_mse' or 'squared_error' instead, as trees should use a squared error criterion in Gradient Boosting.\n",
      "  warnings.warn(\n"
     ]
    },
    {
     "name": "stdout",
     "output_type": "stream",
     "text": [
      "[CV 1/5] END criterion=absolute_error, learning_rate=0.1, n_estimators=1000;, score=0.643 total time=   0.3s\n"
     ]
    },
    {
     "name": "stderr",
     "output_type": "stream",
     "text": [
      "C:\\Python310\\lib\\site-packages\\sklearn\\ensemble\\_gb.py:1284: FutureWarning: criterion='mae' was deprecated in version 0.24 and will be removed in version 1.1 (renaming of 0.26). Use criterion='friedman_mse' or 'squared_error' instead, as trees should use a squared error criterion in Gradient Boosting.\n",
      "  warnings.warn(\n"
     ]
    },
    {
     "name": "stdout",
     "output_type": "stream",
     "text": [
      "[CV 2/5] END criterion=absolute_error, learning_rate=0.1, n_estimators=1000;, score=0.500 total time=   0.3s\n"
     ]
    },
    {
     "name": "stderr",
     "output_type": "stream",
     "text": [
      "C:\\Python310\\lib\\site-packages\\sklearn\\ensemble\\_gb.py:1284: FutureWarning: criterion='mae' was deprecated in version 0.24 and will be removed in version 1.1 (renaming of 0.26). Use criterion='friedman_mse' or 'squared_error' instead, as trees should use a squared error criterion in Gradient Boosting.\n",
      "  warnings.warn(\n"
     ]
    },
    {
     "name": "stdout",
     "output_type": "stream",
     "text": [
      "[CV 3/5] END criterion=absolute_error, learning_rate=0.1, n_estimators=1000;, score=0.714 total time=   0.4s\n"
     ]
    },
    {
     "name": "stderr",
     "output_type": "stream",
     "text": [
      "C:\\Python310\\lib\\site-packages\\sklearn\\ensemble\\_gb.py:1284: FutureWarning: criterion='mae' was deprecated in version 0.24 and will be removed in version 1.1 (renaming of 0.26). Use criterion='friedman_mse' or 'squared_error' instead, as trees should use a squared error criterion in Gradient Boosting.\n",
      "  warnings.warn(\n"
     ]
    },
    {
     "name": "stdout",
     "output_type": "stream",
     "text": [
      "[CV 4/5] END criterion=absolute_error, learning_rate=0.1, n_estimators=1000;, score=0.692 total time=   0.4s\n"
     ]
    },
    {
     "name": "stderr",
     "output_type": "stream",
     "text": [
      "C:\\Python310\\lib\\site-packages\\sklearn\\ensemble\\_gb.py:1284: FutureWarning: criterion='mae' was deprecated in version 0.24 and will be removed in version 1.1 (renaming of 0.26). Use criterion='friedman_mse' or 'squared_error' instead, as trees should use a squared error criterion in Gradient Boosting.\n",
      "  warnings.warn(\n"
     ]
    },
    {
     "name": "stdout",
     "output_type": "stream",
     "text": [
      "[CV 5/5] END criterion=absolute_error, learning_rate=0.1, n_estimators=1000;, score=0.692 total time=   0.4s\n",
      "[CV 1/5] END criterion=absolute_error, learning_rate=0.3, n_estimators=1;, score=0.643 total time=   0.0s\n",
      "[CV 2/5] END criterion=absolute_error, learning_rate=0.3, n_estimators=1;, score=0.500 total time=   0.0s\n",
      "[CV 3/5] END criterion=absolute_error, learning_rate=0.3, n_estimators=1;, score=0.571 total time=   0.0s\n",
      "[CV 4/5] END criterion=absolute_error, learning_rate=0.3, n_estimators=1;, score=0.692 total time=   0.0s\n",
      "[CV 5/5] END criterion=absolute_error, learning_rate=0.3, n_estimators=1;, score=0.769 total time=   0.0s\n",
      "[CV 1/5] END criterion=absolute_error, learning_rate=0.3, n_estimators=5;, score=0.643 total time=   0.0s\n",
      "[CV 2/5] END criterion=absolute_error, learning_rate=0.3, n_estimators=5;, score=0.500 total time=   0.0s\n",
      "[CV 3/5] END criterion=absolute_error, learning_rate=0.3, n_estimators=5;, score=0.643 total time=   0.0s\n",
      "[CV 4/5] END criterion=absolute_error, learning_rate=0.3, n_estimators=5;, score=0.692 total time=   0.0s\n",
      "[CV 5/5] END criterion=absolute_error, learning_rate=0.3, n_estimators=5;, score=0.769 total time=   0.0s\n",
      "[CV 1/5] END criterion=absolute_error, learning_rate=0.3, n_estimators=10;, score=0.643 total time=   0.0s\n",
      "[CV 2/5] END criterion=absolute_error, learning_rate=0.3, n_estimators=10;, score=0.500 total time=   0.0s\n",
      "[CV 3/5] END criterion=absolute_error, learning_rate=0.3, n_estimators=10;, score=0.500 total time=   0.0s\n",
      "[CV 4/5] END criterion=absolute_error, learning_rate=0.3, n_estimators=10;, score=0.769 total time=   0.0s\n",
      "[CV 5/5] END criterion=absolute_error, learning_rate=0.3, n_estimators=10;, score=0.769 total time=   0.0s\n",
      "[CV 1/5] END criterion=absolute_error, learning_rate=0.3, n_estimators=50;, score=0.643 total time=   0.0s\n",
      "[CV 2/5] END criterion=absolute_error, learning_rate=0.3, n_estimators=50;, score=0.500 total time=   0.0s\n",
      "[CV 3/5] END criterion=absolute_error, learning_rate=0.3, n_estimators=50;, score=0.643 total time=   0.0s\n",
      "[CV 4/5] END criterion=absolute_error, learning_rate=0.3, n_estimators=50;, score=0.692 total time=   0.0s\n",
      "[CV 5/5] END criterion=absolute_error, learning_rate=0.3, n_estimators=50;, score=0.769 total time=   0.0s\n"
     ]
    },
    {
     "name": "stderr",
     "output_type": "stream",
     "text": [
      "C:\\Python310\\lib\\site-packages\\sklearn\\ensemble\\_gb.py:1284: FutureWarning: criterion='mae' was deprecated in version 0.24 and will be removed in version 1.1 (renaming of 0.26). Use criterion='friedman_mse' or 'squared_error' instead, as trees should use a squared error criterion in Gradient Boosting.\n",
      "  warnings.warn(\n",
      "C:\\Python310\\lib\\site-packages\\sklearn\\ensemble\\_gb.py:1284: FutureWarning: criterion='mae' was deprecated in version 0.24 and will be removed in version 1.1 (renaming of 0.26). Use criterion='friedman_mse' or 'squared_error' instead, as trees should use a squared error criterion in Gradient Boosting.\n",
      "  warnings.warn(\n",
      "C:\\Python310\\lib\\site-packages\\sklearn\\ensemble\\_gb.py:1284: FutureWarning: criterion='mae' was deprecated in version 0.24 and will be removed in version 1.1 (renaming of 0.26). Use criterion='friedman_mse' or 'squared_error' instead, as trees should use a squared error criterion in Gradient Boosting.\n",
      "  warnings.warn(\n",
      "C:\\Python310\\lib\\site-packages\\sklearn\\ensemble\\_gb.py:1284: FutureWarning: criterion='mae' was deprecated in version 0.24 and will be removed in version 1.1 (renaming of 0.26). Use criterion='friedman_mse' or 'squared_error' instead, as trees should use a squared error criterion in Gradient Boosting.\n",
      "  warnings.warn(\n",
      "C:\\Python310\\lib\\site-packages\\sklearn\\ensemble\\_gb.py:1284: FutureWarning: criterion='mae' was deprecated in version 0.24 and will be removed in version 1.1 (renaming of 0.26). Use criterion='friedman_mse' or 'squared_error' instead, as trees should use a squared error criterion in Gradient Boosting.\n",
      "  warnings.warn(\n",
      "C:\\Python310\\lib\\site-packages\\sklearn\\ensemble\\_gb.py:1284: FutureWarning: criterion='mae' was deprecated in version 0.24 and will be removed in version 1.1 (renaming of 0.26). Use criterion='friedman_mse' or 'squared_error' instead, as trees should use a squared error criterion in Gradient Boosting.\n",
      "  warnings.warn(\n",
      "C:\\Python310\\lib\\site-packages\\sklearn\\ensemble\\_gb.py:1284: FutureWarning: criterion='mae' was deprecated in version 0.24 and will be removed in version 1.1 (renaming of 0.26). Use criterion='friedman_mse' or 'squared_error' instead, as trees should use a squared error criterion in Gradient Boosting.\n",
      "  warnings.warn(\n",
      "C:\\Python310\\lib\\site-packages\\sklearn\\ensemble\\_gb.py:1284: FutureWarning: criterion='mae' was deprecated in version 0.24 and will be removed in version 1.1 (renaming of 0.26). Use criterion='friedman_mse' or 'squared_error' instead, as trees should use a squared error criterion in Gradient Boosting.\n",
      "  warnings.warn(\n",
      "C:\\Python310\\lib\\site-packages\\sklearn\\ensemble\\_gb.py:1284: FutureWarning: criterion='mae' was deprecated in version 0.24 and will be removed in version 1.1 (renaming of 0.26). Use criterion='friedman_mse' or 'squared_error' instead, as trees should use a squared error criterion in Gradient Boosting.\n",
      "  warnings.warn(\n",
      "C:\\Python310\\lib\\site-packages\\sklearn\\ensemble\\_gb.py:1284: FutureWarning: criterion='mae' was deprecated in version 0.24 and will be removed in version 1.1 (renaming of 0.26). Use criterion='friedman_mse' or 'squared_error' instead, as trees should use a squared error criterion in Gradient Boosting.\n",
      "  warnings.warn(\n",
      "C:\\Python310\\lib\\site-packages\\sklearn\\ensemble\\_gb.py:1284: FutureWarning: criterion='mae' was deprecated in version 0.24 and will be removed in version 1.1 (renaming of 0.26). Use criterion='friedman_mse' or 'squared_error' instead, as trees should use a squared error criterion in Gradient Boosting.\n",
      "  warnings.warn(\n",
      "C:\\Python310\\lib\\site-packages\\sklearn\\ensemble\\_gb.py:1284: FutureWarning: criterion='mae' was deprecated in version 0.24 and will be removed in version 1.1 (renaming of 0.26). Use criterion='friedman_mse' or 'squared_error' instead, as trees should use a squared error criterion in Gradient Boosting.\n",
      "  warnings.warn(\n",
      "C:\\Python310\\lib\\site-packages\\sklearn\\ensemble\\_gb.py:1284: FutureWarning: criterion='mae' was deprecated in version 0.24 and will be removed in version 1.1 (renaming of 0.26). Use criterion='friedman_mse' or 'squared_error' instead, as trees should use a squared error criterion in Gradient Boosting.\n",
      "  warnings.warn(\n",
      "C:\\Python310\\lib\\site-packages\\sklearn\\ensemble\\_gb.py:1284: FutureWarning: criterion='mae' was deprecated in version 0.24 and will be removed in version 1.1 (renaming of 0.26). Use criterion='friedman_mse' or 'squared_error' instead, as trees should use a squared error criterion in Gradient Boosting.\n",
      "  warnings.warn(\n",
      "C:\\Python310\\lib\\site-packages\\sklearn\\ensemble\\_gb.py:1284: FutureWarning: criterion='mae' was deprecated in version 0.24 and will be removed in version 1.1 (renaming of 0.26). Use criterion='friedman_mse' or 'squared_error' instead, as trees should use a squared error criterion in Gradient Boosting.\n",
      "  warnings.warn(\n",
      "C:\\Python310\\lib\\site-packages\\sklearn\\ensemble\\_gb.py:1284: FutureWarning: criterion='mae' was deprecated in version 0.24 and will be removed in version 1.1 (renaming of 0.26). Use criterion='friedman_mse' or 'squared_error' instead, as trees should use a squared error criterion in Gradient Boosting.\n",
      "  warnings.warn(\n",
      "C:\\Python310\\lib\\site-packages\\sklearn\\ensemble\\_gb.py:1284: FutureWarning: criterion='mae' was deprecated in version 0.24 and will be removed in version 1.1 (renaming of 0.26). Use criterion='friedman_mse' or 'squared_error' instead, as trees should use a squared error criterion in Gradient Boosting.\n",
      "  warnings.warn(\n",
      "C:\\Python310\\lib\\site-packages\\sklearn\\ensemble\\_gb.py:1284: FutureWarning: criterion='mae' was deprecated in version 0.24 and will be removed in version 1.1 (renaming of 0.26). Use criterion='friedman_mse' or 'squared_error' instead, as trees should use a squared error criterion in Gradient Boosting.\n",
      "  warnings.warn(\n",
      "C:\\Python310\\lib\\site-packages\\sklearn\\ensemble\\_gb.py:1284: FutureWarning: criterion='mae' was deprecated in version 0.24 and will be removed in version 1.1 (renaming of 0.26). Use criterion='friedman_mse' or 'squared_error' instead, as trees should use a squared error criterion in Gradient Boosting.\n",
      "  warnings.warn(\n",
      "C:\\Python310\\lib\\site-packages\\sklearn\\ensemble\\_gb.py:1284: FutureWarning: criterion='mae' was deprecated in version 0.24 and will be removed in version 1.1 (renaming of 0.26). Use criterion='friedman_mse' or 'squared_error' instead, as trees should use a squared error criterion in Gradient Boosting.\n",
      "  warnings.warn(\n",
      "C:\\Python310\\lib\\site-packages\\sklearn\\ensemble\\_gb.py:1284: FutureWarning: criterion='mae' was deprecated in version 0.24 and will be removed in version 1.1 (renaming of 0.26). Use criterion='friedman_mse' or 'squared_error' instead, as trees should use a squared error criterion in Gradient Boosting.\n",
      "  warnings.warn(\n"
     ]
    },
    {
     "name": "stdout",
     "output_type": "stream",
     "text": [
      "[CV 1/5] END criterion=absolute_error, learning_rate=0.3, n_estimators=100;, score=0.643 total time=   0.0s\n",
      "[CV 2/5] END criterion=absolute_error, learning_rate=0.3, n_estimators=100;, score=0.500 total time=   0.0s\n",
      "[CV 3/5] END criterion=absolute_error, learning_rate=0.3, n_estimators=100;, score=0.500 total time=   0.0s\n",
      "[CV 4/5] END criterion=absolute_error, learning_rate=0.3, n_estimators=100;, score=0.769 total time=   0.0s\n",
      "[CV 5/5] END criterion=absolute_error, learning_rate=0.3, n_estimators=100;, score=0.692 total time=   0.0s\n"
     ]
    },
    {
     "name": "stderr",
     "output_type": "stream",
     "text": [
      "C:\\Python310\\lib\\site-packages\\sklearn\\ensemble\\_gb.py:1284: FutureWarning: criterion='mae' was deprecated in version 0.24 and will be removed in version 1.1 (renaming of 0.26). Use criterion='friedman_mse' or 'squared_error' instead, as trees should use a squared error criterion in Gradient Boosting.\n",
      "  warnings.warn(\n",
      "C:\\Python310\\lib\\site-packages\\sklearn\\ensemble\\_gb.py:1284: FutureWarning: criterion='mae' was deprecated in version 0.24 and will be removed in version 1.1 (renaming of 0.26). Use criterion='friedman_mse' or 'squared_error' instead, as trees should use a squared error criterion in Gradient Boosting.\n",
      "  warnings.warn(\n",
      "C:\\Python310\\lib\\site-packages\\sklearn\\ensemble\\_gb.py:1284: FutureWarning: criterion='mae' was deprecated in version 0.24 and will be removed in version 1.1 (renaming of 0.26). Use criterion='friedman_mse' or 'squared_error' instead, as trees should use a squared error criterion in Gradient Boosting.\n",
      "  warnings.warn(\n",
      "C:\\Python310\\lib\\site-packages\\sklearn\\ensemble\\_gb.py:1284: FutureWarning: criterion='mae' was deprecated in version 0.24 and will be removed in version 1.1 (renaming of 0.26). Use criterion='friedman_mse' or 'squared_error' instead, as trees should use a squared error criterion in Gradient Boosting.\n",
      "  warnings.warn(\n",
      "C:\\Python310\\lib\\site-packages\\sklearn\\ensemble\\_gb.py:1284: FutureWarning: criterion='mae' was deprecated in version 0.24 and will be removed in version 1.1 (renaming of 0.26). Use criterion='friedman_mse' or 'squared_error' instead, as trees should use a squared error criterion in Gradient Boosting.\n",
      "  warnings.warn(\n"
     ]
    },
    {
     "name": "stdout",
     "output_type": "stream",
     "text": [
      "[CV 1/5] END criterion=absolute_error, learning_rate=0.3, n_estimators=200;, score=0.643 total time=   0.0s\n",
      "[CV 2/5] END criterion=absolute_error, learning_rate=0.3, n_estimators=200;, score=0.500 total time=   0.0s\n",
      "[CV 3/5] END criterion=absolute_error, learning_rate=0.3, n_estimators=200;, score=0.643 total time=   0.0s\n"
     ]
    },
    {
     "name": "stderr",
     "output_type": "stream",
     "text": [
      "C:\\Python310\\lib\\site-packages\\sklearn\\ensemble\\_gb.py:1284: FutureWarning: criterion='mae' was deprecated in version 0.24 and will be removed in version 1.1 (renaming of 0.26). Use criterion='friedman_mse' or 'squared_error' instead, as trees should use a squared error criterion in Gradient Boosting.\n",
      "  warnings.warn(\n",
      "C:\\Python310\\lib\\site-packages\\sklearn\\ensemble\\_gb.py:1284: FutureWarning: criterion='mae' was deprecated in version 0.24 and will be removed in version 1.1 (renaming of 0.26). Use criterion='friedman_mse' or 'squared_error' instead, as trees should use a squared error criterion in Gradient Boosting.\n",
      "  warnings.warn(\n",
      "C:\\Python310\\lib\\site-packages\\sklearn\\ensemble\\_gb.py:1284: FutureWarning: criterion='mae' was deprecated in version 0.24 and will be removed in version 1.1 (renaming of 0.26). Use criterion='friedman_mse' or 'squared_error' instead, as trees should use a squared error criterion in Gradient Boosting.\n",
      "  warnings.warn(\n"
     ]
    },
    {
     "name": "stdout",
     "output_type": "stream",
     "text": [
      "[CV 4/5] END criterion=absolute_error, learning_rate=0.3, n_estimators=200;, score=0.846 total time=   0.0s\n",
      "[CV 5/5] END criterion=absolute_error, learning_rate=0.3, n_estimators=200;, score=0.615 total time=   0.0s\n"
     ]
    },
    {
     "name": "stderr",
     "output_type": "stream",
     "text": [
      "C:\\Python310\\lib\\site-packages\\sklearn\\ensemble\\_gb.py:1284: FutureWarning: criterion='mae' was deprecated in version 0.24 and will be removed in version 1.1 (renaming of 0.26). Use criterion='friedman_mse' or 'squared_error' instead, as trees should use a squared error criterion in Gradient Boosting.\n",
      "  warnings.warn(\n",
      "C:\\Python310\\lib\\site-packages\\sklearn\\ensemble\\_gb.py:1284: FutureWarning: criterion='mae' was deprecated in version 0.24 and will be removed in version 1.1 (renaming of 0.26). Use criterion='friedman_mse' or 'squared_error' instead, as trees should use a squared error criterion in Gradient Boosting.\n",
      "  warnings.warn(\n"
     ]
    },
    {
     "name": "stdout",
     "output_type": "stream",
     "text": [
      "[CV 1/5] END criterion=absolute_error, learning_rate=0.3, n_estimators=300;, score=0.643 total time=   0.0s\n",
      "[CV 2/5] END criterion=absolute_error, learning_rate=0.3, n_estimators=300;, score=0.714 total time=   0.0s\n"
     ]
    },
    {
     "name": "stderr",
     "output_type": "stream",
     "text": [
      "C:\\Python310\\lib\\site-packages\\sklearn\\ensemble\\_gb.py:1284: FutureWarning: criterion='mae' was deprecated in version 0.24 and will be removed in version 1.1 (renaming of 0.26). Use criterion='friedman_mse' or 'squared_error' instead, as trees should use a squared error criterion in Gradient Boosting.\n",
      "  warnings.warn(\n",
      "C:\\Python310\\lib\\site-packages\\sklearn\\ensemble\\_gb.py:1284: FutureWarning: criterion='mae' was deprecated in version 0.24 and will be removed in version 1.1 (renaming of 0.26). Use criterion='friedman_mse' or 'squared_error' instead, as trees should use a squared error criterion in Gradient Boosting.\n",
      "  warnings.warn(\n"
     ]
    },
    {
     "name": "stdout",
     "output_type": "stream",
     "text": [
      "[CV 3/5] END criterion=absolute_error, learning_rate=0.3, n_estimators=300;, score=0.643 total time=   0.0s\n",
      "[CV 4/5] END criterion=absolute_error, learning_rate=0.3, n_estimators=300;, score=0.846 total time=   0.0s\n"
     ]
    },
    {
     "name": "stderr",
     "output_type": "stream",
     "text": [
      "C:\\Python310\\lib\\site-packages\\sklearn\\ensemble\\_gb.py:1284: FutureWarning: criterion='mae' was deprecated in version 0.24 and will be removed in version 1.1 (renaming of 0.26). Use criterion='friedman_mse' or 'squared_error' instead, as trees should use a squared error criterion in Gradient Boosting.\n",
      "  warnings.warn(\n",
      "C:\\Python310\\lib\\site-packages\\sklearn\\ensemble\\_gb.py:1284: FutureWarning: criterion='mae' was deprecated in version 0.24 and will be removed in version 1.1 (renaming of 0.26). Use criterion='friedman_mse' or 'squared_error' instead, as trees should use a squared error criterion in Gradient Boosting.\n",
      "  warnings.warn(\n"
     ]
    },
    {
     "name": "stdout",
     "output_type": "stream",
     "text": [
      "[CV 5/5] END criterion=absolute_error, learning_rate=0.3, n_estimators=300;, score=0.692 total time=   0.0s\n"
     ]
    },
    {
     "name": "stderr",
     "output_type": "stream",
     "text": [
      "C:\\Python310\\lib\\site-packages\\sklearn\\ensemble\\_gb.py:1284: FutureWarning: criterion='mae' was deprecated in version 0.24 and will be removed in version 1.1 (renaming of 0.26). Use criterion='friedman_mse' or 'squared_error' instead, as trees should use a squared error criterion in Gradient Boosting.\n",
      "  warnings.warn(\n"
     ]
    },
    {
     "name": "stdout",
     "output_type": "stream",
     "text": [
      "[CV 1/5] END criterion=absolute_error, learning_rate=0.3, n_estimators=500;, score=0.714 total time=   0.1s\n"
     ]
    },
    {
     "name": "stderr",
     "output_type": "stream",
     "text": [
      "C:\\Python310\\lib\\site-packages\\sklearn\\ensemble\\_gb.py:1284: FutureWarning: criterion='mae' was deprecated in version 0.24 and will be removed in version 1.1 (renaming of 0.26). Use criterion='friedman_mse' or 'squared_error' instead, as trees should use a squared error criterion in Gradient Boosting.\n",
      "  warnings.warn(\n"
     ]
    },
    {
     "name": "stdout",
     "output_type": "stream",
     "text": [
      "[CV 2/5] END criterion=absolute_error, learning_rate=0.3, n_estimators=500;, score=0.500 total time=   0.1s\n"
     ]
    },
    {
     "name": "stderr",
     "output_type": "stream",
     "text": [
      "C:\\Python310\\lib\\site-packages\\sklearn\\ensemble\\_gb.py:1284: FutureWarning: criterion='mae' was deprecated in version 0.24 and will be removed in version 1.1 (renaming of 0.26). Use criterion='friedman_mse' or 'squared_error' instead, as trees should use a squared error criterion in Gradient Boosting.\n",
      "  warnings.warn(\n"
     ]
    },
    {
     "name": "stdout",
     "output_type": "stream",
     "text": [
      "[CV 3/5] END criterion=absolute_error, learning_rate=0.3, n_estimators=500;, score=0.643 total time=   0.1s\n"
     ]
    },
    {
     "name": "stderr",
     "output_type": "stream",
     "text": [
      "C:\\Python310\\lib\\site-packages\\sklearn\\ensemble\\_gb.py:1284: FutureWarning: criterion='mae' was deprecated in version 0.24 and will be removed in version 1.1 (renaming of 0.26). Use criterion='friedman_mse' or 'squared_error' instead, as trees should use a squared error criterion in Gradient Boosting.\n",
      "  warnings.warn(\n"
     ]
    },
    {
     "name": "stdout",
     "output_type": "stream",
     "text": [
      "[CV 4/5] END criterion=absolute_error, learning_rate=0.3, n_estimators=500;, score=0.846 total time=   0.1s\n"
     ]
    },
    {
     "name": "stderr",
     "output_type": "stream",
     "text": [
      "C:\\Python310\\lib\\site-packages\\sklearn\\ensemble\\_gb.py:1284: FutureWarning: criterion='mae' was deprecated in version 0.24 and will be removed in version 1.1 (renaming of 0.26). Use criterion='friedman_mse' or 'squared_error' instead, as trees should use a squared error criterion in Gradient Boosting.\n",
      "  warnings.warn(\n"
     ]
    },
    {
     "name": "stdout",
     "output_type": "stream",
     "text": [
      "[CV 5/5] END criterion=absolute_error, learning_rate=0.3, n_estimators=500;, score=0.692 total time=   0.1s\n"
     ]
    },
    {
     "name": "stderr",
     "output_type": "stream",
     "text": [
      "C:\\Python310\\lib\\site-packages\\sklearn\\ensemble\\_gb.py:1284: FutureWarning: criterion='mae' was deprecated in version 0.24 and will be removed in version 1.1 (renaming of 0.26). Use criterion='friedman_mse' or 'squared_error' instead, as trees should use a squared error criterion in Gradient Boosting.\n",
      "  warnings.warn(\n"
     ]
    },
    {
     "name": "stdout",
     "output_type": "stream",
     "text": [
      "[CV 1/5] END criterion=absolute_error, learning_rate=0.3, n_estimators=1000;, score=0.643 total time=   0.3s\n"
     ]
    },
    {
     "name": "stderr",
     "output_type": "stream",
     "text": [
      "C:\\Python310\\lib\\site-packages\\sklearn\\ensemble\\_gb.py:1284: FutureWarning: criterion='mae' was deprecated in version 0.24 and will be removed in version 1.1 (renaming of 0.26). Use criterion='friedman_mse' or 'squared_error' instead, as trees should use a squared error criterion in Gradient Boosting.\n",
      "  warnings.warn(\n"
     ]
    },
    {
     "name": "stdout",
     "output_type": "stream",
     "text": [
      "[CV 2/5] END criterion=absolute_error, learning_rate=0.3, n_estimators=1000;, score=0.571 total time=   0.4s\n"
     ]
    },
    {
     "name": "stderr",
     "output_type": "stream",
     "text": [
      "C:\\Python310\\lib\\site-packages\\sklearn\\ensemble\\_gb.py:1284: FutureWarning: criterion='mae' was deprecated in version 0.24 and will be removed in version 1.1 (renaming of 0.26). Use criterion='friedman_mse' or 'squared_error' instead, as trees should use a squared error criterion in Gradient Boosting.\n",
      "  warnings.warn(\n"
     ]
    },
    {
     "name": "stdout",
     "output_type": "stream",
     "text": [
      "[CV 3/5] END criterion=absolute_error, learning_rate=0.3, n_estimators=1000;, score=0.643 total time=   0.4s\n"
     ]
    },
    {
     "name": "stderr",
     "output_type": "stream",
     "text": [
      "C:\\Python310\\lib\\site-packages\\sklearn\\ensemble\\_gb.py:1284: FutureWarning: criterion='mae' was deprecated in version 0.24 and will be removed in version 1.1 (renaming of 0.26). Use criterion='friedman_mse' or 'squared_error' instead, as trees should use a squared error criterion in Gradient Boosting.\n",
      "  warnings.warn(\n"
     ]
    },
    {
     "name": "stdout",
     "output_type": "stream",
     "text": [
      "[CV 4/5] END criterion=absolute_error, learning_rate=0.3, n_estimators=1000;, score=0.692 total time=   0.4s\n"
     ]
    },
    {
     "name": "stderr",
     "output_type": "stream",
     "text": [
      "C:\\Python310\\lib\\site-packages\\sklearn\\ensemble\\_gb.py:1284: FutureWarning: criterion='mae' was deprecated in version 0.24 and will be removed in version 1.1 (renaming of 0.26). Use criterion='friedman_mse' or 'squared_error' instead, as trees should use a squared error criterion in Gradient Boosting.\n",
      "  warnings.warn(\n"
     ]
    },
    {
     "name": "stdout",
     "output_type": "stream",
     "text": [
      "[CV 5/5] END criterion=absolute_error, learning_rate=0.3, n_estimators=1000;, score=0.615 total time=   0.4s\n",
      "[CV 1/5] END criterion=absolute_error, learning_rate=1, n_estimators=1;, score=0.643 total time=   0.0s\n",
      "[CV 2/5] END criterion=absolute_error, learning_rate=1, n_estimators=1;, score=0.500 total time=   0.0s\n",
      "[CV 3/5] END criterion=absolute_error, learning_rate=1, n_estimators=1;, score=0.714 total time=   0.0s\n",
      "[CV 4/5] END criterion=absolute_error, learning_rate=1, n_estimators=1;, score=0.769 total time=   0.0s\n",
      "[CV 5/5] END criterion=absolute_error, learning_rate=1, n_estimators=1;, score=0.769 total time=   0.0s\n",
      "[CV 1/5] END criterion=absolute_error, learning_rate=1, n_estimators=5;, score=0.643 total time=   0.0s\n",
      "[CV 2/5] END criterion=absolute_error, learning_rate=1, n_estimators=5;, score=0.500 total time=   0.0s\n",
      "[CV 3/5] END criterion=absolute_error, learning_rate=1, n_estimators=5;, score=0.643 total time=   0.0s\n",
      "[CV 4/5] END criterion=absolute_error, learning_rate=1, n_estimators=5;, score=0.692 total time=   0.0s\n",
      "[CV 5/5] END criterion=absolute_error, learning_rate=1, n_estimators=5;, score=0.769 total time=   0.0s\n",
      "[CV 1/5] END criterion=absolute_error, learning_rate=1, n_estimators=10;, score=0.643 total time=   0.0s\n",
      "[CV 2/5] END criterion=absolute_error, learning_rate=1, n_estimators=10;, score=0.714 total time=   0.0s\n",
      "[CV 3/5] END criterion=absolute_error, learning_rate=1, n_estimators=10;, score=0.714 total time=   0.0s\n",
      "[CV 4/5] END criterion=absolute_error, learning_rate=1, n_estimators=10;, score=0.769 total time=   0.0s\n",
      "[CV 5/5] END criterion=absolute_error, learning_rate=1, n_estimators=10;, score=0.769 total time=   0.0s\n",
      "[CV 1/5] END criterion=absolute_error, learning_rate=1, n_estimators=50;, score=0.643 total time=   0.0s\n",
      "[CV 2/5] END criterion=absolute_error, learning_rate=1, n_estimators=50;, score=0.500 total time=   0.0s\n",
      "[CV 3/5] END criterion=absolute_error, learning_rate=1, n_estimators=50;, score=0.714 total time=   0.0s\n",
      "[CV 4/5] END criterion=absolute_error, learning_rate=1, n_estimators=50;, score=0.769 total time=   0.0s\n",
      "[CV 5/5] END criterion=absolute_error, learning_rate=1, n_estimators=50;, score=0.769 total time=   0.0s\n"
     ]
    },
    {
     "name": "stderr",
     "output_type": "stream",
     "text": [
      "C:\\Python310\\lib\\site-packages\\sklearn\\ensemble\\_gb.py:1284: FutureWarning: criterion='mae' was deprecated in version 0.24 and will be removed in version 1.1 (renaming of 0.26). Use criterion='friedman_mse' or 'squared_error' instead, as trees should use a squared error criterion in Gradient Boosting.\n",
      "  warnings.warn(\n",
      "C:\\Python310\\lib\\site-packages\\sklearn\\ensemble\\_gb.py:1284: FutureWarning: criterion='mae' was deprecated in version 0.24 and will be removed in version 1.1 (renaming of 0.26). Use criterion='friedman_mse' or 'squared_error' instead, as trees should use a squared error criterion in Gradient Boosting.\n",
      "  warnings.warn(\n",
      "C:\\Python310\\lib\\site-packages\\sklearn\\ensemble\\_gb.py:1284: FutureWarning: criterion='mae' was deprecated in version 0.24 and will be removed in version 1.1 (renaming of 0.26). Use criterion='friedman_mse' or 'squared_error' instead, as trees should use a squared error criterion in Gradient Boosting.\n",
      "  warnings.warn(\n",
      "C:\\Python310\\lib\\site-packages\\sklearn\\ensemble\\_gb.py:1284: FutureWarning: criterion='mae' was deprecated in version 0.24 and will be removed in version 1.1 (renaming of 0.26). Use criterion='friedman_mse' or 'squared_error' instead, as trees should use a squared error criterion in Gradient Boosting.\n",
      "  warnings.warn(\n",
      "C:\\Python310\\lib\\site-packages\\sklearn\\ensemble\\_gb.py:1284: FutureWarning: criterion='mae' was deprecated in version 0.24 and will be removed in version 1.1 (renaming of 0.26). Use criterion='friedman_mse' or 'squared_error' instead, as trees should use a squared error criterion in Gradient Boosting.\n",
      "  warnings.warn(\n",
      "C:\\Python310\\lib\\site-packages\\sklearn\\ensemble\\_gb.py:1284: FutureWarning: criterion='mae' was deprecated in version 0.24 and will be removed in version 1.1 (renaming of 0.26). Use criterion='friedman_mse' or 'squared_error' instead, as trees should use a squared error criterion in Gradient Boosting.\n",
      "  warnings.warn(\n",
      "C:\\Python310\\lib\\site-packages\\sklearn\\ensemble\\_gb.py:1284: FutureWarning: criterion='mae' was deprecated in version 0.24 and will be removed in version 1.1 (renaming of 0.26). Use criterion='friedman_mse' or 'squared_error' instead, as trees should use a squared error criterion in Gradient Boosting.\n",
      "  warnings.warn(\n",
      "C:\\Python310\\lib\\site-packages\\sklearn\\ensemble\\_gb.py:1284: FutureWarning: criterion='mae' was deprecated in version 0.24 and will be removed in version 1.1 (renaming of 0.26). Use criterion='friedman_mse' or 'squared_error' instead, as trees should use a squared error criterion in Gradient Boosting.\n",
      "  warnings.warn(\n",
      "C:\\Python310\\lib\\site-packages\\sklearn\\ensemble\\_gb.py:1284: FutureWarning: criterion='mae' was deprecated in version 0.24 and will be removed in version 1.1 (renaming of 0.26). Use criterion='friedman_mse' or 'squared_error' instead, as trees should use a squared error criterion in Gradient Boosting.\n",
      "  warnings.warn(\n",
      "C:\\Python310\\lib\\site-packages\\sklearn\\ensemble\\_gb.py:1284: FutureWarning: criterion='mae' was deprecated in version 0.24 and will be removed in version 1.1 (renaming of 0.26). Use criterion='friedman_mse' or 'squared_error' instead, as trees should use a squared error criterion in Gradient Boosting.\n",
      "  warnings.warn(\n",
      "C:\\Python310\\lib\\site-packages\\sklearn\\ensemble\\_gb.py:1284: FutureWarning: criterion='mae' was deprecated in version 0.24 and will be removed in version 1.1 (renaming of 0.26). Use criterion='friedman_mse' or 'squared_error' instead, as trees should use a squared error criterion in Gradient Boosting.\n",
      "  warnings.warn(\n",
      "C:\\Python310\\lib\\site-packages\\sklearn\\ensemble\\_gb.py:1284: FutureWarning: criterion='mae' was deprecated in version 0.24 and will be removed in version 1.1 (renaming of 0.26). Use criterion='friedman_mse' or 'squared_error' instead, as trees should use a squared error criterion in Gradient Boosting.\n",
      "  warnings.warn(\n",
      "C:\\Python310\\lib\\site-packages\\sklearn\\ensemble\\_gb.py:1284: FutureWarning: criterion='mae' was deprecated in version 0.24 and will be removed in version 1.1 (renaming of 0.26). Use criterion='friedman_mse' or 'squared_error' instead, as trees should use a squared error criterion in Gradient Boosting.\n",
      "  warnings.warn(\n",
      "C:\\Python310\\lib\\site-packages\\sklearn\\ensemble\\_gb.py:1284: FutureWarning: criterion='mae' was deprecated in version 0.24 and will be removed in version 1.1 (renaming of 0.26). Use criterion='friedman_mse' or 'squared_error' instead, as trees should use a squared error criterion in Gradient Boosting.\n",
      "  warnings.warn(\n",
      "C:\\Python310\\lib\\site-packages\\sklearn\\ensemble\\_gb.py:1284: FutureWarning: criterion='mae' was deprecated in version 0.24 and will be removed in version 1.1 (renaming of 0.26). Use criterion='friedman_mse' or 'squared_error' instead, as trees should use a squared error criterion in Gradient Boosting.\n",
      "  warnings.warn(\n",
      "C:\\Python310\\lib\\site-packages\\sklearn\\ensemble\\_gb.py:1284: FutureWarning: criterion='mae' was deprecated in version 0.24 and will be removed in version 1.1 (renaming of 0.26). Use criterion='friedman_mse' or 'squared_error' instead, as trees should use a squared error criterion in Gradient Boosting.\n",
      "  warnings.warn(\n",
      "C:\\Python310\\lib\\site-packages\\sklearn\\ensemble\\_gb.py:1284: FutureWarning: criterion='mae' was deprecated in version 0.24 and will be removed in version 1.1 (renaming of 0.26). Use criterion='friedman_mse' or 'squared_error' instead, as trees should use a squared error criterion in Gradient Boosting.\n",
      "  warnings.warn(\n",
      "C:\\Python310\\lib\\site-packages\\sklearn\\ensemble\\_gb.py:1284: FutureWarning: criterion='mae' was deprecated in version 0.24 and will be removed in version 1.1 (renaming of 0.26). Use criterion='friedman_mse' or 'squared_error' instead, as trees should use a squared error criterion in Gradient Boosting.\n",
      "  warnings.warn(\n",
      "C:\\Python310\\lib\\site-packages\\sklearn\\ensemble\\_gb.py:1284: FutureWarning: criterion='mae' was deprecated in version 0.24 and will be removed in version 1.1 (renaming of 0.26). Use criterion='friedman_mse' or 'squared_error' instead, as trees should use a squared error criterion in Gradient Boosting.\n",
      "  warnings.warn(\n",
      "C:\\Python310\\lib\\site-packages\\sklearn\\ensemble\\_gb.py:1284: FutureWarning: criterion='mae' was deprecated in version 0.24 and will be removed in version 1.1 (renaming of 0.26). Use criterion='friedman_mse' or 'squared_error' instead, as trees should use a squared error criterion in Gradient Boosting.\n",
      "  warnings.warn(\n",
      "C:\\Python310\\lib\\site-packages\\sklearn\\ensemble\\_gb.py:1284: FutureWarning: criterion='mae' was deprecated in version 0.24 and will be removed in version 1.1 (renaming of 0.26). Use criterion='friedman_mse' or 'squared_error' instead, as trees should use a squared error criterion in Gradient Boosting.\n",
      "  warnings.warn(\n"
     ]
    },
    {
     "name": "stdout",
     "output_type": "stream",
     "text": [
      "[CV 1/5] END criterion=absolute_error, learning_rate=1, n_estimators=100;, score=0.643 total time=   0.0s\n",
      "[CV 2/5] END criterion=absolute_error, learning_rate=1, n_estimators=100;, score=0.500 total time=   0.0s\n",
      "[CV 3/5] END criterion=absolute_error, learning_rate=1, n_estimators=100;, score=0.500 total time=   0.0s\n",
      "[CV 4/5] END criterion=absolute_error, learning_rate=1, n_estimators=100;, score=0.692 total time=   0.0s\n",
      "[CV 5/5] END criterion=absolute_error, learning_rate=1, n_estimators=100;, score=0.769 total time=   0.0s\n"
     ]
    },
    {
     "name": "stderr",
     "output_type": "stream",
     "text": [
      "C:\\Python310\\lib\\site-packages\\sklearn\\ensemble\\_gb.py:1284: FutureWarning: criterion='mae' was deprecated in version 0.24 and will be removed in version 1.1 (renaming of 0.26). Use criterion='friedman_mse' or 'squared_error' instead, as trees should use a squared error criterion in Gradient Boosting.\n",
      "  warnings.warn(\n",
      "C:\\Python310\\lib\\site-packages\\sklearn\\ensemble\\_gb.py:1284: FutureWarning: criterion='mae' was deprecated in version 0.24 and will be removed in version 1.1 (renaming of 0.26). Use criterion='friedman_mse' or 'squared_error' instead, as trees should use a squared error criterion in Gradient Boosting.\n",
      "  warnings.warn(\n",
      "C:\\Python310\\lib\\site-packages\\sklearn\\ensemble\\_gb.py:1284: FutureWarning: criterion='mae' was deprecated in version 0.24 and will be removed in version 1.1 (renaming of 0.26). Use criterion='friedman_mse' or 'squared_error' instead, as trees should use a squared error criterion in Gradient Boosting.\n",
      "  warnings.warn(\n",
      "C:\\Python310\\lib\\site-packages\\sklearn\\ensemble\\_gb.py:1284: FutureWarning: criterion='mae' was deprecated in version 0.24 and will be removed in version 1.1 (renaming of 0.26). Use criterion='friedman_mse' or 'squared_error' instead, as trees should use a squared error criterion in Gradient Boosting.\n",
      "  warnings.warn(\n",
      "C:\\Python310\\lib\\site-packages\\sklearn\\ensemble\\_gb.py:1284: FutureWarning: criterion='mae' was deprecated in version 0.24 and will be removed in version 1.1 (renaming of 0.26). Use criterion='friedman_mse' or 'squared_error' instead, as trees should use a squared error criterion in Gradient Boosting.\n",
      "  warnings.warn(\n"
     ]
    },
    {
     "name": "stdout",
     "output_type": "stream",
     "text": [
      "[CV 1/5] END criterion=absolute_error, learning_rate=1, n_estimators=200;, score=0.643 total time=   0.0s\n",
      "[CV 2/5] END criterion=absolute_error, learning_rate=1, n_estimators=200;, score=0.500 total time=   0.0s\n",
      "[CV 3/5] END criterion=absolute_error, learning_rate=1, n_estimators=200;, score=0.786 total time=   0.0s\n"
     ]
    },
    {
     "name": "stderr",
     "output_type": "stream",
     "text": [
      "C:\\Python310\\lib\\site-packages\\sklearn\\ensemble\\_gb.py:1284: FutureWarning: criterion='mae' was deprecated in version 0.24 and will be removed in version 1.1 (renaming of 0.26). Use criterion='friedman_mse' or 'squared_error' instead, as trees should use a squared error criterion in Gradient Boosting.\n",
      "  warnings.warn(\n",
      "C:\\Python310\\lib\\site-packages\\sklearn\\ensemble\\_gb.py:1284: FutureWarning: criterion='mae' was deprecated in version 0.24 and will be removed in version 1.1 (renaming of 0.26). Use criterion='friedman_mse' or 'squared_error' instead, as trees should use a squared error criterion in Gradient Boosting.\n",
      "  warnings.warn(\n",
      "C:\\Python310\\lib\\site-packages\\sklearn\\ensemble\\_gb.py:1284: FutureWarning: criterion='mae' was deprecated in version 0.24 and will be removed in version 1.1 (renaming of 0.26). Use criterion='friedman_mse' or 'squared_error' instead, as trees should use a squared error criterion in Gradient Boosting.\n",
      "  warnings.warn(\n"
     ]
    },
    {
     "name": "stdout",
     "output_type": "stream",
     "text": [
      "[CV 4/5] END criterion=absolute_error, learning_rate=1, n_estimators=200;, score=0.769 total time=   0.0s\n",
      "[CV 5/5] END criterion=absolute_error, learning_rate=1, n_estimators=200;, score=0.692 total time=   0.0s\n"
     ]
    },
    {
     "name": "stderr",
     "output_type": "stream",
     "text": [
      "C:\\Python310\\lib\\site-packages\\sklearn\\ensemble\\_gb.py:1284: FutureWarning: criterion='mae' was deprecated in version 0.24 and will be removed in version 1.1 (renaming of 0.26). Use criterion='friedman_mse' or 'squared_error' instead, as trees should use a squared error criterion in Gradient Boosting.\n",
      "  warnings.warn(\n",
      "C:\\Python310\\lib\\site-packages\\sklearn\\ensemble\\_gb.py:1284: FutureWarning: criterion='mae' was deprecated in version 0.24 and will be removed in version 1.1 (renaming of 0.26). Use criterion='friedman_mse' or 'squared_error' instead, as trees should use a squared error criterion in Gradient Boosting.\n",
      "  warnings.warn(\n"
     ]
    },
    {
     "name": "stdout",
     "output_type": "stream",
     "text": [
      "[CV 1/5] END criterion=absolute_error, learning_rate=1, n_estimators=300;, score=0.714 total time=   0.0s\n",
      "[CV 2/5] END criterion=absolute_error, learning_rate=1, n_estimators=300;, score=0.571 total time=   0.0s\n"
     ]
    },
    {
     "name": "stderr",
     "output_type": "stream",
     "text": [
      "C:\\Python310\\lib\\site-packages\\sklearn\\ensemble\\_gb.py:1284: FutureWarning: criterion='mae' was deprecated in version 0.24 and will be removed in version 1.1 (renaming of 0.26). Use criterion='friedman_mse' or 'squared_error' instead, as trees should use a squared error criterion in Gradient Boosting.\n",
      "  warnings.warn(\n",
      "C:\\Python310\\lib\\site-packages\\sklearn\\ensemble\\_gb.py:1284: FutureWarning: criterion='mae' was deprecated in version 0.24 and will be removed in version 1.1 (renaming of 0.26). Use criterion='friedman_mse' or 'squared_error' instead, as trees should use a squared error criterion in Gradient Boosting.\n",
      "  warnings.warn(\n"
     ]
    },
    {
     "name": "stdout",
     "output_type": "stream",
     "text": [
      "[CV 3/5] END criterion=absolute_error, learning_rate=1, n_estimators=300;, score=0.500 total time=   0.0s\n",
      "[CV 4/5] END criterion=absolute_error, learning_rate=1, n_estimators=300;, score=0.769 total time=   0.0s\n"
     ]
    },
    {
     "name": "stderr",
     "output_type": "stream",
     "text": [
      "C:\\Python310\\lib\\site-packages\\sklearn\\ensemble\\_gb.py:1284: FutureWarning: criterion='mae' was deprecated in version 0.24 and will be removed in version 1.1 (renaming of 0.26). Use criterion='friedman_mse' or 'squared_error' instead, as trees should use a squared error criterion in Gradient Boosting.\n",
      "  warnings.warn(\n",
      "C:\\Python310\\lib\\site-packages\\sklearn\\ensemble\\_gb.py:1284: FutureWarning: criterion='mae' was deprecated in version 0.24 and will be removed in version 1.1 (renaming of 0.26). Use criterion='friedman_mse' or 'squared_error' instead, as trees should use a squared error criterion in Gradient Boosting.\n",
      "  warnings.warn(\n"
     ]
    },
    {
     "name": "stdout",
     "output_type": "stream",
     "text": [
      "[CV 5/5] END criterion=absolute_error, learning_rate=1, n_estimators=300;, score=0.692 total time=   0.0s\n"
     ]
    },
    {
     "name": "stderr",
     "output_type": "stream",
     "text": [
      "C:\\Python310\\lib\\site-packages\\sklearn\\ensemble\\_gb.py:1284: FutureWarning: criterion='mae' was deprecated in version 0.24 and will be removed in version 1.1 (renaming of 0.26). Use criterion='friedman_mse' or 'squared_error' instead, as trees should use a squared error criterion in Gradient Boosting.\n",
      "  warnings.warn(\n"
     ]
    },
    {
     "name": "stdout",
     "output_type": "stream",
     "text": [
      "[CV 1/5] END criterion=absolute_error, learning_rate=1, n_estimators=500;, score=0.643 total time=   0.1s\n",
      "[CV 2/5] END criterion=absolute_error, learning_rate=1, n_estimators=500;, score=0.714 total time=   0.1s\n"
     ]
    },
    {
     "name": "stderr",
     "output_type": "stream",
     "text": [
      "C:\\Python310\\lib\\site-packages\\sklearn\\ensemble\\_gb.py:1284: FutureWarning: criterion='mae' was deprecated in version 0.24 and will be removed in version 1.1 (renaming of 0.26). Use criterion='friedman_mse' or 'squared_error' instead, as trees should use a squared error criterion in Gradient Boosting.\n",
      "  warnings.warn(\n",
      "C:\\Python310\\lib\\site-packages\\sklearn\\ensemble\\_gb.py:1284: FutureWarning: criterion='mae' was deprecated in version 0.24 and will be removed in version 1.1 (renaming of 0.26). Use criterion='friedman_mse' or 'squared_error' instead, as trees should use a squared error criterion in Gradient Boosting.\n",
      "  warnings.warn(\n"
     ]
    },
    {
     "name": "stdout",
     "output_type": "stream",
     "text": [
      "[CV 3/5] END criterion=absolute_error, learning_rate=1, n_estimators=500;, score=0.571 total time=   0.1s\n"
     ]
    },
    {
     "name": "stderr",
     "output_type": "stream",
     "text": [
      "C:\\Python310\\lib\\site-packages\\sklearn\\ensemble\\_gb.py:1284: FutureWarning: criterion='mae' was deprecated in version 0.24 and will be removed in version 1.1 (renaming of 0.26). Use criterion='friedman_mse' or 'squared_error' instead, as trees should use a squared error criterion in Gradient Boosting.\n",
      "  warnings.warn(\n"
     ]
    },
    {
     "name": "stdout",
     "output_type": "stream",
     "text": [
      "[CV 4/5] END criterion=absolute_error, learning_rate=1, n_estimators=500;, score=0.769 total time=   0.1s\n"
     ]
    },
    {
     "name": "stderr",
     "output_type": "stream",
     "text": [
      "C:\\Python310\\lib\\site-packages\\sklearn\\ensemble\\_gb.py:1284: FutureWarning: criterion='mae' was deprecated in version 0.24 and will be removed in version 1.1 (renaming of 0.26). Use criterion='friedman_mse' or 'squared_error' instead, as trees should use a squared error criterion in Gradient Boosting.\n",
      "  warnings.warn(\n"
     ]
    },
    {
     "name": "stdout",
     "output_type": "stream",
     "text": [
      "[CV 5/5] END criterion=absolute_error, learning_rate=1, n_estimators=500;, score=0.692 total time=   0.1s\n"
     ]
    },
    {
     "name": "stderr",
     "output_type": "stream",
     "text": [
      "C:\\Python310\\lib\\site-packages\\sklearn\\ensemble\\_gb.py:1284: FutureWarning: criterion='mae' was deprecated in version 0.24 and will be removed in version 1.1 (renaming of 0.26). Use criterion='friedman_mse' or 'squared_error' instead, as trees should use a squared error criterion in Gradient Boosting.\n",
      "  warnings.warn(\n"
     ]
    },
    {
     "name": "stdout",
     "output_type": "stream",
     "text": [
      "[CV 1/5] END criterion=absolute_error, learning_rate=1, n_estimators=1000;, score=0.643 total time=   0.3s\n"
     ]
    },
    {
     "name": "stderr",
     "output_type": "stream",
     "text": [
      "C:\\Python310\\lib\\site-packages\\sklearn\\ensemble\\_gb.py:1284: FutureWarning: criterion='mae' was deprecated in version 0.24 and will be removed in version 1.1 (renaming of 0.26). Use criterion='friedman_mse' or 'squared_error' instead, as trees should use a squared error criterion in Gradient Boosting.\n",
      "  warnings.warn(\n"
     ]
    },
    {
     "name": "stdout",
     "output_type": "stream",
     "text": [
      "[CV 2/5] END criterion=absolute_error, learning_rate=1, n_estimators=1000;, score=0.500 total time=   0.3s\n"
     ]
    },
    {
     "name": "stderr",
     "output_type": "stream",
     "text": [
      "C:\\Python310\\lib\\site-packages\\sklearn\\ensemble\\_gb.py:1284: FutureWarning: criterion='mae' was deprecated in version 0.24 and will be removed in version 1.1 (renaming of 0.26). Use criterion='friedman_mse' or 'squared_error' instead, as trees should use a squared error criterion in Gradient Boosting.\n",
      "  warnings.warn(\n"
     ]
    },
    {
     "name": "stdout",
     "output_type": "stream",
     "text": [
      "[CV 3/5] END criterion=absolute_error, learning_rate=1, n_estimators=1000;, score=0.571 total time=   0.4s\n"
     ]
    },
    {
     "name": "stderr",
     "output_type": "stream",
     "text": [
      "C:\\Python310\\lib\\site-packages\\sklearn\\ensemble\\_gb.py:1284: FutureWarning: criterion='mae' was deprecated in version 0.24 and will be removed in version 1.1 (renaming of 0.26). Use criterion='friedman_mse' or 'squared_error' instead, as trees should use a squared error criterion in Gradient Boosting.\n",
      "  warnings.warn(\n"
     ]
    },
    {
     "name": "stdout",
     "output_type": "stream",
     "text": [
      "[CV 4/5] END criterion=absolute_error, learning_rate=1, n_estimators=1000;, score=0.769 total time=   0.3s\n"
     ]
    },
    {
     "name": "stderr",
     "output_type": "stream",
     "text": [
      "C:\\Python310\\lib\\site-packages\\sklearn\\ensemble\\_gb.py:1284: FutureWarning: criterion='mae' was deprecated in version 0.24 and will be removed in version 1.1 (renaming of 0.26). Use criterion='friedman_mse' or 'squared_error' instead, as trees should use a squared error criterion in Gradient Boosting.\n",
      "  warnings.warn(\n"
     ]
    },
    {
     "name": "stdout",
     "output_type": "stream",
     "text": [
      "[CV 5/5] END criterion=absolute_error, learning_rate=1, n_estimators=1000;, score=0.769 total time=   0.4s\n",
      "[CV 1/5] END criterion=absolute_error, learning_rate=3, n_estimators=1;, score=0.643 total time=   0.0s\n",
      "[CV 2/5] END criterion=absolute_error, learning_rate=3, n_estimators=1;, score=0.500 total time=   0.0s\n",
      "[CV 3/5] END criterion=absolute_error, learning_rate=3, n_estimators=1;, score=0.786 total time=   0.0s\n",
      "[CV 4/5] END criterion=absolute_error, learning_rate=3, n_estimators=1;, score=0.769 total time=   0.0s\n",
      "[CV 5/5] END criterion=absolute_error, learning_rate=3, n_estimators=1;, score=0.769 total time=   0.0s\n",
      "[CV 1/5] END criterion=absolute_error, learning_rate=3, n_estimators=5;, score=0.643 total time=   0.0s\n",
      "[CV 2/5] END criterion=absolute_error, learning_rate=3, n_estimators=5;, score=0.500 total time=   0.0s\n",
      "[CV 3/5] END criterion=absolute_error, learning_rate=3, n_estimators=5;, score=0.571 total time=   0.0s\n",
      "[CV 4/5] END criterion=absolute_error, learning_rate=3, n_estimators=5;, score=0.615 total time=   0.0s\n",
      "[CV 5/5] END criterion=absolute_error, learning_rate=3, n_estimators=5;, score=0.692 total time=   0.0s\n",
      "[CV 1/5] END criterion=absolute_error, learning_rate=3, n_estimators=10;, score=0.500 total time=   0.0s\n",
      "[CV 2/5] END criterion=absolute_error, learning_rate=3, n_estimators=10;, score=0.429 total time=   0.0s\n",
      "[CV 3/5] END criterion=absolute_error, learning_rate=3, n_estimators=10;, score=0.571 total time=   0.0s\n",
      "[CV 4/5] END criterion=absolute_error, learning_rate=3, n_estimators=10;, score=0.615 total time=   0.0s\n",
      "[CV 5/5] END criterion=absolute_error, learning_rate=3, n_estimators=10;, score=0.385 total time=   0.0s\n",
      "[CV 1/5] END criterion=absolute_error, learning_rate=3, n_estimators=50;, score=0.643 total time=   0.0s\n",
      "[CV 2/5] END criterion=absolute_error, learning_rate=3, n_estimators=50;, score=0.429 total time=   0.0s\n",
      "[CV 3/5] END criterion=absolute_error, learning_rate=3, n_estimators=50;, score=0.571 total time=   0.0s\n",
      "[CV 4/5] END criterion=absolute_error, learning_rate=3, n_estimators=50;, score=0.538 total time=   0.0s\n",
      "[CV 5/5] END criterion=absolute_error, learning_rate=3, n_estimators=50;, score=0.692 total time=   0.0s\n"
     ]
    },
    {
     "name": "stderr",
     "output_type": "stream",
     "text": [
      "C:\\Python310\\lib\\site-packages\\sklearn\\ensemble\\_gb.py:1284: FutureWarning: criterion='mae' was deprecated in version 0.24 and will be removed in version 1.1 (renaming of 0.26). Use criterion='friedman_mse' or 'squared_error' instead, as trees should use a squared error criterion in Gradient Boosting.\n",
      "  warnings.warn(\n",
      "C:\\Python310\\lib\\site-packages\\sklearn\\ensemble\\_gb.py:1284: FutureWarning: criterion='mae' was deprecated in version 0.24 and will be removed in version 1.1 (renaming of 0.26). Use criterion='friedman_mse' or 'squared_error' instead, as trees should use a squared error criterion in Gradient Boosting.\n",
      "  warnings.warn(\n",
      "C:\\Python310\\lib\\site-packages\\sklearn\\ensemble\\_gb.py:1284: FutureWarning: criterion='mae' was deprecated in version 0.24 and will be removed in version 1.1 (renaming of 0.26). Use criterion='friedman_mse' or 'squared_error' instead, as trees should use a squared error criterion in Gradient Boosting.\n",
      "  warnings.warn(\n",
      "C:\\Python310\\lib\\site-packages\\sklearn\\ensemble\\_gb.py:1284: FutureWarning: criterion='mae' was deprecated in version 0.24 and will be removed in version 1.1 (renaming of 0.26). Use criterion='friedman_mse' or 'squared_error' instead, as trees should use a squared error criterion in Gradient Boosting.\n",
      "  warnings.warn(\n",
      "C:\\Python310\\lib\\site-packages\\sklearn\\ensemble\\_gb.py:1284: FutureWarning: criterion='mae' was deprecated in version 0.24 and will be removed in version 1.1 (renaming of 0.26). Use criterion='friedman_mse' or 'squared_error' instead, as trees should use a squared error criterion in Gradient Boosting.\n",
      "  warnings.warn(\n",
      "C:\\Python310\\lib\\site-packages\\sklearn\\ensemble\\_gb.py:1284: FutureWarning: criterion='mae' was deprecated in version 0.24 and will be removed in version 1.1 (renaming of 0.26). Use criterion='friedman_mse' or 'squared_error' instead, as trees should use a squared error criterion in Gradient Boosting.\n",
      "  warnings.warn(\n",
      "C:\\Python310\\lib\\site-packages\\sklearn\\ensemble\\_gb.py:1284: FutureWarning: criterion='mae' was deprecated in version 0.24 and will be removed in version 1.1 (renaming of 0.26). Use criterion='friedman_mse' or 'squared_error' instead, as trees should use a squared error criterion in Gradient Boosting.\n",
      "  warnings.warn(\n",
      "C:\\Python310\\lib\\site-packages\\sklearn\\ensemble\\_gb.py:1284: FutureWarning: criterion='mae' was deprecated in version 0.24 and will be removed in version 1.1 (renaming of 0.26). Use criterion='friedman_mse' or 'squared_error' instead, as trees should use a squared error criterion in Gradient Boosting.\n",
      "  warnings.warn(\n",
      "C:\\Python310\\lib\\site-packages\\sklearn\\ensemble\\_gb.py:1284: FutureWarning: criterion='mae' was deprecated in version 0.24 and will be removed in version 1.1 (renaming of 0.26). Use criterion='friedman_mse' or 'squared_error' instead, as trees should use a squared error criterion in Gradient Boosting.\n",
      "  warnings.warn(\n",
      "C:\\Python310\\lib\\site-packages\\sklearn\\ensemble\\_gb.py:1284: FutureWarning: criterion='mae' was deprecated in version 0.24 and will be removed in version 1.1 (renaming of 0.26). Use criterion='friedman_mse' or 'squared_error' instead, as trees should use a squared error criterion in Gradient Boosting.\n",
      "  warnings.warn(\n",
      "C:\\Python310\\lib\\site-packages\\sklearn\\ensemble\\_gb.py:1284: FutureWarning: criterion='mae' was deprecated in version 0.24 and will be removed in version 1.1 (renaming of 0.26). Use criterion='friedman_mse' or 'squared_error' instead, as trees should use a squared error criterion in Gradient Boosting.\n",
      "  warnings.warn(\n",
      "C:\\Python310\\lib\\site-packages\\sklearn\\ensemble\\_gb.py:1284: FutureWarning: criterion='mae' was deprecated in version 0.24 and will be removed in version 1.1 (renaming of 0.26). Use criterion='friedman_mse' or 'squared_error' instead, as trees should use a squared error criterion in Gradient Boosting.\n",
      "  warnings.warn(\n",
      "C:\\Python310\\lib\\site-packages\\sklearn\\ensemble\\_gb.py:1284: FutureWarning: criterion='mae' was deprecated in version 0.24 and will be removed in version 1.1 (renaming of 0.26). Use criterion='friedman_mse' or 'squared_error' instead, as trees should use a squared error criterion in Gradient Boosting.\n",
      "  warnings.warn(\n",
      "C:\\Python310\\lib\\site-packages\\sklearn\\ensemble\\_gb.py:1284: FutureWarning: criterion='mae' was deprecated in version 0.24 and will be removed in version 1.1 (renaming of 0.26). Use criterion='friedman_mse' or 'squared_error' instead, as trees should use a squared error criterion in Gradient Boosting.\n",
      "  warnings.warn(\n",
      "C:\\Python310\\lib\\site-packages\\sklearn\\ensemble\\_gb.py:1284: FutureWarning: criterion='mae' was deprecated in version 0.24 and will be removed in version 1.1 (renaming of 0.26). Use criterion='friedman_mse' or 'squared_error' instead, as trees should use a squared error criterion in Gradient Boosting.\n",
      "  warnings.warn(\n",
      "C:\\Python310\\lib\\site-packages\\sklearn\\ensemble\\_gb.py:1284: FutureWarning: criterion='mae' was deprecated in version 0.24 and will be removed in version 1.1 (renaming of 0.26). Use criterion='friedman_mse' or 'squared_error' instead, as trees should use a squared error criterion in Gradient Boosting.\n",
      "  warnings.warn(\n",
      "C:\\Python310\\lib\\site-packages\\sklearn\\ensemble\\_gb.py:1284: FutureWarning: criterion='mae' was deprecated in version 0.24 and will be removed in version 1.1 (renaming of 0.26). Use criterion='friedman_mse' or 'squared_error' instead, as trees should use a squared error criterion in Gradient Boosting.\n",
      "  warnings.warn(\n",
      "C:\\Python310\\lib\\site-packages\\sklearn\\ensemble\\_gb.py:1284: FutureWarning: criterion='mae' was deprecated in version 0.24 and will be removed in version 1.1 (renaming of 0.26). Use criterion='friedman_mse' or 'squared_error' instead, as trees should use a squared error criterion in Gradient Boosting.\n",
      "  warnings.warn(\n",
      "C:\\Python310\\lib\\site-packages\\sklearn\\ensemble\\_gb.py:1284: FutureWarning: criterion='mae' was deprecated in version 0.24 and will be removed in version 1.1 (renaming of 0.26). Use criterion='friedman_mse' or 'squared_error' instead, as trees should use a squared error criterion in Gradient Boosting.\n",
      "  warnings.warn(\n",
      "C:\\Python310\\lib\\site-packages\\sklearn\\ensemble\\_gb.py:1284: FutureWarning: criterion='mae' was deprecated in version 0.24 and will be removed in version 1.1 (renaming of 0.26). Use criterion='friedman_mse' or 'squared_error' instead, as trees should use a squared error criterion in Gradient Boosting.\n",
      "  warnings.warn(\n",
      "C:\\Python310\\lib\\site-packages\\sklearn\\ensemble\\_gb.py:1284: FutureWarning: criterion='mae' was deprecated in version 0.24 and will be removed in version 1.1 (renaming of 0.26). Use criterion='friedman_mse' or 'squared_error' instead, as trees should use a squared error criterion in Gradient Boosting.\n",
      "  warnings.warn(\n"
     ]
    },
    {
     "name": "stdout",
     "output_type": "stream",
     "text": [
      "[CV 1/5] END criterion=absolute_error, learning_rate=3, n_estimators=100;, score=0.500 total time=   0.0s\n",
      "[CV 2/5] END criterion=absolute_error, learning_rate=3, n_estimators=100;, score=0.643 total time=   0.0s\n",
      "[CV 3/5] END criterion=absolute_error, learning_rate=3, n_estimators=100;, score=0.357 total time=   0.0s\n",
      "[CV 4/5] END criterion=absolute_error, learning_rate=3, n_estimators=100;, score=0.308 total time=   0.0s\n",
      "[CV 5/5] END criterion=absolute_error, learning_rate=3, n_estimators=100;, score=0.538 total time=   0.0s\n"
     ]
    },
    {
     "name": "stderr",
     "output_type": "stream",
     "text": [
      "C:\\Python310\\lib\\site-packages\\sklearn\\ensemble\\_gb.py:1284: FutureWarning: criterion='mae' was deprecated in version 0.24 and will be removed in version 1.1 (renaming of 0.26). Use criterion='friedman_mse' or 'squared_error' instead, as trees should use a squared error criterion in Gradient Boosting.\n",
      "  warnings.warn(\n",
      "C:\\Python310\\lib\\site-packages\\sklearn\\ensemble\\_gb.py:1284: FutureWarning: criterion='mae' was deprecated in version 0.24 and will be removed in version 1.1 (renaming of 0.26). Use criterion='friedman_mse' or 'squared_error' instead, as trees should use a squared error criterion in Gradient Boosting.\n",
      "  warnings.warn(\n",
      "C:\\Python310\\lib\\site-packages\\sklearn\\ensemble\\_gb.py:1284: FutureWarning: criterion='mae' was deprecated in version 0.24 and will be removed in version 1.1 (renaming of 0.26). Use criterion='friedman_mse' or 'squared_error' instead, as trees should use a squared error criterion in Gradient Boosting.\n",
      "  warnings.warn(\n",
      "C:\\Python310\\lib\\site-packages\\sklearn\\ensemble\\_gb.py:1284: FutureWarning: criterion='mae' was deprecated in version 0.24 and will be removed in version 1.1 (renaming of 0.26). Use criterion='friedman_mse' or 'squared_error' instead, as trees should use a squared error criterion in Gradient Boosting.\n",
      "  warnings.warn(\n",
      "C:\\Python310\\lib\\site-packages\\sklearn\\ensemble\\_gb.py:1284: FutureWarning: criterion='mae' was deprecated in version 0.24 and will be removed in version 1.1 (renaming of 0.26). Use criterion='friedman_mse' or 'squared_error' instead, as trees should use a squared error criterion in Gradient Boosting.\n",
      "  warnings.warn(\n"
     ]
    },
    {
     "name": "stdout",
     "output_type": "stream",
     "text": [
      "[CV 1/5] END criterion=absolute_error, learning_rate=3, n_estimators=200;, score=0.357 total time=   0.0s\n",
      "[CV 2/5] END criterion=absolute_error, learning_rate=3, n_estimators=200;, score=0.286 total time=   0.0s\n",
      "[CV 3/5] END criterion=absolute_error, learning_rate=3, n_estimators=200;, score=0.357 total time=   0.0s\n"
     ]
    },
    {
     "name": "stderr",
     "output_type": "stream",
     "text": [
      "C:\\Python310\\lib\\site-packages\\sklearn\\ensemble\\_gb.py:1284: FutureWarning: criterion='mae' was deprecated in version 0.24 and will be removed in version 1.1 (renaming of 0.26). Use criterion='friedman_mse' or 'squared_error' instead, as trees should use a squared error criterion in Gradient Boosting.\n",
      "  warnings.warn(\n",
      "C:\\Python310\\lib\\site-packages\\sklearn\\ensemble\\_gb.py:1284: FutureWarning: criterion='mae' was deprecated in version 0.24 and will be removed in version 1.1 (renaming of 0.26). Use criterion='friedman_mse' or 'squared_error' instead, as trees should use a squared error criterion in Gradient Boosting.\n",
      "  warnings.warn(\n",
      "C:\\Python310\\lib\\site-packages\\sklearn\\ensemble\\_gb.py:1284: FutureWarning: criterion='mae' was deprecated in version 0.24 and will be removed in version 1.1 (renaming of 0.26). Use criterion='friedman_mse' or 'squared_error' instead, as trees should use a squared error criterion in Gradient Boosting.\n",
      "  warnings.warn(\n"
     ]
    },
    {
     "name": "stdout",
     "output_type": "stream",
     "text": [
      "[CV 4/5] END criterion=absolute_error, learning_rate=3, n_estimators=200;, score=0.538 total time=   0.0s\n",
      "[CV 5/5] END criterion=absolute_error, learning_rate=3, n_estimators=200;, score=0.385 total time=   0.0s\n"
     ]
    },
    {
     "name": "stderr",
     "output_type": "stream",
     "text": [
      "C:\\Python310\\lib\\site-packages\\sklearn\\ensemble\\_gb.py:1284: FutureWarning: criterion='mae' was deprecated in version 0.24 and will be removed in version 1.1 (renaming of 0.26). Use criterion='friedman_mse' or 'squared_error' instead, as trees should use a squared error criterion in Gradient Boosting.\n",
      "  warnings.warn(\n",
      "C:\\Python310\\lib\\site-packages\\sklearn\\ensemble\\_gb.py:1284: FutureWarning: criterion='mae' was deprecated in version 0.24 and will be removed in version 1.1 (renaming of 0.26). Use criterion='friedman_mse' or 'squared_error' instead, as trees should use a squared error criterion in Gradient Boosting.\n",
      "  warnings.warn(\n"
     ]
    },
    {
     "name": "stdout",
     "output_type": "stream",
     "text": [
      "[CV 1/5] END criterion=absolute_error, learning_rate=3, n_estimators=300;, score=0.357 total time=   0.0s\n",
      "[CV 2/5] END criterion=absolute_error, learning_rate=3, n_estimators=300;, score=0.571 total time=   0.0s\n"
     ]
    },
    {
     "name": "stderr",
     "output_type": "stream",
     "text": [
      "C:\\Python310\\lib\\site-packages\\sklearn\\ensemble\\_gb.py:1284: FutureWarning: criterion='mae' was deprecated in version 0.24 and will be removed in version 1.1 (renaming of 0.26). Use criterion='friedman_mse' or 'squared_error' instead, as trees should use a squared error criterion in Gradient Boosting.\n",
      "  warnings.warn(\n",
      "C:\\Python310\\lib\\site-packages\\sklearn\\ensemble\\_gb.py:1284: FutureWarning: criterion='mae' was deprecated in version 0.24 and will be removed in version 1.1 (renaming of 0.26). Use criterion='friedman_mse' or 'squared_error' instead, as trees should use a squared error criterion in Gradient Boosting.\n",
      "  warnings.warn(\n"
     ]
    },
    {
     "name": "stdout",
     "output_type": "stream",
     "text": [
      "[CV 3/5] END criterion=absolute_error, learning_rate=3, n_estimators=300;, score=0.286 total time=   0.0s\n",
      "[CV 4/5] END criterion=absolute_error, learning_rate=3, n_estimators=300;, score=0.231 total time=   0.0s\n"
     ]
    },
    {
     "name": "stderr",
     "output_type": "stream",
     "text": [
      "C:\\Python310\\lib\\site-packages\\sklearn\\ensemble\\_gb.py:1284: FutureWarning: criterion='mae' was deprecated in version 0.24 and will be removed in version 1.1 (renaming of 0.26). Use criterion='friedman_mse' or 'squared_error' instead, as trees should use a squared error criterion in Gradient Boosting.\n",
      "  warnings.warn(\n",
      "C:\\Python310\\lib\\site-packages\\sklearn\\ensemble\\_gb.py:1284: FutureWarning: criterion='mae' was deprecated in version 0.24 and will be removed in version 1.1 (renaming of 0.26). Use criterion='friedman_mse' or 'squared_error' instead, as trees should use a squared error criterion in Gradient Boosting.\n",
      "  warnings.warn(\n"
     ]
    },
    {
     "name": "stdout",
     "output_type": "stream",
     "text": [
      "[CV 5/5] END criterion=absolute_error, learning_rate=3, n_estimators=300;, score=0.385 total time=   0.0s\n"
     ]
    },
    {
     "name": "stderr",
     "output_type": "stream",
     "text": [
      "C:\\Python310\\lib\\site-packages\\sklearn\\ensemble\\_gb.py:1284: FutureWarning: criterion='mae' was deprecated in version 0.24 and will be removed in version 1.1 (renaming of 0.26). Use criterion='friedman_mse' or 'squared_error' instead, as trees should use a squared error criterion in Gradient Boosting.\n",
      "  warnings.warn(\n"
     ]
    },
    {
     "name": "stdout",
     "output_type": "stream",
     "text": [
      "[CV 1/5] END criterion=absolute_error, learning_rate=3, n_estimators=500;, score=0.429 total time=   0.1s\n"
     ]
    },
    {
     "name": "stderr",
     "output_type": "stream",
     "text": [
      "C:\\Python310\\lib\\site-packages\\sklearn\\ensemble\\_gb.py:1284: FutureWarning: criterion='mae' was deprecated in version 0.24 and will be removed in version 1.1 (renaming of 0.26). Use criterion='friedman_mse' or 'squared_error' instead, as trees should use a squared error criterion in Gradient Boosting.\n",
      "  warnings.warn(\n"
     ]
    },
    {
     "name": "stdout",
     "output_type": "stream",
     "text": [
      "[CV 2/5] END criterion=absolute_error, learning_rate=3, n_estimators=500;, score=0.643 total time=   0.1s\n"
     ]
    },
    {
     "name": "stderr",
     "output_type": "stream",
     "text": [
      "C:\\Python310\\lib\\site-packages\\sklearn\\ensemble\\_gb.py:1284: FutureWarning: criterion='mae' was deprecated in version 0.24 and will be removed in version 1.1 (renaming of 0.26). Use criterion='friedman_mse' or 'squared_error' instead, as trees should use a squared error criterion in Gradient Boosting.\n",
      "  warnings.warn(\n"
     ]
    },
    {
     "name": "stdout",
     "output_type": "stream",
     "text": [
      "[CV 3/5] END criterion=absolute_error, learning_rate=3, n_estimators=500;, score=0.500 total time=   0.1s\n"
     ]
    },
    {
     "name": "stderr",
     "output_type": "stream",
     "text": [
      "C:\\Python310\\lib\\site-packages\\sklearn\\ensemble\\_gb.py:1284: FutureWarning: criterion='mae' was deprecated in version 0.24 and will be removed in version 1.1 (renaming of 0.26). Use criterion='friedman_mse' or 'squared_error' instead, as trees should use a squared error criterion in Gradient Boosting.\n",
      "  warnings.warn(\n"
     ]
    },
    {
     "name": "stdout",
     "output_type": "stream",
     "text": [
      "[CV 4/5] END criterion=absolute_error, learning_rate=3, n_estimators=500;, score=0.462 total time=   0.1s\n"
     ]
    },
    {
     "name": "stderr",
     "output_type": "stream",
     "text": [
      "C:\\Python310\\lib\\site-packages\\sklearn\\ensemble\\_gb.py:1284: FutureWarning: criterion='mae' was deprecated in version 0.24 and will be removed in version 1.1 (renaming of 0.26). Use criterion='friedman_mse' or 'squared_error' instead, as trees should use a squared error criterion in Gradient Boosting.\n",
      "  warnings.warn(\n"
     ]
    },
    {
     "name": "stdout",
     "output_type": "stream",
     "text": [
      "[CV 5/5] END criterion=absolute_error, learning_rate=3, n_estimators=500;, score=0.462 total time=   0.1s\n"
     ]
    },
    {
     "name": "stderr",
     "output_type": "stream",
     "text": [
      "C:\\Python310\\lib\\site-packages\\sklearn\\ensemble\\_gb.py:1284: FutureWarning: criterion='mae' was deprecated in version 0.24 and will be removed in version 1.1 (renaming of 0.26). Use criterion='friedman_mse' or 'squared_error' instead, as trees should use a squared error criterion in Gradient Boosting.\n",
      "  warnings.warn(\n"
     ]
    },
    {
     "name": "stdout",
     "output_type": "stream",
     "text": [
      "[CV 1/5] END criterion=absolute_error, learning_rate=3, n_estimators=1000;, score=0.429 total time=   0.4s\n"
     ]
    },
    {
     "name": "stderr",
     "output_type": "stream",
     "text": [
      "C:\\Python310\\lib\\site-packages\\sklearn\\ensemble\\_gb.py:1284: FutureWarning: criterion='mae' was deprecated in version 0.24 and will be removed in version 1.1 (renaming of 0.26). Use criterion='friedman_mse' or 'squared_error' instead, as trees should use a squared error criterion in Gradient Boosting.\n",
      "  warnings.warn(\n"
     ]
    },
    {
     "name": "stdout",
     "output_type": "stream",
     "text": [
      "[CV 2/5] END criterion=absolute_error, learning_rate=3, n_estimators=1000;, score=0.571 total time=   0.4s\n"
     ]
    },
    {
     "name": "stderr",
     "output_type": "stream",
     "text": [
      "C:\\Python310\\lib\\site-packages\\sklearn\\ensemble\\_gb.py:1284: FutureWarning: criterion='mae' was deprecated in version 0.24 and will be removed in version 1.1 (renaming of 0.26). Use criterion='friedman_mse' or 'squared_error' instead, as trees should use a squared error criterion in Gradient Boosting.\n",
      "  warnings.warn(\n"
     ]
    },
    {
     "name": "stdout",
     "output_type": "stream",
     "text": [
      "[CV 3/5] END criterion=absolute_error, learning_rate=3, n_estimators=1000;, score=0.571 total time=   0.3s\n"
     ]
    },
    {
     "name": "stderr",
     "output_type": "stream",
     "text": [
      "C:\\Python310\\lib\\site-packages\\sklearn\\ensemble\\_gb.py:1284: FutureWarning: criterion='mae' was deprecated in version 0.24 and will be removed in version 1.1 (renaming of 0.26). Use criterion='friedman_mse' or 'squared_error' instead, as trees should use a squared error criterion in Gradient Boosting.\n",
      "  warnings.warn(\n"
     ]
    },
    {
     "name": "stdout",
     "output_type": "stream",
     "text": [
      "[CV 4/5] END criterion=absolute_error, learning_rate=3, n_estimators=1000;, score=0.231 total time=   0.3s\n"
     ]
    },
    {
     "name": "stderr",
     "output_type": "stream",
     "text": [
      "C:\\Python310\\lib\\site-packages\\sklearn\\ensemble\\_gb.py:1284: FutureWarning: criterion='mae' was deprecated in version 0.24 and will be removed in version 1.1 (renaming of 0.26). Use criterion='friedman_mse' or 'squared_error' instead, as trees should use a squared error criterion in Gradient Boosting.\n",
      "  warnings.warn(\n"
     ]
    },
    {
     "name": "stdout",
     "output_type": "stream",
     "text": [
      "[CV 5/5] END criterion=absolute_error, learning_rate=3, n_estimators=1000;, score=0.538 total time=   0.4s\n",
      "{'criterion': 'friedman_mse', 'learning_rate': 0.1, 'n_estimators': 50}\n",
      "GradientBoostingClassifier(n_estimators=50)\n",
      "              precision    recall  f1-score   support\n",
      "\n",
      "           0       1.00      0.89      0.94         9\n",
      "           1       0.89      1.00      0.94         8\n",
      "\n",
      "    accuracy                           0.94        17\n",
      "   macro avg       0.94      0.94      0.94        17\n",
      "weighted avg       0.95      0.94      0.94        17\n",
      "\n"
     ]
    }
   ],
   "source": [
    "from sklearn.ensemble import GradientBoostingClassifier\n",
    "\n",
    "\n",
    "param_grid = {'learning_rate': [0.03,0.1,0.3,1,3],\n",
    "              'n_estimators': [1,5,10,50,100,200,300,500,1000],\n",
    "              'criterion': ['friedman_mse', 'squared_error', 'absolute_error']\n",
    "             }\n",
    " \n",
    "grid = GridSearchCV(GradientBoostingClassifier(), param_grid, refit = True, verbose = 3,cv=5)\n",
    "# fitting the model for grid search\n",
    "grid.fit(X_train, y_train)\n",
    "\n",
    "# print best parameter after tuning\n",
    "print(grid.best_params_)\n",
    " \n",
    "# print how our model looks after hyper-parameter tuning\n",
    "print(grid.best_estimator_)\n",
    "\n",
    "\n",
    "grid_predictions = grid.predict(X_test)\n",
    " \n",
    "# print classification report\n",
    "print(classification_report(y_test, grid_predictions))\n"
   ]
  },
  {
   "cell_type": "code",
   "execution_count": 153,
   "id": "6ae506ca",
   "metadata": {
    "scrolled": true
   },
   "outputs": [
    {
     "name": "stdout",
     "output_type": "stream",
     "text": [
      "Fitting 5 folds for each of 84 candidates, totalling 420 fits\n",
      "{'n_neighbors': 7}\n",
      "KNeighborsClassifier(n_neighbors=7)\n",
      "              precision    recall  f1-score   support\n",
      "\n",
      "           0       1.00      0.89      0.94         9\n",
      "           1       0.89      1.00      0.94         8\n",
      "\n",
      "    accuracy                           0.94        17\n",
      "   macro avg       0.94      0.94      0.94        17\n",
      "weighted avg       0.95      0.94      0.94        17\n",
      "\n"
     ]
    },
    {
     "name": "stderr",
     "output_type": "stream",
     "text": [
      "C:\\Python310\\lib\\site-packages\\sklearn\\model_selection\\_validation.py:770: UserWarning: Scoring failed. The score on this train-test partition for these parameters will be set to nan. Details: \n",
      "Traceback (most recent call last):\n",
      "  File \"C:\\Python310\\lib\\site-packages\\sklearn\\model_selection\\_validation.py\", line 761, in _score\n",
      "    scores = scorer(estimator, X_test, y_test)\n",
      "  File \"C:\\Python310\\lib\\site-packages\\sklearn\\metrics\\_scorer.py\", line 418, in _passthrough_scorer\n",
      "    return estimator.score(*args, **kwargs)\n",
      "  File \"C:\\Python310\\lib\\site-packages\\sklearn\\base.py\", line 651, in score\n",
      "    return accuracy_score(y, self.predict(X), sample_weight=sample_weight)\n",
      "  File \"C:\\Python310\\lib\\site-packages\\sklearn\\neighbors\\_classification.py\", line 214, in predict\n",
      "    neigh_dist, neigh_ind = self.kneighbors(X)\n",
      "  File \"C:\\Python310\\lib\\site-packages\\sklearn\\neighbors\\_base.py\", line 727, in kneighbors\n",
      "    raise ValueError(\n",
      "ValueError: Expected n_neighbors <= n_samples,  but n_samples = 54, n_neighbors = 55\n",
      "\n",
      "  warnings.warn(\n",
      "C:\\Python310\\lib\\site-packages\\sklearn\\model_selection\\_validation.py:770: UserWarning: Scoring failed. The score on this train-test partition for these parameters will be set to nan. Details: \n",
      "Traceback (most recent call last):\n",
      "  File \"C:\\Python310\\lib\\site-packages\\sklearn\\model_selection\\_validation.py\", line 761, in _score\n",
      "    scores = scorer(estimator, X_test, y_test)\n",
      "  File \"C:\\Python310\\lib\\site-packages\\sklearn\\metrics\\_scorer.py\", line 418, in _passthrough_scorer\n",
      "    return estimator.score(*args, **kwargs)\n",
      "  File \"C:\\Python310\\lib\\site-packages\\sklearn\\base.py\", line 651, in score\n",
      "    return accuracy_score(y, self.predict(X), sample_weight=sample_weight)\n",
      "  File \"C:\\Python310\\lib\\site-packages\\sklearn\\neighbors\\_classification.py\", line 214, in predict\n",
      "    neigh_dist, neigh_ind = self.kneighbors(X)\n",
      "  File \"C:\\Python310\\lib\\site-packages\\sklearn\\neighbors\\_base.py\", line 727, in kneighbors\n",
      "    raise ValueError(\n",
      "ValueError: Expected n_neighbors <= n_samples,  but n_samples = 54, n_neighbors = 55\n",
      "\n",
      "  warnings.warn(\n",
      "C:\\Python310\\lib\\site-packages\\sklearn\\model_selection\\_validation.py:770: UserWarning: Scoring failed. The score on this train-test partition for these parameters will be set to nan. Details: \n",
      "Traceback (most recent call last):\n",
      "  File \"C:\\Python310\\lib\\site-packages\\sklearn\\model_selection\\_validation.py\", line 761, in _score\n",
      "    scores = scorer(estimator, X_test, y_test)\n",
      "  File \"C:\\Python310\\lib\\site-packages\\sklearn\\metrics\\_scorer.py\", line 418, in _passthrough_scorer\n",
      "    return estimator.score(*args, **kwargs)\n",
      "  File \"C:\\Python310\\lib\\site-packages\\sklearn\\base.py\", line 651, in score\n",
      "    return accuracy_score(y, self.predict(X), sample_weight=sample_weight)\n",
      "  File \"C:\\Python310\\lib\\site-packages\\sklearn\\neighbors\\_classification.py\", line 214, in predict\n",
      "    neigh_dist, neigh_ind = self.kneighbors(X)\n",
      "  File \"C:\\Python310\\lib\\site-packages\\sklearn\\neighbors\\_base.py\", line 727, in kneighbors\n",
      "    raise ValueError(\n",
      "ValueError: Expected n_neighbors <= n_samples,  but n_samples = 54, n_neighbors = 55\n",
      "\n",
      "  warnings.warn(\n",
      "C:\\Python310\\lib\\site-packages\\sklearn\\model_selection\\_validation.py:770: UserWarning: Scoring failed. The score on this train-test partition for these parameters will be set to nan. Details: \n",
      "Traceback (most recent call last):\n",
      "  File \"C:\\Python310\\lib\\site-packages\\sklearn\\model_selection\\_validation.py\", line 761, in _score\n",
      "    scores = scorer(estimator, X_test, y_test)\n",
      "  File \"C:\\Python310\\lib\\site-packages\\sklearn\\metrics\\_scorer.py\", line 418, in _passthrough_scorer\n",
      "    return estimator.score(*args, **kwargs)\n",
      "  File \"C:\\Python310\\lib\\site-packages\\sklearn\\base.py\", line 651, in score\n",
      "    return accuracy_score(y, self.predict(X), sample_weight=sample_weight)\n",
      "  File \"C:\\Python310\\lib\\site-packages\\sklearn\\neighbors\\_classification.py\", line 214, in predict\n",
      "    neigh_dist, neigh_ind = self.kneighbors(X)\n",
      "  File \"C:\\Python310\\lib\\site-packages\\sklearn\\neighbors\\_base.py\", line 727, in kneighbors\n",
      "    raise ValueError(\n",
      "ValueError: Expected n_neighbors <= n_samples,  but n_samples = 54, n_neighbors = 56\n",
      "\n",
      "  warnings.warn(\n",
      "C:\\Python310\\lib\\site-packages\\sklearn\\model_selection\\_validation.py:770: UserWarning: Scoring failed. The score on this train-test partition for these parameters will be set to nan. Details: \n",
      "Traceback (most recent call last):\n",
      "  File \"C:\\Python310\\lib\\site-packages\\sklearn\\model_selection\\_validation.py\", line 761, in _score\n",
      "    scores = scorer(estimator, X_test, y_test)\n",
      "  File \"C:\\Python310\\lib\\site-packages\\sklearn\\metrics\\_scorer.py\", line 418, in _passthrough_scorer\n",
      "    return estimator.score(*args, **kwargs)\n",
      "  File \"C:\\Python310\\lib\\site-packages\\sklearn\\base.py\", line 651, in score\n",
      "    return accuracy_score(y, self.predict(X), sample_weight=sample_weight)\n",
      "  File \"C:\\Python310\\lib\\site-packages\\sklearn\\neighbors\\_classification.py\", line 214, in predict\n",
      "    neigh_dist, neigh_ind = self.kneighbors(X)\n",
      "  File \"C:\\Python310\\lib\\site-packages\\sklearn\\neighbors\\_base.py\", line 727, in kneighbors\n",
      "    raise ValueError(\n",
      "ValueError: Expected n_neighbors <= n_samples,  but n_samples = 54, n_neighbors = 56\n",
      "\n",
      "  warnings.warn(\n",
      "C:\\Python310\\lib\\site-packages\\sklearn\\model_selection\\_validation.py:770: UserWarning: Scoring failed. The score on this train-test partition for these parameters will be set to nan. Details: \n",
      "Traceback (most recent call last):\n",
      "  File \"C:\\Python310\\lib\\site-packages\\sklearn\\model_selection\\_validation.py\", line 761, in _score\n",
      "    scores = scorer(estimator, X_test, y_test)\n",
      "  File \"C:\\Python310\\lib\\site-packages\\sklearn\\metrics\\_scorer.py\", line 418, in _passthrough_scorer\n",
      "    return estimator.score(*args, **kwargs)\n",
      "  File \"C:\\Python310\\lib\\site-packages\\sklearn\\base.py\", line 651, in score\n",
      "    return accuracy_score(y, self.predict(X), sample_weight=sample_weight)\n",
      "  File \"C:\\Python310\\lib\\site-packages\\sklearn\\neighbors\\_classification.py\", line 214, in predict\n",
      "    neigh_dist, neigh_ind = self.kneighbors(X)\n",
      "  File \"C:\\Python310\\lib\\site-packages\\sklearn\\neighbors\\_base.py\", line 727, in kneighbors\n",
      "    raise ValueError(\n",
      "ValueError: Expected n_neighbors <= n_samples,  but n_samples = 54, n_neighbors = 56\n",
      "\n",
      "  warnings.warn(\n",
      "C:\\Python310\\lib\\site-packages\\sklearn\\model_selection\\_validation.py:770: UserWarning: Scoring failed. The score on this train-test partition for these parameters will be set to nan. Details: \n",
      "Traceback (most recent call last):\n",
      "  File \"C:\\Python310\\lib\\site-packages\\sklearn\\model_selection\\_validation.py\", line 761, in _score\n",
      "    scores = scorer(estimator, X_test, y_test)\n",
      "  File \"C:\\Python310\\lib\\site-packages\\sklearn\\metrics\\_scorer.py\", line 418, in _passthrough_scorer\n",
      "    return estimator.score(*args, **kwargs)\n",
      "  File \"C:\\Python310\\lib\\site-packages\\sklearn\\base.py\", line 651, in score\n",
      "    return accuracy_score(y, self.predict(X), sample_weight=sample_weight)\n",
      "  File \"C:\\Python310\\lib\\site-packages\\sklearn\\neighbors\\_classification.py\", line 214, in predict\n",
      "    neigh_dist, neigh_ind = self.kneighbors(X)\n",
      "  File \"C:\\Python310\\lib\\site-packages\\sklearn\\neighbors\\_base.py\", line 727, in kneighbors\n",
      "    raise ValueError(\n",
      "ValueError: Expected n_neighbors <= n_samples,  but n_samples = 55, n_neighbors = 56\n",
      "\n",
      "  warnings.warn(\n",
      "C:\\Python310\\lib\\site-packages\\sklearn\\model_selection\\_validation.py:770: UserWarning: Scoring failed. The score on this train-test partition for these parameters will be set to nan. Details: \n",
      "Traceback (most recent call last):\n",
      "  File \"C:\\Python310\\lib\\site-packages\\sklearn\\model_selection\\_validation.py\", line 761, in _score\n",
      "    scores = scorer(estimator, X_test, y_test)\n",
      "  File \"C:\\Python310\\lib\\site-packages\\sklearn\\metrics\\_scorer.py\", line 418, in _passthrough_scorer\n",
      "    return estimator.score(*args, **kwargs)\n",
      "  File \"C:\\Python310\\lib\\site-packages\\sklearn\\base.py\", line 651, in score\n",
      "    return accuracy_score(y, self.predict(X), sample_weight=sample_weight)\n",
      "  File \"C:\\Python310\\lib\\site-packages\\sklearn\\neighbors\\_classification.py\", line 214, in predict\n",
      "    neigh_dist, neigh_ind = self.kneighbors(X)\n",
      "  File \"C:\\Python310\\lib\\site-packages\\sklearn\\neighbors\\_base.py\", line 727, in kneighbors\n",
      "    raise ValueError(\n",
      "ValueError: Expected n_neighbors <= n_samples,  but n_samples = 55, n_neighbors = 56\n",
      "\n",
      "  warnings.warn(\n",
      "C:\\Python310\\lib\\site-packages\\sklearn\\model_selection\\_validation.py:770: UserWarning: Scoring failed. The score on this train-test partition for these parameters will be set to nan. Details: \n",
      "Traceback (most recent call last):\n",
      "  File \"C:\\Python310\\lib\\site-packages\\sklearn\\model_selection\\_validation.py\", line 761, in _score\n",
      "    scores = scorer(estimator, X_test, y_test)\n",
      "  File \"C:\\Python310\\lib\\site-packages\\sklearn\\metrics\\_scorer.py\", line 418, in _passthrough_scorer\n",
      "    return estimator.score(*args, **kwargs)\n",
      "  File \"C:\\Python310\\lib\\site-packages\\sklearn\\base.py\", line 651, in score\n",
      "    return accuracy_score(y, self.predict(X), sample_weight=sample_weight)\n",
      "  File \"C:\\Python310\\lib\\site-packages\\sklearn\\neighbors\\_classification.py\", line 214, in predict\n",
      "    neigh_dist, neigh_ind = self.kneighbors(X)\n",
      "  File \"C:\\Python310\\lib\\site-packages\\sklearn\\neighbors\\_base.py\", line 727, in kneighbors\n",
      "    raise ValueError(\n",
      "ValueError: Expected n_neighbors <= n_samples,  but n_samples = 54, n_neighbors = 57\n",
      "\n",
      "  warnings.warn(\n",
      "C:\\Python310\\lib\\site-packages\\sklearn\\model_selection\\_validation.py:770: UserWarning: Scoring failed. The score on this train-test partition for these parameters will be set to nan. Details: \n",
      "Traceback (most recent call last):\n",
      "  File \"C:\\Python310\\lib\\site-packages\\sklearn\\model_selection\\_validation.py\", line 761, in _score\n",
      "    scores = scorer(estimator, X_test, y_test)\n",
      "  File \"C:\\Python310\\lib\\site-packages\\sklearn\\metrics\\_scorer.py\", line 418, in _passthrough_scorer\n",
      "    return estimator.score(*args, **kwargs)\n",
      "  File \"C:\\Python310\\lib\\site-packages\\sklearn\\base.py\", line 651, in score\n",
      "    return accuracy_score(y, self.predict(X), sample_weight=sample_weight)\n",
      "  File \"C:\\Python310\\lib\\site-packages\\sklearn\\neighbors\\_classification.py\", line 214, in predict\n",
      "    neigh_dist, neigh_ind = self.kneighbors(X)\n",
      "  File \"C:\\Python310\\lib\\site-packages\\sklearn\\neighbors\\_base.py\", line 727, in kneighbors\n",
      "    raise ValueError(\n",
      "ValueError: Expected n_neighbors <= n_samples,  but n_samples = 54, n_neighbors = 57\n",
      "\n",
      "  warnings.warn(\n",
      "C:\\Python310\\lib\\site-packages\\sklearn\\model_selection\\_validation.py:770: UserWarning: Scoring failed. The score on this train-test partition for these parameters will be set to nan. Details: \n",
      "Traceback (most recent call last):\n",
      "  File \"C:\\Python310\\lib\\site-packages\\sklearn\\model_selection\\_validation.py\", line 761, in _score\n",
      "    scores = scorer(estimator, X_test, y_test)\n",
      "  File \"C:\\Python310\\lib\\site-packages\\sklearn\\metrics\\_scorer.py\", line 418, in _passthrough_scorer\n",
      "    return estimator.score(*args, **kwargs)\n",
      "  File \"C:\\Python310\\lib\\site-packages\\sklearn\\base.py\", line 651, in score\n",
      "    return accuracy_score(y, self.predict(X), sample_weight=sample_weight)\n",
      "  File \"C:\\Python310\\lib\\site-packages\\sklearn\\neighbors\\_classification.py\", line 214, in predict\n",
      "    neigh_dist, neigh_ind = self.kneighbors(X)\n",
      "  File \"C:\\Python310\\lib\\site-packages\\sklearn\\neighbors\\_base.py\", line 727, in kneighbors\n",
      "    raise ValueError(\n",
      "ValueError: Expected n_neighbors <= n_samples,  but n_samples = 54, n_neighbors = 57\n",
      "\n",
      "  warnings.warn(\n",
      "C:\\Python310\\lib\\site-packages\\sklearn\\model_selection\\_validation.py:770: UserWarning: Scoring failed. The score on this train-test partition for these parameters will be set to nan. Details: \n",
      "Traceback (most recent call last):\n",
      "  File \"C:\\Python310\\lib\\site-packages\\sklearn\\model_selection\\_validation.py\", line 761, in _score\n",
      "    scores = scorer(estimator, X_test, y_test)\n",
      "  File \"C:\\Python310\\lib\\site-packages\\sklearn\\metrics\\_scorer.py\", line 418, in _passthrough_scorer\n",
      "    return estimator.score(*args, **kwargs)\n",
      "  File \"C:\\Python310\\lib\\site-packages\\sklearn\\base.py\", line 651, in score\n",
      "    return accuracy_score(y, self.predict(X), sample_weight=sample_weight)\n",
      "  File \"C:\\Python310\\lib\\site-packages\\sklearn\\neighbors\\_classification.py\", line 214, in predict\n",
      "    neigh_dist, neigh_ind = self.kneighbors(X)\n",
      "  File \"C:\\Python310\\lib\\site-packages\\sklearn\\neighbors\\_base.py\", line 727, in kneighbors\n",
      "    raise ValueError(\n",
      "ValueError: Expected n_neighbors <= n_samples,  but n_samples = 55, n_neighbors = 57\n",
      "\n",
      "  warnings.warn(\n",
      "C:\\Python310\\lib\\site-packages\\sklearn\\model_selection\\_validation.py:770: UserWarning: Scoring failed. The score on this train-test partition for these parameters will be set to nan. Details: \n",
      "Traceback (most recent call last):\n",
      "  File \"C:\\Python310\\lib\\site-packages\\sklearn\\model_selection\\_validation.py\", line 761, in _score\n",
      "    scores = scorer(estimator, X_test, y_test)\n",
      "  File \"C:\\Python310\\lib\\site-packages\\sklearn\\metrics\\_scorer.py\", line 418, in _passthrough_scorer\n",
      "    return estimator.score(*args, **kwargs)\n",
      "  File \"C:\\Python310\\lib\\site-packages\\sklearn\\base.py\", line 651, in score\n",
      "    return accuracy_score(y, self.predict(X), sample_weight=sample_weight)\n",
      "  File \"C:\\Python310\\lib\\site-packages\\sklearn\\neighbors\\_classification.py\", line 214, in predict\n",
      "    neigh_dist, neigh_ind = self.kneighbors(X)\n",
      "  File \"C:\\Python310\\lib\\site-packages\\sklearn\\neighbors\\_base.py\", line 727, in kneighbors\n",
      "    raise ValueError(\n",
      "ValueError: Expected n_neighbors <= n_samples,  but n_samples = 55, n_neighbors = 57\n",
      "\n",
      "  warnings.warn(\n",
      "C:\\Python310\\lib\\site-packages\\sklearn\\model_selection\\_validation.py:770: UserWarning: Scoring failed. The score on this train-test partition for these parameters will be set to nan. Details: \n",
      "Traceback (most recent call last):\n",
      "  File \"C:\\Python310\\lib\\site-packages\\sklearn\\model_selection\\_validation.py\", line 761, in _score\n",
      "    scores = scorer(estimator, X_test, y_test)\n",
      "  File \"C:\\Python310\\lib\\site-packages\\sklearn\\metrics\\_scorer.py\", line 418, in _passthrough_scorer\n",
      "    return estimator.score(*args, **kwargs)\n",
      "  File \"C:\\Python310\\lib\\site-packages\\sklearn\\base.py\", line 651, in score\n",
      "    return accuracy_score(y, self.predict(X), sample_weight=sample_weight)\n",
      "  File \"C:\\Python310\\lib\\site-packages\\sklearn\\neighbors\\_classification.py\", line 214, in predict\n",
      "    neigh_dist, neigh_ind = self.kneighbors(X)\n",
      "  File \"C:\\Python310\\lib\\site-packages\\sklearn\\neighbors\\_base.py\", line 727, in kneighbors\n",
      "    raise ValueError(\n",
      "ValueError: Expected n_neighbors <= n_samples,  but n_samples = 54, n_neighbors = 58\n",
      "\n",
      "  warnings.warn(\n",
      "C:\\Python310\\lib\\site-packages\\sklearn\\model_selection\\_validation.py:770: UserWarning: Scoring failed. The score on this train-test partition for these parameters will be set to nan. Details: \n",
      "Traceback (most recent call last):\n",
      "  File \"C:\\Python310\\lib\\site-packages\\sklearn\\model_selection\\_validation.py\", line 761, in _score\n",
      "    scores = scorer(estimator, X_test, y_test)\n",
      "  File \"C:\\Python310\\lib\\site-packages\\sklearn\\metrics\\_scorer.py\", line 418, in _passthrough_scorer\n",
      "    return estimator.score(*args, **kwargs)\n",
      "  File \"C:\\Python310\\lib\\site-packages\\sklearn\\base.py\", line 651, in score\n",
      "    return accuracy_score(y, self.predict(X), sample_weight=sample_weight)\n",
      "  File \"C:\\Python310\\lib\\site-packages\\sklearn\\neighbors\\_classification.py\", line 214, in predict\n",
      "    neigh_dist, neigh_ind = self.kneighbors(X)\n",
      "  File \"C:\\Python310\\lib\\site-packages\\sklearn\\neighbors\\_base.py\", line 727, in kneighbors\n",
      "    raise ValueError(\n",
      "ValueError: Expected n_neighbors <= n_samples,  but n_samples = 54, n_neighbors = 58\n",
      "\n",
      "  warnings.warn(\n",
      "C:\\Python310\\lib\\site-packages\\sklearn\\model_selection\\_validation.py:770: UserWarning: Scoring failed. The score on this train-test partition for these parameters will be set to nan. Details: \n",
      "Traceback (most recent call last):\n",
      "  File \"C:\\Python310\\lib\\site-packages\\sklearn\\model_selection\\_validation.py\", line 761, in _score\n",
      "    scores = scorer(estimator, X_test, y_test)\n",
      "  File \"C:\\Python310\\lib\\site-packages\\sklearn\\metrics\\_scorer.py\", line 418, in _passthrough_scorer\n",
      "    return estimator.score(*args, **kwargs)\n",
      "  File \"C:\\Python310\\lib\\site-packages\\sklearn\\base.py\", line 651, in score\n",
      "    return accuracy_score(y, self.predict(X), sample_weight=sample_weight)\n",
      "  File \"C:\\Python310\\lib\\site-packages\\sklearn\\neighbors\\_classification.py\", line 214, in predict\n",
      "    neigh_dist, neigh_ind = self.kneighbors(X)\n",
      "  File \"C:\\Python310\\lib\\site-packages\\sklearn\\neighbors\\_base.py\", line 727, in kneighbors\n",
      "    raise ValueError(\n",
      "ValueError: Expected n_neighbors <= n_samples,  but n_samples = 54, n_neighbors = 58\n",
      "\n",
      "  warnings.warn(\n",
      "C:\\Python310\\lib\\site-packages\\sklearn\\model_selection\\_validation.py:770: UserWarning: Scoring failed. The score on this train-test partition for these parameters will be set to nan. Details: \n",
      "Traceback (most recent call last):\n",
      "  File \"C:\\Python310\\lib\\site-packages\\sklearn\\model_selection\\_validation.py\", line 761, in _score\n",
      "    scores = scorer(estimator, X_test, y_test)\n",
      "  File \"C:\\Python310\\lib\\site-packages\\sklearn\\metrics\\_scorer.py\", line 418, in _passthrough_scorer\n",
      "    return estimator.score(*args, **kwargs)\n",
      "  File \"C:\\Python310\\lib\\site-packages\\sklearn\\base.py\", line 651, in score\n",
      "    return accuracy_score(y, self.predict(X), sample_weight=sample_weight)\n",
      "  File \"C:\\Python310\\lib\\site-packages\\sklearn\\neighbors\\_classification.py\", line 214, in predict\n",
      "    neigh_dist, neigh_ind = self.kneighbors(X)\n",
      "  File \"C:\\Python310\\lib\\site-packages\\sklearn\\neighbors\\_base.py\", line 727, in kneighbors\n",
      "    raise ValueError(\n",
      "ValueError: Expected n_neighbors <= n_samples,  but n_samples = 55, n_neighbors = 58\n",
      "\n",
      "  warnings.warn(\n",
      "C:\\Python310\\lib\\site-packages\\sklearn\\model_selection\\_validation.py:770: UserWarning: Scoring failed. The score on this train-test partition for these parameters will be set to nan. Details: \n",
      "Traceback (most recent call last):\n",
      "  File \"C:\\Python310\\lib\\site-packages\\sklearn\\model_selection\\_validation.py\", line 761, in _score\n",
      "    scores = scorer(estimator, X_test, y_test)\n",
      "  File \"C:\\Python310\\lib\\site-packages\\sklearn\\metrics\\_scorer.py\", line 418, in _passthrough_scorer\n",
      "    return estimator.score(*args, **kwargs)\n",
      "  File \"C:\\Python310\\lib\\site-packages\\sklearn\\base.py\", line 651, in score\n",
      "    return accuracy_score(y, self.predict(X), sample_weight=sample_weight)\n",
      "  File \"C:\\Python310\\lib\\site-packages\\sklearn\\neighbors\\_classification.py\", line 214, in predict\n",
      "    neigh_dist, neigh_ind = self.kneighbors(X)\n",
      "  File \"C:\\Python310\\lib\\site-packages\\sklearn\\neighbors\\_base.py\", line 727, in kneighbors\n",
      "    raise ValueError(\n",
      "ValueError: Expected n_neighbors <= n_samples,  but n_samples = 55, n_neighbors = 58\n",
      "\n",
      "  warnings.warn(\n",
      "C:\\Python310\\lib\\site-packages\\sklearn\\model_selection\\_validation.py:770: UserWarning: Scoring failed. The score on this train-test partition for these parameters will be set to nan. Details: \n",
      "Traceback (most recent call last):\n",
      "  File \"C:\\Python310\\lib\\site-packages\\sklearn\\model_selection\\_validation.py\", line 761, in _score\n",
      "    scores = scorer(estimator, X_test, y_test)\n",
      "  File \"C:\\Python310\\lib\\site-packages\\sklearn\\metrics\\_scorer.py\", line 418, in _passthrough_scorer\n",
      "    return estimator.score(*args, **kwargs)\n",
      "  File \"C:\\Python310\\lib\\site-packages\\sklearn\\base.py\", line 651, in score\n",
      "    return accuracy_score(y, self.predict(X), sample_weight=sample_weight)\n",
      "  File \"C:\\Python310\\lib\\site-packages\\sklearn\\neighbors\\_classification.py\", line 214, in predict\n",
      "    neigh_dist, neigh_ind = self.kneighbors(X)\n",
      "  File \"C:\\Python310\\lib\\site-packages\\sklearn\\neighbors\\_base.py\", line 727, in kneighbors\n",
      "    raise ValueError(\n",
      "ValueError: Expected n_neighbors <= n_samples,  but n_samples = 54, n_neighbors = 59\n",
      "\n",
      "  warnings.warn(\n",
      "C:\\Python310\\lib\\site-packages\\sklearn\\model_selection\\_validation.py:770: UserWarning: Scoring failed. The score on this train-test partition for these parameters will be set to nan. Details: \n",
      "Traceback (most recent call last):\n",
      "  File \"C:\\Python310\\lib\\site-packages\\sklearn\\model_selection\\_validation.py\", line 761, in _score\n",
      "    scores = scorer(estimator, X_test, y_test)\n",
      "  File \"C:\\Python310\\lib\\site-packages\\sklearn\\metrics\\_scorer.py\", line 418, in _passthrough_scorer\n",
      "    return estimator.score(*args, **kwargs)\n",
      "  File \"C:\\Python310\\lib\\site-packages\\sklearn\\base.py\", line 651, in score\n",
      "    return accuracy_score(y, self.predict(X), sample_weight=sample_weight)\n",
      "  File \"C:\\Python310\\lib\\site-packages\\sklearn\\neighbors\\_classification.py\", line 214, in predict\n",
      "    neigh_dist, neigh_ind = self.kneighbors(X)\n",
      "  File \"C:\\Python310\\lib\\site-packages\\sklearn\\neighbors\\_base.py\", line 727, in kneighbors\n",
      "    raise ValueError(\n",
      "ValueError: Expected n_neighbors <= n_samples,  but n_samples = 54, n_neighbors = 59\n",
      "\n",
      "  warnings.warn(\n",
      "C:\\Python310\\lib\\site-packages\\sklearn\\model_selection\\_validation.py:770: UserWarning: Scoring failed. The score on this train-test partition for these parameters will be set to nan. Details: \n",
      "Traceback (most recent call last):\n",
      "  File \"C:\\Python310\\lib\\site-packages\\sklearn\\model_selection\\_validation.py\", line 761, in _score\n",
      "    scores = scorer(estimator, X_test, y_test)\n",
      "  File \"C:\\Python310\\lib\\site-packages\\sklearn\\metrics\\_scorer.py\", line 418, in _passthrough_scorer\n",
      "    return estimator.score(*args, **kwargs)\n",
      "  File \"C:\\Python310\\lib\\site-packages\\sklearn\\base.py\", line 651, in score\n",
      "    return accuracy_score(y, self.predict(X), sample_weight=sample_weight)\n",
      "  File \"C:\\Python310\\lib\\site-packages\\sklearn\\neighbors\\_classification.py\", line 214, in predict\n",
      "    neigh_dist, neigh_ind = self.kneighbors(X)\n",
      "  File \"C:\\Python310\\lib\\site-packages\\sklearn\\neighbors\\_base.py\", line 727, in kneighbors\n",
      "    raise ValueError(\n",
      "ValueError: Expected n_neighbors <= n_samples,  but n_samples = 54, n_neighbors = 59\n",
      "\n",
      "  warnings.warn(\n",
      "C:\\Python310\\lib\\site-packages\\sklearn\\model_selection\\_validation.py:770: UserWarning: Scoring failed. The score on this train-test partition for these parameters will be set to nan. Details: \n",
      "Traceback (most recent call last):\n",
      "  File \"C:\\Python310\\lib\\site-packages\\sklearn\\model_selection\\_validation.py\", line 761, in _score\n",
      "    scores = scorer(estimator, X_test, y_test)\n",
      "  File \"C:\\Python310\\lib\\site-packages\\sklearn\\metrics\\_scorer.py\", line 418, in _passthrough_scorer\n",
      "    return estimator.score(*args, **kwargs)\n",
      "  File \"C:\\Python310\\lib\\site-packages\\sklearn\\base.py\", line 651, in score\n",
      "    return accuracy_score(y, self.predict(X), sample_weight=sample_weight)\n",
      "  File \"C:\\Python310\\lib\\site-packages\\sklearn\\neighbors\\_classification.py\", line 214, in predict\n",
      "    neigh_dist, neigh_ind = self.kneighbors(X)\n",
      "  File \"C:\\Python310\\lib\\site-packages\\sklearn\\neighbors\\_base.py\", line 727, in kneighbors\n",
      "    raise ValueError(\n",
      "ValueError: Expected n_neighbors <= n_samples,  but n_samples = 55, n_neighbors = 59\n",
      "\n",
      "  warnings.warn(\n",
      "C:\\Python310\\lib\\site-packages\\sklearn\\model_selection\\_validation.py:770: UserWarning: Scoring failed. The score on this train-test partition for these parameters will be set to nan. Details: \n",
      "Traceback (most recent call last):\n",
      "  File \"C:\\Python310\\lib\\site-packages\\sklearn\\model_selection\\_validation.py\", line 761, in _score\n",
      "    scores = scorer(estimator, X_test, y_test)\n",
      "  File \"C:\\Python310\\lib\\site-packages\\sklearn\\metrics\\_scorer.py\", line 418, in _passthrough_scorer\n",
      "    return estimator.score(*args, **kwargs)\n",
      "  File \"C:\\Python310\\lib\\site-packages\\sklearn\\base.py\", line 651, in score\n",
      "    return accuracy_score(y, self.predict(X), sample_weight=sample_weight)\n",
      "  File \"C:\\Python310\\lib\\site-packages\\sklearn\\neighbors\\_classification.py\", line 214, in predict\n",
      "    neigh_dist, neigh_ind = self.kneighbors(X)\n",
      "  File \"C:\\Python310\\lib\\site-packages\\sklearn\\neighbors\\_base.py\", line 727, in kneighbors\n",
      "    raise ValueError(\n",
      "ValueError: Expected n_neighbors <= n_samples,  but n_samples = 55, n_neighbors = 59\n",
      "\n",
      "  warnings.warn(\n",
      "C:\\Python310\\lib\\site-packages\\sklearn\\model_selection\\_validation.py:770: UserWarning: Scoring failed. The score on this train-test partition for these parameters will be set to nan. Details: \n",
      "Traceback (most recent call last):\n",
      "  File \"C:\\Python310\\lib\\site-packages\\sklearn\\model_selection\\_validation.py\", line 761, in _score\n",
      "    scores = scorer(estimator, X_test, y_test)\n",
      "  File \"C:\\Python310\\lib\\site-packages\\sklearn\\metrics\\_scorer.py\", line 418, in _passthrough_scorer\n",
      "    return estimator.score(*args, **kwargs)\n",
      "  File \"C:\\Python310\\lib\\site-packages\\sklearn\\base.py\", line 651, in score\n",
      "    return accuracy_score(y, self.predict(X), sample_weight=sample_weight)\n",
      "  File \"C:\\Python310\\lib\\site-packages\\sklearn\\neighbors\\_classification.py\", line 214, in predict\n",
      "    neigh_dist, neigh_ind = self.kneighbors(X)\n",
      "  File \"C:\\Python310\\lib\\site-packages\\sklearn\\neighbors\\_base.py\", line 727, in kneighbors\n",
      "    raise ValueError(\n",
      "ValueError: Expected n_neighbors <= n_samples,  but n_samples = 54, n_neighbors = 60\n",
      "\n",
      "  warnings.warn(\n",
      "C:\\Python310\\lib\\site-packages\\sklearn\\model_selection\\_validation.py:770: UserWarning: Scoring failed. The score on this train-test partition for these parameters will be set to nan. Details: \n",
      "Traceback (most recent call last):\n",
      "  File \"C:\\Python310\\lib\\site-packages\\sklearn\\model_selection\\_validation.py\", line 761, in _score\n",
      "    scores = scorer(estimator, X_test, y_test)\n",
      "  File \"C:\\Python310\\lib\\site-packages\\sklearn\\metrics\\_scorer.py\", line 418, in _passthrough_scorer\n",
      "    return estimator.score(*args, **kwargs)\n",
      "  File \"C:\\Python310\\lib\\site-packages\\sklearn\\base.py\", line 651, in score\n",
      "    return accuracy_score(y, self.predict(X), sample_weight=sample_weight)\n",
      "  File \"C:\\Python310\\lib\\site-packages\\sklearn\\neighbors\\_classification.py\", line 214, in predict\n",
      "    neigh_dist, neigh_ind = self.kneighbors(X)\n",
      "  File \"C:\\Python310\\lib\\site-packages\\sklearn\\neighbors\\_base.py\", line 727, in kneighbors\n",
      "    raise ValueError(\n",
      "ValueError: Expected n_neighbors <= n_samples,  but n_samples = 54, n_neighbors = 60\n",
      "\n",
      "  warnings.warn(\n",
      "C:\\Python310\\lib\\site-packages\\sklearn\\model_selection\\_validation.py:770: UserWarning: Scoring failed. The score on this train-test partition for these parameters will be set to nan. Details: \n",
      "Traceback (most recent call last):\n",
      "  File \"C:\\Python310\\lib\\site-packages\\sklearn\\model_selection\\_validation.py\", line 761, in _score\n",
      "    scores = scorer(estimator, X_test, y_test)\n",
      "  File \"C:\\Python310\\lib\\site-packages\\sklearn\\metrics\\_scorer.py\", line 418, in _passthrough_scorer\n",
      "    return estimator.score(*args, **kwargs)\n",
      "  File \"C:\\Python310\\lib\\site-packages\\sklearn\\base.py\", line 651, in score\n",
      "    return accuracy_score(y, self.predict(X), sample_weight=sample_weight)\n",
      "  File \"C:\\Python310\\lib\\site-packages\\sklearn\\neighbors\\_classification.py\", line 214, in predict\n",
      "    neigh_dist, neigh_ind = self.kneighbors(X)\n",
      "  File \"C:\\Python310\\lib\\site-packages\\sklearn\\neighbors\\_base.py\", line 727, in kneighbors\n",
      "    raise ValueError(\n",
      "ValueError: Expected n_neighbors <= n_samples,  but n_samples = 54, n_neighbors = 60\n",
      "\n",
      "  warnings.warn(\n",
      "C:\\Python310\\lib\\site-packages\\sklearn\\model_selection\\_validation.py:770: UserWarning: Scoring failed. The score on this train-test partition for these parameters will be set to nan. Details: \n",
      "Traceback (most recent call last):\n",
      "  File \"C:\\Python310\\lib\\site-packages\\sklearn\\model_selection\\_validation.py\", line 761, in _score\n",
      "    scores = scorer(estimator, X_test, y_test)\n",
      "  File \"C:\\Python310\\lib\\site-packages\\sklearn\\metrics\\_scorer.py\", line 418, in _passthrough_scorer\n",
      "    return estimator.score(*args, **kwargs)\n",
      "  File \"C:\\Python310\\lib\\site-packages\\sklearn\\base.py\", line 651, in score\n",
      "    return accuracy_score(y, self.predict(X), sample_weight=sample_weight)\n",
      "  File \"C:\\Python310\\lib\\site-packages\\sklearn\\neighbors\\_classification.py\", line 214, in predict\n",
      "    neigh_dist, neigh_ind = self.kneighbors(X)\n",
      "  File \"C:\\Python310\\lib\\site-packages\\sklearn\\neighbors\\_base.py\", line 727, in kneighbors\n",
      "    raise ValueError(\n",
      "ValueError: Expected n_neighbors <= n_samples,  but n_samples = 55, n_neighbors = 60\n",
      "\n",
      "  warnings.warn(\n",
      "C:\\Python310\\lib\\site-packages\\sklearn\\model_selection\\_validation.py:770: UserWarning: Scoring failed. The score on this train-test partition for these parameters will be set to nan. Details: \n",
      "Traceback (most recent call last):\n",
      "  File \"C:\\Python310\\lib\\site-packages\\sklearn\\model_selection\\_validation.py\", line 761, in _score\n",
      "    scores = scorer(estimator, X_test, y_test)\n",
      "  File \"C:\\Python310\\lib\\site-packages\\sklearn\\metrics\\_scorer.py\", line 418, in _passthrough_scorer\n",
      "    return estimator.score(*args, **kwargs)\n",
      "  File \"C:\\Python310\\lib\\site-packages\\sklearn\\base.py\", line 651, in score\n",
      "    return accuracy_score(y, self.predict(X), sample_weight=sample_weight)\n",
      "  File \"C:\\Python310\\lib\\site-packages\\sklearn\\neighbors\\_classification.py\", line 214, in predict\n",
      "    neigh_dist, neigh_ind = self.kneighbors(X)\n",
      "  File \"C:\\Python310\\lib\\site-packages\\sklearn\\neighbors\\_base.py\", line 727, in kneighbors\n",
      "    raise ValueError(\n",
      "ValueError: Expected n_neighbors <= n_samples,  but n_samples = 55, n_neighbors = 60\n",
      "\n",
      "  warnings.warn(\n",
      "C:\\Python310\\lib\\site-packages\\sklearn\\model_selection\\_validation.py:770: UserWarning: Scoring failed. The score on this train-test partition for these parameters will be set to nan. Details: \n",
      "Traceback (most recent call last):\n",
      "  File \"C:\\Python310\\lib\\site-packages\\sklearn\\model_selection\\_validation.py\", line 761, in _score\n",
      "    scores = scorer(estimator, X_test, y_test)\n",
      "  File \"C:\\Python310\\lib\\site-packages\\sklearn\\metrics\\_scorer.py\", line 418, in _passthrough_scorer\n",
      "    return estimator.score(*args, **kwargs)\n",
      "  File \"C:\\Python310\\lib\\site-packages\\sklearn\\base.py\", line 651, in score\n",
      "    return accuracy_score(y, self.predict(X), sample_weight=sample_weight)\n",
      "  File \"C:\\Python310\\lib\\site-packages\\sklearn\\neighbors\\_classification.py\", line 214, in predict\n",
      "    neigh_dist, neigh_ind = self.kneighbors(X)\n",
      "  File \"C:\\Python310\\lib\\site-packages\\sklearn\\neighbors\\_base.py\", line 727, in kneighbors\n",
      "    raise ValueError(\n",
      "ValueError: Expected n_neighbors <= n_samples,  but n_samples = 54, n_neighbors = 61\n",
      "\n",
      "  warnings.warn(\n",
      "C:\\Python310\\lib\\site-packages\\sklearn\\model_selection\\_validation.py:770: UserWarning: Scoring failed. The score on this train-test partition for these parameters will be set to nan. Details: \n",
      "Traceback (most recent call last):\n",
      "  File \"C:\\Python310\\lib\\site-packages\\sklearn\\model_selection\\_validation.py\", line 761, in _score\n",
      "    scores = scorer(estimator, X_test, y_test)\n",
      "  File \"C:\\Python310\\lib\\site-packages\\sklearn\\metrics\\_scorer.py\", line 418, in _passthrough_scorer\n",
      "    return estimator.score(*args, **kwargs)\n",
      "  File \"C:\\Python310\\lib\\site-packages\\sklearn\\base.py\", line 651, in score\n",
      "    return accuracy_score(y, self.predict(X), sample_weight=sample_weight)\n",
      "  File \"C:\\Python310\\lib\\site-packages\\sklearn\\neighbors\\_classification.py\", line 214, in predict\n",
      "    neigh_dist, neigh_ind = self.kneighbors(X)\n",
      "  File \"C:\\Python310\\lib\\site-packages\\sklearn\\neighbors\\_base.py\", line 727, in kneighbors\n",
      "    raise ValueError(\n",
      "ValueError: Expected n_neighbors <= n_samples,  but n_samples = 54, n_neighbors = 61\n",
      "\n",
      "  warnings.warn(\n",
      "C:\\Python310\\lib\\site-packages\\sklearn\\model_selection\\_validation.py:770: UserWarning: Scoring failed. The score on this train-test partition for these parameters will be set to nan. Details: \n",
      "Traceback (most recent call last):\n",
      "  File \"C:\\Python310\\lib\\site-packages\\sklearn\\model_selection\\_validation.py\", line 761, in _score\n",
      "    scores = scorer(estimator, X_test, y_test)\n",
      "  File \"C:\\Python310\\lib\\site-packages\\sklearn\\metrics\\_scorer.py\", line 418, in _passthrough_scorer\n",
      "    return estimator.score(*args, **kwargs)\n",
      "  File \"C:\\Python310\\lib\\site-packages\\sklearn\\base.py\", line 651, in score\n",
      "    return accuracy_score(y, self.predict(X), sample_weight=sample_weight)\n",
      "  File \"C:\\Python310\\lib\\site-packages\\sklearn\\neighbors\\_classification.py\", line 214, in predict\n",
      "    neigh_dist, neigh_ind = self.kneighbors(X)\n",
      "  File \"C:\\Python310\\lib\\site-packages\\sklearn\\neighbors\\_base.py\", line 727, in kneighbors\n",
      "    raise ValueError(\n",
      "ValueError: Expected n_neighbors <= n_samples,  but n_samples = 54, n_neighbors = 61\n",
      "\n",
      "  warnings.warn(\n",
      "C:\\Python310\\lib\\site-packages\\sklearn\\model_selection\\_validation.py:770: UserWarning: Scoring failed. The score on this train-test partition for these parameters will be set to nan. Details: \n",
      "Traceback (most recent call last):\n",
      "  File \"C:\\Python310\\lib\\site-packages\\sklearn\\model_selection\\_validation.py\", line 761, in _score\n",
      "    scores = scorer(estimator, X_test, y_test)\n",
      "  File \"C:\\Python310\\lib\\site-packages\\sklearn\\metrics\\_scorer.py\", line 418, in _passthrough_scorer\n",
      "    return estimator.score(*args, **kwargs)\n",
      "  File \"C:\\Python310\\lib\\site-packages\\sklearn\\base.py\", line 651, in score\n",
      "    return accuracy_score(y, self.predict(X), sample_weight=sample_weight)\n",
      "  File \"C:\\Python310\\lib\\site-packages\\sklearn\\neighbors\\_classification.py\", line 214, in predict\n",
      "    neigh_dist, neigh_ind = self.kneighbors(X)\n",
      "  File \"C:\\Python310\\lib\\site-packages\\sklearn\\neighbors\\_base.py\", line 727, in kneighbors\n",
      "    raise ValueError(\n",
      "ValueError: Expected n_neighbors <= n_samples,  but n_samples = 55, n_neighbors = 61\n",
      "\n",
      "  warnings.warn(\n",
      "C:\\Python310\\lib\\site-packages\\sklearn\\model_selection\\_validation.py:770: UserWarning: Scoring failed. The score on this train-test partition for these parameters will be set to nan. Details: \n",
      "Traceback (most recent call last):\n",
      "  File \"C:\\Python310\\lib\\site-packages\\sklearn\\model_selection\\_validation.py\", line 761, in _score\n",
      "    scores = scorer(estimator, X_test, y_test)\n",
      "  File \"C:\\Python310\\lib\\site-packages\\sklearn\\metrics\\_scorer.py\", line 418, in _passthrough_scorer\n",
      "    return estimator.score(*args, **kwargs)\n",
      "  File \"C:\\Python310\\lib\\site-packages\\sklearn\\base.py\", line 651, in score\n",
      "    return accuracy_score(y, self.predict(X), sample_weight=sample_weight)\n",
      "  File \"C:\\Python310\\lib\\site-packages\\sklearn\\neighbors\\_classification.py\", line 214, in predict\n",
      "    neigh_dist, neigh_ind = self.kneighbors(X)\n",
      "  File \"C:\\Python310\\lib\\site-packages\\sklearn\\neighbors\\_base.py\", line 727, in kneighbors\n",
      "    raise ValueError(\n",
      "ValueError: Expected n_neighbors <= n_samples,  but n_samples = 55, n_neighbors = 61\n",
      "\n",
      "  warnings.warn(\n",
      "C:\\Python310\\lib\\site-packages\\sklearn\\model_selection\\_validation.py:770: UserWarning: Scoring failed. The score on this train-test partition for these parameters will be set to nan. Details: \n",
      "Traceback (most recent call last):\n",
      "  File \"C:\\Python310\\lib\\site-packages\\sklearn\\model_selection\\_validation.py\", line 761, in _score\n",
      "    scores = scorer(estimator, X_test, y_test)\n",
      "  File \"C:\\Python310\\lib\\site-packages\\sklearn\\metrics\\_scorer.py\", line 418, in _passthrough_scorer\n",
      "    return estimator.score(*args, **kwargs)\n",
      "  File \"C:\\Python310\\lib\\site-packages\\sklearn\\base.py\", line 651, in score\n",
      "    return accuracy_score(y, self.predict(X), sample_weight=sample_weight)\n",
      "  File \"C:\\Python310\\lib\\site-packages\\sklearn\\neighbors\\_classification.py\", line 214, in predict\n",
      "    neigh_dist, neigh_ind = self.kneighbors(X)\n",
      "  File \"C:\\Python310\\lib\\site-packages\\sklearn\\neighbors\\_base.py\", line 727, in kneighbors\n",
      "    raise ValueError(\n",
      "ValueError: Expected n_neighbors <= n_samples,  but n_samples = 54, n_neighbors = 62\n",
      "\n",
      "  warnings.warn(\n",
      "C:\\Python310\\lib\\site-packages\\sklearn\\model_selection\\_validation.py:770: UserWarning: Scoring failed. The score on this train-test partition for these parameters will be set to nan. Details: \n",
      "Traceback (most recent call last):\n",
      "  File \"C:\\Python310\\lib\\site-packages\\sklearn\\model_selection\\_validation.py\", line 761, in _score\n",
      "    scores = scorer(estimator, X_test, y_test)\n",
      "  File \"C:\\Python310\\lib\\site-packages\\sklearn\\metrics\\_scorer.py\", line 418, in _passthrough_scorer\n",
      "    return estimator.score(*args, **kwargs)\n",
      "  File \"C:\\Python310\\lib\\site-packages\\sklearn\\base.py\", line 651, in score\n",
      "    return accuracy_score(y, self.predict(X), sample_weight=sample_weight)\n",
      "  File \"C:\\Python310\\lib\\site-packages\\sklearn\\neighbors\\_classification.py\", line 214, in predict\n",
      "    neigh_dist, neigh_ind = self.kneighbors(X)\n",
      "  File \"C:\\Python310\\lib\\site-packages\\sklearn\\neighbors\\_base.py\", line 727, in kneighbors\n",
      "    raise ValueError(\n",
      "ValueError: Expected n_neighbors <= n_samples,  but n_samples = 54, n_neighbors = 62\n",
      "\n",
      "  warnings.warn(\n",
      "C:\\Python310\\lib\\site-packages\\sklearn\\model_selection\\_validation.py:770: UserWarning: Scoring failed. The score on this train-test partition for these parameters will be set to nan. Details: \n",
      "Traceback (most recent call last):\n",
      "  File \"C:\\Python310\\lib\\site-packages\\sklearn\\model_selection\\_validation.py\", line 761, in _score\n",
      "    scores = scorer(estimator, X_test, y_test)\n",
      "  File \"C:\\Python310\\lib\\site-packages\\sklearn\\metrics\\_scorer.py\", line 418, in _passthrough_scorer\n",
      "    return estimator.score(*args, **kwargs)\n",
      "  File \"C:\\Python310\\lib\\site-packages\\sklearn\\base.py\", line 651, in score\n",
      "    return accuracy_score(y, self.predict(X), sample_weight=sample_weight)\n",
      "  File \"C:\\Python310\\lib\\site-packages\\sklearn\\neighbors\\_classification.py\", line 214, in predict\n",
      "    neigh_dist, neigh_ind = self.kneighbors(X)\n",
      "  File \"C:\\Python310\\lib\\site-packages\\sklearn\\neighbors\\_base.py\", line 727, in kneighbors\n",
      "    raise ValueError(\n",
      "ValueError: Expected n_neighbors <= n_samples,  but n_samples = 54, n_neighbors = 62\n",
      "\n",
      "  warnings.warn(\n",
      "C:\\Python310\\lib\\site-packages\\sklearn\\model_selection\\_validation.py:770: UserWarning: Scoring failed. The score on this train-test partition for these parameters will be set to nan. Details: \n",
      "Traceback (most recent call last):\n",
      "  File \"C:\\Python310\\lib\\site-packages\\sklearn\\model_selection\\_validation.py\", line 761, in _score\n",
      "    scores = scorer(estimator, X_test, y_test)\n",
      "  File \"C:\\Python310\\lib\\site-packages\\sklearn\\metrics\\_scorer.py\", line 418, in _passthrough_scorer\n",
      "    return estimator.score(*args, **kwargs)\n",
      "  File \"C:\\Python310\\lib\\site-packages\\sklearn\\base.py\", line 651, in score\n",
      "    return accuracy_score(y, self.predict(X), sample_weight=sample_weight)\n",
      "  File \"C:\\Python310\\lib\\site-packages\\sklearn\\neighbors\\_classification.py\", line 214, in predict\n",
      "    neigh_dist, neigh_ind = self.kneighbors(X)\n",
      "  File \"C:\\Python310\\lib\\site-packages\\sklearn\\neighbors\\_base.py\", line 727, in kneighbors\n",
      "    raise ValueError(\n",
      "ValueError: Expected n_neighbors <= n_samples,  but n_samples = 55, n_neighbors = 62\n",
      "\n",
      "  warnings.warn(\n",
      "C:\\Python310\\lib\\site-packages\\sklearn\\model_selection\\_validation.py:770: UserWarning: Scoring failed. The score on this train-test partition for these parameters will be set to nan. Details: \n",
      "Traceback (most recent call last):\n",
      "  File \"C:\\Python310\\lib\\site-packages\\sklearn\\model_selection\\_validation.py\", line 761, in _score\n",
      "    scores = scorer(estimator, X_test, y_test)\n",
      "  File \"C:\\Python310\\lib\\site-packages\\sklearn\\metrics\\_scorer.py\", line 418, in _passthrough_scorer\n",
      "    return estimator.score(*args, **kwargs)\n",
      "  File \"C:\\Python310\\lib\\site-packages\\sklearn\\base.py\", line 651, in score\n",
      "    return accuracy_score(y, self.predict(X), sample_weight=sample_weight)\n",
      "  File \"C:\\Python310\\lib\\site-packages\\sklearn\\neighbors\\_classification.py\", line 214, in predict\n",
      "    neigh_dist, neigh_ind = self.kneighbors(X)\n",
      "  File \"C:\\Python310\\lib\\site-packages\\sklearn\\neighbors\\_base.py\", line 727, in kneighbors\n",
      "    raise ValueError(\n",
      "ValueError: Expected n_neighbors <= n_samples,  but n_samples = 55, n_neighbors = 62\n",
      "\n",
      "  warnings.warn(\n",
      "C:\\Python310\\lib\\site-packages\\sklearn\\model_selection\\_validation.py:770: UserWarning: Scoring failed. The score on this train-test partition for these parameters will be set to nan. Details: \n",
      "Traceback (most recent call last):\n",
      "  File \"C:\\Python310\\lib\\site-packages\\sklearn\\model_selection\\_validation.py\", line 761, in _score\n",
      "    scores = scorer(estimator, X_test, y_test)\n",
      "  File \"C:\\Python310\\lib\\site-packages\\sklearn\\metrics\\_scorer.py\", line 418, in _passthrough_scorer\n",
      "    return estimator.score(*args, **kwargs)\n",
      "  File \"C:\\Python310\\lib\\site-packages\\sklearn\\base.py\", line 651, in score\n",
      "    return accuracy_score(y, self.predict(X), sample_weight=sample_weight)\n",
      "  File \"C:\\Python310\\lib\\site-packages\\sklearn\\neighbors\\_classification.py\", line 214, in predict\n",
      "    neigh_dist, neigh_ind = self.kneighbors(X)\n",
      "  File \"C:\\Python310\\lib\\site-packages\\sklearn\\neighbors\\_base.py\", line 727, in kneighbors\n",
      "    raise ValueError(\n",
      "ValueError: Expected n_neighbors <= n_samples,  but n_samples = 54, n_neighbors = 63\n",
      "\n",
      "  warnings.warn(\n",
      "C:\\Python310\\lib\\site-packages\\sklearn\\model_selection\\_validation.py:770: UserWarning: Scoring failed. The score on this train-test partition for these parameters will be set to nan. Details: \n",
      "Traceback (most recent call last):\n",
      "  File \"C:\\Python310\\lib\\site-packages\\sklearn\\model_selection\\_validation.py\", line 761, in _score\n",
      "    scores = scorer(estimator, X_test, y_test)\n",
      "  File \"C:\\Python310\\lib\\site-packages\\sklearn\\metrics\\_scorer.py\", line 418, in _passthrough_scorer\n",
      "    return estimator.score(*args, **kwargs)\n",
      "  File \"C:\\Python310\\lib\\site-packages\\sklearn\\base.py\", line 651, in score\n",
      "    return accuracy_score(y, self.predict(X), sample_weight=sample_weight)\n",
      "  File \"C:\\Python310\\lib\\site-packages\\sklearn\\neighbors\\_classification.py\", line 214, in predict\n",
      "    neigh_dist, neigh_ind = self.kneighbors(X)\n",
      "  File \"C:\\Python310\\lib\\site-packages\\sklearn\\neighbors\\_base.py\", line 727, in kneighbors\n",
      "    raise ValueError(\n",
      "ValueError: Expected n_neighbors <= n_samples,  but n_samples = 54, n_neighbors = 63\n",
      "\n",
      "  warnings.warn(\n",
      "C:\\Python310\\lib\\site-packages\\sklearn\\model_selection\\_validation.py:770: UserWarning: Scoring failed. The score on this train-test partition for these parameters will be set to nan. Details: \n",
      "Traceback (most recent call last):\n",
      "  File \"C:\\Python310\\lib\\site-packages\\sklearn\\model_selection\\_validation.py\", line 761, in _score\n",
      "    scores = scorer(estimator, X_test, y_test)\n",
      "  File \"C:\\Python310\\lib\\site-packages\\sklearn\\metrics\\_scorer.py\", line 418, in _passthrough_scorer\n",
      "    return estimator.score(*args, **kwargs)\n",
      "  File \"C:\\Python310\\lib\\site-packages\\sklearn\\base.py\", line 651, in score\n",
      "    return accuracy_score(y, self.predict(X), sample_weight=sample_weight)\n",
      "  File \"C:\\Python310\\lib\\site-packages\\sklearn\\neighbors\\_classification.py\", line 214, in predict\n",
      "    neigh_dist, neigh_ind = self.kneighbors(X)\n",
      "  File \"C:\\Python310\\lib\\site-packages\\sklearn\\neighbors\\_base.py\", line 727, in kneighbors\n",
      "    raise ValueError(\n",
      "ValueError: Expected n_neighbors <= n_samples,  but n_samples = 54, n_neighbors = 63\n",
      "\n",
      "  warnings.warn(\n",
      "C:\\Python310\\lib\\site-packages\\sklearn\\model_selection\\_validation.py:770: UserWarning: Scoring failed. The score on this train-test partition for these parameters will be set to nan. Details: \n",
      "Traceback (most recent call last):\n",
      "  File \"C:\\Python310\\lib\\site-packages\\sklearn\\model_selection\\_validation.py\", line 761, in _score\n",
      "    scores = scorer(estimator, X_test, y_test)\n",
      "  File \"C:\\Python310\\lib\\site-packages\\sklearn\\metrics\\_scorer.py\", line 418, in _passthrough_scorer\n",
      "    return estimator.score(*args, **kwargs)\n",
      "  File \"C:\\Python310\\lib\\site-packages\\sklearn\\base.py\", line 651, in score\n",
      "    return accuracy_score(y, self.predict(X), sample_weight=sample_weight)\n",
      "  File \"C:\\Python310\\lib\\site-packages\\sklearn\\neighbors\\_classification.py\", line 214, in predict\n",
      "    neigh_dist, neigh_ind = self.kneighbors(X)\n",
      "  File \"C:\\Python310\\lib\\site-packages\\sklearn\\neighbors\\_base.py\", line 727, in kneighbors\n",
      "    raise ValueError(\n",
      "ValueError: Expected n_neighbors <= n_samples,  but n_samples = 55, n_neighbors = 63\n",
      "\n",
      "  warnings.warn(\n",
      "C:\\Python310\\lib\\site-packages\\sklearn\\model_selection\\_validation.py:770: UserWarning: Scoring failed. The score on this train-test partition for these parameters will be set to nan. Details: \n",
      "Traceback (most recent call last):\n",
      "  File \"C:\\Python310\\lib\\site-packages\\sklearn\\model_selection\\_validation.py\", line 761, in _score\n",
      "    scores = scorer(estimator, X_test, y_test)\n",
      "  File \"C:\\Python310\\lib\\site-packages\\sklearn\\metrics\\_scorer.py\", line 418, in _passthrough_scorer\n",
      "    return estimator.score(*args, **kwargs)\n",
      "  File \"C:\\Python310\\lib\\site-packages\\sklearn\\base.py\", line 651, in score\n",
      "    return accuracy_score(y, self.predict(X), sample_weight=sample_weight)\n",
      "  File \"C:\\Python310\\lib\\site-packages\\sklearn\\neighbors\\_classification.py\", line 214, in predict\n",
      "    neigh_dist, neigh_ind = self.kneighbors(X)\n",
      "  File \"C:\\Python310\\lib\\site-packages\\sklearn\\neighbors\\_base.py\", line 727, in kneighbors\n",
      "    raise ValueError(\n",
      "ValueError: Expected n_neighbors <= n_samples,  but n_samples = 55, n_neighbors = 63\n",
      "\n",
      "  warnings.warn(\n",
      "C:\\Python310\\lib\\site-packages\\sklearn\\model_selection\\_validation.py:770: UserWarning: Scoring failed. The score on this train-test partition for these parameters will be set to nan. Details: \n",
      "Traceback (most recent call last):\n",
      "  File \"C:\\Python310\\lib\\site-packages\\sklearn\\model_selection\\_validation.py\", line 761, in _score\n",
      "    scores = scorer(estimator, X_test, y_test)\n",
      "  File \"C:\\Python310\\lib\\site-packages\\sklearn\\metrics\\_scorer.py\", line 418, in _passthrough_scorer\n",
      "    return estimator.score(*args, **kwargs)\n",
      "  File \"C:\\Python310\\lib\\site-packages\\sklearn\\base.py\", line 651, in score\n",
      "    return accuracy_score(y, self.predict(X), sample_weight=sample_weight)\n",
      "  File \"C:\\Python310\\lib\\site-packages\\sklearn\\neighbors\\_classification.py\", line 214, in predict\n",
      "    neigh_dist, neigh_ind = self.kneighbors(X)\n",
      "  File \"C:\\Python310\\lib\\site-packages\\sklearn\\neighbors\\_base.py\", line 727, in kneighbors\n",
      "    raise ValueError(\n",
      "ValueError: Expected n_neighbors <= n_samples,  but n_samples = 54, n_neighbors = 64\n",
      "\n",
      "  warnings.warn(\n",
      "C:\\Python310\\lib\\site-packages\\sklearn\\model_selection\\_validation.py:770: UserWarning: Scoring failed. The score on this train-test partition for these parameters will be set to nan. Details: \n",
      "Traceback (most recent call last):\n",
      "  File \"C:\\Python310\\lib\\site-packages\\sklearn\\model_selection\\_validation.py\", line 761, in _score\n",
      "    scores = scorer(estimator, X_test, y_test)\n",
      "  File \"C:\\Python310\\lib\\site-packages\\sklearn\\metrics\\_scorer.py\", line 418, in _passthrough_scorer\n",
      "    return estimator.score(*args, **kwargs)\n",
      "  File \"C:\\Python310\\lib\\site-packages\\sklearn\\base.py\", line 651, in score\n",
      "    return accuracy_score(y, self.predict(X), sample_weight=sample_weight)\n",
      "  File \"C:\\Python310\\lib\\site-packages\\sklearn\\neighbors\\_classification.py\", line 214, in predict\n",
      "    neigh_dist, neigh_ind = self.kneighbors(X)\n",
      "  File \"C:\\Python310\\lib\\site-packages\\sklearn\\neighbors\\_base.py\", line 727, in kneighbors\n",
      "    raise ValueError(\n",
      "ValueError: Expected n_neighbors <= n_samples,  but n_samples = 54, n_neighbors = 64\n",
      "\n",
      "  warnings.warn(\n",
      "C:\\Python310\\lib\\site-packages\\sklearn\\model_selection\\_validation.py:770: UserWarning: Scoring failed. The score on this train-test partition for these parameters will be set to nan. Details: \n",
      "Traceback (most recent call last):\n",
      "  File \"C:\\Python310\\lib\\site-packages\\sklearn\\model_selection\\_validation.py\", line 761, in _score\n",
      "    scores = scorer(estimator, X_test, y_test)\n",
      "  File \"C:\\Python310\\lib\\site-packages\\sklearn\\metrics\\_scorer.py\", line 418, in _passthrough_scorer\n",
      "    return estimator.score(*args, **kwargs)\n",
      "  File \"C:\\Python310\\lib\\site-packages\\sklearn\\base.py\", line 651, in score\n",
      "    return accuracy_score(y, self.predict(X), sample_weight=sample_weight)\n",
      "  File \"C:\\Python310\\lib\\site-packages\\sklearn\\neighbors\\_classification.py\", line 214, in predict\n",
      "    neigh_dist, neigh_ind = self.kneighbors(X)\n",
      "  File \"C:\\Python310\\lib\\site-packages\\sklearn\\neighbors\\_base.py\", line 727, in kneighbors\n",
      "    raise ValueError(\n",
      "ValueError: Expected n_neighbors <= n_samples,  but n_samples = 54, n_neighbors = 64\n",
      "\n",
      "  warnings.warn(\n",
      "C:\\Python310\\lib\\site-packages\\sklearn\\model_selection\\_validation.py:770: UserWarning: Scoring failed. The score on this train-test partition for these parameters will be set to nan. Details: \n",
      "Traceback (most recent call last):\n",
      "  File \"C:\\Python310\\lib\\site-packages\\sklearn\\model_selection\\_validation.py\", line 761, in _score\n",
      "    scores = scorer(estimator, X_test, y_test)\n",
      "  File \"C:\\Python310\\lib\\site-packages\\sklearn\\metrics\\_scorer.py\", line 418, in _passthrough_scorer\n",
      "    return estimator.score(*args, **kwargs)\n",
      "  File \"C:\\Python310\\lib\\site-packages\\sklearn\\base.py\", line 651, in score\n",
      "    return accuracy_score(y, self.predict(X), sample_weight=sample_weight)\n",
      "  File \"C:\\Python310\\lib\\site-packages\\sklearn\\neighbors\\_classification.py\", line 214, in predict\n",
      "    neigh_dist, neigh_ind = self.kneighbors(X)\n",
      "  File \"C:\\Python310\\lib\\site-packages\\sklearn\\neighbors\\_base.py\", line 727, in kneighbors\n",
      "    raise ValueError(\n",
      "ValueError: Expected n_neighbors <= n_samples,  but n_samples = 55, n_neighbors = 64\n",
      "\n",
      "  warnings.warn(\n",
      "C:\\Python310\\lib\\site-packages\\sklearn\\model_selection\\_validation.py:770: UserWarning: Scoring failed. The score on this train-test partition for these parameters will be set to nan. Details: \n",
      "Traceback (most recent call last):\n",
      "  File \"C:\\Python310\\lib\\site-packages\\sklearn\\model_selection\\_validation.py\", line 761, in _score\n",
      "    scores = scorer(estimator, X_test, y_test)\n",
      "  File \"C:\\Python310\\lib\\site-packages\\sklearn\\metrics\\_scorer.py\", line 418, in _passthrough_scorer\n",
      "    return estimator.score(*args, **kwargs)\n",
      "  File \"C:\\Python310\\lib\\site-packages\\sklearn\\base.py\", line 651, in score\n",
      "    return accuracy_score(y, self.predict(X), sample_weight=sample_weight)\n",
      "  File \"C:\\Python310\\lib\\site-packages\\sklearn\\neighbors\\_classification.py\", line 214, in predict\n",
      "    neigh_dist, neigh_ind = self.kneighbors(X)\n",
      "  File \"C:\\Python310\\lib\\site-packages\\sklearn\\neighbors\\_base.py\", line 727, in kneighbors\n",
      "    raise ValueError(\n",
      "ValueError: Expected n_neighbors <= n_samples,  but n_samples = 55, n_neighbors = 64\n",
      "\n",
      "  warnings.warn(\n",
      "C:\\Python310\\lib\\site-packages\\sklearn\\model_selection\\_validation.py:770: UserWarning: Scoring failed. The score on this train-test partition for these parameters will be set to nan. Details: \n",
      "Traceback (most recent call last):\n",
      "  File \"C:\\Python310\\lib\\site-packages\\sklearn\\model_selection\\_validation.py\", line 761, in _score\n",
      "    scores = scorer(estimator, X_test, y_test)\n",
      "  File \"C:\\Python310\\lib\\site-packages\\sklearn\\metrics\\_scorer.py\", line 418, in _passthrough_scorer\n",
      "    return estimator.score(*args, **kwargs)\n",
      "  File \"C:\\Python310\\lib\\site-packages\\sklearn\\base.py\", line 651, in score\n",
      "    return accuracy_score(y, self.predict(X), sample_weight=sample_weight)\n",
      "  File \"C:\\Python310\\lib\\site-packages\\sklearn\\neighbors\\_classification.py\", line 214, in predict\n",
      "    neigh_dist, neigh_ind = self.kneighbors(X)\n",
      "  File \"C:\\Python310\\lib\\site-packages\\sklearn\\neighbors\\_base.py\", line 727, in kneighbors\n",
      "    raise ValueError(\n",
      "ValueError: Expected n_neighbors <= n_samples,  but n_samples = 54, n_neighbors = 65\n",
      "\n",
      "  warnings.warn(\n",
      "C:\\Python310\\lib\\site-packages\\sklearn\\model_selection\\_validation.py:770: UserWarning: Scoring failed. The score on this train-test partition for these parameters will be set to nan. Details: \n",
      "Traceback (most recent call last):\n",
      "  File \"C:\\Python310\\lib\\site-packages\\sklearn\\model_selection\\_validation.py\", line 761, in _score\n",
      "    scores = scorer(estimator, X_test, y_test)\n",
      "  File \"C:\\Python310\\lib\\site-packages\\sklearn\\metrics\\_scorer.py\", line 418, in _passthrough_scorer\n",
      "    return estimator.score(*args, **kwargs)\n",
      "  File \"C:\\Python310\\lib\\site-packages\\sklearn\\base.py\", line 651, in score\n",
      "    return accuracy_score(y, self.predict(X), sample_weight=sample_weight)\n",
      "  File \"C:\\Python310\\lib\\site-packages\\sklearn\\neighbors\\_classification.py\", line 214, in predict\n",
      "    neigh_dist, neigh_ind = self.kneighbors(X)\n",
      "  File \"C:\\Python310\\lib\\site-packages\\sklearn\\neighbors\\_base.py\", line 727, in kneighbors\n",
      "    raise ValueError(\n",
      "ValueError: Expected n_neighbors <= n_samples,  but n_samples = 54, n_neighbors = 65\n",
      "\n",
      "  warnings.warn(\n",
      "C:\\Python310\\lib\\site-packages\\sklearn\\model_selection\\_validation.py:770: UserWarning: Scoring failed. The score on this train-test partition for these parameters will be set to nan. Details: \n",
      "Traceback (most recent call last):\n",
      "  File \"C:\\Python310\\lib\\site-packages\\sklearn\\model_selection\\_validation.py\", line 761, in _score\n",
      "    scores = scorer(estimator, X_test, y_test)\n",
      "  File \"C:\\Python310\\lib\\site-packages\\sklearn\\metrics\\_scorer.py\", line 418, in _passthrough_scorer\n",
      "    return estimator.score(*args, **kwargs)\n",
      "  File \"C:\\Python310\\lib\\site-packages\\sklearn\\base.py\", line 651, in score\n",
      "    return accuracy_score(y, self.predict(X), sample_weight=sample_weight)\n",
      "  File \"C:\\Python310\\lib\\site-packages\\sklearn\\neighbors\\_classification.py\", line 214, in predict\n",
      "    neigh_dist, neigh_ind = self.kneighbors(X)\n",
      "  File \"C:\\Python310\\lib\\site-packages\\sklearn\\neighbors\\_base.py\", line 727, in kneighbors\n",
      "    raise ValueError(\n",
      "ValueError: Expected n_neighbors <= n_samples,  but n_samples = 54, n_neighbors = 65\n",
      "\n",
      "  warnings.warn(\n",
      "C:\\Python310\\lib\\site-packages\\sklearn\\model_selection\\_validation.py:770: UserWarning: Scoring failed. The score on this train-test partition for these parameters will be set to nan. Details: \n",
      "Traceback (most recent call last):\n",
      "  File \"C:\\Python310\\lib\\site-packages\\sklearn\\model_selection\\_validation.py\", line 761, in _score\n",
      "    scores = scorer(estimator, X_test, y_test)\n",
      "  File \"C:\\Python310\\lib\\site-packages\\sklearn\\metrics\\_scorer.py\", line 418, in _passthrough_scorer\n",
      "    return estimator.score(*args, **kwargs)\n",
      "  File \"C:\\Python310\\lib\\site-packages\\sklearn\\base.py\", line 651, in score\n",
      "    return accuracy_score(y, self.predict(X), sample_weight=sample_weight)\n",
      "  File \"C:\\Python310\\lib\\site-packages\\sklearn\\neighbors\\_classification.py\", line 214, in predict\n",
      "    neigh_dist, neigh_ind = self.kneighbors(X)\n",
      "  File \"C:\\Python310\\lib\\site-packages\\sklearn\\neighbors\\_base.py\", line 727, in kneighbors\n",
      "    raise ValueError(\n",
      "ValueError: Expected n_neighbors <= n_samples,  but n_samples = 55, n_neighbors = 65\n",
      "\n",
      "  warnings.warn(\n",
      "C:\\Python310\\lib\\site-packages\\sklearn\\model_selection\\_validation.py:770: UserWarning: Scoring failed. The score on this train-test partition for these parameters will be set to nan. Details: \n",
      "Traceback (most recent call last):\n",
      "  File \"C:\\Python310\\lib\\site-packages\\sklearn\\model_selection\\_validation.py\", line 761, in _score\n",
      "    scores = scorer(estimator, X_test, y_test)\n",
      "  File \"C:\\Python310\\lib\\site-packages\\sklearn\\metrics\\_scorer.py\", line 418, in _passthrough_scorer\n",
      "    return estimator.score(*args, **kwargs)\n",
      "  File \"C:\\Python310\\lib\\site-packages\\sklearn\\base.py\", line 651, in score\n",
      "    return accuracy_score(y, self.predict(X), sample_weight=sample_weight)\n",
      "  File \"C:\\Python310\\lib\\site-packages\\sklearn\\neighbors\\_classification.py\", line 214, in predict\n",
      "    neigh_dist, neigh_ind = self.kneighbors(X)\n",
      "  File \"C:\\Python310\\lib\\site-packages\\sklearn\\neighbors\\_base.py\", line 727, in kneighbors\n",
      "    raise ValueError(\n",
      "ValueError: Expected n_neighbors <= n_samples,  but n_samples = 55, n_neighbors = 65\n",
      "\n",
      "  warnings.warn(\n",
      "C:\\Python310\\lib\\site-packages\\sklearn\\model_selection\\_validation.py:770: UserWarning: Scoring failed. The score on this train-test partition for these parameters will be set to nan. Details: \n",
      "Traceback (most recent call last):\n",
      "  File \"C:\\Python310\\lib\\site-packages\\sklearn\\model_selection\\_validation.py\", line 761, in _score\n",
      "    scores = scorer(estimator, X_test, y_test)\n",
      "  File \"C:\\Python310\\lib\\site-packages\\sklearn\\metrics\\_scorer.py\", line 418, in _passthrough_scorer\n",
      "    return estimator.score(*args, **kwargs)\n",
      "  File \"C:\\Python310\\lib\\site-packages\\sklearn\\base.py\", line 651, in score\n",
      "    return accuracy_score(y, self.predict(X), sample_weight=sample_weight)\n",
      "  File \"C:\\Python310\\lib\\site-packages\\sklearn\\neighbors\\_classification.py\", line 214, in predict\n",
      "    neigh_dist, neigh_ind = self.kneighbors(X)\n",
      "  File \"C:\\Python310\\lib\\site-packages\\sklearn\\neighbors\\_base.py\", line 727, in kneighbors\n",
      "    raise ValueError(\n",
      "ValueError: Expected n_neighbors <= n_samples,  but n_samples = 54, n_neighbors = 66\n",
      "\n",
      "  warnings.warn(\n",
      "C:\\Python310\\lib\\site-packages\\sklearn\\model_selection\\_validation.py:770: UserWarning: Scoring failed. The score on this train-test partition for these parameters will be set to nan. Details: \n",
      "Traceback (most recent call last):\n",
      "  File \"C:\\Python310\\lib\\site-packages\\sklearn\\model_selection\\_validation.py\", line 761, in _score\n",
      "    scores = scorer(estimator, X_test, y_test)\n",
      "  File \"C:\\Python310\\lib\\site-packages\\sklearn\\metrics\\_scorer.py\", line 418, in _passthrough_scorer\n",
      "    return estimator.score(*args, **kwargs)\n",
      "  File \"C:\\Python310\\lib\\site-packages\\sklearn\\base.py\", line 651, in score\n",
      "    return accuracy_score(y, self.predict(X), sample_weight=sample_weight)\n",
      "  File \"C:\\Python310\\lib\\site-packages\\sklearn\\neighbors\\_classification.py\", line 214, in predict\n",
      "    neigh_dist, neigh_ind = self.kneighbors(X)\n",
      "  File \"C:\\Python310\\lib\\site-packages\\sklearn\\neighbors\\_base.py\", line 727, in kneighbors\n",
      "    raise ValueError(\n",
      "ValueError: Expected n_neighbors <= n_samples,  but n_samples = 54, n_neighbors = 66\n",
      "\n",
      "  warnings.warn(\n",
      "C:\\Python310\\lib\\site-packages\\sklearn\\model_selection\\_validation.py:770: UserWarning: Scoring failed. The score on this train-test partition for these parameters will be set to nan. Details: \n",
      "Traceback (most recent call last):\n",
      "  File \"C:\\Python310\\lib\\site-packages\\sklearn\\model_selection\\_validation.py\", line 761, in _score\n",
      "    scores = scorer(estimator, X_test, y_test)\n",
      "  File \"C:\\Python310\\lib\\site-packages\\sklearn\\metrics\\_scorer.py\", line 418, in _passthrough_scorer\n",
      "    return estimator.score(*args, **kwargs)\n",
      "  File \"C:\\Python310\\lib\\site-packages\\sklearn\\base.py\", line 651, in score\n",
      "    return accuracy_score(y, self.predict(X), sample_weight=sample_weight)\n",
      "  File \"C:\\Python310\\lib\\site-packages\\sklearn\\neighbors\\_classification.py\", line 214, in predict\n",
      "    neigh_dist, neigh_ind = self.kneighbors(X)\n",
      "  File \"C:\\Python310\\lib\\site-packages\\sklearn\\neighbors\\_base.py\", line 727, in kneighbors\n",
      "    raise ValueError(\n",
      "ValueError: Expected n_neighbors <= n_samples,  but n_samples = 54, n_neighbors = 66\n",
      "\n",
      "  warnings.warn(\n",
      "C:\\Python310\\lib\\site-packages\\sklearn\\model_selection\\_validation.py:770: UserWarning: Scoring failed. The score on this train-test partition for these parameters will be set to nan. Details: \n",
      "Traceback (most recent call last):\n",
      "  File \"C:\\Python310\\lib\\site-packages\\sklearn\\model_selection\\_validation.py\", line 761, in _score\n",
      "    scores = scorer(estimator, X_test, y_test)\n",
      "  File \"C:\\Python310\\lib\\site-packages\\sklearn\\metrics\\_scorer.py\", line 418, in _passthrough_scorer\n",
      "    return estimator.score(*args, **kwargs)\n",
      "  File \"C:\\Python310\\lib\\site-packages\\sklearn\\base.py\", line 651, in score\n",
      "    return accuracy_score(y, self.predict(X), sample_weight=sample_weight)\n",
      "  File \"C:\\Python310\\lib\\site-packages\\sklearn\\neighbors\\_classification.py\", line 214, in predict\n",
      "    neigh_dist, neigh_ind = self.kneighbors(X)\n",
      "  File \"C:\\Python310\\lib\\site-packages\\sklearn\\neighbors\\_base.py\", line 727, in kneighbors\n",
      "    raise ValueError(\n",
      "ValueError: Expected n_neighbors <= n_samples,  but n_samples = 55, n_neighbors = 66\n",
      "\n",
      "  warnings.warn(\n",
      "C:\\Python310\\lib\\site-packages\\sklearn\\model_selection\\_validation.py:770: UserWarning: Scoring failed. The score on this train-test partition for these parameters will be set to nan. Details: \n",
      "Traceback (most recent call last):\n",
      "  File \"C:\\Python310\\lib\\site-packages\\sklearn\\model_selection\\_validation.py\", line 761, in _score\n",
      "    scores = scorer(estimator, X_test, y_test)\n",
      "  File \"C:\\Python310\\lib\\site-packages\\sklearn\\metrics\\_scorer.py\", line 418, in _passthrough_scorer\n",
      "    return estimator.score(*args, **kwargs)\n",
      "  File \"C:\\Python310\\lib\\site-packages\\sklearn\\base.py\", line 651, in score\n",
      "    return accuracy_score(y, self.predict(X), sample_weight=sample_weight)\n",
      "  File \"C:\\Python310\\lib\\site-packages\\sklearn\\neighbors\\_classification.py\", line 214, in predict\n",
      "    neigh_dist, neigh_ind = self.kneighbors(X)\n",
      "  File \"C:\\Python310\\lib\\site-packages\\sklearn\\neighbors\\_base.py\", line 727, in kneighbors\n",
      "    raise ValueError(\n",
      "ValueError: Expected n_neighbors <= n_samples,  but n_samples = 55, n_neighbors = 66\n",
      "\n",
      "  warnings.warn(\n",
      "C:\\Python310\\lib\\site-packages\\sklearn\\model_selection\\_validation.py:770: UserWarning: Scoring failed. The score on this train-test partition for these parameters will be set to nan. Details: \n",
      "Traceback (most recent call last):\n",
      "  File \"C:\\Python310\\lib\\site-packages\\sklearn\\model_selection\\_validation.py\", line 761, in _score\n",
      "    scores = scorer(estimator, X_test, y_test)\n",
      "  File \"C:\\Python310\\lib\\site-packages\\sklearn\\metrics\\_scorer.py\", line 418, in _passthrough_scorer\n",
      "    return estimator.score(*args, **kwargs)\n",
      "  File \"C:\\Python310\\lib\\site-packages\\sklearn\\base.py\", line 651, in score\n",
      "    return accuracy_score(y, self.predict(X), sample_weight=sample_weight)\n",
      "  File \"C:\\Python310\\lib\\site-packages\\sklearn\\neighbors\\_classification.py\", line 214, in predict\n",
      "    neigh_dist, neigh_ind = self.kneighbors(X)\n",
      "  File \"C:\\Python310\\lib\\site-packages\\sklearn\\neighbors\\_base.py\", line 727, in kneighbors\n",
      "    raise ValueError(\n",
      "ValueError: Expected n_neighbors <= n_samples,  but n_samples = 54, n_neighbors = 67\n",
      "\n",
      "  warnings.warn(\n",
      "C:\\Python310\\lib\\site-packages\\sklearn\\model_selection\\_validation.py:770: UserWarning: Scoring failed. The score on this train-test partition for these parameters will be set to nan. Details: \n",
      "Traceback (most recent call last):\n",
      "  File \"C:\\Python310\\lib\\site-packages\\sklearn\\model_selection\\_validation.py\", line 761, in _score\n",
      "    scores = scorer(estimator, X_test, y_test)\n",
      "  File \"C:\\Python310\\lib\\site-packages\\sklearn\\metrics\\_scorer.py\", line 418, in _passthrough_scorer\n",
      "    return estimator.score(*args, **kwargs)\n",
      "  File \"C:\\Python310\\lib\\site-packages\\sklearn\\base.py\", line 651, in score\n",
      "    return accuracy_score(y, self.predict(X), sample_weight=sample_weight)\n",
      "  File \"C:\\Python310\\lib\\site-packages\\sklearn\\neighbors\\_classification.py\", line 214, in predict\n",
      "    neigh_dist, neigh_ind = self.kneighbors(X)\n",
      "  File \"C:\\Python310\\lib\\site-packages\\sklearn\\neighbors\\_base.py\", line 727, in kneighbors\n",
      "    raise ValueError(\n",
      "ValueError: Expected n_neighbors <= n_samples,  but n_samples = 54, n_neighbors = 67\n",
      "\n",
      "  warnings.warn(\n",
      "C:\\Python310\\lib\\site-packages\\sklearn\\model_selection\\_validation.py:770: UserWarning: Scoring failed. The score on this train-test partition for these parameters will be set to nan. Details: \n",
      "Traceback (most recent call last):\n",
      "  File \"C:\\Python310\\lib\\site-packages\\sklearn\\model_selection\\_validation.py\", line 761, in _score\n",
      "    scores = scorer(estimator, X_test, y_test)\n",
      "  File \"C:\\Python310\\lib\\site-packages\\sklearn\\metrics\\_scorer.py\", line 418, in _passthrough_scorer\n",
      "    return estimator.score(*args, **kwargs)\n",
      "  File \"C:\\Python310\\lib\\site-packages\\sklearn\\base.py\", line 651, in score\n",
      "    return accuracy_score(y, self.predict(X), sample_weight=sample_weight)\n",
      "  File \"C:\\Python310\\lib\\site-packages\\sklearn\\neighbors\\_classification.py\", line 214, in predict\n",
      "    neigh_dist, neigh_ind = self.kneighbors(X)\n",
      "  File \"C:\\Python310\\lib\\site-packages\\sklearn\\neighbors\\_base.py\", line 727, in kneighbors\n",
      "    raise ValueError(\n",
      "ValueError: Expected n_neighbors <= n_samples,  but n_samples = 54, n_neighbors = 67\n",
      "\n",
      "  warnings.warn(\n",
      "C:\\Python310\\lib\\site-packages\\sklearn\\model_selection\\_validation.py:770: UserWarning: Scoring failed. The score on this train-test partition for these parameters will be set to nan. Details: \n",
      "Traceback (most recent call last):\n",
      "  File \"C:\\Python310\\lib\\site-packages\\sklearn\\model_selection\\_validation.py\", line 761, in _score\n",
      "    scores = scorer(estimator, X_test, y_test)\n",
      "  File \"C:\\Python310\\lib\\site-packages\\sklearn\\metrics\\_scorer.py\", line 418, in _passthrough_scorer\n",
      "    return estimator.score(*args, **kwargs)\n",
      "  File \"C:\\Python310\\lib\\site-packages\\sklearn\\base.py\", line 651, in score\n",
      "    return accuracy_score(y, self.predict(X), sample_weight=sample_weight)\n",
      "  File \"C:\\Python310\\lib\\site-packages\\sklearn\\neighbors\\_classification.py\", line 214, in predict\n",
      "    neigh_dist, neigh_ind = self.kneighbors(X)\n",
      "  File \"C:\\Python310\\lib\\site-packages\\sklearn\\neighbors\\_base.py\", line 727, in kneighbors\n",
      "    raise ValueError(\n",
      "ValueError: Expected n_neighbors <= n_samples,  but n_samples = 55, n_neighbors = 67\n",
      "\n",
      "  warnings.warn(\n",
      "C:\\Python310\\lib\\site-packages\\sklearn\\model_selection\\_validation.py:770: UserWarning: Scoring failed. The score on this train-test partition for these parameters will be set to nan. Details: \n",
      "Traceback (most recent call last):\n",
      "  File \"C:\\Python310\\lib\\site-packages\\sklearn\\model_selection\\_validation.py\", line 761, in _score\n",
      "    scores = scorer(estimator, X_test, y_test)\n",
      "  File \"C:\\Python310\\lib\\site-packages\\sklearn\\metrics\\_scorer.py\", line 418, in _passthrough_scorer\n",
      "    return estimator.score(*args, **kwargs)\n",
      "  File \"C:\\Python310\\lib\\site-packages\\sklearn\\base.py\", line 651, in score\n",
      "    return accuracy_score(y, self.predict(X), sample_weight=sample_weight)\n",
      "  File \"C:\\Python310\\lib\\site-packages\\sklearn\\neighbors\\_classification.py\", line 214, in predict\n",
      "    neigh_dist, neigh_ind = self.kneighbors(X)\n",
      "  File \"C:\\Python310\\lib\\site-packages\\sklearn\\neighbors\\_base.py\", line 727, in kneighbors\n",
      "    raise ValueError(\n",
      "ValueError: Expected n_neighbors <= n_samples,  but n_samples = 55, n_neighbors = 67\n",
      "\n",
      "  warnings.warn(\n",
      "C:\\Python310\\lib\\site-packages\\sklearn\\model_selection\\_validation.py:770: UserWarning: Scoring failed. The score on this train-test partition for these parameters will be set to nan. Details: \n",
      "Traceback (most recent call last):\n",
      "  File \"C:\\Python310\\lib\\site-packages\\sklearn\\model_selection\\_validation.py\", line 761, in _score\n",
      "    scores = scorer(estimator, X_test, y_test)\n",
      "  File \"C:\\Python310\\lib\\site-packages\\sklearn\\metrics\\_scorer.py\", line 418, in _passthrough_scorer\n",
      "    return estimator.score(*args, **kwargs)\n",
      "  File \"C:\\Python310\\lib\\site-packages\\sklearn\\base.py\", line 651, in score\n",
      "    return accuracy_score(y, self.predict(X), sample_weight=sample_weight)\n",
      "  File \"C:\\Python310\\lib\\site-packages\\sklearn\\neighbors\\_classification.py\", line 214, in predict\n",
      "    neigh_dist, neigh_ind = self.kneighbors(X)\n",
      "  File \"C:\\Python310\\lib\\site-packages\\sklearn\\neighbors\\_base.py\", line 727, in kneighbors\n",
      "    raise ValueError(\n",
      "ValueError: Expected n_neighbors <= n_samples,  but n_samples = 54, n_neighbors = 68\n",
      "\n",
      "  warnings.warn(\n",
      "C:\\Python310\\lib\\site-packages\\sklearn\\model_selection\\_validation.py:770: UserWarning: Scoring failed. The score on this train-test partition for these parameters will be set to nan. Details: \n",
      "Traceback (most recent call last):\n",
      "  File \"C:\\Python310\\lib\\site-packages\\sklearn\\model_selection\\_validation.py\", line 761, in _score\n",
      "    scores = scorer(estimator, X_test, y_test)\n",
      "  File \"C:\\Python310\\lib\\site-packages\\sklearn\\metrics\\_scorer.py\", line 418, in _passthrough_scorer\n",
      "    return estimator.score(*args, **kwargs)\n",
      "  File \"C:\\Python310\\lib\\site-packages\\sklearn\\base.py\", line 651, in score\n",
      "    return accuracy_score(y, self.predict(X), sample_weight=sample_weight)\n",
      "  File \"C:\\Python310\\lib\\site-packages\\sklearn\\neighbors\\_classification.py\", line 214, in predict\n",
      "    neigh_dist, neigh_ind = self.kneighbors(X)\n",
      "  File \"C:\\Python310\\lib\\site-packages\\sklearn\\neighbors\\_base.py\", line 727, in kneighbors\n",
      "    raise ValueError(\n",
      "ValueError: Expected n_neighbors <= n_samples,  but n_samples = 54, n_neighbors = 68\n",
      "\n",
      "  warnings.warn(\n",
      "C:\\Python310\\lib\\site-packages\\sklearn\\model_selection\\_validation.py:770: UserWarning: Scoring failed. The score on this train-test partition for these parameters will be set to nan. Details: \n",
      "Traceback (most recent call last):\n",
      "  File \"C:\\Python310\\lib\\site-packages\\sklearn\\model_selection\\_validation.py\", line 761, in _score\n",
      "    scores = scorer(estimator, X_test, y_test)\n",
      "  File \"C:\\Python310\\lib\\site-packages\\sklearn\\metrics\\_scorer.py\", line 418, in _passthrough_scorer\n",
      "    return estimator.score(*args, **kwargs)\n",
      "  File \"C:\\Python310\\lib\\site-packages\\sklearn\\base.py\", line 651, in score\n",
      "    return accuracy_score(y, self.predict(X), sample_weight=sample_weight)\n",
      "  File \"C:\\Python310\\lib\\site-packages\\sklearn\\neighbors\\_classification.py\", line 214, in predict\n",
      "    neigh_dist, neigh_ind = self.kneighbors(X)\n",
      "  File \"C:\\Python310\\lib\\site-packages\\sklearn\\neighbors\\_base.py\", line 727, in kneighbors\n",
      "    raise ValueError(\n",
      "ValueError: Expected n_neighbors <= n_samples,  but n_samples = 54, n_neighbors = 68\n",
      "\n",
      "  warnings.warn(\n",
      "C:\\Python310\\lib\\site-packages\\sklearn\\model_selection\\_validation.py:770: UserWarning: Scoring failed. The score on this train-test partition for these parameters will be set to nan. Details: \n",
      "Traceback (most recent call last):\n",
      "  File \"C:\\Python310\\lib\\site-packages\\sklearn\\model_selection\\_validation.py\", line 761, in _score\n",
      "    scores = scorer(estimator, X_test, y_test)\n",
      "  File \"C:\\Python310\\lib\\site-packages\\sklearn\\metrics\\_scorer.py\", line 418, in _passthrough_scorer\n",
      "    return estimator.score(*args, **kwargs)\n",
      "  File \"C:\\Python310\\lib\\site-packages\\sklearn\\base.py\", line 651, in score\n",
      "    return accuracy_score(y, self.predict(X), sample_weight=sample_weight)\n",
      "  File \"C:\\Python310\\lib\\site-packages\\sklearn\\neighbors\\_classification.py\", line 214, in predict\n",
      "    neigh_dist, neigh_ind = self.kneighbors(X)\n",
      "  File \"C:\\Python310\\lib\\site-packages\\sklearn\\neighbors\\_base.py\", line 727, in kneighbors\n",
      "    raise ValueError(\n",
      "ValueError: Expected n_neighbors <= n_samples,  but n_samples = 55, n_neighbors = 68\n",
      "\n",
      "  warnings.warn(\n",
      "C:\\Python310\\lib\\site-packages\\sklearn\\model_selection\\_validation.py:770: UserWarning: Scoring failed. The score on this train-test partition for these parameters will be set to nan. Details: \n",
      "Traceback (most recent call last):\n",
      "  File \"C:\\Python310\\lib\\site-packages\\sklearn\\model_selection\\_validation.py\", line 761, in _score\n",
      "    scores = scorer(estimator, X_test, y_test)\n",
      "  File \"C:\\Python310\\lib\\site-packages\\sklearn\\metrics\\_scorer.py\", line 418, in _passthrough_scorer\n",
      "    return estimator.score(*args, **kwargs)\n",
      "  File \"C:\\Python310\\lib\\site-packages\\sklearn\\base.py\", line 651, in score\n",
      "    return accuracy_score(y, self.predict(X), sample_weight=sample_weight)\n",
      "  File \"C:\\Python310\\lib\\site-packages\\sklearn\\neighbors\\_classification.py\", line 214, in predict\n",
      "    neigh_dist, neigh_ind = self.kneighbors(X)\n",
      "  File \"C:\\Python310\\lib\\site-packages\\sklearn\\neighbors\\_base.py\", line 727, in kneighbors\n",
      "    raise ValueError(\n",
      "ValueError: Expected n_neighbors <= n_samples,  but n_samples = 55, n_neighbors = 68\n",
      "\n",
      "  warnings.warn(\n",
      "C:\\Python310\\lib\\site-packages\\sklearn\\model_selection\\_validation.py:770: UserWarning: Scoring failed. The score on this train-test partition for these parameters will be set to nan. Details: \n",
      "Traceback (most recent call last):\n",
      "  File \"C:\\Python310\\lib\\site-packages\\sklearn\\model_selection\\_validation.py\", line 761, in _score\n",
      "    scores = scorer(estimator, X_test, y_test)\n",
      "  File \"C:\\Python310\\lib\\site-packages\\sklearn\\metrics\\_scorer.py\", line 418, in _passthrough_scorer\n",
      "    return estimator.score(*args, **kwargs)\n",
      "  File \"C:\\Python310\\lib\\site-packages\\sklearn\\base.py\", line 651, in score\n",
      "    return accuracy_score(y, self.predict(X), sample_weight=sample_weight)\n",
      "  File \"C:\\Python310\\lib\\site-packages\\sklearn\\neighbors\\_classification.py\", line 214, in predict\n",
      "    neigh_dist, neigh_ind = self.kneighbors(X)\n",
      "  File \"C:\\Python310\\lib\\site-packages\\sklearn\\neighbors\\_base.py\", line 727, in kneighbors\n",
      "    raise ValueError(\n",
      "ValueError: Expected n_neighbors <= n_samples,  but n_samples = 54, n_neighbors = 69\n",
      "\n",
      "  warnings.warn(\n",
      "C:\\Python310\\lib\\site-packages\\sklearn\\model_selection\\_validation.py:770: UserWarning: Scoring failed. The score on this train-test partition for these parameters will be set to nan. Details: \n",
      "Traceback (most recent call last):\n",
      "  File \"C:\\Python310\\lib\\site-packages\\sklearn\\model_selection\\_validation.py\", line 761, in _score\n",
      "    scores = scorer(estimator, X_test, y_test)\n",
      "  File \"C:\\Python310\\lib\\site-packages\\sklearn\\metrics\\_scorer.py\", line 418, in _passthrough_scorer\n",
      "    return estimator.score(*args, **kwargs)\n",
      "  File \"C:\\Python310\\lib\\site-packages\\sklearn\\base.py\", line 651, in score\n",
      "    return accuracy_score(y, self.predict(X), sample_weight=sample_weight)\n",
      "  File \"C:\\Python310\\lib\\site-packages\\sklearn\\neighbors\\_classification.py\", line 214, in predict\n",
      "    neigh_dist, neigh_ind = self.kneighbors(X)\n",
      "  File \"C:\\Python310\\lib\\site-packages\\sklearn\\neighbors\\_base.py\", line 727, in kneighbors\n",
      "    raise ValueError(\n",
      "ValueError: Expected n_neighbors <= n_samples,  but n_samples = 54, n_neighbors = 69\n",
      "\n",
      "  warnings.warn(\n",
      "C:\\Python310\\lib\\site-packages\\sklearn\\model_selection\\_validation.py:770: UserWarning: Scoring failed. The score on this train-test partition for these parameters will be set to nan. Details: \n",
      "Traceback (most recent call last):\n",
      "  File \"C:\\Python310\\lib\\site-packages\\sklearn\\model_selection\\_validation.py\", line 761, in _score\n",
      "    scores = scorer(estimator, X_test, y_test)\n",
      "  File \"C:\\Python310\\lib\\site-packages\\sklearn\\metrics\\_scorer.py\", line 418, in _passthrough_scorer\n",
      "    return estimator.score(*args, **kwargs)\n",
      "  File \"C:\\Python310\\lib\\site-packages\\sklearn\\base.py\", line 651, in score\n",
      "    return accuracy_score(y, self.predict(X), sample_weight=sample_weight)\n",
      "  File \"C:\\Python310\\lib\\site-packages\\sklearn\\neighbors\\_classification.py\", line 214, in predict\n",
      "    neigh_dist, neigh_ind = self.kneighbors(X)\n",
      "  File \"C:\\Python310\\lib\\site-packages\\sklearn\\neighbors\\_base.py\", line 727, in kneighbors\n",
      "    raise ValueError(\n",
      "ValueError: Expected n_neighbors <= n_samples,  but n_samples = 54, n_neighbors = 69\n",
      "\n",
      "  warnings.warn(\n",
      "C:\\Python310\\lib\\site-packages\\sklearn\\model_selection\\_validation.py:770: UserWarning: Scoring failed. The score on this train-test partition for these parameters will be set to nan. Details: \n",
      "Traceback (most recent call last):\n",
      "  File \"C:\\Python310\\lib\\site-packages\\sklearn\\model_selection\\_validation.py\", line 761, in _score\n",
      "    scores = scorer(estimator, X_test, y_test)\n",
      "  File \"C:\\Python310\\lib\\site-packages\\sklearn\\metrics\\_scorer.py\", line 418, in _passthrough_scorer\n",
      "    return estimator.score(*args, **kwargs)\n",
      "  File \"C:\\Python310\\lib\\site-packages\\sklearn\\base.py\", line 651, in score\n",
      "    return accuracy_score(y, self.predict(X), sample_weight=sample_weight)\n",
      "  File \"C:\\Python310\\lib\\site-packages\\sklearn\\neighbors\\_classification.py\", line 214, in predict\n",
      "    neigh_dist, neigh_ind = self.kneighbors(X)\n",
      "  File \"C:\\Python310\\lib\\site-packages\\sklearn\\neighbors\\_base.py\", line 727, in kneighbors\n",
      "    raise ValueError(\n",
      "ValueError: Expected n_neighbors <= n_samples,  but n_samples = 55, n_neighbors = 69\n",
      "\n",
      "  warnings.warn(\n",
      "C:\\Python310\\lib\\site-packages\\sklearn\\model_selection\\_validation.py:770: UserWarning: Scoring failed. The score on this train-test partition for these parameters will be set to nan. Details: \n",
      "Traceback (most recent call last):\n",
      "  File \"C:\\Python310\\lib\\site-packages\\sklearn\\model_selection\\_validation.py\", line 761, in _score\n",
      "    scores = scorer(estimator, X_test, y_test)\n",
      "  File \"C:\\Python310\\lib\\site-packages\\sklearn\\metrics\\_scorer.py\", line 418, in _passthrough_scorer\n",
      "    return estimator.score(*args, **kwargs)\n",
      "  File \"C:\\Python310\\lib\\site-packages\\sklearn\\base.py\", line 651, in score\n",
      "    return accuracy_score(y, self.predict(X), sample_weight=sample_weight)\n",
      "  File \"C:\\Python310\\lib\\site-packages\\sklearn\\neighbors\\_classification.py\", line 214, in predict\n",
      "    neigh_dist, neigh_ind = self.kneighbors(X)\n",
      "  File \"C:\\Python310\\lib\\site-packages\\sklearn\\neighbors\\_base.py\", line 727, in kneighbors\n",
      "    raise ValueError(\n",
      "ValueError: Expected n_neighbors <= n_samples,  but n_samples = 55, n_neighbors = 69\n",
      "\n",
      "  warnings.warn(\n",
      "C:\\Python310\\lib\\site-packages\\sklearn\\model_selection\\_validation.py:770: UserWarning: Scoring failed. The score on this train-test partition for these parameters will be set to nan. Details: \n",
      "Traceback (most recent call last):\n",
      "  File \"C:\\Python310\\lib\\site-packages\\sklearn\\model_selection\\_validation.py\", line 761, in _score\n",
      "    scores = scorer(estimator, X_test, y_test)\n",
      "  File \"C:\\Python310\\lib\\site-packages\\sklearn\\metrics\\_scorer.py\", line 418, in _passthrough_scorer\n",
      "    return estimator.score(*args, **kwargs)\n",
      "  File \"C:\\Python310\\lib\\site-packages\\sklearn\\base.py\", line 651, in score\n",
      "    return accuracy_score(y, self.predict(X), sample_weight=sample_weight)\n",
      "  File \"C:\\Python310\\lib\\site-packages\\sklearn\\neighbors\\_classification.py\", line 214, in predict\n",
      "    neigh_dist, neigh_ind = self.kneighbors(X)\n",
      "  File \"C:\\Python310\\lib\\site-packages\\sklearn\\neighbors\\_base.py\", line 727, in kneighbors\n",
      "    raise ValueError(\n",
      "ValueError: Expected n_neighbors <= n_samples,  but n_samples = 54, n_neighbors = 70\n",
      "\n",
      "  warnings.warn(\n",
      "C:\\Python310\\lib\\site-packages\\sklearn\\model_selection\\_validation.py:770: UserWarning: Scoring failed. The score on this train-test partition for these parameters will be set to nan. Details: \n",
      "Traceback (most recent call last):\n",
      "  File \"C:\\Python310\\lib\\site-packages\\sklearn\\model_selection\\_validation.py\", line 761, in _score\n",
      "    scores = scorer(estimator, X_test, y_test)\n",
      "  File \"C:\\Python310\\lib\\site-packages\\sklearn\\metrics\\_scorer.py\", line 418, in _passthrough_scorer\n",
      "    return estimator.score(*args, **kwargs)\n",
      "  File \"C:\\Python310\\lib\\site-packages\\sklearn\\base.py\", line 651, in score\n",
      "    return accuracy_score(y, self.predict(X), sample_weight=sample_weight)\n",
      "  File \"C:\\Python310\\lib\\site-packages\\sklearn\\neighbors\\_classification.py\", line 214, in predict\n",
      "    neigh_dist, neigh_ind = self.kneighbors(X)\n",
      "  File \"C:\\Python310\\lib\\site-packages\\sklearn\\neighbors\\_base.py\", line 727, in kneighbors\n",
      "    raise ValueError(\n",
      "ValueError: Expected n_neighbors <= n_samples,  but n_samples = 54, n_neighbors = 70\n",
      "\n",
      "  warnings.warn(\n",
      "C:\\Python310\\lib\\site-packages\\sklearn\\model_selection\\_validation.py:770: UserWarning: Scoring failed. The score on this train-test partition for these parameters will be set to nan. Details: \n",
      "Traceback (most recent call last):\n",
      "  File \"C:\\Python310\\lib\\site-packages\\sklearn\\model_selection\\_validation.py\", line 761, in _score\n",
      "    scores = scorer(estimator, X_test, y_test)\n",
      "  File \"C:\\Python310\\lib\\site-packages\\sklearn\\metrics\\_scorer.py\", line 418, in _passthrough_scorer\n",
      "    return estimator.score(*args, **kwargs)\n",
      "  File \"C:\\Python310\\lib\\site-packages\\sklearn\\base.py\", line 651, in score\n",
      "    return accuracy_score(y, self.predict(X), sample_weight=sample_weight)\n",
      "  File \"C:\\Python310\\lib\\site-packages\\sklearn\\neighbors\\_classification.py\", line 214, in predict\n",
      "    neigh_dist, neigh_ind = self.kneighbors(X)\n",
      "  File \"C:\\Python310\\lib\\site-packages\\sklearn\\neighbors\\_base.py\", line 727, in kneighbors\n",
      "    raise ValueError(\n",
      "ValueError: Expected n_neighbors <= n_samples,  but n_samples = 54, n_neighbors = 70\n",
      "\n",
      "  warnings.warn(\n",
      "C:\\Python310\\lib\\site-packages\\sklearn\\model_selection\\_validation.py:770: UserWarning: Scoring failed. The score on this train-test partition for these parameters will be set to nan. Details: \n",
      "Traceback (most recent call last):\n",
      "  File \"C:\\Python310\\lib\\site-packages\\sklearn\\model_selection\\_validation.py\", line 761, in _score\n",
      "    scores = scorer(estimator, X_test, y_test)\n",
      "  File \"C:\\Python310\\lib\\site-packages\\sklearn\\metrics\\_scorer.py\", line 418, in _passthrough_scorer\n",
      "    return estimator.score(*args, **kwargs)\n",
      "  File \"C:\\Python310\\lib\\site-packages\\sklearn\\base.py\", line 651, in score\n",
      "    return accuracy_score(y, self.predict(X), sample_weight=sample_weight)\n",
      "  File \"C:\\Python310\\lib\\site-packages\\sklearn\\neighbors\\_classification.py\", line 214, in predict\n",
      "    neigh_dist, neigh_ind = self.kneighbors(X)\n",
      "  File \"C:\\Python310\\lib\\site-packages\\sklearn\\neighbors\\_base.py\", line 727, in kneighbors\n",
      "    raise ValueError(\n",
      "ValueError: Expected n_neighbors <= n_samples,  but n_samples = 55, n_neighbors = 70\n",
      "\n",
      "  warnings.warn(\n",
      "C:\\Python310\\lib\\site-packages\\sklearn\\model_selection\\_validation.py:770: UserWarning: Scoring failed. The score on this train-test partition for these parameters will be set to nan. Details: \n",
      "Traceback (most recent call last):\n",
      "  File \"C:\\Python310\\lib\\site-packages\\sklearn\\model_selection\\_validation.py\", line 761, in _score\n",
      "    scores = scorer(estimator, X_test, y_test)\n",
      "  File \"C:\\Python310\\lib\\site-packages\\sklearn\\metrics\\_scorer.py\", line 418, in _passthrough_scorer\n",
      "    return estimator.score(*args, **kwargs)\n",
      "  File \"C:\\Python310\\lib\\site-packages\\sklearn\\base.py\", line 651, in score\n",
      "    return accuracy_score(y, self.predict(X), sample_weight=sample_weight)\n",
      "  File \"C:\\Python310\\lib\\site-packages\\sklearn\\neighbors\\_classification.py\", line 214, in predict\n",
      "    neigh_dist, neigh_ind = self.kneighbors(X)\n",
      "  File \"C:\\Python310\\lib\\site-packages\\sklearn\\neighbors\\_base.py\", line 727, in kneighbors\n",
      "    raise ValueError(\n",
      "ValueError: Expected n_neighbors <= n_samples,  but n_samples = 55, n_neighbors = 70\n",
      "\n",
      "  warnings.warn(\n",
      "C:\\Python310\\lib\\site-packages\\sklearn\\model_selection\\_validation.py:770: UserWarning: Scoring failed. The score on this train-test partition for these parameters will be set to nan. Details: \n",
      "Traceback (most recent call last):\n",
      "  File \"C:\\Python310\\lib\\site-packages\\sklearn\\model_selection\\_validation.py\", line 761, in _score\n",
      "    scores = scorer(estimator, X_test, y_test)\n",
      "  File \"C:\\Python310\\lib\\site-packages\\sklearn\\metrics\\_scorer.py\", line 418, in _passthrough_scorer\n",
      "    return estimator.score(*args, **kwargs)\n",
      "  File \"C:\\Python310\\lib\\site-packages\\sklearn\\base.py\", line 651, in score\n",
      "    return accuracy_score(y, self.predict(X), sample_weight=sample_weight)\n",
      "  File \"C:\\Python310\\lib\\site-packages\\sklearn\\neighbors\\_classification.py\", line 214, in predict\n",
      "    neigh_dist, neigh_ind = self.kneighbors(X)\n",
      "  File \"C:\\Python310\\lib\\site-packages\\sklearn\\neighbors\\_base.py\", line 727, in kneighbors\n",
      "    raise ValueError(\n",
      "ValueError: Expected n_neighbors <= n_samples,  but n_samples = 54, n_neighbors = 71\n",
      "\n",
      "  warnings.warn(\n",
      "C:\\Python310\\lib\\site-packages\\sklearn\\model_selection\\_validation.py:770: UserWarning: Scoring failed. The score on this train-test partition for these parameters will be set to nan. Details: \n",
      "Traceback (most recent call last):\n",
      "  File \"C:\\Python310\\lib\\site-packages\\sklearn\\model_selection\\_validation.py\", line 761, in _score\n",
      "    scores = scorer(estimator, X_test, y_test)\n",
      "  File \"C:\\Python310\\lib\\site-packages\\sklearn\\metrics\\_scorer.py\", line 418, in _passthrough_scorer\n",
      "    return estimator.score(*args, **kwargs)\n",
      "  File \"C:\\Python310\\lib\\site-packages\\sklearn\\base.py\", line 651, in score\n",
      "    return accuracy_score(y, self.predict(X), sample_weight=sample_weight)\n",
      "  File \"C:\\Python310\\lib\\site-packages\\sklearn\\neighbors\\_classification.py\", line 214, in predict\n",
      "    neigh_dist, neigh_ind = self.kneighbors(X)\n",
      "  File \"C:\\Python310\\lib\\site-packages\\sklearn\\neighbors\\_base.py\", line 727, in kneighbors\n",
      "    raise ValueError(\n",
      "ValueError: Expected n_neighbors <= n_samples,  but n_samples = 54, n_neighbors = 71\n",
      "\n",
      "  warnings.warn(\n",
      "C:\\Python310\\lib\\site-packages\\sklearn\\model_selection\\_validation.py:770: UserWarning: Scoring failed. The score on this train-test partition for these parameters will be set to nan. Details: \n",
      "Traceback (most recent call last):\n",
      "  File \"C:\\Python310\\lib\\site-packages\\sklearn\\model_selection\\_validation.py\", line 761, in _score\n",
      "    scores = scorer(estimator, X_test, y_test)\n",
      "  File \"C:\\Python310\\lib\\site-packages\\sklearn\\metrics\\_scorer.py\", line 418, in _passthrough_scorer\n",
      "    return estimator.score(*args, **kwargs)\n",
      "  File \"C:\\Python310\\lib\\site-packages\\sklearn\\base.py\", line 651, in score\n",
      "    return accuracy_score(y, self.predict(X), sample_weight=sample_weight)\n",
      "  File \"C:\\Python310\\lib\\site-packages\\sklearn\\neighbors\\_classification.py\", line 214, in predict\n",
      "    neigh_dist, neigh_ind = self.kneighbors(X)\n",
      "  File \"C:\\Python310\\lib\\site-packages\\sklearn\\neighbors\\_base.py\", line 727, in kneighbors\n",
      "    raise ValueError(\n",
      "ValueError: Expected n_neighbors <= n_samples,  but n_samples = 54, n_neighbors = 71\n",
      "\n",
      "  warnings.warn(\n",
      "C:\\Python310\\lib\\site-packages\\sklearn\\model_selection\\_validation.py:770: UserWarning: Scoring failed. The score on this train-test partition for these parameters will be set to nan. Details: \n",
      "Traceback (most recent call last):\n",
      "  File \"C:\\Python310\\lib\\site-packages\\sklearn\\model_selection\\_validation.py\", line 761, in _score\n",
      "    scores = scorer(estimator, X_test, y_test)\n",
      "  File \"C:\\Python310\\lib\\site-packages\\sklearn\\metrics\\_scorer.py\", line 418, in _passthrough_scorer\n",
      "    return estimator.score(*args, **kwargs)\n",
      "  File \"C:\\Python310\\lib\\site-packages\\sklearn\\base.py\", line 651, in score\n",
      "    return accuracy_score(y, self.predict(X), sample_weight=sample_weight)\n",
      "  File \"C:\\Python310\\lib\\site-packages\\sklearn\\neighbors\\_classification.py\", line 214, in predict\n",
      "    neigh_dist, neigh_ind = self.kneighbors(X)\n",
      "  File \"C:\\Python310\\lib\\site-packages\\sklearn\\neighbors\\_base.py\", line 727, in kneighbors\n",
      "    raise ValueError(\n",
      "ValueError: Expected n_neighbors <= n_samples,  but n_samples = 55, n_neighbors = 71\n",
      "\n",
      "  warnings.warn(\n",
      "C:\\Python310\\lib\\site-packages\\sklearn\\model_selection\\_validation.py:770: UserWarning: Scoring failed. The score on this train-test partition for these parameters will be set to nan. Details: \n",
      "Traceback (most recent call last):\n",
      "  File \"C:\\Python310\\lib\\site-packages\\sklearn\\model_selection\\_validation.py\", line 761, in _score\n",
      "    scores = scorer(estimator, X_test, y_test)\n",
      "  File \"C:\\Python310\\lib\\site-packages\\sklearn\\metrics\\_scorer.py\", line 418, in _passthrough_scorer\n",
      "    return estimator.score(*args, **kwargs)\n",
      "  File \"C:\\Python310\\lib\\site-packages\\sklearn\\base.py\", line 651, in score\n",
      "    return accuracy_score(y, self.predict(X), sample_weight=sample_weight)\n",
      "  File \"C:\\Python310\\lib\\site-packages\\sklearn\\neighbors\\_classification.py\", line 214, in predict\n",
      "    neigh_dist, neigh_ind = self.kneighbors(X)\n",
      "  File \"C:\\Python310\\lib\\site-packages\\sklearn\\neighbors\\_base.py\", line 727, in kneighbors\n",
      "    raise ValueError(\n",
      "ValueError: Expected n_neighbors <= n_samples,  but n_samples = 55, n_neighbors = 71\n",
      "\n",
      "  warnings.warn(\n",
      "C:\\Python310\\lib\\site-packages\\sklearn\\model_selection\\_validation.py:770: UserWarning: Scoring failed. The score on this train-test partition for these parameters will be set to nan. Details: \n",
      "Traceback (most recent call last):\n",
      "  File \"C:\\Python310\\lib\\site-packages\\sklearn\\model_selection\\_validation.py\", line 761, in _score\n",
      "    scores = scorer(estimator, X_test, y_test)\n",
      "  File \"C:\\Python310\\lib\\site-packages\\sklearn\\metrics\\_scorer.py\", line 418, in _passthrough_scorer\n",
      "    return estimator.score(*args, **kwargs)\n",
      "  File \"C:\\Python310\\lib\\site-packages\\sklearn\\base.py\", line 651, in score\n",
      "    return accuracy_score(y, self.predict(X), sample_weight=sample_weight)\n",
      "  File \"C:\\Python310\\lib\\site-packages\\sklearn\\neighbors\\_classification.py\", line 214, in predict\n",
      "    neigh_dist, neigh_ind = self.kneighbors(X)\n",
      "  File \"C:\\Python310\\lib\\site-packages\\sklearn\\neighbors\\_base.py\", line 727, in kneighbors\n",
      "    raise ValueError(\n",
      "ValueError: Expected n_neighbors <= n_samples,  but n_samples = 54, n_neighbors = 72\n",
      "\n",
      "  warnings.warn(\n",
      "C:\\Python310\\lib\\site-packages\\sklearn\\model_selection\\_validation.py:770: UserWarning: Scoring failed. The score on this train-test partition for these parameters will be set to nan. Details: \n",
      "Traceback (most recent call last):\n",
      "  File \"C:\\Python310\\lib\\site-packages\\sklearn\\model_selection\\_validation.py\", line 761, in _score\n",
      "    scores = scorer(estimator, X_test, y_test)\n",
      "  File \"C:\\Python310\\lib\\site-packages\\sklearn\\metrics\\_scorer.py\", line 418, in _passthrough_scorer\n",
      "    return estimator.score(*args, **kwargs)\n",
      "  File \"C:\\Python310\\lib\\site-packages\\sklearn\\base.py\", line 651, in score\n",
      "    return accuracy_score(y, self.predict(X), sample_weight=sample_weight)\n",
      "  File \"C:\\Python310\\lib\\site-packages\\sklearn\\neighbors\\_classification.py\", line 214, in predict\n",
      "    neigh_dist, neigh_ind = self.kneighbors(X)\n",
      "  File \"C:\\Python310\\lib\\site-packages\\sklearn\\neighbors\\_base.py\", line 727, in kneighbors\n",
      "    raise ValueError(\n",
      "ValueError: Expected n_neighbors <= n_samples,  but n_samples = 54, n_neighbors = 72\n",
      "\n",
      "  warnings.warn(\n",
      "C:\\Python310\\lib\\site-packages\\sklearn\\model_selection\\_validation.py:770: UserWarning: Scoring failed. The score on this train-test partition for these parameters will be set to nan. Details: \n",
      "Traceback (most recent call last):\n",
      "  File \"C:\\Python310\\lib\\site-packages\\sklearn\\model_selection\\_validation.py\", line 761, in _score\n",
      "    scores = scorer(estimator, X_test, y_test)\n",
      "  File \"C:\\Python310\\lib\\site-packages\\sklearn\\metrics\\_scorer.py\", line 418, in _passthrough_scorer\n",
      "    return estimator.score(*args, **kwargs)\n",
      "  File \"C:\\Python310\\lib\\site-packages\\sklearn\\base.py\", line 651, in score\n",
      "    return accuracy_score(y, self.predict(X), sample_weight=sample_weight)\n",
      "  File \"C:\\Python310\\lib\\site-packages\\sklearn\\neighbors\\_classification.py\", line 214, in predict\n",
      "    neigh_dist, neigh_ind = self.kneighbors(X)\n",
      "  File \"C:\\Python310\\lib\\site-packages\\sklearn\\neighbors\\_base.py\", line 727, in kneighbors\n",
      "    raise ValueError(\n",
      "ValueError: Expected n_neighbors <= n_samples,  but n_samples = 54, n_neighbors = 72\n",
      "\n",
      "  warnings.warn(\n",
      "C:\\Python310\\lib\\site-packages\\sklearn\\model_selection\\_validation.py:770: UserWarning: Scoring failed. The score on this train-test partition for these parameters will be set to nan. Details: \n",
      "Traceback (most recent call last):\n",
      "  File \"C:\\Python310\\lib\\site-packages\\sklearn\\model_selection\\_validation.py\", line 761, in _score\n",
      "    scores = scorer(estimator, X_test, y_test)\n",
      "  File \"C:\\Python310\\lib\\site-packages\\sklearn\\metrics\\_scorer.py\", line 418, in _passthrough_scorer\n",
      "    return estimator.score(*args, **kwargs)\n",
      "  File \"C:\\Python310\\lib\\site-packages\\sklearn\\base.py\", line 651, in score\n",
      "    return accuracy_score(y, self.predict(X), sample_weight=sample_weight)\n",
      "  File \"C:\\Python310\\lib\\site-packages\\sklearn\\neighbors\\_classification.py\", line 214, in predict\n",
      "    neigh_dist, neigh_ind = self.kneighbors(X)\n",
      "  File \"C:\\Python310\\lib\\site-packages\\sklearn\\neighbors\\_base.py\", line 727, in kneighbors\n",
      "    raise ValueError(\n",
      "ValueError: Expected n_neighbors <= n_samples,  but n_samples = 55, n_neighbors = 72\n",
      "\n",
      "  warnings.warn(\n",
      "C:\\Python310\\lib\\site-packages\\sklearn\\model_selection\\_validation.py:770: UserWarning: Scoring failed. The score on this train-test partition for these parameters will be set to nan. Details: \n",
      "Traceback (most recent call last):\n",
      "  File \"C:\\Python310\\lib\\site-packages\\sklearn\\model_selection\\_validation.py\", line 761, in _score\n",
      "    scores = scorer(estimator, X_test, y_test)\n",
      "  File \"C:\\Python310\\lib\\site-packages\\sklearn\\metrics\\_scorer.py\", line 418, in _passthrough_scorer\n",
      "    return estimator.score(*args, **kwargs)\n",
      "  File \"C:\\Python310\\lib\\site-packages\\sklearn\\base.py\", line 651, in score\n",
      "    return accuracy_score(y, self.predict(X), sample_weight=sample_weight)\n",
      "  File \"C:\\Python310\\lib\\site-packages\\sklearn\\neighbors\\_classification.py\", line 214, in predict\n",
      "    neigh_dist, neigh_ind = self.kneighbors(X)\n",
      "  File \"C:\\Python310\\lib\\site-packages\\sklearn\\neighbors\\_base.py\", line 727, in kneighbors\n",
      "    raise ValueError(\n",
      "ValueError: Expected n_neighbors <= n_samples,  but n_samples = 55, n_neighbors = 72\n",
      "\n",
      "  warnings.warn(\n",
      "C:\\Python310\\lib\\site-packages\\sklearn\\model_selection\\_validation.py:770: UserWarning: Scoring failed. The score on this train-test partition for these parameters will be set to nan. Details: \n",
      "Traceback (most recent call last):\n",
      "  File \"C:\\Python310\\lib\\site-packages\\sklearn\\model_selection\\_validation.py\", line 761, in _score\n",
      "    scores = scorer(estimator, X_test, y_test)\n",
      "  File \"C:\\Python310\\lib\\site-packages\\sklearn\\metrics\\_scorer.py\", line 418, in _passthrough_scorer\n",
      "    return estimator.score(*args, **kwargs)\n",
      "  File \"C:\\Python310\\lib\\site-packages\\sklearn\\base.py\", line 651, in score\n",
      "    return accuracy_score(y, self.predict(X), sample_weight=sample_weight)\n",
      "  File \"C:\\Python310\\lib\\site-packages\\sklearn\\neighbors\\_classification.py\", line 214, in predict\n",
      "    neigh_dist, neigh_ind = self.kneighbors(X)\n",
      "  File \"C:\\Python310\\lib\\site-packages\\sklearn\\neighbors\\_base.py\", line 727, in kneighbors\n",
      "    raise ValueError(\n",
      "ValueError: Expected n_neighbors <= n_samples,  but n_samples = 54, n_neighbors = 73\n",
      "\n",
      "  warnings.warn(\n",
      "C:\\Python310\\lib\\site-packages\\sklearn\\model_selection\\_validation.py:770: UserWarning: Scoring failed. The score on this train-test partition for these parameters will be set to nan. Details: \n",
      "Traceback (most recent call last):\n",
      "  File \"C:\\Python310\\lib\\site-packages\\sklearn\\model_selection\\_validation.py\", line 761, in _score\n",
      "    scores = scorer(estimator, X_test, y_test)\n",
      "  File \"C:\\Python310\\lib\\site-packages\\sklearn\\metrics\\_scorer.py\", line 418, in _passthrough_scorer\n",
      "    return estimator.score(*args, **kwargs)\n",
      "  File \"C:\\Python310\\lib\\site-packages\\sklearn\\base.py\", line 651, in score\n",
      "    return accuracy_score(y, self.predict(X), sample_weight=sample_weight)\n",
      "  File \"C:\\Python310\\lib\\site-packages\\sklearn\\neighbors\\_classification.py\", line 214, in predict\n",
      "    neigh_dist, neigh_ind = self.kneighbors(X)\n",
      "  File \"C:\\Python310\\lib\\site-packages\\sklearn\\neighbors\\_base.py\", line 727, in kneighbors\n",
      "    raise ValueError(\n",
      "ValueError: Expected n_neighbors <= n_samples,  but n_samples = 54, n_neighbors = 73\n",
      "\n",
      "  warnings.warn(\n",
      "C:\\Python310\\lib\\site-packages\\sklearn\\model_selection\\_validation.py:770: UserWarning: Scoring failed. The score on this train-test partition for these parameters will be set to nan. Details: \n",
      "Traceback (most recent call last):\n",
      "  File \"C:\\Python310\\lib\\site-packages\\sklearn\\model_selection\\_validation.py\", line 761, in _score\n",
      "    scores = scorer(estimator, X_test, y_test)\n",
      "  File \"C:\\Python310\\lib\\site-packages\\sklearn\\metrics\\_scorer.py\", line 418, in _passthrough_scorer\n",
      "    return estimator.score(*args, **kwargs)\n",
      "  File \"C:\\Python310\\lib\\site-packages\\sklearn\\base.py\", line 651, in score\n",
      "    return accuracy_score(y, self.predict(X), sample_weight=sample_weight)\n",
      "  File \"C:\\Python310\\lib\\site-packages\\sklearn\\neighbors\\_classification.py\", line 214, in predict\n",
      "    neigh_dist, neigh_ind = self.kneighbors(X)\n",
      "  File \"C:\\Python310\\lib\\site-packages\\sklearn\\neighbors\\_base.py\", line 727, in kneighbors\n",
      "    raise ValueError(\n",
      "ValueError: Expected n_neighbors <= n_samples,  but n_samples = 54, n_neighbors = 73\n",
      "\n",
      "  warnings.warn(\n",
      "C:\\Python310\\lib\\site-packages\\sklearn\\model_selection\\_validation.py:770: UserWarning: Scoring failed. The score on this train-test partition for these parameters will be set to nan. Details: \n",
      "Traceback (most recent call last):\n",
      "  File \"C:\\Python310\\lib\\site-packages\\sklearn\\model_selection\\_validation.py\", line 761, in _score\n",
      "    scores = scorer(estimator, X_test, y_test)\n",
      "  File \"C:\\Python310\\lib\\site-packages\\sklearn\\metrics\\_scorer.py\", line 418, in _passthrough_scorer\n",
      "    return estimator.score(*args, **kwargs)\n",
      "  File \"C:\\Python310\\lib\\site-packages\\sklearn\\base.py\", line 651, in score\n",
      "    return accuracy_score(y, self.predict(X), sample_weight=sample_weight)\n",
      "  File \"C:\\Python310\\lib\\site-packages\\sklearn\\neighbors\\_classification.py\", line 214, in predict\n",
      "    neigh_dist, neigh_ind = self.kneighbors(X)\n",
      "  File \"C:\\Python310\\lib\\site-packages\\sklearn\\neighbors\\_base.py\", line 727, in kneighbors\n",
      "    raise ValueError(\n",
      "ValueError: Expected n_neighbors <= n_samples,  but n_samples = 55, n_neighbors = 73\n",
      "\n",
      "  warnings.warn(\n",
      "C:\\Python310\\lib\\site-packages\\sklearn\\model_selection\\_validation.py:770: UserWarning: Scoring failed. The score on this train-test partition for these parameters will be set to nan. Details: \n",
      "Traceback (most recent call last):\n",
      "  File \"C:\\Python310\\lib\\site-packages\\sklearn\\model_selection\\_validation.py\", line 761, in _score\n",
      "    scores = scorer(estimator, X_test, y_test)\n",
      "  File \"C:\\Python310\\lib\\site-packages\\sklearn\\metrics\\_scorer.py\", line 418, in _passthrough_scorer\n",
      "    return estimator.score(*args, **kwargs)\n",
      "  File \"C:\\Python310\\lib\\site-packages\\sklearn\\base.py\", line 651, in score\n",
      "    return accuracy_score(y, self.predict(X), sample_weight=sample_weight)\n",
      "  File \"C:\\Python310\\lib\\site-packages\\sklearn\\neighbors\\_classification.py\", line 214, in predict\n",
      "    neigh_dist, neigh_ind = self.kneighbors(X)\n",
      "  File \"C:\\Python310\\lib\\site-packages\\sklearn\\neighbors\\_base.py\", line 727, in kneighbors\n",
      "    raise ValueError(\n",
      "ValueError: Expected n_neighbors <= n_samples,  but n_samples = 55, n_neighbors = 73\n",
      "\n",
      "  warnings.warn(\n",
      "C:\\Python310\\lib\\site-packages\\sklearn\\model_selection\\_validation.py:770: UserWarning: Scoring failed. The score on this train-test partition for these parameters will be set to nan. Details: \n",
      "Traceback (most recent call last):\n",
      "  File \"C:\\Python310\\lib\\site-packages\\sklearn\\model_selection\\_validation.py\", line 761, in _score\n",
      "    scores = scorer(estimator, X_test, y_test)\n",
      "  File \"C:\\Python310\\lib\\site-packages\\sklearn\\metrics\\_scorer.py\", line 418, in _passthrough_scorer\n",
      "    return estimator.score(*args, **kwargs)\n",
      "  File \"C:\\Python310\\lib\\site-packages\\sklearn\\base.py\", line 651, in score\n",
      "    return accuracy_score(y, self.predict(X), sample_weight=sample_weight)\n",
      "  File \"C:\\Python310\\lib\\site-packages\\sklearn\\neighbors\\_classification.py\", line 214, in predict\n",
      "    neigh_dist, neigh_ind = self.kneighbors(X)\n",
      "  File \"C:\\Python310\\lib\\site-packages\\sklearn\\neighbors\\_base.py\", line 727, in kneighbors\n",
      "    raise ValueError(\n",
      "ValueError: Expected n_neighbors <= n_samples,  but n_samples = 54, n_neighbors = 74\n",
      "\n",
      "  warnings.warn(\n",
      "C:\\Python310\\lib\\site-packages\\sklearn\\model_selection\\_validation.py:770: UserWarning: Scoring failed. The score on this train-test partition for these parameters will be set to nan. Details: \n",
      "Traceback (most recent call last):\n",
      "  File \"C:\\Python310\\lib\\site-packages\\sklearn\\model_selection\\_validation.py\", line 761, in _score\n",
      "    scores = scorer(estimator, X_test, y_test)\n",
      "  File \"C:\\Python310\\lib\\site-packages\\sklearn\\metrics\\_scorer.py\", line 418, in _passthrough_scorer\n",
      "    return estimator.score(*args, **kwargs)\n",
      "  File \"C:\\Python310\\lib\\site-packages\\sklearn\\base.py\", line 651, in score\n",
      "    return accuracy_score(y, self.predict(X), sample_weight=sample_weight)\n",
      "  File \"C:\\Python310\\lib\\site-packages\\sklearn\\neighbors\\_classification.py\", line 214, in predict\n",
      "    neigh_dist, neigh_ind = self.kneighbors(X)\n",
      "  File \"C:\\Python310\\lib\\site-packages\\sklearn\\neighbors\\_base.py\", line 727, in kneighbors\n",
      "    raise ValueError(\n",
      "ValueError: Expected n_neighbors <= n_samples,  but n_samples = 54, n_neighbors = 74\n",
      "\n",
      "  warnings.warn(\n",
      "C:\\Python310\\lib\\site-packages\\sklearn\\model_selection\\_validation.py:770: UserWarning: Scoring failed. The score on this train-test partition for these parameters will be set to nan. Details: \n",
      "Traceback (most recent call last):\n",
      "  File \"C:\\Python310\\lib\\site-packages\\sklearn\\model_selection\\_validation.py\", line 761, in _score\n",
      "    scores = scorer(estimator, X_test, y_test)\n",
      "  File \"C:\\Python310\\lib\\site-packages\\sklearn\\metrics\\_scorer.py\", line 418, in _passthrough_scorer\n",
      "    return estimator.score(*args, **kwargs)\n",
      "  File \"C:\\Python310\\lib\\site-packages\\sklearn\\base.py\", line 651, in score\n",
      "    return accuracy_score(y, self.predict(X), sample_weight=sample_weight)\n",
      "  File \"C:\\Python310\\lib\\site-packages\\sklearn\\neighbors\\_classification.py\", line 214, in predict\n",
      "    neigh_dist, neigh_ind = self.kneighbors(X)\n",
      "  File \"C:\\Python310\\lib\\site-packages\\sklearn\\neighbors\\_base.py\", line 727, in kneighbors\n",
      "    raise ValueError(\n",
      "ValueError: Expected n_neighbors <= n_samples,  but n_samples = 54, n_neighbors = 74\n",
      "\n",
      "  warnings.warn(\n",
      "C:\\Python310\\lib\\site-packages\\sklearn\\model_selection\\_validation.py:770: UserWarning: Scoring failed. The score on this train-test partition for these parameters will be set to nan. Details: \n",
      "Traceback (most recent call last):\n",
      "  File \"C:\\Python310\\lib\\site-packages\\sklearn\\model_selection\\_validation.py\", line 761, in _score\n",
      "    scores = scorer(estimator, X_test, y_test)\n",
      "  File \"C:\\Python310\\lib\\site-packages\\sklearn\\metrics\\_scorer.py\", line 418, in _passthrough_scorer\n",
      "    return estimator.score(*args, **kwargs)\n",
      "  File \"C:\\Python310\\lib\\site-packages\\sklearn\\base.py\", line 651, in score\n",
      "    return accuracy_score(y, self.predict(X), sample_weight=sample_weight)\n",
      "  File \"C:\\Python310\\lib\\site-packages\\sklearn\\neighbors\\_classification.py\", line 214, in predict\n",
      "    neigh_dist, neigh_ind = self.kneighbors(X)\n",
      "  File \"C:\\Python310\\lib\\site-packages\\sklearn\\neighbors\\_base.py\", line 727, in kneighbors\n",
      "    raise ValueError(\n",
      "ValueError: Expected n_neighbors <= n_samples,  but n_samples = 55, n_neighbors = 74\n",
      "\n",
      "  warnings.warn(\n",
      "C:\\Python310\\lib\\site-packages\\sklearn\\model_selection\\_validation.py:770: UserWarning: Scoring failed. The score on this train-test partition for these parameters will be set to nan. Details: \n",
      "Traceback (most recent call last):\n",
      "  File \"C:\\Python310\\lib\\site-packages\\sklearn\\model_selection\\_validation.py\", line 761, in _score\n",
      "    scores = scorer(estimator, X_test, y_test)\n",
      "  File \"C:\\Python310\\lib\\site-packages\\sklearn\\metrics\\_scorer.py\", line 418, in _passthrough_scorer\n",
      "    return estimator.score(*args, **kwargs)\n",
      "  File \"C:\\Python310\\lib\\site-packages\\sklearn\\base.py\", line 651, in score\n",
      "    return accuracy_score(y, self.predict(X), sample_weight=sample_weight)\n",
      "  File \"C:\\Python310\\lib\\site-packages\\sklearn\\neighbors\\_classification.py\", line 214, in predict\n",
      "    neigh_dist, neigh_ind = self.kneighbors(X)\n",
      "  File \"C:\\Python310\\lib\\site-packages\\sklearn\\neighbors\\_base.py\", line 727, in kneighbors\n",
      "    raise ValueError(\n",
      "ValueError: Expected n_neighbors <= n_samples,  but n_samples = 55, n_neighbors = 74\n",
      "\n",
      "  warnings.warn(\n",
      "C:\\Python310\\lib\\site-packages\\sklearn\\model_selection\\_validation.py:770: UserWarning: Scoring failed. The score on this train-test partition for these parameters will be set to nan. Details: \n",
      "Traceback (most recent call last):\n",
      "  File \"C:\\Python310\\lib\\site-packages\\sklearn\\model_selection\\_validation.py\", line 761, in _score\n",
      "    scores = scorer(estimator, X_test, y_test)\n",
      "  File \"C:\\Python310\\lib\\site-packages\\sklearn\\metrics\\_scorer.py\", line 418, in _passthrough_scorer\n",
      "    return estimator.score(*args, **kwargs)\n",
      "  File \"C:\\Python310\\lib\\site-packages\\sklearn\\base.py\", line 651, in score\n",
      "    return accuracy_score(y, self.predict(X), sample_weight=sample_weight)\n",
      "  File \"C:\\Python310\\lib\\site-packages\\sklearn\\neighbors\\_classification.py\", line 214, in predict\n",
      "    neigh_dist, neigh_ind = self.kneighbors(X)\n",
      "  File \"C:\\Python310\\lib\\site-packages\\sklearn\\neighbors\\_base.py\", line 727, in kneighbors\n",
      "    raise ValueError(\n",
      "ValueError: Expected n_neighbors <= n_samples,  but n_samples = 54, n_neighbors = 75\n",
      "\n",
      "  warnings.warn(\n",
      "C:\\Python310\\lib\\site-packages\\sklearn\\model_selection\\_validation.py:770: UserWarning: Scoring failed. The score on this train-test partition for these parameters will be set to nan. Details: \n",
      "Traceback (most recent call last):\n",
      "  File \"C:\\Python310\\lib\\site-packages\\sklearn\\model_selection\\_validation.py\", line 761, in _score\n",
      "    scores = scorer(estimator, X_test, y_test)\n",
      "  File \"C:\\Python310\\lib\\site-packages\\sklearn\\metrics\\_scorer.py\", line 418, in _passthrough_scorer\n",
      "    return estimator.score(*args, **kwargs)\n",
      "  File \"C:\\Python310\\lib\\site-packages\\sklearn\\base.py\", line 651, in score\n",
      "    return accuracy_score(y, self.predict(X), sample_weight=sample_weight)\n",
      "  File \"C:\\Python310\\lib\\site-packages\\sklearn\\neighbors\\_classification.py\", line 214, in predict\n",
      "    neigh_dist, neigh_ind = self.kneighbors(X)\n",
      "  File \"C:\\Python310\\lib\\site-packages\\sklearn\\neighbors\\_base.py\", line 727, in kneighbors\n",
      "    raise ValueError(\n",
      "ValueError: Expected n_neighbors <= n_samples,  but n_samples = 54, n_neighbors = 75\n",
      "\n",
      "  warnings.warn(\n",
      "C:\\Python310\\lib\\site-packages\\sklearn\\model_selection\\_validation.py:770: UserWarning: Scoring failed. The score on this train-test partition for these parameters will be set to nan. Details: \n",
      "Traceback (most recent call last):\n",
      "  File \"C:\\Python310\\lib\\site-packages\\sklearn\\model_selection\\_validation.py\", line 761, in _score\n",
      "    scores = scorer(estimator, X_test, y_test)\n",
      "  File \"C:\\Python310\\lib\\site-packages\\sklearn\\metrics\\_scorer.py\", line 418, in _passthrough_scorer\n",
      "    return estimator.score(*args, **kwargs)\n",
      "  File \"C:\\Python310\\lib\\site-packages\\sklearn\\base.py\", line 651, in score\n",
      "    return accuracy_score(y, self.predict(X), sample_weight=sample_weight)\n",
      "  File \"C:\\Python310\\lib\\site-packages\\sklearn\\neighbors\\_classification.py\", line 214, in predict\n",
      "    neigh_dist, neigh_ind = self.kneighbors(X)\n",
      "  File \"C:\\Python310\\lib\\site-packages\\sklearn\\neighbors\\_base.py\", line 727, in kneighbors\n",
      "    raise ValueError(\n",
      "ValueError: Expected n_neighbors <= n_samples,  but n_samples = 54, n_neighbors = 75\n",
      "\n",
      "  warnings.warn(\n",
      "C:\\Python310\\lib\\site-packages\\sklearn\\model_selection\\_validation.py:770: UserWarning: Scoring failed. The score on this train-test partition for these parameters will be set to nan. Details: \n",
      "Traceback (most recent call last):\n",
      "  File \"C:\\Python310\\lib\\site-packages\\sklearn\\model_selection\\_validation.py\", line 761, in _score\n",
      "    scores = scorer(estimator, X_test, y_test)\n",
      "  File \"C:\\Python310\\lib\\site-packages\\sklearn\\metrics\\_scorer.py\", line 418, in _passthrough_scorer\n",
      "    return estimator.score(*args, **kwargs)\n",
      "  File \"C:\\Python310\\lib\\site-packages\\sklearn\\base.py\", line 651, in score\n",
      "    return accuracy_score(y, self.predict(X), sample_weight=sample_weight)\n",
      "  File \"C:\\Python310\\lib\\site-packages\\sklearn\\neighbors\\_classification.py\", line 214, in predict\n",
      "    neigh_dist, neigh_ind = self.kneighbors(X)\n",
      "  File \"C:\\Python310\\lib\\site-packages\\sklearn\\neighbors\\_base.py\", line 727, in kneighbors\n",
      "    raise ValueError(\n",
      "ValueError: Expected n_neighbors <= n_samples,  but n_samples = 55, n_neighbors = 75\n",
      "\n",
      "  warnings.warn(\n",
      "C:\\Python310\\lib\\site-packages\\sklearn\\model_selection\\_validation.py:770: UserWarning: Scoring failed. The score on this train-test partition for these parameters will be set to nan. Details: \n",
      "Traceback (most recent call last):\n",
      "  File \"C:\\Python310\\lib\\site-packages\\sklearn\\model_selection\\_validation.py\", line 761, in _score\n",
      "    scores = scorer(estimator, X_test, y_test)\n",
      "  File \"C:\\Python310\\lib\\site-packages\\sklearn\\metrics\\_scorer.py\", line 418, in _passthrough_scorer\n",
      "    return estimator.score(*args, **kwargs)\n",
      "  File \"C:\\Python310\\lib\\site-packages\\sklearn\\base.py\", line 651, in score\n",
      "    return accuracy_score(y, self.predict(X), sample_weight=sample_weight)\n",
      "  File \"C:\\Python310\\lib\\site-packages\\sklearn\\neighbors\\_classification.py\", line 214, in predict\n",
      "    neigh_dist, neigh_ind = self.kneighbors(X)\n",
      "  File \"C:\\Python310\\lib\\site-packages\\sklearn\\neighbors\\_base.py\", line 727, in kneighbors\n",
      "    raise ValueError(\n",
      "ValueError: Expected n_neighbors <= n_samples,  but n_samples = 55, n_neighbors = 75\n",
      "\n",
      "  warnings.warn(\n",
      "C:\\Python310\\lib\\site-packages\\sklearn\\model_selection\\_validation.py:770: UserWarning: Scoring failed. The score on this train-test partition for these parameters will be set to nan. Details: \n",
      "Traceback (most recent call last):\n",
      "  File \"C:\\Python310\\lib\\site-packages\\sklearn\\model_selection\\_validation.py\", line 761, in _score\n",
      "    scores = scorer(estimator, X_test, y_test)\n",
      "  File \"C:\\Python310\\lib\\site-packages\\sklearn\\metrics\\_scorer.py\", line 418, in _passthrough_scorer\n",
      "    return estimator.score(*args, **kwargs)\n",
      "  File \"C:\\Python310\\lib\\site-packages\\sklearn\\base.py\", line 651, in score\n",
      "    return accuracy_score(y, self.predict(X), sample_weight=sample_weight)\n",
      "  File \"C:\\Python310\\lib\\site-packages\\sklearn\\neighbors\\_classification.py\", line 214, in predict\n",
      "    neigh_dist, neigh_ind = self.kneighbors(X)\n",
      "  File \"C:\\Python310\\lib\\site-packages\\sklearn\\neighbors\\_base.py\", line 727, in kneighbors\n",
      "    raise ValueError(\n",
      "ValueError: Expected n_neighbors <= n_samples,  but n_samples = 54, n_neighbors = 76\n",
      "\n",
      "  warnings.warn(\n",
      "C:\\Python310\\lib\\site-packages\\sklearn\\model_selection\\_validation.py:770: UserWarning: Scoring failed. The score on this train-test partition for these parameters will be set to nan. Details: \n",
      "Traceback (most recent call last):\n",
      "  File \"C:\\Python310\\lib\\site-packages\\sklearn\\model_selection\\_validation.py\", line 761, in _score\n",
      "    scores = scorer(estimator, X_test, y_test)\n",
      "  File \"C:\\Python310\\lib\\site-packages\\sklearn\\metrics\\_scorer.py\", line 418, in _passthrough_scorer\n",
      "    return estimator.score(*args, **kwargs)\n",
      "  File \"C:\\Python310\\lib\\site-packages\\sklearn\\base.py\", line 651, in score\n",
      "    return accuracy_score(y, self.predict(X), sample_weight=sample_weight)\n",
      "  File \"C:\\Python310\\lib\\site-packages\\sklearn\\neighbors\\_classification.py\", line 214, in predict\n",
      "    neigh_dist, neigh_ind = self.kneighbors(X)\n",
      "  File \"C:\\Python310\\lib\\site-packages\\sklearn\\neighbors\\_base.py\", line 727, in kneighbors\n",
      "    raise ValueError(\n",
      "ValueError: Expected n_neighbors <= n_samples,  but n_samples = 54, n_neighbors = 76\n",
      "\n",
      "  warnings.warn(\n",
      "C:\\Python310\\lib\\site-packages\\sklearn\\model_selection\\_validation.py:770: UserWarning: Scoring failed. The score on this train-test partition for these parameters will be set to nan. Details: \n",
      "Traceback (most recent call last):\n",
      "  File \"C:\\Python310\\lib\\site-packages\\sklearn\\model_selection\\_validation.py\", line 761, in _score\n",
      "    scores = scorer(estimator, X_test, y_test)\n",
      "  File \"C:\\Python310\\lib\\site-packages\\sklearn\\metrics\\_scorer.py\", line 418, in _passthrough_scorer\n",
      "    return estimator.score(*args, **kwargs)\n",
      "  File \"C:\\Python310\\lib\\site-packages\\sklearn\\base.py\", line 651, in score\n",
      "    return accuracy_score(y, self.predict(X), sample_weight=sample_weight)\n",
      "  File \"C:\\Python310\\lib\\site-packages\\sklearn\\neighbors\\_classification.py\", line 214, in predict\n",
      "    neigh_dist, neigh_ind = self.kneighbors(X)\n",
      "  File \"C:\\Python310\\lib\\site-packages\\sklearn\\neighbors\\_base.py\", line 727, in kneighbors\n",
      "    raise ValueError(\n",
      "ValueError: Expected n_neighbors <= n_samples,  but n_samples = 54, n_neighbors = 76\n",
      "\n",
      "  warnings.warn(\n",
      "C:\\Python310\\lib\\site-packages\\sklearn\\model_selection\\_validation.py:770: UserWarning: Scoring failed. The score on this train-test partition for these parameters will be set to nan. Details: \n",
      "Traceback (most recent call last):\n",
      "  File \"C:\\Python310\\lib\\site-packages\\sklearn\\model_selection\\_validation.py\", line 761, in _score\n",
      "    scores = scorer(estimator, X_test, y_test)\n",
      "  File \"C:\\Python310\\lib\\site-packages\\sklearn\\metrics\\_scorer.py\", line 418, in _passthrough_scorer\n",
      "    return estimator.score(*args, **kwargs)\n",
      "  File \"C:\\Python310\\lib\\site-packages\\sklearn\\base.py\", line 651, in score\n",
      "    return accuracy_score(y, self.predict(X), sample_weight=sample_weight)\n",
      "  File \"C:\\Python310\\lib\\site-packages\\sklearn\\neighbors\\_classification.py\", line 214, in predict\n",
      "    neigh_dist, neigh_ind = self.kneighbors(X)\n",
      "  File \"C:\\Python310\\lib\\site-packages\\sklearn\\neighbors\\_base.py\", line 727, in kneighbors\n",
      "    raise ValueError(\n",
      "ValueError: Expected n_neighbors <= n_samples,  but n_samples = 55, n_neighbors = 76\n",
      "\n",
      "  warnings.warn(\n",
      "C:\\Python310\\lib\\site-packages\\sklearn\\model_selection\\_validation.py:770: UserWarning: Scoring failed. The score on this train-test partition for these parameters will be set to nan. Details: \n",
      "Traceback (most recent call last):\n",
      "  File \"C:\\Python310\\lib\\site-packages\\sklearn\\model_selection\\_validation.py\", line 761, in _score\n",
      "    scores = scorer(estimator, X_test, y_test)\n",
      "  File \"C:\\Python310\\lib\\site-packages\\sklearn\\metrics\\_scorer.py\", line 418, in _passthrough_scorer\n",
      "    return estimator.score(*args, **kwargs)\n",
      "  File \"C:\\Python310\\lib\\site-packages\\sklearn\\base.py\", line 651, in score\n",
      "    return accuracy_score(y, self.predict(X), sample_weight=sample_weight)\n",
      "  File \"C:\\Python310\\lib\\site-packages\\sklearn\\neighbors\\_classification.py\", line 214, in predict\n",
      "    neigh_dist, neigh_ind = self.kneighbors(X)\n",
      "  File \"C:\\Python310\\lib\\site-packages\\sklearn\\neighbors\\_base.py\", line 727, in kneighbors\n",
      "    raise ValueError(\n",
      "ValueError: Expected n_neighbors <= n_samples,  but n_samples = 55, n_neighbors = 76\n",
      "\n",
      "  warnings.warn(\n",
      "C:\\Python310\\lib\\site-packages\\sklearn\\model_selection\\_validation.py:770: UserWarning: Scoring failed. The score on this train-test partition for these parameters will be set to nan. Details: \n",
      "Traceback (most recent call last):\n",
      "  File \"C:\\Python310\\lib\\site-packages\\sklearn\\model_selection\\_validation.py\", line 761, in _score\n",
      "    scores = scorer(estimator, X_test, y_test)\n",
      "  File \"C:\\Python310\\lib\\site-packages\\sklearn\\metrics\\_scorer.py\", line 418, in _passthrough_scorer\n",
      "    return estimator.score(*args, **kwargs)\n",
      "  File \"C:\\Python310\\lib\\site-packages\\sklearn\\base.py\", line 651, in score\n",
      "    return accuracy_score(y, self.predict(X), sample_weight=sample_weight)\n",
      "  File \"C:\\Python310\\lib\\site-packages\\sklearn\\neighbors\\_classification.py\", line 214, in predict\n",
      "    neigh_dist, neigh_ind = self.kneighbors(X)\n",
      "  File \"C:\\Python310\\lib\\site-packages\\sklearn\\neighbors\\_base.py\", line 727, in kneighbors\n",
      "    raise ValueError(\n",
      "ValueError: Expected n_neighbors <= n_samples,  but n_samples = 54, n_neighbors = 77\n",
      "\n",
      "  warnings.warn(\n",
      "C:\\Python310\\lib\\site-packages\\sklearn\\model_selection\\_validation.py:770: UserWarning: Scoring failed. The score on this train-test partition for these parameters will be set to nan. Details: \n",
      "Traceback (most recent call last):\n",
      "  File \"C:\\Python310\\lib\\site-packages\\sklearn\\model_selection\\_validation.py\", line 761, in _score\n",
      "    scores = scorer(estimator, X_test, y_test)\n",
      "  File \"C:\\Python310\\lib\\site-packages\\sklearn\\metrics\\_scorer.py\", line 418, in _passthrough_scorer\n",
      "    return estimator.score(*args, **kwargs)\n",
      "  File \"C:\\Python310\\lib\\site-packages\\sklearn\\base.py\", line 651, in score\n",
      "    return accuracy_score(y, self.predict(X), sample_weight=sample_weight)\n",
      "  File \"C:\\Python310\\lib\\site-packages\\sklearn\\neighbors\\_classification.py\", line 214, in predict\n",
      "    neigh_dist, neigh_ind = self.kneighbors(X)\n",
      "  File \"C:\\Python310\\lib\\site-packages\\sklearn\\neighbors\\_base.py\", line 727, in kneighbors\n",
      "    raise ValueError(\n",
      "ValueError: Expected n_neighbors <= n_samples,  but n_samples = 54, n_neighbors = 77\n",
      "\n",
      "  warnings.warn(\n",
      "C:\\Python310\\lib\\site-packages\\sklearn\\model_selection\\_validation.py:770: UserWarning: Scoring failed. The score on this train-test partition for these parameters will be set to nan. Details: \n",
      "Traceback (most recent call last):\n",
      "  File \"C:\\Python310\\lib\\site-packages\\sklearn\\model_selection\\_validation.py\", line 761, in _score\n",
      "    scores = scorer(estimator, X_test, y_test)\n",
      "  File \"C:\\Python310\\lib\\site-packages\\sklearn\\metrics\\_scorer.py\", line 418, in _passthrough_scorer\n",
      "    return estimator.score(*args, **kwargs)\n",
      "  File \"C:\\Python310\\lib\\site-packages\\sklearn\\base.py\", line 651, in score\n",
      "    return accuracy_score(y, self.predict(X), sample_weight=sample_weight)\n",
      "  File \"C:\\Python310\\lib\\site-packages\\sklearn\\neighbors\\_classification.py\", line 214, in predict\n",
      "    neigh_dist, neigh_ind = self.kneighbors(X)\n",
      "  File \"C:\\Python310\\lib\\site-packages\\sklearn\\neighbors\\_base.py\", line 727, in kneighbors\n",
      "    raise ValueError(\n",
      "ValueError: Expected n_neighbors <= n_samples,  but n_samples = 54, n_neighbors = 77\n",
      "\n",
      "  warnings.warn(\n",
      "C:\\Python310\\lib\\site-packages\\sklearn\\model_selection\\_validation.py:770: UserWarning: Scoring failed. The score on this train-test partition for these parameters will be set to nan. Details: \n",
      "Traceback (most recent call last):\n",
      "  File \"C:\\Python310\\lib\\site-packages\\sklearn\\model_selection\\_validation.py\", line 761, in _score\n",
      "    scores = scorer(estimator, X_test, y_test)\n",
      "  File \"C:\\Python310\\lib\\site-packages\\sklearn\\metrics\\_scorer.py\", line 418, in _passthrough_scorer\n",
      "    return estimator.score(*args, **kwargs)\n",
      "  File \"C:\\Python310\\lib\\site-packages\\sklearn\\base.py\", line 651, in score\n",
      "    return accuracy_score(y, self.predict(X), sample_weight=sample_weight)\n",
      "  File \"C:\\Python310\\lib\\site-packages\\sklearn\\neighbors\\_classification.py\", line 214, in predict\n",
      "    neigh_dist, neigh_ind = self.kneighbors(X)\n",
      "  File \"C:\\Python310\\lib\\site-packages\\sklearn\\neighbors\\_base.py\", line 727, in kneighbors\n",
      "    raise ValueError(\n",
      "ValueError: Expected n_neighbors <= n_samples,  but n_samples = 55, n_neighbors = 77\n",
      "\n",
      "  warnings.warn(\n",
      "C:\\Python310\\lib\\site-packages\\sklearn\\model_selection\\_validation.py:770: UserWarning: Scoring failed. The score on this train-test partition for these parameters will be set to nan. Details: \n",
      "Traceback (most recent call last):\n",
      "  File \"C:\\Python310\\lib\\site-packages\\sklearn\\model_selection\\_validation.py\", line 761, in _score\n",
      "    scores = scorer(estimator, X_test, y_test)\n",
      "  File \"C:\\Python310\\lib\\site-packages\\sklearn\\metrics\\_scorer.py\", line 418, in _passthrough_scorer\n",
      "    return estimator.score(*args, **kwargs)\n",
      "  File \"C:\\Python310\\lib\\site-packages\\sklearn\\base.py\", line 651, in score\n",
      "    return accuracy_score(y, self.predict(X), sample_weight=sample_weight)\n",
      "  File \"C:\\Python310\\lib\\site-packages\\sklearn\\neighbors\\_classification.py\", line 214, in predict\n",
      "    neigh_dist, neigh_ind = self.kneighbors(X)\n",
      "  File \"C:\\Python310\\lib\\site-packages\\sklearn\\neighbors\\_base.py\", line 727, in kneighbors\n",
      "    raise ValueError(\n",
      "ValueError: Expected n_neighbors <= n_samples,  but n_samples = 55, n_neighbors = 77\n",
      "\n",
      "  warnings.warn(\n",
      "C:\\Python310\\lib\\site-packages\\sklearn\\model_selection\\_validation.py:770: UserWarning: Scoring failed. The score on this train-test partition for these parameters will be set to nan. Details: \n",
      "Traceback (most recent call last):\n",
      "  File \"C:\\Python310\\lib\\site-packages\\sklearn\\model_selection\\_validation.py\", line 761, in _score\n",
      "    scores = scorer(estimator, X_test, y_test)\n",
      "  File \"C:\\Python310\\lib\\site-packages\\sklearn\\metrics\\_scorer.py\", line 418, in _passthrough_scorer\n",
      "    return estimator.score(*args, **kwargs)\n",
      "  File \"C:\\Python310\\lib\\site-packages\\sklearn\\base.py\", line 651, in score\n",
      "    return accuracy_score(y, self.predict(X), sample_weight=sample_weight)\n",
      "  File \"C:\\Python310\\lib\\site-packages\\sklearn\\neighbors\\_classification.py\", line 214, in predict\n",
      "    neigh_dist, neigh_ind = self.kneighbors(X)\n",
      "  File \"C:\\Python310\\lib\\site-packages\\sklearn\\neighbors\\_base.py\", line 727, in kneighbors\n",
      "    raise ValueError(\n",
      "ValueError: Expected n_neighbors <= n_samples,  but n_samples = 54, n_neighbors = 78\n",
      "\n",
      "  warnings.warn(\n",
      "C:\\Python310\\lib\\site-packages\\sklearn\\model_selection\\_validation.py:770: UserWarning: Scoring failed. The score on this train-test partition for these parameters will be set to nan. Details: \n",
      "Traceback (most recent call last):\n",
      "  File \"C:\\Python310\\lib\\site-packages\\sklearn\\model_selection\\_validation.py\", line 761, in _score\n",
      "    scores = scorer(estimator, X_test, y_test)\n",
      "  File \"C:\\Python310\\lib\\site-packages\\sklearn\\metrics\\_scorer.py\", line 418, in _passthrough_scorer\n",
      "    return estimator.score(*args, **kwargs)\n",
      "  File \"C:\\Python310\\lib\\site-packages\\sklearn\\base.py\", line 651, in score\n",
      "    return accuracy_score(y, self.predict(X), sample_weight=sample_weight)\n",
      "  File \"C:\\Python310\\lib\\site-packages\\sklearn\\neighbors\\_classification.py\", line 214, in predict\n",
      "    neigh_dist, neigh_ind = self.kneighbors(X)\n",
      "  File \"C:\\Python310\\lib\\site-packages\\sklearn\\neighbors\\_base.py\", line 727, in kneighbors\n",
      "    raise ValueError(\n",
      "ValueError: Expected n_neighbors <= n_samples,  but n_samples = 54, n_neighbors = 78\n",
      "\n",
      "  warnings.warn(\n",
      "C:\\Python310\\lib\\site-packages\\sklearn\\model_selection\\_validation.py:770: UserWarning: Scoring failed. The score on this train-test partition for these parameters will be set to nan. Details: \n",
      "Traceback (most recent call last):\n",
      "  File \"C:\\Python310\\lib\\site-packages\\sklearn\\model_selection\\_validation.py\", line 761, in _score\n",
      "    scores = scorer(estimator, X_test, y_test)\n",
      "  File \"C:\\Python310\\lib\\site-packages\\sklearn\\metrics\\_scorer.py\", line 418, in _passthrough_scorer\n",
      "    return estimator.score(*args, **kwargs)\n",
      "  File \"C:\\Python310\\lib\\site-packages\\sklearn\\base.py\", line 651, in score\n",
      "    return accuracy_score(y, self.predict(X), sample_weight=sample_weight)\n",
      "  File \"C:\\Python310\\lib\\site-packages\\sklearn\\neighbors\\_classification.py\", line 214, in predict\n",
      "    neigh_dist, neigh_ind = self.kneighbors(X)\n",
      "  File \"C:\\Python310\\lib\\site-packages\\sklearn\\neighbors\\_base.py\", line 727, in kneighbors\n",
      "    raise ValueError(\n",
      "ValueError: Expected n_neighbors <= n_samples,  but n_samples = 54, n_neighbors = 78\n",
      "\n",
      "  warnings.warn(\n",
      "C:\\Python310\\lib\\site-packages\\sklearn\\model_selection\\_validation.py:770: UserWarning: Scoring failed. The score on this train-test partition for these parameters will be set to nan. Details: \n",
      "Traceback (most recent call last):\n",
      "  File \"C:\\Python310\\lib\\site-packages\\sklearn\\model_selection\\_validation.py\", line 761, in _score\n",
      "    scores = scorer(estimator, X_test, y_test)\n",
      "  File \"C:\\Python310\\lib\\site-packages\\sklearn\\metrics\\_scorer.py\", line 418, in _passthrough_scorer\n",
      "    return estimator.score(*args, **kwargs)\n",
      "  File \"C:\\Python310\\lib\\site-packages\\sklearn\\base.py\", line 651, in score\n",
      "    return accuracy_score(y, self.predict(X), sample_weight=sample_weight)\n",
      "  File \"C:\\Python310\\lib\\site-packages\\sklearn\\neighbors\\_classification.py\", line 214, in predict\n",
      "    neigh_dist, neigh_ind = self.kneighbors(X)\n",
      "  File \"C:\\Python310\\lib\\site-packages\\sklearn\\neighbors\\_base.py\", line 727, in kneighbors\n",
      "    raise ValueError(\n",
      "ValueError: Expected n_neighbors <= n_samples,  but n_samples = 55, n_neighbors = 78\n",
      "\n",
      "  warnings.warn(\n",
      "C:\\Python310\\lib\\site-packages\\sklearn\\model_selection\\_validation.py:770: UserWarning: Scoring failed. The score on this train-test partition for these parameters will be set to nan. Details: \n",
      "Traceback (most recent call last):\n",
      "  File \"C:\\Python310\\lib\\site-packages\\sklearn\\model_selection\\_validation.py\", line 761, in _score\n",
      "    scores = scorer(estimator, X_test, y_test)\n",
      "  File \"C:\\Python310\\lib\\site-packages\\sklearn\\metrics\\_scorer.py\", line 418, in _passthrough_scorer\n",
      "    return estimator.score(*args, **kwargs)\n",
      "  File \"C:\\Python310\\lib\\site-packages\\sklearn\\base.py\", line 651, in score\n",
      "    return accuracy_score(y, self.predict(X), sample_weight=sample_weight)\n",
      "  File \"C:\\Python310\\lib\\site-packages\\sklearn\\neighbors\\_classification.py\", line 214, in predict\n",
      "    neigh_dist, neigh_ind = self.kneighbors(X)\n",
      "  File \"C:\\Python310\\lib\\site-packages\\sklearn\\neighbors\\_base.py\", line 727, in kneighbors\n",
      "    raise ValueError(\n",
      "ValueError: Expected n_neighbors <= n_samples,  but n_samples = 55, n_neighbors = 78\n",
      "\n",
      "  warnings.warn(\n",
      "C:\\Python310\\lib\\site-packages\\sklearn\\model_selection\\_validation.py:770: UserWarning: Scoring failed. The score on this train-test partition for these parameters will be set to nan. Details: \n",
      "Traceback (most recent call last):\n",
      "  File \"C:\\Python310\\lib\\site-packages\\sklearn\\model_selection\\_validation.py\", line 761, in _score\n",
      "    scores = scorer(estimator, X_test, y_test)\n",
      "  File \"C:\\Python310\\lib\\site-packages\\sklearn\\metrics\\_scorer.py\", line 418, in _passthrough_scorer\n",
      "    return estimator.score(*args, **kwargs)\n",
      "  File \"C:\\Python310\\lib\\site-packages\\sklearn\\base.py\", line 651, in score\n",
      "    return accuracy_score(y, self.predict(X), sample_weight=sample_weight)\n",
      "  File \"C:\\Python310\\lib\\site-packages\\sklearn\\neighbors\\_classification.py\", line 214, in predict\n",
      "    neigh_dist, neigh_ind = self.kneighbors(X)\n",
      "  File \"C:\\Python310\\lib\\site-packages\\sklearn\\neighbors\\_base.py\", line 727, in kneighbors\n",
      "    raise ValueError(\n",
      "ValueError: Expected n_neighbors <= n_samples,  but n_samples = 54, n_neighbors = 79\n",
      "\n",
      "  warnings.warn(\n",
      "C:\\Python310\\lib\\site-packages\\sklearn\\model_selection\\_validation.py:770: UserWarning: Scoring failed. The score on this train-test partition for these parameters will be set to nan. Details: \n",
      "Traceback (most recent call last):\n",
      "  File \"C:\\Python310\\lib\\site-packages\\sklearn\\model_selection\\_validation.py\", line 761, in _score\n",
      "    scores = scorer(estimator, X_test, y_test)\n",
      "  File \"C:\\Python310\\lib\\site-packages\\sklearn\\metrics\\_scorer.py\", line 418, in _passthrough_scorer\n",
      "    return estimator.score(*args, **kwargs)\n",
      "  File \"C:\\Python310\\lib\\site-packages\\sklearn\\base.py\", line 651, in score\n",
      "    return accuracy_score(y, self.predict(X), sample_weight=sample_weight)\n",
      "  File \"C:\\Python310\\lib\\site-packages\\sklearn\\neighbors\\_classification.py\", line 214, in predict\n",
      "    neigh_dist, neigh_ind = self.kneighbors(X)\n",
      "  File \"C:\\Python310\\lib\\site-packages\\sklearn\\neighbors\\_base.py\", line 727, in kneighbors\n",
      "    raise ValueError(\n",
      "ValueError: Expected n_neighbors <= n_samples,  but n_samples = 54, n_neighbors = 79\n",
      "\n",
      "  warnings.warn(\n",
      "C:\\Python310\\lib\\site-packages\\sklearn\\model_selection\\_validation.py:770: UserWarning: Scoring failed. The score on this train-test partition for these parameters will be set to nan. Details: \n",
      "Traceback (most recent call last):\n",
      "  File \"C:\\Python310\\lib\\site-packages\\sklearn\\model_selection\\_validation.py\", line 761, in _score\n",
      "    scores = scorer(estimator, X_test, y_test)\n",
      "  File \"C:\\Python310\\lib\\site-packages\\sklearn\\metrics\\_scorer.py\", line 418, in _passthrough_scorer\n",
      "    return estimator.score(*args, **kwargs)\n",
      "  File \"C:\\Python310\\lib\\site-packages\\sklearn\\base.py\", line 651, in score\n",
      "    return accuracy_score(y, self.predict(X), sample_weight=sample_weight)\n",
      "  File \"C:\\Python310\\lib\\site-packages\\sklearn\\neighbors\\_classification.py\", line 214, in predict\n",
      "    neigh_dist, neigh_ind = self.kneighbors(X)\n",
      "  File \"C:\\Python310\\lib\\site-packages\\sklearn\\neighbors\\_base.py\", line 727, in kneighbors\n",
      "    raise ValueError(\n",
      "ValueError: Expected n_neighbors <= n_samples,  but n_samples = 54, n_neighbors = 79\n",
      "\n",
      "  warnings.warn(\n",
      "C:\\Python310\\lib\\site-packages\\sklearn\\model_selection\\_validation.py:770: UserWarning: Scoring failed. The score on this train-test partition for these parameters will be set to nan. Details: \n",
      "Traceback (most recent call last):\n",
      "  File \"C:\\Python310\\lib\\site-packages\\sklearn\\model_selection\\_validation.py\", line 761, in _score\n",
      "    scores = scorer(estimator, X_test, y_test)\n",
      "  File \"C:\\Python310\\lib\\site-packages\\sklearn\\metrics\\_scorer.py\", line 418, in _passthrough_scorer\n",
      "    return estimator.score(*args, **kwargs)\n",
      "  File \"C:\\Python310\\lib\\site-packages\\sklearn\\base.py\", line 651, in score\n",
      "    return accuracy_score(y, self.predict(X), sample_weight=sample_weight)\n",
      "  File \"C:\\Python310\\lib\\site-packages\\sklearn\\neighbors\\_classification.py\", line 214, in predict\n",
      "    neigh_dist, neigh_ind = self.kneighbors(X)\n",
      "  File \"C:\\Python310\\lib\\site-packages\\sklearn\\neighbors\\_base.py\", line 727, in kneighbors\n",
      "    raise ValueError(\n",
      "ValueError: Expected n_neighbors <= n_samples,  but n_samples = 55, n_neighbors = 79\n",
      "\n",
      "  warnings.warn(\n",
      "C:\\Python310\\lib\\site-packages\\sklearn\\model_selection\\_validation.py:770: UserWarning: Scoring failed. The score on this train-test partition for these parameters will be set to nan. Details: \n",
      "Traceback (most recent call last):\n",
      "  File \"C:\\Python310\\lib\\site-packages\\sklearn\\model_selection\\_validation.py\", line 761, in _score\n",
      "    scores = scorer(estimator, X_test, y_test)\n",
      "  File \"C:\\Python310\\lib\\site-packages\\sklearn\\metrics\\_scorer.py\", line 418, in _passthrough_scorer\n",
      "    return estimator.score(*args, **kwargs)\n",
      "  File \"C:\\Python310\\lib\\site-packages\\sklearn\\base.py\", line 651, in score\n",
      "    return accuracy_score(y, self.predict(X), sample_weight=sample_weight)\n",
      "  File \"C:\\Python310\\lib\\site-packages\\sklearn\\neighbors\\_classification.py\", line 214, in predict\n",
      "    neigh_dist, neigh_ind = self.kneighbors(X)\n",
      "  File \"C:\\Python310\\lib\\site-packages\\sklearn\\neighbors\\_base.py\", line 727, in kneighbors\n",
      "    raise ValueError(\n",
      "ValueError: Expected n_neighbors <= n_samples,  but n_samples = 55, n_neighbors = 79\n",
      "\n",
      "  warnings.warn(\n",
      "C:\\Python310\\lib\\site-packages\\sklearn\\model_selection\\_validation.py:770: UserWarning: Scoring failed. The score on this train-test partition for these parameters will be set to nan. Details: \n",
      "Traceback (most recent call last):\n",
      "  File \"C:\\Python310\\lib\\site-packages\\sklearn\\model_selection\\_validation.py\", line 761, in _score\n",
      "    scores = scorer(estimator, X_test, y_test)\n",
      "  File \"C:\\Python310\\lib\\site-packages\\sklearn\\metrics\\_scorer.py\", line 418, in _passthrough_scorer\n",
      "    return estimator.score(*args, **kwargs)\n",
      "  File \"C:\\Python310\\lib\\site-packages\\sklearn\\base.py\", line 651, in score\n",
      "    return accuracy_score(y, self.predict(X), sample_weight=sample_weight)\n",
      "  File \"C:\\Python310\\lib\\site-packages\\sklearn\\neighbors\\_classification.py\", line 214, in predict\n",
      "    neigh_dist, neigh_ind = self.kneighbors(X)\n",
      "  File \"C:\\Python310\\lib\\site-packages\\sklearn\\neighbors\\_base.py\", line 727, in kneighbors\n",
      "    raise ValueError(\n",
      "ValueError: Expected n_neighbors <= n_samples,  but n_samples = 54, n_neighbors = 80\n",
      "\n",
      "  warnings.warn(\n",
      "C:\\Python310\\lib\\site-packages\\sklearn\\model_selection\\_validation.py:770: UserWarning: Scoring failed. The score on this train-test partition for these parameters will be set to nan. Details: \n",
      "Traceback (most recent call last):\n",
      "  File \"C:\\Python310\\lib\\site-packages\\sklearn\\model_selection\\_validation.py\", line 761, in _score\n",
      "    scores = scorer(estimator, X_test, y_test)\n",
      "  File \"C:\\Python310\\lib\\site-packages\\sklearn\\metrics\\_scorer.py\", line 418, in _passthrough_scorer\n",
      "    return estimator.score(*args, **kwargs)\n",
      "  File \"C:\\Python310\\lib\\site-packages\\sklearn\\base.py\", line 651, in score\n",
      "    return accuracy_score(y, self.predict(X), sample_weight=sample_weight)\n",
      "  File \"C:\\Python310\\lib\\site-packages\\sklearn\\neighbors\\_classification.py\", line 214, in predict\n",
      "    neigh_dist, neigh_ind = self.kneighbors(X)\n",
      "  File \"C:\\Python310\\lib\\site-packages\\sklearn\\neighbors\\_base.py\", line 727, in kneighbors\n",
      "    raise ValueError(\n",
      "ValueError: Expected n_neighbors <= n_samples,  but n_samples = 54, n_neighbors = 80\n",
      "\n",
      "  warnings.warn(\n",
      "C:\\Python310\\lib\\site-packages\\sklearn\\model_selection\\_validation.py:770: UserWarning: Scoring failed. The score on this train-test partition for these parameters will be set to nan. Details: \n",
      "Traceback (most recent call last):\n",
      "  File \"C:\\Python310\\lib\\site-packages\\sklearn\\model_selection\\_validation.py\", line 761, in _score\n",
      "    scores = scorer(estimator, X_test, y_test)\n",
      "  File \"C:\\Python310\\lib\\site-packages\\sklearn\\metrics\\_scorer.py\", line 418, in _passthrough_scorer\n",
      "    return estimator.score(*args, **kwargs)\n",
      "  File \"C:\\Python310\\lib\\site-packages\\sklearn\\base.py\", line 651, in score\n",
      "    return accuracy_score(y, self.predict(X), sample_weight=sample_weight)\n",
      "  File \"C:\\Python310\\lib\\site-packages\\sklearn\\neighbors\\_classification.py\", line 214, in predict\n",
      "    neigh_dist, neigh_ind = self.kneighbors(X)\n",
      "  File \"C:\\Python310\\lib\\site-packages\\sklearn\\neighbors\\_base.py\", line 727, in kneighbors\n",
      "    raise ValueError(\n",
      "ValueError: Expected n_neighbors <= n_samples,  but n_samples = 54, n_neighbors = 80\n",
      "\n",
      "  warnings.warn(\n",
      "C:\\Python310\\lib\\site-packages\\sklearn\\model_selection\\_validation.py:770: UserWarning: Scoring failed. The score on this train-test partition for these parameters will be set to nan. Details: \n",
      "Traceback (most recent call last):\n",
      "  File \"C:\\Python310\\lib\\site-packages\\sklearn\\model_selection\\_validation.py\", line 761, in _score\n",
      "    scores = scorer(estimator, X_test, y_test)\n",
      "  File \"C:\\Python310\\lib\\site-packages\\sklearn\\metrics\\_scorer.py\", line 418, in _passthrough_scorer\n",
      "    return estimator.score(*args, **kwargs)\n",
      "  File \"C:\\Python310\\lib\\site-packages\\sklearn\\base.py\", line 651, in score\n",
      "    return accuracy_score(y, self.predict(X), sample_weight=sample_weight)\n",
      "  File \"C:\\Python310\\lib\\site-packages\\sklearn\\neighbors\\_classification.py\", line 214, in predict\n",
      "    neigh_dist, neigh_ind = self.kneighbors(X)\n",
      "  File \"C:\\Python310\\lib\\site-packages\\sklearn\\neighbors\\_base.py\", line 727, in kneighbors\n",
      "    raise ValueError(\n",
      "ValueError: Expected n_neighbors <= n_samples,  but n_samples = 55, n_neighbors = 80\n",
      "\n",
      "  warnings.warn(\n",
      "C:\\Python310\\lib\\site-packages\\sklearn\\model_selection\\_validation.py:770: UserWarning: Scoring failed. The score on this train-test partition for these parameters will be set to nan. Details: \n",
      "Traceback (most recent call last):\n",
      "  File \"C:\\Python310\\lib\\site-packages\\sklearn\\model_selection\\_validation.py\", line 761, in _score\n",
      "    scores = scorer(estimator, X_test, y_test)\n",
      "  File \"C:\\Python310\\lib\\site-packages\\sklearn\\metrics\\_scorer.py\", line 418, in _passthrough_scorer\n",
      "    return estimator.score(*args, **kwargs)\n",
      "  File \"C:\\Python310\\lib\\site-packages\\sklearn\\base.py\", line 651, in score\n",
      "    return accuracy_score(y, self.predict(X), sample_weight=sample_weight)\n",
      "  File \"C:\\Python310\\lib\\site-packages\\sklearn\\neighbors\\_classification.py\", line 214, in predict\n",
      "    neigh_dist, neigh_ind = self.kneighbors(X)\n",
      "  File \"C:\\Python310\\lib\\site-packages\\sklearn\\neighbors\\_base.py\", line 727, in kneighbors\n",
      "    raise ValueError(\n",
      "ValueError: Expected n_neighbors <= n_samples,  but n_samples = 55, n_neighbors = 80\n",
      "\n",
      "  warnings.warn(\n",
      "C:\\Python310\\lib\\site-packages\\sklearn\\model_selection\\_validation.py:770: UserWarning: Scoring failed. The score on this train-test partition for these parameters will be set to nan. Details: \n",
      "Traceback (most recent call last):\n",
      "  File \"C:\\Python310\\lib\\site-packages\\sklearn\\model_selection\\_validation.py\", line 761, in _score\n",
      "    scores = scorer(estimator, X_test, y_test)\n",
      "  File \"C:\\Python310\\lib\\site-packages\\sklearn\\metrics\\_scorer.py\", line 418, in _passthrough_scorer\n",
      "    return estimator.score(*args, **kwargs)\n",
      "  File \"C:\\Python310\\lib\\site-packages\\sklearn\\base.py\", line 651, in score\n",
      "    return accuracy_score(y, self.predict(X), sample_weight=sample_weight)\n",
      "  File \"C:\\Python310\\lib\\site-packages\\sklearn\\neighbors\\_classification.py\", line 214, in predict\n",
      "    neigh_dist, neigh_ind = self.kneighbors(X)\n",
      "  File \"C:\\Python310\\lib\\site-packages\\sklearn\\neighbors\\_base.py\", line 727, in kneighbors\n",
      "    raise ValueError(\n",
      "ValueError: Expected n_neighbors <= n_samples,  but n_samples = 54, n_neighbors = 81\n",
      "\n",
      "  warnings.warn(\n",
      "C:\\Python310\\lib\\site-packages\\sklearn\\model_selection\\_validation.py:770: UserWarning: Scoring failed. The score on this train-test partition for these parameters will be set to nan. Details: \n",
      "Traceback (most recent call last):\n",
      "  File \"C:\\Python310\\lib\\site-packages\\sklearn\\model_selection\\_validation.py\", line 761, in _score\n",
      "    scores = scorer(estimator, X_test, y_test)\n",
      "  File \"C:\\Python310\\lib\\site-packages\\sklearn\\metrics\\_scorer.py\", line 418, in _passthrough_scorer\n",
      "    return estimator.score(*args, **kwargs)\n",
      "  File \"C:\\Python310\\lib\\site-packages\\sklearn\\base.py\", line 651, in score\n",
      "    return accuracy_score(y, self.predict(X), sample_weight=sample_weight)\n",
      "  File \"C:\\Python310\\lib\\site-packages\\sklearn\\neighbors\\_classification.py\", line 214, in predict\n",
      "    neigh_dist, neigh_ind = self.kneighbors(X)\n",
      "  File \"C:\\Python310\\lib\\site-packages\\sklearn\\neighbors\\_base.py\", line 727, in kneighbors\n",
      "    raise ValueError(\n",
      "ValueError: Expected n_neighbors <= n_samples,  but n_samples = 54, n_neighbors = 81\n",
      "\n",
      "  warnings.warn(\n",
      "C:\\Python310\\lib\\site-packages\\sklearn\\model_selection\\_validation.py:770: UserWarning: Scoring failed. The score on this train-test partition for these parameters will be set to nan. Details: \n",
      "Traceback (most recent call last):\n",
      "  File \"C:\\Python310\\lib\\site-packages\\sklearn\\model_selection\\_validation.py\", line 761, in _score\n",
      "    scores = scorer(estimator, X_test, y_test)\n",
      "  File \"C:\\Python310\\lib\\site-packages\\sklearn\\metrics\\_scorer.py\", line 418, in _passthrough_scorer\n",
      "    return estimator.score(*args, **kwargs)\n",
      "  File \"C:\\Python310\\lib\\site-packages\\sklearn\\base.py\", line 651, in score\n",
      "    return accuracy_score(y, self.predict(X), sample_weight=sample_weight)\n",
      "  File \"C:\\Python310\\lib\\site-packages\\sklearn\\neighbors\\_classification.py\", line 214, in predict\n",
      "    neigh_dist, neigh_ind = self.kneighbors(X)\n",
      "  File \"C:\\Python310\\lib\\site-packages\\sklearn\\neighbors\\_base.py\", line 727, in kneighbors\n",
      "    raise ValueError(\n",
      "ValueError: Expected n_neighbors <= n_samples,  but n_samples = 54, n_neighbors = 81\n",
      "\n",
      "  warnings.warn(\n",
      "C:\\Python310\\lib\\site-packages\\sklearn\\model_selection\\_validation.py:770: UserWarning: Scoring failed. The score on this train-test partition for these parameters will be set to nan. Details: \n",
      "Traceback (most recent call last):\n",
      "  File \"C:\\Python310\\lib\\site-packages\\sklearn\\model_selection\\_validation.py\", line 761, in _score\n",
      "    scores = scorer(estimator, X_test, y_test)\n",
      "  File \"C:\\Python310\\lib\\site-packages\\sklearn\\metrics\\_scorer.py\", line 418, in _passthrough_scorer\n",
      "    return estimator.score(*args, **kwargs)\n",
      "  File \"C:\\Python310\\lib\\site-packages\\sklearn\\base.py\", line 651, in score\n",
      "    return accuracy_score(y, self.predict(X), sample_weight=sample_weight)\n",
      "  File \"C:\\Python310\\lib\\site-packages\\sklearn\\neighbors\\_classification.py\", line 214, in predict\n",
      "    neigh_dist, neigh_ind = self.kneighbors(X)\n",
      "  File \"C:\\Python310\\lib\\site-packages\\sklearn\\neighbors\\_base.py\", line 727, in kneighbors\n",
      "    raise ValueError(\n",
      "ValueError: Expected n_neighbors <= n_samples,  but n_samples = 55, n_neighbors = 81\n",
      "\n",
      "  warnings.warn(\n",
      "C:\\Python310\\lib\\site-packages\\sklearn\\model_selection\\_validation.py:770: UserWarning: Scoring failed. The score on this train-test partition for these parameters will be set to nan. Details: \n",
      "Traceback (most recent call last):\n",
      "  File \"C:\\Python310\\lib\\site-packages\\sklearn\\model_selection\\_validation.py\", line 761, in _score\n",
      "    scores = scorer(estimator, X_test, y_test)\n",
      "  File \"C:\\Python310\\lib\\site-packages\\sklearn\\metrics\\_scorer.py\", line 418, in _passthrough_scorer\n",
      "    return estimator.score(*args, **kwargs)\n",
      "  File \"C:\\Python310\\lib\\site-packages\\sklearn\\base.py\", line 651, in score\n",
      "    return accuracy_score(y, self.predict(X), sample_weight=sample_weight)\n",
      "  File \"C:\\Python310\\lib\\site-packages\\sklearn\\neighbors\\_classification.py\", line 214, in predict\n",
      "    neigh_dist, neigh_ind = self.kneighbors(X)\n",
      "  File \"C:\\Python310\\lib\\site-packages\\sklearn\\neighbors\\_base.py\", line 727, in kneighbors\n",
      "    raise ValueError(\n",
      "ValueError: Expected n_neighbors <= n_samples,  but n_samples = 55, n_neighbors = 81\n",
      "\n",
      "  warnings.warn(\n",
      "C:\\Python310\\lib\\site-packages\\sklearn\\model_selection\\_validation.py:770: UserWarning: Scoring failed. The score on this train-test partition for these parameters will be set to nan. Details: \n",
      "Traceback (most recent call last):\n",
      "  File \"C:\\Python310\\lib\\site-packages\\sklearn\\model_selection\\_validation.py\", line 761, in _score\n",
      "    scores = scorer(estimator, X_test, y_test)\n",
      "  File \"C:\\Python310\\lib\\site-packages\\sklearn\\metrics\\_scorer.py\", line 418, in _passthrough_scorer\n",
      "    return estimator.score(*args, **kwargs)\n",
      "  File \"C:\\Python310\\lib\\site-packages\\sklearn\\base.py\", line 651, in score\n",
      "    return accuracy_score(y, self.predict(X), sample_weight=sample_weight)\n",
      "  File \"C:\\Python310\\lib\\site-packages\\sklearn\\neighbors\\_classification.py\", line 214, in predict\n",
      "    neigh_dist, neigh_ind = self.kneighbors(X)\n",
      "  File \"C:\\Python310\\lib\\site-packages\\sklearn\\neighbors\\_base.py\", line 727, in kneighbors\n",
      "    raise ValueError(\n",
      "ValueError: Expected n_neighbors <= n_samples,  but n_samples = 54, n_neighbors = 82\n",
      "\n",
      "  warnings.warn(\n",
      "C:\\Python310\\lib\\site-packages\\sklearn\\model_selection\\_validation.py:770: UserWarning: Scoring failed. The score on this train-test partition for these parameters will be set to nan. Details: \n",
      "Traceback (most recent call last):\n",
      "  File \"C:\\Python310\\lib\\site-packages\\sklearn\\model_selection\\_validation.py\", line 761, in _score\n",
      "    scores = scorer(estimator, X_test, y_test)\n",
      "  File \"C:\\Python310\\lib\\site-packages\\sklearn\\metrics\\_scorer.py\", line 418, in _passthrough_scorer\n",
      "    return estimator.score(*args, **kwargs)\n",
      "  File \"C:\\Python310\\lib\\site-packages\\sklearn\\base.py\", line 651, in score\n",
      "    return accuracy_score(y, self.predict(X), sample_weight=sample_weight)\n",
      "  File \"C:\\Python310\\lib\\site-packages\\sklearn\\neighbors\\_classification.py\", line 214, in predict\n",
      "    neigh_dist, neigh_ind = self.kneighbors(X)\n",
      "  File \"C:\\Python310\\lib\\site-packages\\sklearn\\neighbors\\_base.py\", line 727, in kneighbors\n",
      "    raise ValueError(\n",
      "ValueError: Expected n_neighbors <= n_samples,  but n_samples = 54, n_neighbors = 82\n",
      "\n",
      "  warnings.warn(\n",
      "C:\\Python310\\lib\\site-packages\\sklearn\\model_selection\\_validation.py:770: UserWarning: Scoring failed. The score on this train-test partition for these parameters will be set to nan. Details: \n",
      "Traceback (most recent call last):\n",
      "  File \"C:\\Python310\\lib\\site-packages\\sklearn\\model_selection\\_validation.py\", line 761, in _score\n",
      "    scores = scorer(estimator, X_test, y_test)\n",
      "  File \"C:\\Python310\\lib\\site-packages\\sklearn\\metrics\\_scorer.py\", line 418, in _passthrough_scorer\n",
      "    return estimator.score(*args, **kwargs)\n",
      "  File \"C:\\Python310\\lib\\site-packages\\sklearn\\base.py\", line 651, in score\n",
      "    return accuracy_score(y, self.predict(X), sample_weight=sample_weight)\n",
      "  File \"C:\\Python310\\lib\\site-packages\\sklearn\\neighbors\\_classification.py\", line 214, in predict\n",
      "    neigh_dist, neigh_ind = self.kneighbors(X)\n",
      "  File \"C:\\Python310\\lib\\site-packages\\sklearn\\neighbors\\_base.py\", line 727, in kneighbors\n",
      "    raise ValueError(\n",
      "ValueError: Expected n_neighbors <= n_samples,  but n_samples = 54, n_neighbors = 82\n",
      "\n",
      "  warnings.warn(\n",
      "C:\\Python310\\lib\\site-packages\\sklearn\\model_selection\\_validation.py:770: UserWarning: Scoring failed. The score on this train-test partition for these parameters will be set to nan. Details: \n",
      "Traceback (most recent call last):\n",
      "  File \"C:\\Python310\\lib\\site-packages\\sklearn\\model_selection\\_validation.py\", line 761, in _score\n",
      "    scores = scorer(estimator, X_test, y_test)\n",
      "  File \"C:\\Python310\\lib\\site-packages\\sklearn\\metrics\\_scorer.py\", line 418, in _passthrough_scorer\n",
      "    return estimator.score(*args, **kwargs)\n",
      "  File \"C:\\Python310\\lib\\site-packages\\sklearn\\base.py\", line 651, in score\n",
      "    return accuracy_score(y, self.predict(X), sample_weight=sample_weight)\n",
      "  File \"C:\\Python310\\lib\\site-packages\\sklearn\\neighbors\\_classification.py\", line 214, in predict\n",
      "    neigh_dist, neigh_ind = self.kneighbors(X)\n",
      "  File \"C:\\Python310\\lib\\site-packages\\sklearn\\neighbors\\_base.py\", line 727, in kneighbors\n",
      "    raise ValueError(\n",
      "ValueError: Expected n_neighbors <= n_samples,  but n_samples = 55, n_neighbors = 82\n",
      "\n",
      "  warnings.warn(\n",
      "C:\\Python310\\lib\\site-packages\\sklearn\\model_selection\\_validation.py:770: UserWarning: Scoring failed. The score on this train-test partition for these parameters will be set to nan. Details: \n",
      "Traceback (most recent call last):\n",
      "  File \"C:\\Python310\\lib\\site-packages\\sklearn\\model_selection\\_validation.py\", line 761, in _score\n",
      "    scores = scorer(estimator, X_test, y_test)\n",
      "  File \"C:\\Python310\\lib\\site-packages\\sklearn\\metrics\\_scorer.py\", line 418, in _passthrough_scorer\n",
      "    return estimator.score(*args, **kwargs)\n",
      "  File \"C:\\Python310\\lib\\site-packages\\sklearn\\base.py\", line 651, in score\n",
      "    return accuracy_score(y, self.predict(X), sample_weight=sample_weight)\n",
      "  File \"C:\\Python310\\lib\\site-packages\\sklearn\\neighbors\\_classification.py\", line 214, in predict\n",
      "    neigh_dist, neigh_ind = self.kneighbors(X)\n",
      "  File \"C:\\Python310\\lib\\site-packages\\sklearn\\neighbors\\_base.py\", line 727, in kneighbors\n",
      "    raise ValueError(\n",
      "ValueError: Expected n_neighbors <= n_samples,  but n_samples = 55, n_neighbors = 82\n",
      "\n",
      "  warnings.warn(\n",
      "C:\\Python310\\lib\\site-packages\\sklearn\\model_selection\\_validation.py:770: UserWarning: Scoring failed. The score on this train-test partition for these parameters will be set to nan. Details: \n",
      "Traceback (most recent call last):\n",
      "  File \"C:\\Python310\\lib\\site-packages\\sklearn\\model_selection\\_validation.py\", line 761, in _score\n",
      "    scores = scorer(estimator, X_test, y_test)\n",
      "  File \"C:\\Python310\\lib\\site-packages\\sklearn\\metrics\\_scorer.py\", line 418, in _passthrough_scorer\n",
      "    return estimator.score(*args, **kwargs)\n",
      "  File \"C:\\Python310\\lib\\site-packages\\sklearn\\base.py\", line 651, in score\n",
      "    return accuracy_score(y, self.predict(X), sample_weight=sample_weight)\n",
      "  File \"C:\\Python310\\lib\\site-packages\\sklearn\\neighbors\\_classification.py\", line 214, in predict\n",
      "    neigh_dist, neigh_ind = self.kneighbors(X)\n",
      "  File \"C:\\Python310\\lib\\site-packages\\sklearn\\neighbors\\_base.py\", line 727, in kneighbors\n",
      "    raise ValueError(\n",
      "ValueError: Expected n_neighbors <= n_samples,  but n_samples = 54, n_neighbors = 83\n",
      "\n",
      "  warnings.warn(\n",
      "C:\\Python310\\lib\\site-packages\\sklearn\\model_selection\\_validation.py:770: UserWarning: Scoring failed. The score on this train-test partition for these parameters will be set to nan. Details: \n",
      "Traceback (most recent call last):\n",
      "  File \"C:\\Python310\\lib\\site-packages\\sklearn\\model_selection\\_validation.py\", line 761, in _score\n",
      "    scores = scorer(estimator, X_test, y_test)\n",
      "  File \"C:\\Python310\\lib\\site-packages\\sklearn\\metrics\\_scorer.py\", line 418, in _passthrough_scorer\n",
      "    return estimator.score(*args, **kwargs)\n",
      "  File \"C:\\Python310\\lib\\site-packages\\sklearn\\base.py\", line 651, in score\n",
      "    return accuracy_score(y, self.predict(X), sample_weight=sample_weight)\n",
      "  File \"C:\\Python310\\lib\\site-packages\\sklearn\\neighbors\\_classification.py\", line 214, in predict\n",
      "    neigh_dist, neigh_ind = self.kneighbors(X)\n",
      "  File \"C:\\Python310\\lib\\site-packages\\sklearn\\neighbors\\_base.py\", line 727, in kneighbors\n",
      "    raise ValueError(\n",
      "ValueError: Expected n_neighbors <= n_samples,  but n_samples = 54, n_neighbors = 83\n",
      "\n",
      "  warnings.warn(\n",
      "C:\\Python310\\lib\\site-packages\\sklearn\\model_selection\\_validation.py:770: UserWarning: Scoring failed. The score on this train-test partition for these parameters will be set to nan. Details: \n",
      "Traceback (most recent call last):\n",
      "  File \"C:\\Python310\\lib\\site-packages\\sklearn\\model_selection\\_validation.py\", line 761, in _score\n",
      "    scores = scorer(estimator, X_test, y_test)\n",
      "  File \"C:\\Python310\\lib\\site-packages\\sklearn\\metrics\\_scorer.py\", line 418, in _passthrough_scorer\n",
      "    return estimator.score(*args, **kwargs)\n",
      "  File \"C:\\Python310\\lib\\site-packages\\sklearn\\base.py\", line 651, in score\n",
      "    return accuracy_score(y, self.predict(X), sample_weight=sample_weight)\n",
      "  File \"C:\\Python310\\lib\\site-packages\\sklearn\\neighbors\\_classification.py\", line 214, in predict\n",
      "    neigh_dist, neigh_ind = self.kneighbors(X)\n",
      "  File \"C:\\Python310\\lib\\site-packages\\sklearn\\neighbors\\_base.py\", line 727, in kneighbors\n",
      "    raise ValueError(\n",
      "ValueError: Expected n_neighbors <= n_samples,  but n_samples = 54, n_neighbors = 83\n",
      "\n",
      "  warnings.warn(\n",
      "C:\\Python310\\lib\\site-packages\\sklearn\\model_selection\\_validation.py:770: UserWarning: Scoring failed. The score on this train-test partition for these parameters will be set to nan. Details: \n",
      "Traceback (most recent call last):\n",
      "  File \"C:\\Python310\\lib\\site-packages\\sklearn\\model_selection\\_validation.py\", line 761, in _score\n",
      "    scores = scorer(estimator, X_test, y_test)\n",
      "  File \"C:\\Python310\\lib\\site-packages\\sklearn\\metrics\\_scorer.py\", line 418, in _passthrough_scorer\n",
      "    return estimator.score(*args, **kwargs)\n",
      "  File \"C:\\Python310\\lib\\site-packages\\sklearn\\base.py\", line 651, in score\n",
      "    return accuracy_score(y, self.predict(X), sample_weight=sample_weight)\n",
      "  File \"C:\\Python310\\lib\\site-packages\\sklearn\\neighbors\\_classification.py\", line 214, in predict\n",
      "    neigh_dist, neigh_ind = self.kneighbors(X)\n",
      "  File \"C:\\Python310\\lib\\site-packages\\sklearn\\neighbors\\_base.py\", line 727, in kneighbors\n",
      "    raise ValueError(\n",
      "ValueError: Expected n_neighbors <= n_samples,  but n_samples = 55, n_neighbors = 83\n",
      "\n",
      "  warnings.warn(\n",
      "C:\\Python310\\lib\\site-packages\\sklearn\\model_selection\\_validation.py:770: UserWarning: Scoring failed. The score on this train-test partition for these parameters will be set to nan. Details: \n",
      "Traceback (most recent call last):\n",
      "  File \"C:\\Python310\\lib\\site-packages\\sklearn\\model_selection\\_validation.py\", line 761, in _score\n",
      "    scores = scorer(estimator, X_test, y_test)\n",
      "  File \"C:\\Python310\\lib\\site-packages\\sklearn\\metrics\\_scorer.py\", line 418, in _passthrough_scorer\n",
      "    return estimator.score(*args, **kwargs)\n",
      "  File \"C:\\Python310\\lib\\site-packages\\sklearn\\base.py\", line 651, in score\n",
      "    return accuracy_score(y, self.predict(X), sample_weight=sample_weight)\n",
      "  File \"C:\\Python310\\lib\\site-packages\\sklearn\\neighbors\\_classification.py\", line 214, in predict\n",
      "    neigh_dist, neigh_ind = self.kneighbors(X)\n",
      "  File \"C:\\Python310\\lib\\site-packages\\sklearn\\neighbors\\_base.py\", line 727, in kneighbors\n",
      "    raise ValueError(\n",
      "ValueError: Expected n_neighbors <= n_samples,  but n_samples = 55, n_neighbors = 83\n",
      "\n",
      "  warnings.warn(\n",
      "C:\\Python310\\lib\\site-packages\\sklearn\\model_selection\\_validation.py:770: UserWarning: Scoring failed. The score on this train-test partition for these parameters will be set to nan. Details: \n",
      "Traceback (most recent call last):\n",
      "  File \"C:\\Python310\\lib\\site-packages\\sklearn\\model_selection\\_validation.py\", line 761, in _score\n",
      "    scores = scorer(estimator, X_test, y_test)\n",
      "  File \"C:\\Python310\\lib\\site-packages\\sklearn\\metrics\\_scorer.py\", line 418, in _passthrough_scorer\n",
      "    return estimator.score(*args, **kwargs)\n",
      "  File \"C:\\Python310\\lib\\site-packages\\sklearn\\base.py\", line 651, in score\n",
      "    return accuracy_score(y, self.predict(X), sample_weight=sample_weight)\n",
      "  File \"C:\\Python310\\lib\\site-packages\\sklearn\\neighbors\\_classification.py\", line 214, in predict\n",
      "    neigh_dist, neigh_ind = self.kneighbors(X)\n",
      "  File \"C:\\Python310\\lib\\site-packages\\sklearn\\neighbors\\_base.py\", line 727, in kneighbors\n",
      "    raise ValueError(\n",
      "ValueError: Expected n_neighbors <= n_samples,  but n_samples = 54, n_neighbors = 84\n",
      "\n",
      "  warnings.warn(\n",
      "C:\\Python310\\lib\\site-packages\\sklearn\\model_selection\\_validation.py:770: UserWarning: Scoring failed. The score on this train-test partition for these parameters will be set to nan. Details: \n",
      "Traceback (most recent call last):\n",
      "  File \"C:\\Python310\\lib\\site-packages\\sklearn\\model_selection\\_validation.py\", line 761, in _score\n",
      "    scores = scorer(estimator, X_test, y_test)\n",
      "  File \"C:\\Python310\\lib\\site-packages\\sklearn\\metrics\\_scorer.py\", line 418, in _passthrough_scorer\n",
      "    return estimator.score(*args, **kwargs)\n",
      "  File \"C:\\Python310\\lib\\site-packages\\sklearn\\base.py\", line 651, in score\n",
      "    return accuracy_score(y, self.predict(X), sample_weight=sample_weight)\n",
      "  File \"C:\\Python310\\lib\\site-packages\\sklearn\\neighbors\\_classification.py\", line 214, in predict\n",
      "    neigh_dist, neigh_ind = self.kneighbors(X)\n",
      "  File \"C:\\Python310\\lib\\site-packages\\sklearn\\neighbors\\_base.py\", line 727, in kneighbors\n",
      "    raise ValueError(\n",
      "ValueError: Expected n_neighbors <= n_samples,  but n_samples = 54, n_neighbors = 84\n",
      "\n",
      "  warnings.warn(\n",
      "C:\\Python310\\lib\\site-packages\\sklearn\\model_selection\\_validation.py:770: UserWarning: Scoring failed. The score on this train-test partition for these parameters will be set to nan. Details: \n",
      "Traceback (most recent call last):\n",
      "  File \"C:\\Python310\\lib\\site-packages\\sklearn\\model_selection\\_validation.py\", line 761, in _score\n",
      "    scores = scorer(estimator, X_test, y_test)\n",
      "  File \"C:\\Python310\\lib\\site-packages\\sklearn\\metrics\\_scorer.py\", line 418, in _passthrough_scorer\n",
      "    return estimator.score(*args, **kwargs)\n",
      "  File \"C:\\Python310\\lib\\site-packages\\sklearn\\base.py\", line 651, in score\n",
      "    return accuracy_score(y, self.predict(X), sample_weight=sample_weight)\n",
      "  File \"C:\\Python310\\lib\\site-packages\\sklearn\\neighbors\\_classification.py\", line 214, in predict\n",
      "    neigh_dist, neigh_ind = self.kneighbors(X)\n",
      "  File \"C:\\Python310\\lib\\site-packages\\sklearn\\neighbors\\_base.py\", line 727, in kneighbors\n",
      "    raise ValueError(\n",
      "ValueError: Expected n_neighbors <= n_samples,  but n_samples = 54, n_neighbors = 84\n",
      "\n",
      "  warnings.warn(\n",
      "C:\\Python310\\lib\\site-packages\\sklearn\\model_selection\\_validation.py:770: UserWarning: Scoring failed. The score on this train-test partition for these parameters will be set to nan. Details: \n",
      "Traceback (most recent call last):\n",
      "  File \"C:\\Python310\\lib\\site-packages\\sklearn\\model_selection\\_validation.py\", line 761, in _score\n",
      "    scores = scorer(estimator, X_test, y_test)\n",
      "  File \"C:\\Python310\\lib\\site-packages\\sklearn\\metrics\\_scorer.py\", line 418, in _passthrough_scorer\n",
      "    return estimator.score(*args, **kwargs)\n",
      "  File \"C:\\Python310\\lib\\site-packages\\sklearn\\base.py\", line 651, in score\n",
      "    return accuracy_score(y, self.predict(X), sample_weight=sample_weight)\n",
      "  File \"C:\\Python310\\lib\\site-packages\\sklearn\\neighbors\\_classification.py\", line 214, in predict\n",
      "    neigh_dist, neigh_ind = self.kneighbors(X)\n",
      "  File \"C:\\Python310\\lib\\site-packages\\sklearn\\neighbors\\_base.py\", line 727, in kneighbors\n",
      "    raise ValueError(\n",
      "ValueError: Expected n_neighbors <= n_samples,  but n_samples = 55, n_neighbors = 84\n",
      "\n",
      "  warnings.warn(\n",
      "C:\\Python310\\lib\\site-packages\\sklearn\\model_selection\\_validation.py:770: UserWarning: Scoring failed. The score on this train-test partition for these parameters will be set to nan. Details: \n",
      "Traceback (most recent call last):\n",
      "  File \"C:\\Python310\\lib\\site-packages\\sklearn\\model_selection\\_validation.py\", line 761, in _score\n",
      "    scores = scorer(estimator, X_test, y_test)\n",
      "  File \"C:\\Python310\\lib\\site-packages\\sklearn\\metrics\\_scorer.py\", line 418, in _passthrough_scorer\n",
      "    return estimator.score(*args, **kwargs)\n",
      "  File \"C:\\Python310\\lib\\site-packages\\sklearn\\base.py\", line 651, in score\n",
      "    return accuracy_score(y, self.predict(X), sample_weight=sample_weight)\n",
      "  File \"C:\\Python310\\lib\\site-packages\\sklearn\\neighbors\\_classification.py\", line 214, in predict\n",
      "    neigh_dist, neigh_ind = self.kneighbors(X)\n",
      "  File \"C:\\Python310\\lib\\site-packages\\sklearn\\neighbors\\_base.py\", line 727, in kneighbors\n",
      "    raise ValueError(\n",
      "ValueError: Expected n_neighbors <= n_samples,  but n_samples = 55, n_neighbors = 84\n",
      "\n",
      "  warnings.warn(\n",
      "C:\\Python310\\lib\\site-packages\\sklearn\\model_selection\\_search.py:969: UserWarning: One or more of the test scores are non-finite: [0.75054945 0.75164835 0.78131868 0.76483516 0.80659341 0.79230769\n",
      " 0.85164835 0.80769231 0.80989011 0.78021978 0.80989011 0.82527473\n",
      " 0.79450549 0.79450549 0.80879121 0.80879121 0.80989011 0.82417582\n",
      " 0.79340659 0.77912088 0.80879121 0.82307692 0.79340659 0.80769231\n",
      " 0.79340659 0.82307692 0.82307692 0.83846154 0.83846154 0.82417582\n",
      " 0.80989011 0.80989011 0.80989011 0.78131868 0.76593407 0.73736264\n",
      " 0.76593407 0.78131868 0.80989011 0.7956044  0.7956044  0.78021978\n",
      " 0.82307692 0.75164835 0.77912088 0.69340659 0.67802198 0.64945055\n",
      " 0.64945055 0.62197802 0.65054945 0.57692308 0.62197802 0.51538462\n",
      "        nan        nan        nan        nan        nan        nan\n",
      "        nan        nan        nan        nan        nan        nan\n",
      "        nan        nan        nan        nan        nan        nan\n",
      "        nan        nan        nan        nan        nan        nan\n",
      "        nan        nan        nan        nan        nan        nan]\n",
      "  warnings.warn(\n"
     ]
    }
   ],
   "source": [
    "\n",
    "param_grid = {'n_neighbors' : [i for i  in range(1,85)]\n",
    "             }\n",
    " \n",
    "grid = GridSearchCV(KNeighborsClassifier(), param_grid, refit = True, verbose = 1,cv=5)\n",
    "# fitting the model for grid search\n",
    "grid.fit(X_train, y_train)\n",
    "\n",
    "# print best parameter after tuning\n",
    "print(grid.best_params_)\n",
    " \n",
    "# print how our model looks after hyper-parameter tuning\n",
    "print(grid.best_estimator_)\n",
    "\n",
    "\n",
    "grid_predictions = grid.best_estimator_.predict(X_test)\n",
    " \n",
    "# print classification report\n",
    "print(classification_report(y_test, grid_predictions))\n"
   ]
  },
  {
   "cell_type": "code",
   "execution_count": 152,
   "id": "726f16e7",
   "metadata": {},
   "outputs": [
    {
     "name": "stdout",
     "output_type": "stream",
     "text": [
      "Confusion matrix, without normalization\n",
      "[[8 1]\n",
      " [0 8]]\n",
      "Normalized confusion matrix\n",
      "[[0.88888889 0.11111111]\n",
      " [0.         1.        ]]\n"
     ]
    },
    {
     "data": {
      "image/png": "[encoded data removed]",
      "text/plain": [
       "<Figure size 432x288 with 2 Axes>"
      ]
     },
     "metadata": {
      "needs_background": "light"
     },
     "output_type": "display_data"
    },
    {
     "data": {
      "image/png": "[encoded data removed]",
      "text/plain": [
       "<Figure size 432x288 with 2 Axes>"
      ]
     },
     "metadata": {
      "needs_background": "light"
     },
     "output_type": "display_data"
    },
    {
     "name": "stdout",
     "output_type": "stream",
     "text": [
      "Accuracy score : 0.9411764705882353\n",
      "Mean accuracy of 5 fold cross validation test : 0.8352941176470587\n",
      "with a maximum accuracy of 0.8823529411764706\n",
      "Mean accuracy of 10 fold cross validation test : 0.8333333333333333\n",
      "with a maximum accuracy of 1.0\n",
      "Mean accuracy of n fold cross validation test : 0.8588235294117647\n",
      "with a maximum accuracy of 1.0\n",
      "Mean accuracy of n fold cross validation test : 0.8470588235294118\n",
      "with a maximum accuracy of 0.9411764705882353\n"
     ]
    }
   ],
   "source": [
    "classifier = SVC()\n",
    "testClassifierRaw(classifier,X,y)"
   ]
  },
  {
   "cell_type": "code",
   "execution_count": null,
   "id": "6dc9c5d0",
   "metadata": {},
   "outputs": [],
   "source": []
  }
 ],
 "metadata": {
  "kernelspec": {
   "display_name": "Python 3 (ipykernel)",
   "language": "python",
   "name": "python3"
  },
  "language_info": {
   "codemirror_mode": {
    "name": "ipython",
    "version": 3
   },
   "file_extension": ".py",
   "mimetype": "text/x-python",
   "name": "python",
   "nbconvert_exporter": "python",
   "pygments_lexer": "ipython3",
   "version": "3.10.0"
  }
 },
 "nbformat": 4,
 "nbformat_minor": 5
}
