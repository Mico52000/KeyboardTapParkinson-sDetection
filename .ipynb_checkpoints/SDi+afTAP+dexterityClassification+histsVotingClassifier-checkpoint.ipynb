{
 "cells": [
  {
   "cell_type": "code",
   "execution_count": 71,
   "id": "08662266",
   "metadata": {},
   "outputs": [],
   "source": [
    "import numpy as np\n",
    "import matplotlib.pyplot as plt\n",
    "import pandas as pd\n",
    "import nqDataLoader as nq #data loading library"
   ]
  },
  {
   "cell_type": "code",
   "execution_count": 72,
   "id": "397b5b67",
   "metadata": {},
   "outputs": [],
   "source": [
    "def range_with_floats(start, stop, step):\n",
    "    while stop > start:\n",
    "        yield start\n",
    "        start += step"
   ]
  },
  {
   "cell_type": "markdown",
   "id": "27874526",
   "metadata": {},
   "source": [
    "## importing the early_stage data set "
   ]
  },
  {
   "cell_type": "code",
   "execution_count": 73,
   "id": "e52590d5",
   "metadata": {},
   "outputs": [
    {
     "data": {
      "text/html": [
       "<div>\n",
       "<style scoped>\n",
       "    .dataframe tbody tr th:only-of-type {\n",
       "        vertical-align: middle;\n",
       "    }\n",
       "\n",
       "    .dataframe tbody tr th {\n",
       "        vertical-align: top;\n",
       "    }\n",
       "\n",
       "    .dataframe thead th {\n",
       "        text-align: right;\n",
       "    }\n",
       "</style>\n",
       "<table border=\"1\" class=\"dataframe\">\n",
       "  <thead>\n",
       "    <tr style=\"text-align: right;\">\n",
       "      <th></th>\n",
       "      <th>pID</th>\n",
       "      <th>gt</th>\n",
       "      <th>updrs108</th>\n",
       "      <th>afTap</th>\n",
       "      <th>sTap</th>\n",
       "      <th>nqScore</th>\n",
       "      <th>typingSpeed</th>\n",
       "      <th>file_1</th>\n",
       "    </tr>\n",
       "  </thead>\n",
       "  <tbody>\n",
       "    <tr>\n",
       "      <th>0</th>\n",
       "      <td>1000</td>\n",
       "      <td>True</td>\n",
       "      <td>27</td>\n",
       "      <td>79.0</td>\n",
       "      <td>184.5</td>\n",
       "      <td>0.107179</td>\n",
       "      <td>56.866667</td>\n",
       "      <td>1424946827.1000_001_014.csv</td>\n",
       "    </tr>\n",
       "    <tr>\n",
       "      <th>1</th>\n",
       "      <td>1001</td>\n",
       "      <td>True</td>\n",
       "      <td>16</td>\n",
       "      <td>96.5</td>\n",
       "      <td>189.0</td>\n",
       "      <td>0.056286</td>\n",
       "      <td>118.000000</td>\n",
       "      <td>1427279751.1001_001_014.csv</td>\n",
       "    </tr>\n",
       "    <tr>\n",
       "      <th>2</th>\n",
       "      <td>1002</td>\n",
       "      <td>False</td>\n",
       "      <td>5</td>\n",
       "      <td>140.0</td>\n",
       "      <td>158.0</td>\n",
       "      <td>0.039519</td>\n",
       "      <td>119.037037</td>\n",
       "      <td>1426676689.1002_001_014.csv</td>\n",
       "    </tr>\n",
       "    <tr>\n",
       "      <th>3</th>\n",
       "      <td>1004</td>\n",
       "      <td>True</td>\n",
       "      <td>22</td>\n",
       "      <td>83.5</td>\n",
       "      <td>191.5</td>\n",
       "      <td>0.034853</td>\n",
       "      <td>74.266667</td>\n",
       "      <td>1429866367.1004_001_014.csv</td>\n",
       "    </tr>\n",
       "    <tr>\n",
       "      <th>4</th>\n",
       "      <td>1005</td>\n",
       "      <td>True</td>\n",
       "      <td>17</td>\n",
       "      <td>68.0</td>\n",
       "      <td>150.0</td>\n",
       "      <td>0.048307</td>\n",
       "      <td>74.969697</td>\n",
       "      <td>1430134526.1005_001_014.csv</td>\n",
       "    </tr>\n",
       "  </tbody>\n",
       "</table>\n",
       "</div>"
      ],
      "text/plain": [
       "    pID     gt  updrs108  afTap   sTap   nqScore  typingSpeed  \\\n",
       "0  1000   True        27   79.0  184.5  0.107179    56.866667   \n",
       "1  1001   True        16   96.5  189.0  0.056286   118.000000   \n",
       "2  1002  False         5  140.0  158.0  0.039519   119.037037   \n",
       "3  1004   True        22   83.5  191.5  0.034853    74.266667   \n",
       "4  1005   True        17   68.0  150.0  0.048307    74.969697   \n",
       "\n",
       "                        file_1  \n",
       "0  1424946827.1000_001_014.csv  \n",
       "1  1427279751.1001_001_014.csv  \n",
       "2  1426676689.1002_001_014.csv  \n",
       "3  1429866367.1004_001_014.csv  \n",
       "4  1430134526.1005_001_014.csv  "
      ]
     },
     "execution_count": 73,
     "metadata": {},
     "output_type": "execute_result"
    }
   ],
   "source": [
    "## importing the early stage dataset \n",
    "early_stage = pd.read_csv('GT_DataPD_MIT-CS2PD.csv')\n",
    "# X = dataset.iloc[:, :-1].values\n",
    "# y = dataset.iloc[:, -1].values\n",
    "early_stage.head()"
   ]
  },
  {
   "cell_type": "markdown",
   "id": "11e1260f",
   "metadata": {},
   "source": [
    "## Calculating the SDI for early stage dataset "
   ]
  },
  {
   "cell_type": "code",
   "execution_count": 74,
   "id": "576670b0",
   "metadata": {},
   "outputs": [],
   "source": [
    "SD_index = []\n",
    "for index, row in early_stage.iterrows():\n",
    "    fileloc = row.file_1\n",
    "    keyPressed, htArr, pressArr, releaseArr =  nq.getDataFiltHelper( \"data_MIT-CS2PD/\" + early_stage.loc[index]['file_1'])\n",
    "    fluctuations = []\n",
    "    for i in range(0,len(htArr)-1):\n",
    "        row1 = htArr[i]\n",
    "        row2 = htArr[i+1]\n",
    "        temp1 = np.log(row1)\n",
    "        temp2 = np.log(row2)\n",
    "        result = temp2-temp1\n",
    "        fluctuations.append(result)\n",
    "    npFluctuations = np.array(fluctuations)\n",
    "    sd_index_score = npFluctuations.std()\n",
    "    SD_index.append(sd_index_score) \n",
    "    \n",
    "    \n",
    "early_stage[\"SDi\"] = SD_index "
   ]
  },
  {
   "cell_type": "code",
   "execution_count": 75,
   "id": "9e8f8b14",
   "metadata": {},
   "outputs": [],
   "source": [
    "dexterityMetric = []\n",
    "for index, row in early_stage.iterrows():\n",
    "    fileloc1 = row.file_1\n",
    "    keyPressed, htArr, pressArr, releaseArr =  nq.getDataFiltHelper( 'data_MIT-CS2PD/' + early_stage.loc[index]['file_1'])\n",
    "    \n",
    "    dexterity = []\n",
    "    for i in range(0,len(keyPressed)-1):\n",
    "        d1 = releaseArr[i]\n",
    "        p2 = pressArr[i+1]\n",
    "        result = 0 if (d1-p2 < 0) else (d1-p2)\n",
    "        dexterity.append(result)\n",
    "    npdexterity = np.array(dexterity)\n",
    "    dexterityMetric.append(npdexterity.std())\n",
    "    \n",
    "\n",
    "early_stage[\"Dexterity\"] = dexterityMetric"
   ]
  },
  {
   "cell_type": "code",
   "execution_count": 76,
   "id": "f37b0f46",
   "metadata": {},
   "outputs": [],
   "source": [
    "InterQuartileRanges =[]\n",
    "for index,row in early_stage.iterrows():\n",
    "    keyPressed, htArr, pressArr, releaseArr =  nq.getDataFiltHelper( 'data_MIT-CS2PD/' + early_stage.loc[index]['file_1'])\n",
    "    nphtArr = np.array(htArr)\n",
    "    q3, q1 = np.percentile(htArr, [75 ,25])\n",
    "    iqr = q3 - q1\n",
    "    InterQuartileRanges.append(iqr)\n",
    "early_stage[\"InterQuartileRanges\"] = InterQuartileRanges"
   ]
  },
  {
   "cell_type": "code",
   "execution_count": 77,
   "id": "b63d79e9",
   "metadata": {},
   "outputs": [],
   "source": [
    "Hist1 =[]\n",
    "Hist2 = []\n",
    "Hist3 =[]\n",
    "Hist4 = []\n",
    "for index,row in early_stage.iterrows():\n",
    "    keyPressed, htArr, pressArr, releaseArr =  nq.getDataFiltHelper( 'data_MIT-CS2PD/' + early_stage.loc[index]['file_1'])\n",
    "    Histogram = np.histogram(htArr,bins = 4)\n",
    "    Hist1.append(Histogram[0][0])\n",
    "    Hist2.append(Histogram[0][1])\n",
    "    Hist3.append(Histogram[0][2])\n",
    "    Hist4.append(Histogram[0][3])\n",
    "    \n",
    "early_stage[\"Hist1\"] = Hist1\n",
    "early_stage[\"Hist2\"] = Hist2\n",
    "early_stage[\"Hist3\"] = Hist3\n",
    "early_stage[\"Hist4\"] = Hist4"
   ]
  },
  {
   "cell_type": "markdown",
   "id": "9305c96f",
   "metadata": {},
   "source": [
    "## preparing the dataset to only have SDi as a feature and the gt as the dependant variable"
   ]
  },
  {
   "cell_type": "code",
   "execution_count": 78,
   "id": "30aef855",
   "metadata": {},
   "outputs": [
    {
     "name": "stdout",
     "output_type": "stream",
     "text": [
      "54\n"
     ]
    },
    {
     "data": {
      "text/html": [
       "<div>\n",
       "<style scoped>\n",
       "    .dataframe tbody tr th:only-of-type {\n",
       "        vertical-align: middle;\n",
       "    }\n",
       "\n",
       "    .dataframe tbody tr th {\n",
       "        vertical-align: top;\n",
       "    }\n",
       "\n",
       "    .dataframe thead th {\n",
       "        text-align: right;\n",
       "    }\n",
       "</style>\n",
       "<table border=\"1\" class=\"dataframe\">\n",
       "  <thead>\n",
       "    <tr style=\"text-align: right;\">\n",
       "      <th></th>\n",
       "      <th>pID</th>\n",
       "      <th>gt</th>\n",
       "      <th>updrs108</th>\n",
       "      <th>afTap</th>\n",
       "      <th>sTap</th>\n",
       "      <th>nqScore</th>\n",
       "      <th>typingSpeed</th>\n",
       "      <th>file_1</th>\n",
       "      <th>SDi</th>\n",
       "      <th>Dexterity</th>\n",
       "      <th>InterQuartileRanges</th>\n",
       "      <th>Hist1</th>\n",
       "      <th>Hist2</th>\n",
       "      <th>Hist3</th>\n",
       "      <th>Hist4</th>\n",
       "    </tr>\n",
       "  </thead>\n",
       "  <tbody>\n",
       "    <tr>\n",
       "      <th>0</th>\n",
       "      <td>1000</td>\n",
       "      <td>1</td>\n",
       "      <td>27</td>\n",
       "      <td>79.0</td>\n",
       "      <td>184.5</td>\n",
       "      <td>0.107179</td>\n",
       "      <td>56.866667</td>\n",
       "      <td>1424946827.1000_001_014.csv</td>\n",
       "      <td>0.380584</td>\n",
       "      <td>0.001368</td>\n",
       "      <td>0.050800</td>\n",
       "      <td>847</td>\n",
       "      <td>7</td>\n",
       "      <td>0</td>\n",
       "      <td>1</td>\n",
       "    </tr>\n",
       "    <tr>\n",
       "      <th>1</th>\n",
       "      <td>1001</td>\n",
       "      <td>1</td>\n",
       "      <td>16</td>\n",
       "      <td>96.5</td>\n",
       "      <td>189.0</td>\n",
       "      <td>0.056286</td>\n",
       "      <td>118.000000</td>\n",
       "      <td>1427279751.1001_001_014.csv</td>\n",
       "      <td>0.378429</td>\n",
       "      <td>0.021848</td>\n",
       "      <td>0.036200</td>\n",
       "      <td>1567</td>\n",
       "      <td>25</td>\n",
       "      <td>0</td>\n",
       "      <td>1</td>\n",
       "    </tr>\n",
       "    <tr>\n",
       "      <th>2</th>\n",
       "      <td>1002</td>\n",
       "      <td>0</td>\n",
       "      <td>5</td>\n",
       "      <td>140.0</td>\n",
       "      <td>158.0</td>\n",
       "      <td>0.039519</td>\n",
       "      <td>119.037037</td>\n",
       "      <td>1426676689.1002_001_014.csv</td>\n",
       "      <td>0.349012</td>\n",
       "      <td>0.000713</td>\n",
       "      <td>0.021000</td>\n",
       "      <td>1565</td>\n",
       "      <td>41</td>\n",
       "      <td>0</td>\n",
       "      <td>1</td>\n",
       "    </tr>\n",
       "    <tr>\n",
       "      <th>3</th>\n",
       "      <td>1004</td>\n",
       "      <td>1</td>\n",
       "      <td>22</td>\n",
       "      <td>83.5</td>\n",
       "      <td>191.5</td>\n",
       "      <td>0.034853</td>\n",
       "      <td>74.266667</td>\n",
       "      <td>1429866367.1004_001_014.csv</td>\n",
       "      <td>0.354817</td>\n",
       "      <td>0.000000</td>\n",
       "      <td>0.045775</td>\n",
       "      <td>581</td>\n",
       "      <td>515</td>\n",
       "      <td>17</td>\n",
       "      <td>1</td>\n",
       "    </tr>\n",
       "    <tr>\n",
       "      <th>4</th>\n",
       "      <td>1005</td>\n",
       "      <td>1</td>\n",
       "      <td>17</td>\n",
       "      <td>68.0</td>\n",
       "      <td>150.0</td>\n",
       "      <td>0.048307</td>\n",
       "      <td>74.969697</td>\n",
       "      <td>1430134526.1005_001_014.csv</td>\n",
       "      <td>0.236304</td>\n",
       "      <td>0.001078</td>\n",
       "      <td>0.020200</td>\n",
       "      <td>55</td>\n",
       "      <td>955</td>\n",
       "      <td>212</td>\n",
       "      <td>15</td>\n",
       "    </tr>\n",
       "  </tbody>\n",
       "</table>\n",
       "</div>"
      ],
      "text/plain": [
       "    pID  gt  updrs108  afTap   sTap   nqScore  typingSpeed  \\\n",
       "0  1000   1        27   79.0  184.5  0.107179    56.866667   \n",
       "1  1001   1        16   96.5  189.0  0.056286   118.000000   \n",
       "2  1002   0         5  140.0  158.0  0.039519   119.037037   \n",
       "3  1004   1        22   83.5  191.5  0.034853    74.266667   \n",
       "4  1005   1        17   68.0  150.0  0.048307    74.969697   \n",
       "\n",
       "                        file_1       SDi  Dexterity  InterQuartileRanges  \\\n",
       "0  1424946827.1000_001_014.csv  0.380584   0.001368             0.050800   \n",
       "1  1427279751.1001_001_014.csv  0.378429   0.021848             0.036200   \n",
       "2  1426676689.1002_001_014.csv  0.349012   0.000713             0.021000   \n",
       "3  1429866367.1004_001_014.csv  0.354817   0.000000             0.045775   \n",
       "4  1430134526.1005_001_014.csv  0.236304   0.001078             0.020200   \n",
       "\n",
       "   Hist1  Hist2  Hist3  Hist4  \n",
       "0    847      7      0      1  \n",
       "1   1567     25      0      1  \n",
       "2   1565     41      0      1  \n",
       "3    581    515     17      1  \n",
       "4     55    955    212     15  "
      ]
     },
     "execution_count": 78,
     "metadata": {},
     "output_type": "execute_result"
    }
   ],
   "source": [
    "early_stage[\"gt\"] = early_stage[\"gt\"].astype(int)\n",
    "\n",
    "early_stage_features = early_stage[['SDi','afTap','Dexterity','InterQuartileRanges','gt']]\n",
    "early_stage_features = early_stage[['SDi','afTap','Dexterity','InterQuartileRanges','Hist1','Hist2','Hist3','Hist4','gt']]\n",
    "early_stage_features = early_stage[['SDi','Dexterity','InterQuartileRanges','Hist1','Hist2','Hist3','Hist4','gt']]\n",
    "print(len(early_stage))\n",
    "early_stage.head()\n"
   ]
  },
  {
   "cell_type": "markdown",
   "id": "53e8bce3",
   "metadata": {},
   "source": [
    "## importing the de_novo dataset"
   ]
  },
  {
   "cell_type": "code",
   "execution_count": 79,
   "id": "4e955ab9",
   "metadata": {},
   "outputs": [
    {
     "name": "stdout",
     "output_type": "stream",
     "text": [
      "31\n"
     ]
    },
    {
     "data": {
      "text/html": [
       "<div>\n",
       "<style scoped>\n",
       "    .dataframe tbody tr th:only-of-type {\n",
       "        vertical-align: middle;\n",
       "    }\n",
       "\n",
       "    .dataframe tbody tr th {\n",
       "        vertical-align: top;\n",
       "    }\n",
       "\n",
       "    .dataframe thead th {\n",
       "        text-align: right;\n",
       "    }\n",
       "</style>\n",
       "<table border=\"1\" class=\"dataframe\">\n",
       "  <thead>\n",
       "    <tr style=\"text-align: right;\">\n",
       "      <th></th>\n",
       "      <th>pID</th>\n",
       "      <th>gt</th>\n",
       "      <th>updrs108</th>\n",
       "      <th>afTap</th>\n",
       "      <th>sTap</th>\n",
       "      <th>nqScore</th>\n",
       "      <th>typingSpeed</th>\n",
       "      <th>file_1</th>\n",
       "      <th>file_2</th>\n",
       "    </tr>\n",
       "  </thead>\n",
       "  <tbody>\n",
       "    <tr>\n",
       "      <th>0</th>\n",
       "      <td>11</td>\n",
       "      <td>True</td>\n",
       "      <td>14.25</td>\n",
       "      <td>NaN</td>\n",
       "      <td>162.25</td>\n",
       "      <td>0.117543</td>\n",
       "      <td>189.372549</td>\n",
       "      <td>1402930351.011_001_014.csv</td>\n",
       "      <td>1403706430.011_003_014.csv</td>\n",
       "    </tr>\n",
       "    <tr>\n",
       "      <th>1</th>\n",
       "      <td>60</td>\n",
       "      <td>False</td>\n",
       "      <td>2.00</td>\n",
       "      <td>NaN</td>\n",
       "      <td>162.25</td>\n",
       "      <td>0.070350</td>\n",
       "      <td>60.533333</td>\n",
       "      <td>1402932300.060_001_014.csv</td>\n",
       "      <td>1403708258.060_003_014.csv</td>\n",
       "    </tr>\n",
       "    <tr>\n",
       "      <th>2</th>\n",
       "      <td>67</td>\n",
       "      <td>True</td>\n",
       "      <td>25.25</td>\n",
       "      <td>NaN</td>\n",
       "      <td>133.75</td>\n",
       "      <td>0.223411</td>\n",
       "      <td>54.333333</td>\n",
       "      <td>1401117235.067_001_014.csv</td>\n",
       "      <td>1401978395.067_003_014.csv</td>\n",
       "    </tr>\n",
       "    <tr>\n",
       "      <th>3</th>\n",
       "      <td>68</td>\n",
       "      <td>False</td>\n",
       "      <td>6.00</td>\n",
       "      <td>NaN</td>\n",
       "      <td>159.00</td>\n",
       "      <td>0.074973</td>\n",
       "      <td>71.800000</td>\n",
       "      <td>1401114972.068_001_014.csv</td>\n",
       "      <td>1401980765.068_003_014.csv</td>\n",
       "    </tr>\n",
       "    <tr>\n",
       "      <th>4</th>\n",
       "      <td>70</td>\n",
       "      <td>True</td>\n",
       "      <td>26.25</td>\n",
       "      <td>NaN</td>\n",
       "      <td>113.50</td>\n",
       "      <td>0.175751</td>\n",
       "      <td>39.614035</td>\n",
       "      <td>1404311419.070_001_014.csv</td>\n",
       "      <td>1404743687.070_003_014.csv</td>\n",
       "    </tr>\n",
       "  </tbody>\n",
       "</table>\n",
       "</div>"
      ],
      "text/plain": [
       "   pID     gt  updrs108  afTap    sTap   nqScore  typingSpeed  \\\n",
       "0   11   True     14.25    NaN  162.25  0.117543   189.372549   \n",
       "1   60  False      2.00    NaN  162.25  0.070350    60.533333   \n",
       "2   67   True     25.25    NaN  133.75  0.223411    54.333333   \n",
       "3   68  False      6.00    NaN  159.00  0.074973    71.800000   \n",
       "4   70   True     26.25    NaN  113.50  0.175751    39.614035   \n",
       "\n",
       "                       file_1                      file_2  \n",
       "0  1402930351.011_001_014.csv  1403706430.011_003_014.csv  \n",
       "1  1402932300.060_001_014.csv  1403708258.060_003_014.csv  \n",
       "2  1401117235.067_001_014.csv  1401978395.067_003_014.csv  \n",
       "3  1401114972.068_001_014.csv  1401980765.068_003_014.csv  \n",
       "4  1404311419.070_001_014.csv  1404743687.070_003_014.csv  "
      ]
     },
     "execution_count": 79,
     "metadata": {},
     "output_type": "execute_result"
    }
   ],
   "source": [
    "## importing the de-novo dataset \n",
    "de_novo = pd.read_csv('GT_DataPD_MIT-CS1PD.csv')\n",
    "# X = dataset.iloc[:, :-1].values\n",
    "# y = dataset.iloc[:, -1].values\n",
    "print(len(de_novo))\n",
    "de_novo.head()"
   ]
  },
  {
   "cell_type": "markdown",
   "id": "7c106a12",
   "metadata": {},
   "source": [
    "## calculating the SDi for the de_novo dataset "
   ]
  },
  {
   "cell_type": "code",
   "execution_count": 80,
   "id": "67eccf8c",
   "metadata": {},
   "outputs": [
    {
     "data": {
      "text/html": [
       "<div>\n",
       "<style scoped>\n",
       "    .dataframe tbody tr th:only-of-type {\n",
       "        vertical-align: middle;\n",
       "    }\n",
       "\n",
       "    .dataframe tbody tr th {\n",
       "        vertical-align: top;\n",
       "    }\n",
       "\n",
       "    .dataframe thead th {\n",
       "        text-align: right;\n",
       "    }\n",
       "</style>\n",
       "<table border=\"1\" class=\"dataframe\">\n",
       "  <thead>\n",
       "    <tr style=\"text-align: right;\">\n",
       "      <th></th>\n",
       "      <th>pID</th>\n",
       "      <th>gt</th>\n",
       "      <th>updrs108</th>\n",
       "      <th>afTap</th>\n",
       "      <th>sTap</th>\n",
       "      <th>nqScore</th>\n",
       "      <th>typingSpeed</th>\n",
       "      <th>file_1</th>\n",
       "      <th>file_2</th>\n",
       "      <th>SDi</th>\n",
       "    </tr>\n",
       "  </thead>\n",
       "  <tbody>\n",
       "    <tr>\n",
       "      <th>0</th>\n",
       "      <td>11</td>\n",
       "      <td>True</td>\n",
       "      <td>14.25</td>\n",
       "      <td>NaN</td>\n",
       "      <td>162.25</td>\n",
       "      <td>0.117543</td>\n",
       "      <td>189.372549</td>\n",
       "      <td>1402930351.011_001_014.csv</td>\n",
       "      <td>1403706430.011_003_014.csv</td>\n",
       "      <td>0.564521</td>\n",
       "    </tr>\n",
       "    <tr>\n",
       "      <th>1</th>\n",
       "      <td>60</td>\n",
       "      <td>False</td>\n",
       "      <td>2.00</td>\n",
       "      <td>NaN</td>\n",
       "      <td>162.25</td>\n",
       "      <td>0.070350</td>\n",
       "      <td>60.533333</td>\n",
       "      <td>1402932300.060_001_014.csv</td>\n",
       "      <td>1403708258.060_003_014.csv</td>\n",
       "      <td>0.421491</td>\n",
       "    </tr>\n",
       "    <tr>\n",
       "      <th>2</th>\n",
       "      <td>67</td>\n",
       "      <td>True</td>\n",
       "      <td>25.25</td>\n",
       "      <td>NaN</td>\n",
       "      <td>133.75</td>\n",
       "      <td>0.223411</td>\n",
       "      <td>54.333333</td>\n",
       "      <td>1401117235.067_001_014.csv</td>\n",
       "      <td>1401978395.067_003_014.csv</td>\n",
       "      <td>0.448163</td>\n",
       "    </tr>\n",
       "    <tr>\n",
       "      <th>3</th>\n",
       "      <td>68</td>\n",
       "      <td>False</td>\n",
       "      <td>6.00</td>\n",
       "      <td>NaN</td>\n",
       "      <td>159.00</td>\n",
       "      <td>0.074973</td>\n",
       "      <td>71.800000</td>\n",
       "      <td>1401114972.068_001_014.csv</td>\n",
       "      <td>1401980765.068_003_014.csv</td>\n",
       "      <td>0.229087</td>\n",
       "    </tr>\n",
       "    <tr>\n",
       "      <th>4</th>\n",
       "      <td>70</td>\n",
       "      <td>True</td>\n",
       "      <td>26.25</td>\n",
       "      <td>NaN</td>\n",
       "      <td>113.50</td>\n",
       "      <td>0.175751</td>\n",
       "      <td>39.614035</td>\n",
       "      <td>1404311419.070_001_014.csv</td>\n",
       "      <td>1404743687.070_003_014.csv</td>\n",
       "      <td>0.319824</td>\n",
       "    </tr>\n",
       "  </tbody>\n",
       "</table>\n",
       "</div>"
      ],
      "text/plain": [
       "   pID     gt  updrs108  afTap    sTap   nqScore  typingSpeed  \\\n",
       "0   11   True     14.25    NaN  162.25  0.117543   189.372549   \n",
       "1   60  False      2.00    NaN  162.25  0.070350    60.533333   \n",
       "2   67   True     25.25    NaN  133.75  0.223411    54.333333   \n",
       "3   68  False      6.00    NaN  159.00  0.074973    71.800000   \n",
       "4   70   True     26.25    NaN  113.50  0.175751    39.614035   \n",
       "\n",
       "                       file_1                      file_2       SDi  \n",
       "0  1402930351.011_001_014.csv  1403706430.011_003_014.csv  0.564521  \n",
       "1  1402932300.060_001_014.csv  1403708258.060_003_014.csv  0.421491  \n",
       "2  1401117235.067_001_014.csv  1401978395.067_003_014.csv  0.448163  \n",
       "3  1401114972.068_001_014.csv  1401980765.068_003_014.csv  0.229087  \n",
       "4  1404311419.070_001_014.csv  1404743687.070_003_014.csv  0.319824  "
      ]
     },
     "execution_count": 80,
     "metadata": {},
     "output_type": "execute_result"
    }
   ],
   "source": [
    "##using both files \n",
    "SD_index = []\n",
    "for index, row in de_novo.iterrows():\n",
    "    fileloc1 = row.file_1\n",
    "    keyPressed, htArr, pressArr, releaseArr =  nq.getDataFiltHelper( 'data_MIT-CS1PD/' + de_novo.loc[index]['file_1'])\n",
    "    \n",
    "    fluctuations = []\n",
    "    for i in range(0,len(htArr)-1):\n",
    "        row1 = htArr[i]\n",
    "        row2 = htArr[i+1]\n",
    "        temp1 = np.log(row1)\n",
    "        temp2 = np.log(row2)\n",
    "        result = temp2-temp1\n",
    "        fluctuations.append(result)\n",
    "    \n",
    "    fileloc2 = row.file_2\n",
    "    keyPressed, htArr, pressArr, releaseArr =  nq.getDataFiltHelper( 'data_MIT-CS1PD/' + de_novo.loc[index]['file_2'])\n",
    "    for i in range(0,len(htArr)-1):\n",
    "        row1 = htArr[i]\n",
    "        row2 = htArr[i+1]\n",
    "        temp1 = np.log(row1)\n",
    "        temp2 = np.log(row2)\n",
    "        result = temp2-temp1\n",
    "        fluctuations.append(result)\n",
    "        \n",
    "    npFluctuations = np.array(fluctuations)\n",
    "    sd_index_score = npFluctuations.std()\n",
    "    SD_index.append(sd_index_score) \n",
    "    \n",
    "    \n",
    "de_novo[\"SDi\"] = SD_index \n",
    "de_novo.head()"
   ]
  },
  {
   "cell_type": "code",
   "execution_count": 81,
   "id": "46df9a37",
   "metadata": {},
   "outputs": [],
   "source": [
    "dexterityMetric = []\n",
    "for index, row in de_novo.iterrows():\n",
    "    fileloc1 = row.file_1\n",
    "    keyPressed, htArr, pressArr, releaseArr =  nq.getDataFiltHelper( 'data_MIT-CS1PD/' + de_novo.loc[index]['file_1'])\n",
    "    \n",
    "    dexterity = []\n",
    "    for i in range(0,len(keyPressed)-1):\n",
    "        d1 = releaseArr[i]\n",
    "        p2 = pressArr[i+1]\n",
    "        result = 0 if (d1-p2 < 0) else (d1-p2)\n",
    "        dexterity.append(result)\n",
    "    keyPressed, htArr, pressArr, releaseArr =  nq.getDataFiltHelper( 'data_MIT-CS1PD/' + de_novo.loc[index]['file_2'])\n",
    "    htArrFirst = htArr[0]\n",
    "    fluctuations.append(result)\n",
    "    for i in range(1,len(keyPressed)-1):\n",
    "        d1 = releaseArr[i]\n",
    "        p2 = pressArr[i+1]\n",
    "        result = 0 if (d1-p2 < 0) else (d1-p2)\n",
    "        dexterity.append(result)\n",
    "    npdexterity = np.array(dexterity)\n",
    "    dexterityMetric.append(npdexterity.std())\n",
    "    \n",
    "\n",
    "de_novo[\"Dexterity\"] = dexterityMetric"
   ]
  },
  {
   "cell_type": "code",
   "execution_count": 82,
   "id": "6468366c",
   "metadata": {},
   "outputs": [],
   "source": [
    "InterQuartileRanges =[]\n",
    "for index,row in de_novo.iterrows():\n",
    "    keyPressed, htArr, pressArr, releaseArr =  nq.getDataFiltHelper( 'data_MIT-CS1PD/' + de_novo.loc[index]['file_1'])\n",
    "    \n",
    "    \n",
    "    \n",
    "    keyPressed, htArr2, pressArr, releaseArr =  nq.getDataFiltHelper( 'data_MIT-CS1PD/' + de_novo.loc[index]['file_2'])\n",
    "    npdata = np.append(htArr,htArr2,axis = 0 )\n",
    "        \n",
    "    q3, q1 = np.percentile(npdata, [75 ,25])\n",
    "    iqr = q3 - q1\n",
    "    InterQuartileRanges.append(iqr)\n",
    "de_novo[\"InterQuartileRanges\"] = InterQuartileRanges"
   ]
  },
  {
   "cell_type": "code",
   "execution_count": 83,
   "id": "55b1489d",
   "metadata": {},
   "outputs": [],
   "source": [
    "Variances =[]\n",
    "for index,row in de_novo.iterrows():\n",
    "    keyPressed, htArr, pressArr, releaseArr =  nq.getDataFiltHelper( 'data_MIT-CS1PD/' + de_novo.loc[index]['file_1'])\n",
    "    \n",
    "    \n",
    "    \n",
    "    keyPressed, htArr2, pressArr, releaseArr =  nq.getDataFiltHelper( 'data_MIT-CS1PD/' + de_novo.loc[index]['file_2'])\n",
    "    npdata = np.append(htArr,htArr2,axis = 0 )\n",
    "    Variances.append(np.var(npdata))\n",
    "de_novo[\"Variance\"] = Variances"
   ]
  },
  {
   "cell_type": "code",
   "execution_count": 84,
   "id": "5e8d261a",
   "metadata": {},
   "outputs": [],
   "source": [
    "Hist1 =[]\n",
    "Hist2 = []\n",
    "Hist3 =[]\n",
    "Hist4 = []\n",
    "for index,row in de_novo.iterrows():\n",
    "    keyPressed, htArr, pressArr, releaseArr =  nq.getDataFiltHelper( 'data_MIT-CS1PD/' + de_novo.loc[index]['file_1'])\n",
    "    \n",
    "    \n",
    "    \n",
    "    keyPressed, htArr2, pressArr, releaseArr =  nq.getDataFiltHelper( 'data_MIT-CS1PD/' + de_novo.loc[index]['file_2'])\n",
    "    npdata = np.append(htArr,htArr2,axis = 0 )\n",
    "    Histogram = np.histogram(npdata,bins =4)\n",
    "    Hist1.append(Histogram[0][0])\n",
    "    Hist2.append(Histogram[0][1])\n",
    "    Hist3.append(Histogram[0][2])\n",
    "    Hist4.append(Histogram[0][3])\n",
    "    \n",
    "de_novo[\"Hist1\"] = Hist1\n",
    "de_novo[\"Hist2\"] = Hist2\n",
    "de_novo[\"Hist3\"] = Hist3\n",
    "de_novo[\"Hist4\"] = Hist4"
   ]
  },
  {
   "cell_type": "markdown",
   "id": "979ae0e3",
   "metadata": {},
   "source": [
    "## trimming the de_novo dataset to contain only the SDi as a feature and the gt as the target variable "
   ]
  },
  {
   "cell_type": "code",
   "execution_count": 85,
   "id": "5a736f40",
   "metadata": {},
   "outputs": [
    {
     "data": {
      "text/html": [
       "<div>\n",
       "<style scoped>\n",
       "    .dataframe tbody tr th:only-of-type {\n",
       "        vertical-align: middle;\n",
       "    }\n",
       "\n",
       "    .dataframe tbody tr th {\n",
       "        vertical-align: top;\n",
       "    }\n",
       "\n",
       "    .dataframe thead th {\n",
       "        text-align: right;\n",
       "    }\n",
       "</style>\n",
       "<table border=\"1\" class=\"dataframe\">\n",
       "  <thead>\n",
       "    <tr style=\"text-align: right;\">\n",
       "      <th></th>\n",
       "      <th>pID</th>\n",
       "      <th>gt</th>\n",
       "      <th>updrs108</th>\n",
       "      <th>afTap</th>\n",
       "      <th>sTap</th>\n",
       "      <th>nqScore</th>\n",
       "      <th>typingSpeed</th>\n",
       "      <th>file_1</th>\n",
       "      <th>file_2</th>\n",
       "      <th>SDi</th>\n",
       "      <th>Dexterity</th>\n",
       "      <th>InterQuartileRanges</th>\n",
       "      <th>Variance</th>\n",
       "      <th>Hist1</th>\n",
       "      <th>Hist2</th>\n",
       "      <th>Hist3</th>\n",
       "      <th>Hist4</th>\n",
       "    </tr>\n",
       "  </thead>\n",
       "  <tbody>\n",
       "    <tr>\n",
       "      <th>0</th>\n",
       "      <td>11</td>\n",
       "      <td>1</td>\n",
       "      <td>14.25</td>\n",
       "      <td>NaN</td>\n",
       "      <td>162.25</td>\n",
       "      <td>0.117543</td>\n",
       "      <td>189.372549</td>\n",
       "      <td>1402930351.011_001_014.csv</td>\n",
       "      <td>1403706430.011_003_014.csv</td>\n",
       "      <td>0.564521</td>\n",
       "      <td>0.012277</td>\n",
       "      <td>0.052500</td>\n",
       "      <td>0.002587</td>\n",
       "      <td>4816</td>\n",
       "      <td>9</td>\n",
       "      <td>3</td>\n",
       "      <td>1</td>\n",
       "    </tr>\n",
       "    <tr>\n",
       "      <th>1</th>\n",
       "      <td>60</td>\n",
       "      <td>0</td>\n",
       "      <td>2.00</td>\n",
       "      <td>NaN</td>\n",
       "      <td>162.25</td>\n",
       "      <td>0.070350</td>\n",
       "      <td>60.533333</td>\n",
       "      <td>1402932300.060_001_014.csv</td>\n",
       "      <td>1403708258.060_003_014.csv</td>\n",
       "      <td>0.421491</td>\n",
       "      <td>0.001475</td>\n",
       "      <td>0.049800</td>\n",
       "      <td>0.001659</td>\n",
       "      <td>1791</td>\n",
       "      <td>27</td>\n",
       "      <td>2</td>\n",
       "      <td>1</td>\n",
       "    </tr>\n",
       "    <tr>\n",
       "      <th>2</th>\n",
       "      <td>67</td>\n",
       "      <td>1</td>\n",
       "      <td>25.25</td>\n",
       "      <td>NaN</td>\n",
       "      <td>133.75</td>\n",
       "      <td>0.223411</td>\n",
       "      <td>54.333333</td>\n",
       "      <td>1401117235.067_001_014.csv</td>\n",
       "      <td>1401978395.067_003_014.csv</td>\n",
       "      <td>0.448163</td>\n",
       "      <td>0.002181</td>\n",
       "      <td>0.108200</td>\n",
       "      <td>0.005904</td>\n",
       "      <td>339</td>\n",
       "      <td>893</td>\n",
       "      <td>354</td>\n",
       "      <td>45</td>\n",
       "    </tr>\n",
       "    <tr>\n",
       "      <th>3</th>\n",
       "      <td>68</td>\n",
       "      <td>0</td>\n",
       "      <td>6.00</td>\n",
       "      <td>NaN</td>\n",
       "      <td>159.00</td>\n",
       "      <td>0.074973</td>\n",
       "      <td>71.800000</td>\n",
       "      <td>1401114972.068_001_014.csv</td>\n",
       "      <td>1401980765.068_003_014.csv</td>\n",
       "      <td>0.229087</td>\n",
       "      <td>0.000000</td>\n",
       "      <td>0.032000</td>\n",
       "      <td>0.000640</td>\n",
       "      <td>898</td>\n",
       "      <td>1178</td>\n",
       "      <td>74</td>\n",
       "      <td>6</td>\n",
       "    </tr>\n",
       "    <tr>\n",
       "      <th>4</th>\n",
       "      <td>70</td>\n",
       "      <td>1</td>\n",
       "      <td>26.25</td>\n",
       "      <td>NaN</td>\n",
       "      <td>113.50</td>\n",
       "      <td>0.175751</td>\n",
       "      <td>39.614035</td>\n",
       "      <td>1404311419.070_001_014.csv</td>\n",
       "      <td>1404743687.070_003_014.csv</td>\n",
       "      <td>0.319824</td>\n",
       "      <td>0.000000</td>\n",
       "      <td>0.053925</td>\n",
       "      <td>0.001793</td>\n",
       "      <td>116</td>\n",
       "      <td>739</td>\n",
       "      <td>267</td>\n",
       "      <td>28</td>\n",
       "    </tr>\n",
       "  </tbody>\n",
       "</table>\n",
       "</div>"
      ],
      "text/plain": [
       "   pID  gt  updrs108  afTap    sTap   nqScore  typingSpeed  \\\n",
       "0   11   1     14.25    NaN  162.25  0.117543   189.372549   \n",
       "1   60   0      2.00    NaN  162.25  0.070350    60.533333   \n",
       "2   67   1     25.25    NaN  133.75  0.223411    54.333333   \n",
       "3   68   0      6.00    NaN  159.00  0.074973    71.800000   \n",
       "4   70   1     26.25    NaN  113.50  0.175751    39.614035   \n",
       "\n",
       "                       file_1                      file_2       SDi  \\\n",
       "0  1402930351.011_001_014.csv  1403706430.011_003_014.csv  0.564521   \n",
       "1  1402932300.060_001_014.csv  1403708258.060_003_014.csv  0.421491   \n",
       "2  1401117235.067_001_014.csv  1401978395.067_003_014.csv  0.448163   \n",
       "3  1401114972.068_001_014.csv  1401980765.068_003_014.csv  0.229087   \n",
       "4  1404311419.070_001_014.csv  1404743687.070_003_014.csv  0.319824   \n",
       "\n",
       "   Dexterity  InterQuartileRanges  Variance  Hist1  Hist2  Hist3  Hist4  \n",
       "0   0.012277             0.052500  0.002587   4816      9      3      1  \n",
       "1   0.001475             0.049800  0.001659   1791     27      2      1  \n",
       "2   0.002181             0.108200  0.005904    339    893    354     45  \n",
       "3   0.000000             0.032000  0.000640    898   1178     74      6  \n",
       "4   0.000000             0.053925  0.001793    116    739    267     28  "
      ]
     },
     "execution_count": 85,
     "metadata": {},
     "output_type": "execute_result"
    }
   ],
   "source": [
    "de_novo[\"gt\"] = de_novo[\"gt\"].astype(int)\n",
    "\n",
    "de_novo_features = de_novo[['SDi','afTap','Dexterity','InterQuartileRanges','Variance','gt']]\n",
    "de_novo_features =de_novo[['SDi','afTap','Dexterity','InterQuartileRanges','gt']]\n",
    "de_novo_features =de_novo[['SDi','afTap','Dexterity','InterQuartileRanges','Hist1','Hist2','Hist3','Hist4','gt']]\n",
    "de_novo_features =de_novo[['SDi','Dexterity','InterQuartileRanges','Hist1','Hist2','Hist3','Hist4','gt']]\n",
    "de_novo.head()"
   ]
  },
  {
   "cell_type": "markdown",
   "id": "0aede7ab",
   "metadata": {},
   "source": [
    "## splitting the de_novo patients to double the dataset size by considering file_2 of a patient a different "
   ]
  },
  {
   "cell_type": "code",
   "execution_count": null,
   "id": "b0781d52",
   "metadata": {},
   "outputs": [],
   "source": []
  },
  {
   "cell_type": "markdown",
   "id": "c4e9b7a0",
   "metadata": {},
   "source": [
    "## appending the datasets together"
   ]
  },
  {
   "cell_type": "code",
   "execution_count": 86,
   "id": "98250a9f",
   "metadata": {
    "scrolled": true
   },
   "outputs": [
    {
     "name": "stdout",
     "output_type": "stream",
     "text": [
      "54\n",
      "31\n",
      "54\n"
     ]
    }
   ],
   "source": [
    "print(len(early_stage))\n",
    "print(len(de_novo))\n",
    "Xy = early_stage_features.append(de_novo_features, ignore_index=True)\n",
    "print(len(early_stage))\n"
   ]
  },
  {
   "cell_type": "code",
   "execution_count": 87,
   "id": "bc8f8666",
   "metadata": {},
   "outputs": [
    {
     "name": "stdout",
     "output_type": "stream",
     "text": [
      "                          SDi  Dexterity  InterQuartileRanges     Hist1  \\\n",
      "SDi                  1.000000   0.295935             0.762871  0.272853   \n",
      "Dexterity            0.295935   1.000000             0.290355  0.449161   \n",
      "InterQuartileRanges  0.762871   0.290355             1.000000  0.086268   \n",
      "Hist1                0.272853   0.449161             0.086268  1.000000   \n",
      "Hist2               -0.162418   0.136585            -0.124963 -0.152336   \n",
      "Hist3                0.110829  -0.119831             0.016193 -0.334427   \n",
      "Hist4                0.131300  -0.134196             0.029702 -0.253501   \n",
      "gt                   0.443386   0.275469             0.477395  0.123342   \n",
      "\n",
      "                        Hist2     Hist3     Hist4        gt  \n",
      "SDi                 -0.162418  0.110829  0.131300  0.443386  \n",
      "Dexterity            0.136585 -0.119831 -0.134196  0.275469  \n",
      "InterQuartileRanges -0.124963  0.016193  0.029702  0.477395  \n",
      "Hist1               -0.152336 -0.334427 -0.253501  0.123342  \n",
      "Hist2                1.000000  0.433411  0.269728 -0.229060  \n",
      "Hist3                0.433411  1.000000  0.876268 -0.071626  \n",
      "Hist4                0.269728  0.876268  1.000000  0.055517  \n",
      "gt                  -0.229060 -0.071626  0.055517  1.000000  \n"
     ]
    }
   ],
   "source": [
    "print(Xy.corr())"
   ]
  },
  {
   "cell_type": "code",
   "execution_count": 88,
   "id": "d0e7ca73",
   "metadata": {},
   "outputs": [
    {
     "name": "stdout",
     "output_type": "stream",
     "text": [
      "Anova F: the variables are Non-Correlated (p-value: 0.983)\n"
     ]
    }
   ],
   "source": [
    "import statsmodels.formula.api as smf\n",
    "import statsmodels.api as sm\n",
    "cat, num = \"gt\", \"Hist1\"\n",
    "model = smf.ols(num+' ~ '+cat, data=early_stage).fit()\n",
    "table = sm.stats.anova_lm(model)\n",
    "p = table[\"PR(>F)\"][0]\n",
    "coeff, p = None, round(p, 3)\n",
    "conclusion = \"Correlated\" if p < 0.05 else \"Non-Correlated\"\n",
    "print(\"Anova F: the variables are\", conclusion, \"(p-value: \"+str(p)+\")\")"
   ]
  },
  {
   "cell_type": "code",
   "execution_count": 89,
   "id": "5f0ef05f",
   "metadata": {},
   "outputs": [
    {
     "name": "stdout",
     "output_type": "stream",
     "text": [
      "Anova F: the variables are Correlated (p-value: 0.0)\n"
     ]
    }
   ],
   "source": [
    "import statsmodels.formula.api as smf\n",
    "import statsmodels.api as sm\n",
    "cat, num = \"gt\", \"afTap\"\n",
    "model = smf.ols(num+' ~ '+cat, data=early_stage).fit()\n",
    "table = sm.stats.anova_lm(model)\n",
    "p = table[\"PR(>F)\"][0]\n",
    "coeff, p = None, round(p, 3)\n",
    "conclusion = \"Correlated\" if p < 0.05 else \"Non-Correlated\"\n",
    "print(\"Anova F: the variables are\", conclusion, \"(p-value: \"+str(p)+\")\")"
   ]
  },
  {
   "cell_type": "code",
   "execution_count": null,
   "id": "c953f7d8",
   "metadata": {},
   "outputs": [],
   "source": []
  },
  {
   "cell_type": "markdown",
   "id": "db533f19",
   "metadata": {},
   "source": [
    "## splitting the data into features and dependant variable and further splitting into train and testing data"
   ]
  },
  {
   "cell_type": "code",
   "execution_count": 90,
   "id": "ccb2f6fe",
   "metadata": {},
   "outputs": [],
   "source": [
    "\n",
    "X = Xy.iloc[:, :-1].values\n",
    "y = Xy.iloc[:, -1].values"
   ]
  },
  {
   "cell_type": "code",
   "execution_count": 91,
   "id": "015fc332",
   "metadata": {},
   "outputs": [],
   "source": [
    "from sklearn.metrics import ConfusionMatrixDisplay,accuracy_score\n",
    "from sklearn.model_selection import cross_val_score\n",
    "from sklearn.model_selection import KFold\n",
    "from sklearn.pipeline import Pipeline\n",
    "def testClassifierRaw(classifier,X,y):\n",
    "    pipe = Pipeline([('scaler', StandardScaler()), ('classifer', classifier)])\n",
    "    X_train,X_test,y_train,y_test = train_test_split(X,y,test_size=0.2,stratify=y,random_state=0)\n",
    "    pipe.fit(X_train,y_train)\n",
    "    y_pred =  pipe.predict(X_test)\n",
    "    titles_options = [\n",
    "    (\"Confusion matrix, without normalization\", None),\n",
    "    (\"Normalized confusion matrix\", \"true\"),]\n",
    "    for title, normalize in titles_options:\n",
    "        disp = ConfusionMatrixDisplay.from_estimator(\n",
    "            pipe,\n",
    "            X_test,\n",
    "            y_test,\n",
    "            display_labels=None ,\n",
    "            cmap=plt.cm.Blues,\n",
    "            normalize=normalize,\n",
    "        )\n",
    "        disp.ax_.set_title(title)\n",
    "\n",
    "        print(title)\n",
    "        print(disp.confusion_matrix)\n",
    "\n",
    "    plt.show()\n",
    "    print(\"Accuracy score : \" + str(accuracy_score(y_test, y_pred,  normalize=True, sample_weight=None)))\n",
    "    X = np.concatenate((X_train, X_test), axis=0) \n",
    "    y = np.concatenate((y_train, y_test), axis=0)\n",
    "    scores = cross_val_score(pipe,X,y,cv=5)\n",
    "    print(\"Mean accuracy of 5 fold cross validation test : \"+ str(scores.mean()))\n",
    "    print(\"with a maximum accuracy of \" + str(scores.max()))\n",
    "    scores = cross_val_score(pipe,X,y,cv=10)\n",
    "    print(\"Mean accuracy of 10 fold cross validation test : \"+ str(scores.mean()))\n",
    "    print(\"with a maximum accuracy of \" + str(scores.max()))\n",
    "    scores = cross_val_score(pipe,X,y,cv=KFold(85))\n",
    "    print(\"Mean accuracy of n fold cross validation test : \"+ str(scores.mean()))\n",
    "    print(\"with a maximum accuracy of \" + str(scores.max()))\n",
    "    scores = cross_val_score(pipe,X,y,cv=KFold())\n",
    "    print(\"Mean accuracy of n fold cross validation test : \"+ str(scores.mean()))\n",
    "    print(\"with a maximum accuracy of \" + str(scores.max()))"
   ]
  },
  {
   "cell_type": "code",
   "execution_count": null,
   "id": "56faaa15",
   "metadata": {},
   "outputs": [],
   "source": []
  },
  {
   "cell_type": "code",
   "execution_count": 92,
   "id": "78ca4a01",
   "metadata": {},
   "outputs": [
    {
     "name": "stdout",
     "output_type": "stream",
     "text": [
      "[[3.80584214e-01 1.36823497e-03 5.08000000e-02 8.47000000e+02\n",
      "  7.00000000e+00 0.00000000e+00 1.00000000e+00]\n",
      " [3.78428780e-01 2.18476127e-02 3.62000000e-02 1.56700000e+03\n",
      "  2.50000000e+01 0.00000000e+00 1.00000000e+00]\n",
      " [3.49012031e-01 7.12569236e-04 2.10000000e-02 1.56500000e+03\n",
      "  4.10000000e+01 0.00000000e+00 1.00000000e+00]\n",
      " [3.54816649e-01 0.00000000e+00 4.57750000e-02 5.81000000e+02\n",
      "  5.15000000e+02 1.70000000e+01 1.00000000e+00]\n",
      " [2.36303990e-01 1.07759165e-03 2.02000000e-02 5.50000000e+01\n",
      "  9.55000000e+02 2.12000000e+02 1.50000000e+01]\n",
      " [4.30975746e-01 6.77585959e-03 3.48000000e-02 8.37000000e+02\n",
      "  4.59000000e+02 6.60000000e+01 1.20000000e+01]\n",
      " [5.85703902e-01 1.25543177e-02 7.22000000e-02 1.26000000e+03\n",
      "  6.03000000e+02 2.98000000e+02 3.10000000e+01]\n",
      " [3.66078523e-01 6.43568120e-03 5.18500000e-02 4.11000000e+02\n",
      "  6.46000000e+02 2.80000000e+01 2.00000000e+00]\n",
      " [2.96537682e-01 9.80421165e-03 2.39000000e-02 6.58000000e+02\n",
      "  1.33500000e+03 8.70000000e+01 5.00000000e+00]\n",
      " [3.21619863e-01 6.68184704e-03 2.52000000e-02 2.10000000e+02\n",
      "  1.25400000e+03 1.35000000e+02 5.00000000e+00]\n",
      " [2.69081139e-01 2.52153314e-04 1.94000000e-02 1.80000000e+02\n",
      "  1.40600000e+03 1.38000000e+02 1.00000000e+01]\n",
      " [3.28354547e-01 1.76626867e-02 3.79500000e-02 1.70100000e+03\n",
      "  0.00000000e+00 0.00000000e+00 1.00000000e+00]\n",
      " [5.66683222e-01 2.49655386e-02 8.36000000e-02 1.27500000e+03\n",
      "  7.70000000e+01 0.00000000e+00 1.00000000e+00]\n",
      " [2.51682478e-01 0.00000000e+00 2.35750000e-02 8.40000000e+02\n",
      "  2.35000000e+02 1.00000000e+01 1.00000000e+00]\n",
      " [4.31034950e-01 5.42268635e-03 3.03500000e-02 8.03000000e+02\n",
      "  1.05100000e+03 2.28000000e+02 2.10000000e+01]\n",
      " [3.46295278e-01 0.00000000e+00 6.61000000e-02 4.40000000e+01\n",
      "  3.59000000e+02 7.90000000e+01 3.00000000e+00]\n",
      " [4.83142457e-01 1.32872349e-02 6.10500000e-02 6.81000000e+02\n",
      "  8.14000000e+02 1.31000000e+02 1.40000000e+01]\n",
      " [4.58440834e-01 1.04328971e-02 5.95500000e-02 1.22000000e+03\n",
      "  1.00000000e+00 1.00000000e+00 1.00000000e+00]\n",
      " [2.66963818e-01 0.00000000e+00 2.48000000e-02 3.23000000e+02\n",
      "  7.90000000e+02 7.80000000e+01 5.00000000e+00]\n",
      " [3.85446467e-01 1.70179943e-02 5.56000000e-02 9.23000000e+02\n",
      "  6.20000000e+02 2.80000000e+01 1.00000000e+00]\n",
      " [4.84715105e-01 1.29502917e-02 4.01500000e-02 1.67500000e+03\n",
      "  5.00000000e+00 1.00000000e+00 1.00000000e+00]\n",
      " [3.71893360e-01 8.98505249e-03 3.65000000e-02 5.10000000e+02\n",
      "  1.24500000e+03 8.00000000e+01 6.00000000e+00]\n",
      " [6.96365848e-01 0.00000000e+00 1.41200000e-01 5.50000000e+02\n",
      "  2.72000000e+02 6.80000000e+01 3.00000000e+00]\n",
      " [4.78367790e-01 5.22378381e-03 5.30500000e-02 8.30000000e+02\n",
      "  5.47000000e+02 7.30000000e+01 8.00000000e+00]\n",
      " [3.44517773e-01 3.65714312e-03 3.83000000e-02 1.09300000e+03\n",
      "  6.00000000e+00 1.00000000e+00 1.00000000e+00]\n",
      " [3.67109797e-01 1.60901429e-02 3.50000000e-02 4.58000000e+02\n",
      "  1.49200000e+03 2.41000000e+02 1.10000000e+01]\n",
      " [3.79150211e-01 6.44553269e-03 3.99000000e-02 4.99000000e+02\n",
      "  1.67900000e+03 4.70000000e+02 2.70000000e+01]\n",
      " [3.97290922e-01 4.72054813e-03 3.38000000e-02 1.36600000e+03\n",
      "  2.00000000e+00 0.00000000e+00 1.00000000e+00]\n",
      " [4.10902056e-01 3.20807629e-03 2.34500000e-02 8.06000000e+02\n",
      "  3.12000000e+02 2.80000000e+01 5.00000000e+00]\n",
      " [3.22224989e-01 8.71338135e-03 2.21250000e-02 4.33000000e+02\n",
      "  1.06100000e+03 6.80000000e+01 1.00000000e+01]\n",
      " [3.92787801e-01 0.00000000e+00 4.46000000e-02 2.66000000e+02\n",
      "  1.29700000e+03 1.01000000e+02 1.00000000e+00]\n",
      " [5.18041338e-01 1.31025384e-03 4.01750000e-02 1.23200000e+03\n",
      "  7.88000000e+02 1.78000000e+02 8.00000000e+00]\n",
      " [2.60728503e-01 1.26144137e-03 1.54000000e-02 2.17300000e+03\n",
      "  6.38000000e+02 4.00000000e+00 1.00000000e+00]\n",
      " [3.19985590e-01 4.33990694e-03 5.20000000e-02 6.30000000e+01\n",
      "  5.41000000e+02 5.10000000e+01 1.10000000e+01]\n",
      " [3.17146881e-01 1.17366450e-02 3.54000000e-02 2.85000000e+02\n",
      "  2.58200000e+03 3.09000000e+02 4.00000000e+00]\n",
      " [2.23315830e-01 2.61155499e-03 1.37000000e-02 4.44000000e+02\n",
      "  7.60000000e+02 1.80000000e+01 3.00000000e+00]\n",
      " [3.35964179e-01 3.11392463e-03 2.98750000e-02 4.82000000e+02\n",
      "  1.09800000e+03 2.56000000e+02 2.20000000e+01]\n",
      " [4.91947515e-01 5.31263342e-03 7.40750000e-02 5.22000000e+02\n",
      "  3.54000000e+02 4.80000000e+01 4.00000000e+00]\n",
      " [2.79827624e-01 5.33744885e-05 2.16250000e-02 8.86000000e+02\n",
      "  5.90000000e+02 5.60000000e+01 1.60000000e+01]\n",
      " [2.24216066e-01 0.00000000e+00 1.91500000e-02 1.10000000e+01\n",
      "  4.57000000e+02 3.56000000e+02 2.00000000e+01]\n",
      " [2.78100172e-01 0.00000000e+00 4.78000000e-02 6.90000000e+01\n",
      "  2.83000000e+02 2.20000000e+01 3.00000000e+00]\n",
      " [4.21841670e-01 9.88726701e-03 4.99500000e-02 2.36000000e+02\n",
      "  1.30400000e+03 2.72000000e+02 3.50000000e+01]\n",
      " [2.33508490e-01 0.00000000e+00 3.63000000e-02 1.55000000e+02\n",
      "  4.82000000e+02 2.70000000e+01 1.00000000e+00]\n",
      " [3.20161127e-01 0.00000000e+00 4.85500000e-02 1.39000000e+02\n",
      "  1.36000000e+02 2.10000000e+01 3.00000000e+00]\n",
      " [4.03545189e-01 1.90543656e-02 3.91000000e-02 1.12100000e+03\n",
      "  1.92600000e+03 3.70000000e+01 2.00000000e+00]\n",
      " [1.99801765e-01 0.00000000e+00 3.04750000e-02 4.20000000e+01\n",
      "  1.85000000e+02 7.60000000e+01 1.90000000e+01]\n",
      " [3.24108450e-01 4.40153278e-03 2.26000000e-02 1.41200000e+03\n",
      "  2.18000000e+02 1.10000000e+01 5.00000000e+00]\n",
      " [2.81318960e-01 0.00000000e+00 1.66000000e-02 1.15500000e+03\n",
      "  1.00000000e+00 0.00000000e+00 1.00000000e+00]\n",
      " [3.06040919e-01 8.85400547e-04 1.09000000e-02 1.89500000e+03\n",
      "  0.00000000e+00 1.00000000e+00 1.00000000e+00]\n",
      " [4.90037992e-01 4.95840086e-03 5.85500000e-02 3.98000000e+02\n",
      "  6.82000000e+02 5.43000000e+02 2.40000000e+01]\n",
      " [4.60811466e-01 1.69024099e-02 8.47750000e-02 4.43000000e+02\n",
      "  8.19000000e+02 1.47000000e+02 1.30000000e+01]\n",
      " [3.20874066e-01 5.90658732e-03 3.39500000e-02 1.98000000e+02\n",
      "  1.32000000e+03 1.72000000e+02 4.00000000e+00]\n",
      " [2.55045005e-01 0.00000000e+00 3.88500000e-02 1.55000000e+02\n",
      "  5.18000000e+02 7.20000000e+01 6.00000000e+00]\n",
      " [4.11064873e-01 0.00000000e+00 4.25000000e-02 4.45000000e+02\n",
      "  3.36000000e+02 4.00000000e+01 4.00000000e+00]\n",
      " [5.64520821e-01 1.22770497e-02 5.25000000e-02 4.81600000e+03\n",
      "  9.00000000e+00 3.00000000e+00 1.00000000e+00]\n",
      " [4.21491088e-01 1.47480374e-03 4.98000000e-02 1.79100000e+03\n",
      "  2.70000000e+01 2.00000000e+00 1.00000000e+00]\n",
      " [4.48162785e-01 2.18052498e-03 1.08200000e-01 3.39000000e+02\n",
      "  8.93000000e+02 3.54000000e+02 4.50000000e+01]\n",
      " [2.29086955e-01 0.00000000e+00 3.20000000e-02 8.98000000e+02\n",
      "  1.17800000e+03 7.40000000e+01 6.00000000e+00]\n",
      " [3.19824421e-01 0.00000000e+00 5.39250000e-02 1.16000000e+02\n",
      "  7.39000000e+02 2.67000000e+02 2.80000000e+01]\n",
      " [3.34962477e-01 1.28323983e-02 4.58000000e-02 2.12700000e+03\n",
      "  5.65000000e+02 1.70000000e+01 2.00000000e+00]\n",
      " [5.25507738e-01 2.49936888e-02 8.27000000e-02 2.16700000e+03\n",
      "  8.00000000e+01 6.00000000e+00 2.00000000e+00]\n",
      " [4.83730665e-01 3.50339715e-03 3.61000000e-02 2.33700000e+03\n",
      "  3.90000000e+02 3.90000000e+01 7.00000000e+00]\n",
      " [4.35597993e-01 3.37438100e-02 6.56000000e-02 4.69900000e+03\n",
      "  4.50000000e+01 0.00000000e+00 1.00000000e+00]\n",
      " [3.00051437e-01 1.80041495e-02 4.48000000e-02 1.76700000e+03\n",
      "  2.71000000e+03 1.90000000e+01 5.00000000e+00]\n",
      " [3.74079431e-01 1.93376917e-02 4.89250000e-02 3.63000000e+03\n",
      "  2.68600000e+03 4.80000000e+01 4.00000000e+00]\n",
      " [2.86097773e-01 0.00000000e+00 1.45000000e-02 9.85000000e+02\n",
      "  1.26300000e+03 1.35000000e+02 9.00000000e+00]\n",
      " [3.75130109e-01 1.10469449e-02 8.50000000e-02 1.11800000e+03\n",
      "  1.16700000e+03 5.10000000e+01 5.00000000e+00]\n",
      " [4.37980867e-01 1.85147495e-03 4.50250000e-02 5.90000000e+02\n",
      "  1.28500000e+03 4.16000000e+02 6.10000000e+01]\n",
      " [4.92668267e-01 6.61983254e-03 6.09000000e-02 1.03200000e+03\n",
      "  1.04900000e+03 3.30000000e+01 7.00000000e+00]\n",
      " [4.14588391e-01 3.89512055e-04 6.13000000e-02 1.11300000e+03\n",
      "  6.31000000e+02 2.00000000e+00 2.00000000e+00]\n",
      " [4.34017491e-01 2.11134423e-03 2.09750000e-02 8.13000000e+02\n",
      "  1.38000000e+02 3.90000000e+01 1.60000000e+01]\n",
      " [2.90417037e-01 4.62606829e-03 2.46000000e-02 6.54000000e+02\n",
      "  1.98500000e+03 1.81000000e+02 5.00000000e+00]\n",
      " [5.20527939e-01 1.44004832e-03 4.33000000e-02 1.46000000e+02\n",
      "  1.37800000e+03 9.06000000e+02 1.18000000e+02]\n",
      " [4.96685985e-01 8.54409140e-04 5.90000000e-02 2.62800000e+03\n",
      "  2.50000000e+01 0.00000000e+00 1.00000000e+00]\n",
      " [3.17836687e-01 8.57755210e-05 2.36000000e-02 2.84300000e+03\n",
      "  3.40000000e+01 0.00000000e+00 1.00000000e+00]\n",
      " [3.57644112e-01 6.97625439e-03 2.68000000e-02 2.98700000e+03\n",
      "  1.43100000e+03 8.80000000e+01 9.00000000e+00]\n",
      " [3.95054039e-01 7.90255486e-03 5.09750000e-02 3.77400000e+03\n",
      "  8.00000000e+00 2.00000000e+00 2.00000000e+00]\n",
      " [3.16662578e-01 5.84950609e-03 4.21000000e-02 1.32800000e+03\n",
      "  2.16600000e+03 8.40000000e+01 6.00000000e+00]\n",
      " [8.67071517e-01 9.80849452e-03 1.36800000e-01 1.59700000e+03\n",
      "  6.53000000e+02 5.70000000e+01 2.00000000e+00]\n",
      " [4.36290746e-01 7.23601272e-03 5.13000000e-02 1.03700000e+03\n",
      "  1.20600000e+03 6.70000000e+01 3.00000000e+00]\n",
      " [4.34181794e-01 2.48130259e-03 4.08000000e-02 8.60000000e+02\n",
      "  1.15900000e+03 1.62000000e+02 8.00000000e+00]\n",
      " [4.47776438e-01 9.43419287e-03 4.48750000e-02 2.18900000e+03\n",
      "  2.42200000e+03 4.48000000e+02 3.90000000e+01]\n",
      " [4.14026325e-01 1.03697491e-02 7.07000000e-02 1.61700000e+03\n",
      "  8.77000000e+02 1.00000000e+00 2.00000000e+00]\n",
      " [6.31224068e-01 3.36393233e-03 8.16750000e-02 1.53200000e+03\n",
      "  3.51000000e+02 9.20000000e+01 3.00000000e+00]\n",
      " [2.78643597e-01 3.59471545e-03 1.84750000e-02 6.07000000e+02\n",
      "  1.78700000e+03 9.10000000e+01 9.00000000e+00]]\n"
     ]
    }
   ],
   "source": [
    "from sklearn import impute\n",
    "from numpy.ma.core import mean\n",
    "#filling missing data with the average of the data around it \n",
    "from sklearn.impute import SimpleImputer\n",
    "imputer  = SimpleImputer(missing_values=np.nan, strategy=\"mean\")\n",
    "# imputer.fit(x[:,1:3])\n",
    "# x[:,1:3] = imputer.transform(x[:,1:3])\n",
    "#combines the two lines into one \n",
    "X[:,:-1] = imputer.fit_transform(X[:,:-1])\n",
    "print(X)"
   ]
  },
  {
   "cell_type": "code",
   "execution_count": 93,
   "id": "2268c58a",
   "metadata": {},
   "outputs": [],
   "source": [
    "# from sklearn.decomposition import PCA\n",
    "# pca = PCA(1)\n",
    "# principalComponents = pca.fit_transform(X)\n",
    "# print(pca.n_components_)\n",
    "# print(np.array(X).shape)\n"
   ]
  },
  {
   "cell_type": "code",
   "execution_count": 94,
   "id": "dde9fd9e",
   "metadata": {},
   "outputs": [
    {
     "data": {
      "text/plain": [
       "array([[1.        , 0.99996973],\n",
       "       [0.99996973, 1.        ]])"
      ]
     },
     "execution_count": 94,
     "metadata": {},
     "output_type": "execute_result"
    }
   ],
   "source": [
    "np.corrcoef(X[0], X[1])"
   ]
  },
  {
   "cell_type": "code",
   "execution_count": 95,
   "id": "d82068ca",
   "metadata": {},
   "outputs": [],
   "source": [
    "# import seaborn as sns\n",
    "# from sklearn.preprocessing import StandardScaler\n",
    "# sc = StandardScaler()\n",
    "# dataframe = X\n",
    "# dataframe[2]=y\n",
    "# dataframe['SDi','afTap'] = sc.fit_transform(X)\n",
    "# cov = np.cov(dataframe.T, bias=True)\n",
    "# labs = ['SDi', 'afTap']\n",
    "# sns.heatmap(cov, annot=True, fmt='g', xticklabels=labs, yticklabels=labs)\n",
    "# print(np.shape(cov))"
   ]
  },
  {
   "cell_type": "code",
   "execution_count": 96,
   "id": "3e774c2c",
   "metadata": {},
   "outputs": [],
   "source": [
    "from sklearn.model_selection import train_test_split\n",
    "X_train,X_test,y_train,y_test = train_test_split(X,y,test_size=0.2,stratify=y,random_state=0)"
   ]
  },
  {
   "cell_type": "code",
   "execution_count": 97,
   "id": "2d7428e4",
   "metadata": {},
   "outputs": [],
   "source": [
    "from sklearn.preprocessing import StandardScaler\n",
    "sc = StandardScaler()\n",
    "X_train = sc.fit_transform(X_train)\n",
    "X_test =  sc.transform(X_test)"
   ]
  },
  {
   "cell_type": "code",
   "execution_count": 98,
   "id": "fe61db27",
   "metadata": {},
   "outputs": [
    {
     "name": "stdout",
     "output_type": "stream",
     "text": [
      "7\n",
      "(85, 7)\n"
     ]
    }
   ],
   "source": [
    "from sklearn.decomposition import PCA\n",
    "pca = PCA(0.99)\n",
    "principalComponents = pca.fit_transform(X_train)\n",
    "print(pca.n_components_)\n",
    "print(np.array(X).shape)\n",
    "X_train = pca.transform(X_train)\n",
    "X_test = pca.transform(X_test)"
   ]
  },
  {
   "cell_type": "code",
   "execution_count": 99,
   "id": "c45feb01",
   "metadata": {},
   "outputs": [
    {
     "data": {
      "text/plain": [
       "LogisticRegression(random_state=0)"
      ]
     },
     "execution_count": 99,
     "metadata": {},
     "output_type": "execute_result"
    }
   ],
   "source": [
    "from sklearn.linear_model import LogisticRegression\n",
    "classifier = LogisticRegression(random_state=0)\n",
    "classifier.fit(X_train,y_train)"
   ]
  },
  {
   "cell_type": "code",
   "execution_count": 100,
   "id": "b40bfcc0",
   "metadata": {},
   "outputs": [
    {
     "name": "stdout",
     "output_type": "stream",
     "text": [
      "[[1 0]\n",
      " [1 0]\n",
      " [1 1]\n",
      " [0 0]\n",
      " [0 0]\n",
      " [0 1]\n",
      " [1 1]\n",
      " [0 0]\n",
      " [0 1]\n",
      " [1 1]\n",
      " [0 0]\n",
      " [0 0]\n",
      " [1 1]\n",
      " [1 1]\n",
      " [1 1]\n",
      " [0 0]\n",
      " [1 0]]\n",
      "17\n"
     ]
    }
   ],
   "source": [
    "y_pred =  classifier.predict(X_test)\n",
    "print(np.concatenate((y_pred.reshape(len(y_pred),1),y_test.reshape(len(y_test),1)),1))\n",
    "print(len(y_pred))"
   ]
  },
  {
   "cell_type": "code",
   "execution_count": 101,
   "id": "feffb899",
   "metadata": {
    "scrolled": false
   },
   "outputs": [
    {
     "name": "stdout",
     "output_type": "stream",
     "text": [
      "Confusion matrix, without normalization\n",
      "[[6 3]\n",
      " [2 6]]\n",
      "Normalized confusion matrix\n",
      "[[0.66666667 0.33333333]\n",
      " [0.25       0.75      ]]\n"
     ]
    },
    {
     "data": {
      "image/png": "[encoded data removed]",
      "text/plain": [
       "<Figure size 432x288 with 2 Axes>"
      ]
     },
     "metadata": {
      "needs_background": "light"
     },
     "output_type": "display_data"
    },
    {
     "data": {
      "image/png": "[encoded data removed]",
      "text/plain": [
       "<Figure size 432x288 with 2 Axes>"
      ]
     },
     "metadata": {
      "needs_background": "light"
     },
     "output_type": "display_data"
    },
    {
     "name": "stdout",
     "output_type": "stream",
     "text": [
      "Accuracy score : 0.7058823529411765\n"
     ]
    }
   ],
   "source": [
    "from sklearn.metrics import ConfusionMatrixDisplay,accuracy_score\n",
    "\n",
    "titles_options = [\n",
    "    (\"Confusion matrix, without normalization\", None),\n",
    "    (\"Normalized confusion matrix\", \"true\"),\n",
    "]\n",
    "for title, normalize in titles_options:\n",
    "    disp = ConfusionMatrixDisplay.from_estimator(\n",
    "        classifier,\n",
    "        X_test,\n",
    "        y_test,\n",
    "        display_labels=None ,\n",
    "        cmap=plt.cm.Blues,\n",
    "        normalize=normalize,\n",
    "    )\n",
    "    disp.ax_.set_title(title)\n",
    "\n",
    "    print(title)\n",
    "    print(disp.confusion_matrix)\n",
    "\n",
    "plt.show()\n",
    "print(\"Accuracy score : \" + str(accuracy_score(y_test, y_pred,  normalize=True, sample_weight=None)))"
   ]
  },
  {
   "cell_type": "code",
   "execution_count": 102,
   "id": "6be0ab6c",
   "metadata": {},
   "outputs": [],
   "source": [
    "# from matplotlib.colors import ListedColormap\n",
    "# X_set, y_set = sc.inverse_transform(X_train), y_train\n",
    "# X1, X2 = np.meshgrid(np.arange(start = X_set[:, 0].min() -0.1 , stop = X_set[:, 0].max() + 0.1 , step = 0.001),\n",
    "#                      np.arange(start = X_set[:, 1].min() - 10, stop = X_set[:, 1].max() + 10, step = 0.001))\n",
    "# plt.contourf(X1, X2, classifier.predict(sc.transform(np.array([X1.ravel(), X2.ravel()]).T)).reshape(X1.shape),\n",
    "#              alpha = 0.75, cmap = ListedColormap(('red', 'green')))\n",
    "# plt.xlim(X1.min(), X1.max())\n",
    "# plt.ylim(X2.min(), X2.max())\n",
    "# for i, j in enumerate(np.unique(y_set)):\n",
    "#     plt.scatter(X_set[y_set == j, 0], X_set[y_set == j, 1], c = ListedColormap(('red', 'green'))(i), label = j)\n",
    "# plt.title('Logistic regression  (Training set)')\n",
    "# plt.xlabel('SDi')\n",
    "# plt.ylabel('afTap')\n",
    "# plt.legend()\n",
    "# plt.show()"
   ]
  },
  {
   "cell_type": "code",
   "execution_count": 103,
   "id": "181931dd",
   "metadata": {
    "scrolled": true
   },
   "outputs": [],
   "source": [
    "# from matplotlib.colors import ListedColormap\n",
    "# X_set, y_set = sc.inverse_transform(X_test), y_test\n",
    "# X1, X2 = np.meshgrid(np.arange(start = X_set[:, 0].min() - 0.1, stop = X_set[:, 0].max() + 0.1, step = 0.001),\n",
    "#                      np.arange(start = X_set[:, 1].min() - 10, stop = X_set[:, 1].max() + 10, step = 0.001))\n",
    "# plt.contourf(X1, X2, classifier.predict(sc.transform(np.array([X1.ravel(), X2.ravel()]).T)).reshape(X1.shape),\n",
    "#              alpha = 0.75, cmap = ListedColormap(('red', 'green')))\n",
    "# plt.xlim(X1.min(), X1.max())\n",
    "# plt.ylim(X2.min(), X2.max())\n",
    "# for i, j in enumerate(np.unique(y_set)):\n",
    "#     plt.scatter(X_set[y_set == j, 0], X_set[y_set == j, 1], c = ListedColormap(('red', 'green'))(i), label = j)\n",
    "# plt.title('Logistic Regression  (Test set)')\n",
    "# plt.xlabel('SDi')\n",
    "# plt.ylabel('afTap')\n",
    "# plt.legend()\n",
    "# plt.show()"
   ]
  },
  {
   "cell_type": "code",
   "execution_count": 104,
   "id": "0a4b7f94",
   "metadata": {},
   "outputs": [
    {
     "data": {
      "image/png": "[encoded data removed]",
      "text/plain": [
       "<Figure size 864x432 with 1 Axes>"
      ]
     },
     "metadata": {
      "needs_background": "light"
     },
     "output_type": "display_data"
    }
   ],
   "source": [
    "import scikitplot as skplt\n",
    "Y_test_probs = classifier.predict_proba(X_test)\n",
    "\n",
    "skplt.metrics.plot_roc_curve(y_test, Y_test_probs,\n",
    "                       title=\" ROC Curve\", figsize=(12,6));"
   ]
  },
  {
   "cell_type": "markdown",
   "id": "e80b3ee1",
   "metadata": {},
   "source": [
    "## attempting to use K-neighrest neighbour "
   ]
  },
  {
   "cell_type": "code",
   "execution_count": 105,
   "id": "6a02f5b4",
   "metadata": {},
   "outputs": [
    {
     "data": {
      "text/plain": [
       "KNeighborsClassifier(n_neighbors=10)"
      ]
     },
     "execution_count": 105,
     "metadata": {},
     "output_type": "execute_result"
    }
   ],
   "source": [
    "from sklearn.neighbors import KNeighborsClassifier\n",
    "classifier = KNeighborsClassifier(n_neighbors=10)\n",
    "classifier.fit(X_train,y_train)"
   ]
  },
  {
   "cell_type": "code",
   "execution_count": 106,
   "id": "8a9a0897",
   "metadata": {
    "scrolled": true
   },
   "outputs": [
    {
     "name": "stdout",
     "output_type": "stream",
     "text": [
      "[[0 0]\n",
      " [0 0]\n",
      " [1 1]\n",
      " [0 0]\n",
      " [0 0]\n",
      " [0 1]\n",
      " [0 1]\n",
      " [0 0]\n",
      " [0 1]\n",
      " [1 1]\n",
      " [0 0]\n",
      " [1 0]\n",
      " [0 1]\n",
      " [1 1]\n",
      " [1 1]\n",
      " [0 0]\n",
      " [0 0]]\n"
     ]
    }
   ],
   "source": [
    "y_pred = classifier.predict(X_test)\n",
    "print(np.concatenate((y_pred.reshape(len(y_pred),1), y_test.reshape(len(y_test),1)),1))"
   ]
  },
  {
   "cell_type": "code",
   "execution_count": 107,
   "id": "d482873c",
   "metadata": {
    "scrolled": false
   },
   "outputs": [
    {
     "name": "stdout",
     "output_type": "stream",
     "text": [
      "Confusion matrix, without normalization\n",
      "[[8 1]\n",
      " [4 4]]\n",
      "Normalized confusion matrix\n",
      "[[0.88888889 0.11111111]\n",
      " [0.5        0.5       ]]\n"
     ]
    },
    {
     "data": {
      "image/png": "[encoded data removed]",
      "text/plain": [
       "<Figure size 432x288 with 2 Axes>"
      ]
     },
     "metadata": {
      "needs_background": "light"
     },
     "output_type": "display_data"
    },
    {
     "data": {
      "image/png": "[encoded data removed]",
      "text/plain": [
       "<Figure size 432x288 with 2 Axes>"
      ]
     },
     "metadata": {
      "needs_background": "light"
     },
     "output_type": "display_data"
    },
    {
     "name": "stdout",
     "output_type": "stream",
     "text": [
      "Accuracy Score : 0.7058823529411765\n"
     ]
    }
   ],
   "source": [
    "from sklearn.metrics import ConfusionMatrixDisplay,accuracy_score\n",
    "\n",
    "titles_options = [\n",
    "    (\"Confusion matrix, without normalization\", None),\n",
    "    (\"Normalized confusion matrix\", \"true\"),\n",
    "]\n",
    "for title, normalize in titles_options:\n",
    "    disp = ConfusionMatrixDisplay.from_estimator(\n",
    "        classifier,\n",
    "        X_test,\n",
    "        y_test,\n",
    "        display_labels=None ,\n",
    "        cmap=plt.cm.Blues,\n",
    "        normalize=normalize,\n",
    "    )\n",
    "    disp.ax_.set_title(title)\n",
    "\n",
    "    print(title)\n",
    "    print(disp.confusion_matrix)\n",
    "\n",
    "plt.show()\n",
    "print(\"Accuracy Score : \" + str(accuracy_score(y_test, y_pred,  normalize=True, sample_weight=None)))"
   ]
  },
  {
   "cell_type": "code",
   "execution_count": 108,
   "id": "c77aebdc",
   "metadata": {},
   "outputs": [],
   "source": [
    "# from matplotlib.colors import ListedColormap\n",
    "# X_set, y_set = sc.inverse_transform(X_train), y_train\n",
    "# X1, X2 = np.meshgrid(np.arange(start = X_set[:, 0].min() - 0.1, stop = X_set[:, 0].max() + 0.1, step = 0.001),\n",
    "#                      np.arange(start = X_set[:, 1].min() - 10, stop = X_set[:, 1].max() + 10, step = 0.001))\n",
    "# plt.contourf(X1, X2, classifier.predict(sc.transform(np.array([X1.ravel(), X2.ravel()]).T)).reshape(X1.shape),\n",
    "#              alpha = 0.75, cmap = ListedColormap(('red', 'green')))\n",
    "# plt.xlim(X1.min(), X1.max())\n",
    "# plt.ylim(X2.min(), X2.max())\n",
    "# for i, j in enumerate(np.unique(y_set)):\n",
    "#     plt.scatter(X_set[y_set == j, 0], X_set[y_set == j, 1], c = ListedColormap(('red', 'green'))(i), label = j)\n",
    "# plt.title('K-NN  (Training set)')\n",
    "# plt.xlabel('SDi')\n",
    "# plt.ylabel('afTap')\n",
    "# plt.legend()\n",
    "# plt.show()"
   ]
  },
  {
   "cell_type": "code",
   "execution_count": null,
   "id": "6b17202d",
   "metadata": {},
   "outputs": [],
   "source": []
  },
  {
   "cell_type": "code",
   "execution_count": 109,
   "id": "10699e2c",
   "metadata": {},
   "outputs": [
    {
     "data": {
      "text/plain": [
       "SVC(probability=True, random_state=0)"
      ]
     },
     "execution_count": 109,
     "metadata": {},
     "output_type": "execute_result"
    }
   ],
   "source": [
    "from sklearn.svm import SVC\n",
    "classifier = SVC(kernel = 'rbf',random_state=0,probability=True)\n",
    "classifier.fit(X_train,y_train)"
   ]
  },
  {
   "cell_type": "code",
   "execution_count": 110,
   "id": "9b21174c",
   "metadata": {
    "scrolled": true
   },
   "outputs": [
    {
     "name": "stdout",
     "output_type": "stream",
     "text": [
      "[[0 0]\n",
      " [1 0]\n",
      " [1 1]\n",
      " [0 0]\n",
      " [0 0]\n",
      " [0 1]\n",
      " [0 1]\n",
      " [0 0]\n",
      " [0 1]\n",
      " [1 1]\n",
      " [0 0]\n",
      " [1 0]\n",
      " [1 1]\n",
      " [1 1]\n",
      " [1 1]\n",
      " [0 0]\n",
      " [0 0]]\n"
     ]
    }
   ],
   "source": [
    "y_pred =  classifier.predict(X_test)\n",
    "print(np.concatenate((y_pred.reshape(len(y_pred),1),y_test.reshape(len(y_test),1)),1))"
   ]
  },
  {
   "cell_type": "code",
   "execution_count": 111,
   "id": "6ed45550",
   "metadata": {
    "scrolled": true
   },
   "outputs": [
    {
     "name": "stdout",
     "output_type": "stream",
     "text": [
      "Confusion matrix, without normalization\n",
      "[[7 2]\n",
      " [3 5]]\n",
      "Normalized confusion matrix\n",
      "[[0.77777778 0.22222222]\n",
      " [0.375      0.625     ]]\n"
     ]
    },
    {
     "data": {
      "image/png": "[encoded data removed]",
      "text/plain": [
       "<Figure size 432x288 with 2 Axes>"
      ]
     },
     "metadata": {
      "needs_background": "light"
     },
     "output_type": "display_data"
    },
    {
     "data": {
      "image/png": "[encoded data removed]",
      "text/plain": [
       "<Figure size 432x288 with 2 Axes>"
      ]
     },
     "metadata": {
      "needs_background": "light"
     },
     "output_type": "display_data"
    },
    {
     "name": "stdout",
     "output_type": "stream",
     "text": [
      "Accuracy score : 0.7058823529411765\n"
     ]
    }
   ],
   "source": [
    "from sklearn.metrics import ConfusionMatrixDisplay,accuracy_score\n",
    "\n",
    "titles_options = [\n",
    "    (\"Confusion matrix, without normalization\", None),\n",
    "    (\"Normalized confusion matrix\", \"true\"),\n",
    "]\n",
    "for title, normalize in titles_options:\n",
    "    disp = ConfusionMatrixDisplay.from_estimator(\n",
    "        classifier,\n",
    "        X_test,\n",
    "        y_test,\n",
    "        display_labels=None ,\n",
    "        cmap=plt.cm.Blues,\n",
    "        normalize=normalize,\n",
    "    )\n",
    "    disp.ax_.set_title(title)\n",
    "\n",
    "    print(title)\n",
    "    print(disp.confusion_matrix)\n",
    "\n",
    "plt.show()\n",
    "print(\"Accuracy score : \" + str(accuracy_score(y_test, y_pred,  normalize=True, sample_weight=None)))"
   ]
  },
  {
   "cell_type": "code",
   "execution_count": 112,
   "id": "a3cc1db6",
   "metadata": {},
   "outputs": [],
   "source": [
    "# from matplotlib.colors import ListedColormap\n",
    "# X_set, y_set = sc.inverse_transform(X_train), y_train\n",
    "# X1, X2 = np.meshgrid(np.arange(start = X_set[:, 0].min() - 0.1, stop = X_set[:, 0].max() + 0.1, step = 0.001),\n",
    "#                      np.arange(start = X_set[:, 1].min() - 10, stop = X_set[:, 1].max() + 10, step = 0.001))\n",
    "# plt.contourf(X1, X2, classifier.predict(sc.transform(np.array([X1.ravel(), X2.ravel()]).T)).reshape(X1.shape),\n",
    "#              alpha = 0.75, cmap = ListedColormap(('red', 'green')))\n",
    "# plt.xlim(X1.min(), X1.max())\n",
    "# plt.ylim(X2.min(), X2.max())\n",
    "# for i, j in enumerate(np.unique(y_set)):\n",
    "#     plt.scatter(X_set[y_set == j, 0], X_set[y_set == j, 1], c = ListedColormap(('red', 'green'))(i), label = j)\n",
    "# plt.title('SVC rbf kernel  (Training set)')\n",
    "# plt.xlabel('SDi')\n",
    "# plt.ylabel('afTap')\n",
    "# plt.legend()\n",
    "# plt.show()"
   ]
  },
  {
   "cell_type": "code",
   "execution_count": 113,
   "id": "c9018537",
   "metadata": {
    "scrolled": true
   },
   "outputs": [],
   "source": [
    "# from matplotlib.colors import ListedColormap\n",
    "# X_set, y_set = sc.inverse_transform(X_test), y_test\n",
    "# X1, X2 = np.meshgrid(np.arange(start = X_set[:, 0].min() - 0.1, stop = X_set[:, 0].max() + 0.1, step = 0.001),\n",
    "#                      np.arange(start = X_set[:, 1].min() - 10, stop = X_set[:, 1].max() + 10, step = 0.001))\n",
    "# plt.contourf(X1, X2, classifier.predict(sc.transform(np.array([X1.ravel(), X2.ravel()]).T)).reshape(X1.shape),\n",
    "#              alpha = 0.75, cmap = ListedColormap(('red', 'green')))\n",
    "# plt.xlim(X1.min(), X1.max())\n",
    "# plt.ylim(X2.min(), X2.max())\n",
    "# for i, j in enumerate(np.unique(y_set)):\n",
    "#     plt.scatter(X_set[y_set == j, 0], X_set[y_set == j, 1], c = ListedColormap(('red', 'green'))(i), label = j)\n",
    "# plt.title('SVC rbf kernel (Test set)')\n",
    "# plt.xlabel('SDi')\n",
    "# plt.ylabel(' afTap')\n",
    "# plt.legend()\n",
    "# plt.show()"
   ]
  },
  {
   "cell_type": "code",
   "execution_count": 114,
   "id": "e32f795f",
   "metadata": {},
   "outputs": [
    {
     "data": {
      "image/png": "[encoded data removed]",
      "text/plain": [
       "<Figure size 864x432 with 1 Axes>"
      ]
     },
     "metadata": {
      "needs_background": "light"
     },
     "output_type": "display_data"
    }
   ],
   "source": [
    "import scikitplot as skplt\n",
    "Y_test_probs = classifier.predict_proba(X_test)\n",
    "\n",
    "skplt.metrics.plot_roc_curve(y_test, Y_test_probs,\n",
    "                       title=\" ROC Curve\", figsize=(12,6));"
   ]
  },
  {
   "cell_type": "code",
   "execution_count": 115,
   "id": "2fbad88f",
   "metadata": {},
   "outputs": [
    {
     "data": {
      "text/plain": [
       "GaussianNB()"
      ]
     },
     "execution_count": 115,
     "metadata": {},
     "output_type": "execute_result"
    }
   ],
   "source": [
    "from sklearn.naive_bayes import GaussianNB\n",
    "classifier = GaussianNB()\n",
    "classifier.fit(X_train,y_train)"
   ]
  },
  {
   "cell_type": "code",
   "execution_count": 116,
   "id": "9d2a102b",
   "metadata": {
    "scrolled": true
   },
   "outputs": [
    {
     "name": "stdout",
     "output_type": "stream",
     "text": [
      "[[1 0]\n",
      " [0 0]\n",
      " [1 1]\n",
      " [0 0]\n",
      " [0 0]\n",
      " [0 1]\n",
      " [1 1]\n",
      " [0 0]\n",
      " [0 1]\n",
      " [1 1]\n",
      " [0 0]\n",
      " [0 0]\n",
      " [1 1]\n",
      " [1 1]\n",
      " [1 1]\n",
      " [0 0]\n",
      " [0 0]]\n"
     ]
    }
   ],
   "source": [
    "y_pred = classifier.predict(X_test)\n",
    "print(np.concatenate((y_pred.reshape(len(y_pred),1), y_test.reshape(len(y_test),1)),1))"
   ]
  },
  {
   "cell_type": "code",
   "execution_count": 117,
   "id": "b0d88ca5",
   "metadata": {
    "scrolled": false
   },
   "outputs": [
    {
     "name": "stdout",
     "output_type": "stream",
     "text": [
      "Confusion matrix, without normalization\n",
      "[[8 1]\n",
      " [2 6]]\n",
      "Normalized confusion matrix\n",
      "[[0.88888889 0.11111111]\n",
      " [0.25       0.75      ]]\n"
     ]
    },
    {
     "data": {
      "image/png": "[encoded data removed]",
      "text/plain": [
       "<Figure size 432x288 with 2 Axes>"
      ]
     },
     "metadata": {
      "needs_background": "light"
     },
     "output_type": "display_data"
    },
    {
     "data": {
      "image/png": "[encoded data removed]",
      "text/plain": [
       "<Figure size 432x288 with 2 Axes>"
      ]
     },
     "metadata": {
      "needs_background": "light"
     },
     "output_type": "display_data"
    },
    {
     "name": "stdout",
     "output_type": "stream",
     "text": [
      "Accuracy score : 0.8235294117647058\n"
     ]
    }
   ],
   "source": [
    "from sklearn.metrics import ConfusionMatrixDisplay,accuracy_score\n",
    "\n",
    "titles_options = [\n",
    "    (\"Confusion matrix, without normalization\", None),\n",
    "    (\"Normalized confusion matrix\", \"true\"),\n",
    "]\n",
    "for title, normalize in titles_options:\n",
    "    disp = ConfusionMatrixDisplay.from_estimator(\n",
    "        classifier,\n",
    "        X_test,\n",
    "        y_test,\n",
    "        display_labels=None ,\n",
    "        cmap=plt.cm.Blues,\n",
    "        normalize=normalize,\n",
    "    )\n",
    "    disp.ax_.set_title(title)\n",
    "\n",
    "    print(title)\n",
    "    print(disp.confusion_matrix)\n",
    "\n",
    "plt.show()\n",
    "print(\"Accuracy score : \" + str(accuracy_score(y_test, y_pred,  normalize=True, sample_weight=None)))"
   ]
  },
  {
   "cell_type": "code",
   "execution_count": 118,
   "id": "8deb8db4",
   "metadata": {},
   "outputs": [],
   "source": [
    "# from matplotlib.colors import ListedColormap\n",
    "# X_set, y_set = sc.inverse_transform(X_train), y_train\n",
    "# X1, X2 = np.meshgrid(np.arange(start = X_set[:, 0].min() - 0.1, stop = X_set[:, 0].max() + 0.1, step = 0.001),\n",
    "#                      np.arange(start = X_set[:, 1].min() - 10, stop = X_set[:, 1].max() + 10, step = 0.001))\n",
    "# plt.contourf(X1, X2, classifier.predict(sc.transform(np.array([X1.ravel(), X2.ravel()]).T)).reshape(X1.shape),\n",
    "#              alpha = 0.75, cmap = ListedColormap(('red', 'green')))\n",
    "# plt.xlim(X1.min(), X1.max())\n",
    "# plt.ylim(X2.min(), X2.max())\n",
    "# for i, j in enumerate(np.unique(y_set)):\n",
    "#     plt.scatter(X_set[y_set == j, 0], X_set[y_set == j, 1], c = ListedColormap(('red', 'green'))(i), label = j)\n",
    "# plt.title('Naive Bayes (Training set)')\n",
    "# plt.xlabel('Age')\n",
    "# plt.ylabel('Estimated Salary')\n",
    "# plt.legend()\n",
    "# plt.show()"
   ]
  },
  {
   "cell_type": "code",
   "execution_count": 119,
   "id": "5b052987",
   "metadata": {},
   "outputs": [],
   "source": [
    "# from matplotlib.colors import ListedColormap\n",
    "# X_set, y_set = sc.inverse_transform(X_test), y_test\n",
    "# X1, X2 = np.meshgrid(np.arange(start = X_set[:, 0].min() - 0.1, stop = X_set[:, 0].max() + 0.1, step = 0.001),\n",
    "#                      np.arange(start = X_set[:, 1].min() - 10, stop = X_set[:, 1].max() + 10, step = 0.001))\n",
    "# plt.contourf(X1, X2, classifier.predict(sc.transform(np.array([X1.ravel(), X2.ravel()]).T)).reshape(X1.shape),\n",
    "#              alpha = 0.75, cmap = ListedColormap(('red', 'green')))\n",
    "# plt.xlim(X1.min(), X1.max())\n",
    "# plt.ylim(X2.min(), X2.max())\n",
    "# for i, j in enumerate(np.unique(y_set)):\n",
    "#     plt.scatter(X_set[y_set == j, 0], X_set[y_set == j, 1], c = ListedColormap(('red', 'green'))(i), label = j)\n",
    "# plt.title('Naive Bayes (Test set)')\n",
    "# plt.xlabel('Age')\n",
    "# plt.ylabel('Estimated Salary')\n",
    "# plt.legend()\n",
    "# plt.show()"
   ]
  },
  {
   "cell_type": "code",
   "execution_count": 120,
   "id": "634d94a4",
   "metadata": {},
   "outputs": [
    {
     "data": {
      "image/png": "[encoded data removed]",
      "text/plain": [
       "<Figure size 864x432 with 1 Axes>"
      ]
     },
     "metadata": {
      "needs_background": "light"
     },
     "output_type": "display_data"
    }
   ],
   "source": [
    "import scikitplot as skplt\n",
    "Y_test_probs = classifier.predict_proba(X_test)\n",
    "\n",
    "skplt.metrics.plot_roc_curve(y_test, Y_test_probs,\n",
    "                       title=\" ROC Curve\", figsize=(12,6));"
   ]
  },
  {
   "cell_type": "code",
   "execution_count": 121,
   "id": "b8b1616c",
   "metadata": {},
   "outputs": [
    {
     "data": {
      "text/plain": [
       "RandomForestClassifier(criterion='entropy', n_estimators=6)"
      ]
     },
     "execution_count": 121,
     "metadata": {},
     "output_type": "execute_result"
    }
   ],
   "source": [
    "from sklearn.ensemble import RandomForestClassifier\n",
    "classifier = RandomForestClassifier(n_estimators = 6, criterion = 'entropy')\n",
    "classifier.fit(X_train,y_train)"
   ]
  },
  {
   "cell_type": "code",
   "execution_count": 122,
   "id": "e672d94e",
   "metadata": {},
   "outputs": [
    {
     "name": "stdout",
     "output_type": "stream",
     "text": [
      "[[0 0]\n",
      " [1 0]\n",
      " [0 1]\n",
      " [1 0]\n",
      " [0 0]\n",
      " [0 1]\n",
      " [0 1]\n",
      " [0 0]\n",
      " [0 1]\n",
      " [0 1]\n",
      " [0 0]\n",
      " [1 0]\n",
      " [1 1]\n",
      " [1 1]\n",
      " [0 1]\n",
      " [0 0]\n",
      " [0 0]]\n"
     ]
    }
   ],
   "source": [
    "y_pred = classifier.predict(X_test)\n",
    "print(np.concatenate((y_pred.reshape(len(y_pred),1), y_test.reshape(len(y_test),1)),1))"
   ]
  },
  {
   "cell_type": "code",
   "execution_count": 123,
   "id": "ede9f38f",
   "metadata": {
    "scrolled": false
   },
   "outputs": [
    {
     "name": "stdout",
     "output_type": "stream",
     "text": [
      "Confusion matrix, without normalization\n",
      "[[6 3]\n",
      " [6 2]]\n",
      "Normalized confusion matrix\n",
      "[[0.66666667 0.33333333]\n",
      " [0.75       0.25      ]]\n"
     ]
    },
    {
     "data": {
      "image/png": "[encoded data removed]",
      "text/plain": [
       "<Figure size 432x288 with 2 Axes>"
      ]
     },
     "metadata": {
      "needs_background": "light"
     },
     "output_type": "display_data"
    },
    {
     "data": {
      "image/png": "[encoded data removed]",
      "text/plain": [
       "<Figure size 432x288 with 2 Axes>"
      ]
     },
     "metadata": {
      "needs_background": "light"
     },
     "output_type": "display_data"
    },
    {
     "name": "stdout",
     "output_type": "stream",
     "text": [
      "Accuracy score : 0.47058823529411764\n"
     ]
    }
   ],
   "source": [
    "from sklearn.metrics import ConfusionMatrixDisplay,accuracy_score\n",
    "\n",
    "titles_options = [\n",
    "    (\"Confusion matrix, without normalization\", None),\n",
    "    (\"Normalized confusion matrix\", \"true\"),\n",
    "]\n",
    "for title, normalize in titles_options:\n",
    "    disp = ConfusionMatrixDisplay.from_estimator(\n",
    "        classifier,\n",
    "        X_test,\n",
    "        y_test,\n",
    "        display_labels=None ,\n",
    "        cmap=plt.cm.Blues,\n",
    "        normalize=normalize,\n",
    "    )\n",
    "    disp.ax_.set_title(title)\n",
    "\n",
    "    print(title)\n",
    "    print(disp.confusion_matrix)\n",
    "\n",
    "plt.show()\n",
    "print(\"Accuracy score : \" + str(accuracy_score(y_test, y_pred,  normalize=True, sample_weight=None)))"
   ]
  },
  {
   "cell_type": "code",
   "execution_count": 124,
   "id": "479becf7",
   "metadata": {},
   "outputs": [],
   "source": [
    "# from matplotlib.colors import ListedColormap\n",
    "# X_set, y_set = sc.inverse_transform(X_train), y_train\n",
    "# X1, X2 = np.meshgrid(np.arange(start = X_set[:, 0].min() - 0.1, stop = X_set[:, 0].max() + 0.1, step = 0.001),\n",
    "#                      np.arange(start = X_set[:, 1].min() - 10, stop = X_set[:, 1].max() + 10, step = 0.001))\n",
    "# plt.contourf(X1, X2, classifier.predict(sc.transform(np.array([X1.ravel(), X2.ravel()]).T)).reshape(X1.shape),\n",
    "#              alpha = 0.75, cmap = ListedColormap(('red', 'green')))\n",
    "# plt.xlim(X1.min(), X1.max())\n",
    "# plt.ylim(X2.min(), X2.max())\n",
    "# for i, j in enumerate(np.unique(y_set)):\n",
    "#     plt.scatter(X_set[y_set == j, 0], X_set[y_set == j, 1], c = ListedColormap(('red', 'green'))(i), label = j)\n",
    "# plt.title('Ranom forest ensemlbed classifier  (Training set)')\n",
    "# plt.xlabel('Age')\n",
    "# plt.ylabel('Estimated Salary')\n",
    "# plt.legend()\n",
    "# plt.show()"
   ]
  },
  {
   "cell_type": "code",
   "execution_count": 125,
   "id": "ec5b4399",
   "metadata": {},
   "outputs": [],
   "source": [
    "# from matplotlib.colors import ListedColormap\n",
    "# X_set, y_set = sc.inverse_transform(X_test), y_test\n",
    "# X1, X2 = np.meshgrid(np.arange(start = X_set[:, 0].min() - 0.1, stop = X_set[:, 0].max() + 0.1, step = 0.001),\n",
    "#                      np.arange(start = X_set[:, 1].min() - 10, stop = X_set[:, 1].max() + 10, step = 0.001))\n",
    "# plt.contourf(X1, X2, classifier.predict(sc.transform(np.array([X1.ravel(), X2.ravel()]).T)).reshape(X1.shape),\n",
    "#              alpha = 0.75, cmap = ListedColormap(('red', 'green')))\n",
    "# plt.xlim(X1.min(), X1.max())\n",
    "# plt.ylim(X2.min(), X2.max())\n",
    "# for i, j in enumerate(np.unique(y_set)):\n",
    "#     plt.scatter(X_set[y_set == j, 0], X_set[y_set == j, 1], c = ListedColormap(('red', 'green'))(i), label = j)\n",
    "# plt.title('Naive Bayes (Test set)')\n",
    "# plt.xlabel('Age')\n",
    "# plt.ylabel('Estimated Salary')\n",
    "# plt.legend()\n",
    "# plt.show()"
   ]
  },
  {
   "cell_type": "code",
   "execution_count": 126,
   "id": "86335ee8",
   "metadata": {},
   "outputs": [
    {
     "data": {
      "text/plain": [
       "BaggingClassifier(base_estimator=SVC(), n_estimators=100)"
      ]
     },
     "execution_count": 126,
     "metadata": {},
     "output_type": "execute_result"
    }
   ],
   "source": [
    "from sklearn.ensemble import BaggingClassifier\n",
    "from sklearn.svm import SVC\n",
    "from sklearn.naive_bayes import GaussianNB\n",
    "nb = GaussianNB()\n",
    "svc = SVC()\n",
    "classifier = BaggingClassifier(base_estimator=svc , n_estimators=100)\n",
    "classifier.fit(X_train,y_train)"
   ]
  },
  {
   "cell_type": "code",
   "execution_count": 127,
   "id": "43ab53ce",
   "metadata": {},
   "outputs": [
    {
     "name": "stdout",
     "output_type": "stream",
     "text": [
      "[[0 0]\n",
      " [0 0]\n",
      " [1 1]\n",
      " [0 0]\n",
      " [0 0]\n",
      " [0 1]\n",
      " [0 1]\n",
      " [0 0]\n",
      " [0 1]\n",
      " [1 1]\n",
      " [0 0]\n",
      " [1 0]\n",
      " [1 1]\n",
      " [1 1]\n",
      " [1 1]\n",
      " [0 0]\n",
      " [0 0]]\n"
     ]
    }
   ],
   "source": [
    "y_pred = classifier.predict(X_test)\n",
    "print(np.concatenate((y_pred.reshape(len(y_pred),1), y_test.reshape(len(y_test),1)),1))"
   ]
  },
  {
   "cell_type": "code",
   "execution_count": 128,
   "id": "36447641",
   "metadata": {
    "scrolled": false
   },
   "outputs": [
    {
     "name": "stdout",
     "output_type": "stream",
     "text": [
      "Confusion matrix, without normalization\n",
      "[[8 1]\n",
      " [3 5]]\n",
      "Normalized confusion matrix\n",
      "[[0.88888889 0.11111111]\n",
      " [0.375      0.625     ]]\n"
     ]
    },
    {
     "data": {
      "image/png": "[encoded data removed]",
      "text/plain": [
       "<Figure size 432x288 with 2 Axes>"
      ]
     },
     "metadata": {
      "needs_background": "light"
     },
     "output_type": "display_data"
    },
    {
     "data": {
      "image/png": "[encoded data removed]",
      "text/plain": [
       "<Figure size 432x288 with 2 Axes>"
      ]
     },
     "metadata": {
      "needs_background": "light"
     },
     "output_type": "display_data"
    },
    {
     "name": "stdout",
     "output_type": "stream",
     "text": [
      "Accuracy score : 0.7647058823529411\n"
     ]
    }
   ],
   "source": [
    "from sklearn.metrics import ConfusionMatrixDisplay,accuracy_score\n",
    "\n",
    "titles_options = [\n",
    "    (\"Confusion matrix, without normalization\", None),\n",
    "    (\"Normalized confusion matrix\", \"true\"),\n",
    "]\n",
    "for title, normalize in titles_options:\n",
    "    disp = ConfusionMatrixDisplay.from_estimator(\n",
    "        classifier,\n",
    "        X_test,\n",
    "        y_test,\n",
    "        display_labels=None ,\n",
    "        cmap=plt.cm.Blues,\n",
    "        normalize=normalize,\n",
    "    )\n",
    "    disp.ax_.set_title(title)\n",
    "\n",
    "    print(title)\n",
    "    print(disp.confusion_matrix)\n",
    "\n",
    "plt.show()\n",
    "print(\"Accuracy score : \" + str(accuracy_score(y_test, y_pred,  normalize=True, sample_weight=None)))"
   ]
  },
  {
   "cell_type": "code",
   "execution_count": 129,
   "id": "b7e133db",
   "metadata": {},
   "outputs": [
    {
     "data": {
      "text/plain": [
       "0.648611111111111"
      ]
     },
     "execution_count": 129,
     "metadata": {},
     "output_type": "execute_result"
    }
   ],
   "source": [
    "from sklearn.tree import DecisionTreeClassifier\n",
    "from sklearn.model_selection import cross_val_score\n",
    "\n",
    "scores = cross_val_score(DecisionTreeClassifier(),X,y,cv=10)\n",
    "scores.mean()"
   ]
  },
  {
   "cell_type": "code",
   "execution_count": 130,
   "id": "b403ceb9",
   "metadata": {
    "scrolled": true
   },
   "outputs": [
    {
     "data": {
      "text/plain": [
       "0.5902777777777779"
      ]
     },
     "execution_count": 130,
     "metadata": {},
     "output_type": "execute_result"
    }
   ],
   "source": [
    "from sklearn.ensemble import BaggingClassifier\n",
    "bag_model = BaggingClassifier(\n",
    "base_estimator = DecisionTreeClassifier(),\n",
    "n_estimators = 5,\n",
    "max_samples = 0.7,\n",
    "oob_score=True,\n",
    ")\n",
    "scores = cross_val_score(bag_model,X,y,cv=10)\n",
    "scores.mean()"
   ]
  },
  {
   "cell_type": "code",
   "execution_count": 131,
   "id": "80cd23d5",
   "metadata": {},
   "outputs": [],
   "source": [
    "from sklearn.metrics import ConfusionMatrixDisplay,accuracy_score\n",
    "from sklearn.model_selection import cross_val_score\n",
    "from sklearn.model_selection import KFold\n",
    "\n",
    "def testClassifier(classifier,X_train,X_test,y_train,y_test):\n",
    "    classifier.fit(X_train,y_train)\n",
    "    y_pred =  classifier.predict(X_test)\n",
    "    titles_options = [\n",
    "    (\"Confusion matrix, without normalization\", None),\n",
    "    (\"Normalized confusion matrix\", \"true\"),]\n",
    "    for title, normalize in titles_options:\n",
    "        disp = ConfusionMatrixDisplay.from_estimator(\n",
    "            classifier,\n",
    "            X_test,\n",
    "            y_test,\n",
    "            display_labels=None ,\n",
    "            cmap=plt.cm.Blues,\n",
    "            normalize=normalize,\n",
    "        )\n",
    "        disp.ax_.set_title(title)\n",
    "\n",
    "        print(title)\n",
    "        print(disp.confusion_matrix)\n",
    "\n",
    "    plt.show()\n",
    "    print(\"Accuracy score : \" + str(accuracy_score(y_test, y_pred,  normalize=True, sample_weight=None)))\n",
    "    X = np.concatenate((X_train, X_test), axis=0) \n",
    "    y = np.concatenate((y_train, y_test), axis=0)\n",
    "    scores = cross_val_score(classifier,X,y,cv=5)\n",
    "    print(\"Mean accuracy of 5 fold cross validation test : \"+ str(scores.mean()))\n",
    "    print(\"with a maximum accuracy of \" + str(scores.max()))\n",
    "    scores = cross_val_score(classifier,X,y,cv=10)\n",
    "    print(\"Mean accuracy of 10 fold cross validation test : \"+ str(scores.mean()))\n",
    "    print(\"with a maximum accuracy of \" + str(scores.max()))\n",
    "    scores = cross_val_score(classifier,X,y,cv=KFold(85))\n",
    "    print(\"Mean accuracy of n fold cross validation test : \"+ str(scores.mean()))\n",
    "    print(\"with a maximum accuracy of \" + str(scores.max()))\n",
    "    scores = cross_val_score(classifier,X,y,cv=KFold())\n",
    "    print(\"Mean accuracy of n fold cross validation test : \"+ str(scores.mean()))\n",
    "    print(\"with a maximum accuracy of \" + str(scores.max()))"
   ]
  },
  {
   "cell_type": "code",
   "execution_count": 132,
   "id": "2ec8ae21",
   "metadata": {
    "scrolled": false
   },
   "outputs": [
    {
     "name": "stdout",
     "output_type": "stream",
     "text": [
      "Confusion matrix, without normalization\n",
      "[[7 2]\n",
      " [3 5]]\n",
      "Normalized confusion matrix\n",
      "[[0.77777778 0.22222222]\n",
      " [0.375      0.625     ]]\n"
     ]
    },
    {
     "data": {
      "image/png": "[encoded data removed]",
      "text/plain": [
       "<Figure size 432x288 with 2 Axes>"
      ]
     },
     "metadata": {
      "needs_background": "light"
     },
     "output_type": "display_data"
    },
    {
     "data": {
      "image/png": "[encoded data removed]",
      "text/plain": [
       "<Figure size 432x288 with 2 Axes>"
      ]
     },
     "metadata": {
      "needs_background": "light"
     },
     "output_type": "display_data"
    },
    {
     "name": "stdout",
     "output_type": "stream",
     "text": [
      "Accuracy score : 0.7058823529411765\n",
      "Mean accuracy of 5 fold cross validation test : 0.6941176470588235\n",
      "with a maximum accuracy of 0.8235294117647058\n",
      "Mean accuracy of 10 fold cross validation test : 0.7166666666666667\n",
      "with a maximum accuracy of 1.0\n",
      "Mean accuracy of n fold cross validation test : 0.7294117647058823\n",
      "with a maximum accuracy of 1.0\n",
      "Mean accuracy of n fold cross validation test : 0.6705882352941177\n",
      "with a maximum accuracy of 0.7647058823529411\n"
     ]
    }
   ],
   "source": [
    "classifier = SVC()\n",
    "testClassifier(classifier,X_train,X_test,y_train,y_test)"
   ]
  },
  {
   "cell_type": "code",
   "execution_count": 133,
   "id": "32162277",
   "metadata": {
    "scrolled": true
   },
   "outputs": [
    {
     "name": "stdout",
     "output_type": "stream",
     "text": [
      "Confusion matrix, without normalization\n",
      "[[7 2]\n",
      " [3 5]]\n",
      "Normalized confusion matrix\n",
      "[[0.77777778 0.22222222]\n",
      " [0.375      0.625     ]]\n"
     ]
    },
    {
     "data": {
      "image/png": "[encoded data removed]",
      "text/plain": [
       "<Figure size 432x288 with 2 Axes>"
      ]
     },
     "metadata": {
      "needs_background": "light"
     },
     "output_type": "display_data"
    },
    {
     "data": {
      "image/png": "[encoded data removed]",
      "text/plain": [
       "<Figure size 432x288 with 2 Axes>"
      ]
     },
     "metadata": {
      "needs_background": "light"
     },
     "output_type": "display_data"
    },
    {
     "name": "stdout",
     "output_type": "stream",
     "text": [
      "Accuracy score : 0.7058823529411765\n",
      "Mean accuracy of 5 fold cross validation test : 0.6941176470588235\n",
      "with a maximum accuracy of 0.8235294117647058\n",
      "Mean accuracy of 10 fold cross validation test : 0.7166666666666667\n",
      "with a maximum accuracy of 1.0\n",
      "Mean accuracy of n fold cross validation test : 0.7294117647058823\n",
      "with a maximum accuracy of 1.0\n",
      "Mean accuracy of n fold cross validation test : 0.6705882352941177\n",
      "with a maximum accuracy of 0.7647058823529411\n"
     ]
    }
   ],
   "source": [
    "classifer = bag_model = BaggingClassifier(\n",
    "base_estimator = DecisionTreeClassifier(),\n",
    "n_estimators = 5,\n",
    "max_samples = 0.7,\n",
    "oob_score=True,\n",
    ")\n",
    "testClassifier(classifier,X_train,X_test,y_train,y_test)"
   ]
  },
  {
   "cell_type": "code",
   "execution_count": 134,
   "id": "7724a783",
   "metadata": {},
   "outputs": [
    {
     "name": "stdout",
     "output_type": "stream",
     "text": [
      "Confusion matrix, without normalization\n",
      "[[6 3]\n",
      " [2 6]]\n",
      "Normalized confusion matrix\n",
      "[[0.66666667 0.33333333]\n",
      " [0.25       0.75      ]]\n"
     ]
    },
    {
     "data": {
      "image/png": "[encoded data removed]",
      "text/plain": [
       "<Figure size 432x288 with 2 Axes>"
      ]
     },
     "metadata": {
      "needs_background": "light"
     },
     "output_type": "display_data"
    },
    {
     "data": {
      "image/png": "[encoded data removed]",
      "text/plain": [
       "<Figure size 432x288 with 2 Axes>"
      ]
     },
     "metadata": {
      "needs_background": "light"
     },
     "output_type": "display_data"
    },
    {
     "name": "stdout",
     "output_type": "stream",
     "text": [
      "Accuracy score : 0.7058823529411765\n",
      "Mean accuracy of 5 fold cross validation test : 0.7176470588235294\n",
      "with a maximum accuracy of 0.8823529411764706\n",
      "Mean accuracy of 10 fold cross validation test : 0.6916666666666667\n",
      "with a maximum accuracy of 1.0\n",
      "Mean accuracy of n fold cross validation test : 0.6823529411764706\n",
      "with a maximum accuracy of 1.0\n",
      "Mean accuracy of n fold cross validation test : 0.6941176470588235\n",
      "with a maximum accuracy of 0.8235294117647058\n"
     ]
    }
   ],
   "source": [
    "from sklearn.discriminant_analysis import LinearDiscriminantAnalysis as LDA\n",
    "\n",
    "classifier = LDA(n_components=1)\n",
    "testClassifier(classifier,X_train,X_test,y_train,y_test)"
   ]
  },
  {
   "cell_type": "code",
   "execution_count": 135,
   "id": "fb03c2b3",
   "metadata": {
    "scrolled": false
   },
   "outputs": [
    {
     "name": "stdout",
     "output_type": "stream",
     "text": [
      "Confusion matrix, without normalization\n",
      "[[8 1]\n",
      " [2 6]]\n",
      "Normalized confusion matrix\n",
      "[[0.88888889 0.11111111]\n",
      " [0.25       0.75      ]]\n"
     ]
    },
    {
     "data": {
      "image/png": "[encoded data removed]",
      "text/plain": [
       "<Figure size 432x288 with 2 Axes>"
      ]
     },
     "metadata": {
      "needs_background": "light"
     },
     "output_type": "display_data"
    },
    {
     "data": {
      "image/png": "[encoded data removed]",
      "text/plain": [
       "<Figure size 432x288 with 2 Axes>"
      ]
     },
     "metadata": {
      "needs_background": "light"
     },
     "output_type": "display_data"
    },
    {
     "name": "stdout",
     "output_type": "stream",
     "text": [
      "Accuracy score : 0.8235294117647058\n",
      "Mean accuracy of 5 fold cross validation test : 0.6941176470588235\n",
      "with a maximum accuracy of 0.8235294117647058\n",
      "Mean accuracy of 10 fold cross validation test : 0.6847222222222222\n",
      "with a maximum accuracy of 1.0\n",
      "Mean accuracy of n fold cross validation test : 0.6588235294117647\n",
      "with a maximum accuracy of 1.0\n",
      "Mean accuracy of n fold cross validation test : 0.6352941176470589\n",
      "with a maximum accuracy of 0.8235294117647058\n"
     ]
    }
   ],
   "source": [
    "from sklearn.naive_bayes import GaussianNB\n",
    "classifier = GaussianNB()\n",
    "testClassifier(classifier,X_train,X_test,y_train,y_test)"
   ]
  },
  {
   "cell_type": "code",
   "execution_count": 136,
   "id": "4a2a18c0",
   "metadata": {
    "scrolled": true
   },
   "outputs": [
    {
     "name": "stdout",
     "output_type": "stream",
     "text": [
      "              precision    recall  f1-score   support\n",
      "\n",
      "           0       0.70      0.78      0.74         9\n",
      "           1       0.71      0.62      0.67         8\n",
      "\n",
      "    accuracy                           0.71        17\n",
      "   macro avg       0.71      0.70      0.70        17\n",
      "weighted avg       0.71      0.71      0.70        17\n",
      "\n",
      "Fitting 5 folds for each of 100 candidates, totalling 500 fits\n",
      "[CV 1/5] END ........C=0.1, gamma=1, kernel=rbf;, score=0.500 total time=   0.0s\n",
      "[CV 2/5] END ........C=0.1, gamma=1, kernel=rbf;, score=0.357 total time=   0.0s\n",
      "[CV 3/5] END ........C=0.1, gamma=1, kernel=rbf;, score=0.786 total time=   0.0s\n",
      "[CV 4/5] END ........C=0.1, gamma=1, kernel=rbf;, score=0.462 total time=   0.0s\n",
      "[CV 5/5] END ........C=0.1, gamma=1, kernel=rbf;, score=0.462 total time=   0.0s\n",
      "[CV 1/5] END .....C=0.1, gamma=1, kernel=linear;, score=0.714 total time=   0.0s\n",
      "[CV 2/5] END .....C=0.1, gamma=1, kernel=linear;, score=0.571 total time=   0.0s\n",
      "[CV 3/5] END .....C=0.1, gamma=1, kernel=linear;, score=0.786 total time=   0.0s\n",
      "[CV 4/5] END .....C=0.1, gamma=1, kernel=linear;, score=0.692 total time=   0.0s\n",
      "[CV 5/5] END .....C=0.1, gamma=1, kernel=linear;, score=0.615 total time=   0.0s\n",
      "[CV 1/5] END .......C=0.1, gamma=1, kernel=poly;, score=0.500 total time=   0.0s\n",
      "[CV 2/5] END .......C=0.1, gamma=1, kernel=poly;, score=0.500 total time=   0.0s\n",
      "[CV 3/5] END .......C=0.1, gamma=1, kernel=poly;, score=0.786 total time=   0.0s\n",
      "[CV 4/5] END .......C=0.1, gamma=1, kernel=poly;, score=0.615 total time=   0.0s\n",
      "[CV 5/5] END .......C=0.1, gamma=1, kernel=poly;, score=0.538 total time=   0.0s\n",
      "[CV 1/5] END ....C=0.1, gamma=1, kernel=sigmoid;, score=0.786 total time=   0.0s\n",
      "[CV 2/5] END ....C=0.1, gamma=1, kernel=sigmoid;, score=0.357 total time=   0.0s\n",
      "[CV 3/5] END ....C=0.1, gamma=1, kernel=sigmoid;, score=0.714 total time=   0.0s\n",
      "[CV 4/5] END ....C=0.1, gamma=1, kernel=sigmoid;, score=0.615 total time=   0.0s\n",
      "[CV 5/5] END ....C=0.1, gamma=1, kernel=sigmoid;, score=0.538 total time=   0.0s\n",
      "[CV 1/5] END ......C=0.1, gamma=0.1, kernel=rbf;, score=0.857 total time=   0.0s\n",
      "[CV 2/5] END ......C=0.1, gamma=0.1, kernel=rbf;, score=0.429 total time=   0.0s\n",
      "[CV 3/5] END ......C=0.1, gamma=0.1, kernel=rbf;, score=0.786 total time=   0.0s\n",
      "[CV 4/5] END ......C=0.1, gamma=0.1, kernel=rbf;, score=0.462 total time=   0.0s\n",
      "[CV 5/5] END ......C=0.1, gamma=0.1, kernel=rbf;, score=0.462 total time=   0.0s\n",
      "[CV 1/5] END ...C=0.1, gamma=0.1, kernel=linear;, score=0.714 total time=   0.0s\n",
      "[CV 2/5] END ...C=0.1, gamma=0.1, kernel=linear;, score=0.571 total time=   0.0s\n",
      "[CV 3/5] END ...C=0.1, gamma=0.1, kernel=linear;, score=0.786 total time=   0.0s\n",
      "[CV 4/5] END ...C=0.1, gamma=0.1, kernel=linear;, score=0.692 total time=   0.0s\n",
      "[CV 5/5] END ...C=0.1, gamma=0.1, kernel=linear;, score=0.615 total time=   0.0s\n",
      "[CV 1/5] END .....C=0.1, gamma=0.1, kernel=poly;, score=0.571 total time=   0.0s\n",
      "[CV 2/5] END .....C=0.1, gamma=0.1, kernel=poly;, score=0.500 total time=   0.0s\n",
      "[CV 3/5] END .....C=0.1, gamma=0.1, kernel=poly;, score=0.429 total time=   0.0s\n",
      "[CV 4/5] END .....C=0.1, gamma=0.1, kernel=poly;, score=0.462 total time=   0.0s\n",
      "[CV 5/5] END .....C=0.1, gamma=0.1, kernel=poly;, score=0.462 total time=   0.0s\n",
      "[CV 1/5] END ..C=0.1, gamma=0.1, kernel=sigmoid;, score=0.571 total time=   0.0s\n",
      "[CV 2/5] END ..C=0.1, gamma=0.1, kernel=sigmoid;, score=0.571 total time=   0.0s\n",
      "[CV 3/5] END ..C=0.1, gamma=0.1, kernel=sigmoid;, score=0.786 total time=   0.0s\n",
      "[CV 4/5] END ..C=0.1, gamma=0.1, kernel=sigmoid;, score=0.692 total time=   0.0s\n",
      "[CV 5/5] END ..C=0.1, gamma=0.1, kernel=sigmoid;, score=0.692 total time=   0.0s\n",
      "[CV 1/5] END .....C=0.1, gamma=0.01, kernel=rbf;, score=0.571 total time=   0.0s\n",
      "[CV 2/5] END .....C=0.1, gamma=0.01, kernel=rbf;, score=0.571 total time=   0.0s\n",
      "[CV 3/5] END .....C=0.1, gamma=0.01, kernel=rbf;, score=0.714 total time=   0.0s\n",
      "[CV 4/5] END .....C=0.1, gamma=0.01, kernel=rbf;, score=0.462 total time=   0.0s\n",
      "[CV 5/5] END .....C=0.1, gamma=0.01, kernel=rbf;, score=0.462 total time=   0.0s\n",
      "[CV 1/5] END ..C=0.1, gamma=0.01, kernel=linear;, score=0.714 total time=   0.0s\n",
      "[CV 2/5] END ..C=0.1, gamma=0.01, kernel=linear;, score=0.571 total time=   0.0s\n",
      "[CV 3/5] END ..C=0.1, gamma=0.01, kernel=linear;, score=0.786 total time=   0.0s\n",
      "[CV 4/5] END ..C=0.1, gamma=0.01, kernel=linear;, score=0.692 total time=   0.0s\n",
      "[CV 5/5] END ..C=0.1, gamma=0.01, kernel=linear;, score=0.615 total time=   0.0s\n",
      "[CV 1/5] END ....C=0.1, gamma=0.01, kernel=poly;, score=0.571 total time=   0.0s\n",
      "[CV 2/5] END ....C=0.1, gamma=0.01, kernel=poly;, score=0.500 total time=   0.0s\n",
      "[CV 3/5] END ....C=0.1, gamma=0.01, kernel=poly;, score=0.500 total time=   0.0s\n",
      "[CV 4/5] END ....C=0.1, gamma=0.01, kernel=poly;, score=0.462 total time=   0.0s\n",
      "[CV 5/5] END ....C=0.1, gamma=0.01, kernel=poly;, score=0.462 total time=   0.0s\n",
      "[CV 1/5] END .C=0.1, gamma=0.01, kernel=sigmoid;, score=0.571 total time=   0.0s\n",
      "[CV 2/5] END .C=0.1, gamma=0.01, kernel=sigmoid;, score=0.571 total time=   0.0s\n",
      "[CV 3/5] END .C=0.1, gamma=0.01, kernel=sigmoid;, score=0.643 total time=   0.0s\n",
      "[CV 4/5] END .C=0.1, gamma=0.01, kernel=sigmoid;, score=0.462 total time=   0.0s\n",
      "[CV 5/5] END .C=0.1, gamma=0.01, kernel=sigmoid;, score=0.462 total time=   0.0s\n",
      "[CV 1/5] END ....C=0.1, gamma=0.001, kernel=rbf;, score=0.571 total time=   0.0s\n",
      "[CV 2/5] END ....C=0.1, gamma=0.001, kernel=rbf;, score=0.571 total time=   0.0s\n",
      "[CV 3/5] END ....C=0.1, gamma=0.001, kernel=rbf;, score=0.643 total time=   0.0s\n",
      "[CV 4/5] END ....C=0.1, gamma=0.001, kernel=rbf;, score=0.462 total time=   0.0s\n",
      "[CV 5/5] END ....C=0.1, gamma=0.001, kernel=rbf;, score=0.462 total time=   0.0s\n",
      "[CV 1/5] END .C=0.1, gamma=0.001, kernel=linear;, score=0.714 total time=   0.0s\n",
      "[CV 2/5] END .C=0.1, gamma=0.001, kernel=linear;, score=0.571 total time=   0.0s\n",
      "[CV 3/5] END .C=0.1, gamma=0.001, kernel=linear;, score=0.786 total time=   0.0s\n",
      "[CV 4/5] END .C=0.1, gamma=0.001, kernel=linear;, score=0.692 total time=   0.0s\n",
      "[CV 5/5] END .C=0.1, gamma=0.001, kernel=linear;, score=0.615 total time=   0.0s\n",
      "[CV 1/5] END ...C=0.1, gamma=0.001, kernel=poly;, score=0.571 total time=   0.0s\n",
      "[CV 2/5] END ...C=0.1, gamma=0.001, kernel=poly;, score=0.500 total time=   0.0s\n",
      "[CV 3/5] END ...C=0.1, gamma=0.001, kernel=poly;, score=0.500 total time=   0.0s\n",
      "[CV 4/5] END ...C=0.1, gamma=0.001, kernel=poly;, score=0.462 total time=   0.0s\n",
      "[CV 5/5] END ...C=0.1, gamma=0.001, kernel=poly;, score=0.462 total time=   0.0s\n",
      "[CV 1/5] END C=0.1, gamma=0.001, kernel=sigmoid;, score=0.571 total time=   0.0s\n",
      "[CV 2/5] END C=0.1, gamma=0.001, kernel=sigmoid;, score=0.571 total time=   0.0s\n",
      "[CV 3/5] END C=0.1, gamma=0.001, kernel=sigmoid;, score=0.643 total time=   0.0s\n",
      "[CV 4/5] END C=0.1, gamma=0.001, kernel=sigmoid;, score=0.462 total time=   0.0s\n",
      "[CV 5/5] END C=0.1, gamma=0.001, kernel=sigmoid;, score=0.462 total time=   0.0s\n",
      "[CV 1/5] END ...C=0.1, gamma=0.0001, kernel=rbf;, score=0.571 total time=   0.0s\n",
      "[CV 2/5] END ...C=0.1, gamma=0.0001, kernel=rbf;, score=0.571 total time=   0.0s\n",
      "[CV 3/5] END ...C=0.1, gamma=0.0001, kernel=rbf;, score=0.643 total time=   0.0s\n",
      "[CV 4/5] END ...C=0.1, gamma=0.0001, kernel=rbf;, score=0.462 total time=   0.0s\n",
      "[CV 5/5] END ...C=0.1, gamma=0.0001, kernel=rbf;, score=0.462 total time=   0.0s\n",
      "[CV 1/5] END C=0.1, gamma=0.0001, kernel=linear;, score=0.714 total time=   0.0s\n",
      "[CV 2/5] END C=0.1, gamma=0.0001, kernel=linear;, score=0.571 total time=   0.0s\n",
      "[CV 3/5] END C=0.1, gamma=0.0001, kernel=linear;, score=0.786 total time=   0.0s\n",
      "[CV 4/5] END C=0.1, gamma=0.0001, kernel=linear;, score=0.692 total time=   0.0s\n",
      "[CV 5/5] END C=0.1, gamma=0.0001, kernel=linear;, score=0.615 total time=   0.0s\n",
      "[CV 1/5] END ..C=0.1, gamma=0.0001, kernel=poly;, score=0.571 total time=   0.0s\n",
      "[CV 2/5] END ..C=0.1, gamma=0.0001, kernel=poly;, score=0.500 total time=   0.0s\n",
      "[CV 3/5] END ..C=0.1, gamma=0.0001, kernel=poly;, score=0.500 total time=   0.0s\n",
      "[CV 4/5] END ..C=0.1, gamma=0.0001, kernel=poly;, score=0.462 total time=   0.0s\n",
      "[CV 5/5] END ..C=0.1, gamma=0.0001, kernel=poly;, score=0.462 total time=   0.0s\n",
      "[CV 1/5] END C=0.1, gamma=0.0001, kernel=sigmoid;, score=0.571 total time=   0.0s\n",
      "[CV 2/5] END C=0.1, gamma=0.0001, kernel=sigmoid;, score=0.571 total time=   0.0s\n",
      "[CV 3/5] END C=0.1, gamma=0.0001, kernel=sigmoid;, score=0.643 total time=   0.0s\n",
      "[CV 4/5] END C=0.1, gamma=0.0001, kernel=sigmoid;, score=0.462 total time=   0.0s\n",
      "[CV 5/5] END C=0.1, gamma=0.0001, kernel=sigmoid;, score=0.462 total time=   0.0s\n",
      "[CV 1/5] END ..........C=1, gamma=1, kernel=rbf;, score=0.571 total time=   0.0s\n",
      "[CV 2/5] END ..........C=1, gamma=1, kernel=rbf;, score=0.286 total time=   0.0s\n",
      "[CV 3/5] END ..........C=1, gamma=1, kernel=rbf;, score=0.857 total time=   0.0s\n",
      "[CV 4/5] END ..........C=1, gamma=1, kernel=rbf;, score=0.462 total time=   0.0s\n",
      "[CV 5/5] END ..........C=1, gamma=1, kernel=rbf;, score=0.308 total time=   0.0s\n",
      "[CV 1/5] END .......C=1, gamma=1, kernel=linear;, score=0.643 total time=   0.0s\n",
      "[CV 2/5] END .......C=1, gamma=1, kernel=linear;, score=0.429 total time=   0.0s\n",
      "[CV 3/5] END .......C=1, gamma=1, kernel=linear;, score=0.786 total time=   0.0s\n",
      "[CV 4/5] END .......C=1, gamma=1, kernel=linear;, score=0.692 total time=   0.0s\n",
      "[CV 5/5] END .......C=1, gamma=1, kernel=linear;, score=0.538 total time=   0.0s\n",
      "[CV 1/5] END .........C=1, gamma=1, kernel=poly;, score=0.500 total time=   0.0s\n",
      "[CV 2/5] END .........C=1, gamma=1, kernel=poly;, score=0.500 total time=   0.0s\n",
      "[CV 3/5] END .........C=1, gamma=1, kernel=poly;, score=0.714 total time=   0.0s\n",
      "[CV 4/5] END .........C=1, gamma=1, kernel=poly;, score=0.615 total time=   0.0s\n",
      "[CV 5/5] END .........C=1, gamma=1, kernel=poly;, score=0.692 total time=   0.0s\n",
      "[CV 1/5] END ......C=1, gamma=1, kernel=sigmoid;, score=0.857 total time=   0.0s\n",
      "[CV 2/5] END ......C=1, gamma=1, kernel=sigmoid;, score=0.571 total time=   0.0s\n",
      "[CV 3/5] END ......C=1, gamma=1, kernel=sigmoid;, score=0.714 total time=   0.0s\n",
      "[CV 4/5] END ......C=1, gamma=1, kernel=sigmoid;, score=0.615 total time=   0.0s\n",
      "[CV 5/5] END ......C=1, gamma=1, kernel=sigmoid;, score=0.538 total time=   0.0s\n",
      "[CV 1/5] END ........C=1, gamma=0.1, kernel=rbf;, score=0.643 total time=   0.0s\n",
      "[CV 2/5] END ........C=1, gamma=0.1, kernel=rbf;, score=0.571 total time=   0.0s\n",
      "[CV 3/5] END ........C=1, gamma=0.1, kernel=rbf;, score=0.786 total time=   0.0s\n",
      "[CV 4/5] END ........C=1, gamma=0.1, kernel=rbf;, score=0.692 total time=   0.0s\n",
      "[CV 5/5] END ........C=1, gamma=0.1, kernel=rbf;, score=0.615 total time=   0.0s\n",
      "[CV 1/5] END .....C=1, gamma=0.1, kernel=linear;, score=0.643 total time=   0.0s\n",
      "[CV 2/5] END .....C=1, gamma=0.1, kernel=linear;, score=0.429 total time=   0.0s\n",
      "[CV 3/5] END .....C=1, gamma=0.1, kernel=linear;, score=0.786 total time=   0.0s\n",
      "[CV 4/5] END .....C=1, gamma=0.1, kernel=linear;, score=0.692 total time=   0.0s\n",
      "[CV 5/5] END .....C=1, gamma=0.1, kernel=linear;, score=0.538 total time=   0.0s\n",
      "[CV 1/5] END .......C=1, gamma=0.1, kernel=poly;, score=0.571 total time=   0.0s\n"
     ]
    },
    {
     "name": "stdout",
     "output_type": "stream",
     "text": [
      "[CV 2/5] END .......C=1, gamma=0.1, kernel=poly;, score=0.643 total time=   0.0s\n",
      "[CV 3/5] END .......C=1, gamma=0.1, kernel=poly;, score=0.500 total time=   0.0s\n",
      "[CV 4/5] END .......C=1, gamma=0.1, kernel=poly;, score=0.615 total time=   0.0s\n",
      "[CV 5/5] END .......C=1, gamma=0.1, kernel=poly;, score=0.615 total time=   0.0s\n",
      "[CV 1/5] END ....C=1, gamma=0.1, kernel=sigmoid;, score=0.786 total time=   0.0s\n",
      "[CV 2/5] END ....C=1, gamma=0.1, kernel=sigmoid;, score=0.500 total time=   0.0s\n",
      "[CV 3/5] END ....C=1, gamma=0.1, kernel=sigmoid;, score=0.786 total time=   0.0s\n",
      "[CV 4/5] END ....C=1, gamma=0.1, kernel=sigmoid;, score=0.692 total time=   0.0s\n",
      "[CV 5/5] END ....C=1, gamma=0.1, kernel=sigmoid;, score=0.538 total time=   0.0s\n",
      "[CV 1/5] END .......C=1, gamma=0.01, kernel=rbf;, score=0.643 total time=   0.0s\n",
      "[CV 2/5] END .......C=1, gamma=0.01, kernel=rbf;, score=0.500 total time=   0.0s\n",
      "[CV 3/5] END .......C=1, gamma=0.01, kernel=rbf;, score=0.786 total time=   0.0s\n",
      "[CV 4/5] END .......C=1, gamma=0.01, kernel=rbf;, score=0.692 total time=   0.0s\n",
      "[CV 5/5] END .......C=1, gamma=0.01, kernel=rbf;, score=0.615 total time=   0.0s\n",
      "[CV 1/5] END ....C=1, gamma=0.01, kernel=linear;, score=0.643 total time=   0.0s\n",
      "[CV 2/5] END ....C=1, gamma=0.01, kernel=linear;, score=0.429 total time=   0.0s\n",
      "[CV 3/5] END ....C=1, gamma=0.01, kernel=linear;, score=0.786 total time=   0.0s\n",
      "[CV 4/5] END ....C=1, gamma=0.01, kernel=linear;, score=0.692 total time=   0.0s\n",
      "[CV 5/5] END ....C=1, gamma=0.01, kernel=linear;, score=0.538 total time=   0.0s\n",
      "[CV 1/5] END ......C=1, gamma=0.01, kernel=poly;, score=0.571 total time=   0.0s\n",
      "[CV 2/5] END ......C=1, gamma=0.01, kernel=poly;, score=0.500 total time=   0.0s\n",
      "[CV 3/5] END ......C=1, gamma=0.01, kernel=poly;, score=0.500 total time=   0.0s\n",
      "[CV 4/5] END ......C=1, gamma=0.01, kernel=poly;, score=0.462 total time=   0.0s\n",
      "[CV 5/5] END ......C=1, gamma=0.01, kernel=poly;, score=0.462 total time=   0.0s\n",
      "[CV 1/5] END ...C=1, gamma=0.01, kernel=sigmoid;, score=0.643 total time=   0.0s\n",
      "[CV 2/5] END ...C=1, gamma=0.01, kernel=sigmoid;, score=0.571 total time=   0.0s\n",
      "[CV 3/5] END ...C=1, gamma=0.01, kernel=sigmoid;, score=0.643 total time=   0.0s\n",
      "[CV 4/5] END ...C=1, gamma=0.01, kernel=sigmoid;, score=0.692 total time=   0.0s\n",
      "[CV 5/5] END ...C=1, gamma=0.01, kernel=sigmoid;, score=0.615 total time=   0.0s\n",
      "[CV 1/5] END ......C=1, gamma=0.001, kernel=rbf;, score=0.571 total time=   0.0s\n",
      "[CV 2/5] END ......C=1, gamma=0.001, kernel=rbf;, score=0.571 total time=   0.0s\n",
      "[CV 3/5] END ......C=1, gamma=0.001, kernel=rbf;, score=0.643 total time=   0.0s\n",
      "[CV 4/5] END ......C=1, gamma=0.001, kernel=rbf;, score=0.462 total time=   0.0s\n",
      "[CV 5/5] END ......C=1, gamma=0.001, kernel=rbf;, score=0.462 total time=   0.0s\n",
      "[CV 1/5] END ...C=1, gamma=0.001, kernel=linear;, score=0.643 total time=   0.0s\n",
      "[CV 2/5] END ...C=1, gamma=0.001, kernel=linear;, score=0.429 total time=   0.0s\n",
      "[CV 3/5] END ...C=1, gamma=0.001, kernel=linear;, score=0.786 total time=   0.0s\n",
      "[CV 4/5] END ...C=1, gamma=0.001, kernel=linear;, score=0.692 total time=   0.0s\n",
      "[CV 5/5] END ...C=1, gamma=0.001, kernel=linear;, score=0.538 total time=   0.0s\n",
      "[CV 1/5] END .....C=1, gamma=0.001, kernel=poly;, score=0.571 total time=   0.0s\n",
      "[CV 2/5] END .....C=1, gamma=0.001, kernel=poly;, score=0.500 total time=   0.0s\n",
      "[CV 3/5] END .....C=1, gamma=0.001, kernel=poly;, score=0.500 total time=   0.0s\n",
      "[CV 4/5] END .....C=1, gamma=0.001, kernel=poly;, score=0.462 total time=   0.0s\n",
      "[CV 5/5] END .....C=1, gamma=0.001, kernel=poly;, score=0.462 total time=   0.0s\n",
      "[CV 1/5] END ..C=1, gamma=0.001, kernel=sigmoid;, score=0.571 total time=   0.0s\n",
      "[CV 2/5] END ..C=1, gamma=0.001, kernel=sigmoid;, score=0.571 total time=   0.0s\n",
      "[CV 3/5] END ..C=1, gamma=0.001, kernel=sigmoid;, score=0.643 total time=   0.0s\n",
      "[CV 4/5] END ..C=1, gamma=0.001, kernel=sigmoid;, score=0.462 total time=   0.0s\n",
      "[CV 5/5] END ..C=1, gamma=0.001, kernel=sigmoid;, score=0.462 total time=   0.0s\n",
      "[CV 1/5] END .....C=1, gamma=0.0001, kernel=rbf;, score=0.571 total time=   0.0s\n",
      "[CV 2/5] END .....C=1, gamma=0.0001, kernel=rbf;, score=0.571 total time=   0.0s\n",
      "[CV 3/5] END .....C=1, gamma=0.0001, kernel=rbf;, score=0.643 total time=   0.0s\n",
      "[CV 4/5] END .....C=1, gamma=0.0001, kernel=rbf;, score=0.462 total time=   0.0s\n",
      "[CV 5/5] END .....C=1, gamma=0.0001, kernel=rbf;, score=0.462 total time=   0.0s\n",
      "[CV 1/5] END ..C=1, gamma=0.0001, kernel=linear;, score=0.643 total time=   0.0s\n",
      "[CV 2/5] END ..C=1, gamma=0.0001, kernel=linear;, score=0.429 total time=   0.0s\n",
      "[CV 3/5] END ..C=1, gamma=0.0001, kernel=linear;, score=0.786 total time=   0.0s\n",
      "[CV 4/5] END ..C=1, gamma=0.0001, kernel=linear;, score=0.692 total time=   0.0s\n",
      "[CV 5/5] END ..C=1, gamma=0.0001, kernel=linear;, score=0.538 total time=   0.0s\n",
      "[CV 1/5] END ....C=1, gamma=0.0001, kernel=poly;, score=0.571 total time=   0.0s\n",
      "[CV 2/5] END ....C=1, gamma=0.0001, kernel=poly;, score=0.500 total time=   0.0s\n",
      "[CV 3/5] END ....C=1, gamma=0.0001, kernel=poly;, score=0.500 total time=   0.0s\n",
      "[CV 4/5] END ....C=1, gamma=0.0001, kernel=poly;, score=0.462 total time=   0.0s\n",
      "[CV 5/5] END ....C=1, gamma=0.0001, kernel=poly;, score=0.462 total time=   0.0s\n",
      "[CV 1/5] END .C=1, gamma=0.0001, kernel=sigmoid;, score=0.571 total time=   0.0s\n",
      "[CV 2/5] END .C=1, gamma=0.0001, kernel=sigmoid;, score=0.571 total time=   0.0s\n",
      "[CV 3/5] END .C=1, gamma=0.0001, kernel=sigmoid;, score=0.643 total time=   0.0s\n",
      "[CV 4/5] END .C=1, gamma=0.0001, kernel=sigmoid;, score=0.462 total time=   0.0s\n",
      "[CV 5/5] END .C=1, gamma=0.0001, kernel=sigmoid;, score=0.462 total time=   0.0s\n",
      "[CV 1/5] END .........C=10, gamma=1, kernel=rbf;, score=0.500 total time=   0.0s\n",
      "[CV 2/5] END .........C=10, gamma=1, kernel=rbf;, score=0.286 total time=   0.0s\n",
      "[CV 3/5] END .........C=10, gamma=1, kernel=rbf;, score=0.786 total time=   0.0s\n",
      "[CV 4/5] END .........C=10, gamma=1, kernel=rbf;, score=0.692 total time=   0.0s\n",
      "[CV 5/5] END .........C=10, gamma=1, kernel=rbf;, score=0.385 total time=   0.0s\n",
      "[CV 1/5] END ......C=10, gamma=1, kernel=linear;, score=0.571 total time=   0.0s\n",
      "[CV 2/5] END ......C=10, gamma=1, kernel=linear;, score=0.500 total time=   0.0s\n",
      "[CV 3/5] END ......C=10, gamma=1, kernel=linear;, score=0.786 total time=   0.0s\n",
      "[CV 4/5] END ......C=10, gamma=1, kernel=linear;, score=0.692 total time=   0.0s\n",
      "[CV 5/5] END ......C=10, gamma=1, kernel=linear;, score=0.538 total time=   0.0s\n",
      "[CV 1/5] END ........C=10, gamma=1, kernel=poly;, score=0.500 total time=   0.0s\n",
      "[CV 2/5] END ........C=10, gamma=1, kernel=poly;, score=0.500 total time=   0.0s\n",
      "[CV 3/5] END ........C=10, gamma=1, kernel=poly;, score=0.643 total time=   0.0s\n",
      "[CV 4/5] END ........C=10, gamma=1, kernel=poly;, score=0.769 total time=   0.0s\n",
      "[CV 5/5] END ........C=10, gamma=1, kernel=poly;, score=0.692 total time=   0.0s\n",
      "[CV 1/5] END .....C=10, gamma=1, kernel=sigmoid;, score=0.786 total time=   0.0s\n",
      "[CV 2/5] END .....C=10, gamma=1, kernel=sigmoid;, score=0.643 total time=   0.0s\n",
      "[CV 3/5] END .....C=10, gamma=1, kernel=sigmoid;, score=0.571 total time=   0.0s\n",
      "[CV 4/5] END .....C=10, gamma=1, kernel=sigmoid;, score=0.538 total time=   0.0s\n",
      "[CV 5/5] END .....C=10, gamma=1, kernel=sigmoid;, score=0.615 total time=   0.0s\n",
      "[CV 1/5] END .......C=10, gamma=0.1, kernel=rbf;, score=0.571 total time=   0.0s\n",
      "[CV 2/5] END .......C=10, gamma=0.1, kernel=rbf;, score=0.571 total time=   0.0s\n",
      "[CV 3/5] END .......C=10, gamma=0.1, kernel=rbf;, score=0.857 total time=   0.0s\n",
      "[CV 4/5] END .......C=10, gamma=0.1, kernel=rbf;, score=0.615 total time=   0.0s\n",
      "[CV 5/5] END .......C=10, gamma=0.1, kernel=rbf;, score=0.692 total time=   0.0s\n",
      "[CV 1/5] END ....C=10, gamma=0.1, kernel=linear;, score=0.571 total time=   0.0s\n",
      "[CV 2/5] END ....C=10, gamma=0.1, kernel=linear;, score=0.500 total time=   0.0s\n",
      "[CV 3/5] END ....C=10, gamma=0.1, kernel=linear;, score=0.786 total time=   0.0s\n",
      "[CV 4/5] END ....C=10, gamma=0.1, kernel=linear;, score=0.692 total time=   0.0s\n",
      "[CV 5/5] END ....C=10, gamma=0.1, kernel=linear;, score=0.538 total time=   0.0s\n",
      "[CV 1/5] END ......C=10, gamma=0.1, kernel=poly;, score=0.643 total time=   0.0s\n",
      "[CV 2/5] END ......C=10, gamma=0.1, kernel=poly;, score=0.643 total time=   0.0s\n",
      "[CV 3/5] END ......C=10, gamma=0.1, kernel=poly;, score=0.714 total time=   0.0s\n",
      "[CV 4/5] END ......C=10, gamma=0.1, kernel=poly;, score=0.615 total time=   0.0s\n",
      "[CV 5/5] END ......C=10, gamma=0.1, kernel=poly;, score=0.538 total time=   0.0s\n",
      "[CV 1/5] END ...C=10, gamma=0.1, kernel=sigmoid;, score=0.643 total time=   0.0s\n",
      "[CV 2/5] END ...C=10, gamma=0.1, kernel=sigmoid;, score=0.571 total time=   0.0s\n",
      "[CV 3/5] END ...C=10, gamma=0.1, kernel=sigmoid;, score=0.857 total time=   0.0s\n",
      "[CV 4/5] END ...C=10, gamma=0.1, kernel=sigmoid;, score=0.538 total time=   0.0s\n",
      "[CV 5/5] END ...C=10, gamma=0.1, kernel=sigmoid;, score=0.692 total time=   0.0s\n",
      "[CV 1/5] END ......C=10, gamma=0.01, kernel=rbf;, score=0.714 total time=   0.0s\n",
      "[CV 2/5] END ......C=10, gamma=0.01, kernel=rbf;, score=0.571 total time=   0.0s\n",
      "[CV 3/5] END ......C=10, gamma=0.01, kernel=rbf;, score=0.786 total time=   0.0s\n",
      "[CV 4/5] END ......C=10, gamma=0.01, kernel=rbf;, score=0.615 total time=   0.0s\n",
      "[CV 5/5] END ......C=10, gamma=0.01, kernel=rbf;, score=0.615 total time=   0.0s\n",
      "[CV 1/5] END ...C=10, gamma=0.01, kernel=linear;, score=0.571 total time=   0.0s\n",
      "[CV 2/5] END ...C=10, gamma=0.01, kernel=linear;, score=0.500 total time=   0.0s\n",
      "[CV 3/5] END ...C=10, gamma=0.01, kernel=linear;, score=0.786 total time=   0.0s\n",
      "[CV 4/5] END ...C=10, gamma=0.01, kernel=linear;, score=0.692 total time=   0.0s\n",
      "[CV 5/5] END ...C=10, gamma=0.01, kernel=linear;, score=0.538 total time=   0.0s\n",
      "[CV 1/5] END .....C=10, gamma=0.01, kernel=poly;, score=0.571 total time=   0.0s\n",
      "[CV 2/5] END .....C=10, gamma=0.01, kernel=poly;, score=0.500 total time=   0.0s\n",
      "[CV 3/5] END .....C=10, gamma=0.01, kernel=poly;, score=0.500 total time=   0.0s\n",
      "[CV 4/5] END .....C=10, gamma=0.01, kernel=poly;, score=0.462 total time=   0.0s\n",
      "[CV 5/5] END .....C=10, gamma=0.01, kernel=poly;, score=0.462 total time=   0.0s\n",
      "[CV 1/5] END ..C=10, gamma=0.01, kernel=sigmoid;, score=0.714 total time=   0.0s\n",
      "[CV 2/5] END ..C=10, gamma=0.01, kernel=sigmoid;, score=0.571 total time=   0.0s\n",
      "[CV 3/5] END ..C=10, gamma=0.01, kernel=sigmoid;, score=0.786 total time=   0.0s\n",
      "[CV 4/5] END ..C=10, gamma=0.01, kernel=sigmoid;, score=0.692 total time=   0.0s\n",
      "[CV 5/5] END ..C=10, gamma=0.01, kernel=sigmoid;, score=0.615 total time=   0.0s\n",
      "[CV 1/5] END .....C=10, gamma=0.001, kernel=rbf;, score=0.643 total time=   0.0s\n",
      "[CV 2/5] END .....C=10, gamma=0.001, kernel=rbf;, score=0.500 total time=   0.0s\n",
      "[CV 3/5] END .....C=10, gamma=0.001, kernel=rbf;, score=0.714 total time=   0.0s\n",
      "[CV 4/5] END .....C=10, gamma=0.001, kernel=rbf;, score=0.692 total time=   0.0s\n",
      "[CV 5/5] END .....C=10, gamma=0.001, kernel=rbf;, score=0.615 total time=   0.0s\n",
      "[CV 1/5] END ..C=10, gamma=0.001, kernel=linear;, score=0.571 total time=   0.0s\n",
      "[CV 2/5] END ..C=10, gamma=0.001, kernel=linear;, score=0.500 total time=   0.0s\n",
      "[CV 3/5] END ..C=10, gamma=0.001, kernel=linear;, score=0.786 total time=   0.0s\n",
      "[CV 4/5] END ..C=10, gamma=0.001, kernel=linear;, score=0.692 total time=   0.0s\n",
      "[CV 5/5] END ..C=10, gamma=0.001, kernel=linear;, score=0.538 total time=   0.0s\n",
      "[CV 1/5] END ....C=10, gamma=0.001, kernel=poly;, score=0.571 total time=   0.0s\n",
      "[CV 2/5] END ....C=10, gamma=0.001, kernel=poly;, score=0.500 total time=   0.0s\n",
      "[CV 3/5] END ....C=10, gamma=0.001, kernel=poly;, score=0.500 total time=   0.0s\n",
      "[CV 4/5] END ....C=10, gamma=0.001, kernel=poly;, score=0.462 total time=   0.0s\n",
      "[CV 5/5] END ....C=10, gamma=0.001, kernel=poly;, score=0.462 total time=   0.0s\n",
      "[CV 1/5] END .C=10, gamma=0.001, kernel=sigmoid;, score=0.643 total time=   0.0s\n",
      "[CV 2/5] END .C=10, gamma=0.001, kernel=sigmoid;, score=0.571 total time=   0.0s\n",
      "[CV 3/5] END .C=10, gamma=0.001, kernel=sigmoid;, score=0.643 total time=   0.0s\n",
      "[CV 4/5] END .C=10, gamma=0.001, kernel=sigmoid;, score=0.692 total time=   0.0s\n",
      "[CV 5/5] END .C=10, gamma=0.001, kernel=sigmoid;, score=0.615 total time=   0.0s\n",
      "[CV 1/5] END ....C=10, gamma=0.0001, kernel=rbf;, score=0.571 total time=   0.0s\n",
      "[CV 2/5] END ....C=10, gamma=0.0001, kernel=rbf;, score=0.571 total time=   0.0s\n",
      "[CV 3/5] END ....C=10, gamma=0.0001, kernel=rbf;, score=0.643 total time=   0.0s\n",
      "[CV 4/5] END ....C=10, gamma=0.0001, kernel=rbf;, score=0.462 total time=   0.0s\n",
      "[CV 5/5] END ....C=10, gamma=0.0001, kernel=rbf;, score=0.462 total time=   0.0s\n",
      "[CV 1/5] END .C=10, gamma=0.0001, kernel=linear;, score=0.571 total time=   0.0s\n",
      "[CV 2/5] END .C=10, gamma=0.0001, kernel=linear;, score=0.500 total time=   0.0s\n",
      "[CV 3/5] END .C=10, gamma=0.0001, kernel=linear;, score=0.786 total time=   0.0s\n",
      "[CV 4/5] END .C=10, gamma=0.0001, kernel=linear;, score=0.692 total time=   0.0s\n",
      "[CV 5/5] END .C=10, gamma=0.0001, kernel=linear;, score=0.538 total time=   0.0s\n",
      "[CV 1/5] END ...C=10, gamma=0.0001, kernel=poly;, score=0.571 total time=   0.0s\n",
      "[CV 2/5] END ...C=10, gamma=0.0001, kernel=poly;, score=0.500 total time=   0.0s\n",
      "[CV 3/5] END ...C=10, gamma=0.0001, kernel=poly;, score=0.500 total time=   0.0s\n",
      "[CV 4/5] END ...C=10, gamma=0.0001, kernel=poly;, score=0.462 total time=   0.0s\n",
      "[CV 5/5] END ...C=10, gamma=0.0001, kernel=poly;, score=0.462 total time=   0.0s\n",
      "[CV 1/5] END C=10, gamma=0.0001, kernel=sigmoid;, score=0.571 total time=   0.0s\n",
      "[CV 2/5] END C=10, gamma=0.0001, kernel=sigmoid;, score=0.571 total time=   0.0s\n",
      "[CV 3/5] END C=10, gamma=0.0001, kernel=sigmoid;, score=0.643 total time=   0.0s\n",
      "[CV 4/5] END C=10, gamma=0.0001, kernel=sigmoid;, score=0.462 total time=   0.0s\n",
      "[CV 5/5] END C=10, gamma=0.0001, kernel=sigmoid;, score=0.462 total time=   0.0s\n"
     ]
    },
    {
     "name": "stdout",
     "output_type": "stream",
     "text": [
      "[CV 1/5] END ........C=100, gamma=1, kernel=rbf;, score=0.500 total time=   0.0s\n",
      "[CV 2/5] END ........C=100, gamma=1, kernel=rbf;, score=0.286 total time=   0.0s\n",
      "[CV 3/5] END ........C=100, gamma=1, kernel=rbf;, score=0.786 total time=   0.0s\n",
      "[CV 4/5] END ........C=100, gamma=1, kernel=rbf;, score=0.692 total time=   0.0s\n",
      "[CV 5/5] END ........C=100, gamma=1, kernel=rbf;, score=0.385 total time=   0.0s\n",
      "[CV 1/5] END .....C=100, gamma=1, kernel=linear;, score=0.571 total time=   0.0s\n",
      "[CV 2/5] END .....C=100, gamma=1, kernel=linear;, score=0.500 total time=   0.0s\n",
      "[CV 3/5] END .....C=100, gamma=1, kernel=linear;, score=0.786 total time=   0.0s\n",
      "[CV 4/5] END .....C=100, gamma=1, kernel=linear;, score=0.692 total time=   0.0s\n",
      "[CV 5/5] END .....C=100, gamma=1, kernel=linear;, score=0.538 total time=   0.0s\n",
      "[CV 1/5] END .......C=100, gamma=1, kernel=poly;, score=0.500 total time=   0.0s\n",
      "[CV 2/5] END .......C=100, gamma=1, kernel=poly;, score=0.500 total time=   0.0s\n",
      "[CV 3/5] END .......C=100, gamma=1, kernel=poly;, score=0.643 total time=   0.0s\n",
      "[CV 4/5] END .......C=100, gamma=1, kernel=poly;, score=0.769 total time=   0.0s\n",
      "[CV 5/5] END .......C=100, gamma=1, kernel=poly;, score=0.692 total time=   0.0s\n",
      "[CV 1/5] END ....C=100, gamma=1, kernel=sigmoid;, score=0.786 total time=   0.0s\n",
      "[CV 2/5] END ....C=100, gamma=1, kernel=sigmoid;, score=0.571 total time=   0.0s\n",
      "[CV 3/5] END ....C=100, gamma=1, kernel=sigmoid;, score=0.571 total time=   0.0s\n",
      "[CV 4/5] END ....C=100, gamma=1, kernel=sigmoid;, score=0.769 total time=   0.0s\n",
      "[CV 5/5] END ....C=100, gamma=1, kernel=sigmoid;, score=0.538 total time=   0.0s\n",
      "[CV 1/5] END ......C=100, gamma=0.1, kernel=rbf;, score=0.500 total time=   0.0s\n",
      "[CV 2/5] END ......C=100, gamma=0.1, kernel=rbf;, score=0.643 total time=   0.0s\n",
      "[CV 3/5] END ......C=100, gamma=0.1, kernel=rbf;, score=0.857 total time=   0.0s\n",
      "[CV 4/5] END ......C=100, gamma=0.1, kernel=rbf;, score=0.538 total time=   0.0s\n",
      "[CV 5/5] END ......C=100, gamma=0.1, kernel=rbf;, score=0.538 total time=   0.0s\n",
      "[CV 1/5] END ...C=100, gamma=0.1, kernel=linear;, score=0.571 total time=   0.0s\n",
      "[CV 2/5] END ...C=100, gamma=0.1, kernel=linear;, score=0.500 total time=   0.0s\n",
      "[CV 3/5] END ...C=100, gamma=0.1, kernel=linear;, score=0.786 total time=   0.0s\n",
      "[CV 4/5] END ...C=100, gamma=0.1, kernel=linear;, score=0.692 total time=   0.0s\n",
      "[CV 5/5] END ...C=100, gamma=0.1, kernel=linear;, score=0.538 total time=   0.0s\n",
      "[CV 1/5] END .....C=100, gamma=0.1, kernel=poly;, score=0.500 total time=   0.0s\n",
      "[CV 2/5] END .....C=100, gamma=0.1, kernel=poly;, score=0.500 total time=   0.0s\n",
      "[CV 3/5] END .....C=100, gamma=0.1, kernel=poly;, score=0.786 total time=   0.0s\n",
      "[CV 4/5] END .....C=100, gamma=0.1, kernel=poly;, score=0.615 total time=   0.0s\n",
      "[CV 5/5] END .....C=100, gamma=0.1, kernel=poly;, score=0.538 total time=   0.0s\n",
      "[CV 1/5] END ..C=100, gamma=0.1, kernel=sigmoid;, score=0.500 total time=   0.0s\n",
      "[CV 2/5] END ..C=100, gamma=0.1, kernel=sigmoid;, score=0.643 total time=   0.0s\n",
      "[CV 3/5] END ..C=100, gamma=0.1, kernel=sigmoid;, score=0.714 total time=   0.0s\n",
      "[CV 4/5] END ..C=100, gamma=0.1, kernel=sigmoid;, score=0.462 total time=   0.0s\n",
      "[CV 5/5] END ..C=100, gamma=0.1, kernel=sigmoid;, score=0.692 total time=   0.0s\n",
      "[CV 1/5] END .....C=100, gamma=0.01, kernel=rbf;, score=0.643 total time=   0.0s\n",
      "[CV 2/5] END .....C=100, gamma=0.01, kernel=rbf;, score=0.357 total time=   0.0s\n",
      "[CV 3/5] END .....C=100, gamma=0.01, kernel=rbf;, score=0.857 total time=   0.0s\n",
      "[CV 4/5] END .....C=100, gamma=0.01, kernel=rbf;, score=0.615 total time=   0.0s\n",
      "[CV 5/5] END .....C=100, gamma=0.01, kernel=rbf;, score=0.692 total time=   0.0s\n",
      "[CV 1/5] END ..C=100, gamma=0.01, kernel=linear;, score=0.571 total time=   0.0s\n",
      "[CV 2/5] END ..C=100, gamma=0.01, kernel=linear;, score=0.500 total time=   0.0s\n",
      "[CV 3/5] END ..C=100, gamma=0.01, kernel=linear;, score=0.786 total time=   0.0s\n",
      "[CV 4/5] END ..C=100, gamma=0.01, kernel=linear;, score=0.692 total time=   0.0s\n",
      "[CV 5/5] END ..C=100, gamma=0.01, kernel=linear;, score=0.538 total time=   0.0s\n",
      "[CV 1/5] END ....C=100, gamma=0.01, kernel=poly;, score=0.571 total time=   0.0s\n",
      "[CV 2/5] END ....C=100, gamma=0.01, kernel=poly;, score=0.500 total time=   0.0s\n",
      "[CV 3/5] END ....C=100, gamma=0.01, kernel=poly;, score=0.429 total time=   0.0s\n",
      "[CV 4/5] END ....C=100, gamma=0.01, kernel=poly;, score=0.462 total time=   0.0s\n",
      "[CV 5/5] END ....C=100, gamma=0.01, kernel=poly;, score=0.462 total time=   0.0s\n",
      "[CV 1/5] END .C=100, gamma=0.01, kernel=sigmoid;, score=0.643 total time=   0.0s\n",
      "[CV 2/5] END .C=100, gamma=0.01, kernel=sigmoid;, score=0.429 total time=   0.0s\n",
      "[CV 3/5] END .C=100, gamma=0.01, kernel=sigmoid;, score=0.857 total time=   0.0s\n",
      "[CV 4/5] END .C=100, gamma=0.01, kernel=sigmoid;, score=0.692 total time=   0.0s\n",
      "[CV 5/5] END .C=100, gamma=0.01, kernel=sigmoid;, score=0.538 total time=   0.0s\n",
      "[CV 1/5] END ....C=100, gamma=0.001, kernel=rbf;, score=0.643 total time=   0.0s\n",
      "[CV 2/5] END ....C=100, gamma=0.001, kernel=rbf;, score=0.571 total time=   0.0s\n",
      "[CV 3/5] END ....C=100, gamma=0.001, kernel=rbf;, score=0.786 total time=   0.0s\n",
      "[CV 4/5] END ....C=100, gamma=0.001, kernel=rbf;, score=0.692 total time=   0.0s\n",
      "[CV 5/5] END ....C=100, gamma=0.001, kernel=rbf;, score=0.615 total time=   0.0s\n",
      "[CV 1/5] END .C=100, gamma=0.001, kernel=linear;, score=0.571 total time=   0.0s\n",
      "[CV 2/5] END .C=100, gamma=0.001, kernel=linear;, score=0.500 total time=   0.0s\n",
      "[CV 3/5] END .C=100, gamma=0.001, kernel=linear;, score=0.786 total time=   0.0s\n",
      "[CV 4/5] END .C=100, gamma=0.001, kernel=linear;, score=0.692 total time=   0.0s\n",
      "[CV 5/5] END .C=100, gamma=0.001, kernel=linear;, score=0.538 total time=   0.0s\n",
      "[CV 1/5] END ...C=100, gamma=0.001, kernel=poly;, score=0.571 total time=   0.0s\n",
      "[CV 2/5] END ...C=100, gamma=0.001, kernel=poly;, score=0.500 total time=   0.0s\n",
      "[CV 3/5] END ...C=100, gamma=0.001, kernel=poly;, score=0.500 total time=   0.0s\n",
      "[CV 4/5] END ...C=100, gamma=0.001, kernel=poly;, score=0.462 total time=   0.0s\n",
      "[CV 5/5] END ...C=100, gamma=0.001, kernel=poly;, score=0.462 total time=   0.0s\n",
      "[CV 1/5] END C=100, gamma=0.001, kernel=sigmoid;, score=0.714 total time=   0.0s\n",
      "[CV 2/5] END C=100, gamma=0.001, kernel=sigmoid;, score=0.571 total time=   0.0s\n",
      "[CV 3/5] END C=100, gamma=0.001, kernel=sigmoid;, score=0.786 total time=   0.0s\n",
      "[CV 4/5] END C=100, gamma=0.001, kernel=sigmoid;, score=0.692 total time=   0.0s\n",
      "[CV 5/5] END C=100, gamma=0.001, kernel=sigmoid;, score=0.615 total time=   0.0s\n",
      "[CV 1/5] END ...C=100, gamma=0.0001, kernel=rbf;, score=0.643 total time=   0.0s\n",
      "[CV 2/5] END ...C=100, gamma=0.0001, kernel=rbf;, score=0.500 total time=   0.0s\n",
      "[CV 3/5] END ...C=100, gamma=0.0001, kernel=rbf;, score=0.714 total time=   0.0s\n",
      "[CV 4/5] END ...C=100, gamma=0.0001, kernel=rbf;, score=0.692 total time=   0.0s\n",
      "[CV 5/5] END ...C=100, gamma=0.0001, kernel=rbf;, score=0.615 total time=   0.0s\n",
      "[CV 1/5] END C=100, gamma=0.0001, kernel=linear;, score=0.571 total time=   0.0s\n",
      "[CV 2/5] END C=100, gamma=0.0001, kernel=linear;, score=0.500 total time=   0.0s\n",
      "[CV 3/5] END C=100, gamma=0.0001, kernel=linear;, score=0.786 total time=   0.0s\n",
      "[CV 4/5] END C=100, gamma=0.0001, kernel=linear;, score=0.692 total time=   0.0s\n",
      "[CV 5/5] END C=100, gamma=0.0001, kernel=linear;, score=0.538 total time=   0.0s\n",
      "[CV 1/5] END ..C=100, gamma=0.0001, kernel=poly;, score=0.571 total time=   0.0s\n",
      "[CV 2/5] END ..C=100, gamma=0.0001, kernel=poly;, score=0.500 total time=   0.0s\n",
      "[CV 3/5] END ..C=100, gamma=0.0001, kernel=poly;, score=0.500 total time=   0.0s\n",
      "[CV 4/5] END ..C=100, gamma=0.0001, kernel=poly;, score=0.462 total time=   0.0s\n",
      "[CV 5/5] END ..C=100, gamma=0.0001, kernel=poly;, score=0.462 total time=   0.0s\n",
      "[CV 1/5] END C=100, gamma=0.0001, kernel=sigmoid;, score=0.643 total time=   0.0s\n",
      "[CV 2/5] END C=100, gamma=0.0001, kernel=sigmoid;, score=0.571 total time=   0.0s\n",
      "[CV 3/5] END C=100, gamma=0.0001, kernel=sigmoid;, score=0.643 total time=   0.0s\n",
      "[CV 4/5] END C=100, gamma=0.0001, kernel=sigmoid;, score=0.692 total time=   0.0s\n",
      "[CV 5/5] END C=100, gamma=0.0001, kernel=sigmoid;, score=0.615 total time=   0.0s\n",
      "[CV 1/5] END .......C=1000, gamma=1, kernel=rbf;, score=0.500 total time=   0.0s\n",
      "[CV 2/5] END .......C=1000, gamma=1, kernel=rbf;, score=0.286 total time=   0.0s\n",
      "[CV 3/5] END .......C=1000, gamma=1, kernel=rbf;, score=0.786 total time=   0.0s\n",
      "[CV 4/5] END .......C=1000, gamma=1, kernel=rbf;, score=0.692 total time=   0.0s\n",
      "[CV 5/5] END .......C=1000, gamma=1, kernel=rbf;, score=0.385 total time=   0.0s\n",
      "[CV 1/5] END ....C=1000, gamma=1, kernel=linear;, score=0.571 total time=   0.0s\n"
     ]
    },
    {
     "name": "stdout",
     "output_type": "stream",
     "text": [
      "[CV 2/5] END ....C=1000, gamma=1, kernel=linear;, score=0.500 total time=   0.0s\n",
      "[CV 3/5] END ....C=1000, gamma=1, kernel=linear;, score=0.786 total time=   0.0s\n",
      "[CV 4/5] END ....C=1000, gamma=1, kernel=linear;, score=0.692 total time=   0.0s\n",
      "[CV 5/5] END ....C=1000, gamma=1, kernel=linear;, score=0.538 total time=   0.0s\n",
      "[CV 1/5] END ......C=1000, gamma=1, kernel=poly;, score=0.500 total time=   0.0s\n",
      "[CV 2/5] END ......C=1000, gamma=1, kernel=poly;, score=0.500 total time=   0.0s\n",
      "[CV 3/5] END ......C=1000, gamma=1, kernel=poly;, score=0.643 total time=   0.0s\n",
      "[CV 4/5] END ......C=1000, gamma=1, kernel=poly;, score=0.769 total time=   0.0s\n",
      "[CV 5/5] END ......C=1000, gamma=1, kernel=poly;, score=0.692 total time=   0.0s\n",
      "[CV 1/5] END ...C=1000, gamma=1, kernel=sigmoid;, score=0.786 total time=   0.0s\n",
      "[CV 2/5] END ...C=1000, gamma=1, kernel=sigmoid;, score=0.571 total time=   0.0s\n",
      "[CV 3/5] END ...C=1000, gamma=1, kernel=sigmoid;, score=0.571 total time=   0.0s\n",
      "[CV 4/5] END ...C=1000, gamma=1, kernel=sigmoid;, score=0.769 total time=   0.0s\n",
      "[CV 5/5] END ...C=1000, gamma=1, kernel=sigmoid;, score=0.615 total time=   0.0s\n",
      "[CV 1/5] END .....C=1000, gamma=0.1, kernel=rbf;, score=0.500 total time=   0.0s\n",
      "[CV 2/5] END .....C=1000, gamma=0.1, kernel=rbf;, score=0.571 total time=   0.0s\n",
      "[CV 3/5] END .....C=1000, gamma=0.1, kernel=rbf;, score=0.857 total time=   0.0s\n",
      "[CV 4/5] END .....C=1000, gamma=0.1, kernel=rbf;, score=0.385 total time=   0.0s\n",
      "[CV 5/5] END .....C=1000, gamma=0.1, kernel=rbf;, score=0.615 total time=   0.0s\n",
      "[CV 1/5] END ..C=1000, gamma=0.1, kernel=linear;, score=0.571 total time=   0.0s\n",
      "[CV 2/5] END ..C=1000, gamma=0.1, kernel=linear;, score=0.500 total time=   0.0s\n",
      "[CV 3/5] END ..C=1000, gamma=0.1, kernel=linear;, score=0.786 total time=   0.0s\n",
      "[CV 4/5] END ..C=1000, gamma=0.1, kernel=linear;, score=0.692 total time=   0.0s\n",
      "[CV 5/5] END ..C=1000, gamma=0.1, kernel=linear;, score=0.538 total time=   0.0s\n",
      "[CV 1/5] END ....C=1000, gamma=0.1, kernel=poly;, score=0.500 total time=   0.0s\n",
      "[CV 2/5] END ....C=1000, gamma=0.1, kernel=poly;, score=0.500 total time=   0.0s\n",
      "[CV 3/5] END ....C=1000, gamma=0.1, kernel=poly;, score=0.714 total time=   0.0s\n",
      "[CV 4/5] END ....C=1000, gamma=0.1, kernel=poly;, score=0.615 total time=   0.0s\n",
      "[CV 5/5] END ....C=1000, gamma=0.1, kernel=poly;, score=0.692 total time=   0.0s\n",
      "[CV 1/5] END .C=1000, gamma=0.1, kernel=sigmoid;, score=0.500 total time=   0.0s\n",
      "[CV 2/5] END .C=1000, gamma=0.1, kernel=sigmoid;, score=0.643 total time=   0.0s\n",
      "[CV 3/5] END .C=1000, gamma=0.1, kernel=sigmoid;, score=0.714 total time=   0.0s\n",
      "[CV 4/5] END .C=1000, gamma=0.1, kernel=sigmoid;, score=0.462 total time=   0.0s\n",
      "[CV 5/5] END .C=1000, gamma=0.1, kernel=sigmoid;, score=0.692 total time=   0.0s\n",
      "[CV 1/5] END ....C=1000, gamma=0.01, kernel=rbf;, score=0.571 total time=   0.0s\n",
      "[CV 2/5] END ....C=1000, gamma=0.01, kernel=rbf;, score=0.571 total time=   0.0s\n",
      "[CV 3/5] END ....C=1000, gamma=0.01, kernel=rbf;, score=0.929 total time=   0.0s\n",
      "[CV 4/5] END ....C=1000, gamma=0.01, kernel=rbf;, score=0.538 total time=   0.0s\n",
      "[CV 5/5] END ....C=1000, gamma=0.01, kernel=rbf;, score=0.615 total time=   0.0s\n",
      "[CV 1/5] END .C=1000, gamma=0.01, kernel=linear;, score=0.571 total time=   0.0s\n",
      "[CV 2/5] END .C=1000, gamma=0.01, kernel=linear;, score=0.500 total time=   0.0s\n",
      "[CV 3/5] END .C=1000, gamma=0.01, kernel=linear;, score=0.786 total time=   0.0s\n",
      "[CV 4/5] END .C=1000, gamma=0.01, kernel=linear;, score=0.692 total time=   0.0s\n",
      "[CV 5/5] END .C=1000, gamma=0.01, kernel=linear;, score=0.538 total time=   0.0s\n",
      "[CV 1/5] END ...C=1000, gamma=0.01, kernel=poly;, score=0.571 total time=   0.0s\n",
      "[CV 2/5] END ...C=1000, gamma=0.01, kernel=poly;, score=0.643 total time=   0.0s\n",
      "[CV 3/5] END ...C=1000, gamma=0.01, kernel=poly;, score=0.500 total time=   0.0s\n",
      "[CV 4/5] END ...C=1000, gamma=0.01, kernel=poly;, score=0.615 total time=   0.0s\n",
      "[CV 5/5] END ...C=1000, gamma=0.01, kernel=poly;, score=0.615 total time=   0.0s\n",
      "[CV 1/5] END C=1000, gamma=0.01, kernel=sigmoid;, score=0.714 total time=   0.0s\n",
      "[CV 2/5] END C=1000, gamma=0.01, kernel=sigmoid;, score=0.500 total time=   0.0s\n",
      "[CV 3/5] END C=1000, gamma=0.01, kernel=sigmoid;, score=0.786 total time=   0.0s\n",
      "[CV 4/5] END C=1000, gamma=0.01, kernel=sigmoid;, score=0.692 total time=   0.0s\n",
      "[CV 5/5] END C=1000, gamma=0.01, kernel=sigmoid;, score=0.538 total time=   0.0s\n",
      "[CV 1/5] END ...C=1000, gamma=0.001, kernel=rbf;, score=0.643 total time=   0.0s\n",
      "[CV 2/5] END ...C=1000, gamma=0.001, kernel=rbf;, score=0.357 total time=   0.0s\n",
      "[CV 3/5] END ...C=1000, gamma=0.001, kernel=rbf;, score=0.786 total time=   0.0s\n",
      "[CV 4/5] END ...C=1000, gamma=0.001, kernel=rbf;, score=0.692 total time=   0.0s\n",
      "[CV 5/5] END ...C=1000, gamma=0.001, kernel=rbf;, score=0.538 total time=   0.0s\n",
      "[CV 1/5] END C=1000, gamma=0.001, kernel=linear;, score=0.571 total time=   0.0s\n",
      "[CV 2/5] END C=1000, gamma=0.001, kernel=linear;, score=0.500 total time=   0.0s\n",
      "[CV 3/5] END C=1000, gamma=0.001, kernel=linear;, score=0.786 total time=   0.0s\n",
      "[CV 4/5] END C=1000, gamma=0.001, kernel=linear;, score=0.692 total time=   0.0s\n",
      "[CV 5/5] END C=1000, gamma=0.001, kernel=linear;, score=0.538 total time=   0.0s\n",
      "[CV 1/5] END ..C=1000, gamma=0.001, kernel=poly;, score=0.571 total time=   0.0s\n",
      "[CV 2/5] END ..C=1000, gamma=0.001, kernel=poly;, score=0.500 total time=   0.0s\n",
      "[CV 3/5] END ..C=1000, gamma=0.001, kernel=poly;, score=0.500 total time=   0.0s\n",
      "[CV 4/5] END ..C=1000, gamma=0.001, kernel=poly;, score=0.462 total time=   0.0s\n",
      "[CV 5/5] END ..C=1000, gamma=0.001, kernel=poly;, score=0.462 total time=   0.0s\n",
      "[CV 1/5] END C=1000, gamma=0.001, kernel=sigmoid;, score=0.643 total time=   0.0s\n",
      "[CV 2/5] END C=1000, gamma=0.001, kernel=sigmoid;, score=0.429 total time=   0.0s\n",
      "[CV 3/5] END C=1000, gamma=0.001, kernel=sigmoid;, score=0.786 total time=   0.0s\n",
      "[CV 4/5] END C=1000, gamma=0.001, kernel=sigmoid;, score=0.692 total time=   0.0s\n",
      "[CV 5/5] END C=1000, gamma=0.001, kernel=sigmoid;, score=0.538 total time=   0.0s\n",
      "[CV 1/5] END ..C=1000, gamma=0.0001, kernel=rbf;, score=0.643 total time=   0.0s\n",
      "[CV 2/5] END ..C=1000, gamma=0.0001, kernel=rbf;, score=0.571 total time=   0.0s\n",
      "[CV 3/5] END ..C=1000, gamma=0.0001, kernel=rbf;, score=0.786 total time=   0.0s\n",
      "[CV 4/5] END ..C=1000, gamma=0.0001, kernel=rbf;, score=0.692 total time=   0.0s\n",
      "[CV 5/5] END ..C=1000, gamma=0.0001, kernel=rbf;, score=0.538 total time=   0.0s\n",
      "[CV 1/5] END C=1000, gamma=0.0001, kernel=linear;, score=0.571 total time=   0.0s\n",
      "[CV 2/5] END C=1000, gamma=0.0001, kernel=linear;, score=0.500 total time=   0.0s\n",
      "[CV 3/5] END C=1000, gamma=0.0001, kernel=linear;, score=0.786 total time=   0.0s\n",
      "[CV 4/5] END C=1000, gamma=0.0001, kernel=linear;, score=0.692 total time=   0.0s\n",
      "[CV 5/5] END C=1000, gamma=0.0001, kernel=linear;, score=0.538 total time=   0.0s\n",
      "[CV 1/5] END .C=1000, gamma=0.0001, kernel=poly;, score=0.571 total time=   0.0s\n",
      "[CV 2/5] END .C=1000, gamma=0.0001, kernel=poly;, score=0.500 total time=   0.0s\n",
      "[CV 3/5] END .C=1000, gamma=0.0001, kernel=poly;, score=0.500 total time=   0.0s\n",
      "[CV 4/5] END .C=1000, gamma=0.0001, kernel=poly;, score=0.462 total time=   0.0s\n",
      "[CV 5/5] END .C=1000, gamma=0.0001, kernel=poly;, score=0.462 total time=   0.0s\n",
      "[CV 1/5] END C=1000, gamma=0.0001, kernel=sigmoid;, score=0.714 total time=   0.0s\n",
      "[CV 2/5] END C=1000, gamma=0.0001, kernel=sigmoid;, score=0.571 total time=   0.0s\n",
      "[CV 3/5] END C=1000, gamma=0.0001, kernel=sigmoid;, score=0.786 total time=   0.0s\n",
      "[CV 4/5] END C=1000, gamma=0.0001, kernel=sigmoid;, score=0.692 total time=   0.0s\n",
      "[CV 5/5] END C=1000, gamma=0.0001, kernel=sigmoid;, score=0.615 total time=   0.0s\n",
      "{'C': 0.1, 'gamma': 1, 'kernel': 'linear'}\n",
      "SVC(C=0.1, gamma=1, kernel='linear')\n",
      "              precision    recall  f1-score   support\n",
      "\n",
      "           0       0.67      0.67      0.67         9\n",
      "           1       0.62      0.62      0.62         8\n",
      "\n",
      "    accuracy                           0.65        17\n",
      "   macro avg       0.65      0.65      0.65        17\n",
      "weighted avg       0.65      0.65      0.65        17\n",
      "\n"
     ]
    }
   ],
   "source": [
    "from sklearn.metrics import classification_report, confusion_matrix\n",
    "from sklearn.datasets import load_breast_cancer\n",
    "from sklearn.model_selection import GridSearchCV\n",
    "\n",
    "model = SVC()\n",
    "model.fit(X_train, y_train)\n",
    " \n",
    "# print prediction results\n",
    "predictions = model.predict(X_test)\n",
    "print(classification_report(y_test, predictions))\n",
    "\n",
    "\n",
    "\n",
    "# defining parameter range\n",
    "param_grid = {'C': [0.1, 1, 10, 100, 1000],\n",
    "              'gamma': [1, 0.1, 0.01, 0.001, 0.0001],\n",
    "              'kernel': ['rbf','linear','poly','sigmoid']}\n",
    " \n",
    "grid = GridSearchCV(SVC(), param_grid, refit = True, verbose = 3,cv=5)\n",
    " \n",
    "# fitting the model for grid search\n",
    "grid.fit(X_train, y_train)\n",
    "\n",
    "# print best parameter after tuning\n",
    "print(grid.best_params_)\n",
    " \n",
    "# print how our model looks after hyper-parameter tuning\n",
    "print(grid.best_estimator_)\n",
    "\n",
    "\n",
    "grid_predictions = grid.predict(X_test)\n",
    " \n",
    "# print classification report\n",
    "print(classification_report(y_test, grid_predictions))\n"
   ]
  },
  {
   "cell_type": "code",
   "execution_count": 137,
   "id": "3f0fd1cc",
   "metadata": {
    "scrolled": true
   },
   "outputs": [
    {
     "name": "stdout",
     "output_type": "stream",
     "text": [
      "Confusion matrix, without normalization\n",
      "[[8 1]\n",
      " [4 4]]\n",
      "Normalized confusion matrix\n",
      "[[0.88888889 0.11111111]\n",
      " [0.5        0.5       ]]\n"
     ]
    },
    {
     "data": {
      "image/png": "[encoded data removed]",
      "text/plain": [
       "<Figure size 432x288 with 2 Axes>"
      ]
     },
     "metadata": {
      "needs_background": "light"
     },
     "output_type": "display_data"
    },
    {
     "data": {
      "image/png": "[encoded data removed]",
      "text/plain": [
       "<Figure size 432x288 with 2 Axes>"
      ]
     },
     "metadata": {
      "needs_background": "light"
     },
     "output_type": "display_data"
    },
    {
     "name": "stdout",
     "output_type": "stream",
     "text": [
      "Accuracy score : 0.7058823529411765\n",
      "Mean accuracy of 5 fold cross validation test : 0.7176470588235294\n",
      "with a maximum accuracy of 0.8823529411764706\n",
      "Mean accuracy of 10 fold cross validation test : 0.7055555555555555\n",
      "with a maximum accuracy of 1.0\n",
      "Mean accuracy of n fold cross validation test : 0.6823529411764706\n",
      "with a maximum accuracy of 1.0\n",
      "Mean accuracy of n fold cross validation test : 0.7294117647058824\n",
      "with a maximum accuracy of 0.8235294117647058\n"
     ]
    }
   ],
   "source": [
    "classifier = KNeighborsClassifier(n_neighbors=10)\n",
    "testClassifier(classifier,X_train,X_test,y_train,y_test)"
   ]
  },
  {
   "cell_type": "code",
   "execution_count": 138,
   "id": "410a5ca1",
   "metadata": {},
   "outputs": [
    {
     "name": "stdout",
     "output_type": "stream",
     "text": [
      "[0.15973578 0.37588002 0.08835483 0.03331887 0.19387032 0.06011581\n",
      " 0.08872437]\n",
      "Confusion matrix, without normalization\n",
      "[[6 3]\n",
      " [4 4]]\n",
      "Normalized confusion matrix\n",
      "[[0.66666667 0.33333333]\n",
      " [0.5        0.5       ]]\n"
     ]
    },
    {
     "data": {
      "image/png": "[encoded data removed]",
      "text/plain": [
       "<Figure size 432x288 with 2 Axes>"
      ]
     },
     "metadata": {
      "needs_background": "light"
     },
     "output_type": "display_data"
    },
    {
     "data": {
      "image/png": "[encoded data removed]",
      "text/plain": [
       "<Figure size 432x288 with 2 Axes>"
      ]
     },
     "metadata": {
      "needs_background": "light"
     },
     "output_type": "display_data"
    },
    {
     "name": "stdout",
     "output_type": "stream",
     "text": [
      "Accuracy score : 0.5882352941176471\n",
      "Mean accuracy of 5 fold cross validation test : 0.6705882352941176\n",
      "with a maximum accuracy of 0.7647058823529411\n",
      "Mean accuracy of 10 fold cross validation test : 0.5652777777777778\n",
      "with a maximum accuracy of 0.75\n",
      "Mean accuracy of n fold cross validation test : 0.6235294117647059\n",
      "with a maximum accuracy of 1.0\n",
      "Mean accuracy of n fold cross validation test : 0.623529411764706\n",
      "with a maximum accuracy of 0.7058823529411765\n"
     ]
    }
   ],
   "source": [
    "from sklearn.ensemble import GradientBoostingClassifier\n",
    "classifier = GradientBoostingClassifier()\n",
    "classifier.fit(X_test,y_test)\n",
    "print(classifier.feature_importances_)\n",
    "testClassifier(GradientBoostingClassifier(),X_train,X_test,y_train,y_test)"
   ]
  },
  {
   "cell_type": "code",
   "execution_count": null,
   "id": "bbb1e08e",
   "metadata": {},
   "outputs": [],
   "source": []
  },
  {
   "cell_type": "code",
   "execution_count": 139,
   "id": "32e9ac5c",
   "metadata": {
    "scrolled": true
   },
   "outputs": [
    {
     "name": "stdout",
     "output_type": "stream",
     "text": [
      "Fitting 5 folds for each of 135 candidates, totalling 675 fits\n",
      "[CV 1/5] END criterion=friedman_mse, learning_rate=0.03, n_estimators=1;, score=0.500 total time=   0.0s\n",
      "[CV 2/5] END criterion=friedman_mse, learning_rate=0.03, n_estimators=1;, score=0.429 total time=   0.0s\n",
      "[CV 3/5] END criterion=friedman_mse, learning_rate=0.03, n_estimators=1;, score=0.643 total time=   0.0s\n",
      "[CV 4/5] END criterion=friedman_mse, learning_rate=0.03, n_estimators=1;, score=0.462 total time=   0.0s\n",
      "[CV 5/5] END criterion=friedman_mse, learning_rate=0.03, n_estimators=1;, score=0.538 total time=   0.0s\n",
      "[CV 1/5] END criterion=friedman_mse, learning_rate=0.03, n_estimators=5;, score=0.571 total time=   0.0s\n",
      "[CV 2/5] END criterion=friedman_mse, learning_rate=0.03, n_estimators=5;, score=0.357 total time=   0.0s\n",
      "[CV 3/5] END criterion=friedman_mse, learning_rate=0.03, n_estimators=5;, score=0.643 total time=   0.0s\n",
      "[CV 4/5] END criterion=friedman_mse, learning_rate=0.03, n_estimators=5;, score=0.538 total time=   0.0s\n",
      "[CV 5/5] END criterion=friedman_mse, learning_rate=0.03, n_estimators=5;, score=0.615 total time=   0.0s\n",
      "[CV 1/5] END criterion=friedman_mse, learning_rate=0.03, n_estimators=10;, score=0.571 total time=   0.0s\n",
      "[CV 2/5] END criterion=friedman_mse, learning_rate=0.03, n_estimators=10;, score=0.429 total time=   0.0s\n",
      "[CV 3/5] END criterion=friedman_mse, learning_rate=0.03, n_estimators=10;, score=0.714 total time=   0.0s\n",
      "[CV 4/5] END criterion=friedman_mse, learning_rate=0.03, n_estimators=10;, score=0.615 total time=   0.0s\n",
      "[CV 5/5] END criterion=friedman_mse, learning_rate=0.03, n_estimators=10;, score=0.692 total time=   0.0s\n",
      "[CV 1/5] END criterion=friedman_mse, learning_rate=0.03, n_estimators=50;, score=0.857 total time=   0.0s\n",
      "[CV 2/5] END criterion=friedman_mse, learning_rate=0.03, n_estimators=50;, score=0.429 total time=   0.0s\n",
      "[CV 3/5] END criterion=friedman_mse, learning_rate=0.03, n_estimators=50;, score=0.857 total time=   0.0s\n",
      "[CV 4/5] END criterion=friedman_mse, learning_rate=0.03, n_estimators=50;, score=0.538 total time=   0.0s\n",
      "[CV 5/5] END criterion=friedman_mse, learning_rate=0.03, n_estimators=50;, score=0.615 total time=   0.0s\n",
      "[CV 1/5] END criterion=friedman_mse, learning_rate=0.03, n_estimators=100;, score=0.786 total time=   0.0s\n",
      "[CV 2/5] END criterion=friedman_mse, learning_rate=0.03, n_estimators=100;, score=0.429 total time=   0.0s\n",
      "[CV 3/5] END criterion=friedman_mse, learning_rate=0.03, n_estimators=100;, score=0.857 total time=   0.0s\n",
      "[CV 4/5] END criterion=friedman_mse, learning_rate=0.03, n_estimators=100;, score=0.538 total time=   0.0s\n",
      "[CV 5/5] END criterion=friedman_mse, learning_rate=0.03, n_estimators=100;, score=0.615 total time=   0.0s\n",
      "[CV 1/5] END criterion=friedman_mse, learning_rate=0.03, n_estimators=200;, score=0.714 total time=   0.0s\n",
      "[CV 2/5] END criterion=friedman_mse, learning_rate=0.03, n_estimators=200;, score=0.500 total time=   0.0s\n",
      "[CV 3/5] END criterion=friedman_mse, learning_rate=0.03, n_estimators=200;, score=0.857 total time=   0.0s\n",
      "[CV 4/5] END criterion=friedman_mse, learning_rate=0.03, n_estimators=200;, score=0.615 total time=   0.0s\n",
      "[CV 5/5] END criterion=friedman_mse, learning_rate=0.03, n_estimators=200;, score=0.615 total time=   0.0s\n",
      "[CV 1/5] END criterion=friedman_mse, learning_rate=0.03, n_estimators=300;, score=0.714 total time=   0.0s\n",
      "[CV 2/5] END criterion=friedman_mse, learning_rate=0.03, n_estimators=300;, score=0.500 total time=   0.0s\n",
      "[CV 3/5] END criterion=friedman_mse, learning_rate=0.03, n_estimators=300;, score=0.786 total time=   0.0s\n",
      "[CV 4/5] END criterion=friedman_mse, learning_rate=0.03, n_estimators=300;, score=0.538 total time=   0.0s\n",
      "[CV 5/5] END criterion=friedman_mse, learning_rate=0.03, n_estimators=300;, score=0.615 total time=   0.0s\n",
      "[CV 1/5] END criterion=friedman_mse, learning_rate=0.03, n_estimators=500;, score=0.643 total time=   0.1s\n",
      "[CV 2/5] END criterion=friedman_mse, learning_rate=0.03, n_estimators=500;, score=0.500 total time=   0.1s\n",
      "[CV 3/5] END criterion=friedman_mse, learning_rate=0.03, n_estimators=500;, score=0.786 total time=   0.1s\n",
      "[CV 4/5] END criterion=friedman_mse, learning_rate=0.03, n_estimators=500;, score=0.538 total time=   0.1s\n",
      "[CV 5/5] END criterion=friedman_mse, learning_rate=0.03, n_estimators=500;, score=0.615 total time=   0.1s\n",
      "[CV 1/5] END criterion=friedman_mse, learning_rate=0.03, n_estimators=1000;, score=0.571 total time=   0.2s\n",
      "[CV 2/5] END criterion=friedman_mse, learning_rate=0.03, n_estimators=1000;, score=0.429 total time=   0.3s\n",
      "[CV 3/5] END criterion=friedman_mse, learning_rate=0.03, n_estimators=1000;, score=0.714 total time=   0.3s\n",
      "[CV 4/5] END criterion=friedman_mse, learning_rate=0.03, n_estimators=1000;, score=0.615 total time=   0.2s\n",
      "[CV 5/5] END criterion=friedman_mse, learning_rate=0.03, n_estimators=1000;, score=0.692 total time=   0.3s\n",
      "[CV 1/5] END criterion=friedman_mse, learning_rate=0.1, n_estimators=1;, score=0.500 total time=   0.0s\n",
      "[CV 2/5] END criterion=friedman_mse, learning_rate=0.1, n_estimators=1;, score=0.429 total time=   0.0s\n",
      "[CV 3/5] END criterion=friedman_mse, learning_rate=0.1, n_estimators=1;, score=0.571 total time=   0.0s\n",
      "[CV 4/5] END criterion=friedman_mse, learning_rate=0.1, n_estimators=1;, score=0.538 total time=   0.0s\n",
      "[CV 5/5] END criterion=friedman_mse, learning_rate=0.1, n_estimators=1;, score=0.615 total time=   0.0s\n",
      "[CV 1/5] END criterion=friedman_mse, learning_rate=0.1, n_estimators=5;, score=0.714 total time=   0.0s\n",
      "[CV 2/5] END criterion=friedman_mse, learning_rate=0.1, n_estimators=5;, score=0.357 total time=   0.0s\n",
      "[CV 3/5] END criterion=friedman_mse, learning_rate=0.1, n_estimators=5;, score=0.714 total time=   0.0s\n",
      "[CV 4/5] END criterion=friedman_mse, learning_rate=0.1, n_estimators=5;, score=0.615 total time=   0.0s\n",
      "[CV 5/5] END criterion=friedman_mse, learning_rate=0.1, n_estimators=5;, score=0.538 total time=   0.0s\n",
      "[CV 1/5] END criterion=friedman_mse, learning_rate=0.1, n_estimators=10;, score=0.643 total time=   0.0s\n",
      "[CV 2/5] END criterion=friedman_mse, learning_rate=0.1, n_estimators=10;, score=0.357 total time=   0.0s\n",
      "[CV 3/5] END criterion=friedman_mse, learning_rate=0.1, n_estimators=10;, score=0.786 total time=   0.0s\n",
      "[CV 4/5] END criterion=friedman_mse, learning_rate=0.1, n_estimators=10;, score=0.615 total time=   0.0s\n",
      "[CV 5/5] END criterion=friedman_mse, learning_rate=0.1, n_estimators=10;, score=0.615 total time=   0.0s\n",
      "[CV 1/5] END criterion=friedman_mse, learning_rate=0.1, n_estimators=50;, score=0.714 total time=   0.0s\n",
      "[CV 2/5] END criterion=friedman_mse, learning_rate=0.1, n_estimators=50;, score=0.429 total time=   0.0s\n",
      "[CV 3/5] END criterion=friedman_mse, learning_rate=0.1, n_estimators=50;, score=0.786 total time=   0.0s\n",
      "[CV 4/5] END criterion=friedman_mse, learning_rate=0.1, n_estimators=50;, score=0.538 total time=   0.0s\n",
      "[CV 5/5] END criterion=friedman_mse, learning_rate=0.1, n_estimators=50;, score=0.615 total time=   0.0s\n",
      "[CV 1/5] END criterion=friedman_mse, learning_rate=0.1, n_estimators=100;, score=0.714 total time=   0.0s\n",
      "[CV 2/5] END criterion=friedman_mse, learning_rate=0.1, n_estimators=100;, score=0.571 total time=   0.0s\n",
      "[CV 3/5] END criterion=friedman_mse, learning_rate=0.1, n_estimators=100;, score=0.714 total time=   0.0s\n",
      "[CV 4/5] END criterion=friedman_mse, learning_rate=0.1, n_estimators=100;, score=0.538 total time=   0.0s\n",
      "[CV 5/5] END criterion=friedman_mse, learning_rate=0.1, n_estimators=100;, score=0.615 total time=   0.0s\n",
      "[CV 1/5] END criterion=friedman_mse, learning_rate=0.1, n_estimators=200;, score=0.714 total time=   0.0s\n",
      "[CV 2/5] END criterion=friedman_mse, learning_rate=0.1, n_estimators=200;, score=0.429 total time=   0.0s\n",
      "[CV 3/5] END criterion=friedman_mse, learning_rate=0.1, n_estimators=200;, score=0.714 total time=   0.0s\n",
      "[CV 4/5] END criterion=friedman_mse, learning_rate=0.1, n_estimators=200;, score=0.615 total time=   0.0s\n",
      "[CV 5/5] END criterion=friedman_mse, learning_rate=0.1, n_estimators=200;, score=0.615 total time=   0.0s\n",
      "[CV 1/5] END criterion=friedman_mse, learning_rate=0.1, n_estimators=300;, score=0.643 total time=   0.0s\n",
      "[CV 2/5] END criterion=friedman_mse, learning_rate=0.1, n_estimators=300;, score=0.429 total time=   0.0s\n",
      "[CV 3/5] END criterion=friedman_mse, learning_rate=0.1, n_estimators=300;, score=0.714 total time=   0.0s\n"
     ]
    },
    {
     "name": "stdout",
     "output_type": "stream",
     "text": [
      "[CV 4/5] END criterion=friedman_mse, learning_rate=0.1, n_estimators=300;, score=0.615 total time=   0.0s\n",
      "[CV 5/5] END criterion=friedman_mse, learning_rate=0.1, n_estimators=300;, score=0.692 total time=   0.0s\n",
      "[CV 1/5] END criterion=friedman_mse, learning_rate=0.1, n_estimators=500;, score=0.643 total time=   0.1s\n",
      "[CV 2/5] END criterion=friedman_mse, learning_rate=0.1, n_estimators=500;, score=0.429 total time=   0.1s\n",
      "[CV 3/5] END criterion=friedman_mse, learning_rate=0.1, n_estimators=500;, score=0.714 total time=   0.1s\n",
      "[CV 4/5] END criterion=friedman_mse, learning_rate=0.1, n_estimators=500;, score=0.615 total time=   0.1s\n",
      "[CV 5/5] END criterion=friedman_mse, learning_rate=0.1, n_estimators=500;, score=0.692 total time=   0.1s\n",
      "[CV 1/5] END criterion=friedman_mse, learning_rate=0.1, n_estimators=1000;, score=0.643 total time=   0.2s\n",
      "[CV 2/5] END criterion=friedman_mse, learning_rate=0.1, n_estimators=1000;, score=0.500 total time=   0.2s\n",
      "[CV 3/5] END criterion=friedman_mse, learning_rate=0.1, n_estimators=1000;, score=0.714 total time=   0.2s\n",
      "[CV 4/5] END criterion=friedman_mse, learning_rate=0.1, n_estimators=1000;, score=0.615 total time=   0.2s\n",
      "[CV 5/5] END criterion=friedman_mse, learning_rate=0.1, n_estimators=1000;, score=0.692 total time=   0.2s\n",
      "[CV 1/5] END criterion=friedman_mse, learning_rate=0.3, n_estimators=1;, score=0.500 total time=   0.0s\n",
      "[CV 2/5] END criterion=friedman_mse, learning_rate=0.3, n_estimators=1;, score=0.429 total time=   0.0s\n",
      "[CV 3/5] END criterion=friedman_mse, learning_rate=0.3, n_estimators=1;, score=0.643 total time=   0.0s\n",
      "[CV 4/5] END criterion=friedman_mse, learning_rate=0.3, n_estimators=1;, score=0.538 total time=   0.0s\n",
      "[CV 5/5] END criterion=friedman_mse, learning_rate=0.3, n_estimators=1;, score=0.615 total time=   0.0s\n",
      "[CV 1/5] END criterion=friedman_mse, learning_rate=0.3, n_estimators=5;, score=0.643 total time=   0.0s\n",
      "[CV 2/5] END criterion=friedman_mse, learning_rate=0.3, n_estimators=5;, score=0.357 total time=   0.0s\n",
      "[CV 3/5] END criterion=friedman_mse, learning_rate=0.3, n_estimators=5;, score=0.786 total time=   0.0s\n",
      "[CV 4/5] END criterion=friedman_mse, learning_rate=0.3, n_estimators=5;, score=0.538 total time=   0.0s\n",
      "[CV 5/5] END criterion=friedman_mse, learning_rate=0.3, n_estimators=5;, score=0.615 total time=   0.0s\n",
      "[CV 1/5] END criterion=friedman_mse, learning_rate=0.3, n_estimators=10;, score=0.786 total time=   0.0s\n",
      "[CV 2/5] END criterion=friedman_mse, learning_rate=0.3, n_estimators=10;, score=0.357 total time=   0.0s\n",
      "[CV 3/5] END criterion=friedman_mse, learning_rate=0.3, n_estimators=10;, score=0.857 total time=   0.0s\n",
      "[CV 4/5] END criterion=friedman_mse, learning_rate=0.3, n_estimators=10;, score=0.538 total time=   0.0s\n",
      "[CV 5/5] END criterion=friedman_mse, learning_rate=0.3, n_estimators=10;, score=0.615 total time=   0.0s\n",
      "[CV 1/5] END criterion=friedman_mse, learning_rate=0.3, n_estimators=50;, score=0.571 total time=   0.0s\n",
      "[CV 2/5] END criterion=friedman_mse, learning_rate=0.3, n_estimators=50;, score=0.500 total time=   0.0s\n",
      "[CV 3/5] END criterion=friedman_mse, learning_rate=0.3, n_estimators=50;, score=0.857 total time=   0.0s\n",
      "[CV 4/5] END criterion=friedman_mse, learning_rate=0.3, n_estimators=50;, score=0.615 total time=   0.0s\n",
      "[CV 5/5] END criterion=friedman_mse, learning_rate=0.3, n_estimators=50;, score=0.692 total time=   0.0s\n",
      "[CV 1/5] END criterion=friedman_mse, learning_rate=0.3, n_estimators=100;, score=0.643 total time=   0.0s\n",
      "[CV 2/5] END criterion=friedman_mse, learning_rate=0.3, n_estimators=100;, score=0.429 total time=   0.0s\n",
      "[CV 3/5] END criterion=friedman_mse, learning_rate=0.3, n_estimators=100;, score=0.714 total time=   0.0s\n",
      "[CV 4/5] END criterion=friedman_mse, learning_rate=0.3, n_estimators=100;, score=0.615 total time=   0.0s\n",
      "[CV 5/5] END criterion=friedman_mse, learning_rate=0.3, n_estimators=100;, score=0.692 total time=   0.0s\n",
      "[CV 1/5] END criterion=friedman_mse, learning_rate=0.3, n_estimators=200;, score=0.643 total time=   0.0s\n",
      "[CV 2/5] END criterion=friedman_mse, learning_rate=0.3, n_estimators=200;, score=0.429 total time=   0.0s\n",
      "[CV 3/5] END criterion=friedman_mse, learning_rate=0.3, n_estimators=200;, score=0.714 total time=   0.0s\n",
      "[CV 4/5] END criterion=friedman_mse, learning_rate=0.3, n_estimators=200;, score=0.615 total time=   0.0s\n",
      "[CV 5/5] END criterion=friedman_mse, learning_rate=0.3, n_estimators=200;, score=0.615 total time=   0.0s\n",
      "[CV 1/5] END criterion=friedman_mse, learning_rate=0.3, n_estimators=300;, score=0.643 total time=   0.0s\n",
      "[CV 2/5] END criterion=friedman_mse, learning_rate=0.3, n_estimators=300;, score=0.429 total time=   0.0s\n",
      "[CV 3/5] END criterion=friedman_mse, learning_rate=0.3, n_estimators=300;, score=0.714 total time=   0.0s\n",
      "[CV 4/5] END criterion=friedman_mse, learning_rate=0.3, n_estimators=300;, score=0.615 total time=   0.0s\n",
      "[CV 5/5] END criterion=friedman_mse, learning_rate=0.3, n_estimators=300;, score=0.615 total time=   0.0s\n",
      "[CV 1/5] END criterion=friedman_mse, learning_rate=0.3, n_estimators=500;, score=0.643 total time=   0.0s\n",
      "[CV 2/5] END criterion=friedman_mse, learning_rate=0.3, n_estimators=500;, score=0.500 total time=   0.0s\n",
      "[CV 3/5] END criterion=friedman_mse, learning_rate=0.3, n_estimators=500;, score=0.714 total time=   0.0s\n",
      "[CV 4/5] END criterion=friedman_mse, learning_rate=0.3, n_estimators=500;, score=0.615 total time=   0.0s\n",
      "[CV 5/5] END criterion=friedman_mse, learning_rate=0.3, n_estimators=500;, score=0.615 total time=   0.0s\n",
      "[CV 1/5] END criterion=friedman_mse, learning_rate=0.3, n_estimators=1000;, score=0.643 total time=   0.1s\n",
      "[CV 2/5] END criterion=friedman_mse, learning_rate=0.3, n_estimators=1000;, score=0.500 total time=   0.1s\n",
      "[CV 3/5] END criterion=friedman_mse, learning_rate=0.3, n_estimators=1000;, score=0.714 total time=   0.1s\n",
      "[CV 4/5] END criterion=friedman_mse, learning_rate=0.3, n_estimators=1000;, score=0.615 total time=   0.1s\n",
      "[CV 5/5] END criterion=friedman_mse, learning_rate=0.3, n_estimators=1000;, score=0.615 total time=   0.1s\n",
      "[CV 1/5] END criterion=friedman_mse, learning_rate=1, n_estimators=1;, score=0.500 total time=   0.0s\n",
      "[CV 2/5] END criterion=friedman_mse, learning_rate=1, n_estimators=1;, score=0.357 total time=   0.0s\n",
      "[CV 3/5] END criterion=friedman_mse, learning_rate=1, n_estimators=1;, score=0.643 total time=   0.0s\n",
      "[CV 4/5] END criterion=friedman_mse, learning_rate=1, n_estimators=1;, score=0.538 total time=   0.0s\n",
      "[CV 5/5] END criterion=friedman_mse, learning_rate=1, n_estimators=1;, score=0.615 total time=   0.0s\n",
      "[CV 1/5] END criterion=friedman_mse, learning_rate=1, n_estimators=5;, score=0.643 total time=   0.0s\n",
      "[CV 2/5] END criterion=friedman_mse, learning_rate=1, n_estimators=5;, score=0.429 total time=   0.0s\n",
      "[CV 3/5] END criterion=friedman_mse, learning_rate=1, n_estimators=5;, score=0.786 total time=   0.0s\n",
      "[CV 4/5] END criterion=friedman_mse, learning_rate=1, n_estimators=5;, score=0.615 total time=   0.0s\n",
      "[CV 5/5] END criterion=friedman_mse, learning_rate=1, n_estimators=5;, score=0.615 total time=   0.0s\n",
      "[CV 1/5] END criterion=friedman_mse, learning_rate=1, n_estimators=10;, score=0.500 total time=   0.0s\n",
      "[CV 2/5] END criterion=friedman_mse, learning_rate=1, n_estimators=10;, score=0.357 total time=   0.0s\n",
      "[CV 3/5] END criterion=friedman_mse, learning_rate=1, n_estimators=10;, score=0.786 total time=   0.0s\n",
      "[CV 4/5] END criterion=friedman_mse, learning_rate=1, n_estimators=10;, score=0.692 total time=   0.0s\n",
      "[CV 5/5] END criterion=friedman_mse, learning_rate=1, n_estimators=10;, score=0.615 total time=   0.0s\n",
      "[CV 1/5] END criterion=friedman_mse, learning_rate=1, n_estimators=50;, score=0.429 total time=   0.0s\n",
      "[CV 2/5] END criterion=friedman_mse, learning_rate=1, n_estimators=50;, score=0.429 total time=   0.0s\n",
      "[CV 3/5] END criterion=friedman_mse, learning_rate=1, n_estimators=50;, score=0.786 total time=   0.0s\n",
      "[CV 4/5] END criterion=friedman_mse, learning_rate=1, n_estimators=50;, score=0.538 total time=   0.0s\n",
      "[CV 5/5] END criterion=friedman_mse, learning_rate=1, n_estimators=50;, score=0.615 total time=   0.0s\n",
      "[CV 1/5] END criterion=friedman_mse, learning_rate=1, n_estimators=100;, score=0.500 total time=   0.0s\n",
      "[CV 2/5] END criterion=friedman_mse, learning_rate=1, n_estimators=100;, score=0.357 total time=   0.0s\n"
     ]
    },
    {
     "name": "stdout",
     "output_type": "stream",
     "text": [
      "[CV 3/5] END criterion=friedman_mse, learning_rate=1, n_estimators=100;, score=0.714 total time=   0.0s\n",
      "[CV 4/5] END criterion=friedman_mse, learning_rate=1, n_estimators=100;, score=0.538 total time=   0.0s\n",
      "[CV 5/5] END criterion=friedman_mse, learning_rate=1, n_estimators=100;, score=0.615 total time=   0.0s\n",
      "[CV 1/5] END criterion=friedman_mse, learning_rate=1, n_estimators=200;, score=0.571 total time=   0.0s\n",
      "[CV 2/5] END criterion=friedman_mse, learning_rate=1, n_estimators=200;, score=0.429 total time=   0.0s\n",
      "[CV 3/5] END criterion=friedman_mse, learning_rate=1, n_estimators=200;, score=0.714 total time=   0.0s\n",
      "[CV 4/5] END criterion=friedman_mse, learning_rate=1, n_estimators=200;, score=0.538 total time=   0.0s\n",
      "[CV 5/5] END criterion=friedman_mse, learning_rate=1, n_estimators=200;, score=0.462 total time=   0.0s\n",
      "[CV 1/5] END criterion=friedman_mse, learning_rate=1, n_estimators=300;, score=0.571 total time=   0.0s\n",
      "[CV 2/5] END criterion=friedman_mse, learning_rate=1, n_estimators=300;, score=0.357 total time=   0.0s\n",
      "[CV 3/5] END criterion=friedman_mse, learning_rate=1, n_estimators=300;, score=0.714 total time=   0.0s\n",
      "[CV 4/5] END criterion=friedman_mse, learning_rate=1, n_estimators=300;, score=0.538 total time=   0.0s\n",
      "[CV 5/5] END criterion=friedman_mse, learning_rate=1, n_estimators=300;, score=0.615 total time=   0.0s\n",
      "[CV 1/5] END criterion=friedman_mse, learning_rate=1, n_estimators=500;, score=0.500 total time=   0.0s\n",
      "[CV 2/5] END criterion=friedman_mse, learning_rate=1, n_estimators=500;, score=0.429 total time=   0.0s\n",
      "[CV 3/5] END criterion=friedman_mse, learning_rate=1, n_estimators=500;, score=0.714 total time=   0.0s\n",
      "[CV 4/5] END criterion=friedman_mse, learning_rate=1, n_estimators=500;, score=0.538 total time=   0.0s\n",
      "[CV 5/5] END criterion=friedman_mse, learning_rate=1, n_estimators=500;, score=0.615 total time=   0.0s\n",
      "[CV 1/5] END criterion=friedman_mse, learning_rate=1, n_estimators=1000;, score=0.500 total time=   0.1s\n",
      "[CV 2/5] END criterion=friedman_mse, learning_rate=1, n_estimators=1000;, score=0.357 total time=   0.1s\n",
      "[CV 3/5] END criterion=friedman_mse, learning_rate=1, n_estimators=1000;, score=0.714 total time=   0.1s\n",
      "[CV 4/5] END criterion=friedman_mse, learning_rate=1, n_estimators=1000;, score=0.538 total time=   0.1s\n",
      "[CV 5/5] END criterion=friedman_mse, learning_rate=1, n_estimators=1000;, score=0.615 total time=   0.1s\n",
      "[CV 1/5] END criterion=friedman_mse, learning_rate=3, n_estimators=1;, score=0.429 total time=   0.0s\n",
      "[CV 2/5] END criterion=friedman_mse, learning_rate=3, n_estimators=1;, score=0.357 total time=   0.0s\n",
      "[CV 3/5] END criterion=friedman_mse, learning_rate=3, n_estimators=1;, score=0.643 total time=   0.0s\n",
      "[CV 4/5] END criterion=friedman_mse, learning_rate=3, n_estimators=1;, score=0.538 total time=   0.0s\n",
      "[CV 5/5] END criterion=friedman_mse, learning_rate=3, n_estimators=1;, score=0.538 total time=   0.0s\n",
      "[CV 1/5] END criterion=friedman_mse, learning_rate=3, n_estimators=5;, score=0.429 total time=   0.0s\n",
      "[CV 2/5] END criterion=friedman_mse, learning_rate=3, n_estimators=5;, score=0.429 total time=   0.0s\n",
      "[CV 3/5] END criterion=friedman_mse, learning_rate=3, n_estimators=5;, score=0.429 total time=   0.0s\n",
      "[CV 4/5] END criterion=friedman_mse, learning_rate=3, n_estimators=5;, score=0.462 total time=   0.0s\n",
      "[CV 5/5] END criterion=friedman_mse, learning_rate=3, n_estimators=5;, score=0.615 total time=   0.0s\n",
      "[CV 1/5] END criterion=friedman_mse, learning_rate=3, n_estimators=10;, score=0.429 total time=   0.0s\n",
      "[CV 2/5] END criterion=friedman_mse, learning_rate=3, n_estimators=10;, score=0.429 total time=   0.0s\n",
      "[CV 3/5] END criterion=friedman_mse, learning_rate=3, n_estimators=10;, score=0.500 total time=   0.0s\n",
      "[CV 4/5] END criterion=friedman_mse, learning_rate=3, n_estimators=10;, score=0.462 total time=   0.0s\n",
      "[CV 5/5] END criterion=friedman_mse, learning_rate=3, n_estimators=10;, score=0.615 total time=   0.0s\n",
      "[CV 1/5] END criterion=friedman_mse, learning_rate=3, n_estimators=50;, score=0.429 total time=   0.0s\n",
      "[CV 2/5] END criterion=friedman_mse, learning_rate=3, n_estimators=50;, score=0.357 total time=   0.0s\n",
      "[CV 3/5] END criterion=friedman_mse, learning_rate=3, n_estimators=50;, score=0.500 total time=   0.0s\n",
      "[CV 4/5] END criterion=friedman_mse, learning_rate=3, n_estimators=50;, score=0.462 total time=   0.0s\n",
      "[CV 5/5] END criterion=friedman_mse, learning_rate=3, n_estimators=50;, score=0.615 total time=   0.0s\n",
      "[CV 1/5] END criterion=friedman_mse, learning_rate=3, n_estimators=100;, score=0.429 total time=   0.0s\n",
      "[CV 2/5] END criterion=friedman_mse, learning_rate=3, n_estimators=100;, score=0.357 total time=   0.0s\n",
      "[CV 3/5] END criterion=friedman_mse, learning_rate=3, n_estimators=100;, score=0.500 total time=   0.0s\n",
      "[CV 4/5] END criterion=friedman_mse, learning_rate=3, n_estimators=100;, score=0.538 total time=   0.0s\n",
      "[CV 5/5] END criterion=friedman_mse, learning_rate=3, n_estimators=100;, score=0.538 total time=   0.0s\n",
      "[CV 1/5] END criterion=friedman_mse, learning_rate=3, n_estimators=200;, score=0.429 total time=   0.0s\n",
      "[CV 2/5] END criterion=friedman_mse, learning_rate=3, n_estimators=200;, score=0.357 total time=   0.0s\n",
      "[CV 3/5] END criterion=friedman_mse, learning_rate=3, n_estimators=200;, score=0.500 total time=   0.0s\n",
      "[CV 4/5] END criterion=friedman_mse, learning_rate=3, n_estimators=200;, score=0.538 total time=   0.0s\n",
      "[CV 5/5] END criterion=friedman_mse, learning_rate=3, n_estimators=200;, score=0.538 total time=   0.0s\n",
      "[CV 1/5] END criterion=friedman_mse, learning_rate=3, n_estimators=300;, score=0.429 total time=   0.0s\n",
      "[CV 2/5] END criterion=friedman_mse, learning_rate=3, n_estimators=300;, score=0.357 total time=   0.0s\n",
      "[CV 3/5] END criterion=friedman_mse, learning_rate=3, n_estimators=300;, score=0.571 total time=   0.0s\n",
      "[CV 4/5] END criterion=friedman_mse, learning_rate=3, n_estimators=300;, score=0.538 total time=   0.0s\n",
      "[CV 5/5] END criterion=friedman_mse, learning_rate=3, n_estimators=300;, score=0.538 total time=   0.0s\n",
      "[CV 1/5] END criterion=friedman_mse, learning_rate=3, n_estimators=500;, score=0.429 total time=   0.0s\n",
      "[CV 2/5] END criterion=friedman_mse, learning_rate=3, n_estimators=500;, score=0.429 total time=   0.0s\n",
      "[CV 3/5] END criterion=friedman_mse, learning_rate=3, n_estimators=500;, score=0.429 total time=   0.0s\n",
      "[CV 4/5] END criterion=friedman_mse, learning_rate=3, n_estimators=500;, score=0.538 total time=   0.0s\n",
      "[CV 5/5] END criterion=friedman_mse, learning_rate=3, n_estimators=500;, score=0.538 total time=   0.0s\n",
      "[CV 1/5] END criterion=friedman_mse, learning_rate=3, n_estimators=1000;, score=0.429 total time=   0.1s\n",
      "[CV 2/5] END criterion=friedman_mse, learning_rate=3, n_estimators=1000;, score=0.500 total time=   0.1s\n",
      "[CV 3/5] END criterion=friedman_mse, learning_rate=3, n_estimators=1000;, score=0.500 total time=   0.1s\n",
      "[CV 4/5] END criterion=friedman_mse, learning_rate=3, n_estimators=1000;, score=0.538 total time=   0.2s\n",
      "[CV 5/5] END criterion=friedman_mse, learning_rate=3, n_estimators=1000;, score=0.538 total time=   0.3s\n",
      "[CV 1/5] END criterion=squared_error, learning_rate=0.03, n_estimators=1;, score=0.500 total time=   0.0s\n",
      "[CV 2/5] END criterion=squared_error, learning_rate=0.03, n_estimators=1;, score=0.357 total time=   0.0s\n",
      "[CV 3/5] END criterion=squared_error, learning_rate=0.03, n_estimators=1;, score=0.643 total time=   0.0s\n",
      "[CV 4/5] END criterion=squared_error, learning_rate=0.03, n_estimators=1;, score=0.462 total time=   0.0s\n",
      "[CV 5/5] END criterion=squared_error, learning_rate=0.03, n_estimators=1;, score=0.538 total time=   0.0s\n",
      "[CV 1/5] END criterion=squared_error, learning_rate=0.03, n_estimators=5;, score=0.571 total time=   0.0s\n",
      "[CV 2/5] END criterion=squared_error, learning_rate=0.03, n_estimators=5;, score=0.357 total time=   0.0s\n",
      "[CV 3/5] END criterion=squared_error, learning_rate=0.03, n_estimators=5;, score=0.643 total time=   0.0s\n",
      "[CV 4/5] END criterion=squared_error, learning_rate=0.03, n_estimators=5;, score=0.538 total time=   0.0s\n",
      "[CV 5/5] END criterion=squared_error, learning_rate=0.03, n_estimators=5;, score=0.615 total time=   0.0s\n",
      "[CV 1/5] END criterion=squared_error, learning_rate=0.03, n_estimators=10;, score=0.571 total time=   0.0s\n",
      "[CV 2/5] END criterion=squared_error, learning_rate=0.03, n_estimators=10;, score=0.357 total time=   0.0s\n",
      "[CV 3/5] END criterion=squared_error, learning_rate=0.03, n_estimators=10;, score=0.714 total time=   0.0s\n",
      "[CV 4/5] END criterion=squared_error, learning_rate=0.03, n_estimators=10;, score=0.615 total time=   0.0s\n",
      "[CV 5/5] END criterion=squared_error, learning_rate=0.03, n_estimators=10;, score=0.692 total time=   0.0s\n",
      "[CV 1/5] END criterion=squared_error, learning_rate=0.03, n_estimators=50;, score=0.857 total time=   0.0s\n",
      "[CV 2/5] END criterion=squared_error, learning_rate=0.03, n_estimators=50;, score=0.357 total time=   0.0s\n",
      "[CV 3/5] END criterion=squared_error, learning_rate=0.03, n_estimators=50;, score=0.857 total time=   0.0s\n",
      "[CV 4/5] END criterion=squared_error, learning_rate=0.03, n_estimators=50;, score=0.538 total time=   0.0s\n",
      "[CV 5/5] END criterion=squared_error, learning_rate=0.03, n_estimators=50;, score=0.615 total time=   0.0s\n",
      "[CV 1/5] END criterion=squared_error, learning_rate=0.03, n_estimators=100;, score=0.786 total time=   0.0s\n"
     ]
    },
    {
     "name": "stdout",
     "output_type": "stream",
     "text": [
      "[CV 2/5] END criterion=squared_error, learning_rate=0.03, n_estimators=100;, score=0.429 total time=   0.0s\n",
      "[CV 3/5] END criterion=squared_error, learning_rate=0.03, n_estimators=100;, score=0.857 total time=   0.0s\n",
      "[CV 4/5] END criterion=squared_error, learning_rate=0.03, n_estimators=100;, score=0.538 total time=   0.0s\n",
      "[CV 5/5] END criterion=squared_error, learning_rate=0.03, n_estimators=100;, score=0.615 total time=   0.0s\n",
      "[CV 1/5] END criterion=squared_error, learning_rate=0.03, n_estimators=200;, score=0.714 total time=   0.0s\n",
      "[CV 2/5] END criterion=squared_error, learning_rate=0.03, n_estimators=200;, score=0.500 total time=   0.0s\n",
      "[CV 3/5] END criterion=squared_error, learning_rate=0.03, n_estimators=200;, score=0.857 total time=   0.0s\n",
      "[CV 4/5] END criterion=squared_error, learning_rate=0.03, n_estimators=200;, score=0.615 total time=   0.0s\n",
      "[CV 5/5] END criterion=squared_error, learning_rate=0.03, n_estimators=200;, score=0.615 total time=   0.0s\n",
      "[CV 1/5] END criterion=squared_error, learning_rate=0.03, n_estimators=300;, score=0.714 total time=   0.0s\n",
      "[CV 2/5] END criterion=squared_error, learning_rate=0.03, n_estimators=300;, score=0.500 total time=   0.0s\n",
      "[CV 3/5] END criterion=squared_error, learning_rate=0.03, n_estimators=300;, score=0.786 total time=   0.0s\n",
      "[CV 4/5] END criterion=squared_error, learning_rate=0.03, n_estimators=300;, score=0.538 total time=   0.0s\n",
      "[CV 5/5] END criterion=squared_error, learning_rate=0.03, n_estimators=300;, score=0.615 total time=   0.0s\n",
      "[CV 1/5] END criterion=squared_error, learning_rate=0.03, n_estimators=500;, score=0.643 total time=   0.1s\n",
      "[CV 2/5] END criterion=squared_error, learning_rate=0.03, n_estimators=500;, score=0.500 total time=   0.1s\n",
      "[CV 3/5] END criterion=squared_error, learning_rate=0.03, n_estimators=500;, score=0.786 total time=   0.1s\n",
      "[CV 4/5] END criterion=squared_error, learning_rate=0.03, n_estimators=500;, score=0.538 total time=   0.1s\n",
      "[CV 5/5] END criterion=squared_error, learning_rate=0.03, n_estimators=500;, score=0.615 total time=   0.1s\n",
      "[CV 1/5] END criterion=squared_error, learning_rate=0.03, n_estimators=1000;, score=0.571 total time=   0.3s\n",
      "[CV 2/5] END criterion=squared_error, learning_rate=0.03, n_estimators=1000;, score=0.500 total time=   0.3s\n",
      "[CV 3/5] END criterion=squared_error, learning_rate=0.03, n_estimators=1000;, score=0.714 total time=   0.3s\n",
      "[CV 4/5] END criterion=squared_error, learning_rate=0.03, n_estimators=1000;, score=0.615 total time=   0.2s\n",
      "[CV 5/5] END criterion=squared_error, learning_rate=0.03, n_estimators=1000;, score=0.692 total time=   0.2s\n",
      "[CV 1/5] END criterion=squared_error, learning_rate=0.1, n_estimators=1;, score=0.500 total time=   0.0s\n",
      "[CV 2/5] END criterion=squared_error, learning_rate=0.1, n_estimators=1;, score=0.429 total time=   0.0s\n",
      "[CV 3/5] END criterion=squared_error, learning_rate=0.1, n_estimators=1;, score=0.571 total time=   0.0s\n",
      "[CV 4/5] END criterion=squared_error, learning_rate=0.1, n_estimators=1;, score=0.538 total time=   0.0s\n",
      "[CV 5/5] END criterion=squared_error, learning_rate=0.1, n_estimators=1;, score=0.615 total time=   0.0s\n",
      "[CV 1/5] END criterion=squared_error, learning_rate=0.1, n_estimators=5;, score=0.714 total time=   0.0s\n",
      "[CV 2/5] END criterion=squared_error, learning_rate=0.1, n_estimators=5;, score=0.357 total time=   0.0s\n",
      "[CV 3/5] END criterion=squared_error, learning_rate=0.1, n_estimators=5;, score=0.714 total time=   0.0s\n",
      "[CV 4/5] END criterion=squared_error, learning_rate=0.1, n_estimators=5;, score=0.615 total time=   0.0s\n",
      "[CV 5/5] END criterion=squared_error, learning_rate=0.1, n_estimators=5;, score=0.615 total time=   0.0s\n",
      "[CV 1/5] END criterion=squared_error, learning_rate=0.1, n_estimators=10;, score=0.643 total time=   0.0s\n",
      "[CV 2/5] END criterion=squared_error, learning_rate=0.1, n_estimators=10;, score=0.429 total time=   0.0s\n",
      "[CV 3/5] END criterion=squared_error, learning_rate=0.1, n_estimators=10;, score=0.786 total time=   0.0s\n",
      "[CV 4/5] END criterion=squared_error, learning_rate=0.1, n_estimators=10;, score=0.615 total time=   0.0s\n",
      "[CV 5/5] END criterion=squared_error, learning_rate=0.1, n_estimators=10;, score=0.615 total time=   0.0s\n",
      "[CV 1/5] END criterion=squared_error, learning_rate=0.1, n_estimators=50;, score=0.714 total time=   0.0s\n",
      "[CV 2/5] END criterion=squared_error, learning_rate=0.1, n_estimators=50;, score=0.500 total time=   0.0s\n",
      "[CV 3/5] END criterion=squared_error, learning_rate=0.1, n_estimators=50;, score=0.857 total time=   0.0s\n",
      "[CV 4/5] END criterion=squared_error, learning_rate=0.1, n_estimators=50;, score=0.615 total time=   0.0s\n",
      "[CV 5/5] END criterion=squared_error, learning_rate=0.1, n_estimators=50;, score=0.615 total time=   0.0s\n",
      "[CV 1/5] END criterion=squared_error, learning_rate=0.1, n_estimators=100;, score=0.714 total time=   0.0s\n",
      "[CV 2/5] END criterion=squared_error, learning_rate=0.1, n_estimators=100;, score=0.500 total time=   0.0s\n",
      "[CV 3/5] END criterion=squared_error, learning_rate=0.1, n_estimators=100;, score=0.786 total time=   0.0s\n",
      "[CV 4/5] END criterion=squared_error, learning_rate=0.1, n_estimators=100;, score=0.538 total time=   0.0s\n",
      "[CV 5/5] END criterion=squared_error, learning_rate=0.1, n_estimators=100;, score=0.615 total time=   0.0s\n",
      "[CV 1/5] END criterion=squared_error, learning_rate=0.1, n_estimators=200;, score=0.714 total time=   0.0s\n",
      "[CV 2/5] END criterion=squared_error, learning_rate=0.1, n_estimators=200;, score=0.429 total time=   0.0s\n",
      "[CV 3/5] END criterion=squared_error, learning_rate=0.1, n_estimators=200;, score=0.714 total time=   0.0s\n",
      "[CV 4/5] END criterion=squared_error, learning_rate=0.1, n_estimators=200;, score=0.615 total time=   0.0s\n",
      "[CV 5/5] END criterion=squared_error, learning_rate=0.1, n_estimators=200;, score=0.692 total time=   0.0s\n",
      "[CV 1/5] END criterion=squared_error, learning_rate=0.1, n_estimators=300;, score=0.643 total time=   0.0s\n",
      "[CV 2/5] END criterion=squared_error, learning_rate=0.1, n_estimators=300;, score=0.429 total time=   0.0s\n",
      "[CV 3/5] END criterion=squared_error, learning_rate=0.1, n_estimators=300;, score=0.714 total time=   0.0s\n",
      "[CV 4/5] END criterion=squared_error, learning_rate=0.1, n_estimators=300;, score=0.615 total time=   0.0s\n",
      "[CV 5/5] END criterion=squared_error, learning_rate=0.1, n_estimators=300;, score=0.692 total time=   0.0s\n",
      "[CV 1/5] END criterion=squared_error, learning_rate=0.1, n_estimators=500;, score=0.643 total time=   0.1s\n",
      "[CV 2/5] END criterion=squared_error, learning_rate=0.1, n_estimators=500;, score=0.429 total time=   0.1s\n",
      "[CV 3/5] END criterion=squared_error, learning_rate=0.1, n_estimators=500;, score=0.714 total time=   0.1s\n",
      "[CV 4/5] END criterion=squared_error, learning_rate=0.1, n_estimators=500;, score=0.615 total time=   0.1s\n",
      "[CV 5/5] END criterion=squared_error, learning_rate=0.1, n_estimators=500;, score=0.692 total time=   0.1s\n",
      "[CV 1/5] END criterion=squared_error, learning_rate=0.1, n_estimators=1000;, score=0.643 total time=   0.2s\n",
      "[CV 2/5] END criterion=squared_error, learning_rate=0.1, n_estimators=1000;, score=0.500 total time=   0.1s\n",
      "[CV 3/5] END criterion=squared_error, learning_rate=0.1, n_estimators=1000;, score=0.714 total time=   0.2s\n",
      "[CV 4/5] END criterion=squared_error, learning_rate=0.1, n_estimators=1000;, score=0.615 total time=   0.2s\n",
      "[CV 5/5] END criterion=squared_error, learning_rate=0.1, n_estimators=1000;, score=0.692 total time=   0.2s\n",
      "[CV 1/5] END criterion=squared_error, learning_rate=0.3, n_estimators=1;, score=0.429 total time=   0.0s\n",
      "[CV 2/5] END criterion=squared_error, learning_rate=0.3, n_estimators=1;, score=0.357 total time=   0.0s\n",
      "[CV 3/5] END criterion=squared_error, learning_rate=0.3, n_estimators=1;, score=0.571 total time=   0.0s\n",
      "[CV 4/5] END criterion=squared_error, learning_rate=0.3, n_estimators=1;, score=0.538 total time=   0.0s\n",
      "[CV 5/5] END criterion=squared_error, learning_rate=0.3, n_estimators=1;, score=0.538 total time=   0.0s\n",
      "[CV 1/5] END criterion=squared_error, learning_rate=0.3, n_estimators=5;, score=0.643 total time=   0.0s\n",
      "[CV 2/5] END criterion=squared_error, learning_rate=0.3, n_estimators=5;, score=0.429 total time=   0.0s\n",
      "[CV 3/5] END criterion=squared_error, learning_rate=0.3, n_estimators=5;, score=0.786 total time=   0.0s\n",
      "[CV 4/5] END criterion=squared_error, learning_rate=0.3, n_estimators=5;, score=0.538 total time=   0.0s\n",
      "[CV 5/5] END criterion=squared_error, learning_rate=0.3, n_estimators=5;, score=0.615 total time=   0.0s\n",
      "[CV 1/5] END criterion=squared_error, learning_rate=0.3, n_estimators=10;, score=0.786 total time=   0.0s\n",
      "[CV 2/5] END criterion=squared_error, learning_rate=0.3, n_estimators=10;, score=0.357 total time=   0.0s\n",
      "[CV 3/5] END criterion=squared_error, learning_rate=0.3, n_estimators=10;, score=0.857 total time=   0.0s\n",
      "[CV 4/5] END criterion=squared_error, learning_rate=0.3, n_estimators=10;, score=0.538 total time=   0.0s\n",
      "[CV 5/5] END criterion=squared_error, learning_rate=0.3, n_estimators=10;, score=0.615 total time=   0.0s\n",
      "[CV 1/5] END criterion=squared_error, learning_rate=0.3, n_estimators=50;, score=0.714 total time=   0.0s\n",
      "[CV 2/5] END criterion=squared_error, learning_rate=0.3, n_estimators=50;, score=0.429 total time=   0.0s\n",
      "[CV 3/5] END criterion=squared_error, learning_rate=0.3, n_estimators=50;, score=0.857 total time=   0.0s\n",
      "[CV 4/5] END criterion=squared_error, learning_rate=0.3, n_estimators=50;, score=0.615 total time=   0.0s\n",
      "[CV 5/5] END criterion=squared_error, learning_rate=0.3, n_estimators=50;, score=0.615 total time=   0.0s\n",
      "[CV 1/5] END criterion=squared_error, learning_rate=0.3, n_estimators=100;, score=0.643 total time=   0.0s\n",
      "[CV 2/5] END criterion=squared_error, learning_rate=0.3, n_estimators=100;, score=0.500 total time=   0.0s\n"
     ]
    },
    {
     "name": "stdout",
     "output_type": "stream",
     "text": [
      "[CV 3/5] END criterion=squared_error, learning_rate=0.3, n_estimators=100;, score=0.714 total time=   0.0s\n",
      "[CV 4/5] END criterion=squared_error, learning_rate=0.3, n_estimators=100;, score=0.615 total time=   0.0s\n",
      "[CV 5/5] END criterion=squared_error, learning_rate=0.3, n_estimators=100;, score=0.692 total time=   0.0s\n",
      "[CV 1/5] END criterion=squared_error, learning_rate=0.3, n_estimators=200;, score=0.643 total time=   0.0s\n",
      "[CV 2/5] END criterion=squared_error, learning_rate=0.3, n_estimators=200;, score=0.429 total time=   0.0s\n",
      "[CV 3/5] END criterion=squared_error, learning_rate=0.3, n_estimators=200;, score=0.714 total time=   0.0s\n",
      "[CV 4/5] END criterion=squared_error, learning_rate=0.3, n_estimators=200;, score=0.615 total time=   0.0s\n",
      "[CV 5/5] END criterion=squared_error, learning_rate=0.3, n_estimators=200;, score=0.615 total time=   0.0s\n",
      "[CV 1/5] END criterion=squared_error, learning_rate=0.3, n_estimators=300;, score=0.643 total time=   0.0s\n",
      "[CV 2/5] END criterion=squared_error, learning_rate=0.3, n_estimators=300;, score=0.500 total time=   0.0s\n",
      "[CV 3/5] END criterion=squared_error, learning_rate=0.3, n_estimators=300;, score=0.714 total time=   0.0s\n",
      "[CV 4/5] END criterion=squared_error, learning_rate=0.3, n_estimators=300;, score=0.615 total time=   0.0s\n",
      "[CV 5/5] END criterion=squared_error, learning_rate=0.3, n_estimators=300;, score=0.692 total time=   0.0s\n",
      "[CV 1/5] END criterion=squared_error, learning_rate=0.3, n_estimators=500;, score=0.643 total time=   0.0s\n",
      "[CV 2/5] END criterion=squared_error, learning_rate=0.3, n_estimators=500;, score=0.500 total time=   0.0s\n",
      "[CV 3/5] END criterion=squared_error, learning_rate=0.3, n_estimators=500;, score=0.714 total time=   0.0s\n",
      "[CV 4/5] END criterion=squared_error, learning_rate=0.3, n_estimators=500;, score=0.615 total time=   0.0s\n",
      "[CV 5/5] END criterion=squared_error, learning_rate=0.3, n_estimators=500;, score=0.615 total time=   0.0s\n",
      "[CV 1/5] END criterion=squared_error, learning_rate=0.3, n_estimators=1000;, score=0.643 total time=   0.1s\n",
      "[CV 2/5] END criterion=squared_error, learning_rate=0.3, n_estimators=1000;, score=0.429 total time=   0.1s\n",
      "[CV 3/5] END criterion=squared_error, learning_rate=0.3, n_estimators=1000;, score=0.714 total time=   0.1s\n",
      "[CV 4/5] END criterion=squared_error, learning_rate=0.3, n_estimators=1000;, score=0.615 total time=   0.1s\n",
      "[CV 5/5] END criterion=squared_error, learning_rate=0.3, n_estimators=1000;, score=0.615 total time=   0.1s\n",
      "[CV 1/5] END criterion=squared_error, learning_rate=1, n_estimators=1;, score=0.500 total time=   0.0s\n",
      "[CV 2/5] END criterion=squared_error, learning_rate=1, n_estimators=1;, score=0.429 total time=   0.0s\n",
      "[CV 3/5] END criterion=squared_error, learning_rate=1, n_estimators=1;, score=0.571 total time=   0.0s\n",
      "[CV 4/5] END criterion=squared_error, learning_rate=1, n_estimators=1;, score=0.538 total time=   0.0s\n",
      "[CV 5/5] END criterion=squared_error, learning_rate=1, n_estimators=1;, score=0.615 total time=   0.0s\n",
      "[CV 1/5] END criterion=squared_error, learning_rate=1, n_estimators=5;, score=0.643 total time=   0.0s\n",
      "[CV 2/5] END criterion=squared_error, learning_rate=1, n_estimators=5;, score=0.429 total time=   0.0s\n",
      "[CV 3/5] END criterion=squared_error, learning_rate=1, n_estimators=5;, score=0.786 total time=   0.0s\n",
      "[CV 4/5] END criterion=squared_error, learning_rate=1, n_estimators=5;, score=0.615 total time=   0.0s\n",
      "[CV 5/5] END criterion=squared_error, learning_rate=1, n_estimators=5;, score=0.615 total time=   0.0s\n",
      "[CV 1/5] END criterion=squared_error, learning_rate=1, n_estimators=10;, score=0.429 total time=   0.0s\n",
      "[CV 2/5] END criterion=squared_error, learning_rate=1, n_estimators=10;, score=0.286 total time=   0.0s\n",
      "[CV 3/5] END criterion=squared_error, learning_rate=1, n_estimators=10;, score=0.857 total time=   0.0s\n",
      "[CV 4/5] END criterion=squared_error, learning_rate=1, n_estimators=10;, score=0.692 total time=   0.0s\n",
      "[CV 5/5] END criterion=squared_error, learning_rate=1, n_estimators=10;, score=0.615 total time=   0.0s\n",
      "[CV 1/5] END criterion=squared_error, learning_rate=1, n_estimators=50;, score=0.500 total time=   0.0s\n",
      "[CV 2/5] END criterion=squared_error, learning_rate=1, n_estimators=50;, score=0.357 total time=   0.0s\n",
      "[CV 3/5] END criterion=squared_error, learning_rate=1, n_estimators=50;, score=0.786 total time=   0.0s\n",
      "[CV 4/5] END criterion=squared_error, learning_rate=1, n_estimators=50;, score=0.538 total time=   0.0s\n",
      "[CV 5/5] END criterion=squared_error, learning_rate=1, n_estimators=50;, score=0.615 total time=   0.0s\n",
      "[CV 1/5] END criterion=squared_error, learning_rate=1, n_estimators=100;, score=0.500 total time=   0.0s\n",
      "[CV 2/5] END criterion=squared_error, learning_rate=1, n_estimators=100;, score=0.286 total time=   0.0s\n",
      "[CV 3/5] END criterion=squared_error, learning_rate=1, n_estimators=100;, score=0.714 total time=   0.0s\n",
      "[CV 4/5] END criterion=squared_error, learning_rate=1, n_estimators=100;, score=0.538 total time=   0.0s\n",
      "[CV 5/5] END criterion=squared_error, learning_rate=1, n_estimators=100;, score=0.538 total time=   0.0s\n",
      "[CV 1/5] END criterion=squared_error, learning_rate=1, n_estimators=200;, score=0.500 total time=   0.0s\n",
      "[CV 2/5] END criterion=squared_error, learning_rate=1, n_estimators=200;, score=0.357 total time=   0.0s\n",
      "[CV 3/5] END criterion=squared_error, learning_rate=1, n_estimators=200;, score=0.714 total time=   0.0s\n",
      "[CV 4/5] END criterion=squared_error, learning_rate=1, n_estimators=200;, score=0.538 total time=   0.0s\n",
      "[CV 5/5] END criterion=squared_error, learning_rate=1, n_estimators=200;, score=0.462 total time=   0.0s\n",
      "[CV 1/5] END criterion=squared_error, learning_rate=1, n_estimators=300;, score=0.500 total time=   0.0s\n",
      "[CV 2/5] END criterion=squared_error, learning_rate=1, n_estimators=300;, score=0.357 total time=   0.0s\n",
      "[CV 3/5] END criterion=squared_error, learning_rate=1, n_estimators=300;, score=0.714 total time=   0.0s\n",
      "[CV 4/5] END criterion=squared_error, learning_rate=1, n_estimators=300;, score=0.538 total time=   0.0s\n",
      "[CV 5/5] END criterion=squared_error, learning_rate=1, n_estimators=300;, score=0.615 total time=   0.0s\n",
      "[CV 1/5] END criterion=squared_error, learning_rate=1, n_estimators=500;, score=0.500 total time=   0.0s\n",
      "[CV 2/5] END criterion=squared_error, learning_rate=1, n_estimators=500;, score=0.500 total time=   0.0s\n",
      "[CV 3/5] END criterion=squared_error, learning_rate=1, n_estimators=500;, score=0.714 total time=   0.0s\n",
      "[CV 4/5] END criterion=squared_error, learning_rate=1, n_estimators=500;, score=0.538 total time=   0.0s\n",
      "[CV 5/5] END criterion=squared_error, learning_rate=1, n_estimators=500;, score=0.615 total time=   0.0s\n",
      "[CV 1/5] END criterion=squared_error, learning_rate=1, n_estimators=1000;, score=0.571 total time=   0.1s\n",
      "[CV 2/5] END criterion=squared_error, learning_rate=1, n_estimators=1000;, score=0.357 total time=   0.1s\n",
      "[CV 3/5] END criterion=squared_error, learning_rate=1, n_estimators=1000;, score=0.714 total time=   0.1s\n",
      "[CV 4/5] END criterion=squared_error, learning_rate=1, n_estimators=1000;, score=0.538 total time=   0.1s\n",
      "[CV 5/5] END criterion=squared_error, learning_rate=1, n_estimators=1000;, score=0.615 total time=   0.1s\n",
      "[CV 1/5] END criterion=squared_error, learning_rate=3, n_estimators=1;, score=0.500 total time=   0.0s\n",
      "[CV 2/5] END criterion=squared_error, learning_rate=3, n_estimators=1;, score=0.429 total time=   0.0s\n",
      "[CV 3/5] END criterion=squared_error, learning_rate=3, n_estimators=1;, score=0.643 total time=   0.0s\n",
      "[CV 4/5] END criterion=squared_error, learning_rate=3, n_estimators=1;, score=0.538 total time=   0.0s\n",
      "[CV 5/5] END criterion=squared_error, learning_rate=3, n_estimators=1;, score=0.615 total time=   0.0s\n",
      "[CV 1/5] END criterion=squared_error, learning_rate=3, n_estimators=5;, score=0.429 total time=   0.0s\n",
      "[CV 2/5] END criterion=squared_error, learning_rate=3, n_estimators=5;, score=0.429 total time=   0.0s\n",
      "[CV 3/5] END criterion=squared_error, learning_rate=3, n_estimators=5;, score=0.500 total time=   0.0s\n",
      "[CV 4/5] END criterion=squared_error, learning_rate=3, n_estimators=5;, score=0.538 total time=   0.0s\n",
      "[CV 5/5] END criterion=squared_error, learning_rate=3, n_estimators=5;, score=0.538 total time=   0.0s\n",
      "[CV 1/5] END criterion=squared_error, learning_rate=3, n_estimators=10;, score=0.429 total time=   0.0s\n",
      "[CV 2/5] END criterion=squared_error, learning_rate=3, n_estimators=10;, score=0.429 total time=   0.0s\n",
      "[CV 3/5] END criterion=squared_error, learning_rate=3, n_estimators=10;, score=0.429 total time=   0.0s\n",
      "[CV 4/5] END criterion=squared_error, learning_rate=3, n_estimators=10;, score=0.538 total time=   0.0s\n",
      "[CV 5/5] END criterion=squared_error, learning_rate=3, n_estimators=10;, score=0.538 total time=   0.0s\n",
      "[CV 1/5] END criterion=squared_error, learning_rate=3, n_estimators=50;, score=0.429 total time=   0.0s\n",
      "[CV 2/5] END criterion=squared_error, learning_rate=3, n_estimators=50;, score=0.500 total time=   0.0s\n",
      "[CV 3/5] END criterion=squared_error, learning_rate=3, n_estimators=50;, score=0.500 total time=   0.0s\n",
      "[CV 4/5] END criterion=squared_error, learning_rate=3, n_estimators=50;, score=0.538 total time=   0.0s\n",
      "[CV 5/5] END criterion=squared_error, learning_rate=3, n_estimators=50;, score=0.538 total time=   0.0s\n",
      "[CV 1/5] END criterion=squared_error, learning_rate=3, n_estimators=100;, score=0.429 total time=   0.0s\n",
      "[CV 2/5] END criterion=squared_error, learning_rate=3, n_estimators=100;, score=0.500 total time=   0.0s\n",
      "[CV 3/5] END criterion=squared_error, learning_rate=3, n_estimators=100;, score=0.571 total time=   0.0s\n"
     ]
    },
    {
     "name": "stdout",
     "output_type": "stream",
     "text": [
      "[CV 4/5] END criterion=squared_error, learning_rate=3, n_estimators=100;, score=0.615 total time=   0.0s\n",
      "[CV 5/5] END criterion=squared_error, learning_rate=3, n_estimators=100;, score=0.538 total time=   0.0s\n",
      "[CV 1/5] END criterion=squared_error, learning_rate=3, n_estimators=200;, score=0.429 total time=   0.0s\n",
      "[CV 2/5] END criterion=squared_error, learning_rate=3, n_estimators=200;, score=0.429 total time=   0.0s\n",
      "[CV 3/5] END criterion=squared_error, learning_rate=3, n_estimators=200;, score=0.429 total time=   0.0s\n",
      "[CV 4/5] END criterion=squared_error, learning_rate=3, n_estimators=200;, score=0.615 total time=   0.0s\n",
      "[CV 5/5] END criterion=squared_error, learning_rate=3, n_estimators=200;, score=0.538 total time=   0.0s\n",
      "[CV 1/5] END criterion=squared_error, learning_rate=3, n_estimators=300;, score=0.429 total time=   0.0s\n",
      "[CV 2/5] END criterion=squared_error, learning_rate=3, n_estimators=300;, score=0.429 total time=   0.0s\n",
      "[CV 3/5] END criterion=squared_error, learning_rate=3, n_estimators=300;, score=0.429 total time=   0.0s\n",
      "[CV 4/5] END criterion=squared_error, learning_rate=3, n_estimators=300;, score=0.615 total time=   0.0s\n",
      "[CV 5/5] END criterion=squared_error, learning_rate=3, n_estimators=300;, score=0.538 total time=   0.0s\n",
      "[CV 1/5] END criterion=squared_error, learning_rate=3, n_estimators=500;, score=0.429 total time=   0.0s\n",
      "[CV 2/5] END criterion=squared_error, learning_rate=3, n_estimators=500;, score=0.357 total time=   0.0s\n",
      "[CV 3/5] END criterion=squared_error, learning_rate=3, n_estimators=500;, score=0.429 total time=   0.0s\n",
      "[CV 4/5] END criterion=squared_error, learning_rate=3, n_estimators=500;, score=0.538 total time=   0.0s\n",
      "[CV 5/5] END criterion=squared_error, learning_rate=3, n_estimators=500;, score=0.538 total time=   0.1s\n",
      "[CV 1/5] END criterion=squared_error, learning_rate=3, n_estimators=1000;, score=0.429 total time=   0.1s\n",
      "[CV 2/5] END criterion=squared_error, learning_rate=3, n_estimators=1000;, score=0.429 total time=   0.1s\n",
      "[CV 3/5] END criterion=squared_error, learning_rate=3, n_estimators=1000;, score=0.429 total time=   0.1s\n",
      "[CV 4/5] END criterion=squared_error, learning_rate=3, n_estimators=1000;, score=0.462 total time=   0.2s\n",
      "[CV 5/5] END criterion=squared_error, learning_rate=3, n_estimators=1000;, score=0.538 total time=   0.2s\n",
      "[CV 1/5] END criterion=absolute_error, learning_rate=0.03, n_estimators=1;, score=0.643 total time=   0.0s\n",
      "[CV 2/5] END criterion=absolute_error, learning_rate=0.03, n_estimators=1;, score=0.357 total time=   0.0s\n",
      "[CV 3/5] END criterion=absolute_error, learning_rate=0.03, n_estimators=1;, score=0.786 total time=   0.0s\n",
      "[CV 4/5] END criterion=absolute_error, learning_rate=0.03, n_estimators=1;, score=0.615 total time=   0.0s\n",
      "[CV 5/5] END criterion=absolute_error, learning_rate=0.03, n_estimators=1;, score=0.615 total time=   0.0s\n",
      "[CV 1/5] END criterion=absolute_error, learning_rate=0.03, n_estimators=5;, score=0.643 total time=   0.0s\n",
      "[CV 2/5] END criterion=absolute_error, learning_rate=0.03, n_estimators=5;, score=0.357 total time=   0.0s\n",
      "[CV 3/5] END criterion=absolute_error, learning_rate=0.03, n_estimators=5;, score=0.714 total time=   0.0s\n",
      "[CV 4/5] END criterion=absolute_error, learning_rate=0.03, n_estimators=5;, score=0.462 total time=   0.0s\n",
      "[CV 5/5] END criterion=absolute_error, learning_rate=0.03, n_estimators=5;, score=0.615 total time=   0.0s\n",
      "[CV 1/5] END criterion=absolute_error, learning_rate=0.03, n_estimators=10;, score=0.643 total time=   0.0s\n",
      "[CV 2/5] END criterion=absolute_error, learning_rate=0.03, n_estimators=10;, score=0.357 total time=   0.0s\n",
      "[CV 3/5] END criterion=absolute_error, learning_rate=0.03, n_estimators=10;, score=0.714 total time=   0.0s\n",
      "[CV 4/5] END criterion=absolute_error, learning_rate=0.03, n_estimators=10;, score=0.615 total time=   0.0s\n",
      "[CV 5/5] END criterion=absolute_error, learning_rate=0.03, n_estimators=10;, score=0.615 total time=   0.0s\n",
      "[CV 1/5] END criterion=absolute_error, learning_rate=0.03, n_estimators=50;, score=0.643 total time=   0.0s\n",
      "[CV 2/5] END criterion=absolute_error, learning_rate=0.03, n_estimators=50;, score=0.357 total time=   0.0s\n",
      "[CV 3/5] END criterion=absolute_error, learning_rate=0.03, n_estimators=50;, score=0.857 total time=   0.0s\n",
      "[CV 4/5] END criterion=absolute_error, learning_rate=0.03, n_estimators=50;, score=0.615 total time=   0.0s\n",
      "[CV 5/5] END criterion=absolute_error, learning_rate=0.03, n_estimators=50;, score=0.615 total time=   0.0s\n",
      "[CV 1/5] END criterion=absolute_error, learning_rate=0.03, n_estimators=100;, score=0.786 total time=   0.0s\n",
      "[CV 2/5] END criterion=absolute_error, learning_rate=0.03, n_estimators=100;, score=0.357 total time=   0.0s\n",
      "[CV 3/5] END criterion=absolute_error, learning_rate=0.03, n_estimators=100;, score=0.857 total time=   0.0s\n",
      "[CV 4/5] END criterion=absolute_error, learning_rate=0.03, n_estimators=100;, score=0.615 total time=   0.0s\n",
      "[CV 5/5] END criterion=absolute_error, learning_rate=0.03, n_estimators=100;, score=0.615 total time=   0.0s\n",
      "[CV 1/5] END criterion=absolute_error, learning_rate=0.03, n_estimators=200;, score=0.786 total time=   0.0s\n",
      "[CV 2/5] END criterion=absolute_error, learning_rate=0.03, n_estimators=200;, score=0.357 total time=   0.0s\n",
      "[CV 3/5] END criterion=absolute_error, learning_rate=0.03, n_estimators=200;, score=0.786 total time=   0.0s\n",
      "[CV 4/5] END criterion=absolute_error, learning_rate=0.03, n_estimators=200;, score=0.462 total time=   0.0s\n",
      "[CV 5/5] END criterion=absolute_error, learning_rate=0.03, n_estimators=200;, score=0.538 total time=   0.0s\n",
      "[CV 1/5] END criterion=absolute_error, learning_rate=0.03, n_estimators=300;, score=0.714 total time=   0.1s\n",
      "[CV 2/5] END criterion=absolute_error, learning_rate=0.03, n_estimators=300;, score=0.357 total time=   0.1s\n",
      "[CV 3/5] END criterion=absolute_error, learning_rate=0.03, n_estimators=300;, score=0.786 total time=   0.1s\n",
      "[CV 4/5] END criterion=absolute_error, learning_rate=0.03, n_estimators=300;, score=0.615 total time=   0.1s\n",
      "[CV 5/5] END criterion=absolute_error, learning_rate=0.03, n_estimators=300;, score=0.615 total time=   0.1s\n",
      "[CV 1/5] END criterion=absolute_error, learning_rate=0.03, n_estimators=500;, score=0.571 total time=   0.2s\n",
      "[CV 2/5] END criterion=absolute_error, learning_rate=0.03, n_estimators=500;, score=0.357 total time=   0.2s\n",
      "[CV 3/5] END criterion=absolute_error, learning_rate=0.03, n_estimators=500;, score=0.857 total time=   0.2s\n",
      "[CV 4/5] END criterion=absolute_error, learning_rate=0.03, n_estimators=500;, score=0.615 total time=   0.2s\n",
      "[CV 5/5] END criterion=absolute_error, learning_rate=0.03, n_estimators=500;, score=0.615 total time=   0.2s\n",
      "[CV 1/5] END criterion=absolute_error, learning_rate=0.03, n_estimators=1000;, score=0.571 total time=   0.5s\n",
      "[CV 2/5] END criterion=absolute_error, learning_rate=0.03, n_estimators=1000;, score=0.357 total time=   0.5s\n",
      "[CV 3/5] END criterion=absolute_error, learning_rate=0.03, n_estimators=1000;, score=0.714 total time=   0.5s\n",
      "[CV 4/5] END criterion=absolute_error, learning_rate=0.03, n_estimators=1000;, score=0.462 total time=   0.5s\n",
      "[CV 5/5] END criterion=absolute_error, learning_rate=0.03, n_estimators=1000;, score=0.538 total time=   0.5s\n",
      "[CV 1/5] END criterion=absolute_error, learning_rate=0.1, n_estimators=1;, score=0.643 total time=   0.0s\n",
      "[CV 2/5] END criterion=absolute_error, learning_rate=0.1, n_estimators=1;, score=0.357 total time=   0.0s\n",
      "[CV 3/5] END criterion=absolute_error, learning_rate=0.1, n_estimators=1;, score=0.857 total time=   0.0s\n",
      "[CV 4/5] END criterion=absolute_error, learning_rate=0.1, n_estimators=1;, score=0.538 total time=   0.0s\n",
      "[CV 5/5] END criterion=absolute_error, learning_rate=0.1, n_estimators=1;, score=0.692 total time=   0.0s\n",
      "[CV 1/5] END criterion=absolute_error, learning_rate=0.1, n_estimators=5;, score=0.643 total time=   0.0s\n",
      "[CV 2/5] END criterion=absolute_error, learning_rate=0.1, n_estimators=5;, score=0.357 total time=   0.0s\n",
      "[CV 3/5] END criterion=absolute_error, learning_rate=0.1, n_estimators=5;, score=0.857 total time=   0.0s\n",
      "[CV 4/5] END criterion=absolute_error, learning_rate=0.1, n_estimators=5;, score=0.615 total time=   0.0s\n",
      "[CV 5/5] END criterion=absolute_error, learning_rate=0.1, n_estimators=5;, score=0.615 total time=   0.0s\n",
      "[CV 1/5] END criterion=absolute_error, learning_rate=0.1, n_estimators=10;, score=0.643 total time=   0.0s\n",
      "[CV 2/5] END criterion=absolute_error, learning_rate=0.1, n_estimators=10;, score=0.357 total time=   0.0s\n",
      "[CV 3/5] END criterion=absolute_error, learning_rate=0.1, n_estimators=10;, score=0.857 total time=   0.0s\n",
      "[CV 4/5] END criterion=absolute_error, learning_rate=0.1, n_estimators=10;, score=0.462 total time=   0.0s\n",
      "[CV 5/5] END criterion=absolute_error, learning_rate=0.1, n_estimators=10;, score=0.615 total time=   0.0s\n",
      "[CV 1/5] END criterion=absolute_error, learning_rate=0.1, n_estimators=50;, score=0.786 total time=   0.0s\n",
      "[CV 2/5] END criterion=absolute_error, learning_rate=0.1, n_estimators=50;, score=0.357 total time=   0.0s\n",
      "[CV 3/5] END criterion=absolute_error, learning_rate=0.1, n_estimators=50;, score=0.786 total time=   0.0s\n",
      "[CV 4/5] END criterion=absolute_error, learning_rate=0.1, n_estimators=50;, score=0.462 total time=   0.0s\n",
      "[CV 5/5] END criterion=absolute_error, learning_rate=0.1, n_estimators=50;, score=0.615 total time=   0.0s\n"
     ]
    },
    {
     "name": "stdout",
     "output_type": "stream",
     "text": [
      "[CV 1/5] END criterion=absolute_error, learning_rate=0.1, n_estimators=100;, score=0.786 total time=   0.0s\n",
      "[CV 2/5] END criterion=absolute_error, learning_rate=0.1, n_estimators=100;, score=0.357 total time=   0.0s\n",
      "[CV 3/5] END criterion=absolute_error, learning_rate=0.1, n_estimators=100;, score=0.786 total time=   0.0s\n",
      "[CV 4/5] END criterion=absolute_error, learning_rate=0.1, n_estimators=100;, score=0.615 total time=   0.0s\n",
      "[CV 5/5] END criterion=absolute_error, learning_rate=0.1, n_estimators=100;, score=0.615 total time=   0.0s\n",
      "[CV 1/5] END criterion=absolute_error, learning_rate=0.1, n_estimators=200;, score=0.714 total time=   0.0s\n",
      "[CV 2/5] END criterion=absolute_error, learning_rate=0.1, n_estimators=200;, score=0.357 total time=   0.0s\n",
      "[CV 3/5] END criterion=absolute_error, learning_rate=0.1, n_estimators=200;, score=0.786 total time=   0.0s\n",
      "[CV 4/5] END criterion=absolute_error, learning_rate=0.1, n_estimators=200;, score=0.462 total time=   0.0s\n",
      "[CV 5/5] END criterion=absolute_error, learning_rate=0.1, n_estimators=200;, score=0.615 total time=   0.0s\n",
      "[CV 1/5] END criterion=absolute_error, learning_rate=0.1, n_estimators=300;, score=0.643 total time=   0.1s\n",
      "[CV 2/5] END criterion=absolute_error, learning_rate=0.1, n_estimators=300;, score=0.357 total time=   0.1s\n",
      "[CV 3/5] END criterion=absolute_error, learning_rate=0.1, n_estimators=300;, score=0.786 total time=   0.1s\n",
      "[CV 4/5] END criterion=absolute_error, learning_rate=0.1, n_estimators=300;, score=0.615 total time=   0.1s\n",
      "[CV 5/5] END criterion=absolute_error, learning_rate=0.1, n_estimators=300;, score=0.538 total time=   0.1s\n",
      "[CV 1/5] END criterion=absolute_error, learning_rate=0.1, n_estimators=500;, score=0.643 total time=   0.2s\n",
      "[CV 2/5] END criterion=absolute_error, learning_rate=0.1, n_estimators=500;, score=0.357 total time=   0.2s\n",
      "[CV 3/5] END criterion=absolute_error, learning_rate=0.1, n_estimators=500;, score=0.714 total time=   0.2s\n",
      "[CV 4/5] END criterion=absolute_error, learning_rate=0.1, n_estimators=500;, score=0.462 total time=   0.2s\n",
      "[CV 5/5] END criterion=absolute_error, learning_rate=0.1, n_estimators=500;, score=0.615 total time=   0.2s\n",
      "[CV 1/5] END criterion=absolute_error, learning_rate=0.1, n_estimators=1000;, score=0.643 total time=   0.5s\n",
      "[CV 2/5] END criterion=absolute_error, learning_rate=0.1, n_estimators=1000;, score=0.357 total time=   0.4s\n",
      "[CV 3/5] END criterion=absolute_error, learning_rate=0.1, n_estimators=1000;, score=0.786 total time=   0.5s\n",
      "[CV 4/5] END criterion=absolute_error, learning_rate=0.1, n_estimators=1000;, score=0.615 total time=   0.5s\n",
      "[CV 5/5] END criterion=absolute_error, learning_rate=0.1, n_estimators=1000;, score=0.615 total time=   0.4s\n",
      "[CV 1/5] END criterion=absolute_error, learning_rate=0.3, n_estimators=1;, score=0.786 total time=   0.0s\n",
      "[CV 2/5] END criterion=absolute_error, learning_rate=0.3, n_estimators=1;, score=0.357 total time=   0.0s\n",
      "[CV 3/5] END criterion=absolute_error, learning_rate=0.3, n_estimators=1;, score=0.714 total time=   0.0s\n",
      "[CV 4/5] END criterion=absolute_error, learning_rate=0.3, n_estimators=1;, score=0.615 total time=   0.0s\n",
      "[CV 5/5] END criterion=absolute_error, learning_rate=0.3, n_estimators=1;, score=0.615 total time=   0.0s\n",
      "[CV 1/5] END criterion=absolute_error, learning_rate=0.3, n_estimators=5;, score=0.643 total time=   0.0s\n",
      "[CV 2/5] END criterion=absolute_error, learning_rate=0.3, n_estimators=5;, score=0.429 total time=   0.0s\n",
      "[CV 3/5] END criterion=absolute_error, learning_rate=0.3, n_estimators=5;, score=0.857 total time=   0.0s\n",
      "[CV 4/5] END criterion=absolute_error, learning_rate=0.3, n_estimators=5;, score=0.615 total time=   0.0s\n",
      "[CV 5/5] END criterion=absolute_error, learning_rate=0.3, n_estimators=5;, score=0.615 total time=   0.0s\n",
      "[CV 1/5] END criterion=absolute_error, learning_rate=0.3, n_estimators=10;, score=0.643 total time=   0.0s\n",
      "[CV 2/5] END criterion=absolute_error, learning_rate=0.3, n_estimators=10;, score=0.357 total time=   0.0s\n",
      "[CV 3/5] END criterion=absolute_error, learning_rate=0.3, n_estimators=10;, score=0.714 total time=   0.0s\n",
      "[CV 4/5] END criterion=absolute_error, learning_rate=0.3, n_estimators=10;, score=0.462 total time=   0.0s\n",
      "[CV 5/5] END criterion=absolute_error, learning_rate=0.3, n_estimators=10;, score=0.615 total time=   0.0s\n",
      "[CV 1/5] END criterion=absolute_error, learning_rate=0.3, n_estimators=50;, score=0.571 total time=   0.0s\n",
      "[CV 2/5] END criterion=absolute_error, learning_rate=0.3, n_estimators=50;, score=0.357 total time=   0.0s\n",
      "[CV 3/5] END criterion=absolute_error, learning_rate=0.3, n_estimators=50;, score=0.714 total time=   0.0s\n",
      "[CV 4/5] END criterion=absolute_error, learning_rate=0.3, n_estimators=50;, score=0.462 total time=   0.0s\n",
      "[CV 5/5] END criterion=absolute_error, learning_rate=0.3, n_estimators=50;, score=0.692 total time=   0.0s\n",
      "[CV 1/5] END criterion=absolute_error, learning_rate=0.3, n_estimators=100;, score=0.643 total time=   0.0s\n",
      "[CV 2/5] END criterion=absolute_error, learning_rate=0.3, n_estimators=100;, score=0.357 total time=   0.0s\n",
      "[CV 3/5] END criterion=absolute_error, learning_rate=0.3, n_estimators=100;, score=0.714 total time=   0.0s\n",
      "[CV 4/5] END criterion=absolute_error, learning_rate=0.3, n_estimators=100;, score=0.462 total time=   0.0s\n",
      "[CV 5/5] END criterion=absolute_error, learning_rate=0.3, n_estimators=100;, score=0.615 total time=   0.0s\n",
      "[CV 1/5] END criterion=absolute_error, learning_rate=0.3, n_estimators=200;, score=0.643 total time=   0.0s\n",
      "[CV 2/5] END criterion=absolute_error, learning_rate=0.3, n_estimators=200;, score=0.357 total time=   0.0s\n",
      "[CV 3/5] END criterion=absolute_error, learning_rate=0.3, n_estimators=200;, score=0.786 total time=   0.0s\n",
      "[CV 4/5] END criterion=absolute_error, learning_rate=0.3, n_estimators=200;, score=0.462 total time=   0.0s\n",
      "[CV 5/5] END criterion=absolute_error, learning_rate=0.3, n_estimators=200;, score=0.615 total time=   0.0s\n",
      "[CV 1/5] END criterion=absolute_error, learning_rate=0.3, n_estimators=300;, score=0.643 total time=   0.1s\n",
      "[CV 2/5] END criterion=absolute_error, learning_rate=0.3, n_estimators=300;, score=0.357 total time=   0.1s\n",
      "[CV 3/5] END criterion=absolute_error, learning_rate=0.3, n_estimators=300;, score=0.857 total time=   0.1s\n",
      "[CV 4/5] END criterion=absolute_error, learning_rate=0.3, n_estimators=300;, score=0.615 total time=   0.1s\n",
      "[CV 5/5] END criterion=absolute_error, learning_rate=0.3, n_estimators=300;, score=0.615 total time=   0.1s\n",
      "[CV 1/5] END criterion=absolute_error, learning_rate=0.3, n_estimators=500;, score=0.643 total time=   0.2s\n",
      "[CV 2/5] END criterion=absolute_error, learning_rate=0.3, n_estimators=500;, score=0.357 total time=   0.2s\n",
      "[CV 3/5] END criterion=absolute_error, learning_rate=0.3, n_estimators=500;, score=0.714 total time=   0.2s\n",
      "[CV 4/5] END criterion=absolute_error, learning_rate=0.3, n_estimators=500;, score=0.615 total time=   0.2s\n",
      "[CV 5/5] END criterion=absolute_error, learning_rate=0.3, n_estimators=500;, score=0.538 total time=   0.2s\n",
      "[CV 1/5] END criterion=absolute_error, learning_rate=0.3, n_estimators=1000;, score=0.714 total time=   0.4s\n",
      "[CV 2/5] END criterion=absolute_error, learning_rate=0.3, n_estimators=1000;, score=0.357 total time=   0.4s\n",
      "[CV 3/5] END criterion=absolute_error, learning_rate=0.3, n_estimators=1000;, score=0.786 total time=   0.4s\n",
      "[CV 4/5] END criterion=absolute_error, learning_rate=0.3, n_estimators=1000;, score=0.462 total time=   0.4s\n",
      "[CV 5/5] END criterion=absolute_error, learning_rate=0.3, n_estimators=1000;, score=0.692 total time=   0.5s\n",
      "[CV 1/5] END criterion=absolute_error, learning_rate=1, n_estimators=1;, score=0.643 total time=   0.0s\n",
      "[CV 2/5] END criterion=absolute_error, learning_rate=1, n_estimators=1;, score=0.357 total time=   0.0s\n",
      "[CV 3/5] END criterion=absolute_error, learning_rate=1, n_estimators=1;, score=0.714 total time=   0.0s\n",
      "[CV 4/5] END criterion=absolute_error, learning_rate=1, n_estimators=1;, score=0.462 total time=   0.0s\n",
      "[CV 5/5] END criterion=absolute_error, learning_rate=1, n_estimators=1;, score=0.615 total time=   0.0s\n",
      "[CV 1/5] END criterion=absolute_error, learning_rate=1, n_estimators=5;, score=0.643 total time=   0.0s\n",
      "[CV 2/5] END criterion=absolute_error, learning_rate=1, n_estimators=5;, score=0.357 total time=   0.0s\n",
      "[CV 3/5] END criterion=absolute_error, learning_rate=1, n_estimators=5;, score=0.786 total time=   0.0s\n",
      "[CV 4/5] END criterion=absolute_error, learning_rate=1, n_estimators=5;, score=0.615 total time=   0.0s\n",
      "[CV 5/5] END criterion=absolute_error, learning_rate=1, n_estimators=5;, score=0.615 total time=   0.0s\n",
      "[CV 1/5] END criterion=absolute_error, learning_rate=1, n_estimators=10;, score=0.714 total time=   0.0s\n",
      "[CV 2/5] END criterion=absolute_error, learning_rate=1, n_estimators=10;, score=0.429 total time=   0.0s\n",
      "[CV 3/5] END criterion=absolute_error, learning_rate=1, n_estimators=10;, score=0.857 total time=   0.0s\n",
      "[CV 4/5] END criterion=absolute_error, learning_rate=1, n_estimators=10;, score=0.615 total time=   0.0s\n",
      "[CV 5/5] END criterion=absolute_error, learning_rate=1, n_estimators=10;, score=0.538 total time=   0.0s\n",
      "[CV 1/5] END criterion=absolute_error, learning_rate=1, n_estimators=50;, score=0.571 total time=   0.0s\n",
      "[CV 2/5] END criterion=absolute_error, learning_rate=1, n_estimators=50;, score=0.357 total time=   0.0s\n",
      "[CV 3/5] END criterion=absolute_error, learning_rate=1, n_estimators=50;, score=0.714 total time=   0.0s\n",
      "[CV 4/5] END criterion=absolute_error, learning_rate=1, n_estimators=50;, score=0.462 total time=   0.0s\n",
      "[CV 5/5] END criterion=absolute_error, learning_rate=1, n_estimators=50;, score=0.692 total time=   0.0s\n"
     ]
    },
    {
     "name": "stdout",
     "output_type": "stream",
     "text": [
      "[CV 1/5] END criterion=absolute_error, learning_rate=1, n_estimators=100;, score=0.571 total time=   0.0s\n",
      "[CV 2/5] END criterion=absolute_error, learning_rate=1, n_estimators=100;, score=0.357 total time=   0.0s\n",
      "[CV 3/5] END criterion=absolute_error, learning_rate=1, n_estimators=100;, score=0.786 total time=   0.0s\n",
      "[CV 4/5] END criterion=absolute_error, learning_rate=1, n_estimators=100;, score=0.462 total time=   0.0s\n",
      "[CV 5/5] END criterion=absolute_error, learning_rate=1, n_estimators=100;, score=0.615 total time=   0.0s\n",
      "[CV 1/5] END criterion=absolute_error, learning_rate=1, n_estimators=200;, score=0.643 total time=   0.0s\n",
      "[CV 2/5] END criterion=absolute_error, learning_rate=1, n_estimators=200;, score=0.357 total time=   0.0s\n",
      "[CV 3/5] END criterion=absolute_error, learning_rate=1, n_estimators=200;, score=0.786 total time=   0.0s\n",
      "[CV 4/5] END criterion=absolute_error, learning_rate=1, n_estimators=200;, score=0.615 total time=   0.0s\n",
      "[CV 5/5] END criterion=absolute_error, learning_rate=1, n_estimators=200;, score=0.615 total time=   0.0s\n",
      "[CV 1/5] END criterion=absolute_error, learning_rate=1, n_estimators=300;, score=0.786 total time=   0.1s\n",
      "[CV 2/5] END criterion=absolute_error, learning_rate=1, n_estimators=300;, score=0.357 total time=   0.1s\n",
      "[CV 3/5] END criterion=absolute_error, learning_rate=1, n_estimators=300;, score=0.786 total time=   0.1s\n",
      "[CV 4/5] END criterion=absolute_error, learning_rate=1, n_estimators=300;, score=0.462 total time=   0.1s\n",
      "[CV 5/5] END criterion=absolute_error, learning_rate=1, n_estimators=300;, score=0.615 total time=   0.1s\n",
      "[CV 1/5] END criterion=absolute_error, learning_rate=1, n_estimators=500;, score=0.643 total time=   0.2s\n",
      "[CV 2/5] END criterion=absolute_error, learning_rate=1, n_estimators=500;, score=0.357 total time=   0.2s\n",
      "[CV 3/5] END criterion=absolute_error, learning_rate=1, n_estimators=500;, score=0.786 total time=   0.2s\n",
      "[CV 4/5] END criterion=absolute_error, learning_rate=1, n_estimators=500;, score=0.615 total time=   0.2s\n",
      "[CV 5/5] END criterion=absolute_error, learning_rate=1, n_estimators=500;, score=0.615 total time=   0.2s\n",
      "[CV 1/5] END criterion=absolute_error, learning_rate=1, n_estimators=1000;, score=0.786 total time=   0.4s\n",
      "[CV 2/5] END criterion=absolute_error, learning_rate=1, n_estimators=1000;, score=0.357 total time=   0.4s\n",
      "[CV 3/5] END criterion=absolute_error, learning_rate=1, n_estimators=1000;, score=0.786 total time=   0.4s\n",
      "[CV 4/5] END criterion=absolute_error, learning_rate=1, n_estimators=1000;, score=0.462 total time=   0.4s\n",
      "[CV 5/5] END criterion=absolute_error, learning_rate=1, n_estimators=1000;, score=0.615 total time=   0.4s\n",
      "[CV 1/5] END criterion=absolute_error, learning_rate=3, n_estimators=1;, score=0.643 total time=   0.0s\n",
      "[CV 2/5] END criterion=absolute_error, learning_rate=3, n_estimators=1;, score=0.429 total time=   0.0s\n",
      "[CV 3/5] END criterion=absolute_error, learning_rate=3, n_estimators=1;, score=0.714 total time=   0.0s\n",
      "[CV 4/5] END criterion=absolute_error, learning_rate=3, n_estimators=1;, score=0.615 total time=   0.0s\n",
      "[CV 5/5] END criterion=absolute_error, learning_rate=3, n_estimators=1;, score=0.615 total time=   0.0s\n",
      "[CV 1/5] END criterion=absolute_error, learning_rate=3, n_estimators=5;, score=0.714 total time=   0.0s\n",
      "[CV 2/5] END criterion=absolute_error, learning_rate=3, n_estimators=5;, score=0.357 total time=   0.0s\n",
      "[CV 3/5] END criterion=absolute_error, learning_rate=3, n_estimators=5;, score=0.786 total time=   0.0s\n",
      "[CV 4/5] END criterion=absolute_error, learning_rate=3, n_estimators=5;, score=0.615 total time=   0.0s\n",
      "[CV 5/5] END criterion=absolute_error, learning_rate=3, n_estimators=5;, score=0.692 total time=   0.0s\n",
      "[CV 1/5] END criterion=absolute_error, learning_rate=3, n_estimators=10;, score=0.429 total time=   0.0s\n",
      "[CV 2/5] END criterion=absolute_error, learning_rate=3, n_estimators=10;, score=0.429 total time=   0.0s\n",
      "[CV 3/5] END criterion=absolute_error, learning_rate=3, n_estimators=10;, score=0.429 total time=   0.0s\n",
      "[CV 4/5] END criterion=absolute_error, learning_rate=3, n_estimators=10;, score=0.385 total time=   0.0s\n",
      "[CV 5/5] END criterion=absolute_error, learning_rate=3, n_estimators=10;, score=0.385 total time=   0.0s\n",
      "[CV 1/5] END criterion=absolute_error, learning_rate=3, n_estimators=50;, score=0.500 total time=   0.0s\n",
      "[CV 2/5] END criterion=absolute_error, learning_rate=3, n_estimators=50;, score=0.714 total time=   0.0s\n",
      "[CV 3/5] END criterion=absolute_error, learning_rate=3, n_estimators=50;, score=0.429 total time=   0.0s\n",
      "[CV 4/5] END criterion=absolute_error, learning_rate=3, n_estimators=50;, score=0.308 total time=   0.0s\n",
      "[CV 5/5] END criterion=absolute_error, learning_rate=3, n_estimators=50;, score=0.385 total time=   0.0s\n",
      "[CV 1/5] END criterion=absolute_error, learning_rate=3, n_estimators=100;, score=0.500 total time=   0.0s\n",
      "[CV 2/5] END criterion=absolute_error, learning_rate=3, n_estimators=100;, score=0.429 total time=   0.0s\n",
      "[CV 3/5] END criterion=absolute_error, learning_rate=3, n_estimators=100;, score=0.500 total time=   0.0s\n",
      "[CV 4/5] END criterion=absolute_error, learning_rate=3, n_estimators=100;, score=0.308 total time=   0.0s\n",
      "[CV 5/5] END criterion=absolute_error, learning_rate=3, n_estimators=100;, score=0.385 total time=   0.0s\n",
      "[CV 1/5] END criterion=absolute_error, learning_rate=3, n_estimators=200;, score=0.429 total time=   0.0s\n",
      "[CV 2/5] END criterion=absolute_error, learning_rate=3, n_estimators=200;, score=0.357 total time=   0.0s\n",
      "[CV 3/5] END criterion=absolute_error, learning_rate=3, n_estimators=200;, score=0.571 total time=   0.0s\n",
      "[CV 4/5] END criterion=absolute_error, learning_rate=3, n_estimators=200;, score=0.462 total time=   0.0s\n",
      "[CV 5/5] END criterion=absolute_error, learning_rate=3, n_estimators=200;, score=0.615 total time=   0.0s\n",
      "[CV 1/5] END criterion=absolute_error, learning_rate=3, n_estimators=300;, score=0.286 total time=   0.1s\n",
      "[CV 2/5] END criterion=absolute_error, learning_rate=3, n_estimators=300;, score=0.571 total time=   0.1s\n",
      "[CV 3/5] END criterion=absolute_error, learning_rate=3, n_estimators=300;, score=0.214 total time=   0.1s\n",
      "[CV 4/5] END criterion=absolute_error, learning_rate=3, n_estimators=300;, score=0.538 total time=   0.1s\n",
      "[CV 5/5] END criterion=absolute_error, learning_rate=3, n_estimators=300;, score=0.615 total time=   0.1s\n",
      "[CV 1/5] END criterion=absolute_error, learning_rate=3, n_estimators=500;, score=0.571 total time=   0.2s\n",
      "[CV 2/5] END criterion=absolute_error, learning_rate=3, n_estimators=500;, score=0.500 total time=   0.2s\n",
      "[CV 3/5] END criterion=absolute_error, learning_rate=3, n_estimators=500;, score=0.571 total time=   0.2s\n",
      "[CV 4/5] END criterion=absolute_error, learning_rate=3, n_estimators=500;, score=0.538 total time=   0.2s\n",
      "[CV 5/5] END criterion=absolute_error, learning_rate=3, n_estimators=500;, score=0.538 total time=   0.2s\n",
      "[CV 1/5] END criterion=absolute_error, learning_rate=3, n_estimators=1000;, score=0.571 total time=   0.5s\n",
      "[CV 2/5] END criterion=absolute_error, learning_rate=3, n_estimators=1000;, score=0.357 total time=   0.4s\n",
      "[CV 3/5] END criterion=absolute_error, learning_rate=3, n_estimators=1000;, score=0.643 total time=   0.5s\n",
      "[CV 4/5] END criterion=absolute_error, learning_rate=3, n_estimators=1000;, score=0.692 total time=   0.4s\n",
      "[CV 5/5] END criterion=absolute_error, learning_rate=3, n_estimators=1000;, score=0.615 total time=   0.5s\n",
      "{'criterion': 'friedman_mse', 'learning_rate': 0.03, 'n_estimators': 200}\n",
      "GradientBoostingClassifier(learning_rate=0.03, n_estimators=200)\n",
      "              precision    recall  f1-score   support\n",
      "\n",
      "           0       0.70      0.78      0.74         9\n",
      "           1       0.71      0.62      0.67         8\n",
      "\n",
      "    accuracy                           0.71        17\n",
      "   macro avg       0.71      0.70      0.70        17\n",
      "weighted avg       0.71      0.71      0.70        17\n",
      "\n"
     ]
    }
   ],
   "source": [
    "from sklearn.ensemble import GradientBoostingClassifier\n",
    "import warnings\n",
    "\n",
    "warnings.filterwarnings(\"ignore\")\n",
    "\n",
    "param_grid = {'learning_rate': [0.03,0.1,0.3,1,3],\n",
    "              'n_estimators': [1,5,10,50,100,200,300,500,1000],\n",
    "              'criterion': ['friedman_mse', 'squared_error', 'absolute_error']\n",
    "             }\n",
    " \n",
    "grid = GridSearchCV(GradientBoostingClassifier(), param_grid, refit = True, verbose = 3,cv=5)\n",
    "# fitting the model for grid search\n",
    "grid.fit(X_train, y_train)\n",
    "\n",
    "# print best parameter after tuning\n",
    "print(grid.best_params_)\n",
    " \n",
    "# print how our model looks after hyper-parameter tuning\n",
    "print(grid.best_estimator_)\n",
    "\n",
    "\n",
    "grid_predictions = grid.predict(X_test)\n",
    " \n",
    "# print classification report\n",
    "print(classification_report(y_test, grid_predictions))\n"
   ]
  },
  {
   "cell_type": "code",
   "execution_count": 140,
   "id": "2656f99f",
   "metadata": {
    "scrolled": true
   },
   "outputs": [
    {
     "name": "stdout",
     "output_type": "stream",
     "text": [
      "Fitting 5 folds for each of 84 candidates, totalling 420 fits\n",
      "{'n_neighbors': 13}\n",
      "KNeighborsClassifier(n_neighbors=13)\n",
      "              precision    recall  f1-score   support\n",
      "\n",
      "           0       0.80      0.89      0.84         9\n",
      "           1       0.86      0.75      0.80         8\n",
      "\n",
      "    accuracy                           0.82        17\n",
      "   macro avg       0.83      0.82      0.82        17\n",
      "weighted avg       0.83      0.82      0.82        17\n",
      "\n"
     ]
    }
   ],
   "source": [
    "import warnings\n",
    "param_grid = {'n_neighbors' : [i for i  in range(1,85)]\n",
    "             }\n",
    "\n",
    "\n",
    "warnings.filterwarnings(\"ignore\")\n",
    "grid = GridSearchCV(KNeighborsClassifier(), param_grid, refit = True, verbose = 1,cv=5)\n",
    "# fitting the model for grid search\n",
    "grid.fit(X_train, y_train)\n",
    "\n",
    "# print best parameter after tuning\n",
    "print(grid.best_params_)\n",
    " \n",
    "# print how our model looks after hyper-parameter tuning\n",
    "print(grid.best_estimator_)\n",
    "\n",
    "\n",
    "grid_predictions = grid.best_estimator_.predict(X_test)\n",
    " \n",
    "# print classification report\n",
    "print(classification_report(y_test, grid_predictions))\n"
   ]
  },
  {
   "cell_type": "code",
   "execution_count": 141,
   "id": "bba28eb6",
   "metadata": {
    "scrolled": true
   },
   "outputs": [
    {
     "name": "stdout",
     "output_type": "stream",
     "text": [
      "Fitting 68 folds for each of 500 candidates, totalling 34000 fits\n",
      "{'bgclf__base_estimator__n_neighbors': 20, 'bgclf__max_samples': 0.9, 'bgclf__n_estimators': 1, 'bgclf__warm_start': True, 'pca__n_components': 7}\n",
      "Pipeline(steps=[('scaler', StandardScaler()), ('pca', PCA(n_components=7)),\n",
      "                ('bgclf',\n",
      "                 BaggingClassifier(base_estimator=KNeighborsClassifier(n_neighbors=20),\n",
      "                                   max_samples=0.9, n_estimators=1,\n",
      "                                   warm_start=True))])\n",
      "              precision    recall  f1-score   support\n",
      "\n",
      "           0       0.56      1.00      0.72         9\n",
      "           1       1.00      0.12      0.22         8\n",
      "\n",
      "    accuracy                           0.59        17\n",
      "   macro avg       0.78      0.56      0.47        17\n",
      "weighted avg       0.77      0.59      0.49        17\n",
      "\n"
     ]
    }
   ],
   "source": [
    "from sklearn.ensemble import BaggingClassifier\n",
    "from sklearn.pipeline import Pipeline\n",
    "from sklearn.model_selection import KFold\n",
    "import warnings\n",
    "\n",
    "warnings.filterwarnings(\"ignore\")\n",
    "# Define a pipeline to search for the best combination of PCA truncation\n",
    "# and classifier regularization.\n",
    "pca = PCA()\n",
    "# Define a Standard Scaler to normalize inputs\n",
    "scaler = StandardScaler()\n",
    "KnC = KNeighborsClassifier()\n",
    "bgclf = BaggingClassifier(base_estimator=KNeighborsClassifier())\n",
    "pipe = Pipeline([\n",
    "    ('scaler', scaler),\n",
    "    (\"pca\", pca),\n",
    "    ('bgclf', bgclf )\n",
    "])\n",
    "param_grid = {\n",
    "    'pca__n_components' : [6,7],\n",
    "    'bgclf__max_samples' : [0.05, 0.1, 0.2,0.7,0.9],\n",
    "    'bgclf__warm_start' : [True,False],\n",
    "    'bgclf__n_estimators' :  [1,5,10,25,50],\n",
    "    'bgclf__base_estimator__n_neighbors' : [1,5,10,15,20]\n",
    "}\n",
    "grid = GridSearchCV(pipe, param_grid, cv=KFold(68), verbose=1)\n",
    "grid.fit(sc.inverse_transform(X_train), y_train)\n",
    "\n",
    "# print best parameter after tuning\n",
    "print(grid.best_params_)\n",
    " \n",
    "# print how our model looks after hyper-parameter tuning\n",
    "print(grid.best_estimator_)\n",
    "\n",
    "\n",
    "grid_predictions = grid.best_estimator_.predict(X_test)\n",
    " \n",
    "# print classification report\n",
    "print(classification_report(y_test, grid_predictions))"
   ]
  },
  {
   "cell_type": "code",
   "execution_count": 142,
   "id": "a756a60e",
   "metadata": {},
   "outputs": [
    {
     "name": "stdout",
     "output_type": "stream",
     "text": [
      "              precision    recall  f1-score   support\n",
      "\n",
      "           0       0.56      1.00      0.72         9\n",
      "           1       1.00      0.12      0.22         8\n",
      "\n",
      "    accuracy                           0.59        17\n",
      "   macro avg       0.78      0.56      0.47        17\n",
      "weighted avg       0.77      0.59      0.49        17\n",
      "\n"
     ]
    }
   ],
   "source": [
    "print(classification_report(y_test, grid_predictions))"
   ]
  },
  {
   "cell_type": "code",
   "execution_count": 143,
   "id": "d6c22bd1",
   "metadata": {
    "scrolled": true
   },
   "outputs": [
    {
     "name": "stdout",
     "output_type": "stream",
     "text": [
      "Fitting 5 folds for each of 120 candidates, totalling 600 fits\n",
      "{'bgclf__bootstrap_features': False, 'bgclf__max_features': 1.0, 'bgclf__n_estimators': 5, 'bgclf__warm_start': False, 'pca__n_components': 6}\n",
      "Pipeline(steps=[('scaler', StandardScaler()), ('pca', PCA(n_components=6)),\n",
      "                ('bgclf',\n",
      "                 BaggingClassifier(base_estimator=GaussianNB(),\n",
      "                                   n_estimators=5))])\n",
      "              precision    recall  f1-score   support\n",
      "\n",
      "           0       0.33      0.11      0.17         9\n",
      "           1       0.43      0.75      0.55         8\n",
      "\n",
      "    accuracy                           0.41        17\n",
      "   macro avg       0.38      0.43      0.36        17\n",
      "weighted avg       0.38      0.41      0.34        17\n",
      "\n"
     ]
    }
   ],
   "source": [
    "from sklearn.ensemble import BaggingClassifier\n",
    "from sklearn.pipeline import Pipeline\n",
    "from sklearn.model_selection import KFold\n",
    "import warnings\n",
    "\n",
    "warnings.filterwarnings(\"ignore\")\n",
    "# Define a pipeline to search for the best combination of PCA truncation\n",
    "# and classifier regularization.\n",
    "pca = PCA()\n",
    "# Define a Standard Scaler to normalize inputs\n",
    "scaler = StandardScaler()\n",
    "KnC = KNeighborsClassifier()\n",
    "bgclf = BaggingClassifier(base_estimator=GaussianNB())\n",
    "pipe = Pipeline([\n",
    "    ('scaler', scaler),\n",
    "    (\"pca\", pca),\n",
    "    ('bgclf', bgclf )\n",
    "])\n",
    "param_grid = {\n",
    "    'pca__n_components' : [6,7],\n",
    "    'bgclf__warm_start' : [True,False],\n",
    "    'bgclf__n_estimators' :  [1,5,10,25,50],\n",
    "    'bgclf__bootstrap_features': [False, True],\n",
    "    'bgclf__max_features': [0.5, 0.7, 1.0],\n",
    "    \n",
    "}\n",
    "grid = GridSearchCV(pipe, param_grid, cv=5, verbose=1)\n",
    "grid.fit(sc.inverse_transform(X_train), y_train)\n",
    "\n",
    "# print best parameter after tuning\n",
    "print(grid.best_params_)\n",
    " \n",
    "# print how our model looks after hyper-parameter tuning\n",
    "print(grid.best_estimator_)\n",
    "\n",
    "\n",
    "grid_predictions = grid.best_estimator_.predict(X_test)\n",
    " \n",
    "# print classification report\n",
    "print(classification_report(y_test, grid_predictions))"
   ]
  },
  {
   "cell_type": "code",
   "execution_count": 151,
   "id": "ad5d2fcb",
   "metadata": {
    "scrolled": true
   },
   "outputs": [
    {
     "name": "stdout",
     "output_type": "stream",
     "text": [
      "Fitting 5 folds for each of 3000 candidates, totalling 15000 fits\n",
      "{'bgclf__base_estimator__n_neighbors': 5, 'bgclf__max_samples': 0.7, 'bgclf__n_estimators': 10, 'bgclf__warm_start': True, 'pca__n_components': 6}\n",
      "Pipeline(steps=[('scaler', StandardScaler()), ('pca', PCA(n_components=6)),\n",
      "                ('bgclf',\n",
      "                 BaggingClassifier(base_estimator=KNeighborsClassifier(),\n",
      "                                   max_samples=0.7, warm_start=True))])\n",
      "              precision    recall  f1-score   support\n",
      "\n",
      "           0       0.70      0.78      0.74         9\n",
      "           1       0.71      0.62      0.67         8\n",
      "\n",
      "    accuracy                           0.71        17\n",
      "   macro avg       0.71      0.70      0.70        17\n",
      "weighted avg       0.71      0.71      0.70        17\n",
      "\n"
     ]
    }
   ],
   "source": [
    "from sklearn.ensemble import BaggingClassifier\n",
    "from sklearn.pipeline import Pipeline\n",
    "from sklearn.model_selection import KFold\n",
    "import warnings\n",
    "\n",
    "warnings.filterwarnings(\"ignore\")\n",
    "# Define a pipeline to search for the best combination of PCA truncation\n",
    "# and classifier regularization.\n",
    "pca = PCA()\n",
    "# Define a Standard Scaler to normalize inputs\n",
    "scaler = StandardScaler()\n",
    "KnC = KNeighborsClassifier()\n",
    "bgclf = BaggingClassifier(base_estimator=KNeighborsClassifier())\n",
    "pipe = Pipeline([\n",
    "    ('scaler', scaler),\n",
    "    (\"pca\", pca),\n",
    "    ('bgclf', bgclf )\n",
    "])\n",
    "param_grid = {\n",
    "    'pca__n_components' : [6,7],\n",
    "    'bgclf__max_samples' : [0.05, 0.1, 0.2,0.7,0.9,1.0],\n",
    "    'bgclf__warm_start' : [True,False],\n",
    "    'bgclf__n_estimators' :  [1,5,10,25,50],\n",
    "    'bgclf__base_estimator__n_neighbors' : [i for i in range(1,26)]\n",
    "}\n",
    "grid = GridSearchCV(pipe, param_grid, cv=5, verbose=1)\n",
    "grid.fit(sc.inverse_transform(X_train), y_train)\n",
    "\n",
    "# print best parameter after tuning\n",
    "print(grid.best_params_)\n",
    " \n",
    "# print how our model looks after hyper-parameter tuning\n",
    "print(grid.best_estimator_)\n",
    "\n",
    "\n",
    "grid_predictions = grid.best_estimator_.predict(X_test)\n",
    " \n",
    "# print classification report\n",
    "print(classification_report(y_test, grid_predictions))"
   ]
  },
  {
   "cell_type": "code",
   "execution_count": 153,
   "id": "183556c9",
   "metadata": {
    "scrolled": true
   },
   "outputs": [
    {
     "name": "stdout",
     "output_type": "stream",
     "text": [
      "Fitting 68 folds for each of 400 candidates, totalling 27200 fits\n",
      "{'bgclf__base_estimator__max_depth': 5, 'bgclf__max_samples': 0.7, 'bgclf__n_estimators': 25, 'bgclf__warm_start': False, 'pca__n_components': 7}\n",
      "Pipeline(steps=[('scaler', StandardScaler()), ('pca', PCA(n_components=7)),\n",
      "                ('bgclf',\n",
      "                 BaggingClassifier(base_estimator=DecisionTreeClassifier(max_depth=5),\n",
      "                                   max_samples=0.7, n_estimators=25))])\n",
      "              precision    recall  f1-score   support\n",
      "\n",
      "           0       0.70      0.78      0.74         9\n",
      "           1       0.71      0.62      0.67         8\n",
      "\n",
      "    accuracy                           0.71        17\n",
      "   macro avg       0.71      0.70      0.70        17\n",
      "weighted avg       0.71      0.71      0.70        17\n",
      "\n"
     ]
    }
   ],
   "source": [
    "from sklearn.ensemble import BaggingClassifier\n",
    "from sklearn.pipeline import Pipeline\n",
    "from sklearn.model_selection import KFold\n",
    "import warnings\n",
    "\n",
    "warnings.filterwarnings(\"ignore\")\n",
    "# Define a pipeline to search for the best combination of PCA truncation\n",
    "# and classifier regularization.\n",
    "pca = PCA()\n",
    "# Define a Standard Scaler to normalize inputs\n",
    "scaler = StandardScaler()\n",
    "bgclf = BaggingClassifier(base_estimator = DecisionTreeClassifier())\n",
    "pipe = Pipeline([\n",
    "    ('scaler', scaler),\n",
    "    (\"pca\", pca),\n",
    "    ('bgclf', bgclf )\n",
    "])\n",
    "param_grid = {\n",
    "    'pca__n_components' : [6,7],\n",
    "    \"bgclf__base_estimator__max_depth\": [3,5,10,20],\n",
    "    'bgclf__max_samples' : [0.05, 0.1, 0.2,0.7,0.9],\n",
    "    'bgclf__warm_start' : [True,False],\n",
    "    'bgclf__n_estimators' :  [1,5,10,25,50]\n",
    "}\n",
    "grid = GridSearchCV(pipe, param_grid, cv=KFold(68), verbose=1)\n",
    "grid.fit(sc.inverse_transform(X_train), y_train)\n",
    "\n",
    "# print best parameter after tuning\n",
    "print(grid.best_params_)\n",
    " \n",
    "# print how our model looks after hyper-parameter tuning\n",
    "print(grid.best_estimator_)\n",
    "\n",
    "\n",
    "grid_predictions = grid.best_estimator_.predict(X_test)\n",
    " \n",
    "# print classification report\n",
    "print(classification_report(y_test, grid_predictions))"
   ]
  },
  {
   "cell_type": "code",
   "execution_count": null,
   "id": "d8a06855",
   "metadata": {},
   "outputs": [],
   "source": [
    "from sklearn.ensemble import GradientBoostingClassifier\n",
    "import warnings\n",
    "\n",
    "warnings.filterwarnings(\"ignore\")\n",
    "\n",
    "pca = PCA()\n",
    "# Define a Standard Scaler to normalize inputs\n",
    "scaler = StandardScaler()\n",
    "gbm = GradientBoostingClassifier()\n",
    "pipe = Pipeline([\n",
    "    ('scaler', scaler),\n",
    "    (\"pca\", pca),\n",
    "    ('gbm', gbm )\n",
    "])\n",
    "param_grid = {\n",
    "    'pca__n_components' : [6,7],\n",
    "    'gbm__learning_rate': [0.01, 0.025, 0.05, 0.075, 0.1, 0.15, 0.2,0.3,0.9,1,1.3,3],\n",
    "    'gbm__n_estimators': [1,5,10,15,20,50],\n",
    "    \"gbm__min_samples_split\": np.linspace(0.1, 0.5, 12),\n",
    "    \"gbm__min_samples_leaf\": np.linspace(0.1, 0.5, 12),\n",
    "    \"gbm__subsample\":[0.5, 0.618, 0.8, 0.85, 0.9, 0.95, 1.0],\n",
    "    \"gbm__max_depth\":[3,5,8],\n",
    "    'gbm__criterion': ['friedman_mse', 'squared_error']\n",
    "             }\n",
    " \n",
    "grid = GridSearchCV(pipe, param_grid, refit = True, verbose = 0,cv=5)\n",
    "# fitting the model for grid search\n",
    "grid.fit(sc.inverse_transform(X_train), y_train)\n",
    "\n",
    "# print best parameter after tuning\n",
    "print(grid.best_params_)\n",
    " \n",
    "# print how our model looks after hyper-parameter tuning\n",
    "print(grid.best_estimator_)\n",
    "\n",
    "\n",
    "grid_predictions = grid.predict(X_test)\n",
    " \n",
    "# print classification report\n",
    "print(classification_report(y_test, grid_predictions))"
   ]
  }
 ],
 "metadata": {
  "kernelspec": {
   "display_name": "Python 3 (ipykernel)",
   "language": "python",
   "name": "python3"
  },
  "language_info": {
   "codemirror_mode": {
    "name": "ipython",
    "version": 3
   },
   "file_extension": ".py",
   "mimetype": "text/x-python",
   "name": "python",
   "nbconvert_exporter": "python",
   "pygments_lexer": "ipython3",
   "version": "3.10.0"
  }
 },
 "nbformat": 4,
 "nbformat_minor": 5
}
