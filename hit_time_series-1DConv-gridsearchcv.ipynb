{
 "cells": [
  {
   "cell_type": "code",
   "execution_count": 1,
   "id": "705d3abb",
   "metadata": {},
   "outputs": [],
   "source": [
    "import numpy as np\n",
    "import matplotlib.pyplot as plt\n",
    "import pandas as pd\n",
    "import nqDataLoader as nq #data loading library\n",
    "from keras.preprocessing import sequence\n",
    "# np.random.seed(0)\n",
    "# cnn model\n",
    "from numpy import mean\n",
    "from numpy import std\n",
    "from numpy import dstack\n",
    "import tensorflow as tf\n",
    "from matplotlib import pyplot\n",
    "from keras.models import Sequential\n",
    "from keras.layers import Dense\n",
    "from keras.layers import Flatten\n",
    "from keras.layers import Dropout\n",
    "from keras.layers.convolutional import Conv1D\n",
    "from keras.layers.convolutional import MaxPooling1D\n",
    "# from keras.utils import to_categorical"
   ]
  },
  {
   "cell_type": "code",
   "execution_count": 2,
   "id": "be05115f",
   "metadata": {
    "scrolled": true
   },
   "outputs": [
    {
     "data": {
      "text/plain": [
       "True"
      ]
     },
     "execution_count": 2,
     "metadata": {},
     "output_type": "execute_result"
    }
   ],
   "source": [
    "tf.test.is_built_with_cuda()"
   ]
  },
  {
   "cell_type": "code",
   "execution_count": 3,
   "id": "13156c3c",
   "metadata": {},
   "outputs": [
    {
     "name": "stdout",
     "output_type": "stream",
     "text": [
      "WARNING:tensorflow:From C:\\Users\\micoa\\AppData\\Local\\Temp\\ipykernel_4396\\565982385.py:1: is_gpu_available (from tensorflow.python.framework.test_util) is deprecated and will be removed in a future version.\n",
      "Instructions for updating:\n",
      "Use `tf.config.list_physical_devices('GPU')` instead.\n"
     ]
    },
    {
     "data": {
      "text/plain": [
       "True"
      ]
     },
     "execution_count": 3,
     "metadata": {},
     "output_type": "execute_result"
    }
   ],
   "source": [
    "tf.test.is_gpu_available(cuda_only=False, min_cuda_compute_capability=None)"
   ]
  },
  {
   "cell_type": "code",
   "execution_count": 4,
   "id": "6a7affcb",
   "metadata": {},
   "outputs": [
    {
     "data": {
      "text/html": [
       "<div>\n",
       "<style scoped>\n",
       "    .dataframe tbody tr th:only-of-type {\n",
       "        vertical-align: middle;\n",
       "    }\n",
       "\n",
       "    .dataframe tbody tr th {\n",
       "        vertical-align: top;\n",
       "    }\n",
       "\n",
       "    .dataframe thead th {\n",
       "        text-align: right;\n",
       "    }\n",
       "</style>\n",
       "<table border=\"1\" class=\"dataframe\">\n",
       "  <thead>\n",
       "    <tr style=\"text-align: right;\">\n",
       "      <th></th>\n",
       "      <th>pID</th>\n",
       "      <th>gt</th>\n",
       "      <th>updrs108</th>\n",
       "      <th>afTap</th>\n",
       "      <th>sTap</th>\n",
       "      <th>nqScore</th>\n",
       "      <th>typingSpeed</th>\n",
       "      <th>file_1</th>\n",
       "    </tr>\n",
       "  </thead>\n",
       "  <tbody>\n",
       "    <tr>\n",
       "      <th>0</th>\n",
       "      <td>1000</td>\n",
       "      <td>1</td>\n",
       "      <td>27</td>\n",
       "      <td>79.0</td>\n",
       "      <td>184.5</td>\n",
       "      <td>0.107179</td>\n",
       "      <td>56.866667</td>\n",
       "      <td>1424946827.1000_001_014.csv</td>\n",
       "    </tr>\n",
       "    <tr>\n",
       "      <th>1</th>\n",
       "      <td>1001</td>\n",
       "      <td>1</td>\n",
       "      <td>16</td>\n",
       "      <td>96.5</td>\n",
       "      <td>189.0</td>\n",
       "      <td>0.056286</td>\n",
       "      <td>118.000000</td>\n",
       "      <td>1427279751.1001_001_014.csv</td>\n",
       "    </tr>\n",
       "    <tr>\n",
       "      <th>2</th>\n",
       "      <td>1002</td>\n",
       "      <td>0</td>\n",
       "      <td>5</td>\n",
       "      <td>140.0</td>\n",
       "      <td>158.0</td>\n",
       "      <td>0.039519</td>\n",
       "      <td>119.037037</td>\n",
       "      <td>1426676689.1002_001_014.csv</td>\n",
       "    </tr>\n",
       "    <tr>\n",
       "      <th>3</th>\n",
       "      <td>1004</td>\n",
       "      <td>1</td>\n",
       "      <td>22</td>\n",
       "      <td>83.5</td>\n",
       "      <td>191.5</td>\n",
       "      <td>0.034853</td>\n",
       "      <td>74.266667</td>\n",
       "      <td>1429866367.1004_001_014.csv</td>\n",
       "    </tr>\n",
       "    <tr>\n",
       "      <th>4</th>\n",
       "      <td>1005</td>\n",
       "      <td>1</td>\n",
       "      <td>17</td>\n",
       "      <td>68.0</td>\n",
       "      <td>150.0</td>\n",
       "      <td>0.048307</td>\n",
       "      <td>74.969697</td>\n",
       "      <td>1430134526.1005_001_014.csv</td>\n",
       "    </tr>\n",
       "  </tbody>\n",
       "</table>\n",
       "</div>"
      ],
      "text/plain": [
       "    pID  gt  updrs108  afTap   sTap   nqScore  typingSpeed  \\\n",
       "0  1000   1        27   79.0  184.5  0.107179    56.866667   \n",
       "1  1001   1        16   96.5  189.0  0.056286   118.000000   \n",
       "2  1002   0         5  140.0  158.0  0.039519   119.037037   \n",
       "3  1004   1        22   83.5  191.5  0.034853    74.266667   \n",
       "4  1005   1        17   68.0  150.0  0.048307    74.969697   \n",
       "\n",
       "                        file_1  \n",
       "0  1424946827.1000_001_014.csv  \n",
       "1  1427279751.1001_001_014.csv  \n",
       "2  1426676689.1002_001_014.csv  \n",
       "3  1429866367.1004_001_014.csv  \n",
       "4  1430134526.1005_001_014.csv  "
      ]
     },
     "execution_count": 4,
     "metadata": {},
     "output_type": "execute_result"
    }
   ],
   "source": [
    "## importing the early stage dataset \n",
    "early_stage = pd.read_csv('GT_DataPD_MIT-CS2PD.csv')\n",
    "# X = dataset.iloc[:, :-1].values\n",
    "# y = dataset.iloc[:, -1].values\n",
    "early_stage[\"gt\"] = early_stage[\"gt\"].astype(int)\n",
    "early_stage.head()"
   ]
  },
  {
   "cell_type": "code",
   "execution_count": 5,
   "id": "1ea5e941",
   "metadata": {},
   "outputs": [],
   "source": [
    "hit_time_series = []\n",
    "for index, row in early_stage.iterrows():\n",
    "    fileloc = row.file_1\n",
    "    keyPressed, htArr, pressArr, releaseArr =  nq.getDataFiltHelper( \"data_MIT-CS2PD/\" + early_stage.loc[index]['file_1'])\n",
    "    htArr =np.array(htArr)\n",
    "    hit_time_series.append(htArr)\n",
    "\n",
    "X1 = hit_time_series "
   ]
  },
  {
   "cell_type": "code",
   "execution_count": 6,
   "id": "6f32abeb",
   "metadata": {},
   "outputs": [
    {
     "name": "stdout",
     "output_type": "stream",
     "text": [
      "31\n"
     ]
    },
    {
     "data": {
      "text/html": [
       "<div>\n",
       "<style scoped>\n",
       "    .dataframe tbody tr th:only-of-type {\n",
       "        vertical-align: middle;\n",
       "    }\n",
       "\n",
       "    .dataframe tbody tr th {\n",
       "        vertical-align: top;\n",
       "    }\n",
       "\n",
       "    .dataframe thead th {\n",
       "        text-align: right;\n",
       "    }\n",
       "</style>\n",
       "<table border=\"1\" class=\"dataframe\">\n",
       "  <thead>\n",
       "    <tr style=\"text-align: right;\">\n",
       "      <th></th>\n",
       "      <th>pID</th>\n",
       "      <th>gt</th>\n",
       "      <th>updrs108</th>\n",
       "      <th>afTap</th>\n",
       "      <th>sTap</th>\n",
       "      <th>nqScore</th>\n",
       "      <th>typingSpeed</th>\n",
       "      <th>file_1</th>\n",
       "      <th>file_2</th>\n",
       "    </tr>\n",
       "  </thead>\n",
       "  <tbody>\n",
       "    <tr>\n",
       "      <th>0</th>\n",
       "      <td>11</td>\n",
       "      <td>1</td>\n",
       "      <td>14.25</td>\n",
       "      <td>NaN</td>\n",
       "      <td>162.25</td>\n",
       "      <td>0.117543</td>\n",
       "      <td>189.372549</td>\n",
       "      <td>1402930351.011_001_014.csv</td>\n",
       "      <td>1403706430.011_003_014.csv</td>\n",
       "    </tr>\n",
       "    <tr>\n",
       "      <th>1</th>\n",
       "      <td>60</td>\n",
       "      <td>0</td>\n",
       "      <td>2.00</td>\n",
       "      <td>NaN</td>\n",
       "      <td>162.25</td>\n",
       "      <td>0.070350</td>\n",
       "      <td>60.533333</td>\n",
       "      <td>1402932300.060_001_014.csv</td>\n",
       "      <td>1403708258.060_003_014.csv</td>\n",
       "    </tr>\n",
       "    <tr>\n",
       "      <th>2</th>\n",
       "      <td>67</td>\n",
       "      <td>1</td>\n",
       "      <td>25.25</td>\n",
       "      <td>NaN</td>\n",
       "      <td>133.75</td>\n",
       "      <td>0.223411</td>\n",
       "      <td>54.333333</td>\n",
       "      <td>1401117235.067_001_014.csv</td>\n",
       "      <td>1401978395.067_003_014.csv</td>\n",
       "    </tr>\n",
       "    <tr>\n",
       "      <th>3</th>\n",
       "      <td>68</td>\n",
       "      <td>0</td>\n",
       "      <td>6.00</td>\n",
       "      <td>NaN</td>\n",
       "      <td>159.00</td>\n",
       "      <td>0.074973</td>\n",
       "      <td>71.800000</td>\n",
       "      <td>1401114972.068_001_014.csv</td>\n",
       "      <td>1401980765.068_003_014.csv</td>\n",
       "    </tr>\n",
       "    <tr>\n",
       "      <th>4</th>\n",
       "      <td>70</td>\n",
       "      <td>1</td>\n",
       "      <td>26.25</td>\n",
       "      <td>NaN</td>\n",
       "      <td>113.50</td>\n",
       "      <td>0.175751</td>\n",
       "      <td>39.614035</td>\n",
       "      <td>1404311419.070_001_014.csv</td>\n",
       "      <td>1404743687.070_003_014.csv</td>\n",
       "    </tr>\n",
       "  </tbody>\n",
       "</table>\n",
       "</div>"
      ],
      "text/plain": [
       "   pID  gt  updrs108  afTap    sTap   nqScore  typingSpeed  \\\n",
       "0   11   1     14.25    NaN  162.25  0.117543   189.372549   \n",
       "1   60   0      2.00    NaN  162.25  0.070350    60.533333   \n",
       "2   67   1     25.25    NaN  133.75  0.223411    54.333333   \n",
       "3   68   0      6.00    NaN  159.00  0.074973    71.800000   \n",
       "4   70   1     26.25    NaN  113.50  0.175751    39.614035   \n",
       "\n",
       "                       file_1                      file_2  \n",
       "0  1402930351.011_001_014.csv  1403706430.011_003_014.csv  \n",
       "1  1402932300.060_001_014.csv  1403708258.060_003_014.csv  \n",
       "2  1401117235.067_001_014.csv  1401978395.067_003_014.csv  \n",
       "3  1401114972.068_001_014.csv  1401980765.068_003_014.csv  \n",
       "4  1404311419.070_001_014.csv  1404743687.070_003_014.csv  "
      ]
     },
     "execution_count": 6,
     "metadata": {},
     "output_type": "execute_result"
    }
   ],
   "source": [
    "## importing the de-novo dataset \n",
    "de_novo = pd.read_csv('GT_DataPD_MIT-CS1PD.csv')\n",
    "# X = dataset.iloc[:, :-1].values\n",
    "# y = dataset.iloc[:, -1].values\n",
    "print(len(de_novo))\n",
    "de_novo[\"gt\"] = de_novo[\"gt\"].astype(int)\n",
    "de_novo.head()"
   ]
  },
  {
   "cell_type": "code",
   "execution_count": 7,
   "id": "5259add3",
   "metadata": {},
   "outputs": [],
   "source": [
    "##using both files \n",
    "hit_time_series = []\n",
    "for index, row in de_novo.iterrows():\n",
    "    fileloc1 = row.file_1\n",
    "    keyPressed, htArr1, pressArr, releaseArr =  nq.getDataFiltHelper( 'data_MIT-CS1PD/' + de_novo.loc[index]['file_1'])\n",
    "    htArr1 = np.array(htArr1)\n",
    "    keyPressed, htArr2, pressArr, releaseArr =  nq.getDataFiltHelper( 'data_MIT-CS1PD/' + de_novo.loc[index]['file_2'])\n",
    "    htArr2 = np.array(htArr2)\n",
    "    htArr =np.concatenate((htArr1,htArr2),axis =0)\n",
    "    htArr=np.array(htArr)\n",
    "    hit_time_series.append(htArr)\n",
    "X2 = hit_time_series "
   ]
  },
  {
   "cell_type": "code",
   "execution_count": 8,
   "id": "0d6eb85f",
   "metadata": {},
   "outputs": [
    {
     "name": "stdout",
     "output_type": "stream",
     "text": [
      "(85,)\n",
      "[1 1 0 1 1 1 1 1 0 0 0 0 1 0 0 1 1 1 0 0 1 1 1 1 0 0 0 0 0 1 0 1 0 1 0 0 0\n",
      " 1 0 0 0 1 0 0 0 0 1 0 0 0 1 1 1 0 1 0 1 0 1 1 1 1 1 1 0 0 1 0 1 0 1 0 1 0\n",
      " 1 0 1 0 1 1 0 0 1 1 0]\n"
     ]
    },
    {
     "name": "stderr",
     "output_type": "stream",
     "text": [
      "<__array_function__ internals>:5: VisibleDeprecationWarning: Creating an ndarray from ragged nested sequences (which is a list-or-tuple of lists-or-tuples-or ndarrays with different lengths or shapes) is deprecated. If you meant to do this, you must specify 'dtype=object' when creating the ndarray.\n"
     ]
    }
   ],
   "source": [
    "X = np.concatenate((X1,X2),axis=0)\n",
    "y=  np.concatenate((early_stage['gt'],de_novo[\"gt\"]),axis=0)\n",
    "print(X.shape)\n",
    "print(y)"
   ]
  },
  {
   "cell_type": "code",
   "execution_count": 9,
   "id": "91950d0b",
   "metadata": {},
   "outputs": [
    {
     "name": "stdout",
     "output_type": "stream",
     "text": [
      "0.11633377817478088\n"
     ]
    }
   ],
   "source": [
    "import itertools\n",
    "from sklearn.model_selection import train_test_split\n",
    "from sklearn.preprocessing import StandardScaler\n",
    "flat_list = list(itertools.chain(*X))\n",
    "value = sum(flat_list) / len(flat_list)\n",
    "print(value)\n",
    "X_padded =sequence.pad_sequences(X,dtype='float32',padding='post',maxlen=6000,value =0)\n",
    "sc = StandardScaler()\n",
    "X_padded = sc.fit_transform(X_padded)\n",
    "X_padded = np.reshape(X_padded,(85,6000,1))\n",
    "# X_train,X_test,y_train,y_test = train_test_split(X_padded,y,test_size=0.17,random_state=0)\n"
   ]
  },
  {
   "cell_type": "code",
   "execution_count": 10,
   "id": "e4bca9a9",
   "metadata": {},
   "outputs": [],
   "source": [
    "from sklearn.model_selection import GridSearchCV\n",
    "def create_model(n_conv_layers,n_filters,n_dense,dropout,kernel_size):\n",
    "    model = Sequential()\n",
    "    for i in range(int(n_conv_layers)):\n",
    "        model.add(Conv1D(filters=n_filters, kernel_size=kernel_size, activation='relu', input_shape=(6000,1)))\n",
    "        model.add(Dropout(dropout))\n",
    "    model.add(MaxPooling1D(pool_size=2))\n",
    "    model.add(Flatten())\n",
    "    model.add(Dense(n_dense, activation='relu'))\n",
    "    model.add(Dense(1, activation='sigmoid'))\n",
    "    model.compile(loss='binary_crossentropy', optimizer='adam', metrics=['accuracy'])\n",
    "    return model"
   ]
  },
  {
   "cell_type": "code",
   "execution_count": 11,
   "id": "5b4815ef",
   "metadata": {},
   "outputs": [],
   "source": [
    "from keras.wrappers.scikit_learn import KerasClassifier\n",
    "from sklearn.preprocessing import StandardScaler\n",
    "from sklearn.pipeline import Pipeline\n",
    "model = KerasClassifier(build_fn=create_model, verbose=1)\n",
    "pipe = Pipeline([('model', model)])"
   ]
  },
  {
   "cell_type": "code",
   "execution_count": 12,
   "id": "622a0aa1",
   "metadata": {
    "scrolled": false
   },
   "outputs": [],
   "source": [
    "# from sklearn.model_selection import StratifiedKFold\n",
    "# param_grid={\n",
    "#         'model__batch_size':[1], \n",
    "#         'model__epochs':[20],\n",
    "#         'model__dropout':[0.5],\n",
    "#         'model__n_conv_layers':[2],\n",
    "#         'model__n_filters':[64,128],\n",
    "#         'model__kernel_size':[2,3,5,11],\n",
    "#         'model__n_dense' :[100]\n",
    "           \n",
    "#         }\n",
    "# grid = GridSearchCV(estimator=pipe, param_grid=param_grid,pre_dispatch=7, cv=StratifiedKFold(5))\n",
    "# grid_result = grid.fit(X_padded, y)\n",
    "# print(\"Best: %f using %s\" % (grid_result.best_score_, grid_result.best_params_))\n",
    "# means = grid_result.cv_results_['mean_test_score']\n",
    "# stds = grid_result.cv_results_['std_test_score']\n",
    "# params = grid_result.cv_results_['params']\n",
    "# for mean, stdev, param in zip(means, stds, params):\n",
    "#     print(\"%f (%f) with: %r\" % (mean, stdev, param))\n"
   ]
  },
  {
   "cell_type": "code",
   "execution_count": 23,
   "id": "c20f9b0f",
   "metadata": {},
   "outputs": [
    {
     "name": "stdout",
     "output_type": "stream",
     "text": [
      "Running Fold 1 / 5\n",
      "Epoch 1/10\n",
      "68/68 [==============================] - 2s 18ms/step - loss: 3.1292 - accuracy: 0.5000\n",
      "Epoch 2/10\n",
      "68/68 [==============================] - 1s 17ms/step - loss: 0.7052 - accuracy: 0.6618\n",
      "Epoch 3/10\n",
      "68/68 [==============================] - 1s 17ms/step - loss: 0.6551 - accuracy: 0.6471\n",
      "Epoch 4/10\n",
      "68/68 [==============================] - 1s 17ms/step - loss: 0.5251 - accuracy: 0.8088\n",
      "Epoch 5/10\n",
      "68/68 [==============================] - 1s 17ms/step - loss: 0.5325 - accuracy: 0.7794\n",
      "Epoch 6/10\n",
      "68/68 [==============================] - 1s 17ms/step - loss: 0.3042 - accuracy: 0.9265\n",
      "Epoch 7/10\n",
      "68/68 [==============================] - 1s 17ms/step - loss: 0.2054 - accuracy: 0.9559\n",
      "Epoch 8/10\n",
      "68/68 [==============================] - 1s 17ms/step - loss: 0.2118 - accuracy: 0.9412\n",
      "Epoch 9/10\n",
      "68/68 [==============================] - 1s 17ms/step - loss: 0.3769 - accuracy: 0.9118\n",
      "Epoch 10/10\n",
      "68/68 [==============================] - 1s 18ms/step - loss: 0.3325 - accuracy: 0.9412\n",
      "1/1 [==============================] - 0s 122ms/step - loss: 4.0765 - accuracy: 0.4118\n",
      "Running Fold 2 / 5\n",
      "Epoch 1/10\n",
      "68/68 [==============================] - 1s 18ms/step - loss: 0.7663 - accuracy: 0.8382\n",
      "Epoch 2/10\n",
      "68/68 [==============================] - 1s 17ms/step - loss: 0.2091 - accuracy: 0.9706\n",
      "Epoch 3/10\n",
      "68/68 [==============================] - 1s 17ms/step - loss: 0.0163 - accuracy: 1.0000\n",
      "Epoch 4/10\n",
      "68/68 [==============================] - 1s 17ms/step - loss: 0.0238 - accuracy: 0.9853\n",
      "Epoch 5/10\n",
      "68/68 [==============================] - 1s 17ms/step - loss: 0.0044 - accuracy: 1.0000\n",
      "Epoch 6/10\n",
      "68/68 [==============================] - 1s 17ms/step - loss: 0.0011 - accuracy: 1.0000\n",
      "Epoch 7/10\n",
      "68/68 [==============================] - 1s 17ms/step - loss: 0.0010 - accuracy: 1.0000\n",
      "Epoch 8/10\n",
      "68/68 [==============================] - 1s 17ms/step - loss: 0.0061 - accuracy: 1.0000\n",
      "Epoch 9/10\n",
      "68/68 [==============================] - 1s 17ms/step - loss: 6.7901e-04 - accuracy: 1.0000\n",
      "Epoch 10/10\n",
      "68/68 [==============================] - 1s 17ms/step - loss: 4.7335e-04 - accuracy: 1.0000\n",
      "1/1 [==============================] - 0s 55ms/step - loss: 0.0117 - accuracy: 1.0000\n",
      "Running Fold 3 / 5\n",
      "Epoch 1/10\n",
      "68/68 [==============================] - 1s 17ms/step - loss: 0.0046 - accuracy: 1.0000\n",
      "Epoch 2/10\n",
      "68/68 [==============================] - 1s 17ms/step - loss: 0.0095 - accuracy: 1.0000\n",
      "Epoch 3/10\n",
      "68/68 [==============================] - 1s 17ms/step - loss: 7.2745e-04 - accuracy: 1.0000\n",
      "Epoch 4/10\n",
      "68/68 [==============================] - 1s 17ms/step - loss: 1.2863e-04 - accuracy: 1.0000\n",
      "Epoch 5/10\n",
      "68/68 [==============================] - 1s 17ms/step - loss: 4.6135e-05 - accuracy: 1.0000\n",
      "Epoch 6/10\n",
      "68/68 [==============================] - 1s 17ms/step - loss: 4.2143e-04 - accuracy: 1.0000\n",
      "Epoch 7/10\n",
      "68/68 [==============================] - 1s 17ms/step - loss: 1.4582e-04 - accuracy: 1.0000\n",
      "Epoch 8/10\n",
      "68/68 [==============================] - 1s 17ms/step - loss: 5.1294e-05 - accuracy: 1.0000\n",
      "Epoch 9/10\n",
      "68/68 [==============================] - 1s 17ms/step - loss: 4.4811e-05 - accuracy: 1.0000\n",
      "Epoch 10/10\n",
      "68/68 [==============================] - 1s 17ms/step - loss: 8.4594e-05 - accuracy: 1.0000\n",
      "1/1 [==============================] - 0s 56ms/step - loss: 1.4313e-04 - accuracy: 1.0000\n",
      "Running Fold 4 / 5\n",
      "Epoch 1/10\n",
      "68/68 [==============================] - 1s 18ms/step - loss: 1.3692e-04 - accuracy: 1.0000\n",
      "Epoch 2/10\n",
      "68/68 [==============================] - 1s 17ms/step - loss: 8.2108e-05 - accuracy: 1.0000\n",
      "Epoch 3/10\n",
      "68/68 [==============================] - 1s 17ms/step - loss: 9.6533e-05 - accuracy: 1.0000\n",
      "Epoch 4/10\n",
      "68/68 [==============================] - 1s 18ms/step - loss: 4.3119e-05 - accuracy: 1.0000\n",
      "Epoch 5/10\n",
      "68/68 [==============================] - 1s 17ms/step - loss: 4.6851e-05 - accuracy: 1.0000\n",
      "Epoch 6/10\n",
      "68/68 [==============================] - 1s 17ms/step - loss: 5.8630e-05 - accuracy: 1.0000\n",
      "Epoch 7/10\n",
      "68/68 [==============================] - 1s 17ms/step - loss: 1.9530e-05 - accuracy: 1.0000\n",
      "Epoch 8/10\n",
      "68/68 [==============================] - 1s 17ms/step - loss: 4.7989e-05 - accuracy: 1.0000\n",
      "Epoch 9/10\n",
      "68/68 [==============================] - 1s 17ms/step - loss: 4.4227e-05 - accuracy: 1.0000\n",
      "Epoch 10/10\n",
      "68/68 [==============================] - 1s 17ms/step - loss: 2.8639e-05 - accuracy: 1.0000\n",
      "1/1 [==============================] - 0s 57ms/step - loss: 2.2411e-06 - accuracy: 1.0000\n",
      "Running Fold 5 / 5\n",
      "Epoch 1/10\n",
      "68/68 [==============================] - 1s 17ms/step - loss: 7.8688e-05 - accuracy: 1.0000\n",
      "Epoch 2/10\n",
      "68/68 [==============================] - 1s 17ms/step - loss: 1.0134e-04 - accuracy: 1.0000\n",
      "Epoch 3/10\n",
      "68/68 [==============================] - 1s 18ms/step - loss: 5.9253e-05 - accuracy: 1.0000\n",
      "Epoch 4/10\n",
      "68/68 [==============================] - 1s 17ms/step - loss: 2.0695e-05 - accuracy: 1.0000\n",
      "Epoch 5/10\n",
      "68/68 [==============================] - 1s 17ms/step - loss: 4.5255e-05 - accuracy: 1.0000\n",
      "Epoch 6/10\n",
      "68/68 [==============================] - 1s 17ms/step - loss: 1.6527e-05 - accuracy: 1.0000\n",
      "Epoch 7/10\n",
      "68/68 [==============================] - 1s 18ms/step - loss: 1.1817e-05 - accuracy: 1.0000\n",
      "Epoch 8/10\n",
      "68/68 [==============================] - 1s 17ms/step - loss: 1.4849e-05 - accuracy: 1.0000\n",
      "Epoch 9/10\n",
      "68/68 [==============================] - 1s 17ms/step - loss: 2.1247e-05 - accuracy: 1.0000\n",
      "Epoch 10/10\n",
      "68/68 [==============================] - 1s 17ms/step - loss: 5.2363e-06 - accuracy: 1.0000\n",
      "1/1 [==============================] - 0s 58ms/step - loss: 1.9433e-05 - accuracy: 1.0000\n",
      "0.8823529422283173\n",
      "\n",
      "Mean accuracy of the crossvalidation: 0.8823529422283173\n"
     ]
    }
   ],
   "source": [
    "from sklearn.model_selection import cross_val_score\n",
    "import keras\n",
    "from sklearn.model_selection import StratifiedKFold\n",
    "model2 = Sequential()\n",
    "for i in range(int(2)):\n",
    "    model2.add(Conv1D(filters=256, kernel_size=3, activation='relu', input_shape=(6000,1)))\n",
    "    model2.add(Dropout(0.5))\n",
    "model2.add(MaxPooling1D(pool_size=2))\n",
    "model2.add(Flatten())\n",
    "model2.add(Dense(100, activation='relu'))\n",
    "model2.add(Dense(1, activation='sigmoid'))\n",
    "model2.compile(loss='binary_crossentropy', optimizer='adam', metrics=['accuracy'])\n",
    "\n",
    "\n",
    "\n",
    "n_folds = 5\n",
    "skf = StratifiedKFold(n_splits=n_folds, shuffle=True)\n",
    "skf = skf.split(X_padded,y)\n",
    "\n",
    "cv_score = []\n",
    "\n",
    "for i, (train, test) in enumerate(skf):\n",
    "    # currently keras doesn't have like model.reset(), so the easiest way\n",
    "    # recompiling our model in every step of the loop see below more\n",
    "    # create model\n",
    "  \n",
    "\n",
    "    print(\"Running Fold\", i+1, \"/\", n_folds)\n",
    "    model2.fit(X_padded[train],y[train] ,epochs=10, batch_size=1)\n",
    "    result = model2.evaluate(X_padded[test], y[test])\n",
    "    # if we want only the accuracy metric\n",
    "    cv_score.append(result[1])\n",
    "    keras.backend.clear_session()\n",
    "print(np.mean(cv_score))\n",
    "print(\"\\nMean accuracy of the crossvalidation: {}\".format(np.mean(cv_score),np.std(cv_score)))"
   ]
  },
  {
   "cell_type": "code",
   "execution_count": 24,
   "id": "96baf806",
   "metadata": {},
   "outputs": [
    {
     "data": {
      "text/plain": [
       "[0.4117647111415863, 1.0, 1.0, 1.0, 1.0]"
      ]
     },
     "execution_count": 24,
     "metadata": {},
     "output_type": "execute_result"
    }
   ],
   "source": [
    "cv_score\n"
   ]
  },
  {
   "cell_type": "code",
   "execution_count": null,
   "id": "146e16de",
   "metadata": {},
   "outputs": [],
   "source": [
    "total_scores = [0.529411792755127, 1.0, 1.0, 0.8235294222831726, 1.0,0.4117647111415863, 1.0, 1.0, 1.0, 1.0]"
   ]
  }
 ],
 "metadata": {
  "kernelspec": {
   "display_name": "Python 3 (ipykernel)",
   "language": "python",
   "name": "python3"
  },
  "language_info": {
   "codemirror_mode": {
    "name": "ipython",
    "version": 3
   },
   "file_extension": ".py",
   "mimetype": "text/x-python",
   "name": "python",
   "nbconvert_exporter": "python",
   "pygments_lexer": "ipython3",
   "version": "3.9.12"
  }
 },
 "nbformat": 4,
 "nbformat_minor": 5
}
